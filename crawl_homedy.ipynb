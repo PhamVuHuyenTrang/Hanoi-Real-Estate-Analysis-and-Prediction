{
 "cells": [
  {
   "cell_type": "code",
   "execution_count": 34,
   "metadata": {},
   "outputs": [],
   "source": [
    "import random\n",
    "import time\n",
    "from datetime import datetime\n",
    "from IPython.display import clear_output\n",
    "import pandas as pd\n",
    "from bs4 import BeautifulSoup \n",
    "from selenium import webdriver\n",
    "from  lxml import etree\n",
    "import json \n",
    "import os\n",
    "from tqdm import tqdm\n",
    "import traceback\n",
    "import undetected_chromedriver as uc"
   ]
  },
  {
   "cell_type": "code",
   "execution_count": null,
   "metadata": {},
   "outputs": [],
   "source": []
  },
  {
   "cell_type": "code",
   "execution_count": null,
   "metadata": {},
   "outputs": [],
   "source": [
    "service = webdriver.edge.service.Service(\"edgedriver_win64\\msedgedriver.exe\")\n",
    "driver = webdriver.Edge(service=service)\n",
    "url = \"https://homedy.com/ban-can-ho-quan-dong-da-ha-noi/cdt-chung-cu-van-mieu-nguyen-thai-hoc-gan-hoan-kiem-es1882888\"\n",
    "driver.get(url)\n",
    "bs = BeautifulSoup(driver.page_source)\n",
    "\n",
    "page = etree.HTML(str(bs))\n",
    "\n",
    "\n",
    "links = []\n",
    "for i in page.xpath(\"\"\"//*[@id=\"MainPage\"]/div[3]/div[2]\"\"\")[0].getchildren():\n",
    "    try:\n",
    "        links.append(i.getchildren()[0][0].get(\"href\"))\n",
    "    except Exception as e:\n",
    "        print(e)\n",
    "links = [link for link in links if link != None]\n",
    "print(links)"
   ]
  },
  {
   "cell_type": "code",
   "execution_count": null,
   "metadata": {},
   "outputs": [],
   "source": [
    "!pip install undetected_chromedriver"
   ]
  },
  {
   "cell_type": "code",
   "execution_count": 48,
   "metadata": {},
   "outputs": [
    {
     "name": "stdout",
     "output_type": "stream",
     "text": [
      "list index out of range when get page\n",
      "list index out of range when get page\n",
      "18 ['/ban-can-ho-van-phu-victoria/chinh-chu-dep-tang-cao-v2-es1855806', '/ban-nha-mat-pho-quan-hoang-mai-ha-noi/duong-giap-bat-70m2-5-tang-vi-tri-dep-nhat-kinh-doanh-da-dang-gia-106-ty-es2047975', '/ban-can-ho-quan-dong-da-ha-noi/chung-cu-ton-duc-thang-hao-nam-de-la-thanh-35m2-52m2-vao-o-ngay-es1276916', '/ban-can-ho-quan-hai-ba-trung-ha-noi/chung-cu-tran-khat-chan-thanh-nhan-tu-850tr-nha-moi-dep-es1223681', '/ban-can-ho-quan-dong-da-ha-noi/cdt-chung-cu-van-mieu-nguyen-thai-hoc-gan-hoan-kiem-es1882888', '/ban-can-ho-quan-ba-dinh-ha-noi/chung-cu-mini-doi-lieu-giai-tu-600tr-tach-so-35m2-65m2-o-to-do-cua-es2047455', '/ban-can-ho-quan-dong-da-ha-noi/chu-dau-tu-chung-cu-mini-hao-nam-sieu-dep-chi-hon-600tr-1-3-ngu-o-to-do-gan-es1553410', '/ban-can-ho-vinhomes-smart-city/duy-nhat-3pn-2wc-82m2-nhinh-33-ty-tang-trung-view-sieu-thoang-qua-khung-650-trieu-es2035626', '/ban-can-ho-quan-hai-ba-trung-ha-noi/chung-cu-a5-lo-duc-vo-thi-sau-bach-mai-cong-vien-tuoi-tre-tu-30-68m2-2-3-ngu-600tr-es2045165', '/ban-can-ho-quan-hai-ba-trung-ha-noi/chung-cu-mini-luong-khanh-thien-nam-gan-pho-tan-mai-truong-dinh-bach-es2027469', '/ban-can-ho-quan-tay-ho-ha-noi/chinh-chu-chung-cu-v2-vo-chi-cong-xuan-la-35-50m2-nhan-nha-o-ngay-tang-vang-9999-es1989230', '/ban-can-ho-quan-dong-da-ha-noi/gap-chung-cu-nh3-xa-dan-chua-boc-gia-tu-570tr-es1927859', '/ban-can-ho-vinhomes-smart-city/gap-3pn-thong-minh-70m2-sakura-full-noi-that-nhat-qua-tang-hon-400-trieu-es2042651', '/ban-can-ho-quan-tay-ho-ha-noi/chinh-chu-mo-chung-cu-mini-vo-chi-cong-xuan-la-tu-550tr-full-that-es2030895', '/ban-can-ho-quan-dong-da-ha-noi/new-hot-mo-chung-cu-ht2-tay-son-vinh-nga-tu-so-28-50m2-chi-550tr-es1961060', '/ban-can-ho-the-zei-my-dinh/chi-365-ty-truc-tiep-chu-dau-tu-quy-du-an-chuyen-nhuong-gia-tot-nhat-thi-truong-es1609078', '/ban-can-ho-quan-hai-ba-trung-ha-noi/chinh-chu-dau-tu-chung-cu-mini-lo-duc-kim-nguu-gia-re-1-3-ngu-o-to-do-cua-tach-so-hong-es1931801', '/ban-can-ho-quan-tay-ho-ha-noi/chu-dau-tu-chung-cu-mat-trich-sai-50m2-96m2-gia-600-tr-12-ty-so-do-vinh-vien-es1576356']\n"
     ]
    }
   ],
   "source": [
    "service = webdriver.edge.service.Service(\"edgedriver_win64\\msedgedriver.exe\")\n",
    "\n",
    "\n",
    "\n",
    "options = webdriver.ChromeOptions() \n",
    "options.add_argument(\"start-maximized\")\n",
    "driver = uc.Chrome(options=options)\n",
    "\n",
    "url = \"https://homedy.com/ban-nha-dat-ha-noi\"\n",
    "driver.get(url)\n",
    "bs = BeautifulSoup(driver.page_source)\n",
    "\n",
    "page = etree.HTML(str(bs))\n",
    "\n",
    "oelements = bs.find_all(\"div\", {\"class\": \"product-attributes--item\"})\n",
    "    try:\n",
    "        for feature in oelements:\n",
    "            feature = feature.find_all(\"span\")\n",
    "            key = feature[0].text\n",
    "            value = feature[1].text\n",
    "            data[key] = value\n",
    "        if \"Mã tin\" in data:\n",
    "            data[\"id\"] = \"batdongsan_com_vn_\" + str(data[\"Mã tin\"])\n",
    "        else:\n",
    "            data[\"id\"] = \"batdongsan_com_vn_\" + str(time.time())\n",
    "    except Exception as e:\n",
    "        print(e)\n",
    "        import pdb\n",
    "        pdb.set_trace()\n",
    "\n",
    "list_items = page.xpath(\"\"\"/html/body/div[1]/div[5]/div[2]/div[2]/div/div[1]/div/div[3]\"\"\")[0].getchildren()\n",
    "for item in list_items:\n",
    "    key, value = item.getchildren()\n",
    "    data[key.text] = value.text"
   ]
  },
  {
   "cell_type": "code",
   "execution_count": null,
   "metadata": {},
   "outputs": [],
   "source": [
    "\n"
   ]
  },
  {
   "cell_type": "code",
   "execution_count": 35,
   "metadata": {},
   "outputs": [],
   "source": [
    "\n",
    "\n",
    "\n",
    "class crawling:\n",
    "    \n",
    "    def __init__(self,):\n",
    "        self.home_page = \"https://homedy.com/ban-nha-dat-ha-noi\"\n",
    "        self.root = \"https://homedy.com\"\n",
    "        self.page = 1\n",
    "\n",
    "    \n",
    "    def get_pages(self, page_source):\n",
    "        bs = BeautifulSoup(page_source)\n",
    "        page = etree.HTML(str(bs))\n",
    "\n",
    "        links = []\n",
    "        for i in page.xpath(\"\"\"//*[@id=\"MainPage\"]/div[3]/div[2]\"\"\")[0].getchildren():\n",
    "            try:\n",
    "                links.append(i.getchildren()[0][0].get(\"href\"))\n",
    "            except Exception as e:\n",
    "                print(e,  \"when get page\")\n",
    "        links = [link for link in links if link != None]\n",
    "        return [self.root+link for link in links]\n",
    "    \n",
    "    def next_page(self):\n",
    "        self.page += 1\n",
    "        return  self.home_page + \"f/p{self.page}\"\n",
    "\n",
    "    def get_id(self, page_source):\n",
    "        bs = BeautifulSoup(page_source)\n",
    "        page = etree.HTML(str(bs))\n",
    "        \n",
    "        id = page.xpath(\"\"\"/html/body/div[1]/div[5]/div[2]/div[2]/div/div[1]/div/div[10]/div[4]/p[2]\"\"\")[0].text\n",
    "        \n",
    "        return id\n",
    "    \n",
    "    def gather(self, page_source):\n",
    "        data = {}\n",
    "        bs = BeautifulSoup(page_source)\n",
    "        page = etree.HTML(str(bs))\n",
    "        \n",
    "        #get title  #done\n",
    "        title = page.xpath(\"\"\"/html/body/div[1]/div[5]/div[2]/div[2]/div/div[1]/div/div[1]/div/h1\"\"\")[0].text\n",
    "        data[\"title\"] = title\n",
    "\n",
    "        #get price \n",
    "        price = ''.join(page.xpath(\"\"\"/html/body/div[1]/div[5]/div[2]/div[2]/div/div[1]/div/div[1]/div/div[3]/div[1]/div[1]/strong\"\"\")[0].itertext())\n",
    "        #unit = page.xpath(\"\"\"/html/body/div[1]/div[5]/div[2]/div[2]/div/div[1]/div/div[1]/div/div[3]/div[1]/div[1]/strong\"\"\")[0].getchildren()[1].text\n",
    "        data[\"Price\"] = price\n",
    "        #data[\"Unit\"] = unit\n",
    "\n",
    "        #get address #done\n",
    "        address =  page.xpath(\"\"\"/html/body/div[1]/div[5]/div[2]/div[2]/div/div[1]/div/div[1]/div/div[2]/a\"\"\")[0].get(\"title\")\n",
    "        address = [i.strip() for i in address.split(\",\")[::-1]]\n",
    "        data[\"address\"] = address\n",
    "        \n",
    "\n",
    "        #get general description # done\n",
    "        descrip = ''.join(page.xpath(\"\"\"//*[@id=\"readmore\"]\"\"\")[0].itertext())\n",
    "        data[\"gen_descrip\"] = descrip\n",
    "\n",
    "        #get product attributes\n",
    "        \n",
    "        list_items = page.xpath(\"\"\"/html/body/div[1]/div[5]/div[2]/div[2]/div/div[1]/div/div[3]\"\"\")[0].getchildren()\n",
    "        for item in list_items:\n",
    "            key, value = item.getchildren()\n",
    "            data[key.text] = value.text\n",
    "            \n",
    "        #get furniture  \n",
    "        list_furs = page.xpath(\"\"\"/html/body/div[1]/div[5]/div[2]/div[2]/div/div[1]/div/div[4]/div/div[2]\"\"\")[0].getchildren()\n",
    "        for fur in list_furs:\n",
    "            name_fur = fur.getchildren()[1].text\n",
    "            data[name_fur] = 1  \n",
    "           \n",
    "        # product informations\n",
    "        infors = page.xpath(\"\"\"/html/body/div[1]/div[5]/div[2]/div[2]/div/div[1]/div/div[10]\"\"\")[0].getchildren()\n",
    "        for infor in infors:\n",
    "            key, value = infor.getchildren()\n",
    "            data[key.text] = value.text\n",
    "        return data\n",
    "    def run(self, start, num_of_pages):\n",
    "        service = webdriver.edge.service.Service(\"edgedriver_win64\\msedgedriver.exe\")\n",
    "        driver = webdriver.Edge(service=service)\n",
    "\n",
    "        \"\"\" options = webdriver.ChromeOptions() \n",
    "        options.add_argument(\"start-maximized\")\n",
    "        driver = uc.Chrome(options=options) \"\"\"\n",
    "\n",
    "        url = self.home_page\n",
    "        self.page = 1\n",
    "        if start != 1:\n",
    "            self.page = start\n",
    "            url = self.home_page+f\"/p{self.page}\"\n",
    "        if os.path.exists(\"data/index.json\"):\n",
    "            with open(\"data/index.json\") as f:\n",
    "                index = set(json.load(f))\n",
    "        else:\n",
    "            index = set()\n",
    "            \n",
    "        with open(\"log.txt\", \"w\") as f:\n",
    "            pass\n",
    "        \n",
    "        dataset = []\n",
    "        for i in range(num_of_pages):\n",
    "            num = 10\n",
    "            pages = []\n",
    "            while num > 0:\n",
    "                try:\n",
    "                    driver.get(url)\n",
    "                    time.sleep(5)\n",
    "                    pages = self.get_pages(driver.page_source)\n",
    "                    driver.delete_all_cookies()\n",
    "                    break\n",
    "                except:\n",
    "                    num -= 1\n",
    "            if num <= 0:\n",
    "                url = self.next_page()\n",
    "                continue\n",
    "            #driver.close()\n",
    "            #service = webdriver.edge.service.Service(\"edgedriver_win64\\msedgedriver.exe\")\n",
    "            #driver = webdriver.Edge(service=service)\n",
    "            for page in tqdm(pages):\n",
    "                num = 5\n",
    "                \n",
    "\n",
    "                while num > 0:\n",
    "                    try:\n",
    "                        driver.get(page)\n",
    "                        time.sleep(5)\n",
    "\n",
    "                        id = self.get_id(driver.page_source)\n",
    "                        if id in index: break\n",
    "\n",
    "                        data = self.gather(driver.page_source)\n",
    "                        \n",
    "                        if data[\"ID tin\"] not in index:\n",
    "                            dataset.append(data)\n",
    "                            index.add(data[\"ID tin\"])\n",
    "                        with open(\"log.txt\", \"a\") as f:\n",
    "                            f.write(\"Success:\" + page +\"\\n\")\n",
    "                        driver.delete_all_cookies()\n",
    "                        break\n",
    "                    except Exception as e:\n",
    "                        print(e, \"unknown\")\n",
    "                        with open(\"log.txt\", \"a\") as f:\n",
    "                            f.write(f\"Excution{5-num}: {page}\"+\"\\n\") \n",
    "                            #f.write(traceback.format_exc()+\"\\n\")\n",
    "                        driver.delete_all_cookies()\n",
    "                        num -= 1\n",
    "            url = self.next_page()\n",
    "        if len(dataset) != 0:\n",
    "            df = pd.DataFrame(dataset)\n",
    "            df.to_csv(f\"data/{start}_{start+num_of_pages}_{time.time()}.csv\", index=False)\n",
    "        with open(\"data/index.json\", \"w\") as f:\n",
    "            json.dump(list(index), f)\n",
    "        driver.close()\n",
    "        \n",
    "craw = crawling()"
   ]
  },
  {
   "cell_type": "code",
   "execution_count": null,
   "metadata": {},
   "outputs": [],
   "source": [
    "c = crawling()"
   ]
  },
  {
   "cell_type": "code",
   "execution_count": 37,
   "metadata": {},
   "outputs": [
    {
     "name": "stderr",
     "output_type": "stream",
     "text": [
      "  0%|          | 0/15 [00:00<?, ?it/s]"
     ]
    },
    {
     "name": "stdout",
     "output_type": "stream",
     "text": [
      "list index out of range unknown\n",
      "list index out of range unknown\n",
      "list index out of range unknown\n",
      "list index out of range unknown\n"
     ]
    },
    {
     "name": "stderr",
     "output_type": "stream",
     "text": []
    },
    {
     "name": "stdout",
     "output_type": "stream",
     "text": [
      "list index out of range unknown\n",
      "list index out of range unknown\n",
      "list index out of range unknown\n",
      "list index out of range unknown\n",
      "list index out of range unknown\n"
     ]
    },
    {
     "name": "stderr",
     "output_type": "stream",
     "text": []
    },
    {
     "name": "stdout",
     "output_type": "stream",
     "text": [
      "list index out of range unknown\n",
      "list index out of range unknown\n",
      "list index out of range unknown\n",
      "list index out of range unknown\n",
      "list index out of range unknown\n"
     ]
    },
    {
     "name": "stderr",
     "output_type": "stream",
     "text": []
    },
    {
     "name": "stdout",
     "output_type": "stream",
     "text": [
      "list index out of range unknown\n"
     ]
    },
    {
     "name": "stderr",
     "output_type": "stream",
     "text": []
    },
    {
     "name": "stdout",
     "output_type": "stream",
     "text": [
      "list index out of range unknown\n",
      "list index out of range unknown\n",
      "list index out of range unknown\n",
      "list index out of range unknown\n"
     ]
    },
    {
     "name": "stderr",
     "output_type": "stream",
     "text": []
    },
    {
     "name": "stdout",
     "output_type": "stream",
     "text": [
      "list index out of range unknown\n",
      "Message: timeout: Timed out receiving message from renderer: 300.000\n",
      "  (Session info: MicrosoftEdge=107.0.1418.56)\n",
      "Stacktrace:\n",
      "Backtrace:\n",
      "\tMicrosoft::Applications::Events::EventProperties::SetProperty [0x00007FF7AF7A8552+9986]\n",
      "\tMicrosoft::Applications::Events::EventProperty::EventProperty [0x00007FF7AF745D82+1445234]\n",
      "\tOrdinal0 [0x00007FF7AF32FC8C+654476]\n",
      "\tOrdinal0 [0x00007FF7AF31B253+569939]\n",
      "\tOrdinal0 [0x00007FF7AF31AF68+569192]\n",
      "\tOrdinal0 [0x00007FF7AF319CDD+564445]\n",
      "\tOrdinal0 [0x00007FF7AF31A2AE+565934]\n",
      "\tOrdinal0 [0x00007FF7AF325C45+613445]\n",
      "\tOrdinal0 [0x00007FF7AF339A77+694903]\n",
      "\tOrdinal0 [0x00007FF7AF33E899+714905]\n",
      "\tOrdinal0 [0x00007FF7AF317B4C+555852]\n",
      "\tOrdinal0 [0x00007FF7AF31A763+567139]\n",
      "\tOrdinal0 [0x00007FF7AF3397B6+694198]\n",
      "\tOrdinal0 [0x00007FF7AF3ACE48+1166920]\n",
      "\tOrdinal0 [0x00007FF7AF3939B3+1063347]\n",
      "\tOrdinal0 [0x00007FF7AF36506A+872554]\n",
      "\tOrdinal0 [0x00007FF7AF36402E+868398]\n",
      "\tOrdinal0 [0x00007FF7AF36570F+874255]\n",
      "\tMicrosoft::Applications::Events::EventProperty::EventProperty [0x00007FF7AF606108+135416]\n",
      "\tMicrosoft::Applications::Events::EventProperty::EventProperty [0x00007FF7AF5F02CF+45759]\n",
      "\tMicrosoft::Applications::Events::EventProperty::EventProperty [0x00007FF7AF5F374C+59196]\n",
      "\tOrdinal0 [0x00007FF7AF43B1F4+1749492]\n",
      "\tMicrosoft::Applications::Events::EventProperty::EventProperty [0x00007FF7AF74B67A+1468010]\n",
      "\tMicrosoft::Applications::Events::EventProperty::EventProperty [0x00007FF7AF74FF14+1486596]\n",
      "\tMicrosoft::Applications::Events::EventProperty::EventProperty [0x00007FF7AF75006D+1486941]\n",
      "\tMicrosoft::Applications::Events::EventProperty::EventProperty [0x00007FF7AF757E2B+1519131]\n",
      "\tBaseThreadInitThunk [0x00007FFEEEBA54E0+16]\n",
      "\tRtlUserThreadStart [0x00007FFEEFA6485B+43]\n",
      " unknown\n"
     ]
    },
    {
     "name": "stderr",
     "output_type": "stream",
     "text": [
      " 78%|███████▊  | 14/18 [24:57<07:07, 107.00s/it]\n",
      "  0%|          | 0/15 [26:11<?, ?it/s]\n"
     ]
    },
    {
     "ename": "TimeoutException",
     "evalue": "Message: timeout: Timed out receiving message from renderer: 300.000\n  (Session info: MicrosoftEdge=107.0.1418.56)\nStacktrace:\nBacktrace:\n\tMicrosoft::Applications::Events::EventProperties::SetProperty [0x00007FF7AF7A8552+9986]\n\tMicrosoft::Applications::Events::EventProperty::EventProperty [0x00007FF7AF745D82+1445234]\n\tOrdinal0 [0x00007FF7AF32FC8C+654476]\n\tOrdinal0 [0x00007FF7AF31B253+569939]\n\tOrdinal0 [0x00007FF7AF31AF68+569192]\n\tOrdinal0 [0x00007FF7AF319CDD+564445]\n\tOrdinal0 [0x00007FF7AF31A2AE+565934]\n\tOrdinal0 [0x00007FF7AF325C45+613445]\n\tOrdinal0 [0x00007FF7AF339A77+694903]\n\tOrdinal0 [0x00007FF7AF33E899+714905]\n\tOrdinal0 [0x00007FF7AF317B4C+555852]\n\tOrdinal0 [0x00007FF7AF31A763+567139]\n\tOrdinal0 [0x00007FF7AF3397B6+694198]\n\tOrdinal0 [0x00007FF7AF3ACE48+1166920]\n\tOrdinal0 [0x00007FF7AF3939B3+1063347]\n\tOrdinal0 [0x00007FF7AF36506A+872554]\n\tOrdinal0 [0x00007FF7AF36402E+868398]\n\tOrdinal0 [0x00007FF7AF36570F+874255]\n\tMicrosoft::Applications::Events::EventProperty::EventProperty [0x00007FF7AF606108+135416]\n\tMicrosoft::Applications::Events::EventProperty::EventProperty [0x00007FF7AF5F02CF+45759]\n\tMicrosoft::Applications::Events::EventProperty::EventProperty [0x00007FF7AF5F374C+59196]\n\tOrdinal0 [0x00007FF7AF43B1F4+1749492]\n\tMicrosoft::Applications::Events::EventProperty::EventProperty [0x00007FF7AF74B67A+1468010]\n\tMicrosoft::Applications::Events::EventProperty::EventProperty [0x00007FF7AF74FF14+1486596]\n\tMicrosoft::Applications::Events::EventProperty::EventProperty [0x00007FF7AF75006D+1486941]\n\tMicrosoft::Applications::Events::EventProperty::EventProperty [0x00007FF7AF757E2B+1519131]\n\tBaseThreadInitThunk [0x00007FFEEEBA54E0+16]\n\tRtlUserThreadStart [0x00007FFEEFA6485B+43]\n",
     "output_type": "error",
     "traceback": [
      "\u001b[1;31m---------------------------------------------------------------------------\u001b[0m",
      "\u001b[1;31mTimeoutException\u001b[0m                          Traceback (most recent call last)",
      "\u001b[1;32mc:\\Users\\TuanAnh\\OneDrive - Hanoi University of Science and Technology\\20221\\Introduction to DataScience\\crawling\\craw.ipynb Cell 9\u001b[0m in \u001b[0;36mcrawling.run\u001b[1;34m(self, start, num_of_pages)\u001b[0m\n\u001b[0;32m    <a href='vscode-notebook-cell:/c%3A/Users/TuanAnh/OneDrive%20-%20Hanoi%20University%20of%20Science%20and%20Technology/20221/Introduction%20to%20DataScience/crawling/craw.ipynb#W5sZmlsZQ%3D%3D?line=125'>126</a>\u001b[0m time\u001b[39m.\u001b[39msleep(\u001b[39m5\u001b[39m)\n\u001b[1;32m--> <a href='vscode-notebook-cell:/c%3A/Users/TuanAnh/OneDrive%20-%20Hanoi%20University%20of%20Science%20and%20Technology/20221/Introduction%20to%20DataScience/crawling/craw.ipynb#W5sZmlsZQ%3D%3D?line=127'>128</a>\u001b[0m \u001b[39mid\u001b[39m \u001b[39m=\u001b[39m \u001b[39mself\u001b[39m\u001b[39m.\u001b[39mget_id(driver\u001b[39m.\u001b[39;49mpage_source)\n\u001b[0;32m    <a href='vscode-notebook-cell:/c%3A/Users/TuanAnh/OneDrive%20-%20Hanoi%20University%20of%20Science%20and%20Technology/20221/Introduction%20to%20DataScience/crawling/craw.ipynb#W5sZmlsZQ%3D%3D?line=128'>129</a>\u001b[0m \u001b[39mif\u001b[39;00m \u001b[39mid\u001b[39m \u001b[39min\u001b[39;00m index: \u001b[39mbreak\u001b[39;00m\n",
      "File \u001b[1;32mc:\\Users\\TuanAnh\\anaconda3\\lib\\site-packages\\selenium\\webdriver\\remote\\webdriver.py:550\u001b[0m, in \u001b[0;36mWebDriver.page_source\u001b[1;34m(self)\u001b[0m\n\u001b[0;32m    542\u001b[0m \u001b[39m\"\"\"\u001b[39;00m\n\u001b[0;32m    543\u001b[0m \u001b[39mGets the source of the current page.\u001b[39;00m\n\u001b[0;32m    544\u001b[0m \n\u001b[1;32m   (...)\u001b[0m\n\u001b[0;32m    548\u001b[0m \u001b[39m        driver.page_source\u001b[39;00m\n\u001b[0;32m    549\u001b[0m \u001b[39m\"\"\"\u001b[39;00m\n\u001b[1;32m--> 550\u001b[0m \u001b[39mreturn\u001b[39;00m \u001b[39mself\u001b[39;49m\u001b[39m.\u001b[39;49mexecute(Command\u001b[39m.\u001b[39;49mGET_PAGE_SOURCE)[\u001b[39m\"\u001b[39m\u001b[39mvalue\u001b[39m\u001b[39m\"\u001b[39m]\n",
      "File \u001b[1;32mc:\\Users\\TuanAnh\\anaconda3\\lib\\site-packages\\selenium\\webdriver\\remote\\webdriver.py:444\u001b[0m, in \u001b[0;36mWebDriver.execute\u001b[1;34m(self, driver_command, params)\u001b[0m\n\u001b[0;32m    443\u001b[0m \u001b[39mif\u001b[39;00m response:\n\u001b[1;32m--> 444\u001b[0m     \u001b[39mself\u001b[39;49m\u001b[39m.\u001b[39;49merror_handler\u001b[39m.\u001b[39;49mcheck_response(response)\n\u001b[0;32m    445\u001b[0m     response[\u001b[39m\"\u001b[39m\u001b[39mvalue\u001b[39m\u001b[39m\"\u001b[39m] \u001b[39m=\u001b[39m \u001b[39mself\u001b[39m\u001b[39m.\u001b[39m_unwrap_value(response\u001b[39m.\u001b[39mget(\u001b[39m\"\u001b[39m\u001b[39mvalue\u001b[39m\u001b[39m\"\u001b[39m, \u001b[39mNone\u001b[39;00m))\n",
      "File \u001b[1;32mc:\\Users\\TuanAnh\\anaconda3\\lib\\site-packages\\selenium\\webdriver\\remote\\errorhandler.py:249\u001b[0m, in \u001b[0;36mErrorHandler.check_response\u001b[1;34m(self, response)\u001b[0m\n\u001b[0;32m    248\u001b[0m     \u001b[39mraise\u001b[39;00m exception_class(message, screen, stacktrace, alert_text)  \u001b[39m# type: ignore[call-arg]  # mypy is not smart enough here\u001b[39;00m\n\u001b[1;32m--> 249\u001b[0m \u001b[39mraise\u001b[39;00m exception_class(message, screen, stacktrace)\n",
      "\u001b[1;31mTimeoutException\u001b[0m: Message: timeout: Timed out receiving message from renderer: 300.000\n  (Session info: MicrosoftEdge=107.0.1418.56)\nStacktrace:\nBacktrace:\n\tMicrosoft::Applications::Events::EventProperties::SetProperty [0x00007FF7AF7A8552+9986]\n\tMicrosoft::Applications::Events::EventProperty::EventProperty [0x00007FF7AF745D82+1445234]\n\tOrdinal0 [0x00007FF7AF32FC8C+654476]\n\tOrdinal0 [0x00007FF7AF31B253+569939]\n\tOrdinal0 [0x00007FF7AF31AF68+569192]\n\tOrdinal0 [0x00007FF7AF319CDD+564445]\n\tOrdinal0 [0x00007FF7AF31A2AE+565934]\n\tOrdinal0 [0x00007FF7AF325C45+613445]\n\tOrdinal0 [0x00007FF7AF339A77+694903]\n\tOrdinal0 [0x00007FF7AF33E899+714905]\n\tOrdinal0 [0x00007FF7AF317B4C+555852]\n\tOrdinal0 [0x00007FF7AF31A763+567139]\n\tOrdinal0 [0x00007FF7AF3397B6+694198]\n\tOrdinal0 [0x00007FF7AF3ACE48+1166920]\n\tOrdinal0 [0x00007FF7AF3939B3+1063347]\n\tOrdinal0 [0x00007FF7AF36506A+872554]\n\tOrdinal0 [0x00007FF7AF36402E+868398]\n\tOrdinal0 [0x00007FF7AF36570F+874255]\n\tMicrosoft::Applications::Events::EventProperty::EventProperty [0x00007FF7AF606108+135416]\n\tMicrosoft::Applications::Events::EventProperty::EventProperty [0x00007FF7AF5F02CF+45759]\n\tMicrosoft::Applications::Events::EventProperty::EventProperty [0x00007FF7AF5F374C+59196]\n\tOrdinal0 [0x00007FF7AF43B1F4+1749492]\n\tMicrosoft::Applications::Events::EventProperty::EventProperty [0x00007FF7AF74B67A+1468010]\n\tMicrosoft::Applications::Events::EventProperty::EventProperty [0x00007FF7AF74FF14+1486596]\n\tMicrosoft::Applications::Events::EventProperty::EventProperty [0x00007FF7AF75006D+1486941]\n\tMicrosoft::Applications::Events::EventProperty::EventProperty [0x00007FF7AF757E2B+1519131]\n\tBaseThreadInitThunk [0x00007FFEEEBA54E0+16]\n\tRtlUserThreadStart [0x00007FFEEFA6485B+43]\n",
      "\nDuring handling of the above exception, another exception occurred:\n",
      "\u001b[1;31mTimeoutException\u001b[0m                          Traceback (most recent call last)",
      "\u001b[1;32mc:\\Users\\TuanAnh\\OneDrive - Hanoi University of Science and Technology\\20221\\Introduction to DataScience\\crawling\\craw.ipynb Cell 9\u001b[0m in \u001b[0;36m<cell line: 1>\u001b[1;34m()\u001b[0m\n\u001b[0;32m      <a href='vscode-notebook-cell:/c%3A/Users/TuanAnh/OneDrive%20-%20Hanoi%20University%20of%20Science%20and%20Technology/20221/Introduction%20to%20DataScience/crawling/craw.ipynb#W5sZmlsZQ%3D%3D?line=0'>1</a>\u001b[0m \u001b[39mfor\u001b[39;00m i \u001b[39min\u001b[39;00m tqdm(\u001b[39mrange\u001b[39m(\u001b[39m5\u001b[39m, \u001b[39m20\u001b[39m)):\n\u001b[1;32m----> <a href='vscode-notebook-cell:/c%3A/Users/TuanAnh/OneDrive%20-%20Hanoi%20University%20of%20Science%20and%20Technology/20221/Introduction%20to%20DataScience/crawling/craw.ipynb#W5sZmlsZQ%3D%3D?line=1'>2</a>\u001b[0m     craw\u001b[39m.\u001b[39;49mrun(i, \u001b[39m1\u001b[39;49m)\n\u001b[0;32m      <a href='vscode-notebook-cell:/c%3A/Users/TuanAnh/OneDrive%20-%20Hanoi%20University%20of%20Science%20and%20Technology/20221/Introduction%20to%20DataScience/crawling/craw.ipynb#W5sZmlsZQ%3D%3D?line=2'>3</a>\u001b[0m     clear_output()\n",
      "\u001b[1;32mc:\\Users\\TuanAnh\\OneDrive - Hanoi University of Science and Technology\\20221\\Introduction to DataScience\\crawling\\craw.ipynb Cell 9\u001b[0m in \u001b[0;36mcrawling.run\u001b[1;34m(self, start, num_of_pages)\u001b[0m\n\u001b[0;32m    <a href='vscode-notebook-cell:/c%3A/Users/TuanAnh/OneDrive%20-%20Hanoi%20University%20of%20Science%20and%20Technology/20221/Introduction%20to%20DataScience/crawling/craw.ipynb#W5sZmlsZQ%3D%3D?line=142'>143</a>\u001b[0m                 f\u001b[39m.\u001b[39mwrite(\u001b[39mf\u001b[39m\u001b[39m\"\u001b[39m\u001b[39mExcution\u001b[39m\u001b[39m{\u001b[39;00m\u001b[39m10\u001b[39m\u001b[39m-\u001b[39mnum\u001b[39m}\u001b[39;00m\u001b[39m: \u001b[39m\u001b[39m{\u001b[39;00mpage\u001b[39m}\u001b[39;00m\u001b[39m\"\u001b[39m\u001b[39m+\u001b[39m\u001b[39m\"\u001b[39m\u001b[39m\\n\u001b[39;00m\u001b[39m\"\u001b[39m) \n\u001b[0;32m    <a href='vscode-notebook-cell:/c%3A/Users/TuanAnh/OneDrive%20-%20Hanoi%20University%20of%20Science%20and%20Technology/20221/Introduction%20to%20DataScience/crawling/craw.ipynb#W5sZmlsZQ%3D%3D?line=143'>144</a>\u001b[0m                 \u001b[39m#f.write(traceback.format_exc()+\"\\n\")\u001b[39;00m\n\u001b[1;32m--> <a href='vscode-notebook-cell:/c%3A/Users/TuanAnh/OneDrive%20-%20Hanoi%20University%20of%20Science%20and%20Technology/20221/Introduction%20to%20DataScience/crawling/craw.ipynb#W5sZmlsZQ%3D%3D?line=144'>145</a>\u001b[0m             driver\u001b[39m.\u001b[39;49mdelete_all_cookies()\n\u001b[0;32m    <a href='vscode-notebook-cell:/c%3A/Users/TuanAnh/OneDrive%20-%20Hanoi%20University%20of%20Science%20and%20Technology/20221/Introduction%20to%20DataScience/crawling/craw.ipynb#W5sZmlsZQ%3D%3D?line=145'>146</a>\u001b[0m             num \u001b[39m-\u001b[39m\u001b[39m=\u001b[39m \u001b[39m1\u001b[39m\n\u001b[0;32m    <a href='vscode-notebook-cell:/c%3A/Users/TuanAnh/OneDrive%20-%20Hanoi%20University%20of%20Science%20and%20Technology/20221/Introduction%20to%20DataScience/crawling/craw.ipynb#W5sZmlsZQ%3D%3D?line=146'>147</a>\u001b[0m url \u001b[39m=\u001b[39m \u001b[39mself\u001b[39m\u001b[39m.\u001b[39mnext_page()\n",
      "File \u001b[1;32mc:\\Users\\TuanAnh\\anaconda3\\lib\\site-packages\\selenium\\webdriver\\remote\\webdriver.py:730\u001b[0m, in \u001b[0;36mWebDriver.delete_all_cookies\u001b[1;34m(self)\u001b[0m\n\u001b[0;32m    721\u001b[0m \u001b[39mdef\u001b[39;00m \u001b[39mdelete_all_cookies\u001b[39m(\u001b[39mself\u001b[39m) \u001b[39m-\u001b[39m\u001b[39m>\u001b[39m \u001b[39mNone\u001b[39;00m:\n\u001b[0;32m    722\u001b[0m     \u001b[39m\"\"\"\u001b[39;00m\n\u001b[0;32m    723\u001b[0m \u001b[39m    Delete all cookies in the scope of the session.\u001b[39;00m\n\u001b[0;32m    724\u001b[0m \n\u001b[1;32m   (...)\u001b[0m\n\u001b[0;32m    728\u001b[0m \u001b[39m            driver.delete_all_cookies()\u001b[39;00m\n\u001b[0;32m    729\u001b[0m \u001b[39m    \"\"\"\u001b[39;00m\n\u001b[1;32m--> 730\u001b[0m     \u001b[39mself\u001b[39;49m\u001b[39m.\u001b[39;49mexecute(Command\u001b[39m.\u001b[39;49mDELETE_ALL_COOKIES)\n",
      "File \u001b[1;32mc:\\Users\\TuanAnh\\anaconda3\\lib\\site-packages\\selenium\\webdriver\\remote\\webdriver.py:444\u001b[0m, in \u001b[0;36mWebDriver.execute\u001b[1;34m(self, driver_command, params)\u001b[0m\n\u001b[0;32m    442\u001b[0m response \u001b[39m=\u001b[39m \u001b[39mself\u001b[39m\u001b[39m.\u001b[39mcommand_executor\u001b[39m.\u001b[39mexecute(driver_command, params)\n\u001b[0;32m    443\u001b[0m \u001b[39mif\u001b[39;00m response:\n\u001b[1;32m--> 444\u001b[0m     \u001b[39mself\u001b[39;49m\u001b[39m.\u001b[39;49merror_handler\u001b[39m.\u001b[39;49mcheck_response(response)\n\u001b[0;32m    445\u001b[0m     response[\u001b[39m\"\u001b[39m\u001b[39mvalue\u001b[39m\u001b[39m\"\u001b[39m] \u001b[39m=\u001b[39m \u001b[39mself\u001b[39m\u001b[39m.\u001b[39m_unwrap_value(response\u001b[39m.\u001b[39mget(\u001b[39m\"\u001b[39m\u001b[39mvalue\u001b[39m\u001b[39m\"\u001b[39m, \u001b[39mNone\u001b[39;00m))\n\u001b[0;32m    446\u001b[0m     \u001b[39mreturn\u001b[39;00m response\n",
      "File \u001b[1;32mc:\\Users\\TuanAnh\\anaconda3\\lib\\site-packages\\selenium\\webdriver\\remote\\errorhandler.py:249\u001b[0m, in \u001b[0;36mErrorHandler.check_response\u001b[1;34m(self, response)\u001b[0m\n\u001b[0;32m    247\u001b[0m         alert_text \u001b[39m=\u001b[39m value[\u001b[39m\"\u001b[39m\u001b[39malert\u001b[39m\u001b[39m\"\u001b[39m]\u001b[39m.\u001b[39mget(\u001b[39m\"\u001b[39m\u001b[39mtext\u001b[39m\u001b[39m\"\u001b[39m)\n\u001b[0;32m    248\u001b[0m     \u001b[39mraise\u001b[39;00m exception_class(message, screen, stacktrace, alert_text)  \u001b[39m# type: ignore[call-arg]  # mypy is not smart enough here\u001b[39;00m\n\u001b[1;32m--> 249\u001b[0m \u001b[39mraise\u001b[39;00m exception_class(message, screen, stacktrace)\n",
      "\u001b[1;31mTimeoutException\u001b[0m: Message: timeout: Timed out receiving message from renderer: 300.000\n  (Session info: MicrosoftEdge=107.0.1418.56)\nStacktrace:\nBacktrace:\n\tMicrosoft::Applications::Events::EventProperties::SetProperty [0x00007FF7AF7A8552+9986]\n\tMicrosoft::Applications::Events::EventProperty::EventProperty [0x00007FF7AF745D82+1445234]\n\tOrdinal0 [0x00007FF7AF32FC8C+654476]\n\tOrdinal0 [0x00007FF7AF31B253+569939]\n\tOrdinal0 [0x00007FF7AF31AF68+569192]\n\tOrdinal0 [0x00007FF7AF319CDD+564445]\n\tOrdinal0 [0x00007FF7AF31A2AE+565934]\n\tOrdinal0 [0x00007FF7AF325C45+613445]\n\tOrdinal0 [0x00007FF7AF339A77+694903]\n\tOrdinal0 [0x00007FF7AF33E899+714905]\n\tOrdinal0 [0x00007FF7AF317B4C+555852]\n\tOrdinal0 [0x00007FF7AF31A763+567139]\n\tOrdinal0 [0x00007FF7AF3397B6+694198]\n\tOrdinal0 [0x00007FF7AF3ACE48+1166920]\n\tOrdinal0 [0x00007FF7AF3939B3+1063347]\n\tOrdinal0 [0x00007FF7AF36506A+872554]\n\tOrdinal0 [0x00007FF7AF36402E+868398]\n\tOrdinal0 [0x00007FF7AF36570F+874255]\n\tMicrosoft::Applications::Events::EventProperty::EventProperty [0x00007FF7AF606108+135416]\n\tMicrosoft::Applications::Events::EventProperty::EventProperty [0x00007FF7AF5F02CF+45759]\n\tMicrosoft::Applications::Events::EventProperty::EventProperty [0x00007FF7AF5F374C+59196]\n\tOrdinal0 [0x00007FF7AF43B1F4+1749492]\n\tMicrosoft::Applications::Events::EventProperty::EventProperty [0x00007FF7AF74B67A+1468010]\n\tMicrosoft::Applications::Events::EventProperty::EventProperty [0x00007FF7AF74FF14+1486596]\n\tMicrosoft::Applications::Events::EventProperty::EventProperty [0x00007FF7AF75006D+1486941]\n\tMicrosoft::Applications::Events::EventProperty::EventProperty [0x00007FF7AF757E2B+1519131]\n\tBaseThreadInitThunk [0x00007FFEEEBA54E0+16]\n\tRtlUserThreadStart [0x00007FFEEFA6485B+43]\n"
     ]
    }
   ],
   "source": [
    "for i in tqdm(range(5, 6)):\n",
    "    craw.run(i, 1)\n",
    "    clear_output()"
   ]
  }
 ],
 "metadata": {
  "kernelspec": {
   "display_name": "cs224n",
   "language": "python",
   "name": "cs224n"
  },
  "language_info": {
   "codemirror_mode": {
    "name": "ipython",
    "version": 3
   },
   "file_extension": ".py",
   "mimetype": "text/x-python",
   "name": "python",
   "nbconvert_exporter": "python",
   "pygments_lexer": "ipython3",
   "version": "3.9.12"
  },
  "orig_nbformat": 4
 },
 "nbformat": 4,
 "nbformat_minor": 2
}
