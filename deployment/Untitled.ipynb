{
 "cells": [
  {
   "cell_type": "code",
   "execution_count": 1,
   "id": "fb8c4845-64a4-446a-98ce-81df586e9f09",
   "metadata": {},
   "outputs": [
    {
     "data": {
      "text/plain": [
       "'D:\\\\Programming\\\\Python\\\\DS\\\\Hanoi-Real-Estate-Analysis-and-Prediction'"
      ]
     },
     "execution_count": 1,
     "metadata": {},
     "output_type": "execute_result"
    }
   ],
   "source": [
    "import os\n",
    "os.chdir(\"..\")\n",
    "os.getcwd()"
   ]
  },
  {
   "cell_type": "code",
   "execution_count": 2,
   "id": "de73923f-0eac-4ca8-bd8a-cdf8c98d4c27",
   "metadata": {},
   "outputs": [],
   "source": [
    "from fastapi import FastAPI, HTTPException\n",
    "from joblib import load\n",
    "\n",
    "#spam_clf = load(open('./models/spam_detector_model.pkl','rb'))\n",
    "\n",
    "#vectorizer = load(open('./vectors/vectorizer.pickle', 'rb'))\n",
    "\n",
    "app = FastAPI()"
   ]
  },
  {
   "cell_type": "code",
   "execution_count": 3,
   "id": "6e8145f4-6331-4f73-9a24-4e128246a14d",
   "metadata": {},
   "outputs": [],
   "source": [
    "@app.get(\"/\")\n",
    "def root():\n",
    "    return {\"message\": \"Welcome to Your Sentiment Classification FastAPI\"}"
   ]
  },
  {
   "cell_type": "code",
   "execution_count": 4,
   "id": "d99b57f3-76d5-4a73-b692-0cbdb0c6739a",
   "metadata": {},
   "outputs": [],
   "source": [
    "@app.post(\"/predict_sentiment\")\n",
    "def predict_sentiment(text_message):\n",
    "\n",
    "    polarity = \"\"\n",
    "\n",
    "    if(not(text_message)):\n",
    "        raise HTTPException(status_code=400, \n",
    "                            detail = \"Please Provide a valid text message\")\n",
    "\n",
    "    prediction = spam_clf.predict(vectorizer.transform([text_message]))\n",
    "\n",
    "    if(prediction[0] == 0):\n",
    "        polarity = \"Ham\"\n",
    "\n",
    "    elif(prediction[0] == 1):\n",
    "        polarity = \"Spam\"\n",
    "        \n",
    "    return {\n",
    "            \"text_message\": text_message, \n",
    "            \"sentiment_polarity\": polarity\n",
    "           }"
   ]
  },
  {
   "cell_type": "code",
   "execution_count": 5,
   "id": "4cc8b3a2-835c-475f-bdcb-3ea874c27c42",
   "metadata": {},
   "outputs": [
    {
     "name": "stdout",
     "output_type": "stream",
     "text": [
      "^C\n"
     ]
    }
   ],
   "source": [
    "!uvicorn app:app --reload"
   ]
  },
  {
   "cell_type": "code",
   "execution_count": null,
   "id": "3a8bd738-2160-4cc5-9ed0-16c762d2558c",
   "metadata": {},
   "outputs": [],
   "source": []
  }
 ],
 "metadata": {
  "kernelspec": {
   "display_name": "Python 3 (ipykernel)",
   "language": "python",
   "name": "python3"
  },
  "language_info": {
   "codemirror_mode": {
    "name": "ipython",
    "version": 3
   },
   "file_extension": ".py",
   "mimetype": "text/x-python",
   "name": "python",
   "nbconvert_exporter": "python",
   "pygments_lexer": "ipython3",
   "version": "3.10.4"
  }
 },
 "nbformat": 4,
 "nbformat_minor": 5
}
