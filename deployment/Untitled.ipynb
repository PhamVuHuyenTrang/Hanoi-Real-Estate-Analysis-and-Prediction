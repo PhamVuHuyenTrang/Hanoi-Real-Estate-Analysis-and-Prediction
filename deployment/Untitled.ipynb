{
 "cells": [
  {
   "cell_type": "code",
   "execution_count": 1,
   "id": "4cc8b3a2-835c-475f-bdcb-3ea874c27c42",
   "metadata": {},
   "outputs": [
    {
     "name": "stdout",
     "output_type": "stream",
     "text": [
      "^C\n"
     ]
    }
   ],
   "source": [
    "!uvicorn app:app --reload"
   ]
  },
  {
   "cell_type": "code",
   "execution_count": 11,
   "id": "804dd586-57d0-4a4d-9830-6282f51786ac",
   "metadata": {},
   "outputs": [],
   "source": [
    "from geopy.geocoders import Nominatim\n",
    "import pandas as pd"
   ]
  },
  {
   "cell_type": "code",
   "execution_count": 20,
   "id": "3a8bd738-2160-4cc5-9ed0-16c762d2558c",
   "metadata": {},
   "outputs": [],
   "source": [
    "class parameters:\n",
    "    Model: str = \"XGBoost\"\n",
    "    House_Direction = \"đông\"\n",
    "    Balcony_Direction = \"đông\"\n",
    "    Toilets = 5\n",
    "    Bedrooms= 6\n",
    "    Floors= 5\n",
    "    Legits= \"hồng\"\n",
    "    Facade= 2.5\n",
    "    Entrance= 2.5\n",
    "    Ward = \"Tương Mai\"\n",
    "    District = \"Hoàng Mai\"\n",
    "    \n",
    "def get_inputs(features):\n",
    "    print(\"Hello\")\n",
    "    inputs = {\n",
    "            \"House Direction\": features.House_Direction,\n",
    "            \"Balcony Direction\": features.Balcony_Direction,\n",
    "            \"Toilets\":int(features.Toilets),\n",
    "            \"Bedrooms\":int(features.Bedrooms),\n",
    "            \"Legits\":features.Legits,\n",
    "            \"Floors\": int(features.Floors),\n",
    "            \"Facade\":float(features.Facade),\n",
    "            \"Entrance\":float(features.Entrance)\n",
    "        }\n",
    "    inputs[\"Toilets\"] = \"10+\" if inputs[\"Toilets\"] > 10 else str(inputs[\"Toilets\"])\n",
    "    inputs[\"Bedrooms\"] = \"10+\" if inputs[\"Bedrooms\"] > 10 else str(inputs[\"Bedrooms\"])\n",
    "    inputs[\"Floors\"] = \"10+\" if inputs[\"Floors\"] > 10 else str(inputs[\"Floors\"])\n",
    "    \n",
    "    legits = \"\"\n",
    "    if \"đỏ\" in inputs[\"Legits\"]:\n",
    "        legits +=\"+đỏ\"\n",
    "    if \"hồng\" in inputs[\"Legits\"]:\n",
    "        legits += \"+hồng\"\n",
    "    inputs[\"Legits\"] = legits\n",
    "    loc = Nominatim(user_agent=\"GetLoc\")\n",
    "    getLoc = loc.geocode(features.Ward+\" \"+features.District)\n",
    "    if getLoc is None:\n",
    "        raise HTTPException(status_code=400, \n",
    "                            detail = \"Invalid Address\")\n",
    "    inputs[\"X\"] = getLoc[-1][0]\n",
    "    inputs[\"Y\"] = getLoc[-1][1]\n",
    "    data = pd.DataFrame({i:[inputs[i]] for i in inputs})\n",
    "    data = data[['House Direction', 'Balcony Direction', 'Toilets','Bedrooms', \n",
    "           'Legits', 'Floors', 'Facade', 'Entrance', 'X', 'Y',\n",
    "            ]]\n",
    "    cates = [\"House Direction\", \"Balcony Direction\",  \"Toilets\", \"Legits\", \"Floors\", \"Bedrooms\"]\n",
    "    for f in cates:\n",
    "         data[f] = data[f].astype(\"category\")\n",
    "    return data"
   ]
  },
  {
   "cell_type": "code",
   "execution_count": 22,
   "id": "269e17f0-256c-4db4-9057-2940e26371ae",
   "metadata": {},
   "outputs": [
    {
     "name": "stdout",
     "output_type": "stream",
     "text": [
      "Hello\n"
     ]
    }
   ],
   "source": [
    "inputs = get_inputs(parameters())"
   ]
  },
  {
   "cell_type": "code",
   "execution_count": 24,
   "id": "d088621e-772e-407a-b6ff-a5381857e6a1",
   "metadata": {},
   "outputs": [
    {
     "ename": "ValueError",
     "evalue": "Feature shape mismatch, expected: 11, got 10",
     "output_type": "error",
     "traceback": [
      "\u001b[1;31m---------------------------------------------------------------------------\u001b[0m",
      "\u001b[1;31mValueError\u001b[0m                                Traceback (most recent call last)",
      "\u001b[1;32m~\\AppData\\Local\\Temp\\ipykernel_4384\\436021201.py\u001b[0m in \u001b[0;36m<cell line: 4>\u001b[1;34m()\u001b[0m\n\u001b[0;32m      2\u001b[0m \u001b[1;33m\u001b[0m\u001b[0m\n\u001b[0;32m      3\u001b[0m \u001b[0mxgb\u001b[0m \u001b[1;33m=\u001b[0m \u001b[0mload\u001b[0m\u001b[1;33m(\u001b[0m\u001b[1;34m\"models/best_tree.pkl\"\u001b[0m\u001b[1;33m)\u001b[0m\u001b[1;33m\u001b[0m\u001b[1;33m\u001b[0m\u001b[0m\n\u001b[1;32m----> 4\u001b[1;33m \u001b[0mxgb\u001b[0m\u001b[1;33m.\u001b[0m\u001b[0mpredict\u001b[0m\u001b[1;33m(\u001b[0m\u001b[0minputs\u001b[0m\u001b[1;33m)\u001b[0m\u001b[1;33m[\u001b[0m\u001b[1;36m0\u001b[0m\u001b[1;33m]\u001b[0m\u001b[1;33m\u001b[0m\u001b[1;33m\u001b[0m\u001b[0m\n\u001b[0m",
      "\u001b[1;32m~\\anaconda3\\envs\\ML_env\\lib\\site-packages\\xgboost\\sklearn.py\u001b[0m in \u001b[0;36mpredict\u001b[1;34m(self, X, output_margin, ntree_limit, validate_features, base_margin, iteration_range)\u001b[0m\n\u001b[0;32m   1112\u001b[0m             \u001b[1;32mif\u001b[0m \u001b[0mself\u001b[0m\u001b[1;33m.\u001b[0m\u001b[0m_can_use_inplace_predict\u001b[0m\u001b[1;33m(\u001b[0m\u001b[1;33m)\u001b[0m\u001b[1;33m:\u001b[0m\u001b[1;33m\u001b[0m\u001b[1;33m\u001b[0m\u001b[0m\n\u001b[0;32m   1113\u001b[0m                 \u001b[1;32mtry\u001b[0m\u001b[1;33m:\u001b[0m\u001b[1;33m\u001b[0m\u001b[1;33m\u001b[0m\u001b[0m\n\u001b[1;32m-> 1114\u001b[1;33m                     predts = self.get_booster().inplace_predict(\n\u001b[0m\u001b[0;32m   1115\u001b[0m                         \u001b[0mdata\u001b[0m\u001b[1;33m=\u001b[0m\u001b[0mX\u001b[0m\u001b[1;33m,\u001b[0m\u001b[1;33m\u001b[0m\u001b[1;33m\u001b[0m\u001b[0m\n\u001b[0;32m   1116\u001b[0m                         \u001b[0miteration_range\u001b[0m\u001b[1;33m=\u001b[0m\u001b[0miteration_range\u001b[0m\u001b[1;33m,\u001b[0m\u001b[1;33m\u001b[0m\u001b[1;33m\u001b[0m\u001b[0m\n",
      "\u001b[1;32m~\\anaconda3\\envs\\ML_env\\lib\\site-packages\\xgboost\\core.py\u001b[0m in \u001b[0;36minplace_predict\u001b[1;34m(self, data, iteration_range, predict_type, missing, validate_features, base_margin, strict_shape)\u001b[0m\n\u001b[0;32m   2266\u001b[0m                 )\n\u001b[0;32m   2267\u001b[0m             \u001b[1;32mif\u001b[0m \u001b[0mlen\u001b[0m\u001b[1;33m(\u001b[0m\u001b[0mdata\u001b[0m\u001b[1;33m.\u001b[0m\u001b[0mshape\u001b[0m\u001b[1;33m)\u001b[0m \u001b[1;33m!=\u001b[0m \u001b[1;36m1\u001b[0m \u001b[1;32mand\u001b[0m \u001b[0mself\u001b[0m\u001b[1;33m.\u001b[0m\u001b[0mnum_features\u001b[0m\u001b[1;33m(\u001b[0m\u001b[1;33m)\u001b[0m \u001b[1;33m!=\u001b[0m \u001b[0mdata\u001b[0m\u001b[1;33m.\u001b[0m\u001b[0mshape\u001b[0m\u001b[1;33m[\u001b[0m\u001b[1;36m1\u001b[0m\u001b[1;33m]\u001b[0m\u001b[1;33m:\u001b[0m\u001b[1;33m\u001b[0m\u001b[1;33m\u001b[0m\u001b[0m\n\u001b[1;32m-> 2268\u001b[1;33m                 raise ValueError(\n\u001b[0m\u001b[0;32m   2269\u001b[0m                     \u001b[1;34mf\"Feature shape mismatch, expected: {self.num_features()}, \"\u001b[0m\u001b[1;33m\u001b[0m\u001b[1;33m\u001b[0m\u001b[0m\n\u001b[0;32m   2270\u001b[0m                     \u001b[1;34mf\"got {data.shape[1]}\"\u001b[0m\u001b[1;33m\u001b[0m\u001b[1;33m\u001b[0m\u001b[0m\n",
      "\u001b[1;31mValueError\u001b[0m: Feature shape mismatch, expected: 11, got 10"
     ]
    }
   ],
   "source": [
    "from joblib import load\n",
    "\n",
    "xgb = load(\"models/best_tree.pkl\")\n",
    "xgb.predict(inputs)[0]"
   ]
  },
  {
   "cell_type": "code",
   "execution_count": null,
   "id": "70bbb424-c658-4453-b015-47d70254872d",
   "metadata": {},
   "outputs": [],
   "source": []
  }
 ],
 "metadata": {
  "kernelspec": {
   "display_name": "Python 3 (ipykernel)",
   "language": "python",
   "name": "python3"
  },
  "language_info": {
   "codemirror_mode": {
    "name": "ipython",
    "version": 3
   },
   "file_extension": ".py",
   "mimetype": "text/x-python",
   "name": "python",
   "nbconvert_exporter": "python",
   "pygments_lexer": "ipython3",
   "version": "3.10.4"
  }
 },
 "nbformat": 4,
 "nbformat_minor": 5
}
