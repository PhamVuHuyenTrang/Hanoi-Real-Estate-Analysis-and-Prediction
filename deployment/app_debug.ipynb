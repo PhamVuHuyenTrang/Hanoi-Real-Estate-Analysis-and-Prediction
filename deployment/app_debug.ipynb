{
 "cells": [
  {
   "cell_type": "code",
   "execution_count": 6,
   "id": "804dd586-57d0-4a4d-9830-6282f51786ac",
   "metadata": {},
   "outputs": [],
   "source": [
    "from geopy.geocoders import Nominatim\n",
    "import pandas as pd"
   ]
  },
  {
   "cell_type": "code",
   "execution_count": 7,
   "id": "d088621e-772e-407a-b6ff-a5381857e6a1",
   "metadata": {},
   "outputs": [],
   "source": [
    "from joblib import load"
   ]
  },
  {
   "cell_type": "code",
   "execution_count": 8,
   "id": "3a8bd738-2160-4cc5-9ed0-16c762d2558c",
   "metadata": {},
   "outputs": [],
   "source": [
    "class parameters:\n",
    "    Model: str = \"XGBoost\"\n",
    "    House_Direction = \"đông\"\n",
    "    Balcony_Direction = \"tây\"\n",
    "    Toilets = 5\n",
    "    Bedrooms= 5\n",
    "    Floors= 5\n",
    "    Legits= \"đỏ\"\n",
    "    Facade= 5\n",
    "    Entrance= 2.5\n",
    "    Ward = \"Tương Mai\"\n",
    "    District = \"Hoàng Mai\"\n",
    "    Area = 20\n",
    "    \n",
    "def get_inputs(features):\n",
    "    inputs = {\n",
    "            \"House Direction\": features.House_Direction,\n",
    "            \"Balcony Direction\": features.Balcony_Direction,\n",
    "            \"Toilets\":int(features.Toilets),\n",
    "            \"Bedrooms\":int(features.Bedrooms),\n",
    "            \"Legits\":features.Legits,\n",
    "            \"Floors\": int(features.Floors),\n",
    "            \"Facade\":float(features.Facade),\n",
    "            \"Entrance\":float(features.Entrance),\n",
    "            \"Area\": float(features.Area)\n",
    "        }\n",
    "    inputs[\"Toilets\"] = \"10+\" if inputs[\"Toilets\"] > 10 else str(inputs[\"Toilets\"])\n",
    "    inputs[\"Bedrooms\"] = \"10+\" if inputs[\"Bedrooms\"] > 10 else str(inputs[\"Bedrooms\"])\n",
    "    inputs[\"Floors\"] = \"10+\" if inputs[\"Floors\"] > 10 else str(inputs[\"Floors\"])\n",
    "    \n",
    "    legits = \"\"\n",
    "    if \"đỏ\" in inputs[\"Legits\"]:\n",
    "        legits +=\"+đỏ\"\n",
    "    if \"hồng\" in inputs[\"Legits\"]:\n",
    "        legits += \"+hồng\"\n",
    "    inputs[\"Legits\"] = legits if len(legits) > 0 else \"None\"\n",
    "    loc = Nominatim(user_agent=\"GetLoc\")\n",
    "    getLoc = loc.geocode(features.Ward+\" \"+features.District)\n",
    "    if getLoc is None:\n",
    "        raise HTTPException(status_code=400, \n",
    "                            detail = \"Invalid Address\")\n",
    "    inputs[\"X\"] = getLoc[-1][0]\n",
    "    inputs[\"Y\"] = getLoc[-1][1]\n",
    "    data = pd.DataFrame({i:[inputs[i]] for i in inputs})\n",
    "    data = data[['House Direction', 'Balcony Direction', 'Toilets','Bedrooms', \n",
    "           'Legits', 'Floors', 'Facade', 'Entrance', \"Area\",'X', 'Y'\n",
    "            ]]\n",
    "    cates = [\"House Direction\", \"Balcony Direction\",  \"Toilets\", \"Legits\", \"Floors\", \"Bedrooms\"]\n",
    "    for f in cates:\n",
    "         data[f] = data[f].astype(\"category\")\n",
    "            \n",
    "    scaler = load(\"models/scaler1.pkl\")\n",
    "    features_ = ['Facade', 'Entrance', \"Area\"]\n",
    "    data[features_] = scaler.transform(data[features_])\n",
    "    \n",
    "    scaler = load(\"models/scaler2.pkl\")\n",
    "    features_ = ['X', 'Y']\n",
    "    data[features_] = scaler.transform(data[features_])\n",
    "    return data"
   ]
  },
  {
   "cell_type": "code",
   "execution_count": 9,
   "id": "269e17f0-256c-4db4-9057-2940e26371ae",
   "metadata": {},
   "outputs": [],
   "source": [
    "inputs = get_inputs(parameters())"
   ]
  },
  {
   "cell_type": "code",
   "execution_count": 10,
   "id": "6bd69b9e-83fa-4308-b37a-f4ea9373a312",
   "metadata": {},
   "outputs": [],
   "source": [
    "def predict_price(features: parameters):\n",
    "    inputs = get_inputs(features)\n",
    "    results = {}\n",
    "    xgb = load(\"models/best_tree.pkl\")\n",
    "    results[\"Price\"] = str(xgb.predict(inputs)[0])\n",
    "    return results"
   ]
  },
  {
   "cell_type": "code",
   "execution_count": 11,
   "id": "96809feb-b5db-46a8-ad96-551e5d892cc6",
   "metadata": {},
   "outputs": [
    {
     "data": {
      "text/plain": [
       "{'Price': '55.509457'}"
      ]
     },
     "execution_count": 11,
     "metadata": {},
     "output_type": "execute_result"
    }
   ],
   "source": [
    "predict_price(parameters())"
   ]
  },
  {
   "cell_type": "code",
   "execution_count": 12,
   "id": "11aac29f-3912-4987-bf93-ba856f9e1f78",
   "metadata": {},
   "outputs": [
    {
     "data": {
      "text/plain": [
       "55.509457"
      ]
     },
     "execution_count": 12,
     "metadata": {},
     "output_type": "execute_result"
    }
   ],
   "source": [
    "xgb = load(\"models/best_tree.pkl\")\n",
    "xgb.predict(inputs)[0]"
   ]
  },
  {
   "cell_type": "code",
   "execution_count": null,
   "id": "70bbb424-c658-4453-b015-47d70254872d",
   "metadata": {},
   "outputs": [],
   "source": [
    "{\n",
    "  \"Model\": \"XGBoost\",\n",
    "  \"House_Direction\": \"đông\",\n",
    "  \"Balcony_Direction\": \"tây\",\n",
    "  \"Toilets\": 5,\n",
    "  \"Bedrooms\": 5,\n",
    "  \"Floors\": 4,\n",
    "  \"Legits\": \"đỏ\",\n",
    "  \"Facade\": 5,\n",
    "  \"Entrance\": 5,\n",
    "  \"Area\": 30,\n",
    "  \"Ward\": \"tương mai\",\n",
    "  \"District\": \"hoàng mai\"\n",
    "}"
   ]
  }
 ],
 "metadata": {
  "kernelspec": {
   "display_name": "Python 3 (ipykernel)",
   "language": "python",
   "name": "python3"
  },
  "language_info": {
   "codemirror_mode": {
    "name": "ipython",
    "version": 3
   },
   "file_extension": ".py",
   "mimetype": "text/x-python",
   "name": "python",
   "nbconvert_exporter": "python",
   "pygments_lexer": "ipython3",
   "version": "3.10.4"
  }
 },
 "nbformat": 4,
 "nbformat_minor": 5
}
