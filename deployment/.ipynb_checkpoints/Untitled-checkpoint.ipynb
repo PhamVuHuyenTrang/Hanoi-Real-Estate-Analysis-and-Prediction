{
 "cells": [
  {
   "cell_type": "code",
   "execution_count": 1,
   "id": "4cc8b3a2-835c-475f-bdcb-3ea874c27c42",
   "metadata": {},
   "outputs": [
    {
     "name": "stdout",
     "output_type": "stream",
     "text": [
      "^C\n"
     ]
    }
   ],
   "source": [
    "!uvicorn app:app --reload"
   ]
  },
  {
   "cell_type": "code",
   "execution_count": 11,
   "id": "804dd586-57d0-4a4d-9830-6282f51786ac",
   "metadata": {},
   "outputs": [],
   "source": [
    "from geopy.geocoders import Nominatim\n",
    "import pandas as pd"
   ]
  },
  {
   "cell_type": "code",
   "execution_count": 20,
   "id": "3a8bd738-2160-4cc5-9ed0-16c762d2558c",
   "metadata": {},
   "outputs": [],
   "source": [
    "class parameters:\n",
    "    Model: str = \"XGBoost\"\n",
    "    House_Direction = \"đông\"\n",
    "    Balcony_Direction = \"đông\"\n",
    "    Toilets = 5\n",
    "    Bedrooms= 6\n",
    "    Floors= 5\n",
    "    Legits= \"hồng\"\n",
    "    Facade= 2.5\n",
    "    Entrance= 2.5\n",
    "    Ward = \"Tương Mai\"\n",
    "    District = \"Hoàng Mai\"\n",
    "    \n",
    "def get_inputs(features):\n",
    "    print(\"Hello\")\n",
    "    inputs = {\n",
    "            \"House Direction\": features.House_Direction,\n",
    "            \"Balcony Direction\": features.Balcony_Direction,\n",
    "            \"Toilets\":int(features.Toilets),\n",
    "            \"Bedrooms\":int(features.Bedrooms),\n",
    "            \"Legits\":features.Legits,\n",
    "            \"Floors\": int(features.Floors),\n",
    "            \"Facade\":float(features.Facade),\n",
    "            \"Entrance\":float(features.Entrance)\n",
    "        }\n",
    "    inputs[\"Toilets\"] = \"10+\" if inputs[\"Toilets\"] > 10 else str(inputs[\"Toilets\"])\n",
    "    inputs[\"Bedrooms\"] = \"10+\" if inputs[\"Bedrooms\"] > 10 else str(inputs[\"Bedrooms\"])\n",
    "    inputs[\"Floors\"] = \"10+\" if inputs[\"Floors\"] > 10 else str(inputs[\"Floors\"])\n",
    "    \n",
    "    legits = \"\"\n",
    "    if \"đỏ\" in inputs[\"Legits\"]:\n",
    "        legits +=\"+đỏ\"\n",
    "    if \"hồng\" in inputs[\"Legits\"]:\n",
    "        legits += \"+hồng\"\n",
    "    inputs[\"Legits\"] = legits\n",
    "    loc = Nominatim(user_agent=\"GetLoc\")\n",
    "    getLoc = loc.geocode(features.Ward+\" \"+features.District)\n",
    "    if getLoc is None:\n",
    "        raise HTTPException(status_code=400, \n",
    "                            detail = \"Invalid Address\")\n",
    "    inputs[\"X\"] = getLoc[-1][0]\n",
    "    inputs[\"Y\"] = getLoc[-1][1]\n",
    "    data = pd.DataFrame({i:[inputs[i]] for i in inputs})\n",
    "    data = data[['House Direction', 'Balcony Direction', 'Toilets','Bedrooms', \n",
    "           'Legits', 'Floors', 'Facade', 'Entrance', 'X', 'Y',\n",
    "            ]]\n",
    "    cates = [\"House Direction\", \"Balcony Direction\",  \"Toilets\", \"Legits\", \"Floors\", \"Bedrooms\"]\n",
    "    for f in cates:\n",
    "         data[f] = data[f].astype(\"category\")\n",
    "    return data"
   ]
  },
  {
   "cell_type": "code",
   "execution_count": 21,
   "id": "269e17f0-256c-4db4-9057-2940e26371ae",
   "metadata": {},
   "outputs": [
    {
     "name": "stdout",
     "output_type": "stream",
     "text": [
      "Hello\n"
     ]
    },
    {
     "data": {
      "text/html": [
       "<div>\n",
       "<style scoped>\n",
       "    .dataframe tbody tr th:only-of-type {\n",
       "        vertical-align: middle;\n",
       "    }\n",
       "\n",
       "    .dataframe tbody tr th {\n",
       "        vertical-align: top;\n",
       "    }\n",
       "\n",
       "    .dataframe thead th {\n",
       "        text-align: right;\n",
       "    }\n",
       "</style>\n",
       "<table border=\"1\" class=\"dataframe\">\n",
       "  <thead>\n",
       "    <tr style=\"text-align: right;\">\n",
       "      <th></th>\n",
       "      <th>House Direction</th>\n",
       "      <th>Balcony Direction</th>\n",
       "      <th>Toilets</th>\n",
       "      <th>Bedrooms</th>\n",
       "      <th>Legits</th>\n",
       "      <th>Floors</th>\n",
       "      <th>Facade</th>\n",
       "      <th>Entrance</th>\n",
       "      <th>X</th>\n",
       "      <th>Y</th>\n",
       "    </tr>\n",
       "  </thead>\n",
       "  <tbody>\n",
       "    <tr>\n",
       "      <th>0</th>\n",
       "      <td>đông</td>\n",
       "      <td>đông</td>\n",
       "      <td>5</td>\n",
       "      <td>6</td>\n",
       "      <td>+hồng</td>\n",
       "      <td>5</td>\n",
       "      <td>2.5</td>\n",
       "      <td>2.5</td>\n",
       "      <td>20.992096</td>\n",
       "      <td>105.842912</td>\n",
       "    </tr>\n",
       "  </tbody>\n",
       "</table>\n",
       "</div>"
      ],
      "text/plain": [
       "  House Direction Balcony Direction Toilets Bedrooms Legits Floors  Facade  \\\n",
       "0            đông              đông       5        6  +hồng      5     2.5   \n",
       "\n",
       "   Entrance          X           Y  \n",
       "0       2.5  20.992096  105.842912  "
      ]
     },
     "execution_count": 21,
     "metadata": {},
     "output_type": "execute_result"
    }
   ],
   "source": [
    "get_inputs(parameters())"
   ]
  },
  {
   "cell_type": "code",
   "execution_count": null,
   "id": "d088621e-772e-407a-b6ff-a5381857e6a1",
   "metadata": {},
   "outputs": [],
   "source": []
  }
 ],
 "metadata": {
  "kernelspec": {
   "display_name": "Python 3 (ipykernel)",
   "language": "python",
   "name": "python3"
  },
  "language_info": {
   "codemirror_mode": {
    "name": "ipython",
    "version": 3
   },
   "file_extension": ".py",
   "mimetype": "text/x-python",
   "name": "python",
   "nbconvert_exporter": "python",
   "pygments_lexer": "ipython3",
   "version": "3.10.4"
  }
 },
 "nbformat": 4,
 "nbformat_minor": 5
}
