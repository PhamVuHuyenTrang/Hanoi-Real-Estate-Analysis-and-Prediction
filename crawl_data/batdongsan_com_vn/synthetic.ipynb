{
 "cells": [
  {
   "cell_type": "code",
   "execution_count": 84,
   "id": "778f330e-e9c3-4847-963d-2ccbe8f7cd1f",
   "metadata": {},
   "outputs": [],
   "source": [
    "from os import listdir\n",
    "from os.path import isfile, join\n",
    "import os\n",
    "import pandas as pd\n",
    "import numpy as np\n",
    "from collections import Counter"
   ]
  },
  {
   "cell_type": "code",
   "execution_count": 85,
   "id": "d6ab2273-7bad-4a18-8c15-3fa5982be46d",
   "metadata": {},
   "outputs": [
    {
     "data": {
      "text/plain": [
       "False"
      ]
     },
     "execution_count": 85,
     "metadata": {},
     "output_type": "execute_result"
    }
   ],
   "source": [
    "files = [f for f in listdir(\"data\") if isfile(join(\"data\", f))]\n",
    "if \"index.json\" in files:\n",
    "    files.remove(\"index.json\")\n",
    "\"index.json\" in files"
   ]
  },
  {
   "cell_type": "code",
   "execution_count": 86,
   "id": "ef015f40-46c3-439f-bca2-be269a9831fc",
   "metadata": {},
   "outputs": [],
   "source": [
    "dfs = []\n",
    "for i in files:\n",
    "    dfs.append(pd.read_csv(os.path.join(\"data\", i)))"
   ]
  },
  {
   "cell_type": "code",
   "execution_count": 87,
   "id": "cf8a9ec2-04e4-4536-bc6f-34cc27a04098",
   "metadata": {},
   "outputs": [],
   "source": [
    "data = pd.concat(dfs).reset_index()"
   ]
  },
  {
   "cell_type": "code",
   "execution_count": 88,
   "id": "4af72257-70e2-4c11-8cc0-e5789bf5ee70",
   "metadata": {},
   "outputs": [
    {
     "data": {
      "text/plain": [
       "index             0.000000\n",
       "address           0.000000\n",
       "gen_descrip       0.000000\n",
       "Diện tích         0.000163\n",
       "Mức giá           0.000000\n",
       "Hướng nhà         0.679206\n",
       "Hướng ban công    0.759079\n",
       "Số phòng ngủ      0.294725\n",
       "Số toilet         0.369311\n",
       "Ngày đăng         0.000000\n",
       "Ngày hết hạn      0.000000\n",
       "Loại tin          0.000000\n",
       "Mã tin            0.000000\n",
       "id                0.000000\n",
       "Pháp lý           0.220952\n",
       "Nội thất          0.598926\n",
       "Số tầng           0.538208\n",
       "Mặt tiền          0.551954\n",
       "Đường vào         0.623694\n",
       "dtype: float64"
      ]
     },
     "execution_count": 88,
     "metadata": {},
     "output_type": "execute_result"
    }
   ],
   "source": [
    "data.isna().mean()"
   ]
  },
  {
   "cell_type": "markdown",
   "id": "b472f6b8-7a60-4605-826d-f4e5f833d6b7",
   "metadata": {},
   "source": [
    "Process address"
   ]
  },
  {
   "cell_type": "code",
   "execution_count": 89,
   "id": "89994d7c-99e6-4761-8c09-c3886fe237f7",
   "metadata": {},
   "outputs": [
    {
     "data": {
      "text/plain": [
       "[('Phường', 20077),\n",
       " ('Xã', 3432),\n",
       " ('Thị', 523),\n",
       " ('Dự', 389),\n",
       " ('Đường', 69),\n",
       " ('Phố', 13),\n",
       " (None, 9),\n",
       " ('The', 7),\n",
       " ('Thanh', 4),\n",
       " ('thôn', 4),\n",
       " ('King', 4),\n",
       " ('phường', 3),\n",
       " ('Hương', 2),\n",
       " ('Bắc', 2),\n",
       " ('Chùa', 2),\n",
       " ('Xuân', 2),\n",
       " ('N05', 2),\n",
       " ('HH2', 2),\n",
       " ('Long', 2),\n",
       " ('Thôn', 2),\n",
       " ('Nội', 1),\n",
       " ('Đông', 1),\n",
       " ('Tạ', 1),\n",
       " ('Ấp', 1),\n",
       " ('Băng', 1),\n",
       " ('Tân', 1),\n",
       " ('Newhouse', 1),\n",
       " ('Thái', 1),\n",
       " ('Vân', 1),\n",
       " ('KĐT', 1),\n",
       " ('Hope', 1),\n",
       " ('Imperial', 1),\n",
       " ('Sơn', 1),\n",
       " ('Gemek', 1),\n",
       " ('Vĩnh', 1),\n",
       " ('40', 1),\n",
       " ('mỹ', 1),\n",
       " ('Sunshine', 1),\n",
       " ('Minh', 1),\n",
       " ('Sudico', 1),\n",
       " ('Roman', 1),\n",
       " ('GoldSilk', 1),\n",
       " ('Vinhomes', 1),\n",
       " ('Green', 1),\n",
       " ('Bát', 1),\n",
       " ('Tổng', 1),\n",
       " ('Đồng', 1),\n",
       " ('Chung', 1),\n",
       " ('Trung', 1),\n",
       " ('Hữu', 1),\n",
       " ('N03', 1),\n",
       " ('Giang', 1),\n",
       " ('Nam', 1),\n",
       " ('Phú', 1),\n",
       " ('Mai', 1),\n",
       " ('Quảng', 1),\n",
       " ('Vụ', 1),\n",
       " ('Khai', 1),\n",
       " ('Tây', 1)]"
      ]
     },
     "execution_count": 89,
     "metadata": {},
     "output_type": "execute_result"
    }
   ],
   "source": [
    "Counter([eval(i)[2].split()[0] if len(eval(i)) > 2 else None for i in data[\"address\"] ]).most_common()"
   ]
  },
  {
   "cell_type": "code",
   "execution_count": 90,
   "id": "ade13086-988f-4a58-b65c-14c821e9cdb8",
   "metadata": {},
   "outputs": [],
   "source": [
    "def parse_address(address):\n",
    "    try:\n",
    "        City = address[0]\n",
    "        District = address[1]\n",
    "        Ward = address[2] if len(address) > 2  and any([i in address[2].lower() for i in [\"xã\", \"phường\", \"thị trấn\"]]) else \"None\"\n",
    "        Street = address[3] if len(address) > 3 and any([i in address[3].lower() for i in [\"đường\", \"phố\"]]) else \"None\"\n",
    "    except Exception as e:\n",
    "        print(e)\n",
    "        print(address)\n",
    "        return {}\n",
    "    return dict(City=City, District=District, Ward=Ward, Street=Street)"
   ]
  },
  {
   "cell_type": "code",
   "execution_count": 91,
   "id": "a30f2661-af97-43ef-92a0-a3f1277c132a",
   "metadata": {},
   "outputs": [
    {
     "name": "stdout",
     "output_type": "stream",
     "text": [
      "list index out of range\n",
      "['KDT THANH HÀ- Cienco 5']\n",
      "list index out of range\n",
      "['54m C4 MT5 giá 6.2 tỷ.']\n",
      "list index out of range\n",
      "['65m 4T giá 15.8 tỷ.']\n"
     ]
    }
   ],
   "source": [
    "df_address = pd.DataFrame([parse_address(eval(data[\"address\"][i])) for i in range(len(data[\"address\"]))])"
   ]
  },
  {
   "cell_type": "code",
   "execution_count": 92,
   "id": "1245ed48-3929-4817-ad69-ac4d27c20482",
   "metadata": {},
   "outputs": [],
   "source": [
    "data = pd.concat([data, df_address], axis=1)"
   ]
  },
  {
   "cell_type": "code",
   "execution_count": 93,
   "id": "a6fd4792-1c75-4044-951c-e44c9802251c",
   "metadata": {},
   "outputs": [
    {
     "data": {
      "text/html": [
       "<div>\n",
       "<style scoped>\n",
       "    .dataframe tbody tr th:only-of-type {\n",
       "        vertical-align: middle;\n",
       "    }\n",
       "\n",
       "    .dataframe tbody tr th {\n",
       "        vertical-align: top;\n",
       "    }\n",
       "\n",
       "    .dataframe thead th {\n",
       "        text-align: right;\n",
       "    }\n",
       "</style>\n",
       "<table border=\"1\" class=\"dataframe\">\n",
       "  <thead>\n",
       "    <tr style=\"text-align: right;\">\n",
       "      <th></th>\n",
       "      <th>index</th>\n",
       "      <th>address</th>\n",
       "      <th>gen_descrip</th>\n",
       "      <th>Diện tích</th>\n",
       "      <th>Mức giá</th>\n",
       "      <th>Hướng nhà</th>\n",
       "      <th>Hướng ban công</th>\n",
       "      <th>Số phòng ngủ</th>\n",
       "      <th>Số toilet</th>\n",
       "      <th>Ngày đăng</th>\n",
       "      <th>...</th>\n",
       "      <th>id</th>\n",
       "      <th>Pháp lý</th>\n",
       "      <th>Nội thất</th>\n",
       "      <th>Số tầng</th>\n",
       "      <th>Mặt tiền</th>\n",
       "      <th>Đường vào</th>\n",
       "      <th>City</th>\n",
       "      <th>District</th>\n",
       "      <th>Ward</th>\n",
       "      <th>Street</th>\n",
       "    </tr>\n",
       "  </thead>\n",
       "  <tbody>\n",
       "    <tr>\n",
       "      <th>0</th>\n",
       "      <td>0</td>\n",
       "      <td>['Hà Nội', 'Tây Hồ', 'Phường Phú Thượng', 'Dự ...</td>\n",
       "      <td>\\nTổng hợp danh sách chi tiết căn hộ bán chung...</td>\n",
       "      <td>100 m²</td>\n",
       "      <td>40 triệu/m²</td>\n",
       "      <td>Nam</td>\n",
       "      <td>Bắc</td>\n",
       "      <td>3 phòng</td>\n",
       "      <td>2 phòng</td>\n",
       "      <td>25/11/2022</td>\n",
       "      <td>...</td>\n",
       "      <td>batdongsan_com_vn_35339744</td>\n",
       "      <td>NaN</td>\n",
       "      <td>NaN</td>\n",
       "      <td>NaN</td>\n",
       "      <td>NaN</td>\n",
       "      <td>NaN</td>\n",
       "      <td>Hà Nội</td>\n",
       "      <td>Tây Hồ</td>\n",
       "      <td>Phường Phú Thượng</td>\n",
       "      <td>None</td>\n",
       "    </tr>\n",
       "    <tr>\n",
       "      <th>1</th>\n",
       "      <td>1</td>\n",
       "      <td>['Hà Nội', 'Tây Hồ', 'Phường Phú Thượng', 'Đườ...</td>\n",
       "      <td>\\nGia đình đang cần bán căn hộ tòa R2 Sunshine...</td>\n",
       "      <td>80.74 m²</td>\n",
       "      <td>43.3 triệu/m²</td>\n",
       "      <td>Nam</td>\n",
       "      <td>Bắc</td>\n",
       "      <td>2 phòng</td>\n",
       "      <td>2 phòng</td>\n",
       "      <td>28/11/2022</td>\n",
       "      <td>...</td>\n",
       "      <td>batdongsan_com_vn_35747475</td>\n",
       "      <td>Sổ đỏ/ Sổ hồng</td>\n",
       "      <td>NaN</td>\n",
       "      <td>NaN</td>\n",
       "      <td>NaN</td>\n",
       "      <td>NaN</td>\n",
       "      <td>Hà Nội</td>\n",
       "      <td>Tây Hồ</td>\n",
       "      <td>Phường Phú Thượng</td>\n",
       "      <td>Đường Võ Chí Công</td>\n",
       "    </tr>\n",
       "    <tr>\n",
       "      <th>2</th>\n",
       "      <td>2</td>\n",
       "      <td>['Hà Nội', 'Cầu Giấy', 'Phường Yên Hòa', 'Đườn...</td>\n",
       "      <td>\\n- Bán căn hộ chung cư cao cấp Star Tower Dươ...</td>\n",
       "      <td>131 m²</td>\n",
       "      <td>5.9 tỷ</td>\n",
       "      <td>NaN</td>\n",
       "      <td>NaN</td>\n",
       "      <td>3 phòng</td>\n",
       "      <td>3 phòng</td>\n",
       "      <td>29/11/2022</td>\n",
       "      <td>...</td>\n",
       "      <td>batdongsan_com_vn_35981012</td>\n",
       "      <td>Sổ đỏ/ Sổ hồng</td>\n",
       "      <td>Đầy đủ</td>\n",
       "      <td>NaN</td>\n",
       "      <td>NaN</td>\n",
       "      <td>NaN</td>\n",
       "      <td>Hà Nội</td>\n",
       "      <td>Cầu Giấy</td>\n",
       "      <td>Phường Yên Hòa</td>\n",
       "      <td>Đường Dương Đình Nghệ</td>\n",
       "    </tr>\n",
       "    <tr>\n",
       "      <th>3</th>\n",
       "      <td>3</td>\n",
       "      <td>['Hà Nội', 'Long Biên', 'Phường Bồ Đề', 'Đường...</td>\n",
       "      <td>\\nChủ nhà anh Việt Hùng bán nhà Bồ Đề, Long Bi...</td>\n",
       "      <td>52 m²</td>\n",
       "      <td>6.75 tỷ</td>\n",
       "      <td>NaN</td>\n",
       "      <td>NaN</td>\n",
       "      <td>5 phòng</td>\n",
       "      <td>NaN</td>\n",
       "      <td>28/11/2022</td>\n",
       "      <td>...</td>\n",
       "      <td>batdongsan_com_vn_35968324</td>\n",
       "      <td>Sổ đỏ/ Sổ hồng.</td>\n",
       "      <td>Cơ bản.</td>\n",
       "      <td>5 tầng</td>\n",
       "      <td>NaN</td>\n",
       "      <td>NaN</td>\n",
       "      <td>Hà Nội</td>\n",
       "      <td>Long Biên</td>\n",
       "      <td>Phường Bồ Đề</td>\n",
       "      <td>Đường Bồ Đề</td>\n",
       "    </tr>\n",
       "    <tr>\n",
       "      <th>4</th>\n",
       "      <td>4</td>\n",
       "      <td>['Hà Nội', 'Nam Từ Liêm', 'Thị trấn Cầu Diễn',...</td>\n",
       "      <td>\\nCần bán gấp căn hộ tại tòa A2 - Vinhomes Gar...</td>\n",
       "      <td>119 m²</td>\n",
       "      <td>5.8 tỷ</td>\n",
       "      <td>NaN</td>\n",
       "      <td>NaN</td>\n",
       "      <td>3 phòng</td>\n",
       "      <td>2 phòng</td>\n",
       "      <td>26/11/2022</td>\n",
       "      <td>...</td>\n",
       "      <td>batdongsan_com_vn_35957404</td>\n",
       "      <td>Sổ đỏ/ Sổ hồng</td>\n",
       "      <td>Nội thất đầy đủ: Thiết bị điện tử(tivi, tủ lạn...</td>\n",
       "      <td>NaN</td>\n",
       "      <td>NaN</td>\n",
       "      <td>NaN</td>\n",
       "      <td>Hà Nội</td>\n",
       "      <td>Nam Từ Liêm</td>\n",
       "      <td>Thị trấn Cầu Diễn</td>\n",
       "      <td>Đường Hàm Nghi</td>\n",
       "    </tr>\n",
       "  </tbody>\n",
       "</table>\n",
       "<p>5 rows × 23 columns</p>\n",
       "</div>"
      ],
      "text/plain": [
       "   index                                            address  \\\n",
       "0      0  ['Hà Nội', 'Tây Hồ', 'Phường Phú Thượng', 'Dự ...   \n",
       "1      1  ['Hà Nội', 'Tây Hồ', 'Phường Phú Thượng', 'Đườ...   \n",
       "2      2  ['Hà Nội', 'Cầu Giấy', 'Phường Yên Hòa', 'Đườn...   \n",
       "3      3  ['Hà Nội', 'Long Biên', 'Phường Bồ Đề', 'Đường...   \n",
       "4      4  ['Hà Nội', 'Nam Từ Liêm', 'Thị trấn Cầu Diễn',...   \n",
       "\n",
       "                                         gen_descrip Diện tích        Mức giá  \\\n",
       "0  \\nTổng hợp danh sách chi tiết căn hộ bán chung...    100 m²    40 triệu/m²   \n",
       "1  \\nGia đình đang cần bán căn hộ tòa R2 Sunshine...  80.74 m²  43.3 triệu/m²   \n",
       "2  \\n- Bán căn hộ chung cư cao cấp Star Tower Dươ...    131 m²         5.9 tỷ   \n",
       "3  \\nChủ nhà anh Việt Hùng bán nhà Bồ Đề, Long Bi...     52 m²        6.75 tỷ   \n",
       "4  \\nCần bán gấp căn hộ tại tòa A2 - Vinhomes Gar...    119 m²         5.8 tỷ   \n",
       "\n",
       "  Hướng nhà Hướng ban công Số phòng ngủ Số toilet   Ngày đăng  ...  \\\n",
       "0       Nam            Bắc      3 phòng   2 phòng  25/11/2022  ...   \n",
       "1       Nam            Bắc      2 phòng   2 phòng  28/11/2022  ...   \n",
       "2       NaN            NaN      3 phòng   3 phòng  29/11/2022  ...   \n",
       "3       NaN            NaN      5 phòng       NaN  28/11/2022  ...   \n",
       "4       NaN            NaN      3 phòng   2 phòng  26/11/2022  ...   \n",
       "\n",
       "                           id          Pháp lý  \\\n",
       "0  batdongsan_com_vn_35339744              NaN   \n",
       "1  batdongsan_com_vn_35747475   Sổ đỏ/ Sổ hồng   \n",
       "2  batdongsan_com_vn_35981012   Sổ đỏ/ Sổ hồng   \n",
       "3  batdongsan_com_vn_35968324  Sổ đỏ/ Sổ hồng.   \n",
       "4  batdongsan_com_vn_35957404   Sổ đỏ/ Sổ hồng   \n",
       "\n",
       "                                            Nội thất Số tầng Mặt tiền  \\\n",
       "0                                                NaN     NaN      NaN   \n",
       "1                                                NaN     NaN      NaN   \n",
       "2                                             Đầy đủ     NaN      NaN   \n",
       "3                                            Cơ bản.  5 tầng      NaN   \n",
       "4  Nội thất đầy đủ: Thiết bị điện tử(tivi, tủ lạn...     NaN      NaN   \n",
       "\n",
       "  Đường vào    City     District               Ward                 Street  \n",
       "0       NaN  Hà Nội       Tây Hồ  Phường Phú Thượng                   None  \n",
       "1       NaN  Hà Nội       Tây Hồ  Phường Phú Thượng      Đường Võ Chí Công  \n",
       "2       NaN  Hà Nội     Cầu Giấy     Phường Yên Hòa  Đường Dương Đình Nghệ  \n",
       "3       NaN  Hà Nội    Long Biên       Phường Bồ Đề            Đường Bồ Đề  \n",
       "4       NaN  Hà Nội  Nam Từ Liêm  Thị trấn Cầu Diễn         Đường Hàm Nghi  \n",
       "\n",
       "[5 rows x 23 columns]"
      ]
     },
     "execution_count": 93,
     "metadata": {},
     "output_type": "execute_result"
    }
   ],
   "source": [
    "data.head()"
   ]
  },
  {
   "cell_type": "markdown",
   "id": "dfe02774-ceb0-4a67-8e63-20a6d4981480",
   "metadata": {},
   "source": [
    "Area and price"
   ]
  },
  {
   "cell_type": "code",
   "execution_count": 94,
   "id": "47f62b5a-0f2f-4504-8ccf-19e79f26e63d",
   "metadata": {},
   "outputs": [
    {
     "data": {
      "text/plain": [
       "0    100.00\n",
       "1     80.74\n",
       "2    131.00\n",
       "3     52.00\n",
       "4    119.00\n",
       "Name: Area, dtype: float64"
      ]
     },
     "execution_count": 94,
     "metadata": {},
     "output_type": "execute_result"
    }
   ],
   "source": [
    "data[\"Area\"] = data[\"Diện tích\"].apply(lambda x: float(x.split()[0]) if not pd.isnull(x) else x)\n",
    "data = data.drop(\"Diện tích\", axis=1)\n",
    "data[\"Area\"].head()"
   ]
  },
  {
   "cell_type": "code",
   "execution_count": 95,
   "id": "30dc3b83-d343-4891-89ba-965fe13c79c8",
   "metadata": {},
   "outputs": [],
   "source": [
    "def parce_price(data):\n",
    "    prices = []\n",
    "    for idx, i in enumerate(data[\"Mức giá\"]):\n",
    "        try:\n",
    "            \n",
    "            if i.split()[1] not in [\"tỷ\", \"triệu/m²\", \"triệu\"] or i == \"Thỏa thuận\":\n",
    "                prices.append(None)\n",
    "            else:\n",
    "                if \"tỷ\" in i:\n",
    "                    prices.append(float(i.split()[0])*1e3)\n",
    "                elif \"triệu/m²\" in i:\n",
    "                    prices.append(float(i.split()[0])*data[\"Area\"][idx])\n",
    "                else:\n",
    "                    prices.append(float(i.split()[0]))\n",
    "        except Exception as e:\n",
    "            print(e)\n",
    "            print(i, type(i))\n",
    "    return prices"
   ]
  },
  {
   "cell_type": "code",
   "execution_count": 96,
   "id": "0322fa73-3190-44cc-9428-2d918dd1aa7b",
   "metadata": {},
   "outputs": [],
   "source": [
    "data[\"Price\"] = parce_price(data)\n",
    "#data[\"Price\"] = data[\"Price\"].astype(\"float\")"
   ]
  },
  {
   "cell_type": "code",
   "execution_count": 97,
   "id": "b2af7ddf-203d-4977-95b5-d32ab175eac9",
   "metadata": {},
   "outputs": [
    {
     "data": {
      "text/html": [
       "<div>\n",
       "<style scoped>\n",
       "    .dataframe tbody tr th:only-of-type {\n",
       "        vertical-align: middle;\n",
       "    }\n",
       "\n",
       "    .dataframe tbody tr th {\n",
       "        vertical-align: top;\n",
       "    }\n",
       "\n",
       "    .dataframe thead th {\n",
       "        text-align: right;\n",
       "    }\n",
       "</style>\n",
       "<table border=\"1\" class=\"dataframe\">\n",
       "  <thead>\n",
       "    <tr style=\"text-align: right;\">\n",
       "      <th></th>\n",
       "      <th>index</th>\n",
       "      <th>address</th>\n",
       "      <th>gen_descrip</th>\n",
       "      <th>Mức giá</th>\n",
       "      <th>Hướng nhà</th>\n",
       "      <th>Hướng ban công</th>\n",
       "      <th>Số phòng ngủ</th>\n",
       "      <th>Số toilet</th>\n",
       "      <th>Ngày đăng</th>\n",
       "      <th>Ngày hết hạn</th>\n",
       "      <th>...</th>\n",
       "      <th>Nội thất</th>\n",
       "      <th>Số tầng</th>\n",
       "      <th>Mặt tiền</th>\n",
       "      <th>Đường vào</th>\n",
       "      <th>City</th>\n",
       "      <th>District</th>\n",
       "      <th>Ward</th>\n",
       "      <th>Street</th>\n",
       "      <th>Area</th>\n",
       "      <th>Price</th>\n",
       "    </tr>\n",
       "  </thead>\n",
       "  <tbody>\n",
       "    <tr>\n",
       "      <th>0</th>\n",
       "      <td>0</td>\n",
       "      <td>['Hà Nội', 'Tây Hồ', 'Phường Phú Thượng', 'Dự ...</td>\n",
       "      <td>\\nTổng hợp danh sách chi tiết căn hộ bán chung...</td>\n",
       "      <td>40 triệu/m²</td>\n",
       "      <td>Nam</td>\n",
       "      <td>Bắc</td>\n",
       "      <td>3 phòng</td>\n",
       "      <td>2 phòng</td>\n",
       "      <td>25/11/2022</td>\n",
       "      <td>05/12/2022</td>\n",
       "      <td>...</td>\n",
       "      <td>NaN</td>\n",
       "      <td>NaN</td>\n",
       "      <td>NaN</td>\n",
       "      <td>NaN</td>\n",
       "      <td>Hà Nội</td>\n",
       "      <td>Tây Hồ</td>\n",
       "      <td>Phường Phú Thượng</td>\n",
       "      <td>None</td>\n",
       "      <td>100.00</td>\n",
       "      <td>4000.000</td>\n",
       "    </tr>\n",
       "    <tr>\n",
       "      <th>1</th>\n",
       "      <td>1</td>\n",
       "      <td>['Hà Nội', 'Tây Hồ', 'Phường Phú Thượng', 'Đườ...</td>\n",
       "      <td>\\nGia đình đang cần bán căn hộ tòa R2 Sunshine...</td>\n",
       "      <td>43.3 triệu/m²</td>\n",
       "      <td>Nam</td>\n",
       "      <td>Bắc</td>\n",
       "      <td>2 phòng</td>\n",
       "      <td>2 phòng</td>\n",
       "      <td>28/11/2022</td>\n",
       "      <td>08/12/2022</td>\n",
       "      <td>...</td>\n",
       "      <td>NaN</td>\n",
       "      <td>NaN</td>\n",
       "      <td>NaN</td>\n",
       "      <td>NaN</td>\n",
       "      <td>Hà Nội</td>\n",
       "      <td>Tây Hồ</td>\n",
       "      <td>Phường Phú Thượng</td>\n",
       "      <td>Đường Võ Chí Công</td>\n",
       "      <td>80.74</td>\n",
       "      <td>3496.042</td>\n",
       "    </tr>\n",
       "    <tr>\n",
       "      <th>2</th>\n",
       "      <td>2</td>\n",
       "      <td>['Hà Nội', 'Cầu Giấy', 'Phường Yên Hòa', 'Đườn...</td>\n",
       "      <td>\\n- Bán căn hộ chung cư cao cấp Star Tower Dươ...</td>\n",
       "      <td>5.9 tỷ</td>\n",
       "      <td>NaN</td>\n",
       "      <td>NaN</td>\n",
       "      <td>3 phòng</td>\n",
       "      <td>3 phòng</td>\n",
       "      <td>29/11/2022</td>\n",
       "      <td>06/12/2022</td>\n",
       "      <td>...</td>\n",
       "      <td>Đầy đủ</td>\n",
       "      <td>NaN</td>\n",
       "      <td>NaN</td>\n",
       "      <td>NaN</td>\n",
       "      <td>Hà Nội</td>\n",
       "      <td>Cầu Giấy</td>\n",
       "      <td>Phường Yên Hòa</td>\n",
       "      <td>Đường Dương Đình Nghệ</td>\n",
       "      <td>131.00</td>\n",
       "      <td>5900.000</td>\n",
       "    </tr>\n",
       "    <tr>\n",
       "      <th>3</th>\n",
       "      <td>3</td>\n",
       "      <td>['Hà Nội', 'Long Biên', 'Phường Bồ Đề', 'Đường...</td>\n",
       "      <td>\\nChủ nhà anh Việt Hùng bán nhà Bồ Đề, Long Bi...</td>\n",
       "      <td>6.75 tỷ</td>\n",
       "      <td>NaN</td>\n",
       "      <td>NaN</td>\n",
       "      <td>5 phòng</td>\n",
       "      <td>NaN</td>\n",
       "      <td>28/11/2022</td>\n",
       "      <td>08/12/2022</td>\n",
       "      <td>...</td>\n",
       "      <td>Cơ bản.</td>\n",
       "      <td>5 tầng</td>\n",
       "      <td>NaN</td>\n",
       "      <td>NaN</td>\n",
       "      <td>Hà Nội</td>\n",
       "      <td>Long Biên</td>\n",
       "      <td>Phường Bồ Đề</td>\n",
       "      <td>Đường Bồ Đề</td>\n",
       "      <td>52.00</td>\n",
       "      <td>6750.000</td>\n",
       "    </tr>\n",
       "    <tr>\n",
       "      <th>4</th>\n",
       "      <td>4</td>\n",
       "      <td>['Hà Nội', 'Nam Từ Liêm', 'Thị trấn Cầu Diễn',...</td>\n",
       "      <td>\\nCần bán gấp căn hộ tại tòa A2 - Vinhomes Gar...</td>\n",
       "      <td>5.8 tỷ</td>\n",
       "      <td>NaN</td>\n",
       "      <td>NaN</td>\n",
       "      <td>3 phòng</td>\n",
       "      <td>2 phòng</td>\n",
       "      <td>26/11/2022</td>\n",
       "      <td>03/12/2022</td>\n",
       "      <td>...</td>\n",
       "      <td>Nội thất đầy đủ: Thiết bị điện tử(tivi, tủ lạn...</td>\n",
       "      <td>NaN</td>\n",
       "      <td>NaN</td>\n",
       "      <td>NaN</td>\n",
       "      <td>Hà Nội</td>\n",
       "      <td>Nam Từ Liêm</td>\n",
       "      <td>Thị trấn Cầu Diễn</td>\n",
       "      <td>Đường Hàm Nghi</td>\n",
       "      <td>119.00</td>\n",
       "      <td>5800.000</td>\n",
       "    </tr>\n",
       "  </tbody>\n",
       "</table>\n",
       "<p>5 rows × 24 columns</p>\n",
       "</div>"
      ],
      "text/plain": [
       "   index                                            address  \\\n",
       "0      0  ['Hà Nội', 'Tây Hồ', 'Phường Phú Thượng', 'Dự ...   \n",
       "1      1  ['Hà Nội', 'Tây Hồ', 'Phường Phú Thượng', 'Đườ...   \n",
       "2      2  ['Hà Nội', 'Cầu Giấy', 'Phường Yên Hòa', 'Đườn...   \n",
       "3      3  ['Hà Nội', 'Long Biên', 'Phường Bồ Đề', 'Đường...   \n",
       "4      4  ['Hà Nội', 'Nam Từ Liêm', 'Thị trấn Cầu Diễn',...   \n",
       "\n",
       "                                         gen_descrip        Mức giá Hướng nhà  \\\n",
       "0  \\nTổng hợp danh sách chi tiết căn hộ bán chung...    40 triệu/m²       Nam   \n",
       "1  \\nGia đình đang cần bán căn hộ tòa R2 Sunshine...  43.3 triệu/m²       Nam   \n",
       "2  \\n- Bán căn hộ chung cư cao cấp Star Tower Dươ...         5.9 tỷ       NaN   \n",
       "3  \\nChủ nhà anh Việt Hùng bán nhà Bồ Đề, Long Bi...        6.75 tỷ       NaN   \n",
       "4  \\nCần bán gấp căn hộ tại tòa A2 - Vinhomes Gar...         5.8 tỷ       NaN   \n",
       "\n",
       "  Hướng ban công Số phòng ngủ Số toilet   Ngày đăng Ngày hết hạn  ...  \\\n",
       "0            Bắc      3 phòng   2 phòng  25/11/2022   05/12/2022  ...   \n",
       "1            Bắc      2 phòng   2 phòng  28/11/2022   08/12/2022  ...   \n",
       "2            NaN      3 phòng   3 phòng  29/11/2022   06/12/2022  ...   \n",
       "3            NaN      5 phòng       NaN  28/11/2022   08/12/2022  ...   \n",
       "4            NaN      3 phòng   2 phòng  26/11/2022   03/12/2022  ...   \n",
       "\n",
       "                                            Nội thất  Số tầng Mặt tiền  \\\n",
       "0                                                NaN      NaN      NaN   \n",
       "1                                                NaN      NaN      NaN   \n",
       "2                                             Đầy đủ      NaN      NaN   \n",
       "3                                            Cơ bản.   5 tầng      NaN   \n",
       "4  Nội thất đầy đủ: Thiết bị điện tử(tivi, tủ lạn...      NaN      NaN   \n",
       "\n",
       "  Đường vào    City     District               Ward                 Street  \\\n",
       "0       NaN  Hà Nội       Tây Hồ  Phường Phú Thượng                   None   \n",
       "1       NaN  Hà Nội       Tây Hồ  Phường Phú Thượng      Đường Võ Chí Công   \n",
       "2       NaN  Hà Nội     Cầu Giấy     Phường Yên Hòa  Đường Dương Đình Nghệ   \n",
       "3       NaN  Hà Nội    Long Biên       Phường Bồ Đề            Đường Bồ Đề   \n",
       "4       NaN  Hà Nội  Nam Từ Liêm  Thị trấn Cầu Diễn         Đường Hàm Nghi   \n",
       "\n",
       "     Area     Price  \n",
       "0  100.00  4000.000  \n",
       "1   80.74  3496.042  \n",
       "2  131.00  5900.000  \n",
       "3   52.00  6750.000  \n",
       "4  119.00  5800.000  \n",
       "\n",
       "[5 rows x 24 columns]"
      ]
     },
     "execution_count": 97,
     "metadata": {},
     "output_type": "execute_result"
    }
   ],
   "source": [
    "data.head()"
   ]
  },
  {
   "cell_type": "markdown",
   "id": "9e3a0de8-fe3a-4e94-b786-35d60f916a4c",
   "metadata": {},
   "source": [
    "Other features"
   ]
  },
  {
   "cell_type": "code",
   "execution_count": 98,
   "id": "22538df4-38f9-4725-bd2f-a5f8e3fff4fe",
   "metadata": {},
   "outputs": [],
   "source": [
    "features = {\"Số phòng ngủ\":\"Bedrooms\", \"Số toilet\":\"Toilets\", \"Hướng nhà\":\"House Direction\", \"Hướng ban công\":\"Balcony Direction\", \"Pháp lý\":\"Legits\", \n",
    "            \"Nội thất\":\"Furnitures\", \"Số tầng\":\"Floors\", \"Mặt tiền\":\"Facade\", \"Đường vào\":\"Entrance\",\n",
    "           \"Ngày đăng\":\"Date\",\n",
    "           \"Ngày hết hạn\":\"Expired Date\"}\n"
   ]
  },
  {
   "cell_type": "code",
   "execution_count": 99,
   "id": "bd621075-f7ee-4e8b-821f-a9cda699ed3d",
   "metadata": {},
   "outputs": [],
   "source": [
    "data = data.rename(columns=features)"
   ]
  },
  {
   "cell_type": "code",
   "execution_count": 100,
   "id": "dedfe39b-9497-4ebf-9fb0-973c4b92844c",
   "metadata": {},
   "outputs": [
    {
     "data": {
      "text/plain": [
       "0    3\n",
       "1    2\n",
       "2    3\n",
       "3    5\n",
       "4    3\n",
       "Name: Bedrooms, dtype: object"
      ]
     },
     "execution_count": 100,
     "metadata": {},
     "output_type": "execute_result"
    }
   ],
   "source": [
    "data[\"Bedrooms\"] = [i.split()[0] if not pd.isna(i) else \"None\" for i in data[\"Bedrooms\"]]\n",
    "data[\"Bedrooms\"].head()"
   ]
  },
  {
   "cell_type": "code",
   "execution_count": 101,
   "id": "b2699211-9c01-4296-9dd2-bfee2733f351",
   "metadata": {},
   "outputs": [
    {
     "data": {
      "text/plain": [
       "0       2\n",
       "1       2\n",
       "2       3\n",
       "3    None\n",
       "4       2\n",
       "Name: Toilets, dtype: object"
      ]
     },
     "execution_count": 101,
     "metadata": {},
     "output_type": "execute_result"
    }
   ],
   "source": [
    "data[\"Toilets\"] = [i.split()[0] if not pd.isna(i) else \"None\" for i in data[\"Toilets\"]]\n",
    "data[\"Toilets\"].head()"
   ]
  },
  {
   "cell_type": "code",
   "execution_count": 102,
   "id": "44d52566-d74c-47bc-921b-699d2d8091b3",
   "metadata": {},
   "outputs": [
    {
     "data": {
      "text/plain": [
       "0     Nam\n",
       "1     Nam\n",
       "2    None\n",
       "3    None\n",
       "4    None\n",
       "Name: House Direction, dtype: object"
      ]
     },
     "execution_count": 102,
     "metadata": {},
     "output_type": "execute_result"
    }
   ],
   "source": [
    "data[\"House Direction\"] = [i if not pd.isna(i) else \"None\" for i in data[\"House Direction\"]]\n",
    "data[\"House Direction\"].head()"
   ]
  },
  {
   "cell_type": "code",
   "execution_count": 103,
   "id": "d2eb7a69-9e4c-4974-98b8-a5aa36911a94",
   "metadata": {},
   "outputs": [
    {
     "data": {
      "text/plain": [
       "0     Bắc\n",
       "1     Bắc\n",
       "2    None\n",
       "3    None\n",
       "4    None\n",
       "Name: Balcony Direction, dtype: object"
      ]
     },
     "execution_count": 103,
     "metadata": {},
     "output_type": "execute_result"
    }
   ],
   "source": [
    "data[\"Balcony Direction\"] = [i if not pd.isna(i) else \"None\" for i in data[\"Balcony Direction\"]]\n",
    "data[\"Balcony Direction\"].head()"
   ]
  },
  {
   "cell_type": "code",
   "execution_count": 104,
   "id": "8983749c-c5ce-4267-a07b-9802ad4c21e3",
   "metadata": {},
   "outputs": [
    {
     "data": {
      "text/plain": [
       "0    None\n",
       "1    None\n",
       "2    None\n",
       "3    None\n",
       "4    None\n",
       "Name: Facade, dtype: object"
      ]
     },
     "execution_count": 104,
     "metadata": {},
     "output_type": "execute_result"
    }
   ],
   "source": [
    "data[\"Facade\"] = [i.split()[0] if not pd.isna(i) else \"None\" for i in data[\"Facade\"]]\n",
    "data[\"Facade\"].head()"
   ]
  },
  {
   "cell_type": "code",
   "execution_count": 105,
   "id": "fcc7283e-b2de-42b0-8238-7ff8d3609d82",
   "metadata": {},
   "outputs": [
    {
     "data": {
      "text/plain": [
       "0                                                     \n",
       "1                                                     \n",
       "2                                               Đầy đủ\n",
       "3                                              Cơ bản.\n",
       "4    Nội thất đầy đủ: Thiết bị điện tử(tivi, tủ lạn...\n",
       "Name: Furnitures, dtype: object"
      ]
     },
     "execution_count": 105,
     "metadata": {},
     "output_type": "execute_result"
    }
   ],
   "source": [
    "data[\"Furnitures\"] = [i if not pd.isna(i) else \"\" for i in data[\"Furnitures\"]]\n",
    "data[\"Furnitures\"].head()"
   ]
  },
  {
   "cell_type": "code",
   "execution_count": 106,
   "id": "0db42beb-88cd-435b-9ab9-12476389845c",
   "metadata": {},
   "outputs": [
    {
     "data": {
      "text/plain": [
       "0               None\n",
       "1     Sổ đỏ/ Sổ hồng\n",
       "2     Sổ đỏ/ Sổ hồng\n",
       "3    Sổ đỏ/ Sổ hồng.\n",
       "4     Sổ đỏ/ Sổ hồng\n",
       "Name: Legits, dtype: object"
      ]
     },
     "execution_count": 106,
     "metadata": {},
     "output_type": "execute_result"
    }
   ],
   "source": [
    "data[\"Legits\"] = [i if not pd.isna(i) else \"None\" for i in data[\"Legits\"]]\n",
    "data[\"Legits\"].head()"
   ]
  },
  {
   "cell_type": "code",
   "execution_count": 107,
   "id": "fad61bcd-ff87-40d9-8d4b-9b1cd010910f",
   "metadata": {},
   "outputs": [
    {
     "data": {
      "text/plain": [
       "0        None\n",
       "1        None\n",
       "2        None\n",
       "3           5\n",
       "4        None\n",
       "         ... \n",
       "24584       6\n",
       "24585    None\n",
       "24586    None\n",
       "24587    None\n",
       "24588    None\n",
       "Name: Floors, Length: 24589, dtype: object"
      ]
     },
     "execution_count": 107,
     "metadata": {},
     "output_type": "execute_result"
    }
   ],
   "source": [
    "data[\"Floors\"] = [i.split()[0] if not pd.isna(i) else \"None\" for i in data[\"Floors\"]]\n",
    "data[\"Floors\"]"
   ]
  },
  {
   "cell_type": "code",
   "execution_count": 108,
   "id": "b4c3e4e9-ee3c-400a-881b-581dc493e03b",
   "metadata": {},
   "outputs": [
    {
     "data": {
      "text/plain": [
       "0        None\n",
       "1        None\n",
       "2        None\n",
       "3        None\n",
       "4        None\n",
       "         ... \n",
       "24584    None\n",
       "24585    None\n",
       "24586      60\n",
       "24587    None\n",
       "24588    None\n",
       "Name: Entrance, Length: 24589, dtype: object"
      ]
     },
     "execution_count": 108,
     "metadata": {},
     "output_type": "execute_result"
    }
   ],
   "source": [
    "data[\"Entrance\"] = [i.split()[0] if not pd.isna(i) else \"None\" for i in data[\"Entrance\"]]\n",
    "data[\"Entrance\"]"
   ]
  },
  {
   "cell_type": "code",
   "execution_count": 110,
   "id": "b8a1b6b9-bbae-45ee-946a-32763c7ec05e",
   "metadata": {},
   "outputs": [],
   "source": [
    "data = data[data[\"District\"] != \"Hà Nội. 73m²* 5.4 tỷ. Nhà đẹp siêu vip\"]\n",
    "data = data[data[\"District\"] != \"Hà Nội. 76m²* 5T 5.95 tỷ. Nhà đẹp siêu vip\"]"
   ]
  },
  {
   "cell_type": "code",
   "execution_count": 111,
   "id": "dadf9d67-31d0-4ba1-9a8e-4ba5f49a8911",
   "metadata": {},
   "outputs": [
    {
     "data": {
      "text/plain": [
       "Index(['index', 'address', 'gen_descrip', 'Mức giá', 'House Direction',\n",
       "       'Balcony Direction', 'Bedrooms', 'Toilets', 'Date', 'Expired Date',\n",
       "       'Loại tin', 'Mã tin', 'id', 'Legits', 'Furnitures', 'Floors', 'Facade',\n",
       "       'Entrance', 'City', 'District', 'Ward', 'Street', 'Area', 'Price'],\n",
       "      dtype='object')"
      ]
     },
     "execution_count": 111,
     "metadata": {},
     "output_type": "execute_result"
    }
   ],
   "source": [
    "data.columns"
   ]
  },
  {
   "cell_type": "code",
   "execution_count": 112,
   "id": "1292494f-e29e-4429-a83e-5b8ebcefc929",
   "metadata": {},
   "outputs": [],
   "source": [
    "features = ['House Direction',\n",
    "       'Balcony Direction', 'Bedrooms', 'Toilets', \n",
    "        'Legits', 'Furnitures', 'Floors', 'Facade',\n",
    "       'Entrance', 'City', 'District', 'Ward', 'Street', 'Area', 'Price']"
   ]
  },
  {
   "cell_type": "code",
   "execution_count": 113,
   "id": "fc2f3781-1d1b-495c-9295-f2818112d627",
   "metadata": {},
   "outputs": [
    {
     "data": {
      "text/html": [
       "<div>\n",
       "<style scoped>\n",
       "    .dataframe tbody tr th:only-of-type {\n",
       "        vertical-align: middle;\n",
       "    }\n",
       "\n",
       "    .dataframe tbody tr th {\n",
       "        vertical-align: top;\n",
       "    }\n",
       "\n",
       "    .dataframe thead th {\n",
       "        text-align: right;\n",
       "    }\n",
       "</style>\n",
       "<table border=\"1\" class=\"dataframe\">\n",
       "  <thead>\n",
       "    <tr style=\"text-align: right;\">\n",
       "      <th></th>\n",
       "      <th>House Direction</th>\n",
       "      <th>Balcony Direction</th>\n",
       "      <th>Bedrooms</th>\n",
       "      <th>Toilets</th>\n",
       "      <th>Legits</th>\n",
       "      <th>Furnitures</th>\n",
       "      <th>Floors</th>\n",
       "      <th>Facade</th>\n",
       "      <th>Entrance</th>\n",
       "      <th>City</th>\n",
       "      <th>District</th>\n",
       "      <th>Ward</th>\n",
       "      <th>Street</th>\n",
       "      <th>Area</th>\n",
       "      <th>Price</th>\n",
       "    </tr>\n",
       "  </thead>\n",
       "  <tbody>\n",
       "    <tr>\n",
       "      <th>0</th>\n",
       "      <td>Nam</td>\n",
       "      <td>Bắc</td>\n",
       "      <td>3</td>\n",
       "      <td>2</td>\n",
       "      <td>None</td>\n",
       "      <td></td>\n",
       "      <td>None</td>\n",
       "      <td>None</td>\n",
       "      <td>None</td>\n",
       "      <td>Hà Nội</td>\n",
       "      <td>Tây Hồ</td>\n",
       "      <td>Phường Phú Thượng</td>\n",
       "      <td>None</td>\n",
       "      <td>100.00</td>\n",
       "      <td>4000.000</td>\n",
       "    </tr>\n",
       "    <tr>\n",
       "      <th>1</th>\n",
       "      <td>Nam</td>\n",
       "      <td>Bắc</td>\n",
       "      <td>2</td>\n",
       "      <td>2</td>\n",
       "      <td>Sổ đỏ/ Sổ hồng</td>\n",
       "      <td></td>\n",
       "      <td>None</td>\n",
       "      <td>None</td>\n",
       "      <td>None</td>\n",
       "      <td>Hà Nội</td>\n",
       "      <td>Tây Hồ</td>\n",
       "      <td>Phường Phú Thượng</td>\n",
       "      <td>Đường Võ Chí Công</td>\n",
       "      <td>80.74</td>\n",
       "      <td>3496.042</td>\n",
       "    </tr>\n",
       "    <tr>\n",
       "      <th>2</th>\n",
       "      <td>None</td>\n",
       "      <td>None</td>\n",
       "      <td>3</td>\n",
       "      <td>3</td>\n",
       "      <td>Sổ đỏ/ Sổ hồng</td>\n",
       "      <td>Đầy đủ</td>\n",
       "      <td>None</td>\n",
       "      <td>None</td>\n",
       "      <td>None</td>\n",
       "      <td>Hà Nội</td>\n",
       "      <td>Cầu Giấy</td>\n",
       "      <td>Phường Yên Hòa</td>\n",
       "      <td>Đường Dương Đình Nghệ</td>\n",
       "      <td>131.00</td>\n",
       "      <td>5900.000</td>\n",
       "    </tr>\n",
       "    <tr>\n",
       "      <th>3</th>\n",
       "      <td>None</td>\n",
       "      <td>None</td>\n",
       "      <td>5</td>\n",
       "      <td>None</td>\n",
       "      <td>Sổ đỏ/ Sổ hồng.</td>\n",
       "      <td>Cơ bản.</td>\n",
       "      <td>5</td>\n",
       "      <td>None</td>\n",
       "      <td>None</td>\n",
       "      <td>Hà Nội</td>\n",
       "      <td>Long Biên</td>\n",
       "      <td>Phường Bồ Đề</td>\n",
       "      <td>Đường Bồ Đề</td>\n",
       "      <td>52.00</td>\n",
       "      <td>6750.000</td>\n",
       "    </tr>\n",
       "    <tr>\n",
       "      <th>4</th>\n",
       "      <td>None</td>\n",
       "      <td>None</td>\n",
       "      <td>3</td>\n",
       "      <td>2</td>\n",
       "      <td>Sổ đỏ/ Sổ hồng</td>\n",
       "      <td>Nội thất đầy đủ: Thiết bị điện tử(tivi, tủ lạn...</td>\n",
       "      <td>None</td>\n",
       "      <td>None</td>\n",
       "      <td>None</td>\n",
       "      <td>Hà Nội</td>\n",
       "      <td>Nam Từ Liêm</td>\n",
       "      <td>Thị trấn Cầu Diễn</td>\n",
       "      <td>Đường Hàm Nghi</td>\n",
       "      <td>119.00</td>\n",
       "      <td>5800.000</td>\n",
       "    </tr>\n",
       "    <tr>\n",
       "      <th>...</th>\n",
       "      <td>...</td>\n",
       "      <td>...</td>\n",
       "      <td>...</td>\n",
       "      <td>...</td>\n",
       "      <td>...</td>\n",
       "      <td>...</td>\n",
       "      <td>...</td>\n",
       "      <td>...</td>\n",
       "      <td>...</td>\n",
       "      <td>...</td>\n",
       "      <td>...</td>\n",
       "      <td>...</td>\n",
       "      <td>...</td>\n",
       "      <td>...</td>\n",
       "      <td>...</td>\n",
       "    </tr>\n",
       "    <tr>\n",
       "      <th>24584</th>\n",
       "      <td>None</td>\n",
       "      <td>None</td>\n",
       "      <td>5</td>\n",
       "      <td>None</td>\n",
       "      <td>Đã có sổ</td>\n",
       "      <td>Đầy đủ</td>\n",
       "      <td>6</td>\n",
       "      <td>None</td>\n",
       "      <td>None</td>\n",
       "      <td>Hà Nội</td>\n",
       "      <td>Long Biên</td>\n",
       "      <td>Phường Bồ Đề</td>\n",
       "      <td>Đường Bồ Đề</td>\n",
       "      <td>70.00</td>\n",
       "      <td>12900.000</td>\n",
       "    </tr>\n",
       "    <tr>\n",
       "      <th>24585</th>\n",
       "      <td>None</td>\n",
       "      <td>None</td>\n",
       "      <td>None</td>\n",
       "      <td>None</td>\n",
       "      <td>None</td>\n",
       "      <td></td>\n",
       "      <td>None</td>\n",
       "      <td>None</td>\n",
       "      <td>None</td>\n",
       "      <td>Hà Nội</td>\n",
       "      <td>Hoài Đức</td>\n",
       "      <td>Xã Di Trạch</td>\n",
       "      <td>Đường Quốc lộ 32</td>\n",
       "      <td>100.00</td>\n",
       "      <td>NaN</td>\n",
       "    </tr>\n",
       "    <tr>\n",
       "      <th>24586</th>\n",
       "      <td>Tây - Bắc</td>\n",
       "      <td>None</td>\n",
       "      <td>None</td>\n",
       "      <td>None</td>\n",
       "      <td>Sổ đỏ/ Sổ hồng.</td>\n",
       "      <td></td>\n",
       "      <td>None</td>\n",
       "      <td>14</td>\n",
       "      <td>60</td>\n",
       "      <td>Hà Nội</td>\n",
       "      <td>Hoài Đức</td>\n",
       "      <td>Xã Vân Canh</td>\n",
       "      <td>None</td>\n",
       "      <td>52.70</td>\n",
       "      <td>NaN</td>\n",
       "    </tr>\n",
       "    <tr>\n",
       "      <th>24587</th>\n",
       "      <td>None</td>\n",
       "      <td>None</td>\n",
       "      <td>None</td>\n",
       "      <td>None</td>\n",
       "      <td>Sổ đỏ/ Sổ hồng</td>\n",
       "      <td></td>\n",
       "      <td>None</td>\n",
       "      <td>None</td>\n",
       "      <td>None</td>\n",
       "      <td>Hà Nội</td>\n",
       "      <td>Thạch Thất</td>\n",
       "      <td>Xã Bình Yên</td>\n",
       "      <td>None</td>\n",
       "      <td>1462.00</td>\n",
       "      <td>NaN</td>\n",
       "    </tr>\n",
       "    <tr>\n",
       "      <th>24588</th>\n",
       "      <td>Đông - Nam</td>\n",
       "      <td>Tây - Bắc</td>\n",
       "      <td>3</td>\n",
       "      <td>2</td>\n",
       "      <td>Sổ đỏ/ Sổ hồng</td>\n",
       "      <td></td>\n",
       "      <td>None</td>\n",
       "      <td>None</td>\n",
       "      <td>None</td>\n",
       "      <td>Hà Nội</td>\n",
       "      <td>Hai Bà Trưng</td>\n",
       "      <td>Phường Vĩnh Tuy</td>\n",
       "      <td>Đường Minh Khai</td>\n",
       "      <td>98.10</td>\n",
       "      <td>4500.000</td>\n",
       "    </tr>\n",
       "  </tbody>\n",
       "</table>\n",
       "<p>24587 rows × 15 columns</p>\n",
       "</div>"
      ],
      "text/plain": [
       "      House Direction Balcony Direction Bedrooms Toilets           Legits  \\\n",
       "0                 Nam               Bắc        3       2             None   \n",
       "1                 Nam               Bắc        2       2   Sổ đỏ/ Sổ hồng   \n",
       "2                None              None        3       3   Sổ đỏ/ Sổ hồng   \n",
       "3                None              None        5    None  Sổ đỏ/ Sổ hồng.   \n",
       "4                None              None        3       2   Sổ đỏ/ Sổ hồng   \n",
       "...               ...               ...      ...     ...              ...   \n",
       "24584            None              None        5    None         Đã có sổ   \n",
       "24585            None              None     None    None             None   \n",
       "24586       Tây - Bắc              None     None    None  Sổ đỏ/ Sổ hồng.   \n",
       "24587            None              None     None    None   Sổ đỏ/ Sổ hồng   \n",
       "24588      Đông - Nam         Tây - Bắc        3       2   Sổ đỏ/ Sổ hồng   \n",
       "\n",
       "                                              Furnitures Floors Facade  \\\n",
       "0                                                          None   None   \n",
       "1                                                          None   None   \n",
       "2                                                 Đầy đủ   None   None   \n",
       "3                                                Cơ bản.      5   None   \n",
       "4      Nội thất đầy đủ: Thiết bị điện tử(tivi, tủ lạn...   None   None   \n",
       "...                                                  ...    ...    ...   \n",
       "24584                                             Đầy đủ      6   None   \n",
       "24585                                                      None   None   \n",
       "24586                                                      None     14   \n",
       "24587                                                      None   None   \n",
       "24588                                                      None   None   \n",
       "\n",
       "      Entrance    City      District               Ward  \\\n",
       "0         None  Hà Nội        Tây Hồ  Phường Phú Thượng   \n",
       "1         None  Hà Nội        Tây Hồ  Phường Phú Thượng   \n",
       "2         None  Hà Nội      Cầu Giấy     Phường Yên Hòa   \n",
       "3         None  Hà Nội     Long Biên       Phường Bồ Đề   \n",
       "4         None  Hà Nội   Nam Từ Liêm  Thị trấn Cầu Diễn   \n",
       "...        ...     ...           ...                ...   \n",
       "24584     None  Hà Nội     Long Biên       Phường Bồ Đề   \n",
       "24585     None  Hà Nội      Hoài Đức        Xã Di Trạch   \n",
       "24586       60  Hà Nội      Hoài Đức        Xã Vân Canh   \n",
       "24587     None  Hà Nội    Thạch Thất        Xã Bình Yên   \n",
       "24588     None  Hà Nội  Hai Bà Trưng   Phường Vĩnh Tuy   \n",
       "\n",
       "                      Street     Area      Price  \n",
       "0                       None   100.00   4000.000  \n",
       "1          Đường Võ Chí Công    80.74   3496.042  \n",
       "2      Đường Dương Đình Nghệ   131.00   5900.000  \n",
       "3                Đường Bồ Đề    52.00   6750.000  \n",
       "4             Đường Hàm Nghi   119.00   5800.000  \n",
       "...                      ...      ...        ...  \n",
       "24584            Đường Bồ Đề    70.00  12900.000  \n",
       "24585       Đường Quốc lộ 32   100.00        NaN  \n",
       "24586                   None    52.70        NaN  \n",
       "24587                   None  1462.00        NaN  \n",
       "24588        Đường Minh Khai    98.10   4500.000  \n",
       "\n",
       "[24587 rows x 15 columns]"
      ]
     },
     "execution_count": 113,
     "metadata": {},
     "output_type": "execute_result"
    }
   ],
   "source": [
    "data[features]"
   ]
  },
  {
   "cell_type": "code",
   "execution_count": 114,
   "id": "0d3e0207-8c19-499f-b5ce-a4be65e260c3",
   "metadata": {},
   "outputs": [],
   "source": [
    "final_data = data[features]\n",
    "final_data = final_data.dropna()"
   ]
  },
  {
   "cell_type": "code",
   "execution_count": 115,
   "id": "e31e596d-53ca-4498-9126-dba1f4733143",
   "metadata": {},
   "outputs": [],
   "source": [
    "final_data.to_csv(\"final_data.csv\", index=False)"
   ]
  },
  {
   "cell_type": "code",
   "execution_count": null,
   "id": "f8eca675-275c-40ab-ab52-2a524910cff1",
   "metadata": {},
   "outputs": [],
   "source": [
    "price = data[\"price\"].dropna()"
   ]
  },
  {
   "cell_type": "code",
   "execution_count": null,
   "id": "0894467c-fe00-4e01-bdc1-93eb19cbfaae",
   "metadata": {},
   "outputs": [],
   "source": [
    "price = price[price != 2.3e8]"
   ]
  },
  {
   "cell_type": "code",
   "execution_count": null,
   "id": "a93b436c-0f1f-4f6b-9806-2c1fb8c3c82c",
   "metadata": {},
   "outputs": [],
   "source": [
    "price.dropna().describe()"
   ]
  },
  {
   "cell_type": "code",
   "execution_count": null,
   "id": "a9b29d55-b57b-4786-a111-b852da2af124",
   "metadata": {},
   "outputs": [],
   "source": [
    "price.value_counts()"
   ]
  },
  {
   "cell_type": "code",
   "execution_count": null,
   "id": "354c11b8-b1e7-43de-b7a5-ee8c44f8ba8e",
   "metadata": {},
   "outputs": [],
   "source": [
    "price.plot.box()"
   ]
  },
  {
   "cell_type": "code",
   "execution_count": null,
   "id": "69ddb44f-7224-4f8b-ab07-c560a349c81f",
   "metadata": {},
   "outputs": [],
   "source": [
    "(price[price < 1.2e4]/1e4).plot.box()"
   ]
  },
  {
   "cell_type": "code",
   "execution_count": null,
   "id": "effcaba5-c0f1-4a9c-afbb-627050be412a",
   "metadata": {},
   "outputs": [],
   "source": [
    "(price[price < 1.2e4]/1e4).plot.hist(bins=200, figsize=(15,5), title=\"Historgram for quantile 75%\")"
   ]
  },
  {
   "cell_type": "code",
   "execution_count": null,
   "id": "0c68bef5-a844-4d7c-8f0d-4d58ecd86faa",
   "metadata": {},
   "outputs": [],
   "source": [
    "data.dropna()"
   ]
  },
  {
   "cell_type": "code",
   "execution_count": null,
   "id": "bb8be9e6-70c5-4a83-8f2b-7faa1e8e29f5",
   "metadata": {},
   "outputs": [],
   "source": [
    "np.isnan(data[\"Số toilet\"][3])\n"
   ]
  },
  {
   "cell_type": "code",
   "execution_count": null,
   "id": "2c406178-f04b-42e5-87e6-022b1529a713",
   "metadata": {},
   "outputs": [],
   "source": []
  }
 ],
 "metadata": {
  "kernelspec": {
   "display_name": "Python 3 (ipykernel)",
   "language": "python",
   "name": "python3"
  },
  "language_info": {
   "codemirror_mode": {
    "name": "ipython",
    "version": 3
   },
   "file_extension": ".py",
   "mimetype": "text/x-python",
   "name": "python",
   "nbconvert_exporter": "python",
   "pygments_lexer": "ipython3",
   "version": "3.10.4"
  }
 },
 "nbformat": 4,
 "nbformat_minor": 5
}
