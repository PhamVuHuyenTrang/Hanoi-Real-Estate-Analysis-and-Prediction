{
 "cells": [
  {
   "cell_type": "code",
   "execution_count": 1,
   "id": "6af96c41-a3fb-4f2c-9883-c793e4752fc0",
   "metadata": {},
   "outputs": [],
   "source": [
    "import random\n",
    "#import re\n",
    "from datetime import date\n",
    "#from urllib.request import urlretrieve\n",
    "from IPython.display import clear_output\n",
    "import pandas as pd\n",
    "from bs4 import BeautifulSoup\n",
    "from selenium import webdriver\n",
    "#from selenium.webdriver.common.by import By\n",
    "from lxml import etree\n",
    "import json\n",
    "import time\n",
    "import traceback\n",
    "import os\n",
    "from tqdm import tqdm"
   ]
  },
  {
   "cell_type": "code",
   "execution_count": 2,
   "id": "d00e8c38-38de-4f5d-8df4-541c81856c50",
   "metadata": {},
   "outputs": [],
   "source": [
    "class crawling:\n",
    "    \n",
    "    def __init__(self,):\n",
    "        self.home_page = \"https://batdongsan.com.vn/nha-dat-ban-ha-noi\"\n",
    "        self.root = \"https://batdongsan.com.vn\"\n",
    "        self.page = 1\n",
    "    \n",
    "    def get_pages(self, page_source):\n",
    "        bs = BeautifulSoup(page_source)\n",
    "        page = etree.HTML(str(bs))\n",
    "        links = [i.getchildren()[0].get(\"href\") for i in page.xpath(\"\"\"//*[@id=\"product-lists-web\"]/div\"\"\")]\n",
    "        links = [link for link in links if link != None]\n",
    "        return [self.root+link for link in links]\n",
    "    \n",
    "    def next_page(self):\n",
    "        self.page += 1\n",
    "        return self.home_page + f\"/p{self.page}\"\n",
    "    \n",
    "    def gather(self, page_source):\n",
    "        data = {}\n",
    "        bs = BeautifulSoup(page_source)\n",
    "        page = etree.HTML(str(bs))\n",
    "        \n",
    "        #get address\n",
    "        address = page.xpath(\"\"\"//*[@id=\"product-detail-web\"]/span\"\"\")[0].text\n",
    "        address = [i.strip() for i in address.split(\",\")[::-1]]\n",
    "        data[\"address\"] = address\n",
    "        \n",
    "        #get general description\n",
    "        descrip = \"\".join(page.xpath(\"\"\"//*[@id=\"product-detail-web\"]/div[2]\"\"\")[0].getchildren()[1].itertext())\n",
    "        data[\"gen_descrip\"] = descrip\n",
    "        \n",
    "        #get detailed description\n",
    "        des_elements = page.xpath(\"\"\"//*[@id=\"product-detail-web\"]/div[3]/div/div\"\"\")[0].getchildren()\n",
    "        for feature in des_elements:\n",
    "            key = feature.getchildren()[1].text\n",
    "            value = feature.getchildren()[2].text\n",
    "            data[key] = value\n",
    "            \n",
    "        #other insformation\n",
    "        oelements = bs.find_all(\"div\", {\"class\": \"re__pr-short-info-item js__pr-config-item\"})\n",
    "        try:\n",
    "            for feature in oelements:\n",
    "                feature = feature.find_all(\"span\")\n",
    "                key = feature[0].text\n",
    "                value = feature[1].text\n",
    "                data[key] = value\n",
    "            if \"Mã tin\" in data:\n",
    "                data[\"id\"] = \"batdongsan_com_vn_\" + str(data[\"Mã tin\"])\n",
    "            else:\n",
    "                data[\"id\"] = \"batdongsan_com_vn_\" + str(time.time())\n",
    "        except Exception as e:\n",
    "            print(e)\n",
    "            import pdb\n",
    "            pdb.set_trace()\n",
    "        return data\n",
    "    \n",
    "    def run(self, start, num_of_pages):\n",
    "        service = webdriver.edge.service.Service(\"edgedriver_win64\\msedgedriver.exe\")\n",
    "        driver = webdriver.Edge(service=service)\n",
    "        url = self.home_page\n",
    "        self.page = 1\n",
    "        if start != 1:\n",
    "            self.page = start\n",
    "            url = self.home_page+f\"/p{self.page}\"\n",
    "        if os.path.exists(\"data/index.json\"):\n",
    "            with open(\"data/index.json\") as f:\n",
    "                index = set(json.load(f))\n",
    "        else:\n",
    "            index = set()\n",
    "            \n",
    "        with open(\"log.txt\", \"w\") as f:\n",
    "            pass\n",
    "        \n",
    "        dataset = []\n",
    "        for i in range(num_of_pages):\n",
    "            num = 10\n",
    "            pages = []\n",
    "            while num > 0:\n",
    "                try:\n",
    "                    driver.get(url)\n",
    "                    time.sleep(0.05)\n",
    "                    pages = self.get_pages(driver.page_source)\n",
    "                    driver.delete_all_cookies()\n",
    "                    break\n",
    "                except:\n",
    "                    num -= 1\n",
    "            if num <= 0:\n",
    "                url = self.next_page()\n",
    "                continue\n",
    "            #driver.close()\n",
    "            #service = webdriver.edge.service.Service(\"edgedriver_win64\\msedgedriver.exe\")\n",
    "            #driver = webdriver.Edge(service=service)\n",
    "            for page in tqdm(pages):\n",
    "                num = 10\n",
    "                while num > 0:\n",
    "                    try:\n",
    "                        driver.get(page)\n",
    "                        time.sleep(0.05)\n",
    "                        data = self.gather(driver.page_source)\n",
    "                        if data[\"id\"] not in index:\n",
    "                            dataset.append(data)\n",
    "                            index.add(data[\"id\"])\n",
    "                        with open(\"log.txt\", \"a\") as f:\n",
    "                            f.write(\"Success:\" + page +\"\\n\")\n",
    "                        driver.delete_all_cookies()\n",
    "                        break\n",
    "                    except Exception as e:\n",
    "                        print(e)\n",
    "                        with open(\"log.txt\", \"a\") as f:\n",
    "                            f.write(f\"Excution{10-num}: {page}\"+\"\\n\") \n",
    "                            f.write(traceback.format_exc()+\"\\n\")\n",
    "                        driver.delete_all_cookies()\n",
    "                        num -= 1\n",
    "            url = self.next_page()\n",
    "        if len(dataset) != 0:\n",
    "            df = pd.DataFrame(dataset)\n",
    "            df.to_csv(f\"data/{start}_{start+num_of_pages}_{time.time()}.csv\", index=False)\n",
    "        with open(\"data/index.json\", \"w\") as f:\n",
    "            json.dump(list(index), f)\n",
    "        driver.close()\n",
    "        "
   ]
  },
  {
   "cell_type": "code",
   "execution_count": 3,
   "id": "1670201b-676e-4715-9092-e68a80703a96",
   "metadata": {},
   "outputs": [],
   "source": [
    "craw = crawling()"
   ]
  },
  {
   "cell_type": "code",
   "execution_count": 4,
   "id": "f98947e9-c540-4583-b364-9564fb8a16fc",
   "metadata": {},
   "outputs": [
    {
     "name": "stderr",
     "output_type": "stream",
     "text": [
      "  0%|                                                                                         | 0/2071 [00:00<?, ?it/s]\n",
      "  0%|                                                                                           | 0/20 [00:00<?, ?it/s]\u001b[A\n",
      "  5%|████▏                                                                              | 1/20 [00:05<01:45,  5.54s/it]\u001b[A\n",
      " 10%|████████▎                                                                          | 2/20 [00:11<01:44,  5.80s/it]\u001b[A\n",
      " 15%|████████████▍                                                                      | 3/20 [00:16<01:34,  5.55s/it]\u001b[A"
     ]
    },
    {
     "name": "stdout",
     "output_type": "stream",
     "text": [
      "list index out of range\n"
     ]
    },
    {
     "name": "stderr",
     "output_type": "stream",
     "text": [
      "\n",
      " 20%|████████████████▌                                                                  | 4/20 [00:23<01:34,  5.91s/it]\u001b[A"
     ]
    },
    {
     "name": "stdout",
     "output_type": "stream",
     "text": [
      "list index out of range\n"
     ]
    },
    {
     "name": "stderr",
     "output_type": "stream",
     "text": [
      "\n",
      " 25%|████████████████████▊                                                              | 5/20 [00:30<01:35,  6.36s/it]\u001b[A\n",
      " 30%|████████████████████████▉                                                          | 6/20 [00:34<01:19,  5.71s/it]\u001b[A\n",
      " 35%|█████████████████████████████                                                      | 7/20 [00:38<01:07,  5.20s/it]\u001b[A\n",
      " 40%|█████████████████████████████████▏                                                 | 8/20 [00:42<00:57,  4.77s/it]\u001b[A"
     ]
    },
    {
     "name": "stdout",
     "output_type": "stream",
     "text": [
      "list index out of range\n"
     ]
    },
    {
     "name": "stderr",
     "output_type": "stream",
     "text": [
      "\n",
      " 45%|█████████████████████████████████████▎                                             | 9/20 [00:48<00:55,  5.06s/it]\u001b[A"
     ]
    },
    {
     "name": "stdout",
     "output_type": "stream",
     "text": [
      "list index out of range\n"
     ]
    },
    {
     "name": "stderr",
     "output_type": "stream",
     "text": [
      "\n",
      " 50%|█████████████████████████████████████████                                         | 10/20 [00:53<00:51,  5.18s/it]\u001b[A"
     ]
    },
    {
     "name": "stdout",
     "output_type": "stream",
     "text": [
      "list index out of range\n"
     ]
    },
    {
     "name": "stderr",
     "output_type": "stream",
     "text": [
      "\n",
      " 55%|█████████████████████████████████████████████                                     | 11/20 [01:00<00:51,  5.73s/it]\u001b[A\n",
      " 60%|█████████████████████████████████████████████████▏                                | 12/20 [01:05<00:43,  5.42s/it]\u001b[A\n",
      " 65%|█████████████████████████████████████████████████████▎                            | 13/20 [01:09<00:33,  4.83s/it]\u001b[A"
     ]
    },
    {
     "name": "stdout",
     "output_type": "stream",
     "text": [
      "list index out of range\n"
     ]
    },
    {
     "name": "stderr",
     "output_type": "stream",
     "text": [
      "\n",
      " 70%|█████████████████████████████████████████████████████████▍                        | 14/20 [01:12<00:27,  4.50s/it]\u001b[A\n",
      " 75%|█████████████████████████████████████████████████████████████▌                    | 15/20 [01:16<00:21,  4.36s/it]\u001b[A\n",
      " 80%|█████████████████████████████████████████████████████████████████▌                | 16/20 [01:20<00:16,  4.16s/it]\u001b[A"
     ]
    },
    {
     "name": "stdout",
     "output_type": "stream",
     "text": [
      "list index out of range\n"
     ]
    },
    {
     "name": "stderr",
     "output_type": "stream",
     "text": [
      "\n",
      " 85%|█████████████████████████████████████████████████████████████████████▋            | 17/20 [01:29<00:15,  5.29s/it]\u001b[A\n",
      "  0%|                                                                                         | 0/2071 [01:36<?, ?it/s]\n"
     ]
    },
    {
     "ename": "KeyboardInterrupt",
     "evalue": "",
     "output_type": "error",
     "traceback": [
      "\u001b[1;31m---------------------------------------------------------------------------\u001b[0m",
      "\u001b[1;31mKeyboardInterrupt\u001b[0m                         Traceback (most recent call last)",
      "\u001b[1;32m~\\AppData\\Local\\Temp\\ipykernel_4144\\3312193880.py\u001b[0m in \u001b[0;36m<cell line: 1>\u001b[1;34m()\u001b[0m\n\u001b[0;32m      1\u001b[0m \u001b[1;32mfor\u001b[0m \u001b[0mi\u001b[0m \u001b[1;32min\u001b[0m \u001b[0mtqdm\u001b[0m\u001b[1;33m(\u001b[0m\u001b[0mrange\u001b[0m\u001b[1;33m(\u001b[0m\u001b[1;36m599\u001b[0m\u001b[1;33m,\u001b[0m \u001b[1;36m2670\u001b[0m\u001b[1;33m)\u001b[0m\u001b[1;33m)\u001b[0m\u001b[1;33m:\u001b[0m\u001b[1;33m\u001b[0m\u001b[1;33m\u001b[0m\u001b[0m\n\u001b[1;32m----> 2\u001b[1;33m     \u001b[0mcraw\u001b[0m\u001b[1;33m.\u001b[0m\u001b[0mrun\u001b[0m\u001b[1;33m(\u001b[0m\u001b[0mi\u001b[0m\u001b[1;33m,\u001b[0m \u001b[1;36m1\u001b[0m\u001b[1;33m)\u001b[0m\u001b[1;33m\u001b[0m\u001b[1;33m\u001b[0m\u001b[0m\n\u001b[0m\u001b[0;32m      3\u001b[0m     \u001b[0mclear_output\u001b[0m\u001b[1;33m(\u001b[0m\u001b[1;33m)\u001b[0m\u001b[1;33m\u001b[0m\u001b[1;33m\u001b[0m\u001b[0m\n",
      "\u001b[1;32m~\\AppData\\Local\\Temp\\ipykernel_4144\\1442785917.py\u001b[0m in \u001b[0;36mrun\u001b[1;34m(self, start, num_of_pages)\u001b[0m\n\u001b[0;32m     98\u001b[0m                         \u001b[0mdriver\u001b[0m\u001b[1;33m.\u001b[0m\u001b[0mget\u001b[0m\u001b[1;33m(\u001b[0m\u001b[0mpage\u001b[0m\u001b[1;33m)\u001b[0m\u001b[1;33m\u001b[0m\u001b[1;33m\u001b[0m\u001b[0m\n\u001b[0;32m     99\u001b[0m                         \u001b[0mtime\u001b[0m\u001b[1;33m.\u001b[0m\u001b[0msleep\u001b[0m\u001b[1;33m(\u001b[0m\u001b[1;36m0.05\u001b[0m\u001b[1;33m)\u001b[0m\u001b[1;33m\u001b[0m\u001b[1;33m\u001b[0m\u001b[0m\n\u001b[1;32m--> 100\u001b[1;33m                         \u001b[0mdata\u001b[0m \u001b[1;33m=\u001b[0m \u001b[0mself\u001b[0m\u001b[1;33m.\u001b[0m\u001b[0mgather\u001b[0m\u001b[1;33m(\u001b[0m\u001b[0mdriver\u001b[0m\u001b[1;33m.\u001b[0m\u001b[0mpage_source\u001b[0m\u001b[1;33m)\u001b[0m\u001b[1;33m\u001b[0m\u001b[1;33m\u001b[0m\u001b[0m\n\u001b[0m\u001b[0;32m    101\u001b[0m                         \u001b[1;32mif\u001b[0m \u001b[0mdata\u001b[0m\u001b[1;33m[\u001b[0m\u001b[1;34m\"id\"\u001b[0m\u001b[1;33m]\u001b[0m \u001b[1;32mnot\u001b[0m \u001b[1;32min\u001b[0m \u001b[0mindex\u001b[0m\u001b[1;33m:\u001b[0m\u001b[1;33m\u001b[0m\u001b[1;33m\u001b[0m\u001b[0m\n\u001b[0;32m    102\u001b[0m                             \u001b[0mdataset\u001b[0m\u001b[1;33m.\u001b[0m\u001b[0mappend\u001b[0m\u001b[1;33m(\u001b[0m\u001b[0mdata\u001b[0m\u001b[1;33m)\u001b[0m\u001b[1;33m\u001b[0m\u001b[1;33m\u001b[0m\u001b[0m\n",
      "\u001b[1;32m~\\AppData\\Local\\Temp\\ipykernel_4144\\1442785917.py\u001b[0m in \u001b[0;36mgather\u001b[1;34m(self, page_source)\u001b[0m\n\u001b[0;32m     20\u001b[0m         \u001b[0mdata\u001b[0m \u001b[1;33m=\u001b[0m \u001b[1;33m{\u001b[0m\u001b[1;33m}\u001b[0m\u001b[1;33m\u001b[0m\u001b[1;33m\u001b[0m\u001b[0m\n\u001b[0;32m     21\u001b[0m         \u001b[0mbs\u001b[0m \u001b[1;33m=\u001b[0m \u001b[0mBeautifulSoup\u001b[0m\u001b[1;33m(\u001b[0m\u001b[0mpage_source\u001b[0m\u001b[1;33m)\u001b[0m\u001b[1;33m\u001b[0m\u001b[1;33m\u001b[0m\u001b[0m\n\u001b[1;32m---> 22\u001b[1;33m         \u001b[0mpage\u001b[0m \u001b[1;33m=\u001b[0m \u001b[0metree\u001b[0m\u001b[1;33m.\u001b[0m\u001b[0mHTML\u001b[0m\u001b[1;33m(\u001b[0m\u001b[0mstr\u001b[0m\u001b[1;33m(\u001b[0m\u001b[0mbs\u001b[0m\u001b[1;33m)\u001b[0m\u001b[1;33m)\u001b[0m\u001b[1;33m\u001b[0m\u001b[1;33m\u001b[0m\u001b[0m\n\u001b[0m\u001b[0;32m     23\u001b[0m \u001b[1;33m\u001b[0m\u001b[0m\n\u001b[0;32m     24\u001b[0m         \u001b[1;31m#get address\u001b[0m\u001b[1;33m\u001b[0m\u001b[1;33m\u001b[0m\u001b[0m\n",
      "\u001b[1;32m~\\anaconda3\\envs\\ML_env\\lib\\site-packages\\bs4\\element.py\u001b[0m in \u001b[0;36m__unicode__\u001b[1;34m(self)\u001b[0m\n\u001b[0;32m   1603\u001b[0m     \u001b[1;32mdef\u001b[0m \u001b[0m__unicode__\u001b[0m\u001b[1;33m(\u001b[0m\u001b[0mself\u001b[0m\u001b[1;33m)\u001b[0m\u001b[1;33m:\u001b[0m\u001b[1;33m\u001b[0m\u001b[1;33m\u001b[0m\u001b[0m\n\u001b[0;32m   1604\u001b[0m         \u001b[1;34m\"\"\"Renders this PageElement as a Unicode string.\"\"\"\u001b[0m\u001b[1;33m\u001b[0m\u001b[1;33m\u001b[0m\u001b[0m\n\u001b[1;32m-> 1605\u001b[1;33m         \u001b[1;32mreturn\u001b[0m \u001b[0mself\u001b[0m\u001b[1;33m.\u001b[0m\u001b[0mdecode\u001b[0m\u001b[1;33m(\u001b[0m\u001b[1;33m)\u001b[0m\u001b[1;33m\u001b[0m\u001b[1;33m\u001b[0m\u001b[0m\n\u001b[0m\u001b[0;32m   1606\u001b[0m \u001b[1;33m\u001b[0m\u001b[0m\n\u001b[0;32m   1607\u001b[0m     \u001b[0m__str__\u001b[0m \u001b[1;33m=\u001b[0m \u001b[0m__repr__\u001b[0m \u001b[1;33m=\u001b[0m \u001b[0m__unicode__\u001b[0m\u001b[1;33m\u001b[0m\u001b[1;33m\u001b[0m\u001b[0m\n",
      "\u001b[1;32m~\\anaconda3\\envs\\ML_env\\lib\\site-packages\\bs4\\__init__.py\u001b[0m in \u001b[0;36mdecode\u001b[1;34m(self, pretty_print, eventual_encoding, formatter)\u001b[0m\n\u001b[0;32m    775\u001b[0m         \u001b[1;32melse\u001b[0m\u001b[1;33m:\u001b[0m\u001b[1;33m\u001b[0m\u001b[1;33m\u001b[0m\u001b[0m\n\u001b[0;32m    776\u001b[0m             \u001b[0mindent_level\u001b[0m \u001b[1;33m=\u001b[0m \u001b[1;36m0\u001b[0m\u001b[1;33m\u001b[0m\u001b[1;33m\u001b[0m\u001b[0m\n\u001b[1;32m--> 777\u001b[1;33m         return prefix + super(BeautifulSoup, self).decode(\n\u001b[0m\u001b[0;32m    778\u001b[0m             indent_level, eventual_encoding, formatter)\n\u001b[0;32m    779\u001b[0m \u001b[1;33m\u001b[0m\u001b[0m\n",
      "\u001b[1;32m~\\anaconda3\\envs\\ML_env\\lib\\site-packages\\bs4\\element.py\u001b[0m in \u001b[0;36mdecode\u001b[1;34m(self, indent_level, eventual_encoding, formatter)\u001b[0m\n\u001b[0;32m   1700\u001b[0m         \u001b[1;32melse\u001b[0m\u001b[1;33m:\u001b[0m\u001b[1;33m\u001b[0m\u001b[1;33m\u001b[0m\u001b[0m\n\u001b[0;32m   1701\u001b[0m             \u001b[0mindent_contents\u001b[0m \u001b[1;33m=\u001b[0m \u001b[1;32mNone\u001b[0m\u001b[1;33m\u001b[0m\u001b[1;33m\u001b[0m\u001b[0m\n\u001b[1;32m-> 1702\u001b[1;33m         contents = self.decode_contents(\n\u001b[0m\u001b[0;32m   1703\u001b[0m             \u001b[0mindent_contents\u001b[0m\u001b[1;33m,\u001b[0m \u001b[0meventual_encoding\u001b[0m\u001b[1;33m,\u001b[0m \u001b[0mformatter\u001b[0m\u001b[1;33m\u001b[0m\u001b[1;33m\u001b[0m\u001b[0m\n\u001b[0;32m   1704\u001b[0m         )\n",
      "\u001b[1;32m~\\anaconda3\\envs\\ML_env\\lib\\site-packages\\bs4\\element.py\u001b[0m in \u001b[0;36mdecode_contents\u001b[1;34m(self, indent_level, eventual_encoding, formatter)\u001b[0m\n\u001b[0;32m   1797\u001b[0m                 \u001b[0mtext\u001b[0m \u001b[1;33m=\u001b[0m \u001b[0mc\u001b[0m\u001b[1;33m.\u001b[0m\u001b[0moutput_ready\u001b[0m\u001b[1;33m(\u001b[0m\u001b[0mformatter\u001b[0m\u001b[1;33m)\u001b[0m\u001b[1;33m\u001b[0m\u001b[1;33m\u001b[0m\u001b[0m\n\u001b[0;32m   1798\u001b[0m             \u001b[1;32melif\u001b[0m \u001b[0misinstance\u001b[0m\u001b[1;33m(\u001b[0m\u001b[0mc\u001b[0m\u001b[1;33m,\u001b[0m \u001b[0mTag\u001b[0m\u001b[1;33m)\u001b[0m\u001b[1;33m:\u001b[0m\u001b[1;33m\u001b[0m\u001b[1;33m\u001b[0m\u001b[0m\n\u001b[1;32m-> 1799\u001b[1;33m                 s.append(c.decode(indent_level, eventual_encoding,\n\u001b[0m\u001b[0;32m   1800\u001b[0m                                   formatter))\n\u001b[0;32m   1801\u001b[0m             preserve_whitespace = (\n",
      "\u001b[1;32m~\\anaconda3\\envs\\ML_env\\lib\\site-packages\\bs4\\element.py\u001b[0m in \u001b[0;36mdecode\u001b[1;34m(self, indent_level, eventual_encoding, formatter)\u001b[0m\n\u001b[0;32m   1700\u001b[0m         \u001b[1;32melse\u001b[0m\u001b[1;33m:\u001b[0m\u001b[1;33m\u001b[0m\u001b[1;33m\u001b[0m\u001b[0m\n\u001b[0;32m   1701\u001b[0m             \u001b[0mindent_contents\u001b[0m \u001b[1;33m=\u001b[0m \u001b[1;32mNone\u001b[0m\u001b[1;33m\u001b[0m\u001b[1;33m\u001b[0m\u001b[0m\n\u001b[1;32m-> 1702\u001b[1;33m         contents = self.decode_contents(\n\u001b[0m\u001b[0;32m   1703\u001b[0m             \u001b[0mindent_contents\u001b[0m\u001b[1;33m,\u001b[0m \u001b[0meventual_encoding\u001b[0m\u001b[1;33m,\u001b[0m \u001b[0mformatter\u001b[0m\u001b[1;33m\u001b[0m\u001b[1;33m\u001b[0m\u001b[0m\n\u001b[0;32m   1704\u001b[0m         )\n",
      "\u001b[1;32m~\\anaconda3\\envs\\ML_env\\lib\\site-packages\\bs4\\element.py\u001b[0m in \u001b[0;36mdecode_contents\u001b[1;34m(self, indent_level, eventual_encoding, formatter)\u001b[0m\n\u001b[0;32m   1797\u001b[0m                 \u001b[0mtext\u001b[0m \u001b[1;33m=\u001b[0m \u001b[0mc\u001b[0m\u001b[1;33m.\u001b[0m\u001b[0moutput_ready\u001b[0m\u001b[1;33m(\u001b[0m\u001b[0mformatter\u001b[0m\u001b[1;33m)\u001b[0m\u001b[1;33m\u001b[0m\u001b[1;33m\u001b[0m\u001b[0m\n\u001b[0;32m   1798\u001b[0m             \u001b[1;32melif\u001b[0m \u001b[0misinstance\u001b[0m\u001b[1;33m(\u001b[0m\u001b[0mc\u001b[0m\u001b[1;33m,\u001b[0m \u001b[0mTag\u001b[0m\u001b[1;33m)\u001b[0m\u001b[1;33m:\u001b[0m\u001b[1;33m\u001b[0m\u001b[1;33m\u001b[0m\u001b[0m\n\u001b[1;32m-> 1799\u001b[1;33m                 s.append(c.decode(indent_level, eventual_encoding,\n\u001b[0m\u001b[0;32m   1800\u001b[0m                                   formatter))\n\u001b[0;32m   1801\u001b[0m             preserve_whitespace = (\n",
      "\u001b[1;32m~\\anaconda3\\envs\\ML_env\\lib\\site-packages\\bs4\\element.py\u001b[0m in \u001b[0;36mdecode\u001b[1;34m(self, indent_level, eventual_encoding, formatter)\u001b[0m\n\u001b[0;32m   1700\u001b[0m         \u001b[1;32melse\u001b[0m\u001b[1;33m:\u001b[0m\u001b[1;33m\u001b[0m\u001b[1;33m\u001b[0m\u001b[0m\n\u001b[0;32m   1701\u001b[0m             \u001b[0mindent_contents\u001b[0m \u001b[1;33m=\u001b[0m \u001b[1;32mNone\u001b[0m\u001b[1;33m\u001b[0m\u001b[1;33m\u001b[0m\u001b[0m\n\u001b[1;32m-> 1702\u001b[1;33m         contents = self.decode_contents(\n\u001b[0m\u001b[0;32m   1703\u001b[0m             \u001b[0mindent_contents\u001b[0m\u001b[1;33m,\u001b[0m \u001b[0meventual_encoding\u001b[0m\u001b[1;33m,\u001b[0m \u001b[0mformatter\u001b[0m\u001b[1;33m\u001b[0m\u001b[1;33m\u001b[0m\u001b[0m\n\u001b[0;32m   1704\u001b[0m         )\n",
      "\u001b[1;32m~\\anaconda3\\envs\\ML_env\\lib\\site-packages\\bs4\\element.py\u001b[0m in \u001b[0;36mdecode_contents\u001b[1;34m(self, indent_level, eventual_encoding, formatter)\u001b[0m\n\u001b[0;32m   1797\u001b[0m                 \u001b[0mtext\u001b[0m \u001b[1;33m=\u001b[0m \u001b[0mc\u001b[0m\u001b[1;33m.\u001b[0m\u001b[0moutput_ready\u001b[0m\u001b[1;33m(\u001b[0m\u001b[0mformatter\u001b[0m\u001b[1;33m)\u001b[0m\u001b[1;33m\u001b[0m\u001b[1;33m\u001b[0m\u001b[0m\n\u001b[0;32m   1798\u001b[0m             \u001b[1;32melif\u001b[0m \u001b[0misinstance\u001b[0m\u001b[1;33m(\u001b[0m\u001b[0mc\u001b[0m\u001b[1;33m,\u001b[0m \u001b[0mTag\u001b[0m\u001b[1;33m)\u001b[0m\u001b[1;33m:\u001b[0m\u001b[1;33m\u001b[0m\u001b[1;33m\u001b[0m\u001b[0m\n\u001b[1;32m-> 1799\u001b[1;33m                 s.append(c.decode(indent_level, eventual_encoding,\n\u001b[0m\u001b[0;32m   1800\u001b[0m                                   formatter))\n\u001b[0;32m   1801\u001b[0m             preserve_whitespace = (\n",
      "\u001b[1;32m~\\anaconda3\\envs\\ML_env\\lib\\site-packages\\bs4\\element.py\u001b[0m in \u001b[0;36mdecode\u001b[1;34m(self, indent_level, eventual_encoding, formatter)\u001b[0m\n\u001b[0;32m   1700\u001b[0m         \u001b[1;32melse\u001b[0m\u001b[1;33m:\u001b[0m\u001b[1;33m\u001b[0m\u001b[1;33m\u001b[0m\u001b[0m\n\u001b[0;32m   1701\u001b[0m             \u001b[0mindent_contents\u001b[0m \u001b[1;33m=\u001b[0m \u001b[1;32mNone\u001b[0m\u001b[1;33m\u001b[0m\u001b[1;33m\u001b[0m\u001b[0m\n\u001b[1;32m-> 1702\u001b[1;33m         contents = self.decode_contents(\n\u001b[0m\u001b[0;32m   1703\u001b[0m             \u001b[0mindent_contents\u001b[0m\u001b[1;33m,\u001b[0m \u001b[0meventual_encoding\u001b[0m\u001b[1;33m,\u001b[0m \u001b[0mformatter\u001b[0m\u001b[1;33m\u001b[0m\u001b[1;33m\u001b[0m\u001b[0m\n\u001b[0;32m   1704\u001b[0m         )\n",
      "\u001b[1;32m~\\anaconda3\\envs\\ML_env\\lib\\site-packages\\bs4\\element.py\u001b[0m in \u001b[0;36mdecode_contents\u001b[1;34m(self, indent_level, eventual_encoding, formatter)\u001b[0m\n\u001b[0;32m   1797\u001b[0m                 \u001b[0mtext\u001b[0m \u001b[1;33m=\u001b[0m \u001b[0mc\u001b[0m\u001b[1;33m.\u001b[0m\u001b[0moutput_ready\u001b[0m\u001b[1;33m(\u001b[0m\u001b[0mformatter\u001b[0m\u001b[1;33m)\u001b[0m\u001b[1;33m\u001b[0m\u001b[1;33m\u001b[0m\u001b[0m\n\u001b[0;32m   1798\u001b[0m             \u001b[1;32melif\u001b[0m \u001b[0misinstance\u001b[0m\u001b[1;33m(\u001b[0m\u001b[0mc\u001b[0m\u001b[1;33m,\u001b[0m \u001b[0mTag\u001b[0m\u001b[1;33m)\u001b[0m\u001b[1;33m:\u001b[0m\u001b[1;33m\u001b[0m\u001b[1;33m\u001b[0m\u001b[0m\n\u001b[1;32m-> 1799\u001b[1;33m                 s.append(c.decode(indent_level, eventual_encoding,\n\u001b[0m\u001b[0;32m   1800\u001b[0m                                   formatter))\n\u001b[0;32m   1801\u001b[0m             preserve_whitespace = (\n",
      "\u001b[1;32m~\\anaconda3\\envs\\ML_env\\lib\\site-packages\\bs4\\element.py\u001b[0m in \u001b[0;36mdecode\u001b[1;34m(self, indent_level, eventual_encoding, formatter)\u001b[0m\n\u001b[0;32m   1700\u001b[0m         \u001b[1;32melse\u001b[0m\u001b[1;33m:\u001b[0m\u001b[1;33m\u001b[0m\u001b[1;33m\u001b[0m\u001b[0m\n\u001b[0;32m   1701\u001b[0m             \u001b[0mindent_contents\u001b[0m \u001b[1;33m=\u001b[0m \u001b[1;32mNone\u001b[0m\u001b[1;33m\u001b[0m\u001b[1;33m\u001b[0m\u001b[0m\n\u001b[1;32m-> 1702\u001b[1;33m         contents = self.decode_contents(\n\u001b[0m\u001b[0;32m   1703\u001b[0m             \u001b[0mindent_contents\u001b[0m\u001b[1;33m,\u001b[0m \u001b[0meventual_encoding\u001b[0m\u001b[1;33m,\u001b[0m \u001b[0mformatter\u001b[0m\u001b[1;33m\u001b[0m\u001b[1;33m\u001b[0m\u001b[0m\n\u001b[0;32m   1704\u001b[0m         )\n",
      "\u001b[1;32m~\\anaconda3\\envs\\ML_env\\lib\\site-packages\\bs4\\element.py\u001b[0m in \u001b[0;36mdecode_contents\u001b[1;34m(self, indent_level, eventual_encoding, formatter)\u001b[0m\n\u001b[0;32m   1797\u001b[0m                 \u001b[0mtext\u001b[0m \u001b[1;33m=\u001b[0m \u001b[0mc\u001b[0m\u001b[1;33m.\u001b[0m\u001b[0moutput_ready\u001b[0m\u001b[1;33m(\u001b[0m\u001b[0mformatter\u001b[0m\u001b[1;33m)\u001b[0m\u001b[1;33m\u001b[0m\u001b[1;33m\u001b[0m\u001b[0m\n\u001b[0;32m   1798\u001b[0m             \u001b[1;32melif\u001b[0m \u001b[0misinstance\u001b[0m\u001b[1;33m(\u001b[0m\u001b[0mc\u001b[0m\u001b[1;33m,\u001b[0m \u001b[0mTag\u001b[0m\u001b[1;33m)\u001b[0m\u001b[1;33m:\u001b[0m\u001b[1;33m\u001b[0m\u001b[1;33m\u001b[0m\u001b[0m\n\u001b[1;32m-> 1799\u001b[1;33m                 s.append(c.decode(indent_level, eventual_encoding,\n\u001b[0m\u001b[0;32m   1800\u001b[0m                                   formatter))\n\u001b[0;32m   1801\u001b[0m             preserve_whitespace = (\n",
      "\u001b[1;32m~\\anaconda3\\envs\\ML_env\\lib\\site-packages\\bs4\\element.py\u001b[0m in \u001b[0;36mdecode\u001b[1;34m(self, indent_level, eventual_encoding, formatter)\u001b[0m\n\u001b[0;32m   1700\u001b[0m         \u001b[1;32melse\u001b[0m\u001b[1;33m:\u001b[0m\u001b[1;33m\u001b[0m\u001b[1;33m\u001b[0m\u001b[0m\n\u001b[0;32m   1701\u001b[0m             \u001b[0mindent_contents\u001b[0m \u001b[1;33m=\u001b[0m \u001b[1;32mNone\u001b[0m\u001b[1;33m\u001b[0m\u001b[1;33m\u001b[0m\u001b[0m\n\u001b[1;32m-> 1702\u001b[1;33m         contents = self.decode_contents(\n\u001b[0m\u001b[0;32m   1703\u001b[0m             \u001b[0mindent_contents\u001b[0m\u001b[1;33m,\u001b[0m \u001b[0meventual_encoding\u001b[0m\u001b[1;33m,\u001b[0m \u001b[0mformatter\u001b[0m\u001b[1;33m\u001b[0m\u001b[1;33m\u001b[0m\u001b[0m\n\u001b[0;32m   1704\u001b[0m         )\n",
      "\u001b[1;32m~\\anaconda3\\envs\\ML_env\\lib\\site-packages\\bs4\\element.py\u001b[0m in \u001b[0;36mdecode_contents\u001b[1;34m(self, indent_level, eventual_encoding, formatter)\u001b[0m\n\u001b[0;32m   1797\u001b[0m                 \u001b[0mtext\u001b[0m \u001b[1;33m=\u001b[0m \u001b[0mc\u001b[0m\u001b[1;33m.\u001b[0m\u001b[0moutput_ready\u001b[0m\u001b[1;33m(\u001b[0m\u001b[0mformatter\u001b[0m\u001b[1;33m)\u001b[0m\u001b[1;33m\u001b[0m\u001b[1;33m\u001b[0m\u001b[0m\n\u001b[0;32m   1798\u001b[0m             \u001b[1;32melif\u001b[0m \u001b[0misinstance\u001b[0m\u001b[1;33m(\u001b[0m\u001b[0mc\u001b[0m\u001b[1;33m,\u001b[0m \u001b[0mTag\u001b[0m\u001b[1;33m)\u001b[0m\u001b[1;33m:\u001b[0m\u001b[1;33m\u001b[0m\u001b[1;33m\u001b[0m\u001b[0m\n\u001b[1;32m-> 1799\u001b[1;33m                 s.append(c.decode(indent_level, eventual_encoding,\n\u001b[0m\u001b[0;32m   1800\u001b[0m                                   formatter))\n\u001b[0;32m   1801\u001b[0m             preserve_whitespace = (\n",
      "\u001b[1;32m~\\anaconda3\\envs\\ML_env\\lib\\site-packages\\bs4\\element.py\u001b[0m in \u001b[0;36mdecode\u001b[1;34m(self, indent_level, eventual_encoding, formatter)\u001b[0m\n\u001b[0;32m   1700\u001b[0m         \u001b[1;32melse\u001b[0m\u001b[1;33m:\u001b[0m\u001b[1;33m\u001b[0m\u001b[1;33m\u001b[0m\u001b[0m\n\u001b[0;32m   1701\u001b[0m             \u001b[0mindent_contents\u001b[0m \u001b[1;33m=\u001b[0m \u001b[1;32mNone\u001b[0m\u001b[1;33m\u001b[0m\u001b[1;33m\u001b[0m\u001b[0m\n\u001b[1;32m-> 1702\u001b[1;33m         contents = self.decode_contents(\n\u001b[0m\u001b[0;32m   1703\u001b[0m             \u001b[0mindent_contents\u001b[0m\u001b[1;33m,\u001b[0m \u001b[0meventual_encoding\u001b[0m\u001b[1;33m,\u001b[0m \u001b[0mformatter\u001b[0m\u001b[1;33m\u001b[0m\u001b[1;33m\u001b[0m\u001b[0m\n\u001b[0;32m   1704\u001b[0m         )\n",
      "\u001b[1;32m~\\anaconda3\\envs\\ML_env\\lib\\site-packages\\bs4\\element.py\u001b[0m in \u001b[0;36mdecode_contents\u001b[1;34m(self, indent_level, eventual_encoding, formatter)\u001b[0m\n\u001b[0;32m   1797\u001b[0m                 \u001b[0mtext\u001b[0m \u001b[1;33m=\u001b[0m \u001b[0mc\u001b[0m\u001b[1;33m.\u001b[0m\u001b[0moutput_ready\u001b[0m\u001b[1;33m(\u001b[0m\u001b[0mformatter\u001b[0m\u001b[1;33m)\u001b[0m\u001b[1;33m\u001b[0m\u001b[1;33m\u001b[0m\u001b[0m\n\u001b[0;32m   1798\u001b[0m             \u001b[1;32melif\u001b[0m \u001b[0misinstance\u001b[0m\u001b[1;33m(\u001b[0m\u001b[0mc\u001b[0m\u001b[1;33m,\u001b[0m \u001b[0mTag\u001b[0m\u001b[1;33m)\u001b[0m\u001b[1;33m:\u001b[0m\u001b[1;33m\u001b[0m\u001b[1;33m\u001b[0m\u001b[0m\n\u001b[1;32m-> 1799\u001b[1;33m                 s.append(c.decode(indent_level, eventual_encoding,\n\u001b[0m\u001b[0;32m   1800\u001b[0m                                   formatter))\n\u001b[0;32m   1801\u001b[0m             preserve_whitespace = (\n",
      "\u001b[1;32m~\\anaconda3\\envs\\ML_env\\lib\\site-packages\\bs4\\element.py\u001b[0m in \u001b[0;36mdecode\u001b[1;34m(self, indent_level, eventual_encoding, formatter)\u001b[0m\n\u001b[0;32m   1700\u001b[0m         \u001b[1;32melse\u001b[0m\u001b[1;33m:\u001b[0m\u001b[1;33m\u001b[0m\u001b[1;33m\u001b[0m\u001b[0m\n\u001b[0;32m   1701\u001b[0m             \u001b[0mindent_contents\u001b[0m \u001b[1;33m=\u001b[0m \u001b[1;32mNone\u001b[0m\u001b[1;33m\u001b[0m\u001b[1;33m\u001b[0m\u001b[0m\n\u001b[1;32m-> 1702\u001b[1;33m         contents = self.decode_contents(\n\u001b[0m\u001b[0;32m   1703\u001b[0m             \u001b[0mindent_contents\u001b[0m\u001b[1;33m,\u001b[0m \u001b[0meventual_encoding\u001b[0m\u001b[1;33m,\u001b[0m \u001b[0mformatter\u001b[0m\u001b[1;33m\u001b[0m\u001b[1;33m\u001b[0m\u001b[0m\n\u001b[0;32m   1704\u001b[0m         )\n",
      "\u001b[1;32m~\\anaconda3\\envs\\ML_env\\lib\\site-packages\\bs4\\element.py\u001b[0m in \u001b[0;36mdecode_contents\u001b[1;34m(self, indent_level, eventual_encoding, formatter)\u001b[0m\n\u001b[0;32m   1797\u001b[0m                 \u001b[0mtext\u001b[0m \u001b[1;33m=\u001b[0m \u001b[0mc\u001b[0m\u001b[1;33m.\u001b[0m\u001b[0moutput_ready\u001b[0m\u001b[1;33m(\u001b[0m\u001b[0mformatter\u001b[0m\u001b[1;33m)\u001b[0m\u001b[1;33m\u001b[0m\u001b[1;33m\u001b[0m\u001b[0m\n\u001b[0;32m   1798\u001b[0m             \u001b[1;32melif\u001b[0m \u001b[0misinstance\u001b[0m\u001b[1;33m(\u001b[0m\u001b[0mc\u001b[0m\u001b[1;33m,\u001b[0m \u001b[0mTag\u001b[0m\u001b[1;33m)\u001b[0m\u001b[1;33m:\u001b[0m\u001b[1;33m\u001b[0m\u001b[1;33m\u001b[0m\u001b[0m\n\u001b[1;32m-> 1799\u001b[1;33m                 s.append(c.decode(indent_level, eventual_encoding,\n\u001b[0m\u001b[0;32m   1800\u001b[0m                                   formatter))\n\u001b[0;32m   1801\u001b[0m             preserve_whitespace = (\n",
      "\u001b[1;32m~\\anaconda3\\envs\\ML_env\\lib\\site-packages\\bs4\\element.py\u001b[0m in \u001b[0;36mdecode\u001b[1;34m(self, indent_level, eventual_encoding, formatter)\u001b[0m\n\u001b[0;32m   1700\u001b[0m         \u001b[1;32melse\u001b[0m\u001b[1;33m:\u001b[0m\u001b[1;33m\u001b[0m\u001b[1;33m\u001b[0m\u001b[0m\n\u001b[0;32m   1701\u001b[0m             \u001b[0mindent_contents\u001b[0m \u001b[1;33m=\u001b[0m \u001b[1;32mNone\u001b[0m\u001b[1;33m\u001b[0m\u001b[1;33m\u001b[0m\u001b[0m\n\u001b[1;32m-> 1702\u001b[1;33m         contents = self.decode_contents(\n\u001b[0m\u001b[0;32m   1703\u001b[0m             \u001b[0mindent_contents\u001b[0m\u001b[1;33m,\u001b[0m \u001b[0meventual_encoding\u001b[0m\u001b[1;33m,\u001b[0m \u001b[0mformatter\u001b[0m\u001b[1;33m\u001b[0m\u001b[1;33m\u001b[0m\u001b[0m\n\u001b[0;32m   1704\u001b[0m         )\n",
      "\u001b[1;32m~\\anaconda3\\envs\\ML_env\\lib\\site-packages\\bs4\\element.py\u001b[0m in \u001b[0;36mdecode_contents\u001b[1;34m(self, indent_level, eventual_encoding, formatter)\u001b[0m\n\u001b[0;32m   1797\u001b[0m                 \u001b[0mtext\u001b[0m \u001b[1;33m=\u001b[0m \u001b[0mc\u001b[0m\u001b[1;33m.\u001b[0m\u001b[0moutput_ready\u001b[0m\u001b[1;33m(\u001b[0m\u001b[0mformatter\u001b[0m\u001b[1;33m)\u001b[0m\u001b[1;33m\u001b[0m\u001b[1;33m\u001b[0m\u001b[0m\n\u001b[0;32m   1798\u001b[0m             \u001b[1;32melif\u001b[0m \u001b[0misinstance\u001b[0m\u001b[1;33m(\u001b[0m\u001b[0mc\u001b[0m\u001b[1;33m,\u001b[0m \u001b[0mTag\u001b[0m\u001b[1;33m)\u001b[0m\u001b[1;33m:\u001b[0m\u001b[1;33m\u001b[0m\u001b[1;33m\u001b[0m\u001b[0m\n\u001b[1;32m-> 1799\u001b[1;33m                 s.append(c.decode(indent_level, eventual_encoding,\n\u001b[0m\u001b[0;32m   1800\u001b[0m                                   formatter))\n\u001b[0;32m   1801\u001b[0m             preserve_whitespace = (\n",
      "\u001b[1;32m~\\anaconda3\\envs\\ML_env\\lib\\site-packages\\bs4\\element.py\u001b[0m in \u001b[0;36mdecode\u001b[1;34m(self, indent_level, eventual_encoding, formatter)\u001b[0m\n\u001b[0;32m   1700\u001b[0m         \u001b[1;32melse\u001b[0m\u001b[1;33m:\u001b[0m\u001b[1;33m\u001b[0m\u001b[1;33m\u001b[0m\u001b[0m\n\u001b[0;32m   1701\u001b[0m             \u001b[0mindent_contents\u001b[0m \u001b[1;33m=\u001b[0m \u001b[1;32mNone\u001b[0m\u001b[1;33m\u001b[0m\u001b[1;33m\u001b[0m\u001b[0m\n\u001b[1;32m-> 1702\u001b[1;33m         contents = self.decode_contents(\n\u001b[0m\u001b[0;32m   1703\u001b[0m             \u001b[0mindent_contents\u001b[0m\u001b[1;33m,\u001b[0m \u001b[0meventual_encoding\u001b[0m\u001b[1;33m,\u001b[0m \u001b[0mformatter\u001b[0m\u001b[1;33m\u001b[0m\u001b[1;33m\u001b[0m\u001b[0m\n\u001b[0;32m   1704\u001b[0m         )\n",
      "\u001b[1;32m~\\anaconda3\\envs\\ML_env\\lib\\site-packages\\bs4\\element.py\u001b[0m in \u001b[0;36mdecode_contents\u001b[1;34m(self, indent_level, eventual_encoding, formatter)\u001b[0m\n\u001b[0;32m   1797\u001b[0m                 \u001b[0mtext\u001b[0m \u001b[1;33m=\u001b[0m \u001b[0mc\u001b[0m\u001b[1;33m.\u001b[0m\u001b[0moutput_ready\u001b[0m\u001b[1;33m(\u001b[0m\u001b[0mformatter\u001b[0m\u001b[1;33m)\u001b[0m\u001b[1;33m\u001b[0m\u001b[1;33m\u001b[0m\u001b[0m\n\u001b[0;32m   1798\u001b[0m             \u001b[1;32melif\u001b[0m \u001b[0misinstance\u001b[0m\u001b[1;33m(\u001b[0m\u001b[0mc\u001b[0m\u001b[1;33m,\u001b[0m \u001b[0mTag\u001b[0m\u001b[1;33m)\u001b[0m\u001b[1;33m:\u001b[0m\u001b[1;33m\u001b[0m\u001b[1;33m\u001b[0m\u001b[0m\n\u001b[1;32m-> 1799\u001b[1;33m                 s.append(c.decode(indent_level, eventual_encoding,\n\u001b[0m\u001b[0;32m   1800\u001b[0m                                   formatter))\n\u001b[0;32m   1801\u001b[0m             preserve_whitespace = (\n",
      "\u001b[1;32m~\\anaconda3\\envs\\ML_env\\lib\\site-packages\\bs4\\element.py\u001b[0m in \u001b[0;36mdecode\u001b[1;34m(self, indent_level, eventual_encoding, formatter)\u001b[0m\n\u001b[0;32m   1700\u001b[0m         \u001b[1;32melse\u001b[0m\u001b[1;33m:\u001b[0m\u001b[1;33m\u001b[0m\u001b[1;33m\u001b[0m\u001b[0m\n\u001b[0;32m   1701\u001b[0m             \u001b[0mindent_contents\u001b[0m \u001b[1;33m=\u001b[0m \u001b[1;32mNone\u001b[0m\u001b[1;33m\u001b[0m\u001b[1;33m\u001b[0m\u001b[0m\n\u001b[1;32m-> 1702\u001b[1;33m         contents = self.decode_contents(\n\u001b[0m\u001b[0;32m   1703\u001b[0m             \u001b[0mindent_contents\u001b[0m\u001b[1;33m,\u001b[0m \u001b[0meventual_encoding\u001b[0m\u001b[1;33m,\u001b[0m \u001b[0mformatter\u001b[0m\u001b[1;33m\u001b[0m\u001b[1;33m\u001b[0m\u001b[0m\n\u001b[0;32m   1704\u001b[0m         )\n",
      "\u001b[1;32m~\\anaconda3\\envs\\ML_env\\lib\\site-packages\\bs4\\element.py\u001b[0m in \u001b[0;36mdecode_contents\u001b[1;34m(self, indent_level, eventual_encoding, formatter)\u001b[0m\n\u001b[0;32m   1797\u001b[0m                 \u001b[0mtext\u001b[0m \u001b[1;33m=\u001b[0m \u001b[0mc\u001b[0m\u001b[1;33m.\u001b[0m\u001b[0moutput_ready\u001b[0m\u001b[1;33m(\u001b[0m\u001b[0mformatter\u001b[0m\u001b[1;33m)\u001b[0m\u001b[1;33m\u001b[0m\u001b[1;33m\u001b[0m\u001b[0m\n\u001b[0;32m   1798\u001b[0m             \u001b[1;32melif\u001b[0m \u001b[0misinstance\u001b[0m\u001b[1;33m(\u001b[0m\u001b[0mc\u001b[0m\u001b[1;33m,\u001b[0m \u001b[0mTag\u001b[0m\u001b[1;33m)\u001b[0m\u001b[1;33m:\u001b[0m\u001b[1;33m\u001b[0m\u001b[1;33m\u001b[0m\u001b[0m\n\u001b[1;32m-> 1799\u001b[1;33m                 s.append(c.decode(indent_level, eventual_encoding,\n\u001b[0m\u001b[0;32m   1800\u001b[0m                                   formatter))\n\u001b[0;32m   1801\u001b[0m             preserve_whitespace = (\n",
      "\u001b[1;32m~\\anaconda3\\envs\\ML_env\\lib\\site-packages\\bs4\\element.py\u001b[0m in \u001b[0;36mdecode\u001b[1;34m(self, indent_level, eventual_encoding, formatter)\u001b[0m\n\u001b[0;32m   1700\u001b[0m         \u001b[1;32melse\u001b[0m\u001b[1;33m:\u001b[0m\u001b[1;33m\u001b[0m\u001b[1;33m\u001b[0m\u001b[0m\n\u001b[0;32m   1701\u001b[0m             \u001b[0mindent_contents\u001b[0m \u001b[1;33m=\u001b[0m \u001b[1;32mNone\u001b[0m\u001b[1;33m\u001b[0m\u001b[1;33m\u001b[0m\u001b[0m\n\u001b[1;32m-> 1702\u001b[1;33m         contents = self.decode_contents(\n\u001b[0m\u001b[0;32m   1703\u001b[0m             \u001b[0mindent_contents\u001b[0m\u001b[1;33m,\u001b[0m \u001b[0meventual_encoding\u001b[0m\u001b[1;33m,\u001b[0m \u001b[0mformatter\u001b[0m\u001b[1;33m\u001b[0m\u001b[1;33m\u001b[0m\u001b[0m\n\u001b[0;32m   1704\u001b[0m         )\n",
      "\u001b[1;32m~\\anaconda3\\envs\\ML_env\\lib\\site-packages\\bs4\\element.py\u001b[0m in \u001b[0;36mdecode_contents\u001b[1;34m(self, indent_level, eventual_encoding, formatter)\u001b[0m\n\u001b[0;32m   1797\u001b[0m                 \u001b[0mtext\u001b[0m \u001b[1;33m=\u001b[0m \u001b[0mc\u001b[0m\u001b[1;33m.\u001b[0m\u001b[0moutput_ready\u001b[0m\u001b[1;33m(\u001b[0m\u001b[0mformatter\u001b[0m\u001b[1;33m)\u001b[0m\u001b[1;33m\u001b[0m\u001b[1;33m\u001b[0m\u001b[0m\n\u001b[0;32m   1798\u001b[0m             \u001b[1;32melif\u001b[0m \u001b[0misinstance\u001b[0m\u001b[1;33m(\u001b[0m\u001b[0mc\u001b[0m\u001b[1;33m,\u001b[0m \u001b[0mTag\u001b[0m\u001b[1;33m)\u001b[0m\u001b[1;33m:\u001b[0m\u001b[1;33m\u001b[0m\u001b[1;33m\u001b[0m\u001b[0m\n\u001b[1;32m-> 1799\u001b[1;33m                 s.append(c.decode(indent_level, eventual_encoding,\n\u001b[0m\u001b[0;32m   1800\u001b[0m                                   formatter))\n\u001b[0;32m   1801\u001b[0m             preserve_whitespace = (\n",
      "\u001b[1;32m~\\anaconda3\\envs\\ML_env\\lib\\site-packages\\bs4\\element.py\u001b[0m in \u001b[0;36mdecode\u001b[1;34m(self, indent_level, eventual_encoding, formatter)\u001b[0m\n\u001b[0;32m   1700\u001b[0m         \u001b[1;32melse\u001b[0m\u001b[1;33m:\u001b[0m\u001b[1;33m\u001b[0m\u001b[1;33m\u001b[0m\u001b[0m\n\u001b[0;32m   1701\u001b[0m             \u001b[0mindent_contents\u001b[0m \u001b[1;33m=\u001b[0m \u001b[1;32mNone\u001b[0m\u001b[1;33m\u001b[0m\u001b[1;33m\u001b[0m\u001b[0m\n\u001b[1;32m-> 1702\u001b[1;33m         contents = self.decode_contents(\n\u001b[0m\u001b[0;32m   1703\u001b[0m             \u001b[0mindent_contents\u001b[0m\u001b[1;33m,\u001b[0m \u001b[0meventual_encoding\u001b[0m\u001b[1;33m,\u001b[0m \u001b[0mformatter\u001b[0m\u001b[1;33m\u001b[0m\u001b[1;33m\u001b[0m\u001b[0m\n\u001b[0;32m   1704\u001b[0m         )\n",
      "\u001b[1;32m~\\anaconda3\\envs\\ML_env\\lib\\site-packages\\bs4\\element.py\u001b[0m in \u001b[0;36mdecode_contents\u001b[1;34m(self, indent_level, eventual_encoding, formatter)\u001b[0m\n\u001b[0;32m   1795\u001b[0m             \u001b[0mtext\u001b[0m \u001b[1;33m=\u001b[0m \u001b[1;32mNone\u001b[0m\u001b[1;33m\u001b[0m\u001b[1;33m\u001b[0m\u001b[0m\n\u001b[0;32m   1796\u001b[0m             \u001b[1;32mif\u001b[0m \u001b[0misinstance\u001b[0m\u001b[1;33m(\u001b[0m\u001b[0mc\u001b[0m\u001b[1;33m,\u001b[0m \u001b[0mNavigableString\u001b[0m\u001b[1;33m)\u001b[0m\u001b[1;33m:\u001b[0m\u001b[1;33m\u001b[0m\u001b[1;33m\u001b[0m\u001b[0m\n\u001b[1;32m-> 1797\u001b[1;33m                 \u001b[0mtext\u001b[0m \u001b[1;33m=\u001b[0m \u001b[0mc\u001b[0m\u001b[1;33m.\u001b[0m\u001b[0moutput_ready\u001b[0m\u001b[1;33m(\u001b[0m\u001b[0mformatter\u001b[0m\u001b[1;33m)\u001b[0m\u001b[1;33m\u001b[0m\u001b[1;33m\u001b[0m\u001b[0m\n\u001b[0m\u001b[0;32m   1798\u001b[0m             \u001b[1;32melif\u001b[0m \u001b[0misinstance\u001b[0m\u001b[1;33m(\u001b[0m\u001b[0mc\u001b[0m\u001b[1;33m,\u001b[0m \u001b[0mTag\u001b[0m\u001b[1;33m)\u001b[0m\u001b[1;33m:\u001b[0m\u001b[1;33m\u001b[0m\u001b[1;33m\u001b[0m\u001b[0m\n\u001b[0;32m   1799\u001b[0m                 s.append(c.decode(indent_level, eventual_encoding,\n",
      "\u001b[1;32m~\\anaconda3\\envs\\ML_env\\lib\\site-packages\\bs4\\element.py\u001b[0m in \u001b[0;36moutput_ready\u001b[1;34m(self, formatter)\u001b[0m\n\u001b[0;32m    972\u001b[0m         \u001b[1;33m:\u001b[0m\u001b[0mparam\u001b[0m \u001b[0mformatter\u001b[0m\u001b[1;33m:\u001b[0m \u001b[0mA\u001b[0m \u001b[0mFormatter\u001b[0m \u001b[0mobject\u001b[0m\u001b[1;33m,\u001b[0m \u001b[1;32mor\u001b[0m \u001b[0ma\u001b[0m \u001b[0mstring\u001b[0m \u001b[0mnaming\u001b[0m \u001b[0mone\u001b[0m \u001b[0mof\u001b[0m \u001b[0mthe\u001b[0m \u001b[0mstandard\u001b[0m \u001b[0mformatters\u001b[0m\u001b[1;33m.\u001b[0m\u001b[1;33m\u001b[0m\u001b[1;33m\u001b[0m\u001b[0m\n\u001b[0;32m    973\u001b[0m         \"\"\"\n\u001b[1;32m--> 974\u001b[1;33m         \u001b[0moutput\u001b[0m \u001b[1;33m=\u001b[0m \u001b[0mself\u001b[0m\u001b[1;33m.\u001b[0m\u001b[0mformat_string\u001b[0m\u001b[1;33m(\u001b[0m\u001b[0mself\u001b[0m\u001b[1;33m,\u001b[0m \u001b[0mformatter\u001b[0m\u001b[1;33m)\u001b[0m\u001b[1;33m\u001b[0m\u001b[1;33m\u001b[0m\u001b[0m\n\u001b[0m\u001b[0;32m    975\u001b[0m         \u001b[1;32mreturn\u001b[0m \u001b[0mself\u001b[0m\u001b[1;33m.\u001b[0m\u001b[0mPREFIX\u001b[0m \u001b[1;33m+\u001b[0m \u001b[0moutput\u001b[0m \u001b[1;33m+\u001b[0m \u001b[0mself\u001b[0m\u001b[1;33m.\u001b[0m\u001b[0mSUFFIX\u001b[0m\u001b[1;33m\u001b[0m\u001b[1;33m\u001b[0m\u001b[0m\n\u001b[0;32m    976\u001b[0m \u001b[1;33m\u001b[0m\u001b[0m\n",
      "\u001b[1;32m~\\anaconda3\\envs\\ML_env\\lib\\site-packages\\bs4\\element.py\u001b[0m in \u001b[0;36mformat_string\u001b[1;34m(self, s, formatter)\u001b[0m\n\u001b[0;32m    206\u001b[0m         \u001b[1;32mif\u001b[0m \u001b[1;32mnot\u001b[0m \u001b[0misinstance\u001b[0m\u001b[1;33m(\u001b[0m\u001b[0mformatter\u001b[0m\u001b[1;33m,\u001b[0m \u001b[0mFormatter\u001b[0m\u001b[1;33m)\u001b[0m\u001b[1;33m:\u001b[0m\u001b[1;33m\u001b[0m\u001b[1;33m\u001b[0m\u001b[0m\n\u001b[0;32m    207\u001b[0m             \u001b[0mformatter\u001b[0m \u001b[1;33m=\u001b[0m \u001b[0mself\u001b[0m\u001b[1;33m.\u001b[0m\u001b[0mformatter_for_name\u001b[0m\u001b[1;33m(\u001b[0m\u001b[0mformatter\u001b[0m\u001b[1;33m)\u001b[0m\u001b[1;33m\u001b[0m\u001b[1;33m\u001b[0m\u001b[0m\n\u001b[1;32m--> 208\u001b[1;33m         \u001b[0moutput\u001b[0m \u001b[1;33m=\u001b[0m \u001b[0mformatter\u001b[0m\u001b[1;33m.\u001b[0m\u001b[0msubstitute\u001b[0m\u001b[1;33m(\u001b[0m\u001b[0ms\u001b[0m\u001b[1;33m)\u001b[0m\u001b[1;33m\u001b[0m\u001b[1;33m\u001b[0m\u001b[0m\n\u001b[0m\u001b[0;32m    209\u001b[0m         \u001b[1;32mreturn\u001b[0m \u001b[0moutput\u001b[0m\u001b[1;33m\u001b[0m\u001b[1;33m\u001b[0m\u001b[0m\n\u001b[0;32m    210\u001b[0m \u001b[1;33m\u001b[0m\u001b[0m\n",
      "\u001b[1;32m~\\anaconda3\\envs\\ML_env\\lib\\site-packages\\bs4\\formatter.py\u001b[0m in \u001b[0;36msubstitute\u001b[1;34m(self, ns)\u001b[0m\n\u001b[0;32m    113\u001b[0m         if (isinstance(ns, NavigableString)\n\u001b[0;32m    114\u001b[0m             \u001b[1;32mand\u001b[0m \u001b[0mns\u001b[0m\u001b[1;33m.\u001b[0m\u001b[0mparent\u001b[0m \u001b[1;32mis\u001b[0m \u001b[1;32mnot\u001b[0m \u001b[1;32mNone\u001b[0m\u001b[1;33m\u001b[0m\u001b[1;33m\u001b[0m\u001b[0m\n\u001b[1;32m--> 115\u001b[1;33m             and ns.parent.name in self.cdata_containing_tags):\n\u001b[0m\u001b[0;32m    116\u001b[0m             \u001b[1;31m# Do nothing.\u001b[0m\u001b[1;33m\u001b[0m\u001b[1;33m\u001b[0m\u001b[0m\n\u001b[0;32m    117\u001b[0m             \u001b[1;32mreturn\u001b[0m \u001b[0mns\u001b[0m\u001b[1;33m\u001b[0m\u001b[1;33m\u001b[0m\u001b[0m\n",
      "\u001b[1;31mKeyboardInterrupt\u001b[0m: "
     ]
    }
   ],
   "source": [
    "for i in tqdm(range(599, 2670)):\n",
    "    craw.run(i, 1)\n",
    "    clear_output()"
   ]
  },
  {
   "cell_type": "code",
   "execution_count": null,
   "id": "cb86a32a-63b2-4d7f-9e19-bb80be7513fd",
   "metadata": {},
   "outputs": [],
   "source": []
  }
 ],
 "metadata": {
  "kernelspec": {
   "display_name": "Python 3 (ipykernel)",
   "language": "python",
   "name": "python3"
  },
  "language_info": {
   "codemirror_mode": {
    "name": "ipython",
    "version": 3
   },
   "file_extension": ".py",
   "mimetype": "text/x-python",
   "name": "python",
   "nbconvert_exporter": "python",
   "pygments_lexer": "ipython3",
   "version": "3.10.4"
  }
 },
 "nbformat": 4,
 "nbformat_minor": 5
}
