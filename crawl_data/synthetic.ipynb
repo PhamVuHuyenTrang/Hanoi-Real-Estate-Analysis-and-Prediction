{
 "cells": [
  {
   "cell_type": "code",
   "execution_count": 1,
   "id": "86dedd49-c5c9-4b2e-9bdc-00b8f81740fb",
   "metadata": {},
   "outputs": [],
   "source": [
    "import pandas as pd\n",
    "import numpy\n",
    "from collections import defaultdict"
   ]
  },
  {
   "cell_type": "markdown",
   "id": "2c3f4f29-3c4c-4f57-87af-da148769e4f2",
   "metadata": {
    "jp-MarkdownHeadingCollapsed": true,
    "tags": []
   },
   "source": [
    "# Load data"
   ]
  },
  {
   "cell_type": "code",
   "execution_count": 2,
   "id": "0d661a34-bd35-423b-9920-494bdd322dcd",
   "metadata": {},
   "outputs": [],
   "source": [
    "bdscom = pd.read_csv(\"bds_com.csv\")"
   ]
  },
  {
   "cell_type": "code",
   "execution_count": 3,
   "id": "1110b4f1-37c4-460b-a071-1d6cf52a818e",
   "metadata": {},
   "outputs": [],
   "source": [
    "home = pd.read_csv(\"data_fo_vs.csv\")"
   ]
  },
  {
   "cell_type": "code",
   "execution_count": 4,
   "id": "156520be-6040-400e-bdbd-e2be612340ac",
   "metadata": {},
   "outputs": [],
   "source": [
    "bdsso = pd.read_csv(\"bds_so.csv\")"
   ]
  },
  {
   "cell_type": "code",
   "execution_count": 5,
   "id": "65746412-ad9b-47de-9f6e-a95ad62aa718",
   "metadata": {},
   "outputs": [],
   "source": [
    "alo = pd.read_csv(\"alo.csv\")"
   ]
  },
  {
   "cell_type": "markdown",
   "id": "e41f6947-4b92-47e0-8d1a-73af40834c6f",
   "metadata": {
    "jp-MarkdownHeadingCollapsed": true,
    "tags": []
   },
   "source": [
    "# Clean batdongsan.com"
   ]
  },
  {
   "cell_type": "code",
   "execution_count": 6,
   "id": "6d813b62-ec7d-4c9a-9af5-8dee5bba1f36",
   "metadata": {},
   "outputs": [
    {
     "data": {
      "text/plain": [
       "Index(['House Direction', 'Balcony Direction', 'Bedrooms', 'Toilets', 'Legits',\n",
       "       'Furnitures', 'Floors', 'Facade', 'Entrance', 'City', 'District',\n",
       "       'Ward', 'Street', 'Area', 'Price'],\n",
       "      dtype='object')"
      ]
     },
     "execution_count": 6,
     "metadata": {},
     "output_type": "execute_result"
    }
   ],
   "source": [
    "bdscom.columns"
   ]
  },
  {
   "cell_type": "code",
   "execution_count": 7,
   "id": "f8cb8899-0011-49df-b895-a4e06315c77c",
   "metadata": {},
   "outputs": [],
   "source": [
    "bdscom[\"District\"] = bdscom[\"District\"].apply(lambda x: x.lower().replace(\"quận\", \"\").strip())\n",
    "bdscom[\"District\"] = bdscom[\"District\"].apply(lambda x: x.lower().replace(\"huyện\", \"\").strip())\n",
    "\n",
    "bdscom[\"Ward\"] = bdscom[\"Ward\"].apply(lambda x: x.lower().replace(\"xã\", \"\").strip())\n",
    "bdscom[\"Ward\"] = bdscom[\"Ward\"].apply(lambda x: x.lower().replace(\"phường\", \"\").strip())\n",
    "bdscom[\"Ward\"] = bdscom[\"Ward\"].apply(lambda x: x.lower().replace(\"thị trấn\", \"\").strip())\n",
    "\n",
    "bdscom[\"Street\"] = bdscom[\"Street\"].apply(lambda x: x.lower().replace(\"đường\", \"\").strip())"
   ]
  },
  {
   "cell_type": "markdown",
   "id": "6f9caeb8-5b75-4872-9ad7-49d5dcda66e1",
   "metadata": {
    "jp-MarkdownHeadingCollapsed": true,
    "tags": []
   },
   "source": [
    "#  Clean homedy"
   ]
  },
  {
   "cell_type": "code",
   "execution_count": 8,
   "id": "57c8e28c-db46-4efa-bd08-64d6f106bfae",
   "metadata": {},
   "outputs": [
    {
     "data": {
      "text/plain": [
       "Index(['Unnamed: 0', 'Price', 'Area', 'Mặt tiền', 'Số phòng ngủ',\n",
       "       'Hướng ban công', 'Tình trạng pháp lý', 'Hướng nhà', 'Số tầng',\n",
       "       'Bồn cầu', 'City', 'District', 'Name'],\n",
       "      dtype='object')"
      ]
     },
     "execution_count": 8,
     "metadata": {},
     "output_type": "execute_result"
    }
   ],
   "source": [
    "home.columns"
   ]
  },
  {
   "cell_type": "code",
   "execution_count": 9,
   "id": "05cfc3ed-5367-4c2c-9929-a83c493f299c",
   "metadata": {},
   "outputs": [],
   "source": [
    "home = home[['Area', 'Mặt tiền', 'Số phòng ngủ',\n",
    "       'Hướng ban công', 'Tình trạng pháp lý', 'Hướng nhà', 'Số tầng',\n",
    "       'Bồn cầu', 'City', 'District', 'Price']]"
   ]
  },
  {
   "cell_type": "code",
   "execution_count": 10,
   "id": "a6b73ae5-13ca-4296-a52f-3a75a82d4327",
   "metadata": {},
   "outputs": [],
   "source": [
    "features = {'Mặt tiền': \"Facade\", 'Số phòng ngủ':\"Bedrooms\",\n",
    "       'Hướng ban công': \"Balcony Direction\", 'Tình trạng pháp lý':\"Legits\", 'Hướng nhà':\"House Direction\"\n",
    "            , 'Số tầng': \"Floors\",\n",
    "       'Bồn cầu':\"Toilets\"}\n",
    "home = home.rename(columns=features)"
   ]
  },
  {
   "cell_type": "code",
   "execution_count": 11,
   "id": "0bf06b72-4a68-4775-8f21-6cb250d93042",
   "metadata": {},
   "outputs": [],
   "source": [
    "home = home.fillna(\"None\")"
   ]
  },
  {
   "cell_type": "code",
   "execution_count": 12,
   "id": "13425728-c668-40d7-ba9e-9d1aaa425528",
   "metadata": {},
   "outputs": [],
   "source": [
    "home[\"District\"] = home[\"District\"].apply(lambda x: x.lower().replace(\"quận\", \"\").strip())\n",
    "home[\"District\"] = home[\"District\"].apply(lambda x: x.lower().replace(\"huyện\", \"\").strip())\n"
   ]
  },
  {
   "cell_type": "markdown",
   "id": "2b234c32-c716-4612-bdcf-825ebd6256a6",
   "metadata": {
    "jp-MarkdownHeadingCollapsed": true,
    "tags": []
   },
   "source": [
    "# Clean alonhadat"
   ]
  },
  {
   "cell_type": "code",
   "execution_count": 13,
   "id": "ca3afd8e-c108-499b-bacf-e59f2a97d0f4",
   "metadata": {},
   "outputs": [
    {
     "data": {
      "text/plain": [
       "Index(['Unnamed: 0', 'price', 'area', 'Hướng', 'Phòng ăn', 'Đường trước nhà',\n",
       "       'Nhà bếp', 'Loại BDS', 'Pháp lý', 'Sân thượng', 'Số lầu',\n",
       "       'Chổ để xe hơi', 'Số phòng ngủ', 'Chính chủ', 'city', 'district',\n",
       "       'ward', 'street'],\n",
       "      dtype='object')"
      ]
     },
     "execution_count": 13,
     "metadata": {},
     "output_type": "execute_result"
    }
   ],
   "source": [
    "alo.columns"
   ]
  },
  {
   "cell_type": "code",
   "execution_count": 14,
   "id": "a012e2fe-bda7-4d32-b1a4-44593565816c",
   "metadata": {},
   "outputs": [],
   "source": [
    "alo = alo[['price', 'area', 'Hướng',\n",
    "       'Đường trước nhà', 'Pháp lý',\n",
    "        'Số lầu', 'Số phòng ngủ','district',\n",
    "       'ward', 'street']]"
   ]
  },
  {
   "cell_type": "code",
   "execution_count": 15,
   "id": "55637706-fd8c-431c-8249-ee46c1b529d4",
   "metadata": {},
   "outputs": [],
   "source": [
    "alo = alo.rename(columns={'price':\"Price\", 'area':\"Area\", 'Hướng':\"House Direction\",\n",
    "       'Đường trước nhà': \"Facade\", 'Pháp lý':\"Legits\",\n",
    "        'Số lầu':\"Floors\", 'Số phòng ngủ':\"Bedrooms\", 'district':\"District\",\n",
    "       'ward':\"Ward\", 'street':\"Street\"})"
   ]
  },
  {
   "cell_type": "code",
   "execution_count": 16,
   "id": "ae4b37cc-ba21-43f6-a962-945d7e8e4451",
   "metadata": {},
   "outputs": [],
   "source": [
    "alo = alo[alo[\"Price\"] != \"None\"]"
   ]
  },
  {
   "cell_type": "code",
   "execution_count": 17,
   "id": "fffbd007-92f4-4e22-84d7-fc5003698699",
   "metadata": {},
   "outputs": [],
   "source": [
    "alo[\"District\"] = alo[\"District\"].apply(lambda x: x.lower().replace(\"quận\", \"\").strip())\n",
    "alo[\"District\"] = alo[\"District\"].apply(lambda x: x.lower().replace(\"huyện\", \"\").strip())\n",
    "\n",
    "alo[\"Ward\"] = alo[\"Ward\"].apply(lambda x: x.lower().replace(\"xã\", \"\").strip())\n",
    "alo[\"Ward\"] = alo[\"Ward\"].apply(lambda x: x.lower().replace(\"phường\", \"\").strip())\n",
    "alo[\"Ward\"] = alo[\"Ward\"].apply(lambda x: x.lower().replace(\"thị trấn\", \"\").strip())\n",
    "\n",
    "alo[\"Street\"] = alo[\"Street\"].apply(lambda x: x.lower().replace(\"đường\", \"\").strip())"
   ]
  },
  {
   "cell_type": "markdown",
   "id": "204d0e8c-15b5-4091-9280-fe56d25ff983",
   "metadata": {
    "jp-MarkdownHeadingCollapsed": true,
    "tags": []
   },
   "source": [
    "# Clean batdongsanso"
   ]
  },
  {
   "cell_type": "code",
   "execution_count": 18,
   "id": "ec3af00a-0be5-4d39-96ee-14dddedc7759",
   "metadata": {},
   "outputs": [
    {
     "data": {
      "text/plain": [
       "Index(['Unnamed: 0', 'Price', 'Address', 'Area', 'Direction', 'Facade',\n",
       "       'Building Line', 'Floors', 'Bedrooms', 'Toilets', 'Details',\n",
       "       'Publish Time', 'Type', 'ID', 'District'],\n",
       "      dtype='object')"
      ]
     },
     "execution_count": 18,
     "metadata": {},
     "output_type": "execute_result"
    }
   ],
   "source": [
    "bdsso.columns"
   ]
  },
  {
   "cell_type": "code",
   "execution_count": 19,
   "id": "d529ad21-19f0-48c9-96e0-91a8c51d8df2",
   "metadata": {},
   "outputs": [
    {
     "data": {
      "text/html": [
       "<div>\n",
       "<style scoped>\n",
       "    .dataframe tbody tr th:only-of-type {\n",
       "        vertical-align: middle;\n",
       "    }\n",
       "\n",
       "    .dataframe tbody tr th {\n",
       "        vertical-align: top;\n",
       "    }\n",
       "\n",
       "    .dataframe thead th {\n",
       "        text-align: right;\n",
       "    }\n",
       "</style>\n",
       "<table border=\"1\" class=\"dataframe\">\n",
       "  <thead>\n",
       "    <tr style=\"text-align: right;\">\n",
       "      <th></th>\n",
       "      <th>Unnamed: 0</th>\n",
       "      <th>Price</th>\n",
       "      <th>Address</th>\n",
       "      <th>Area</th>\n",
       "      <th>Direction</th>\n",
       "      <th>Facade</th>\n",
       "      <th>Building Line</th>\n",
       "      <th>Floors</th>\n",
       "      <th>Bedrooms</th>\n",
       "      <th>Toilets</th>\n",
       "      <th>Details</th>\n",
       "      <th>Publish Time</th>\n",
       "      <th>Type</th>\n",
       "      <th>ID</th>\n",
       "      <th>District</th>\n",
       "    </tr>\n",
       "  </thead>\n",
       "  <tbody>\n",
       "    <tr>\n",
       "      <th>0</th>\n",
       "      <td>5</td>\n",
       "      <td>7990</td>\n",
       "      <td>Thụy Khuê, Phường Thụy Khuê, Quận Tây Hồ, Hà Nội</td>\n",
       "      <td>50.0</td>\n",
       "      <td>None</td>\n",
       "      <td>4.0</td>\n",
       "      <td>6.0</td>\n",
       "      <td>5</td>\n",
       "      <td>4</td>\n",
       "      <td>5</td>\n",
       "      <td>Cc cần bán nhà trung tâm của quận Ba Đình, vie...</td>\n",
       "      <td>25/11/2021</td>\n",
       "      <td>Tin thường</td>\n",
       "      <td>batdongsan_so_com_vn_1673831410.7385442</td>\n",
       "      <td>Tây Hồ</td>\n",
       "    </tr>\n",
       "    <tr>\n",
       "      <th>1</th>\n",
       "      <td>40</td>\n",
       "      <td>12500</td>\n",
       "      <td>Kim Đồng, Hoàng Mai, Hà Nội</td>\n",
       "      <td>119.0</td>\n",
       "      <td>None</td>\n",
       "      <td>4.0</td>\n",
       "      <td>7.0</td>\n",
       "      <td>5</td>\n",
       "      <td>5</td>\n",
       "      <td>5</td>\n",
       "      <td>Nhà Mặt ngõ: 1 nhà 5t, R4.5m, 60m2, vỉa hè 2m ...</td>\n",
       "      <td>17/09/2021</td>\n",
       "      <td>Tin thường</td>\n",
       "      <td>batdongsan_so_com_vn_1673831496.202973</td>\n",
       "      <td>Hoàng Mai</td>\n",
       "    </tr>\n",
       "  </tbody>\n",
       "</table>\n",
       "</div>"
      ],
      "text/plain": [
       "   Unnamed: 0  Price                                           Address   Area  \\\n",
       "0           5   7990  Thụy Khuê, Phường Thụy Khuê, Quận Tây Hồ, Hà Nội   50.0   \n",
       "1          40  12500                       Kim Đồng, Hoàng Mai, Hà Nội  119.0   \n",
       "\n",
       "  Direction  Facade  Building Line Floors Bedrooms Toilets  \\\n",
       "0      None     4.0            6.0      5        4       5   \n",
       "1      None     4.0            7.0      5        5       5   \n",
       "\n",
       "                                             Details Publish Time        Type  \\\n",
       "0  Cc cần bán nhà trung tâm của quận Ba Đình, vie...   25/11/2021  Tin thường   \n",
       "1  Nhà Mặt ngõ: 1 nhà 5t, R4.5m, 60m2, vỉa hè 2m ...   17/09/2021  Tin thường   \n",
       "\n",
       "                                        ID   District  \n",
       "0  batdongsan_so_com_vn_1673831410.7385442     Tây Hồ  \n",
       "1   batdongsan_so_com_vn_1673831496.202973  Hoàng Mai  "
      ]
     },
     "execution_count": 19,
     "metadata": {},
     "output_type": "execute_result"
    }
   ],
   "source": [
    "bdsso.head(2)"
   ]
  },
  {
   "cell_type": "code",
   "execution_count": 20,
   "id": "d0011db2-34d4-44a4-80d6-09a36e55d52e",
   "metadata": {},
   "outputs": [],
   "source": [
    "bdsso = bdsso[['Price', 'Area', 'Facade',  'Floors',\n",
    "       'Bedrooms', 'Toilets', 'Direction',\n",
    "       'District']]"
   ]
  },
  {
   "cell_type": "code",
   "execution_count": 21,
   "id": "295dae01-4886-4d5e-90ab-8e97e735a6d8",
   "metadata": {},
   "outputs": [
    {
     "data": {
      "text/html": [
       "<div>\n",
       "<style scoped>\n",
       "    .dataframe tbody tr th:only-of-type {\n",
       "        vertical-align: middle;\n",
       "    }\n",
       "\n",
       "    .dataframe tbody tr th {\n",
       "        vertical-align: top;\n",
       "    }\n",
       "\n",
       "    .dataframe thead th {\n",
       "        text-align: right;\n",
       "    }\n",
       "</style>\n",
       "<table border=\"1\" class=\"dataframe\">\n",
       "  <thead>\n",
       "    <tr style=\"text-align: right;\">\n",
       "      <th></th>\n",
       "      <th>Price</th>\n",
       "      <th>Area</th>\n",
       "      <th>Facade</th>\n",
       "      <th>Floors</th>\n",
       "      <th>Bedrooms</th>\n",
       "      <th>Toilets</th>\n",
       "      <th>House Direction</th>\n",
       "      <th>District</th>\n",
       "    </tr>\n",
       "  </thead>\n",
       "  <tbody>\n",
       "    <tr>\n",
       "      <th>0</th>\n",
       "      <td>7990</td>\n",
       "      <td>50.0</td>\n",
       "      <td>4.0</td>\n",
       "      <td>5</td>\n",
       "      <td>4</td>\n",
       "      <td>5</td>\n",
       "      <td>None</td>\n",
       "      <td>Tây Hồ</td>\n",
       "    </tr>\n",
       "    <tr>\n",
       "      <th>1</th>\n",
       "      <td>12500</td>\n",
       "      <td>119.0</td>\n",
       "      <td>4.0</td>\n",
       "      <td>5</td>\n",
       "      <td>5</td>\n",
       "      <td>5</td>\n",
       "      <td>None</td>\n",
       "      <td>Hoàng Mai</td>\n",
       "    </tr>\n",
       "    <tr>\n",
       "      <th>2</th>\n",
       "      <td>17100</td>\n",
       "      <td>79.0</td>\n",
       "      <td>4.0</td>\n",
       "      <td>5</td>\n",
       "      <td>6</td>\n",
       "      <td>None</td>\n",
       "      <td>None</td>\n",
       "      <td>Thanh Xuân</td>\n",
       "    </tr>\n",
       "    <tr>\n",
       "      <th>3</th>\n",
       "      <td>9900</td>\n",
       "      <td>46.0</td>\n",
       "      <td>4.0</td>\n",
       "      <td>7</td>\n",
       "      <td>5</td>\n",
       "      <td>None</td>\n",
       "      <td>None</td>\n",
       "      <td>Thanh Xuân</td>\n",
       "    </tr>\n",
       "    <tr>\n",
       "      <th>4</th>\n",
       "      <td>6800</td>\n",
       "      <td>45.0</td>\n",
       "      <td>4.0</td>\n",
       "      <td>5</td>\n",
       "      <td>4</td>\n",
       "      <td>None</td>\n",
       "      <td>None</td>\n",
       "      <td>Hà Đông</td>\n",
       "    </tr>\n",
       "  </tbody>\n",
       "</table>\n",
       "</div>"
      ],
      "text/plain": [
       "   Price   Area  Facade Floors Bedrooms Toilets House Direction    District\n",
       "0   7990   50.0     4.0      5        4       5            None      Tây Hồ\n",
       "1  12500  119.0     4.0      5        5       5            None   Hoàng Mai\n",
       "2  17100   79.0     4.0      5        6    None            None  Thanh Xuân\n",
       "3   9900   46.0     4.0      7        5    None            None  Thanh Xuân\n",
       "4   6800   45.0     4.0      5        4    None            None     Hà Đông"
      ]
     },
     "execution_count": 21,
     "metadata": {},
     "output_type": "execute_result"
    }
   ],
   "source": [
    "bdsso = bdsso.rename({\"Direction\":\"House Direction\"}, axis=1)\n",
    "bdsso.head()"
   ]
  },
  {
   "cell_type": "code",
   "execution_count": 22,
   "id": "76b53ef1-ad17-4c9e-b10a-228c57ded7fb",
   "metadata": {},
   "outputs": [],
   "source": [
    "bdsso = bdsso.fillna(\"None\")"
   ]
  },
  {
   "cell_type": "code",
   "execution_count": 23,
   "id": "8cf0561d-f926-4934-99b2-6ea3229b9adf",
   "metadata": {},
   "outputs": [],
   "source": [
    "bdsso[\"District\"] = bdsso[\"District\"].apply(lambda x: x.lower().replace(\"quận\", \"\").strip())\n",
    "bdsso[\"District\"] = bdsso[\"District\"].apply(lambda x: x.lower().replace(\"huyện\", \"\").strip())\n"
   ]
  },
  {
   "cell_type": "markdown",
   "id": "03700180-7c43-4df9-ad34-d40380f30f1d",
   "metadata": {
    "jp-MarkdownHeadingCollapsed": true,
    "tags": []
   },
   "source": [
    "# Verify Address"
   ]
  },
  {
   "cell_type": "code",
   "execution_count": 24,
   "id": "39d5b4e3-8665-4f5c-96b7-e84d76e45b09",
   "metadata": {},
   "outputs": [],
   "source": [
    "address = pd.read_excel(\"hanoiaddress.xlsx\")"
   ]
  },
  {
   "cell_type": "code",
   "execution_count": 25,
   "id": "e2d623b5-ad72-445c-859c-ce7ecfce7422",
   "metadata": {},
   "outputs": [
    {
     "data": {
      "text/plain": [
       "0      ba đình\n",
       "1      ba đình\n",
       "2      ba đình\n",
       "3      ba đình\n",
       "4      ba đình\n",
       "        ...   \n",
       "574     mỹ đức\n",
       "575     mỹ đức\n",
       "576     mỹ đức\n",
       "577     mỹ đức\n",
       "578     mỹ đức\n",
       "Name: Quận Huyện, Length: 579, dtype: object"
      ]
     },
     "execution_count": 25,
     "metadata": {},
     "output_type": "execute_result"
    }
   ],
   "source": [
    "address[\"Quận Huyện\"]=address[\"Quận Huyện\"].apply(lambda x: x.replace(\"Quận \",\"\").strip().lower())\n",
    "address[\"Quận Huyện\"]=address[\"Quận Huyện\"].apply(lambda x: x.replace(\"huyện \",\"\").strip().lower())\n",
    "address[\"Quận Huyện\"]"
   ]
  },
  {
   "cell_type": "code",
   "execution_count": 26,
   "id": "42e2a710-b98a-4c3c-95eb-89684935d387",
   "metadata": {
    "tags": []
   },
   "outputs": [
    {
     "data": {
      "text/plain": [
       "0        phúc xá\n",
       "1      trúc bạch\n",
       "2      vĩnh phúc\n",
       "3        cống vị\n",
       "4      liễu giai\n",
       "         ...    \n",
       "574    hùng tiến\n",
       "575      an tiến\n",
       "576     hợp tiến\n",
       "577    hợp thanh\n",
       "578       an phú\n",
       "Name: Xã Phường, Length: 579, dtype: object"
      ]
     },
     "execution_count": 26,
     "metadata": {},
     "output_type": "execute_result"
    }
   ],
   "source": [
    "address[\"Xã Phường\"]=address[\"Xã Phường\"].apply(lambda x: x.lower().replace(\"phường \",\"\").strip().lower())\n",
    "address[\"Xã Phường\"]=address[\"Xã Phường\"].apply(lambda x: x.lower().replace(\"xã \",\"\").strip().lower())\n",
    "\n",
    "address[\"Xã Phường\"]"
   ]
  },
  {
   "cell_type": "code",
   "execution_count": 27,
   "id": "2e8d7f97-b446-4c63-885f-d35c6b65a71f",
   "metadata": {},
   "outputs": [
    {
     "name": "stdout",
     "output_type": "stream",
     "text": [
      "sơn tây\n",
      "phường bách khoa\n",
      "nam từ liêm\n",
      "từ liêm\n"
     ]
    },
    {
     "data": {
      "text/html": [
       "<div>\n",
       "<style scoped>\n",
       "    .dataframe tbody tr th:only-of-type {\n",
       "        vertical-align: middle;\n",
       "    }\n",
       "\n",
       "    .dataframe tbody tr th {\n",
       "        vertical-align: top;\n",
       "    }\n",
       "\n",
       "    .dataframe thead th {\n",
       "        text-align: right;\n",
       "    }\n",
       "</style>\n",
       "<table border=\"1\" class=\"dataframe\">\n",
       "  <thead>\n",
       "    <tr style=\"text-align: right;\">\n",
       "      <th></th>\n",
       "      <th>House Direction</th>\n",
       "      <th>Balcony Direction</th>\n",
       "      <th>Bedrooms</th>\n",
       "      <th>Toilets</th>\n",
       "      <th>Legits</th>\n",
       "      <th>Furnitures</th>\n",
       "      <th>Floors</th>\n",
       "      <th>Facade</th>\n",
       "      <th>Entrance</th>\n",
       "      <th>City</th>\n",
       "      <th>District</th>\n",
       "      <th>Ward</th>\n",
       "      <th>Street</th>\n",
       "      <th>Area</th>\n",
       "      <th>Price</th>\n",
       "    </tr>\n",
       "  </thead>\n",
       "  <tbody>\n",
       "    <tr>\n",
       "      <th>0</th>\n",
       "      <td>Nam</td>\n",
       "      <td>Bắc</td>\n",
       "      <td>3</td>\n",
       "      <td>2</td>\n",
       "      <td>None</td>\n",
       "      <td>NaN</td>\n",
       "      <td>None</td>\n",
       "      <td>None</td>\n",
       "      <td>None</td>\n",
       "      <td>Hà Nội</td>\n",
       "      <td>tây hồ</td>\n",
       "      <td>phú thượng</td>\n",
       "      <td>none</td>\n",
       "      <td>100.00</td>\n",
       "      <td>4000.000</td>\n",
       "    </tr>\n",
       "    <tr>\n",
       "      <th>1</th>\n",
       "      <td>Nam</td>\n",
       "      <td>Bắc</td>\n",
       "      <td>2</td>\n",
       "      <td>2</td>\n",
       "      <td>Sổ đỏ/ Sổ hồng</td>\n",
       "      <td>NaN</td>\n",
       "      <td>None</td>\n",
       "      <td>None</td>\n",
       "      <td>None</td>\n",
       "      <td>Hà Nội</td>\n",
       "      <td>tây hồ</td>\n",
       "      <td>phú thượng</td>\n",
       "      <td>võ chí công</td>\n",
       "      <td>80.74</td>\n",
       "      <td>3496.042</td>\n",
       "    </tr>\n",
       "    <tr>\n",
       "      <th>2</th>\n",
       "      <td>None</td>\n",
       "      <td>None</td>\n",
       "      <td>3</td>\n",
       "      <td>3</td>\n",
       "      <td>Sổ đỏ/ Sổ hồng</td>\n",
       "      <td>Đầy đủ</td>\n",
       "      <td>None</td>\n",
       "      <td>None</td>\n",
       "      <td>None</td>\n",
       "      <td>Hà Nội</td>\n",
       "      <td>cầu giấy</td>\n",
       "      <td>yên hòa</td>\n",
       "      <td>dương đình nghệ</td>\n",
       "      <td>131.00</td>\n",
       "      <td>5900.000</td>\n",
       "    </tr>\n",
       "    <tr>\n",
       "      <th>3</th>\n",
       "      <td>None</td>\n",
       "      <td>None</td>\n",
       "      <td>5</td>\n",
       "      <td>None</td>\n",
       "      <td>Sổ đỏ/ Sổ hồng.</td>\n",
       "      <td>Cơ bản.</td>\n",
       "      <td>5</td>\n",
       "      <td>None</td>\n",
       "      <td>None</td>\n",
       "      <td>Hà Nội</td>\n",
       "      <td>long biên</td>\n",
       "      <td>bồ đề</td>\n",
       "      <td>bồ đề</td>\n",
       "      <td>52.00</td>\n",
       "      <td>6750.000</td>\n",
       "    </tr>\n",
       "    <tr>\n",
       "      <th>4</th>\n",
       "      <td>None</td>\n",
       "      <td>None</td>\n",
       "      <td>3</td>\n",
       "      <td>2</td>\n",
       "      <td>Sổ đỏ/ Sổ hồng</td>\n",
       "      <td>Nội thất đầy đủ: Thiết bị điện tử(tivi, tủ lạn...</td>\n",
       "      <td>None</td>\n",
       "      <td>None</td>\n",
       "      <td>None</td>\n",
       "      <td>Hà Nội</td>\n",
       "      <td>nam từ liêm</td>\n",
       "      <td>cầu diễn</td>\n",
       "      <td>hàm nghi</td>\n",
       "      <td>119.00</td>\n",
       "      <td>5800.000</td>\n",
       "    </tr>\n",
       "  </tbody>\n",
       "</table>\n",
       "</div>"
      ],
      "text/plain": [
       "  House Direction Balcony Direction Bedrooms Toilets           Legits  \\\n",
       "0             Nam               Bắc        3       2             None   \n",
       "1             Nam               Bắc        2       2   Sổ đỏ/ Sổ hồng   \n",
       "2            None              None        3       3   Sổ đỏ/ Sổ hồng   \n",
       "3            None              None        5    None  Sổ đỏ/ Sổ hồng.   \n",
       "4            None              None        3       2   Sổ đỏ/ Sổ hồng   \n",
       "\n",
       "                                          Furnitures Floors Facade Entrance  \\\n",
       "0                                                NaN   None   None     None   \n",
       "1                                                NaN   None   None     None   \n",
       "2                                             Đầy đủ   None   None     None   \n",
       "3                                            Cơ bản.      5   None     None   \n",
       "4  Nội thất đầy đủ: Thiết bị điện tử(tivi, tủ lạn...   None   None     None   \n",
       "\n",
       "     City     District        Ward           Street    Area     Price  \n",
       "0  Hà Nội       tây hồ  phú thượng             none  100.00  4000.000  \n",
       "1  Hà Nội       tây hồ  phú thượng      võ chí công   80.74  3496.042  \n",
       "2  Hà Nội     cầu giấy     yên hòa  dương đình nghệ  131.00  5900.000  \n",
       "3  Hà Nội    long biên       bồ đề            bồ đề   52.00  6750.000  \n",
       "4  Hà Nội  nam từ liêm    cầu diễn         hàm nghi  119.00  5800.000  "
      ]
     },
     "execution_count": 27,
     "metadata": {},
     "output_type": "execute_result"
    }
   ],
   "source": [
    "districts = set(address[\"Quận Huyện\"].tolist())\n",
    "s = defaultdict(int)\n",
    "for idx, i in enumerate(bdscom[\"District\"]):\n",
    "    if i.lower() not in districts and i.lower() not in s:\n",
    "        print(i)\n",
    "        if i == \"None\":\n",
    "            continue\n",
    "        s[i.lower()] += 1\n",
    "        bdscom = bdscom[bdscom[\"District\"] != i]\n",
    "bdscom.head()"
   ]
  },
  {
   "cell_type": "code",
   "execution_count": 28,
   "id": "953fe846-5a86-46b7-baa9-09a6ba4c4373",
   "metadata": {},
   "outputs": [
    {
     "data": {
      "text/html": [
       "<div>\n",
       "<style scoped>\n",
       "    .dataframe tbody tr th:only-of-type {\n",
       "        vertical-align: middle;\n",
       "    }\n",
       "\n",
       "    .dataframe tbody tr th {\n",
       "        vertical-align: top;\n",
       "    }\n",
       "\n",
       "    .dataframe thead th {\n",
       "        text-align: right;\n",
       "    }\n",
       "</style>\n",
       "<table border=\"1\" class=\"dataframe\">\n",
       "  <thead>\n",
       "    <tr style=\"text-align: right;\">\n",
       "      <th></th>\n",
       "      <th>Price</th>\n",
       "      <th>Area</th>\n",
       "      <th>Facade</th>\n",
       "      <th>Floors</th>\n",
       "      <th>Bedrooms</th>\n",
       "      <th>Toilets</th>\n",
       "      <th>House Direction</th>\n",
       "      <th>District</th>\n",
       "    </tr>\n",
       "  </thead>\n",
       "  <tbody>\n",
       "    <tr>\n",
       "      <th>0</th>\n",
       "      <td>7990</td>\n",
       "      <td>50.0</td>\n",
       "      <td>4.0</td>\n",
       "      <td>5</td>\n",
       "      <td>4</td>\n",
       "      <td>5</td>\n",
       "      <td>None</td>\n",
       "      <td>tây hồ</td>\n",
       "    </tr>\n",
       "    <tr>\n",
       "      <th>1</th>\n",
       "      <td>12500</td>\n",
       "      <td>119.0</td>\n",
       "      <td>4.0</td>\n",
       "      <td>5</td>\n",
       "      <td>5</td>\n",
       "      <td>5</td>\n",
       "      <td>None</td>\n",
       "      <td>hoàng mai</td>\n",
       "    </tr>\n",
       "    <tr>\n",
       "      <th>2</th>\n",
       "      <td>17100</td>\n",
       "      <td>79.0</td>\n",
       "      <td>4.0</td>\n",
       "      <td>5</td>\n",
       "      <td>6</td>\n",
       "      <td>None</td>\n",
       "      <td>None</td>\n",
       "      <td>thanh xuân</td>\n",
       "    </tr>\n",
       "    <tr>\n",
       "      <th>3</th>\n",
       "      <td>9900</td>\n",
       "      <td>46.0</td>\n",
       "      <td>4.0</td>\n",
       "      <td>7</td>\n",
       "      <td>5</td>\n",
       "      <td>None</td>\n",
       "      <td>None</td>\n",
       "      <td>thanh xuân</td>\n",
       "    </tr>\n",
       "    <tr>\n",
       "      <th>4</th>\n",
       "      <td>6800</td>\n",
       "      <td>45.0</td>\n",
       "      <td>4.0</td>\n",
       "      <td>5</td>\n",
       "      <td>4</td>\n",
       "      <td>None</td>\n",
       "      <td>None</td>\n",
       "      <td>hà đông</td>\n",
       "    </tr>\n",
       "    <tr>\n",
       "      <th>...</th>\n",
       "      <td>...</td>\n",
       "      <td>...</td>\n",
       "      <td>...</td>\n",
       "      <td>...</td>\n",
       "      <td>...</td>\n",
       "      <td>...</td>\n",
       "      <td>...</td>\n",
       "      <td>...</td>\n",
       "    </tr>\n",
       "    <tr>\n",
       "      <th>3794</th>\n",
       "      <td>3500</td>\n",
       "      <td>52.0</td>\n",
       "      <td>4.0</td>\n",
       "      <td>3</td>\n",
       "      <td>2</td>\n",
       "      <td>3</td>\n",
       "      <td>None</td>\n",
       "      <td>long biên</td>\n",
       "    </tr>\n",
       "    <tr>\n",
       "      <th>3795</th>\n",
       "      <td>16500</td>\n",
       "      <td>92.0</td>\n",
       "      <td>5.0</td>\n",
       "      <td>5</td>\n",
       "      <td>6</td>\n",
       "      <td>5</td>\n",
       "      <td>Tây bắc</td>\n",
       "      <td>thanh xuân</td>\n",
       "    </tr>\n",
       "    <tr>\n",
       "      <th>3796</th>\n",
       "      <td>10900</td>\n",
       "      <td>55.0</td>\n",
       "      <td>5.0</td>\n",
       "      <td>11</td>\n",
       "      <td>15</td>\n",
       "      <td>16</td>\n",
       "      <td>None</td>\n",
       "      <td>hà đông</td>\n",
       "    </tr>\n",
       "    <tr>\n",
       "      <th>3797</th>\n",
       "      <td>5500</td>\n",
       "      <td>45.0</td>\n",
       "      <td>4.0</td>\n",
       "      <td>5</td>\n",
       "      <td>6</td>\n",
       "      <td>None</td>\n",
       "      <td>None</td>\n",
       "      <td>đống đa</td>\n",
       "    </tr>\n",
       "    <tr>\n",
       "      <th>3798</th>\n",
       "      <td>19600</td>\n",
       "      <td>67.0</td>\n",
       "      <td>6.0</td>\n",
       "      <td>4</td>\n",
       "      <td>4</td>\n",
       "      <td>4</td>\n",
       "      <td>None</td>\n",
       "      <td>đống đa</td>\n",
       "    </tr>\n",
       "  </tbody>\n",
       "</table>\n",
       "<p>3799 rows × 8 columns</p>\n",
       "</div>"
      ],
      "text/plain": [
       "      Price   Area  Facade Floors Bedrooms Toilets House Direction    District\n",
       "0      7990   50.0     4.0      5        4       5            None      tây hồ\n",
       "1     12500  119.0     4.0      5        5       5            None   hoàng mai\n",
       "2     17100   79.0     4.0      5        6    None            None  thanh xuân\n",
       "3      9900   46.0     4.0      7        5    None            None  thanh xuân\n",
       "4      6800   45.0     4.0      5        4    None            None     hà đông\n",
       "...     ...    ...     ...    ...      ...     ...             ...         ...\n",
       "3794   3500   52.0     4.0      3        2       3            None   long biên\n",
       "3795  16500   92.0     5.0      5        6       5         Tây bắc  thanh xuân\n",
       "3796  10900   55.0     5.0     11       15      16            None     hà đông\n",
       "3797   5500   45.0     4.0      5        6    None            None     đống đa\n",
       "3798  19600   67.0     6.0      4        4       4            None     đống đa\n",
       "\n",
       "[3799 rows x 8 columns]"
      ]
     },
     "execution_count": 28,
     "metadata": {},
     "output_type": "execute_result"
    }
   ],
   "source": [
    "bdsso"
   ]
  },
  {
   "cell_type": "markdown",
   "id": "34f352cc-10e0-401a-b941-fb5ee0ec4314",
   "metadata": {
    "jp-MarkdownHeadingCollapsed": true,
    "tags": []
   },
   "source": [
    "# Integration"
   ]
  },
  {
   "cell_type": "code",
   "execution_count": 78,
   "id": "9bf121c5-8013-439f-a063-98368ccb710f",
   "metadata": {},
   "outputs": [
    {
     "data": {
      "text/html": [
       "<div>\n",
       "<style scoped>\n",
       "    .dataframe tbody tr th:only-of-type {\n",
       "        vertical-align: middle;\n",
       "    }\n",
       "\n",
       "    .dataframe tbody tr th {\n",
       "        vertical-align: top;\n",
       "    }\n",
       "\n",
       "    .dataframe thead th {\n",
       "        text-align: right;\n",
       "    }\n",
       "</style>\n",
       "<table border=\"1\" class=\"dataframe\">\n",
       "  <thead>\n",
       "    <tr style=\"text-align: right;\">\n",
       "      <th></th>\n",
       "      <th>index</th>\n",
       "      <th>House Direction</th>\n",
       "      <th>Balcony Direction</th>\n",
       "      <th>Bedrooms</th>\n",
       "      <th>Toilets</th>\n",
       "      <th>Legits</th>\n",
       "      <th>Furnitures</th>\n",
       "      <th>Floors</th>\n",
       "      <th>Facade</th>\n",
       "      <th>Entrance</th>\n",
       "      <th>City</th>\n",
       "      <th>District</th>\n",
       "      <th>Ward</th>\n",
       "      <th>Street</th>\n",
       "      <th>Area</th>\n",
       "      <th>Price</th>\n",
       "    </tr>\n",
       "  </thead>\n",
       "  <tbody>\n",
       "    <tr>\n",
       "      <th>0</th>\n",
       "      <td>0</td>\n",
       "      <td>Nam</td>\n",
       "      <td>Bắc</td>\n",
       "      <td>3</td>\n",
       "      <td>2</td>\n",
       "      <td>None</td>\n",
       "      <td>NaN</td>\n",
       "      <td>None</td>\n",
       "      <td>None</td>\n",
       "      <td>None</td>\n",
       "      <td>Hà Nội</td>\n",
       "      <td>tây hồ</td>\n",
       "      <td>phú thượng</td>\n",
       "      <td>none</td>\n",
       "      <td>100.0</td>\n",
       "      <td>4000.0</td>\n",
       "    </tr>\n",
       "    <tr>\n",
       "      <th>1</th>\n",
       "      <td>1</td>\n",
       "      <td>Nam</td>\n",
       "      <td>Bắc</td>\n",
       "      <td>2</td>\n",
       "      <td>2</td>\n",
       "      <td>Sổ đỏ/ Sổ hồng</td>\n",
       "      <td>NaN</td>\n",
       "      <td>None</td>\n",
       "      <td>None</td>\n",
       "      <td>None</td>\n",
       "      <td>Hà Nội</td>\n",
       "      <td>tây hồ</td>\n",
       "      <td>phú thượng</td>\n",
       "      <td>võ chí công</td>\n",
       "      <td>80.74</td>\n",
       "      <td>3496.042</td>\n",
       "    </tr>\n",
       "    <tr>\n",
       "      <th>2</th>\n",
       "      <td>2</td>\n",
       "      <td>None</td>\n",
       "      <td>None</td>\n",
       "      <td>3</td>\n",
       "      <td>3</td>\n",
       "      <td>Sổ đỏ/ Sổ hồng</td>\n",
       "      <td>Đầy đủ</td>\n",
       "      <td>None</td>\n",
       "      <td>None</td>\n",
       "      <td>None</td>\n",
       "      <td>Hà Nội</td>\n",
       "      <td>cầu giấy</td>\n",
       "      <td>yên hòa</td>\n",
       "      <td>dương đình nghệ</td>\n",
       "      <td>131.0</td>\n",
       "      <td>5900.0</td>\n",
       "    </tr>\n",
       "    <tr>\n",
       "      <th>3</th>\n",
       "      <td>3</td>\n",
       "      <td>None</td>\n",
       "      <td>None</td>\n",
       "      <td>5</td>\n",
       "      <td>None</td>\n",
       "      <td>Sổ đỏ/ Sổ hồng.</td>\n",
       "      <td>Cơ bản.</td>\n",
       "      <td>5</td>\n",
       "      <td>None</td>\n",
       "      <td>None</td>\n",
       "      <td>Hà Nội</td>\n",
       "      <td>long biên</td>\n",
       "      <td>bồ đề</td>\n",
       "      <td>bồ đề</td>\n",
       "      <td>52.0</td>\n",
       "      <td>6750.0</td>\n",
       "    </tr>\n",
       "    <tr>\n",
       "      <th>4</th>\n",
       "      <td>4</td>\n",
       "      <td>None</td>\n",
       "      <td>None</td>\n",
       "      <td>3</td>\n",
       "      <td>2</td>\n",
       "      <td>Sổ đỏ/ Sổ hồng</td>\n",
       "      <td>Nội thất đầy đủ: Thiết bị điện tử(tivi, tủ lạn...</td>\n",
       "      <td>None</td>\n",
       "      <td>None</td>\n",
       "      <td>None</td>\n",
       "      <td>Hà Nội</td>\n",
       "      <td>nam từ liêm</td>\n",
       "      <td>cầu diễn</td>\n",
       "      <td>hàm nghi</td>\n",
       "      <td>119.0</td>\n",
       "      <td>5800.0</td>\n",
       "    </tr>\n",
       "  </tbody>\n",
       "</table>\n",
       "</div>"
      ],
      "text/plain": [
       "   index House Direction Balcony Direction Bedrooms Toilets           Legits  \\\n",
       "0      0             Nam               Bắc        3       2             None   \n",
       "1      1             Nam               Bắc        2       2   Sổ đỏ/ Sổ hồng   \n",
       "2      2            None              None        3       3   Sổ đỏ/ Sổ hồng   \n",
       "3      3            None              None        5    None  Sổ đỏ/ Sổ hồng.   \n",
       "4      4            None              None        3       2   Sổ đỏ/ Sổ hồng   \n",
       "\n",
       "                                          Furnitures Floors Facade Entrance  \\\n",
       "0                                                NaN   None   None     None   \n",
       "1                                                NaN   None   None     None   \n",
       "2                                             Đầy đủ   None   None     None   \n",
       "3                                            Cơ bản.      5   None     None   \n",
       "4  Nội thất đầy đủ: Thiết bị điện tử(tivi, tủ lạn...   None   None     None   \n",
       "\n",
       "     City     District        Ward           Street   Area     Price  \n",
       "0  Hà Nội       tây hồ  phú thượng             none  100.0    4000.0  \n",
       "1  Hà Nội       tây hồ  phú thượng      võ chí công  80.74  3496.042  \n",
       "2  Hà Nội     cầu giấy     yên hòa  dương đình nghệ  131.0    5900.0  \n",
       "3  Hà Nội    long biên       bồ đề            bồ đề   52.0    6750.0  \n",
       "4  Hà Nội  nam từ liêm    cầu diễn         hàm nghi  119.0    5800.0  "
      ]
     },
     "execution_count": 78,
     "metadata": {},
     "output_type": "execute_result"
    }
   ],
   "source": [
    "final = pd.concat([bdscom, home, bdsso, alo]).reset_index()\n",
    "final.head()"
   ]
  },
  {
   "cell_type": "code",
   "execution_count": 79,
   "id": "49d2a4db-201e-4d5d-a2d0-c714647bb224",
   "metadata": {},
   "outputs": [],
   "source": [
    "final = final.drop(['Furnitures'], axis=1)"
   ]
  },
  {
   "cell_type": "code",
   "execution_count": 80,
   "id": "ed9278fa-b02f-42d0-9775-b05626018d0d",
   "metadata": {},
   "outputs": [
    {
     "data": {
      "text/html": [
       "<div>\n",
       "<style scoped>\n",
       "    .dataframe tbody tr th:only-of-type {\n",
       "        vertical-align: middle;\n",
       "    }\n",
       "\n",
       "    .dataframe tbody tr th {\n",
       "        vertical-align: top;\n",
       "    }\n",
       "\n",
       "    .dataframe thead th {\n",
       "        text-align: right;\n",
       "    }\n",
       "</style>\n",
       "<table border=\"1\" class=\"dataframe\">\n",
       "  <thead>\n",
       "    <tr style=\"text-align: right;\">\n",
       "      <th></th>\n",
       "      <th>House Direction</th>\n",
       "      <th>Balcony Direction</th>\n",
       "      <th>Bedrooms</th>\n",
       "      <th>Toilets</th>\n",
       "      <th>Legits</th>\n",
       "      <th>Floors</th>\n",
       "      <th>Facade</th>\n",
       "      <th>Entrance</th>\n",
       "      <th>City</th>\n",
       "      <th>District</th>\n",
       "      <th>Ward</th>\n",
       "      <th>Street</th>\n",
       "      <th>Area</th>\n",
       "      <th>Price</th>\n",
       "    </tr>\n",
       "  </thead>\n",
       "  <tbody>\n",
       "    <tr>\n",
       "      <th>0</th>\n",
       "      <td>Nam</td>\n",
       "      <td>Bắc</td>\n",
       "      <td>3</td>\n",
       "      <td>2</td>\n",
       "      <td>None</td>\n",
       "      <td>None</td>\n",
       "      <td>None</td>\n",
       "      <td>None</td>\n",
       "      <td>Hà Nội</td>\n",
       "      <td>tây hồ</td>\n",
       "      <td>phú thượng</td>\n",
       "      <td>none</td>\n",
       "      <td>100.0</td>\n",
       "      <td>4000.0</td>\n",
       "    </tr>\n",
       "    <tr>\n",
       "      <th>1</th>\n",
       "      <td>Nam</td>\n",
       "      <td>Bắc</td>\n",
       "      <td>2</td>\n",
       "      <td>2</td>\n",
       "      <td>Sổ đỏ/ Sổ hồng</td>\n",
       "      <td>None</td>\n",
       "      <td>None</td>\n",
       "      <td>None</td>\n",
       "      <td>Hà Nội</td>\n",
       "      <td>tây hồ</td>\n",
       "      <td>phú thượng</td>\n",
       "      <td>võ chí công</td>\n",
       "      <td>80.74</td>\n",
       "      <td>3496.042</td>\n",
       "    </tr>\n",
       "    <tr>\n",
       "      <th>2</th>\n",
       "      <td>None</td>\n",
       "      <td>None</td>\n",
       "      <td>3</td>\n",
       "      <td>3</td>\n",
       "      <td>Sổ đỏ/ Sổ hồng</td>\n",
       "      <td>None</td>\n",
       "      <td>None</td>\n",
       "      <td>None</td>\n",
       "      <td>Hà Nội</td>\n",
       "      <td>cầu giấy</td>\n",
       "      <td>yên hòa</td>\n",
       "      <td>dương đình nghệ</td>\n",
       "      <td>131.0</td>\n",
       "      <td>5900.0</td>\n",
       "    </tr>\n",
       "    <tr>\n",
       "      <th>3</th>\n",
       "      <td>None</td>\n",
       "      <td>None</td>\n",
       "      <td>5</td>\n",
       "      <td>None</td>\n",
       "      <td>Sổ đỏ/ Sổ hồng.</td>\n",
       "      <td>5</td>\n",
       "      <td>None</td>\n",
       "      <td>None</td>\n",
       "      <td>Hà Nội</td>\n",
       "      <td>long biên</td>\n",
       "      <td>bồ đề</td>\n",
       "      <td>bồ đề</td>\n",
       "      <td>52.0</td>\n",
       "      <td>6750.0</td>\n",
       "    </tr>\n",
       "    <tr>\n",
       "      <th>4</th>\n",
       "      <td>None</td>\n",
       "      <td>None</td>\n",
       "      <td>3</td>\n",
       "      <td>2</td>\n",
       "      <td>Sổ đỏ/ Sổ hồng</td>\n",
       "      <td>None</td>\n",
       "      <td>None</td>\n",
       "      <td>None</td>\n",
       "      <td>Hà Nội</td>\n",
       "      <td>nam từ liêm</td>\n",
       "      <td>cầu diễn</td>\n",
       "      <td>hàm nghi</td>\n",
       "      <td>119.0</td>\n",
       "      <td>5800.0</td>\n",
       "    </tr>\n",
       "    <tr>\n",
       "      <th>...</th>\n",
       "      <td>...</td>\n",
       "      <td>...</td>\n",
       "      <td>...</td>\n",
       "      <td>...</td>\n",
       "      <td>...</td>\n",
       "      <td>...</td>\n",
       "      <td>...</td>\n",
       "      <td>...</td>\n",
       "      <td>...</td>\n",
       "      <td>...</td>\n",
       "      <td>...</td>\n",
       "      <td>...</td>\n",
       "      <td>...</td>\n",
       "      <td>...</td>\n",
       "    </tr>\n",
       "    <tr>\n",
       "      <th>48183</th>\n",
       "      <td>None</td>\n",
       "      <td>NaN</td>\n",
       "      <td>4</td>\n",
       "      <td>NaN</td>\n",
       "      <td>Sổ hồng/ Sổ đỏ</td>\n",
       "      <td>4</td>\n",
       "      <td>3.0</td>\n",
       "      <td>NaN</td>\n",
       "      <td>NaN</td>\n",
       "      <td>thanh xuân</td>\n",
       "      <td>thượng đình</td>\n",
       "      <td>nguyễn trãi</td>\n",
       "      <td>54.0</td>\n",
       "      <td>48000</td>\n",
       "    </tr>\n",
       "    <tr>\n",
       "      <th>48184</th>\n",
       "      <td>None</td>\n",
       "      <td>NaN</td>\n",
       "      <td>4</td>\n",
       "      <td>NaN</td>\n",
       "      <td>Sổ hồng/ Sổ đỏ</td>\n",
       "      <td>5</td>\n",
       "      <td>3.0</td>\n",
       "      <td>NaN</td>\n",
       "      <td>NaN</td>\n",
       "      <td>thanh xuân</td>\n",
       "      <td>khương trung</td>\n",
       "      <td>khương trung</td>\n",
       "      <td>75.0</td>\n",
       "      <td>65000</td>\n",
       "    </tr>\n",
       "    <tr>\n",
       "      <th>48185</th>\n",
       "      <td>None</td>\n",
       "      <td>NaN</td>\n",
       "      <td>4</td>\n",
       "      <td>NaN</td>\n",
       "      <td>Sổ hồng/ Sổ đỏ</td>\n",
       "      <td>4</td>\n",
       "      <td>3.0</td>\n",
       "      <td>NaN</td>\n",
       "      <td>NaN</td>\n",
       "      <td>đống đa</td>\n",
       "      <td>láng hạ</td>\n",
       "      <td>láng</td>\n",
       "      <td>40.0</td>\n",
       "      <td>43000</td>\n",
       "    </tr>\n",
       "    <tr>\n",
       "      <th>48186</th>\n",
       "      <td>None</td>\n",
       "      <td>NaN</td>\n",
       "      <td>4</td>\n",
       "      <td>NaN</td>\n",
       "      <td>None</td>\n",
       "      <td>5</td>\n",
       "      <td>3.0</td>\n",
       "      <td>NaN</td>\n",
       "      <td>NaN</td>\n",
       "      <td>đống đa</td>\n",
       "      <td>cát linh</td>\n",
       "      <td>phố hào nam</td>\n",
       "      <td>42.0</td>\n",
       "      <td>76000</td>\n",
       "    </tr>\n",
       "    <tr>\n",
       "      <th>48187</th>\n",
       "      <td>None</td>\n",
       "      <td>NaN</td>\n",
       "      <td>4</td>\n",
       "      <td>NaN</td>\n",
       "      <td>Sổ hồng/ Sổ đỏ</td>\n",
       "      <td>4</td>\n",
       "      <td>3.0</td>\n",
       "      <td>NaN</td>\n",
       "      <td>NaN</td>\n",
       "      <td>đống đa</td>\n",
       "      <td>cát linh</td>\n",
       "      <td>phố hào nam</td>\n",
       "      <td>50.0</td>\n",
       "      <td>68000</td>\n",
       "    </tr>\n",
       "  </tbody>\n",
       "</table>\n",
       "<p>48188 rows × 14 columns</p>\n",
       "</div>"
      ],
      "text/plain": [
       "      House Direction Balcony Direction Bedrooms Toilets           Legits  \\\n",
       "0                 Nam               Bắc        3       2             None   \n",
       "1                 Nam               Bắc        2       2   Sổ đỏ/ Sổ hồng   \n",
       "2                None              None        3       3   Sổ đỏ/ Sổ hồng   \n",
       "3                None              None        5    None  Sổ đỏ/ Sổ hồng.   \n",
       "4                None              None        3       2   Sổ đỏ/ Sổ hồng   \n",
       "...               ...               ...      ...     ...              ...   \n",
       "48183            None               NaN        4     NaN   Sổ hồng/ Sổ đỏ   \n",
       "48184            None               NaN        4     NaN   Sổ hồng/ Sổ đỏ   \n",
       "48185            None               NaN        4     NaN   Sổ hồng/ Sổ đỏ   \n",
       "48186            None               NaN        4     NaN             None   \n",
       "48187            None               NaN        4     NaN   Sổ hồng/ Sổ đỏ   \n",
       "\n",
       "      Floors Facade Entrance    City     District          Ward  \\\n",
       "0       None   None     None  Hà Nội       tây hồ    phú thượng   \n",
       "1       None   None     None  Hà Nội       tây hồ    phú thượng   \n",
       "2       None   None     None  Hà Nội     cầu giấy       yên hòa   \n",
       "3          5   None     None  Hà Nội    long biên         bồ đề   \n",
       "4       None   None     None  Hà Nội  nam từ liêm      cầu diễn   \n",
       "...      ...    ...      ...     ...          ...           ...   \n",
       "48183      4    3.0      NaN     NaN   thanh xuân   thượng đình   \n",
       "48184      5    3.0      NaN     NaN   thanh xuân  khương trung   \n",
       "48185      4    3.0      NaN     NaN      đống đa     láng hạ   \n",
       "48186      5    3.0      NaN     NaN      đống đa     cát linh   \n",
       "48187      4    3.0      NaN     NaN      đống đa     cát linh   \n",
       "\n",
       "                Street   Area     Price  \n",
       "0                 none  100.0    4000.0  \n",
       "1          võ chí công  80.74  3496.042  \n",
       "2      dương đình nghệ  131.0    5900.0  \n",
       "3                bồ đề   52.0    6750.0  \n",
       "4             hàm nghi  119.0    5800.0  \n",
       "...                ...    ...       ...  \n",
       "48183      nguyễn trãi   54.0     48000  \n",
       "48184     khương trung   75.0     65000  \n",
       "48185             láng   40.0     43000  \n",
       "48186      phố hào nam   42.0     76000  \n",
       "48187      phố hào nam   50.0     68000  \n",
       "\n",
       "[48188 rows x 14 columns]"
      ]
     },
     "execution_count": 80,
     "metadata": {},
     "output_type": "execute_result"
    }
   ],
   "source": [
    "final.drop([\"index\"], axis=1)"
   ]
  },
  {
   "cell_type": "code",
   "execution_count": 81,
   "id": "4d57cf29-6e51-4718-94f2-d0f298ab49fb",
   "metadata": {},
   "outputs": [
    {
     "data": {
      "text/plain": [
       "index                0.000000\n",
       "House Direction      0.000000\n",
       "Balcony Direction    0.519279\n",
       "Bedrooms             0.000000\n",
       "Toilets              0.440442\n",
       "Legits               0.078837\n",
       "Floors               0.000000\n",
       "Facade               0.000000\n",
       "Entrance             0.556487\n",
       "City                 0.519279\n",
       "District             0.000000\n",
       "Ward                 0.116045\n",
       "Street               0.116045\n",
       "Area                 0.000000\n",
       "Price                0.000000\n",
       "dtype: float64"
      ]
     },
     "execution_count": 81,
     "metadata": {},
     "output_type": "execute_result"
    }
   ],
   "source": [
    "final.isnull().mean()"
   ]
  },
  {
   "cell_type": "code",
   "execution_count": 82,
   "id": "94929d52-e61f-4194-98f7-408195c88fd7",
   "metadata": {},
   "outputs": [],
   "source": [
    "final = final.fillna(\"None\")"
   ]
  },
  {
   "cell_type": "code",
   "execution_count": 84,
   "id": "3863f194-d425-4224-9c2d-ffef2b518fd5",
   "metadata": {},
   "outputs": [],
   "source": [
    "final[\"Facade\"] = final[\"Facade\"].apply(lambda x: None if x == \"None\" else( float(x.replace(\"m\", \"\").replace(\",\", \".\").strip()) if isinstance(x, str) else float(x)))\n",
    "#final.dropna(inplace=True)\n",
    "final = final.reset_index()"
   ]
  },
  {
   "cell_type": "code",
   "execution_count": 85,
   "id": "d1848894-d65b-44f0-8637-060c9cf28222",
   "metadata": {},
   "outputs": [
    {
     "data": {
      "text/plain": [
       "(48188, 15)"
      ]
     },
     "execution_count": 85,
     "metadata": {},
     "output_type": "execute_result"
    }
   ],
   "source": [
    "final = final.drop([\"level_0\"], axis=1)\n",
    "final.shape"
   ]
  },
  {
   "cell_type": "code",
   "execution_count": 86,
   "id": "345c4ec3-79ce-4349-9325-5149964cc8ea",
   "metadata": {},
   "outputs": [],
   "source": [
    "final = final.drop(columns=[\"City\"])"
   ]
  },
  {
   "cell_type": "markdown",
   "id": "70b17832-8881-49bb-a38c-bd71e7dc73f0",
   "metadata": {
    "jp-MarkdownHeadingCollapsed": true,
    "tags": []
   },
   "source": [
    "## Normalize price features"
   ]
  },
  {
   "cell_type": "code",
   "execution_count": 87,
   "id": "cd301056-fd23-4728-b78a-1034a3e369fd",
   "metadata": {},
   "outputs": [],
   "source": [
    "final = final[final[\"Price\"] != \"None\"]"
   ]
  },
  {
   "cell_type": "code",
   "execution_count": 88,
   "id": "989ad7e3-c38d-45ce-9cb6-80f0221760c1",
   "metadata": {},
   "outputs": [],
   "source": [
    "final = final[final[\"Price\"] != \"Thỏa thuận\"]"
   ]
  },
  {
   "cell_type": "code",
   "execution_count": 89,
   "id": "cdca8235-f746-4bd7-b353-ccf97448ecc2",
   "metadata": {},
   "outputs": [],
   "source": [
    "def convert_price(x):\n",
    "    try:\n",
    "        f = lambda x: float(x if  not isinstance(x, str) else x.replace(\",\", \".\"))\n",
    "        return f(x)\n",
    "    except:\n",
    "        print(x)\n",
    "        return None"
   ]
  },
  {
   "cell_type": "code",
   "execution_count": 90,
   "id": "4419bc6b-4724-4891-80a9-efc5074b14b2",
   "metadata": {},
   "outputs": [
    {
     "name": "stdout",
     "output_type": "stream",
     "text": [
      "34 ngàn VNĐ\n",
      "68 ngàn VNĐ\n",
      "9 ngàn VNĐ\n",
      "14 ngàn VNĐ\n",
      "6 ngàn VNĐ\n",
      "6 ngàn VNĐ\n",
      "10 ngàn VNĐ\n",
      "14 ngàn VNĐ\n",
      "1 ngàn VNĐ\n",
      "136 ngàn VNĐ\n",
      "21 ngàn VNĐ\n",
      "123 ngàn VNĐ\n",
      "68 ngàn VNĐ\n",
      "5,85 tỷ /tháng\n",
      "6 ngàn VNĐ\n",
      "6 ngàn VNĐ\n",
      "6 ngàn VNĐ\n",
      "9 ngàn VNĐ\n",
      "88 ngàn VNĐ\n",
      "68 ngàn VNĐ\n",
      "9 ngàn VNĐ\n",
      "2 ngàn VNĐ\n",
      "98 ngàn VNĐ\n",
      "2,2 ngàn VNĐ\n",
      "1,2 ngàn VNĐ\n",
      "1,2 ngàn VNĐ\n",
      "12 ngàn VNĐ\n",
      "1,2 ngàn VNĐ\n",
      "1,2 ngàn VNĐ/m2\n",
      "1,2 ngàn VNĐ/m2\n",
      "150 ngàn VNĐ/m2\n",
      "105 ngàn VNĐ/m2\n",
      "120 ngàn VNĐ/m2\n",
      "1,2 ngàn VNĐ\n",
      "23 ngàn VNĐ\n",
      "1,2 ngàn VNĐ\n",
      "1,529 ngàn VNĐ/m2\n",
      "12 ngàn VNĐ\n",
      "1,2 ngàn VNĐ\n",
      "1,2 ngàn VNĐ/m2\n",
      "12 ngàn VNĐ/m2\n"
     ]
    }
   ],
   "source": [
    "final[\"Price\"] = final[\"Price\"].apply(convert_price)\n",
    "final = final[final[\"Price\"].notna()]"
   ]
  },
  {
   "cell_type": "code",
   "execution_count": 91,
   "id": "4353ffc1-8716-415a-a7a8-e5e84eac1b77",
   "metadata": {},
   "outputs": [
    {
     "data": {
      "text/plain": [
       "0         4000.000\n",
       "1         3496.042\n",
       "2         5900.000\n",
       "3         6750.000\n",
       "4         5800.000\n",
       "           ...    \n",
       "48183    48000.000\n",
       "48184    65000.000\n",
       "48185    43000.000\n",
       "48186    76000.000\n",
       "48187    68000.000\n",
       "Name: Price, Length: 48014, dtype: float64"
      ]
     },
     "execution_count": 91,
     "metadata": {},
     "output_type": "execute_result"
    }
   ],
   "source": [
    "pd.to_numeric(final[\"Price\"])"
   ]
  },
  {
   "cell_type": "markdown",
   "id": "420b89fb-81ed-484f-8b0d-d3c423f6c3de",
   "metadata": {
    "jp-MarkdownHeadingCollapsed": true,
    "tags": []
   },
   "source": [
    "## Normalize Balcony and House Directions"
   ]
  },
  {
   "cell_type": "code",
   "execution_count": 92,
   "id": "43969526-32cc-4583-8112-2f66e37c605c",
   "metadata": {},
   "outputs": [],
   "source": [
    "final[\"Balcony Direction\"] = final[\"Balcony Direction\"].apply(lambda x: \" \".join([i.strip() for i in x.lower().split(\"-\")]) if x != \"None\" else x)\n",
    "final[\"House Direction\"] = final[\"House Direction\"].apply(lambda x: \" \".join([i.strip() for i in x.lower().split(\"-\")]) if x != \"None\" else x)"
   ]
  },
  {
   "cell_type": "code",
   "execution_count": 93,
   "id": "fed83de7-6309-4d9d-a647-a910b7dee9cb",
   "metadata": {},
   "outputs": [
    {
     "data": {
      "text/plain": [
       "{'None',\n",
       " 'bắc',\n",
       " 'nam',\n",
       " 'tây',\n",
       " 'tây bắc',\n",
       " 'tây nam',\n",
       " 'đông',\n",
       " 'đông bắc',\n",
       " 'đông nam'}"
      ]
     },
     "execution_count": 93,
     "metadata": {},
     "output_type": "execute_result"
    }
   ],
   "source": [
    "set(final[\"House Direction\"].tolist())"
   ]
  },
  {
   "cell_type": "markdown",
   "id": "63077c25-d54d-4bc7-809f-4221ede4682b",
   "metadata": {
    "jp-MarkdownHeadingCollapsed": true,
    "tags": []
   },
   "source": [
    "## Clean Bedrooms, Toilets and Floors features"
   ]
  },
  {
   "cell_type": "code",
   "execution_count": 94,
   "id": "16ee6cc4-9526-412c-a1ae-f23d5d8b00fe",
   "metadata": {},
   "outputs": [],
   "source": [
    "final[\"Bedrooms\"] = final[\"Bedrooms\"].apply(lambda x: x if x == \"None\" else str(int(float(x))))\n",
    "final[\"Toilets\"] = final[\"Toilets\"].apply(lambda x: x if x == \"None\" else str(int(float(x))))\n",
    "final[\"Floors\"] = final[\"Floors\"].apply(lambda x: x if x == \"None\" else str(int(float(x))))"
   ]
  },
  {
   "cell_type": "markdown",
   "id": "51ada901-2690-4aa2-851f-eb3b5ca2661c",
   "metadata": {
    "jp-MarkdownHeadingCollapsed": true,
    "tags": []
   },
   "source": [
    "## Normalize Entrance and Area features"
   ]
  },
  {
   "cell_type": "code",
   "execution_count": 95,
   "id": "796bda41-ebc9-4881-a6da-b33ac0b20e77",
   "metadata": {},
   "outputs": [
    {
     "name": "stdout",
     "output_type": "stream",
     "text": [
      "--\n",
      "None\n",
      "None\n"
     ]
    }
   ],
   "source": [
    "def convert_to_num(x):\n",
    "    try:\n",
    "        return float(x.replace(\",\", \".\").strip() if isinstance(x, str) else x)\n",
    "    except:\n",
    "        print(x)\n",
    "        return None\n",
    "final[\"Entrance\"] = final[\"Entrance\"].apply(lambda x: None if x == \"None\" else( float(x.replace(\"m\", \"\").replace(\",\", \".\").strip()) if isinstance(x, str) else float(x)))\n",
    "final[\"Area\"] = final[\"Area\"].apply(lambda x: convert_to_num(x))\n"
   ]
  },
  {
   "cell_type": "markdown",
   "id": "8af5c05a-fd33-4ce4-be2c-2811c7903dab",
   "metadata": {
    "jp-MarkdownHeadingCollapsed": true,
    "tags": []
   },
   "source": [
    "## Normalize Legit feature"
   ]
  },
  {
   "cell_type": "code",
   "execution_count": 96,
   "id": "9e92bc05-5fb2-4b87-b2ca-808b2a78883e",
   "metadata": {},
   "outputs": [],
   "source": [
    "def norm_legits(x):\n",
    "    status = \"\"\n",
    "    x = x.lower()\n",
    "    if \"đỏ\" in x:\n",
    "        status += \"+đỏ\"\n",
    "    if \"hồng\" in x:\n",
    "        status += \"+hồng\"\n",
    "    if \"trắng\" in x:\n",
    "        status += \"+trắng\"\n",
    "    if \"xanh\" in x:\n",
    "        status += \"+xanh\"\n",
    "    if \"đủ\" in x:\n",
    "        status = \"đủ\" \n",
    "    return status if len(status) > 0 else \"None\""
   ]
  },
  {
   "cell_type": "code",
   "execution_count": 97,
   "id": "fb854000-4cae-45d7-9770-d4f1b544517d",
   "metadata": {},
   "outputs": [],
   "source": [
    "final[\"Legits\"] = final[\"Legits\"].apply(norm_legits)"
   ]
  },
  {
   "cell_type": "code",
   "execution_count": 98,
   "id": "2cdce225-cef7-4088-af63-d4455951a685",
   "metadata": {},
   "outputs": [
    {
     "data": {
      "text/plain": [
       "{'+hồng', '+đỏ', '+đỏ+hồng', 'None', 'đủ'}"
      ]
     },
     "execution_count": 98,
     "metadata": {},
     "output_type": "execute_result"
    }
   ],
   "source": [
    "set(final[\"Legits\"].tolist())"
   ]
  },
  {
   "cell_type": "markdown",
   "id": "a67eedfe-b2f4-491a-9635-fa233b5a509c",
   "metadata": {
    "jp-MarkdownHeadingCollapsed": true,
    "tags": []
   },
   "source": [
    "## Convert bedrooms, toilets, and floors features to categorical features"
   ]
  },
  {
   "cell_type": "code",
   "execution_count": 100,
   "id": "82791d91-a792-401b-a7c2-30045d3d7217",
   "metadata": {},
   "outputs": [],
   "source": [
    "def ten_plus(x):\n",
    "    if x == \"None\":\n",
    "        return x\n",
    "    x = int(x)\n",
    "    if x >10:\n",
    "        return \"10+\"\n",
    "    else:\n",
    "        return str(x)"
   ]
  },
  {
   "cell_type": "code",
   "execution_count": 101,
   "id": "ea9f70d3-1f46-4d5e-8fc8-357aa3d19e3e",
   "metadata": {},
   "outputs": [],
   "source": [
    "final[\"Bedrooms\"] = final[\"Bedrooms\"].apply(ten_plus)\n",
    "final[\"Toilets\"] = final[\"Toilets\"].apply(ten_plus)\n",
    "final[\"Floors\"] = final[\"Floors\"].apply(ten_plus)"
   ]
  },
  {
   "cell_type": "markdown",
   "id": "d3dbcc9f-422f-4977-94d6-ebdca0f62dfe",
   "metadata": {
    "jp-MarkdownHeadingCollapsed": true,
    "tags": []
   },
   "source": [
    "## Clean street"
   ]
  },
  {
   "cell_type": "code",
   "execution_count": 102,
   "id": "7db4b133-e151-49b6-b6e8-6f138fe13ec3",
   "metadata": {},
   "outputs": [],
   "source": [
    "def clean_street(x):\n",
    "    r = \"\"\n",
    "    for i in x:\n",
    "        try:\n",
    "            t = int(i)\n",
    "        except:\n",
    "            if i == \"/\":\n",
    "                continue\n",
    "            r += i\n",
    "    r = r.replace(\"phố\", \"\").strip()\n",
    "    r = r.replace(\"xxx\", \"\").strip()\n",
    "    r = r.replace(\"xx\", \"\").strip()\n",
    "    if r in [\"dx\", \"đt\", \"nha\", \"b\"]:\n",
    "        r = \"\"\n",
    "    if r == \"\":\n",
    "        return \"None\"\n",
    "    r = \" \".join(r.split())\n",
    "    \n",
    "    return r"
   ]
  },
  {
   "cell_type": "code",
   "execution_count": 103,
   "id": "979299f6-0d5a-4a1a-939c-79f56e87da45",
   "metadata": {},
   "outputs": [
    {
     "data": {
      "text/plain": [
       "1730"
      ]
     },
     "execution_count": 103,
     "metadata": {},
     "output_type": "execute_result"
    }
   ],
   "source": [
    "len(set(final[\"Street\"].apply(clean_street).values))"
   ]
  },
  {
   "cell_type": "code",
   "execution_count": 104,
   "id": "c287eb66-241a-403b-b748-a9e65e0de0fa",
   "metadata": {},
   "outputs": [],
   "source": [
    "final[\"Street\"] = final[\"Street\"].apply(clean_street)"
   ]
  },
  {
   "cell_type": "markdown",
   "id": "22d0cdf1-0e12-4027-abc0-221db07b2094",
   "metadata": {
    "jp-MarkdownHeadingCollapsed": true,
    "tags": []
   },
   "source": [
    "## Crawl geo coordinates"
   ]
  },
  {
   "cell_type": "code",
   "execution_count": 105,
   "id": "593ff650-174b-4d51-bdc8-625d25ee50e9",
   "metadata": {},
   "outputs": [],
   "source": [
    "from geopy.geocoders import Nominatim\n",
    "import time\n",
    "from tqdm import tqdm\n",
    "\n",
    "def get_loc(x, lat=True):\n",
    "    while True:\n",
    "        try:\n",
    "            x.replace(\"None\", \"\")\n",
    "            loc = Nominatim(user_agent=\"GetLoc\")\n",
    "            getLoc = loc.geocode(x)\n",
    "            if getLoc is None:\n",
    "                loc = Nominatim(user_agent=\"GetLoc\")\n",
    "                getLoc = loc.geocode(\"Hà Nội\")\n",
    "            return (  getLoc.latitude, getLoc.longitude)\n",
    "        except:\n",
    "            time.sleep(0.5)\n",
    "    "
   ]
  },
  {
   "cell_type": "code",
   "execution_count": 106,
   "id": "3a4e58a2-7b22-4e16-adf3-8e838c2282c9",
   "metadata": {},
   "outputs": [],
   "source": [
    "address = final[\"Ward\"] + \" \" + final[\"District\"] + \" hà nội\""
   ]
  },
  {
   "cell_type": "code",
   "execution_count": 58,
   "id": "7e219201-3c6c-4b8d-b9ed-f2cc755e3530",
   "metadata": {},
   "outputs": [],
   "source": [
    "final[\"X\"] = [0 for i in address]\n",
    "final[\"Y\"] = [0 for i in address]\n"
   ]
  },
  {
   "cell_type": "code",
   "execution_count": null,
   "id": "288ef5de-eadd-4b4c-a2a6-89b451215d19",
   "metadata": {},
   "outputs": [],
   "source": [
    "x = [0 for i in address]\n",
    "y = [0 for i in address]"
   ]
  },
  {
   "cell_type": "code",
   "execution_count": null,
   "id": "077ab303-3942-4489-a169-de7c5b41240d",
   "metadata": {},
   "outputs": [],
   "source": [
    "coor = []\n",
    "for idx, i in enumerate(tqdm(address)):\n",
    "    if i in lookups:\n",
    "        x[idx] = lookups[i][0]\n",
    "        y[idx] = lookups[i][1]\n",
    "    else:\n",
    "        coor.append(get_loc(i))\n",
    "        x[idx] = coor[-1][0]\n",
    "        y[idx] = coor[-1][1]\n",
    "    coor.append(get_loc(i))\n",
    "    if idx % 20 == 0 or idx == len(address)-1:\n",
    "        final[\"X\"] = x\n",
    "        final[\"Y\"] = y\n",
    "        final.to_csv(\"final.csv\", index=False)\n",
    "    #print(coor[-1])"
   ]
  },
  {
   "cell_type": "code",
   "execution_count": 111,
   "id": "007bb965-aa48-441d-976b-9c8af8af6e67",
   "metadata": {},
   "outputs": [],
   "source": [
    "final['District'] = final['District'].replace(['liền kề tại  long biên'], \"long biên\")\n",
    "final['District'] = final['District'].replace(['hà nội  long biên'], \"long biên\")"
   ]
  },
  {
   "cell_type": "code",
   "execution_count": 116,
   "id": "7cc80d65-0ef1-4bef-ac49-128e8b380f32",
   "metadata": {},
   "outputs": [
    {
     "data": {
      "text/plain": [
       "['mê linh',\n",
       " 'hai bà trưng',\n",
       " 'nam từ liêm',\n",
       " 'ứng hòa',\n",
       " 'đông anh',\n",
       " 'chương mỹ',\n",
       " 'phúc thọ',\n",
       " 'ba đình',\n",
       " 'gia lâm',\n",
       " 'tây hồ',\n",
       " 'ba vì',\n",
       " 'phú xuyên',\n",
       " 'hoàng mai',\n",
       " 'đống đa',\n",
       " 'thanh xuân',\n",
       " 'hoài đức',\n",
       " 'thị xã sơn tây',\n",
       " 'đan phượng',\n",
       " 'sơn tây',\n",
       " 'mỹ đức',\n",
       " 'hà đông',\n",
       " 'thanh trì',\n",
       " 'bắc từ liêm',\n",
       " 'thạch thất',\n",
       " 'hoàn kiếm',\n",
       " 'thanh oai',\n",
       " 'quốc oai',\n",
       " 'cầu giấy',\n",
       " 'sóc sơn',\n",
       " 'long biên',\n",
       " 'thường tín']"
      ]
     },
     "execution_count": 116,
     "metadata": {},
     "output_type": "execute_result"
    }
   ],
   "source": [
    "list(set(final[\"District\"]))"
   ]
  },
  {
   "cell_type": "markdown",
   "id": "80353bbe-eec9-421a-8bdb-5b99cdb23154",
   "metadata": {},
   "source": [
    "# Save Data"
   ]
  },
  {
   "cell_type": "code",
   "execution_count": 117,
   "id": "1cca2b57-42f1-48c8-a79d-ade167b75889",
   "metadata": {},
   "outputs": [],
   "source": [
    "final.to_csv(\"final.csv\", index=False)"
   ]
  },
  {
   "cell_type": "code",
   "execution_count": null,
   "id": "c3c43ba0-7de3-4cb3-94e8-3d127f4e1e55",
   "metadata": {},
   "outputs": [],
   "source": []
  }
 ],
 "metadata": {
  "kernelspec": {
   "display_name": "Python 3 (ipykernel)",
   "language": "python",
   "name": "python3"
  },
  "language_info": {
   "codemirror_mode": {
    "name": "ipython",
    "version": 3
   },
   "file_extension": ".py",
   "mimetype": "text/x-python",
   "name": "python",
   "nbconvert_exporter": "python",
   "pygments_lexer": "ipython3",
   "version": "3.10.4"
  }
 },
 "nbformat": 4,
 "nbformat_minor": 5
}
