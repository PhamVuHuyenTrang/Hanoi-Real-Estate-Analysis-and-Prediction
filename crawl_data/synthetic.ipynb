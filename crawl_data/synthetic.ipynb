{
 "cells": [
  {
   "cell_type": "code",
   "execution_count": 99,
   "id": "86dedd49-c5c9-4b2e-9bdc-00b8f81740fb",
   "metadata": {},
   "outputs": [],
   "source": [
    "import pandas as pd\n",
    "import numpy"
   ]
  },
  {
   "cell_type": "code",
   "execution_count": 101,
   "id": "0d661a34-bd35-423b-9920-494bdd322dcd",
   "metadata": {},
   "outputs": [],
   "source": [
    "bdscom = pd.read_csv(\"bds_com.csv\")"
   ]
  },
  {
   "cell_type": "code",
   "execution_count": 102,
   "id": "1110b4f1-37c4-460b-a071-1d6cf52a818e",
   "metadata": {},
   "outputs": [],
   "source": [
    "home = pd.read_csv(\"data_fo_vs.csv\")"
   ]
  },
  {
   "cell_type": "code",
   "execution_count": 103,
   "id": "156520be-6040-400e-bdbd-e2be612340ac",
   "metadata": {},
   "outputs": [],
   "source": [
    "bdsso = pd.read_csv(\"bds_so.csv\")"
   ]
  },
  {
   "cell_type": "code",
   "execution_count": 104,
   "id": "65746412-ad9b-47de-9f6e-a95ad62aa718",
   "metadata": {},
   "outputs": [],
   "source": [
    "alo = pd.read_csv(\"alo.csv\")"
   ]
  },
  {
   "cell_type": "code",
   "execution_count": 105,
   "id": "6d813b62-ec7d-4c9a-9af5-8dee5bba1f36",
   "metadata": {},
   "outputs": [
    {
     "data": {
      "text/plain": [
       "Index(['House Direction', 'Balcony Direction', 'Bedrooms', 'Toilets', 'Legits',\n",
       "       'Furnitures', 'Floors', 'Facade', 'Entrance', 'City', 'District',\n",
       "       'Ward', 'Street', 'Area', 'Price'],\n",
       "      dtype='object')"
      ]
     },
     "execution_count": 105,
     "metadata": {},
     "output_type": "execute_result"
    }
   ],
   "source": [
    "bdscom.columns"
   ]
  },
  {
   "cell_type": "code",
   "execution_count": 106,
   "id": "57c8e28c-db46-4efa-bd08-64d6f106bfae",
   "metadata": {},
   "outputs": [
    {
     "data": {
      "text/plain": [
       "Index(['Unnamed: 0', 'Price', 'Area', 'Mặt tiền', 'Số phòng ngủ',\n",
       "       'Hướng ban công', 'Tình trạng pháp lý', 'Hướng nhà', 'Số tầng',\n",
       "       'Bồn cầu', 'City', 'District', 'Name'],\n",
       "      dtype='object')"
      ]
     },
     "execution_count": 106,
     "metadata": {},
     "output_type": "execute_result"
    }
   ],
   "source": [
    "home.columns"
   ]
  },
  {
   "cell_type": "code",
   "execution_count": 107,
   "id": "05cfc3ed-5367-4c2c-9929-a83c493f299c",
   "metadata": {},
   "outputs": [],
   "source": [
    "home = home[['Area', 'Mặt tiền', 'Số phòng ngủ',\n",
    "       'Hướng ban công', 'Tình trạng pháp lý', 'Hướng nhà', 'Số tầng',\n",
    "       'Bồn cầu', 'City', 'District', 'Price']]"
   ]
  },
  {
   "cell_type": "code",
   "execution_count": 108,
   "id": "a6b73ae5-13ca-4296-a52f-3a75a82d4327",
   "metadata": {},
   "outputs": [],
   "source": [
    "features = {'Mặt tiền': \"Facade\", 'Số phòng ngủ':\"Bedrooms\",\n",
    "       'Hướng ban công': \"Balcony Direction\", 'Tình trạng pháp lý':\"Legits\", 'Hướng nhà':\"House Direction\"\n",
    "            , 'Số tầng': \"Floors\",\n",
    "       'Bồn cầu':\"Toilets\"}\n",
    "home = home.rename(columns=features)"
   ]
  },
  {
   "cell_type": "code",
   "execution_count": 109,
   "id": "0bf06b72-4a68-4775-8f21-6cb250d93042",
   "metadata": {},
   "outputs": [],
   "source": [
    "home = home.fillna(\"None\")"
   ]
  },
  {
   "cell_type": "code",
   "execution_count": 110,
   "id": "ca3afd8e-c108-499b-bacf-e59f2a97d0f4",
   "metadata": {},
   "outputs": [
    {
     "data": {
      "text/plain": [
       "Index(['Unnamed: 0', 'price', 'area', 'Hướng', 'Phòng ăn', 'Đường trước nhà',\n",
       "       'Nhà bếp', 'Loại BDS', 'Pháp lý', 'Sân thượng', 'Số lầu',\n",
       "       'Chổ để xe hơi', 'Số phòng ngủ', 'Chính chủ', 'city', 'district',\n",
       "       'ward', 'street'],\n",
       "      dtype='object')"
      ]
     },
     "execution_count": 110,
     "metadata": {},
     "output_type": "execute_result"
    }
   ],
   "source": [
    "alo.columns"
   ]
  },
  {
   "cell_type": "code",
   "execution_count": 111,
   "id": "a012e2fe-bda7-4d32-b1a4-44593565816c",
   "metadata": {},
   "outputs": [],
   "source": [
    "alo = alo[['price', 'area', 'Hướng',\n",
    "       'Đường trước nhà', 'Pháp lý',\n",
    "        'Số lầu', 'Số phòng ngủ','district',\n",
    "       'ward', 'street']]"
   ]
  },
  {
   "cell_type": "code",
   "execution_count": 112,
   "id": "55637706-fd8c-431c-8249-ee46c1b529d4",
   "metadata": {},
   "outputs": [],
   "source": [
    "alo = alo.rename(columns={'price':\"Price\", 'area':\"Area\", 'Hướng':\"House Direction\",\n",
    "       'Đường trước nhà': \"Facade\", 'Pháp lý':\"Legits\",\n",
    "        'Số lầu':\"Floors\", 'Số phòng ngủ':\"Bedrooms\", 'district':\"District\",\n",
    "       'ward':\"Ward\", 'street':\"Street\"})"
   ]
  },
  {
   "cell_type": "code",
   "execution_count": 113,
   "id": "ae4b37cc-ba21-43f6-a962-945d7e8e4451",
   "metadata": {},
   "outputs": [],
   "source": [
    "alo = alo[alo[\"Price\"] != \"None\"]"
   ]
  },
  {
   "cell_type": "code",
   "execution_count": 114,
   "id": "ec3af00a-0be5-4d39-96ee-14dddedc7759",
   "metadata": {},
   "outputs": [
    {
     "data": {
      "text/plain": [
       "Index(['Unnamed: 0', 'Price', 'Area', 'Facade', 'Building Line', 'Floors',\n",
       "       'Bedrooms', 'Pulish Time', 'Type', 'ID', 'Toilets', 'Direction',\n",
       "       'District'],\n",
       "      dtype='object')"
      ]
     },
     "execution_count": 114,
     "metadata": {},
     "output_type": "execute_result"
    }
   ],
   "source": [
    "bdsso.columns"
   ]
  },
  {
   "cell_type": "code",
   "execution_count": 115,
   "id": "d0011db2-34d4-44a4-80d6-09a36e55d52e",
   "metadata": {},
   "outputs": [],
   "source": [
    "bdsso = bdsso[['Price', 'Area', 'Facade',  'Floors',\n",
    "       'Bedrooms', 'Toilets', 'Direction',\n",
    "       'District']]"
   ]
  },
  {
   "cell_type": "code",
   "execution_count": 116,
   "id": "295dae01-4886-4d5e-90ab-8e97e735a6d8",
   "metadata": {},
   "outputs": [
    {
     "data": {
      "text/html": [
       "<div>\n",
       "<style scoped>\n",
       "    .dataframe tbody tr th:only-of-type {\n",
       "        vertical-align: middle;\n",
       "    }\n",
       "\n",
       "    .dataframe tbody tr th {\n",
       "        vertical-align: top;\n",
       "    }\n",
       "\n",
       "    .dataframe thead th {\n",
       "        text-align: right;\n",
       "    }\n",
       "</style>\n",
       "<table border=\"1\" class=\"dataframe\">\n",
       "  <thead>\n",
       "    <tr style=\"text-align: right;\">\n",
       "      <th></th>\n",
       "      <th>Price</th>\n",
       "      <th>Area</th>\n",
       "      <th>Facade</th>\n",
       "      <th>Floors</th>\n",
       "      <th>Bedrooms</th>\n",
       "      <th>Toilets</th>\n",
       "      <th>House Direction</th>\n",
       "      <th>District</th>\n",
       "    </tr>\n",
       "  </thead>\n",
       "  <tbody>\n",
       "    <tr>\n",
       "      <th>0</th>\n",
       "      <td>6300.0</td>\n",
       "      <td>45.0</td>\n",
       "      <td>4.0</td>\n",
       "      <td>4</td>\n",
       "      <td>5</td>\n",
       "      <td>None</td>\n",
       "      <td>NaN</td>\n",
       "      <td>Nam Từ Liêm</td>\n",
       "    </tr>\n",
       "    <tr>\n",
       "      <th>1</th>\n",
       "      <td>19800.0</td>\n",
       "      <td>100.0</td>\n",
       "      <td>5.0</td>\n",
       "      <td>4</td>\n",
       "      <td>5</td>\n",
       "      <td>4</td>\n",
       "      <td>NaN</td>\n",
       "      <td>Gia Lâm</td>\n",
       "    </tr>\n",
       "    <tr>\n",
       "      <th>2</th>\n",
       "      <td>9800.0</td>\n",
       "      <td>27.0</td>\n",
       "      <td>5.0</td>\n",
       "      <td>3</td>\n",
       "      <td>3</td>\n",
       "      <td>2</td>\n",
       "      <td>Tây nam</td>\n",
       "      <td>Tây Hồ</td>\n",
       "    </tr>\n",
       "    <tr>\n",
       "      <th>3</th>\n",
       "      <td>12000.0</td>\n",
       "      <td>95.0</td>\n",
       "      <td>5.0</td>\n",
       "      <td>5</td>\n",
       "      <td>4</td>\n",
       "      <td>3</td>\n",
       "      <td>NaN</td>\n",
       "      <td>Long Biên</td>\n",
       "    </tr>\n",
       "    <tr>\n",
       "      <th>4</th>\n",
       "      <td>4200.0</td>\n",
       "      <td>112.0</td>\n",
       "      <td>11.0</td>\n",
       "      <td>None</td>\n",
       "      <td>3</td>\n",
       "      <td>2</td>\n",
       "      <td>Nam</td>\n",
       "      <td>Nam Từ Liêm</td>\n",
       "    </tr>\n",
       "  </tbody>\n",
       "</table>\n",
       "</div>"
      ],
      "text/plain": [
       "     Price   Area  Facade Floors Bedrooms Toilets House Direction     District\n",
       "0   6300.0   45.0     4.0      4        5    None             NaN  Nam Từ Liêm\n",
       "1  19800.0  100.0     5.0      4        5       4             NaN      Gia Lâm\n",
       "2   9800.0   27.0     5.0      3        3       2         Tây nam       Tây Hồ\n",
       "3  12000.0   95.0     5.0      5        4       3             NaN    Long Biên\n",
       "4   4200.0  112.0    11.0   None        3       2             Nam  Nam Từ Liêm"
      ]
     },
     "execution_count": 116,
     "metadata": {},
     "output_type": "execute_result"
    }
   ],
   "source": [
    "bdsso = bdsso.rename({\"Direction\":\"House Direction\"}, axis=1)\n",
    "bdsso.head()"
   ]
  },
  {
   "cell_type": "code",
   "execution_count": 117,
   "id": "76b53ef1-ad17-4c9e-b10a-228c57ded7fb",
   "metadata": {},
   "outputs": [],
   "source": [
    "bdsso = bdsso.fillna(\"None\")"
   ]
  },
  {
   "cell_type": "code",
   "execution_count": 118,
   "id": "9bf121c5-8013-439f-a063-98368ccb710f",
   "metadata": {},
   "outputs": [
    {
     "data": {
      "text/html": [
       "<div>\n",
       "<style scoped>\n",
       "    .dataframe tbody tr th:only-of-type {\n",
       "        vertical-align: middle;\n",
       "    }\n",
       "\n",
       "    .dataframe tbody tr th {\n",
       "        vertical-align: top;\n",
       "    }\n",
       "\n",
       "    .dataframe thead th {\n",
       "        text-align: right;\n",
       "    }\n",
       "</style>\n",
       "<table border=\"1\" class=\"dataframe\">\n",
       "  <thead>\n",
       "    <tr style=\"text-align: right;\">\n",
       "      <th></th>\n",
       "      <th>index</th>\n",
       "      <th>House Direction</th>\n",
       "      <th>Balcony Direction</th>\n",
       "      <th>Bedrooms</th>\n",
       "      <th>Toilets</th>\n",
       "      <th>Legits</th>\n",
       "      <th>Furnitures</th>\n",
       "      <th>Floors</th>\n",
       "      <th>Facade</th>\n",
       "      <th>Entrance</th>\n",
       "      <th>City</th>\n",
       "      <th>District</th>\n",
       "      <th>Ward</th>\n",
       "      <th>Street</th>\n",
       "      <th>Area</th>\n",
       "      <th>Price</th>\n",
       "    </tr>\n",
       "  </thead>\n",
       "  <tbody>\n",
       "    <tr>\n",
       "      <th>0</th>\n",
       "      <td>0</td>\n",
       "      <td>Nam</td>\n",
       "      <td>Bắc</td>\n",
       "      <td>3</td>\n",
       "      <td>2</td>\n",
       "      <td>None</td>\n",
       "      <td>NaN</td>\n",
       "      <td>None</td>\n",
       "      <td>None</td>\n",
       "      <td>None</td>\n",
       "      <td>Hà Nội</td>\n",
       "      <td>Tây Hồ</td>\n",
       "      <td>Phường Phú Thượng</td>\n",
       "      <td>None</td>\n",
       "      <td>100.0</td>\n",
       "      <td>4000.0</td>\n",
       "    </tr>\n",
       "    <tr>\n",
       "      <th>1</th>\n",
       "      <td>1</td>\n",
       "      <td>Nam</td>\n",
       "      <td>Bắc</td>\n",
       "      <td>2</td>\n",
       "      <td>2</td>\n",
       "      <td>Sổ đỏ/ Sổ hồng</td>\n",
       "      <td>NaN</td>\n",
       "      <td>None</td>\n",
       "      <td>None</td>\n",
       "      <td>None</td>\n",
       "      <td>Hà Nội</td>\n",
       "      <td>Tây Hồ</td>\n",
       "      <td>Phường Phú Thượng</td>\n",
       "      <td>Đường Võ Chí Công</td>\n",
       "      <td>80.74</td>\n",
       "      <td>3496.042</td>\n",
       "    </tr>\n",
       "    <tr>\n",
       "      <th>2</th>\n",
       "      <td>2</td>\n",
       "      <td>None</td>\n",
       "      <td>None</td>\n",
       "      <td>3</td>\n",
       "      <td>3</td>\n",
       "      <td>Sổ đỏ/ Sổ hồng</td>\n",
       "      <td>Đầy đủ</td>\n",
       "      <td>None</td>\n",
       "      <td>None</td>\n",
       "      <td>None</td>\n",
       "      <td>Hà Nội</td>\n",
       "      <td>Cầu Giấy</td>\n",
       "      <td>Phường Yên Hòa</td>\n",
       "      <td>Đường Dương Đình Nghệ</td>\n",
       "      <td>131.0</td>\n",
       "      <td>5900.0</td>\n",
       "    </tr>\n",
       "    <tr>\n",
       "      <th>3</th>\n",
       "      <td>3</td>\n",
       "      <td>None</td>\n",
       "      <td>None</td>\n",
       "      <td>5</td>\n",
       "      <td>None</td>\n",
       "      <td>Sổ đỏ/ Sổ hồng.</td>\n",
       "      <td>Cơ bản.</td>\n",
       "      <td>5</td>\n",
       "      <td>None</td>\n",
       "      <td>None</td>\n",
       "      <td>Hà Nội</td>\n",
       "      <td>Long Biên</td>\n",
       "      <td>Phường Bồ Đề</td>\n",
       "      <td>Đường Bồ Đề</td>\n",
       "      <td>52.0</td>\n",
       "      <td>6750.0</td>\n",
       "    </tr>\n",
       "    <tr>\n",
       "      <th>4</th>\n",
       "      <td>4</td>\n",
       "      <td>None</td>\n",
       "      <td>None</td>\n",
       "      <td>3</td>\n",
       "      <td>2</td>\n",
       "      <td>Sổ đỏ/ Sổ hồng</td>\n",
       "      <td>Nội thất đầy đủ: Thiết bị điện tử(tivi, tủ lạn...</td>\n",
       "      <td>None</td>\n",
       "      <td>None</td>\n",
       "      <td>None</td>\n",
       "      <td>Hà Nội</td>\n",
       "      <td>Nam Từ Liêm</td>\n",
       "      <td>Thị trấn Cầu Diễn</td>\n",
       "      <td>Đường Hàm Nghi</td>\n",
       "      <td>119.0</td>\n",
       "      <td>5800.0</td>\n",
       "    </tr>\n",
       "  </tbody>\n",
       "</table>\n",
       "</div>"
      ],
      "text/plain": [
       "   index House Direction Balcony Direction Bedrooms Toilets           Legits  \\\n",
       "0      0             Nam               Bắc        3       2             None   \n",
       "1      1             Nam               Bắc        2       2   Sổ đỏ/ Sổ hồng   \n",
       "2      2            None              None        3       3   Sổ đỏ/ Sổ hồng   \n",
       "3      3            None              None        5    None  Sổ đỏ/ Sổ hồng.   \n",
       "4      4            None              None        3       2   Sổ đỏ/ Sổ hồng   \n",
       "\n",
       "                                          Furnitures Floors Facade Entrance  \\\n",
       "0                                                NaN   None   None     None   \n",
       "1                                                NaN   None   None     None   \n",
       "2                                             Đầy đủ   None   None     None   \n",
       "3                                            Cơ bản.      5   None     None   \n",
       "4  Nội thất đầy đủ: Thiết bị điện tử(tivi, tủ lạn...   None   None     None   \n",
       "\n",
       "     City     District               Ward                 Street   Area  \\\n",
       "0  Hà Nội       Tây Hồ  Phường Phú Thượng                   None  100.0   \n",
       "1  Hà Nội       Tây Hồ  Phường Phú Thượng      Đường Võ Chí Công  80.74   \n",
       "2  Hà Nội     Cầu Giấy     Phường Yên Hòa  Đường Dương Đình Nghệ  131.0   \n",
       "3  Hà Nội    Long Biên       Phường Bồ Đề            Đường Bồ Đề   52.0   \n",
       "4  Hà Nội  Nam Từ Liêm  Thị trấn Cầu Diễn         Đường Hàm Nghi  119.0   \n",
       "\n",
       "      Price  \n",
       "0    4000.0  \n",
       "1  3496.042  \n",
       "2    5900.0  \n",
       "3    6750.0  \n",
       "4    5800.0  "
      ]
     },
     "execution_count": 118,
     "metadata": {},
     "output_type": "execute_result"
    }
   ],
   "source": [
    "final = pd.concat([bdscom, home, bdsso, alo]).reset_index()\n",
    "final.head()"
   ]
  },
  {
   "cell_type": "code",
   "execution_count": 119,
   "id": "49d2a4db-201e-4d5d-a2d0-c714647bb224",
   "metadata": {},
   "outputs": [],
   "source": [
    "final = final.drop(['Furnitures'], axis=1)"
   ]
  },
  {
   "cell_type": "code",
   "execution_count": 120,
   "id": "4d57cf29-6e51-4718-94f2-d0f298ab49fb",
   "metadata": {},
   "outputs": [
    {
     "data": {
      "text/plain": [
       "index                0.000000\n",
       "House Direction      0.000000\n",
       "Balcony Direction    0.536138\n",
       "Bedrooms             0.000000\n",
       "Toilets              0.422587\n",
       "Legits               0.113551\n",
       "Floors               0.000000\n",
       "Facade               0.000000\n",
       "Entrance             0.571838\n",
       "City                 0.536138\n",
       "District             0.000000\n",
       "Ward                 0.149251\n",
       "Street               0.149251\n",
       "Area                 0.000000\n",
       "Price                0.000000\n",
       "dtype: float64"
      ]
     },
     "execution_count": 120,
     "metadata": {},
     "output_type": "execute_result"
    }
   ],
   "source": [
    "final.isnull().mean()"
   ]
  },
  {
   "cell_type": "code",
   "execution_count": 121,
   "id": "94929d52-e61f-4194-98f7-408195c88fd7",
   "metadata": {},
   "outputs": [],
   "source": [
    "final = final.fillna(\"None\")"
   ]
  },
  {
   "cell_type": "code",
   "execution_count": 122,
   "id": "2ee2c14e-a9ec-4769-bb4a-1d1ac714a64b",
   "metadata": {},
   "outputs": [
    {
     "data": {
      "text/plain": [
       "index                0.0\n",
       "House Direction      0.0\n",
       "Balcony Direction    0.0\n",
       "Bedrooms             0.0\n",
       "Toilets              0.0\n",
       "Legits               0.0\n",
       "Floors               0.0\n",
       "Facade               0.0\n",
       "Entrance             0.0\n",
       "City                 0.0\n",
       "District             0.0\n",
       "Ward                 0.0\n",
       "Street               0.0\n",
       "Area                 0.0\n",
       "Price                0.0\n",
       "dtype: float64"
      ]
     },
     "execution_count": 122,
     "metadata": {},
     "output_type": "execute_result"
    }
   ],
   "source": [
    "final.isnull().mean()"
   ]
  },
  {
   "cell_type": "code",
   "execution_count": 123,
   "id": "ed9278fa-b02f-42d0-9775-b05626018d0d",
   "metadata": {},
   "outputs": [
    {
     "data": {
      "text/html": [
       "<div>\n",
       "<style scoped>\n",
       "    .dataframe tbody tr th:only-of-type {\n",
       "        vertical-align: middle;\n",
       "    }\n",
       "\n",
       "    .dataframe tbody tr th {\n",
       "        vertical-align: top;\n",
       "    }\n",
       "\n",
       "    .dataframe thead th {\n",
       "        text-align: right;\n",
       "    }\n",
       "</style>\n",
       "<table border=\"1\" class=\"dataframe\">\n",
       "  <thead>\n",
       "    <tr style=\"text-align: right;\">\n",
       "      <th></th>\n",
       "      <th>House Direction</th>\n",
       "      <th>Balcony Direction</th>\n",
       "      <th>Bedrooms</th>\n",
       "      <th>Toilets</th>\n",
       "      <th>Legits</th>\n",
       "      <th>Floors</th>\n",
       "      <th>Facade</th>\n",
       "      <th>Entrance</th>\n",
       "      <th>City</th>\n",
       "      <th>District</th>\n",
       "      <th>Ward</th>\n",
       "      <th>Street</th>\n",
       "      <th>Area</th>\n",
       "      <th>Price</th>\n",
       "    </tr>\n",
       "  </thead>\n",
       "  <tbody>\n",
       "    <tr>\n",
       "      <th>0</th>\n",
       "      <td>Nam</td>\n",
       "      <td>Bắc</td>\n",
       "      <td>3</td>\n",
       "      <td>2</td>\n",
       "      <td>None</td>\n",
       "      <td>None</td>\n",
       "      <td>None</td>\n",
       "      <td>None</td>\n",
       "      <td>Hà Nội</td>\n",
       "      <td>Tây Hồ</td>\n",
       "      <td>Phường Phú Thượng</td>\n",
       "      <td>None</td>\n",
       "      <td>100.0</td>\n",
       "      <td>4000.0</td>\n",
       "    </tr>\n",
       "    <tr>\n",
       "      <th>1</th>\n",
       "      <td>Nam</td>\n",
       "      <td>Bắc</td>\n",
       "      <td>2</td>\n",
       "      <td>2</td>\n",
       "      <td>Sổ đỏ/ Sổ hồng</td>\n",
       "      <td>None</td>\n",
       "      <td>None</td>\n",
       "      <td>None</td>\n",
       "      <td>Hà Nội</td>\n",
       "      <td>Tây Hồ</td>\n",
       "      <td>Phường Phú Thượng</td>\n",
       "      <td>Đường Võ Chí Công</td>\n",
       "      <td>80.74</td>\n",
       "      <td>3496.042</td>\n",
       "    </tr>\n",
       "    <tr>\n",
       "      <th>2</th>\n",
       "      <td>None</td>\n",
       "      <td>None</td>\n",
       "      <td>3</td>\n",
       "      <td>3</td>\n",
       "      <td>Sổ đỏ/ Sổ hồng</td>\n",
       "      <td>None</td>\n",
       "      <td>None</td>\n",
       "      <td>None</td>\n",
       "      <td>Hà Nội</td>\n",
       "      <td>Cầu Giấy</td>\n",
       "      <td>Phường Yên Hòa</td>\n",
       "      <td>Đường Dương Đình Nghệ</td>\n",
       "      <td>131.0</td>\n",
       "      <td>5900.0</td>\n",
       "    </tr>\n",
       "    <tr>\n",
       "      <th>3</th>\n",
       "      <td>None</td>\n",
       "      <td>None</td>\n",
       "      <td>5</td>\n",
       "      <td>None</td>\n",
       "      <td>Sổ đỏ/ Sổ hồng.</td>\n",
       "      <td>5</td>\n",
       "      <td>None</td>\n",
       "      <td>None</td>\n",
       "      <td>Hà Nội</td>\n",
       "      <td>Long Biên</td>\n",
       "      <td>Phường Bồ Đề</td>\n",
       "      <td>Đường Bồ Đề</td>\n",
       "      <td>52.0</td>\n",
       "      <td>6750.0</td>\n",
       "    </tr>\n",
       "    <tr>\n",
       "      <th>4</th>\n",
       "      <td>None</td>\n",
       "      <td>None</td>\n",
       "      <td>3</td>\n",
       "      <td>2</td>\n",
       "      <td>Sổ đỏ/ Sổ hồng</td>\n",
       "      <td>None</td>\n",
       "      <td>None</td>\n",
       "      <td>None</td>\n",
       "      <td>Hà Nội</td>\n",
       "      <td>Nam Từ Liêm</td>\n",
       "      <td>Thị trấn Cầu Diễn</td>\n",
       "      <td>Đường Hàm Nghi</td>\n",
       "      <td>119.0</td>\n",
       "      <td>5800.0</td>\n",
       "    </tr>\n",
       "    <tr>\n",
       "      <th>...</th>\n",
       "      <td>...</td>\n",
       "      <td>...</td>\n",
       "      <td>...</td>\n",
       "      <td>...</td>\n",
       "      <td>...</td>\n",
       "      <td>...</td>\n",
       "      <td>...</td>\n",
       "      <td>...</td>\n",
       "      <td>...</td>\n",
       "      <td>...</td>\n",
       "      <td>...</td>\n",
       "      <td>...</td>\n",
       "      <td>...</td>\n",
       "      <td>...</td>\n",
       "    </tr>\n",
       "    <tr>\n",
       "      <th>50219</th>\n",
       "      <td>None</td>\n",
       "      <td>None</td>\n",
       "      <td>4</td>\n",
       "      <td>None</td>\n",
       "      <td>Sổ hồng/ Sổ đỏ</td>\n",
       "      <td>4</td>\n",
       "      <td>3.0</td>\n",
       "      <td>None</td>\n",
       "      <td>None</td>\n",
       "      <td>Quận Thanh Xuân</td>\n",
       "      <td>Phường Thượng Đình</td>\n",
       "      <td>Đường Nguyễn Trãi</td>\n",
       "      <td>54.0</td>\n",
       "      <td>48000</td>\n",
       "    </tr>\n",
       "    <tr>\n",
       "      <th>50220</th>\n",
       "      <td>None</td>\n",
       "      <td>None</td>\n",
       "      <td>4</td>\n",
       "      <td>None</td>\n",
       "      <td>Sổ hồng/ Sổ đỏ</td>\n",
       "      <td>5</td>\n",
       "      <td>3.0</td>\n",
       "      <td>None</td>\n",
       "      <td>None</td>\n",
       "      <td>Quận Thanh Xuân</td>\n",
       "      <td>Phường Khương Trung</td>\n",
       "      <td>Đường Khương Trung</td>\n",
       "      <td>75.0</td>\n",
       "      <td>65000</td>\n",
       "    </tr>\n",
       "    <tr>\n",
       "      <th>50221</th>\n",
       "      <td>None</td>\n",
       "      <td>None</td>\n",
       "      <td>4</td>\n",
       "      <td>None</td>\n",
       "      <td>Sổ hồng/ Sổ đỏ</td>\n",
       "      <td>4</td>\n",
       "      <td>3.0</td>\n",
       "      <td>None</td>\n",
       "      <td>None</td>\n",
       "      <td>Quận Đống Đa</td>\n",
       "      <td>Phường Láng Hạ</td>\n",
       "      <td>Đường Láng</td>\n",
       "      <td>40.0</td>\n",
       "      <td>43000</td>\n",
       "    </tr>\n",
       "    <tr>\n",
       "      <th>50222</th>\n",
       "      <td>None</td>\n",
       "      <td>None</td>\n",
       "      <td>4</td>\n",
       "      <td>None</td>\n",
       "      <td>None</td>\n",
       "      <td>5</td>\n",
       "      <td>3.0</td>\n",
       "      <td>None</td>\n",
       "      <td>None</td>\n",
       "      <td>Quận Đống Đa</td>\n",
       "      <td>Phường Cát Linh</td>\n",
       "      <td>Phố Hào Nam</td>\n",
       "      <td>42.0</td>\n",
       "      <td>76000</td>\n",
       "    </tr>\n",
       "    <tr>\n",
       "      <th>50223</th>\n",
       "      <td>None</td>\n",
       "      <td>None</td>\n",
       "      <td>4</td>\n",
       "      <td>None</td>\n",
       "      <td>Sổ hồng/ Sổ đỏ</td>\n",
       "      <td>4</td>\n",
       "      <td>3.0</td>\n",
       "      <td>None</td>\n",
       "      <td>None</td>\n",
       "      <td>Quận Đống Đa</td>\n",
       "      <td>Phường Cát Linh</td>\n",
       "      <td>Phố Hào Nam</td>\n",
       "      <td>50.0</td>\n",
       "      <td>68000</td>\n",
       "    </tr>\n",
       "  </tbody>\n",
       "</table>\n",
       "<p>50224 rows × 14 columns</p>\n",
       "</div>"
      ],
      "text/plain": [
       "      House Direction Balcony Direction Bedrooms Toilets           Legits  \\\n",
       "0                 Nam               Bắc        3       2             None   \n",
       "1                 Nam               Bắc        2       2   Sổ đỏ/ Sổ hồng   \n",
       "2                None              None        3       3   Sổ đỏ/ Sổ hồng   \n",
       "3                None              None        5    None  Sổ đỏ/ Sổ hồng.   \n",
       "4                None              None        3       2   Sổ đỏ/ Sổ hồng   \n",
       "...               ...               ...      ...     ...              ...   \n",
       "50219            None              None        4    None   Sổ hồng/ Sổ đỏ   \n",
       "50220            None              None        4    None   Sổ hồng/ Sổ đỏ   \n",
       "50221            None              None        4    None   Sổ hồng/ Sổ đỏ   \n",
       "50222            None              None        4    None             None   \n",
       "50223            None              None        4    None   Sổ hồng/ Sổ đỏ   \n",
       "\n",
       "      Floors Facade Entrance    City          District                  Ward  \\\n",
       "0       None   None     None  Hà Nội            Tây Hồ     Phường Phú Thượng   \n",
       "1       None   None     None  Hà Nội            Tây Hồ     Phường Phú Thượng   \n",
       "2       None   None     None  Hà Nội          Cầu Giấy        Phường Yên Hòa   \n",
       "3          5   None     None  Hà Nội         Long Biên          Phường Bồ Đề   \n",
       "4       None   None     None  Hà Nội       Nam Từ Liêm     Thị trấn Cầu Diễn   \n",
       "...      ...    ...      ...     ...               ...                   ...   \n",
       "50219      4    3.0     None    None   Quận Thanh Xuân    Phường Thượng Đình   \n",
       "50220      5    3.0     None    None   Quận Thanh Xuân   Phường Khương Trung   \n",
       "50221      4    3.0     None    None      Quận Đống Đa      Phường Láng Hạ   \n",
       "50222      5    3.0     None    None      Quận Đống Đa      Phường Cát Linh   \n",
       "50223      4    3.0     None    None      Quận Đống Đa      Phường Cát Linh   \n",
       "\n",
       "                      Street   Area     Price  \n",
       "0                       None  100.0    4000.0  \n",
       "1          Đường Võ Chí Công  80.74  3496.042  \n",
       "2      Đường Dương Đình Nghệ  131.0    5900.0  \n",
       "3                Đường Bồ Đề   52.0    6750.0  \n",
       "4             Đường Hàm Nghi  119.0    5800.0  \n",
       "...                      ...    ...       ...  \n",
       "50219      Đường Nguyễn Trãi   54.0     48000  \n",
       "50220     Đường Khương Trung   75.0     65000  \n",
       "50221             Đường Láng   40.0     43000  \n",
       "50222            Phố Hào Nam   42.0     76000  \n",
       "50223            Phố Hào Nam   50.0     68000  \n",
       "\n",
       "[50224 rows x 14 columns]"
      ]
     },
     "execution_count": 123,
     "metadata": {},
     "output_type": "execute_result"
    }
   ],
   "source": [
    "final.drop([\"index\"], axis=1)"
   ]
  },
  {
   "cell_type": "code",
   "execution_count": 124,
   "id": "345c4ec3-79ce-4349-9325-5149964cc8ea",
   "metadata": {},
   "outputs": [],
   "source": [
    "final = final.drop(columns=[\"City\"])"
   ]
  },
  {
   "cell_type": "code",
   "execution_count": 125,
   "id": "cd301056-fd23-4728-b78a-1034a3e369fd",
   "metadata": {},
   "outputs": [],
   "source": [
    "final = final[final[\"Price\"] != \"None\"]"
   ]
  },
  {
   "cell_type": "code",
   "execution_count": 126,
   "id": "989ad7e3-c38d-45ce-9cb6-80f0221760c1",
   "metadata": {},
   "outputs": [],
   "source": [
    "final = final[final[\"Price\"] != \"Thỏa thuận\"]"
   ]
  },
  {
   "cell_type": "code",
   "execution_count": 127,
   "id": "4419bc6b-4724-4891-80a9-efc5074b14b2",
   "metadata": {},
   "outputs": [],
   "source": [
    "final[\"Price\"] = final[\"Price\"].apply(lambda x: float(x if  not isinstance(x, str) else x.replace(\",\", \".\")))"
   ]
  },
  {
   "cell_type": "code",
   "execution_count": 128,
   "id": "4353ffc1-8716-415a-a7a8-e5e84eac1b77",
   "metadata": {},
   "outputs": [
    {
     "data": {
      "text/plain": [
       "0         4000.000\n",
       "1         3496.042\n",
       "2         5900.000\n",
       "3         6750.000\n",
       "4         5800.000\n",
       "           ...    \n",
       "50219    48000.000\n",
       "50220    65000.000\n",
       "50221    43000.000\n",
       "50222    76000.000\n",
       "50223    68000.000\n",
       "Name: Price, Length: 50047, dtype: float64"
      ]
     },
     "execution_count": 128,
     "metadata": {},
     "output_type": "execute_result"
    }
   ],
   "source": [
    "pd.to_numeric(final[\"Price\"])"
   ]
  },
  {
   "cell_type": "code",
   "execution_count": 129,
   "id": "1cca2b57-42f1-48c8-a79d-ade167b75889",
   "metadata": {},
   "outputs": [],
   "source": [
    "final.to_csv(\"final.csv\", index=False)"
   ]
  },
  {
   "cell_type": "code",
   "execution_count": 132,
   "id": "c798f588-e0b1-4450-9d6e-ad14eb2425aa",
   "metadata": {},
   "outputs": [
    {
     "data": {
      "text/plain": [
       "0"
      ]
     },
     "execution_count": 132,
     "metadata": {},
     "output_type": "execute_result"
    }
   ],
   "source": [
    "(bdscom[\"District\"] == \"None\").sum()"
   ]
  },
  {
   "cell_type": "code",
   "execution_count": 135,
   "id": "6a4872f2-127e-496e-a72c-31f00afe1aab",
   "metadata": {},
   "outputs": [
    {
     "data": {
      "text/plain": [
       "0"
      ]
     },
     "execution_count": 135,
     "metadata": {},
     "output_type": "execute_result"
    }
   ],
   "source": [
    "(alo[\"District\"] == \"None\").sum()"
   ]
  },
  {
   "cell_type": "code",
   "execution_count": 141,
   "id": "11688ada-02ca-460b-9c83-1aee1082afe9",
   "metadata": {},
   "outputs": [
    {
     "data": {
      "text/plain": [
       "{'Ba Vì',\n",
       " 'Ba Đình',\n",
       " 'Bắc Từ Liêm',\n",
       " 'Chương Mỹ',\n",
       " 'Cầu Giấy',\n",
       " 'Gia Lâm',\n",
       " 'Hai Bà Trưng',\n",
       " 'Hoài Đức',\n",
       " 'Hoàn Kiếm',\n",
       " 'Hoàng Mai',\n",
       " 'Huyện Chương Mỹ',\n",
       " 'Huyện Gia Lâm',\n",
       " 'Huyện Hoài Đức',\n",
       " 'Huyện Mê Linh',\n",
       " 'Huyện Quốc Oai',\n",
       " 'Huyện Thanh Trì',\n",
       " 'Huyện Thạch Thất',\n",
       " 'Huyện Đan Phượng',\n",
       " 'Huyện Đông Anh',\n",
       " 'Hà Đông',\n",
       " 'Long Biên',\n",
       " 'Mê Linh',\n",
       " 'Mỹ Đức',\n",
       " 'Nam Từ Liêm',\n",
       " 'Phú Xuyên',\n",
       " 'Phúc Thọ',\n",
       " 'Quận Ba Đình',\n",
       " 'Quận Bắc Từ Liêm',\n",
       " 'Quận Cầu Giấy',\n",
       " 'Quận Hai Bà Trưng',\n",
       " 'Quận Hoàng Mai',\n",
       " 'Quận Hà Đông',\n",
       " 'Quận Long Biên',\n",
       " 'Quận Nam Từ Liêm',\n",
       " 'Quận Thanh Xuân',\n",
       " 'Quận Tây Hồ',\n",
       " 'Quận Đống Đa',\n",
       " 'Quốc Oai',\n",
       " 'Sóc Sơn',\n",
       " 'Sơn Tây',\n",
       " 'Thanh Oai',\n",
       " 'Thanh Trì',\n",
       " 'Thanh Xuân',\n",
       " 'Thường Tín',\n",
       " 'Thạch Thất',\n",
       " 'Thị xã Sơn Tây',\n",
       " 'Tây Hồ',\n",
       " 'Từ Liêm',\n",
       " 'nam từ liêm',\n",
       " 'phường Bách Khoa',\n",
       " 'quận Đan Phượng',\n",
       " 'Đan Phượng',\n",
       " 'Đông Anh',\n",
       " 'Đống Đa',\n",
       " 'Ứng Hòa'}"
      ]
     },
     "execution_count": 141,
     "metadata": {},
     "output_type": "execute_result"
    }
   ],
   "source": [
    "set([i  for i in bdscom[\"District\"].tolist()])"
   ]
  },
  {
   "cell_type": "code",
   "execution_count": 146,
   "id": "6a1e1ef3-af10-4e49-8b76-79b11bcee79f",
   "metadata": {},
   "outputs": [
    {
     "data": {
      "text/plain": [
       "35"
      ]
     },
     "execution_count": 146,
     "metadata": {},
     "output_type": "execute_result"
    }
   ],
   "source": [
    "len(set([i if \"Quận\" not in i and \"Huyện\" not in i else \" \".join(map(lambda x: x.capitalize(), i.split()[1:])) for i in bdscom[\"District\"].tolist()]))"
   ]
  },
  {
   "cell_type": "code",
   "execution_count": 148,
   "id": "8ea834a9-2bdc-4908-9aea-b727434d271d",
   "metadata": {},
   "outputs": [],
   "source": [
    "a = set([\" \".join(map(lambda x: x.capitalize(), i.split())) if \"Quận\" not in i and \"Huyện\" not in i else \" \".join(map(lambda x: x.capitalize(), i.split()[1:])) for i in bdscom[\"District\"].tolist()])"
   ]
  },
  {
   "cell_type": "code",
   "execution_count": 154,
   "id": "8dd13ef9-6e53-4c38-a681-6e111870ddbf",
   "metadata": {},
   "outputs": [],
   "source": [
    "a.remove('Nam Từ Liêm')"
   ]
  },
  {
   "cell_type": "code",
   "execution_count": 160,
   "id": "03b842bb-b6d4-4c62-8720-b2415b2e1b2b",
   "metadata": {},
   "outputs": [
    {
     "ename": "KeyError",
     "evalue": "'Nam Từ Liêm'",
     "output_type": "error",
     "traceback": [
      "\u001b[1;31m---------------------------------------------------------------------------\u001b[0m",
      "\u001b[1;31mKeyError\u001b[0m                                  Traceback (most recent call last)",
      "\u001b[1;32m~\\AppData\\Local\\Temp\\ipykernel_22400\\1381641080.py\u001b[0m in \u001b[0;36m<cell line: 1>\u001b[1;34m()\u001b[0m\n\u001b[1;32m----> 1\u001b[1;33m \u001b[0ma\u001b[0m\u001b[1;33m.\u001b[0m\u001b[0mremove\u001b[0m\u001b[1;33m(\u001b[0m\u001b[1;34m'Nam Từ Liêm'\u001b[0m\u001b[1;33m)\u001b[0m\u001b[1;33m\u001b[0m\u001b[1;33m\u001b[0m\u001b[0m\n\u001b[0m",
      "\u001b[1;31mKeyError\u001b[0m: 'Nam Từ Liêm'"
     ]
    }
   ],
   "source": [
    "a.remove('Nam Từ Liêm')"
   ]
  },
  {
   "cell_type": "code",
   "execution_count": 161,
   "id": "0c840ffe-a190-42e8-a586-3a898859a93a",
   "metadata": {},
   "outputs": [
    {
     "data": {
      "text/plain": [
       "True"
      ]
     },
     "execution_count": 161,
     "metadata": {},
     "output_type": "execute_result"
    }
   ],
   "source": [
    "'Nam Từ Liêm' in a"
   ]
  },
  {
   "cell_type": "code",
   "execution_count": 163,
   "id": "7d708fe9-85eb-4111-82a2-81b4b06123df",
   "metadata": {},
   "outputs": [],
   "source": [
    "a.remove('Nam Từ Liêm')"
   ]
  },
  {
   "cell_type": "code",
   "execution_count": null,
   "id": "c3c43ba0-7de3-4cb3-94e8-3d127f4e1e55",
   "metadata": {},
   "outputs": [],
   "source": []
  }
 ],
 "metadata": {
  "kernelspec": {
   "display_name": "Python 3 (ipykernel)",
   "language": "python",
   "name": "python3"
  },
  "language_info": {
   "codemirror_mode": {
    "name": "ipython",
    "version": 3
   },
   "file_extension": ".py",
   "mimetype": "text/x-python",
   "name": "python",
   "nbconvert_exporter": "python",
   "pygments_lexer": "ipython3",
   "version": "3.10.4"
  }
 },
 "nbformat": 4,
 "nbformat_minor": 5
}
