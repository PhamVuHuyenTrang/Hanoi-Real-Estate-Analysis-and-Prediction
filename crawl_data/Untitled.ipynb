{
 "cells": [
  {
   "cell_type": "code",
   "execution_count": 1,
   "id": "3f112d0d-a69a-43cb-8524-fe71c1c3769d",
   "metadata": {},
   "outputs": [],
   "source": [
    "import pandas as pd"
   ]
  },
  {
   "cell_type": "code",
   "execution_count": 2,
   "id": "e2adab76-bdec-4552-a129-108a9b5eb875",
   "metadata": {},
   "outputs": [],
   "source": [
    "add = pd.read_excel(\"hanoiaddress.xlsx\")"
   ]
  },
  {
   "cell_type": "code",
   "execution_count": 4,
   "id": "bcd271b0-913e-4b41-bc53-741f2c9c7103",
   "metadata": {},
   "outputs": [],
   "source": [
    "final = pd.read_csv(\"final.csv\")"
   ]
  },
  {
   "cell_type": "code",
   "execution_count": 5,
   "id": "67bf48b3-9186-467b-8db3-18c633616ced",
   "metadata": {},
   "outputs": [
    {
     "data": {
      "text/plain": [
       "['hà đông',\n",
       " 'đan phượng',\n",
       " 'chương mỹ',\n",
       " 'hoài đức',\n",
       " 'thanh xuân',\n",
       " 'hai bà trưng',\n",
       " 'mỹ đức',\n",
       " 'tây hồ',\n",
       " 'thường tín',\n",
       " 'sơn tây',\n",
       " 'phúc thọ',\n",
       " 'sóc sơn',\n",
       " 'nam từ liêm',\n",
       " 'thạch thất',\n",
       " 'long biên',\n",
       " 'mê linh',\n",
       " 'phú xuyên',\n",
       " 'ba đình',\n",
       " 'ba vì',\n",
       " 'hoàn kiếm',\n",
       " 'ứng hòa',\n",
       " 'cầu giấy',\n",
       " 'bắc từ liêm',\n",
       " 'thanh trì',\n",
       " 'đông anh',\n",
       " 'đống đa',\n",
       " 'gia lâm',\n",
       " 'hoàng mai',\n",
       " 'thanh oai',\n",
       " 'thị xã sơn tây',\n",
       " 'quốc oai']"
      ]
     },
     "execution_count": 5,
     "metadata": {},
     "output_type": "execute_result"
    }
   ],
   "source": [
    "a = list(set(final[\"District\"]))\n",
    "a"
   ]
  },
  {
   "cell_type": "code",
   "execution_count": 11,
   "id": "a21d66bd-62b1-41fc-83cc-dc7c9289b78a",
   "metadata": {},
   "outputs": [],
   "source": [
    "districts = list(set([\" \".join(i.split()[1:]).lower() for i in add[\"Quận Huyện\"]]))"
   ]
  },
  {
   "cell_type": "code",
   "execution_count": 12,
   "id": "b90d038c-d364-4cc2-9a2b-d433e3eb0a4b",
   "metadata": {},
   "outputs": [
    {
     "name": "stdout",
     "output_type": "stream",
     "text": [
      "sơn tây\n",
      "thị xã sơn tây\n"
     ]
    }
   ],
   "source": [
    "for i in a:\n",
    "    if i not in districts:\n",
    "        print(i)"
   ]
  },
  {
   "cell_type": "code",
   "execution_count": 13,
   "id": "152a9727-6515-4534-8291-9420d4c12067",
   "metadata": {},
   "outputs": [
    {
     "data": {
      "text/plain": [
       "0             tây hồ\n",
       "1             tây hồ\n",
       "2           cầu giấy\n",
       "3          long biên\n",
       "4        nam từ liêm\n",
       "            ...     \n",
       "48009     thanh xuân\n",
       "48010     thanh xuân\n",
       "48011        đống đa\n",
       "48012        đống đa\n",
       "48013        đống đa\n",
       "Name: District, Length: 48014, dtype: object"
      ]
     },
     "execution_count": 13,
     "metadata": {},
     "output_type": "execute_result"
    }
   ],
   "source": [
    "final.District.replace(\""
   ]
  },
  {
   "cell_type": "code",
   "execution_count": null,
   "id": "e0bed1b3-d537-465b-8c44-ea58c41aadfe",
   "metadata": {},
   "outputs": [],
   "source": []
  }
 ],
 "metadata": {
  "kernelspec": {
   "display_name": "Python 3 (ipykernel)",
   "language": "python",
   "name": "python3"
  },
  "language_info": {
   "codemirror_mode": {
    "name": "ipython",
    "version": 3
   },
   "file_extension": ".py",
   "mimetype": "text/x-python",
   "name": "python",
   "nbconvert_exporter": "python",
   "pygments_lexer": "ipython3",
   "version": "3.10.4"
  }
 },
 "nbformat": 4,
 "nbformat_minor": 5
}
