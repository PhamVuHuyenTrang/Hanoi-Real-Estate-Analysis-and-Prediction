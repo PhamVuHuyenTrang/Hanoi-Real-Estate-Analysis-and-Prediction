{
 "cells": [
  {
   "cell_type": "code",
   "execution_count": 79,
   "id": "6af96c41-a3fb-4f2c-9883-c793e4752fc0",
   "metadata": {},
   "outputs": [],
   "source": [
    "import random\n",
    "#import re\n",
    "from datetime import date\n",
    "#from urllib.request import urlretrieve\n",
    "from IPython.display import clear_output\n",
    "import pandas as pd\n",
    "from bs4 import BeautifulSoup\n",
    "from selenium import webdriver\n",
    "#from selenium.webdriver.common.by import By\n",
    "from lxml import etree\n",
    "import json\n",
    "import time\n",
    "import traceback\n",
    "import os\n",
    "from tqdm import tqdm"
   ]
  },
  {
   "cell_type": "code",
   "execution_count": 80,
   "id": "d00e8c38-38de-4f5d-8df4-541c81856c50",
   "metadata": {},
   "outputs": [],
   "source": [
    "class crawling:\n",
    "    \n",
    "    def __init__(self,):\n",
    "        self.home_page = \"https://batdongsan.so/nha-dat-ban/ha-noi#/\"\n",
    "        self.root = \"https://batdongsan.so/nha-dat/\"\n",
    "        self.page = 1\n",
    "    \n",
    "    def get_pages(self, page_source):\n",
    "        bs = BeautifulSoup(page_source)\n",
    "        page = etree.HTML(str(bs))\n",
    "        links = [i.getchildren()[0].get(\"href\") for i in page.xpath(\"\"\"//*[@id=\"main\"]/div/div/section/div/div[1]\"\"\")[0].getchildren()]\n",
    "        links = [link for link in links if link != None]\n",
    "        return links\n",
    "    \n",
    "    def next_page(self):\n",
    "        self.page += 1\n",
    "        return self.home_page.removesuffix('#/') + \"\"\"?page=\"\"\" + f\"{self.page}\" + \"#/\"\n",
    "    \n",
    "    def gather(self, page_source):\n",
    "        data = {}\n",
    "        bs = BeautifulSoup(page_source)\n",
    "        page = etree.HTML(str(bs))\n",
    "        #get price\n",
    "        price_path=page.xpath(\"\"\"//*[@id=\"main\"]/div[1]/div/section[1]/div[1]/div[2]/div[2]/strong\"\"\")\n",
    "        if len(price_path)!=0:\n",
    "            data[\"price\"]=page.xpath(\"\"\"//*[@id=\"main\"]/div[1]/div/section[1]/div[1]/div[2]/div[2]/strong\"\"\")[0].text + \" \" + page.xpath(\"\"\"//*[@id=\"main\"]/div[1]/div/section[1]/div[1]/div[2]/div[2]/text()[2]\"\"\")[0].strip()\n",
    "        else:\n",
    "            data[\"price\"]=None\n",
    "        \n",
    "        #get address\n",
    "        if len(bs.find_all(\"div\", {\"class\": \"re-address\"}))!=0:\n",
    "            address = bs.find_all(\"div\", {\"class\": \"re-address\"})[0].text.strip()\n",
    "            data[\"address\"] = address\n",
    "        else:\n",
    "            data[\"address\"] = None\n",
    "\n",
    "        \n",
    "        #get detailed description\n",
    "        des_elements = list(bs.find_all(\"ul\", {\"class\": \"re-property\"})[0].children)[0:-1:2]\n",
    "        for i in range(len(des_elements)):\n",
    "            key_value = des_elements[i].text.strip().split(\":\")\n",
    "            key = key_value[0]\n",
    "            value = key_value[1]\n",
    "            data[key] = value\n",
    "        \n",
    "        #get more information\n",
    "        info = bs.find(\"div\", {\"class\": \"re-content\"}).text\n",
    "        data[\"Details\"] = info\n",
    "        \n",
    "        #get id\n",
    "        other_information= list(bs.find_all(\"ul\", {\"class\": \"short-detail-2 list2 clearfix\"})[0].children)[0:-1:2]\n",
    "        try:\n",
    "            for i in range(len(other_information)):\n",
    "                key_value = other_information[i].text.strip().split(\":\")\n",
    "                key = key_value[0]\n",
    "                value = key_value[1]\n",
    "                data[key] = value\n",
    "            if \"Mã tin\" in data:\n",
    "                data[\"id\"] = \"batdongsan_so_com_vn_\" + str(data[\"Mã tin\"])\n",
    "            else:\n",
    "                data[\"id\"] = \"batdongsan_so_com_vn_\" + str(time.time())\n",
    "        except Exception as e:\n",
    "            print(e)\n",
    "            import pdb\n",
    "            pdb.set_trace()\n",
    "        return data\n",
    "    \n",
    "    def run(self, start, num_of_pages):\n",
    "        service = webdriver.edge.service.Service(\"edgedriver_win64\\msedgedriver.exe\")\n",
    "        driver = webdriver.Edge(service=service)\n",
    "        url = self.home_page\n",
    "        self.page = 1\n",
    "        if start != 1:\n",
    "            self.page = start\n",
    "            url = self.home_page.removesuffix('#/') + \"\"\"?page=\"\"\" + f\"{self.page}\" + \"#/\"\n",
    "        if os.path.exists(\"data/index.json\"):\n",
    "            with open(\"data/index.json\") as f:\n",
    "                index = set(json.load(f))\n",
    "        else:\n",
    "            index = set()\n",
    "            \n",
    "        with open(\"log.txt\", \"w\") as f:\n",
    "            pass\n",
    "        \n",
    "        dataset = []\n",
    "        for i in range(num_of_pages):\n",
    "            num = 10\n",
    "            pages = []\n",
    "            while num > 0:\n",
    "                try:\n",
    "                    driver.get(url)\n",
    "                    time.sleep(0.05)\n",
    "                    pages = self.get_pages(driver.page_source)\n",
    "                    driver.delete_all_cookies()\n",
    "                    break\n",
    "                except:\n",
    "                    num -= 1\n",
    "            if num <= 0:\n",
    "                url = self.next_page()\n",
    "                continue\n",
    "            #driver.close()\n",
    "            #service = webdriver.edge.service.Service(\"edgedriver_win64\\msedgedriver.exe\")\n",
    "            #driver = webdriver.Edge(service=service)\n",
    "            for page in tqdm(pages):\n",
    "                num = 10\n",
    "                while num > 0:\n",
    "                    try:\n",
    "                        driver.get(page)\n",
    "                        time.sleep(0.05)\n",
    "                        data = self.gather(driver.page_source)\n",
    "                        if data[\"id\"] not in index:\n",
    "                            dataset.append(data)\n",
    "                            index.add(data[\"id\"])\n",
    "                        with open(\"log.txt\", \"a\") as f:\n",
    "                            f.write(\"Success:\" + page +\"\\n\")\n",
    "                        driver.delete_all_cookies()\n",
    "                        break\n",
    "                    except Exception as e:\n",
    "                        print(e)\n",
    "                        with open(\"log.txt\", \"a\") as f:\n",
    "                            f.write(f\"Excution{10-num}: {page}\"+\"\\n\") \n",
    "                            f.write(traceback.format_exc()+\"\\n\")\n",
    "                        driver.delete_all_cookies()\n",
    "                        num -= 1\n",
    "            url = self.next_page()\n",
    "        if len(dataset) != 0:\n",
    "            df = pd.DataFrame(dataset)\n",
    "            df.to_csv(f\"data/{start}_{start+num_of_pages}_{time.time()}.csv\", index=False)\n",
    "        with open(\"data/index.json\", \"w\") as f:\n",
    "            json.dump(list(index), f)\n",
    "        driver.close()\n",
    "        "
   ]
  },
  {
   "cell_type": "code",
   "execution_count": 81,
   "id": "1670201b-676e-4715-9092-e68a80703a96",
   "metadata": {},
   "outputs": [],
   "source": [
    "craw = crawling()"
   ]
  },
  {
   "cell_type": "code",
   "execution_count": null,
   "id": "f98947e9-c540-4583-b364-9564fb8a16fc",
   "metadata": {},
   "outputs": [],
   "source": [
    "for i in tqdm(range(1, 3227)):\n",
    "    craw.run(i, 1)\n",
    "    clear_output()"
   ]
  },
  {
   "cell_type": "code",
   "execution_count": 23,
   "id": "5f9048c7",
   "metadata": {},
   "outputs": [],
   "source": [
    "service = webdriver.edge.service.Service(\"edgedriver_win64\\msedgedriver.exe\")\n",
    "driver = webdriver.Edge(service=service)"
   ]
  },
  {
   "cell_type": "code",
   "execution_count": 75,
   "id": "6501fe3f",
   "metadata": {},
   "outputs": [
    {
     "name": "stdout",
     "output_type": "stream",
     "text": [
      "[<Element br at 0x23e30e17580>, <Element br at 0x23e32a33bc0>, <Element br at 0x23e328f2dc0>, <Element br at 0x23e3231f780>, <Element br at 0x23e2fbf1840>, <Element br at 0x23e2fbf2440>, <Element br at 0x23e2fbf3ac0>, <Element br at 0x23e2fbf2980>, <Element br at 0x23e2fbf3240>, <Element br at 0x23e2fbf14c0>, <Element br at 0x23e2fbf3280>, <Element br at 0x23e2fbf2180>, <Element br at 0x23e2fbf2240>, <Element br at 0x23e2fbf1000>, <Element br at 0x23e2fbf0fc0>, <Element br at 0x23e2fbf20c0>, <Element br at 0x23e2fbf2b00>, <Element br at 0x23e2fbf3140>, <Element br at 0x23e2fbf1680>, <Element br at 0x23e2fbf3980>, <Element br at 0x23e2fbf2800>, <Element br at 0x23e2fbf2480>]\n"
     ]
    }
   ],
   "source": [
    "page_source = \"https://batdongsan.so/nha-dat/ban-nha-mat-pho-hoang-mai-62m2-7-tang-thang-may-kd-mt-5m-chi-15-8-ty#/\"\n",
    "driver.get(page_source)\n",
    "#print(bs)\n",
    "page = etree.HTML(str(bs))\n",
    "print(page.xpath(\"\"\"//*[@id=\"main\"]/div[1]/div/section[1]/div[2]/div[3]\"\"\")[0].getchildren())"
   ]
  },
  {
   "cell_type": "code",
   "execution_count": 78,
   "id": "de9ba579",
   "metadata": {},
   "outputs": [
    {
     "name": "stdout",
     "output_type": "stream",
     "text": [
      "+ Chủ nhà anh Toàn đã mua nhà mới, cần bán gấp nhà phố Ngọc Khánh - Ba Đình - Hà Nội. Diện tích: 35m2 - 4 Tầng - Mặt tiền 4m. Khu dân trí cao, an ninh tốt.+ Vị trí đẹp, ngõ rộng thênh thang, vào bước chân ra ô tô tránh. An sinh đỉnh, gần Hồ Giảng Võ, bãi gửi ô tô, trường học, bệnh viện Xanh Pôn, ga tàu điện ngầm, chợ, ngân hàng, gần nhiều nhà hàng, quán cafe.+ Giao thông thuận tiện kết nối phố Ngọc Khánh - Giảng Võ - Kim Mã - Nguyễn Công Hoan - Nguyễn Chí Thanh - Láng Hạ - La Thành.+ Nhà chủ tự xây 4 tầng chắc chắn, thiết kế hiện đại, đầy đủ công năng.+ Tặng lại toàn bộ nội thất cho khách thiện chí.+ Sổ đỏ chính chủ sẵn sàng giao dịch.+ Giá: 3.85 tỷ ( có thương lượng ).Liên hệ Mr Liệu để xem nhà miễn phí, làm việc chính chủ, miễn trung gian.\n"
     ]
    }
   ],
   "source": [
    "page_source = \"https://batdongsan.so/nha-dat/ban-nha-pho-ngoc-khanh-ba-dinh-tang-noi-that-o-ngay-35m2-4-tang-gia-3-85-ty#/\"\n",
    "driver.get(page_source)\n",
    "bs = BeautifulSoup(driver.page_source)\n",
    "result = bs.find(\"div\", {\"class\": \"re-content\"})\n",
    "print(result.text)\n"
   ]
  },
  {
   "cell_type": "code",
   "execution_count": null,
   "id": "6839da86",
   "metadata": {},
   "outputs": [],
   "source": []
  }
 ],
 "metadata": {
  "kernelspec": {
   "display_name": "Python 3 (ipykernel)",
   "language": "python",
   "name": "python3"
  },
  "language_info": {
   "codemirror_mode": {
    "name": "ipython",
    "version": 3
   },
   "file_extension": ".py",
   "mimetype": "text/x-python",
   "name": "python",
   "nbconvert_exporter": "python",
   "pygments_lexer": "ipython3",
   "version": "3.10.4"
  },
  "vscode": {
   "interpreter": {
    "hash": "26de051ba29f2982a8de78e945f0abaf191376122a1563185a90213a26c5da77"
   }
  }
 },
 "nbformat": 4,
 "nbformat_minor": 5
}
