{
 "cells": [
  {
   "cell_type": "code",
   "execution_count": 55,
   "id": "6af96c41-a3fb-4f2c-9883-c793e4752fc0",
   "metadata": {},
   "outputs": [],
   "source": [
    "import random\n",
    "#import re\n",
    "from datetime import date\n",
    "#from urllib.request import urlretrieve\n",
    "from IPython.display import clear_output\n",
    "import pandas as pd\n",
    "from bs4 import BeautifulSoup\n",
    "from selenium import webdriver\n",
    "#from selenium.webdriver.common.by import By\n",
    "from lxml import etree\n",
    "import json\n",
    "import time\n",
    "import traceback\n",
    "import os\n",
    "from tqdm import tqdm"
   ]
  },
  {
   "cell_type": "code",
   "execution_count": 56,
   "id": "d00e8c38-38de-4f5d-8df4-541c81856c50",
   "metadata": {},
   "outputs": [],
   "source": [
    "class crawling:\n",
    "    \n",
    "    def __init__(self,):\n",
    "        self.home_page = \"https://batdongsan.so/nha-dat-ban/ha-noi#/\"\n",
    "        self.root = \"https://batdongsan.so/nha-dat/\"\n",
    "        self.page = 1\n",
    "    \n",
    "    def get_pages(self, page_source):\n",
    "        bs = BeautifulSoup(page_source)\n",
    "        page = etree.HTML(str(bs))\n",
    "        links = [i.getchildren()[0].get(\"href\") for i in page.xpath(\"\"\"//*[@id=\"main\"]/div/div/section/div/div[1]\"\"\")[0].getchildren()]\n",
    "        links = [link for link in links if link != None]\n",
    "        return links\n",
    "    \n",
    "    def next_page(self):\n",
    "        self.page += 1\n",
    "        return self.home_page.removesuffix('#/') + \"\"\"?page=\"\"\" + f\"{self.page}\" + \"#/\"\n",
    "    \n",
    "    def gather(self, page_source):\n",
    "        data = {}\n",
    "        bs = BeautifulSoup(page_source)\n",
    "        page = etree.HTML(str(bs))\n",
    "        #get price\n",
    "        price_path=page.xpath(\"\"\"//*[@id=\"main\"]/div[1]/div/section[1]/div[1]/div[2]/div[2]/strong\"\"\")\n",
    "        if len(price_path)!=0:\n",
    "            data[\"price\"]=page.xpath(\"\"\"//*[@id=\"main\"]/div[1]/div/section[1]/div[1]/div[2]/div[2]/strong\"\"\")[0].text + \" \" + page.xpath(\"\"\"//*[@id=\"main\"]/div[1]/div/section[1]/div[1]/div[2]/div[2]/text()[2]\"\"\")[0].strip()\n",
    "        else:\n",
    "            data[\"price\"]=None\n",
    "        \n",
    "        #get address\n",
    "        if len(bs.find_all(\"div\", {\"class\": \"re-address\"}))!=0:\n",
    "            address = bs.find_all(\"div\", {\"class\": \"re-address\"})[0].text.strip()\n",
    "            data[\"address\"] = address\n",
    "        else:\n",
    "            data[\"address\"] = None\n",
    "\n",
    "        \n",
    "        #get detailed description\n",
    "        des_elements = list(bs.find_all(\"ul\", {\"class\": \"re-property\"})[0].children)[0:-1:2]\n",
    "        for i in range(len(des_elements)):\n",
    "            key_value = des_elements[i].text.strip().split(\":\")\n",
    "            key = key_value[0]\n",
    "            value = key_value[1]\n",
    "            data[key] = value\n",
    "        \n",
    "        #get more information\n",
    "        info = bs.find(\"div\", {\"class\": \"re-content\"}).text\n",
    "        data[\"Details\"] = info\n",
    "        \n",
    "        #get id\n",
    "        other_information= list(bs.find_all(\"ul\", {\"class\": \"short-detail-2 list2 clearfix\"})[0].children)[0:-1:2]\n",
    "        try:\n",
    "            for i in range(len(other_information)):\n",
    "                key_value = other_information[i].text.strip().split(\":\")\n",
    "                key = key_value[0]\n",
    "                value = key_value[1]\n",
    "                data[key] = value\n",
    "            if \"Mã tin\" in data:\n",
    "                data[\"id\"] = \"batdongsan_so_com_vn_\" + str(data[\"Mã tin\"])\n",
    "            else:\n",
    "                data[\"id\"] = \"batdongsan_so_com_vn_\" + str(time.time())\n",
    "        except Exception as e:\n",
    "            print(e)\n",
    "            import pdb\n",
    "            pdb.set_trace()\n",
    "        return data\n",
    "    \n",
    "    def run(self, start, num_of_pages):\n",
    "        service = webdriver.edge.service.Service(\"edgedriver_win64\\msedgedriver.exe\")\n",
    "        driver = webdriver.Edge(service=service)\n",
    "        url = self.home_page\n",
    "        self.page = 1\n",
    "        if start != 1:\n",
    "            self.page = start\n",
    "            url = self.home_page.removesuffix('#/') + \"\"\"?page=\"\"\" + f\"{self.page}\" + \"#/\"\n",
    "        if os.path.exists(\"data/index.json\"):\n",
    "            with open(\"data/index.json\") as f:\n",
    "                index = set(json.load(f))\n",
    "        else:\n",
    "            index = set()\n",
    "            \n",
    "        with open(\"log.txt\", \"w\") as f:\n",
    "            pass\n",
    "        \n",
    "        dataset = []\n",
    "        for i in range(num_of_pages):\n",
    "            num = 10\n",
    "            pages = []\n",
    "            while num > 0:\n",
    "                try:\n",
    "                    driver.get(url)\n",
    "                    time.sleep(0.05)\n",
    "                    pages = self.get_pages(driver.page_source)\n",
    "                    driver.delete_all_cookies()\n",
    "                    break\n",
    "                except:\n",
    "                    num -= 1\n",
    "            if num <= 0:\n",
    "                url = self.next_page()\n",
    "                continue\n",
    "            #driver.close()\n",
    "            #service = webdriver.edge.service.Service(\"edgedriver_win64\\msedgedriver.exe\")\n",
    "            #driver = webdriver.Edge(service=service)\n",
    "            for page in tqdm(pages):\n",
    "                num = 10\n",
    "                while num > 0:\n",
    "                    try:\n",
    "                        driver.get(page)\n",
    "                        time.sleep(0.05)\n",
    "                        data = self.gather(driver.page_source)\n",
    "                        if data[\"id\"] not in index:\n",
    "                            dataset.append(data)\n",
    "                            index.add(data[\"id\"])\n",
    "                        with open(\"log.txt\", \"a\") as f:\n",
    "                            f.write(\"Success:\" + page +\"\\n\")\n",
    "                        driver.delete_all_cookies()\n",
    "                        break\n",
    "                    except Exception as e:\n",
    "                        print(e)\n",
    "                        with open(\"log.txt\", \"a\") as f:\n",
    "                            f.write(f\"Excution{10-num}: {page}\"+\"\\n\") \n",
    "                            f.write(traceback.format_exc()+\"\\n\")\n",
    "                        driver.delete_all_cookies()\n",
    "                        num -= 1\n",
    "            url = self.next_page()\n",
    "        if len(dataset) != 0:\n",
    "            df = pd.DataFrame(dataset)\n",
    "            df.to_csv(f\"data/{start}_{start+num_of_pages}_{time.time()}.csv\", index=False)\n",
    "        with open(\"data/index.json\", \"w\") as f:\n",
    "            json.dump(list(index), f)\n",
    "        driver.close()\n",
    "        "
   ]
  },
  {
   "cell_type": "code",
   "execution_count": 57,
   "id": "1670201b-676e-4715-9092-e68a80703a96",
   "metadata": {},
   "outputs": [],
   "source": [
    "craw = crawling()"
   ]
  },
  {
   "cell_type": "code",
   "execution_count": 58,
   "id": "f98947e9-c540-4583-b364-9564fb8a16fc",
   "metadata": {},
   "outputs": [
    {
     "name": "stderr",
     "output_type": "stream",
     "text": [
      "  0%|                                                                                         | 0/3226 [00:00<?, ?it/s]\n",
      "  0%|                                                                                           | 0/20 [00:00<?, ?it/s]\u001b[A"
     ]
    },
    {
     "name": "stdout",
     "output_type": "stream",
     "text": [
      "'NoneType' object is not subscriptable\n",
      "'NoneType' object is not subscriptable\n",
      "'NoneType' object is not subscriptable\n",
      "'NoneType' object is not subscriptable\n",
      "'NoneType' object is not subscriptable\n",
      "'NoneType' object is not subscriptable\n",
      "'NoneType' object is not subscriptable\n",
      "'NoneType' object is not subscriptable\n",
      "'NoneType' object is not subscriptable\n"
     ]
    },
    {
     "name": "stderr",
     "output_type": "stream",
     "text": [
      "\n",
      "  5%|████▏                                                                              | 1/20 [00:13<04:21, 13.76s/it]\u001b[A"
     ]
    },
    {
     "name": "stdout",
     "output_type": "stream",
     "text": [
      "'NoneType' object is not subscriptable\n"
     ]
    },
    {
     "name": "stderr",
     "output_type": "stream",
     "text": [
      "\n",
      " 10%|████████▎                                                                          | 2/20 [00:15<02:00,  6.67s/it]\u001b[A"
     ]
    },
    {
     "name": "stdout",
     "output_type": "stream",
     "text": [
      "'NoneType' object is not subscriptable\n",
      "'NoneType' object is not subscriptable\n",
      "'NoneType' object is not subscriptable\n",
      "'NoneType' object is not subscriptable\n",
      "'NoneType' object is not subscriptable\n",
      "'NoneType' object is not subscriptable\n",
      "'NoneType' object is not subscriptable\n",
      "'NoneType' object is not subscriptable\n",
      "'NoneType' object is not subscriptable\n"
     ]
    },
    {
     "name": "stderr",
     "output_type": "stream",
     "text": [
      "\n",
      " 15%|████████████▍                                                                      | 3/20 [00:29<02:50, 10.02s/it]\u001b[A"
     ]
    },
    {
     "name": "stdout",
     "output_type": "stream",
     "text": [
      "'NoneType' object is not subscriptable\n"
     ]
    },
    {
     "name": "stderr",
     "output_type": "stream",
     "text": [
      "\n",
      " 20%|████████████████▌                                                                  | 4/20 [00:32<01:57,  7.35s/it]\u001b[A\n",
      " 25%|████████████████████▊                                                              | 5/20 [00:34<01:19,  5.29s/it]\u001b[A\n",
      " 30%|████████████████████████▉                                                          | 6/20 [00:36<00:58,  4.16s/it]\u001b[A\n",
      " 35%|█████████████████████████████                                                      | 7/20 [00:38<00:44,  3.43s/it]\u001b[A\n",
      " 40%|█████████████████████████████████▏                                                 | 8/20 [00:40<00:35,  2.99s/it]\u001b[A"
     ]
    },
    {
     "name": "stdout",
     "output_type": "stream",
     "text": [
      "'NoneType' object is not subscriptable\n",
      "'NoneType' object is not subscriptable\n",
      "'NoneType' object is not subscriptable\n",
      "'NoneType' object is not subscriptable\n",
      "'NoneType' object is not subscriptable\n",
      "'NoneType' object is not subscriptable\n",
      "'NoneType' object is not subscriptable\n",
      "'NoneType' object is not subscriptable\n",
      "'NoneType' object is not subscriptable\n"
     ]
    },
    {
     "name": "stderr",
     "output_type": "stream",
     "text": [
      "\n",
      " 45%|█████████████████████████████████████▎                                             | 9/20 [01:01<01:34,  8.60s/it]\u001b[A"
     ]
    },
    {
     "name": "stdout",
     "output_type": "stream",
     "text": [
      "'NoneType' object is not subscriptable\n",
      "'NoneType' object is not subscriptable\n",
      "'NoneType' object is not subscriptable\n",
      "'NoneType' object is not subscriptable\n",
      "'NoneType' object is not subscriptable\n",
      "'NoneType' object is not subscriptable\n",
      "'NoneType' object is not subscriptable\n",
      "'NoneType' object is not subscriptable\n",
      "'NoneType' object is not subscriptable\n",
      "'NoneType' object is not subscriptable\n"
     ]
    },
    {
     "name": "stderr",
     "output_type": "stream",
     "text": [
      "\n",
      " 50%|█████████████████████████████████████████                                         | 10/20 [01:15<01:42, 10.30s/it]\u001b[A"
     ]
    },
    {
     "name": "stdout",
     "output_type": "stream",
     "text": [
      "'NoneType' object is not subscriptable\n"
     ]
    },
    {
     "name": "stderr",
     "output_type": "stream",
     "text": [
      "\n",
      " 55%|█████████████████████████████████████████████                                     | 11/20 [01:17<01:10,  7.87s/it]\u001b[A"
     ]
    },
    {
     "name": "stdout",
     "output_type": "stream",
     "text": [
      "'NoneType' object is not subscriptable\n",
      "'NoneType' object is not subscriptable\n",
      "'NoneType' object is not subscriptable\n",
      "'NoneType' object is not subscriptable\n",
      "'NoneType' object is not subscriptable\n",
      "'NoneType' object is not subscriptable\n",
      "'NoneType' object is not subscriptable\n",
      "'NoneType' object is not subscriptable\n",
      "'NoneType' object is not subscriptable\n"
     ]
    },
    {
     "name": "stderr",
     "output_type": "stream",
     "text": [
      "\n",
      " 60%|█████████████████████████████████████████████████▏                                | 12/20 [01:39<01:36, 12.06s/it]\u001b[A"
     ]
    },
    {
     "name": "stdout",
     "output_type": "stream",
     "text": [
      "'NoneType' object is not subscriptable\n",
      "'NoneType' object is not subscriptable\n",
      "'NoneType' object is not subscriptable\n",
      "'NoneType' object is not subscriptable\n",
      "'NoneType' object is not subscriptable\n",
      "'NoneType' object is not subscriptable\n",
      "'NoneType' object is not subscriptable\n",
      "'NoneType' object is not subscriptable\n",
      "'NoneType' object is not subscriptable\n",
      "'NoneType' object is not subscriptable\n"
     ]
    },
    {
     "name": "stderr",
     "output_type": "stream",
     "text": [
      "\n",
      " 65%|█████████████████████████████████████████████████████▎                            | 13/20 [01:55<01:33, 13.34s/it]\u001b[A"
     ]
    },
    {
     "name": "stdout",
     "output_type": "stream",
     "text": [
      "'NoneType' object is not subscriptable\n",
      "'NoneType' object is not subscriptable\n",
      "'NoneType' object is not subscriptable\n",
      "'NoneType' object is not subscriptable\n",
      "'NoneType' object is not subscriptable\n",
      "'NoneType' object is not subscriptable\n",
      "'NoneType' object is not subscriptable\n",
      "'NoneType' object is not subscriptable\n",
      "'NoneType' object is not subscriptable\n",
      "'NoneType' object is not subscriptable\n"
     ]
    },
    {
     "name": "stderr",
     "output_type": "stream",
     "text": [
      "\n",
      " 70%|█████████████████████████████████████████████████████████▍                        | 14/20 [02:07<01:16, 12.77s/it]\u001b[A"
     ]
    },
    {
     "name": "stdout",
     "output_type": "stream",
     "text": [
      "'NoneType' object is not subscriptable\n",
      "'NoneType' object is not subscriptable\n",
      "'NoneType' object is not subscriptable\n",
      "'NoneType' object is not subscriptable\n",
      "'NoneType' object is not subscriptable\n",
      "'NoneType' object is not subscriptable\n",
      "'NoneType' object is not subscriptable\n"
     ]
    },
    {
     "name": "stderr",
     "output_type": "stream",
     "text": [
      " 70%|█████████████████████████████████████████████████████████▍                        | 14/20 [02:17<00:58,  9.82s/it]\n",
      "  0%|                                                                                         | 0/3226 [02:36<?, ?it/s]"
     ]
    },
    {
     "name": "stdout",
     "output_type": "stream",
     "text": [
      "Message: no such window: target window already closed\n",
      "from unknown error: web view not found\n",
      "  (Session info: MicrosoftEdge=108.0.1462.76)\n",
      "Stacktrace:\n",
      "Backtrace:\n",
      "\tMicrosoft::Applications::Events::EventProperties::SetProperty [0x00007FF7747D8FF2+14306]\n",
      "\tMicrosoft::Applications::Events::EventProperty::EventProperty [0x00007FF7747607B2+842834]\n",
      "\t(No symbol) [0x00007FF774411D90]\n",
      "\t(No symbol) [0x00007FF7743EB5F4]\n",
      "\t(No symbol) [0x00007FF774479729]\n",
      "\t(No symbol) [0x00007FF77448ED52]\n",
      "\t(No symbol) [0x00007FF774475B03]\n",
      "\t(No symbol) [0x00007FF7744473B8]\n",
      "\t(No symbol) [0x00007FF77444638E]\n",
      "\t(No symbol) [0x00007FF774447AE4]\n",
      "\tMicrosoft::Applications::Events::EventProperty::EventProperty [0x00007FF7746AFC58+119032]\n",
      "\tMicrosoft::Applications::Events::EventProperty::EventProperty [0x00007FF77469D316+42934]\n",
      "\tMicrosoft::Applications::Events::EventProperty::EventProperty [0x00007FF7746A052C+55756]\n",
      "\t(No symbol) [0x00007FF774517923]\n",
      "\tMicrosoft::Applications::Events::EventProperty::EventProperty [0x00007FF77476826A+874250]\n",
      "\tMicrosoft::Applications::Events::EventProperty::EventProperty [0x00007FF77476D364+894980]\n",
      "\tMicrosoft::Applications::Events::EventProperty::EventProperty [0x00007FF77476D4BC+895324]\n",
      "\tMicrosoft::Applications::Events::EventProperty::EventProperty [0x00007FF7747765DE+932478]\n",
      "\tBaseThreadInitThunk [0x00007FF9ABBE7614+20]\n",
      "\tRtlUserThreadStart [0x00007FF9ADB826A1+33]\n",
      "\n"
     ]
    },
    {
     "name": "stderr",
     "output_type": "stream",
     "text": [
      "\n"
     ]
    },
    {
     "ename": "NoSuchWindowException",
     "evalue": "Message: no such window: target window already closed\nfrom unknown error: web view not found\n  (Session info: MicrosoftEdge=108.0.1462.76)\nStacktrace:\nBacktrace:\n\tMicrosoft::Applications::Events::EventProperties::SetProperty [0x00007FF7747D8FF2+14306]\n\tMicrosoft::Applications::Events::EventProperty::EventProperty [0x00007FF7747607B2+842834]\n\t(No symbol) [0x00007FF774411D90]\n\t(No symbol) [0x00007FF7743EB5F4]\n\t(No symbol) [0x00007FF774479729]\n\t(No symbol) [0x00007FF77448ED52]\n\t(No symbol) [0x00007FF774475B03]\n\t(No symbol) [0x00007FF7744473B8]\n\t(No symbol) [0x00007FF77444638E]\n\t(No symbol) [0x00007FF774447AE4]\n\tMicrosoft::Applications::Events::EventProperty::EventProperty [0x00007FF7746AFC58+119032]\n\tMicrosoft::Applications::Events::EventProperty::EventProperty [0x00007FF77469D316+42934]\n\tMicrosoft::Applications::Events::EventProperty::EventProperty [0x00007FF7746A052C+55756]\n\t(No symbol) [0x00007FF774517923]\n\tMicrosoft::Applications::Events::EventProperty::EventProperty [0x00007FF77476826A+874250]\n\tMicrosoft::Applications::Events::EventProperty::EventProperty [0x00007FF77476D364+894980]\n\tMicrosoft::Applications::Events::EventProperty::EventProperty [0x00007FF77476D4BC+895324]\n\tMicrosoft::Applications::Events::EventProperty::EventProperty [0x00007FF7747765DE+932478]\n\tBaseThreadInitThunk [0x00007FF9ABBE7614+20]\n\tRtlUserThreadStart [0x00007FF9ADB826A1+33]\n",
     "output_type": "error",
     "traceback": [
      "\u001b[1;31m---------------------------------------------------------------------------\u001b[0m",
      "\u001b[1;31mNoSuchWindowException\u001b[0m                     Traceback (most recent call last)",
      "Input \u001b[1;32mIn [56]\u001b[0m, in \u001b[0;36mcrawling.run\u001b[1;34m(self, start, num_of_pages)\u001b[0m\n\u001b[0;32m    112\u001b[0m time\u001b[38;5;241m.\u001b[39msleep(\u001b[38;5;241m0.05\u001b[39m)\n\u001b[1;32m--> 113\u001b[0m data \u001b[38;5;241m=\u001b[39m \u001b[38;5;28mself\u001b[39m\u001b[38;5;241m.\u001b[39mgather(\u001b[43mdriver\u001b[49m\u001b[38;5;241;43m.\u001b[39;49m\u001b[43mpage_source\u001b[49m)\n\u001b[0;32m    114\u001b[0m \u001b[38;5;28;01mif\u001b[39;00m data[\u001b[38;5;124m\"\u001b[39m\u001b[38;5;124mid\u001b[39m\u001b[38;5;124m\"\u001b[39m] \u001b[38;5;129;01mnot\u001b[39;00m \u001b[38;5;129;01min\u001b[39;00m index:\n",
      "File \u001b[1;32m~\\AppData\\Roaming\\Python\\Python310\\site-packages\\selenium\\webdriver\\remote\\webdriver.py:550\u001b[0m, in \u001b[0;36mWebDriver.page_source\u001b[1;34m(self)\u001b[0m\n\u001b[0;32m    542\u001b[0m \u001b[38;5;124;03m\"\"\"\u001b[39;00m\n\u001b[0;32m    543\u001b[0m \u001b[38;5;124;03mGets the source of the current page.\u001b[39;00m\n\u001b[0;32m    544\u001b[0m \n\u001b[1;32m   (...)\u001b[0m\n\u001b[0;32m    548\u001b[0m \u001b[38;5;124;03m        driver.page_source\u001b[39;00m\n\u001b[0;32m    549\u001b[0m \u001b[38;5;124;03m\"\"\"\u001b[39;00m\n\u001b[1;32m--> 550\u001b[0m \u001b[38;5;28;01mreturn\u001b[39;00m \u001b[38;5;28;43mself\u001b[39;49m\u001b[38;5;241;43m.\u001b[39;49m\u001b[43mexecute\u001b[49m\u001b[43m(\u001b[49m\u001b[43mCommand\u001b[49m\u001b[38;5;241;43m.\u001b[39;49m\u001b[43mGET_PAGE_SOURCE\u001b[49m\u001b[43m)\u001b[49m[\u001b[38;5;124m\"\u001b[39m\u001b[38;5;124mvalue\u001b[39m\u001b[38;5;124m\"\u001b[39m]\n",
      "File \u001b[1;32m~\\AppData\\Roaming\\Python\\Python310\\site-packages\\selenium\\webdriver\\remote\\webdriver.py:444\u001b[0m, in \u001b[0;36mWebDriver.execute\u001b[1;34m(self, driver_command, params)\u001b[0m\n\u001b[0;32m    443\u001b[0m \u001b[38;5;28;01mif\u001b[39;00m response:\n\u001b[1;32m--> 444\u001b[0m     \u001b[38;5;28;43mself\u001b[39;49m\u001b[38;5;241;43m.\u001b[39;49m\u001b[43merror_handler\u001b[49m\u001b[38;5;241;43m.\u001b[39;49m\u001b[43mcheck_response\u001b[49m\u001b[43m(\u001b[49m\u001b[43mresponse\u001b[49m\u001b[43m)\u001b[49m\n\u001b[0;32m    445\u001b[0m     response[\u001b[38;5;124m\"\u001b[39m\u001b[38;5;124mvalue\u001b[39m\u001b[38;5;124m\"\u001b[39m] \u001b[38;5;241m=\u001b[39m \u001b[38;5;28mself\u001b[39m\u001b[38;5;241m.\u001b[39m_unwrap_value(response\u001b[38;5;241m.\u001b[39mget(\u001b[38;5;124m\"\u001b[39m\u001b[38;5;124mvalue\u001b[39m\u001b[38;5;124m\"\u001b[39m, \u001b[38;5;28;01mNone\u001b[39;00m))\n",
      "File \u001b[1;32m~\\AppData\\Roaming\\Python\\Python310\\site-packages\\selenium\\webdriver\\remote\\errorhandler.py:249\u001b[0m, in \u001b[0;36mErrorHandler.check_response\u001b[1;34m(self, response)\u001b[0m\n\u001b[0;32m    248\u001b[0m     \u001b[38;5;28;01mraise\u001b[39;00m exception_class(message, screen, stacktrace, alert_text)  \u001b[38;5;66;03m# type: ignore[call-arg]  # mypy is not smart enough here\u001b[39;00m\n\u001b[1;32m--> 249\u001b[0m \u001b[38;5;28;01mraise\u001b[39;00m exception_class(message, screen, stacktrace)\n",
      "\u001b[1;31mNoSuchWindowException\u001b[0m: Message: no such window: target window already closed\nfrom unknown error: web view not found\n  (Session info: MicrosoftEdge=108.0.1462.76)\nStacktrace:\nBacktrace:\n\tMicrosoft::Applications::Events::EventProperties::SetProperty [0x00007FF7747D8FF2+14306]\n\tMicrosoft::Applications::Events::EventProperty::EventProperty [0x00007FF7747607B2+842834]\n\t(No symbol) [0x00007FF774411D90]\n\t(No symbol) [0x00007FF7743EB5F4]\n\t(No symbol) [0x00007FF774479729]\n\t(No symbol) [0x00007FF77448ED52]\n\t(No symbol) [0x00007FF774475B03]\n\t(No symbol) [0x00007FF7744473B8]\n\t(No symbol) [0x00007FF77444638E]\n\t(No symbol) [0x00007FF774447AE4]\n\tMicrosoft::Applications::Events::EventProperty::EventProperty [0x00007FF7746AFC58+119032]\n\tMicrosoft::Applications::Events::EventProperty::EventProperty [0x00007FF77469D316+42934]\n\tMicrosoft::Applications::Events::EventProperty::EventProperty [0x00007FF7746A052C+55756]\n\t(No symbol) [0x00007FF774517923]\n\tMicrosoft::Applications::Events::EventProperty::EventProperty [0x00007FF77476826A+874250]\n\tMicrosoft::Applications::Events::EventProperty::EventProperty [0x00007FF77476D364+894980]\n\tMicrosoft::Applications::Events::EventProperty::EventProperty [0x00007FF77476D4BC+895324]\n\tMicrosoft::Applications::Events::EventProperty::EventProperty [0x00007FF7747765DE+932478]\n\tBaseThreadInitThunk [0x00007FF9ABBE7614+20]\n\tRtlUserThreadStart [0x00007FF9ADB826A1+33]\n",
      "\nDuring handling of the above exception, another exception occurred:\n",
      "\u001b[1;31mNoSuchWindowException\u001b[0m                     Traceback (most recent call last)",
      "Input \u001b[1;32mIn [58]\u001b[0m, in \u001b[0;36m<cell line: 1>\u001b[1;34m()\u001b[0m\n\u001b[0;32m      1\u001b[0m \u001b[38;5;28;01mfor\u001b[39;00m i \u001b[38;5;129;01min\u001b[39;00m tqdm(\u001b[38;5;28mrange\u001b[39m(\u001b[38;5;241m1\u001b[39m, \u001b[38;5;241m3227\u001b[39m)):\n\u001b[1;32m----> 2\u001b[0m     \u001b[43mcraw\u001b[49m\u001b[38;5;241;43m.\u001b[39;49m\u001b[43mrun\u001b[49m\u001b[43m(\u001b[49m\u001b[43mi\u001b[49m\u001b[43m,\u001b[49m\u001b[43m \u001b[49m\u001b[38;5;241;43m1\u001b[39;49m\u001b[43m)\u001b[49m\n\u001b[0;32m      3\u001b[0m     clear_output()\n",
      "Input \u001b[1;32mIn [56]\u001b[0m, in \u001b[0;36mcrawling.run\u001b[1;34m(self, start, num_of_pages)\u001b[0m\n\u001b[0;32m    124\u001b[0m                 f\u001b[38;5;241m.\u001b[39mwrite(\u001b[38;5;124mf\u001b[39m\u001b[38;5;124m\"\u001b[39m\u001b[38;5;124mExcution\u001b[39m\u001b[38;5;132;01m{\u001b[39;00m\u001b[38;5;241m10\u001b[39m\u001b[38;5;241m-\u001b[39mnum\u001b[38;5;132;01m}\u001b[39;00m\u001b[38;5;124m: \u001b[39m\u001b[38;5;132;01m{\u001b[39;00mpage\u001b[38;5;132;01m}\u001b[39;00m\u001b[38;5;124m\"\u001b[39m\u001b[38;5;241m+\u001b[39m\u001b[38;5;124m\"\u001b[39m\u001b[38;5;130;01m\\n\u001b[39;00m\u001b[38;5;124m\"\u001b[39m) \n\u001b[0;32m    125\u001b[0m                 f\u001b[38;5;241m.\u001b[39mwrite(traceback\u001b[38;5;241m.\u001b[39mformat_exc()\u001b[38;5;241m+\u001b[39m\u001b[38;5;124m\"\u001b[39m\u001b[38;5;130;01m\\n\u001b[39;00m\u001b[38;5;124m\"\u001b[39m)\n\u001b[1;32m--> 126\u001b[0m             \u001b[43mdriver\u001b[49m\u001b[38;5;241;43m.\u001b[39;49m\u001b[43mdelete_all_cookies\u001b[49m\u001b[43m(\u001b[49m\u001b[43m)\u001b[49m\n\u001b[0;32m    127\u001b[0m             num \u001b[38;5;241m-\u001b[39m\u001b[38;5;241m=\u001b[39m \u001b[38;5;241m1\u001b[39m\n\u001b[0;32m    128\u001b[0m url \u001b[38;5;241m=\u001b[39m \u001b[38;5;28mself\u001b[39m\u001b[38;5;241m.\u001b[39mnext_page()\n",
      "File \u001b[1;32m~\\AppData\\Roaming\\Python\\Python310\\site-packages\\selenium\\webdriver\\remote\\webdriver.py:730\u001b[0m, in \u001b[0;36mWebDriver.delete_all_cookies\u001b[1;34m(self)\u001b[0m\n\u001b[0;32m    721\u001b[0m \u001b[38;5;28;01mdef\u001b[39;00m \u001b[38;5;21mdelete_all_cookies\u001b[39m(\u001b[38;5;28mself\u001b[39m) \u001b[38;5;241m-\u001b[39m\u001b[38;5;241m>\u001b[39m \u001b[38;5;28;01mNone\u001b[39;00m:\n\u001b[0;32m    722\u001b[0m     \u001b[38;5;124;03m\"\"\"\u001b[39;00m\n\u001b[0;32m    723\u001b[0m \u001b[38;5;124;03m    Delete all cookies in the scope of the session.\u001b[39;00m\n\u001b[0;32m    724\u001b[0m \n\u001b[1;32m   (...)\u001b[0m\n\u001b[0;32m    728\u001b[0m \u001b[38;5;124;03m            driver.delete_all_cookies()\u001b[39;00m\n\u001b[0;32m    729\u001b[0m \u001b[38;5;124;03m    \"\"\"\u001b[39;00m\n\u001b[1;32m--> 730\u001b[0m     \u001b[38;5;28;43mself\u001b[39;49m\u001b[38;5;241;43m.\u001b[39;49m\u001b[43mexecute\u001b[49m\u001b[43m(\u001b[49m\u001b[43mCommand\u001b[49m\u001b[38;5;241;43m.\u001b[39;49m\u001b[43mDELETE_ALL_COOKIES\u001b[49m\u001b[43m)\u001b[49m\n",
      "File \u001b[1;32m~\\AppData\\Roaming\\Python\\Python310\\site-packages\\selenium\\webdriver\\remote\\webdriver.py:444\u001b[0m, in \u001b[0;36mWebDriver.execute\u001b[1;34m(self, driver_command, params)\u001b[0m\n\u001b[0;32m    442\u001b[0m response \u001b[38;5;241m=\u001b[39m \u001b[38;5;28mself\u001b[39m\u001b[38;5;241m.\u001b[39mcommand_executor\u001b[38;5;241m.\u001b[39mexecute(driver_command, params)\n\u001b[0;32m    443\u001b[0m \u001b[38;5;28;01mif\u001b[39;00m response:\n\u001b[1;32m--> 444\u001b[0m     \u001b[38;5;28;43mself\u001b[39;49m\u001b[38;5;241;43m.\u001b[39;49m\u001b[43merror_handler\u001b[49m\u001b[38;5;241;43m.\u001b[39;49m\u001b[43mcheck_response\u001b[49m\u001b[43m(\u001b[49m\u001b[43mresponse\u001b[49m\u001b[43m)\u001b[49m\n\u001b[0;32m    445\u001b[0m     response[\u001b[38;5;124m\"\u001b[39m\u001b[38;5;124mvalue\u001b[39m\u001b[38;5;124m\"\u001b[39m] \u001b[38;5;241m=\u001b[39m \u001b[38;5;28mself\u001b[39m\u001b[38;5;241m.\u001b[39m_unwrap_value(response\u001b[38;5;241m.\u001b[39mget(\u001b[38;5;124m\"\u001b[39m\u001b[38;5;124mvalue\u001b[39m\u001b[38;5;124m\"\u001b[39m, \u001b[38;5;28;01mNone\u001b[39;00m))\n\u001b[0;32m    446\u001b[0m     \u001b[38;5;28;01mreturn\u001b[39;00m response\n",
      "File \u001b[1;32m~\\AppData\\Roaming\\Python\\Python310\\site-packages\\selenium\\webdriver\\remote\\errorhandler.py:249\u001b[0m, in \u001b[0;36mErrorHandler.check_response\u001b[1;34m(self, response)\u001b[0m\n\u001b[0;32m    247\u001b[0m         alert_text \u001b[38;5;241m=\u001b[39m value[\u001b[38;5;124m\"\u001b[39m\u001b[38;5;124malert\u001b[39m\u001b[38;5;124m\"\u001b[39m]\u001b[38;5;241m.\u001b[39mget(\u001b[38;5;124m\"\u001b[39m\u001b[38;5;124mtext\u001b[39m\u001b[38;5;124m\"\u001b[39m)\n\u001b[0;32m    248\u001b[0m     \u001b[38;5;28;01mraise\u001b[39;00m exception_class(message, screen, stacktrace, alert_text)  \u001b[38;5;66;03m# type: ignore[call-arg]  # mypy is not smart enough here\u001b[39;00m\n\u001b[1;32m--> 249\u001b[0m \u001b[38;5;28;01mraise\u001b[39;00m exception_class(message, screen, stacktrace)\n",
      "\u001b[1;31mNoSuchWindowException\u001b[0m: Message: no such window: target window already closed\nfrom unknown error: web view not found\n  (Session info: MicrosoftEdge=108.0.1462.76)\nStacktrace:\nBacktrace:\n\tMicrosoft::Applications::Events::EventProperties::SetProperty [0x00007FF7747D8FF2+14306]\n\tMicrosoft::Applications::Events::EventProperty::EventProperty [0x00007FF7747607B2+842834]\n\t(No symbol) [0x00007FF774411D90]\n\t(No symbol) [0x00007FF7743EB5F4]\n\t(No symbol) [0x00007FF774479729]\n\t(No symbol) [0x00007FF77448ED52]\n\t(No symbol) [0x00007FF774475B03]\n\t(No symbol) [0x00007FF7744473B8]\n\t(No symbol) [0x00007FF77444638E]\n\t(No symbol) [0x00007FF774447AE4]\n\tMicrosoft::Applications::Events::EventProperty::EventProperty [0x00007FF7746AFC58+119032]\n\tMicrosoft::Applications::Events::EventProperty::EventProperty [0x00007FF77469D316+42934]\n\tMicrosoft::Applications::Events::EventProperty::EventProperty [0x00007FF7746A052C+55756]\n\t(No symbol) [0x00007FF774517923]\n\tMicrosoft::Applications::Events::EventProperty::EventProperty [0x00007FF77476826A+874250]\n\tMicrosoft::Applications::Events::EventProperty::EventProperty [0x00007FF77476D364+894980]\n\tMicrosoft::Applications::Events::EventProperty::EventProperty [0x00007FF77476D4BC+895324]\n\tMicrosoft::Applications::Events::EventProperty::EventProperty [0x00007FF7747765DE+932478]\n\tBaseThreadInitThunk [0x00007FF9ABBE7614+20]\n\tRtlUserThreadStart [0x00007FF9ADB826A1+33]\n"
     ]
    }
   ],
   "source": [
    "for i in tqdm(range(1, 3227)):\n",
    "    craw.run(i, 1)\n",
    "    clear_output()"
   ]
  },
  {
   "cell_type": "code",
   "execution_count": 23,
   "id": "6568a0b1",
   "metadata": {},
   "outputs": [],
   "source": [
    "service = webdriver.edge.service.Service(\"edgedriver_win64\\msedgedriver.exe\")\n",
    "driver = webdriver.Edge(service=service)"
   ]
  },
  {
   "cell_type": "code",
   "execution_count": 75,
   "id": "0182419b",
   "metadata": {},
   "outputs": [
    {
     "name": "stdout",
     "output_type": "stream",
     "text": [
      "[<Element br at 0x23e30e17580>, <Element br at 0x23e32a33bc0>, <Element br at 0x23e328f2dc0>, <Element br at 0x23e3231f780>, <Element br at 0x23e2fbf1840>, <Element br at 0x23e2fbf2440>, <Element br at 0x23e2fbf3ac0>, <Element br at 0x23e2fbf2980>, <Element br at 0x23e2fbf3240>, <Element br at 0x23e2fbf14c0>, <Element br at 0x23e2fbf3280>, <Element br at 0x23e2fbf2180>, <Element br at 0x23e2fbf2240>, <Element br at 0x23e2fbf1000>, <Element br at 0x23e2fbf0fc0>, <Element br at 0x23e2fbf20c0>, <Element br at 0x23e2fbf2b00>, <Element br at 0x23e2fbf3140>, <Element br at 0x23e2fbf1680>, <Element br at 0x23e2fbf3980>, <Element br at 0x23e2fbf2800>, <Element br at 0x23e2fbf2480>]\n"
     ]
    }
   ],
   "source": [
    "page_source = \"https://batdongsan.so/nha-dat/ban-nha-mat-pho-hoang-mai-62m2-7-tang-thang-may-kd-mt-5m-chi-15-8-ty#/\"\n",
    "driver.get(page_source)\n",
    "#print(bs)\n",
    "page = etree.HTML(str(bs))\n",
    "print(page.xpath(\"\"\"//*[@id=\"main\"]/div[1]/div/section[1]/div[2]/div[3]\"\"\")[0].getchildren())"
   ]
  },
  {
   "cell_type": "code",
   "execution_count": 78,
   "id": "5419feee",
   "metadata": {},
   "outputs": [
    {
     "name": "stdout",
     "output_type": "stream",
     "text": [
      "+ Chủ nhà anh Toàn đã mua nhà mới, cần bán gấp nhà phố Ngọc Khánh - Ba Đình - Hà Nội. Diện tích: 35m2 - 4 Tầng - Mặt tiền 4m. Khu dân trí cao, an ninh tốt.+ Vị trí đẹp, ngõ rộng thênh thang, vào bước chân ra ô tô tránh. An sinh đỉnh, gần Hồ Giảng Võ, bãi gửi ô tô, trường học, bệnh viện Xanh Pôn, ga tàu điện ngầm, chợ, ngân hàng, gần nhiều nhà hàng, quán cafe.+ Giao thông thuận tiện kết nối phố Ngọc Khánh - Giảng Võ - Kim Mã - Nguyễn Công Hoan - Nguyễn Chí Thanh - Láng Hạ - La Thành.+ Nhà chủ tự xây 4 tầng chắc chắn, thiết kế hiện đại, đầy đủ công năng.+ Tặng lại toàn bộ nội thất cho khách thiện chí.+ Sổ đỏ chính chủ sẵn sàng giao dịch.+ Giá: 3.85 tỷ ( có thương lượng ).Liên hệ Mr Liệu để xem nhà miễn phí, làm việc chính chủ, miễn trung gian.\n"
     ]
    }
   ],
   "source": [
    "page_source = \"https://batdongsan.so/nha-dat/ban-nha-pho-ngoc-khanh-ba-dinh-tang-noi-that-o-ngay-35m2-4-tang-gia-3-85-ty#/\"\n",
    "driver.get(page_source)\n",
    "bs = BeautifulSoup(driver.page_source)\n",
    "result = bs.find(\"div\", {\"class\": \"re-content\"})\n",
    "print(result.text)\n"
   ]
  },
  {
   "cell_type": "code",
   "execution_count": null,
   "id": "fbc8d8c2",
   "metadata": {},
   "outputs": [],
   "source": []
  }
 ],
 "metadata": {
  "kernelspec": {
   "display_name": "Python 3 (ipykernel)",
   "language": "python",
   "name": "python3"
  },
  "language_info": {
   "codemirror_mode": {
    "name": "ipython",
    "version": 3
   },
   "file_extension": ".py",
   "mimetype": "text/x-python",
   "name": "python",
   "nbconvert_exporter": "python",
   "pygments_lexer": "ipython3",
   "version": "3.10.4"
  },
  "vscode": {
   "interpreter": {
    "hash": "26de051ba29f2982a8de78e945f0abaf191376122a1563185a90213a26c5da77"
   }
  }
 },
 "nbformat": 4,
 "nbformat_minor": 5
}
