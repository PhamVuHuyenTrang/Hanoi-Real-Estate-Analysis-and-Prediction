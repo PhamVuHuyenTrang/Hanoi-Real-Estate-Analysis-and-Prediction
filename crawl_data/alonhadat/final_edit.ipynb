{
 "cells": [
  {
   "cell_type": "code",
   "execution_count": 1,
   "metadata": {},
   "outputs": [],
   "source": [
    "from os import listdir\n",
    "from os.path import isfile, join\n",
    "import os\n",
    "import pandas as pd\n",
    "import numpy as np\n",
    "from collections import Counter"
   ]
  },
  {
   "cell_type": "code",
   "execution_count": 164,
   "metadata": {},
   "outputs": [
    {
     "data": {
      "text/html": [
       "<div>\n",
       "<style scoped>\n",
       "    .dataframe tbody tr th:only-of-type {\n",
       "        vertical-align: middle;\n",
       "    }\n",
       "\n",
       "    .dataframe tbody tr th {\n",
       "        vertical-align: top;\n",
       "    }\n",
       "\n",
       "    .dataframe thead th {\n",
       "        text-align: right;\n",
       "    }\n",
       "</style>\n",
       "<table border=\"1\" class=\"dataframe\">\n",
       "  <thead>\n",
       "    <tr style=\"text-align: right;\">\n",
       "      <th></th>\n",
       "      <th>price</th>\n",
       "      <th>area</th>\n",
       "      <th>Hướng</th>\n",
       "      <th>Phòng ăn</th>\n",
       "      <th>Đường trước nhà</th>\n",
       "      <th>Nhà bếp</th>\n",
       "      <th>Loại BDS</th>\n",
       "      <th>Pháp lý</th>\n",
       "      <th>Sân thượng</th>\n",
       "      <th>Số lầu</th>\n",
       "      <th>Chổ để xe hơi</th>\n",
       "      <th>Số phòng ngủ</th>\n",
       "      <th>Chính chủ</th>\n",
       "      <th>city</th>\n",
       "      <th>district</th>\n",
       "      <th>ward</th>\n",
       "      <th>street</th>\n",
       "    </tr>\n",
       "  </thead>\n",
       "  <tbody>\n",
       "    <tr>\n",
       "      <th>0</th>\n",
       "      <td>38400000</td>\n",
       "      <td>160.0</td>\n",
       "      <td>None</td>\n",
       "      <td>1</td>\n",
       "      <td>20.0</td>\n",
       "      <td>1</td>\n",
       "      <td>Biệt thự, nhà liền kề</td>\n",
       "      <td>Sổ hồng/ Sổ đỏ</td>\n",
       "      <td>1</td>\n",
       "      <td>3</td>\n",
       "      <td>1</td>\n",
       "      <td>4</td>\n",
       "      <td>0</td>\n",
       "      <td>Hà Nội</td>\n",
       "      <td>Quận Nam Từ Liêm</td>\n",
       "      <td>Phường Xuân Phương</td>\n",
       "      <td>Đường 70</td>\n",
       "    </tr>\n",
       "    <tr>\n",
       "      <th>1</th>\n",
       "      <td>295000</td>\n",
       "      <td>155.0</td>\n",
       "      <td>None</td>\n",
       "      <td>1</td>\n",
       "      <td>20.0</td>\n",
       "      <td>1</td>\n",
       "      <td>Biệt thự, nhà liền kề</td>\n",
       "      <td>Sổ hồng/ Sổ đỏ</td>\n",
       "      <td>1</td>\n",
       "      <td>5</td>\n",
       "      <td>1</td>\n",
       "      <td>6</td>\n",
       "      <td>0</td>\n",
       "      <td>Hà Nội</td>\n",
       "      <td>Quận Bắc Từ Liêm</td>\n",
       "      <td>Phường Tây Tựu</td>\n",
       "      <td>Đường Văn Tiến Dũng</td>\n",
       "    </tr>\n",
       "    <tr>\n",
       "      <th>2</th>\n",
       "      <td>113000</td>\n",
       "      <td>79.0</td>\n",
       "      <td>None</td>\n",
       "      <td>1</td>\n",
       "      <td>20.0</td>\n",
       "      <td>1</td>\n",
       "      <td>Biệt thự, nhà liền kề</td>\n",
       "      <td>Sổ hồng/ Sổ đỏ</td>\n",
       "      <td>1</td>\n",
       "      <td>5</td>\n",
       "      <td>1</td>\n",
       "      <td>4</td>\n",
       "      <td>0</td>\n",
       "      <td>Hà Nội</td>\n",
       "      <td>Quận Nam Từ Liêm</td>\n",
       "      <td>Phường Phương Canh</td>\n",
       "      <td>Đường 70</td>\n",
       "    </tr>\n",
       "    <tr>\n",
       "      <th>3</th>\n",
       "      <td>4928</td>\n",
       "      <td>64.0</td>\n",
       "      <td>None</td>\n",
       "      <td>1</td>\n",
       "      <td>15.0</td>\n",
       "      <td>1</td>\n",
       "      <td>Đất thổ cư, đất ở</td>\n",
       "      <td>Sổ hồng/ Sổ đỏ</td>\n",
       "      <td>1</td>\n",
       "      <td>None</td>\n",
       "      <td>1</td>\n",
       "      <td>None</td>\n",
       "      <td>0</td>\n",
       "      <td>Hà Nội</td>\n",
       "      <td>Huyện Hoài Đức</td>\n",
       "      <td>Xã Vân Canh</td>\n",
       "      <td>Tỉnh Lộ 422B</td>\n",
       "    </tr>\n",
       "    <tr>\n",
       "      <th>4</th>\n",
       "      <td>137000</td>\n",
       "      <td>95.0</td>\n",
       "      <td>None</td>\n",
       "      <td>1</td>\n",
       "      <td>15.0</td>\n",
       "      <td>1</td>\n",
       "      <td>Biệt thự, nhà liền kề</td>\n",
       "      <td>Sổ hồng/ Sổ đỏ</td>\n",
       "      <td>1</td>\n",
       "      <td>5</td>\n",
       "      <td>1</td>\n",
       "      <td>6</td>\n",
       "      <td>0</td>\n",
       "      <td>Hà Nội</td>\n",
       "      <td>Quận Nam Từ Liêm</td>\n",
       "      <td>Phường Phương Canh</td>\n",
       "      <td>Đường 70</td>\n",
       "    </tr>\n",
       "  </tbody>\n",
       "</table>\n",
       "</div>"
      ],
      "text/plain": [
       "      price   area Hướng  Phòng ăn Đường trước nhà  Nhà bếp  \\\n",
       "0  38400000  160.0  None         1            20.0        1   \n",
       "1    295000  155.0  None         1            20.0        1   \n",
       "2    113000   79.0  None         1            20.0        1   \n",
       "3      4928   64.0  None         1            15.0        1   \n",
       "4    137000   95.0  None         1            15.0        1   \n",
       "\n",
       "                Loại BDS         Pháp lý  Sân thượng Số lầu  Chổ để xe hơi  \\\n",
       "0  Biệt thự, nhà liền kề  Sổ hồng/ Sổ đỏ           1      3              1   \n",
       "1  Biệt thự, nhà liền kề  Sổ hồng/ Sổ đỏ           1      5              1   \n",
       "2  Biệt thự, nhà liền kề  Sổ hồng/ Sổ đỏ           1      5              1   \n",
       "3      Đất thổ cư, đất ở  Sổ hồng/ Sổ đỏ           1   None              1   \n",
       "4  Biệt thự, nhà liền kề  Sổ hồng/ Sổ đỏ           1      5              1   \n",
       "\n",
       "  Số phòng ngủ  Chính chủ     city           district                 ward  \\\n",
       "0            4          0   Hà Nội   Quận Nam Từ Liêm   Phường Xuân Phương   \n",
       "1            6          0   Hà Nội   Quận Bắc Từ Liêm       Phường Tây Tựu   \n",
       "2            4          0   Hà Nội   Quận Nam Từ Liêm   Phường Phương Canh   \n",
       "3         None          0   Hà Nội     Huyện Hoài Đức          Xã Vân Canh   \n",
       "4            6          0   Hà Nội   Quận Nam Từ Liêm   Phường Phương Canh   \n",
       "\n",
       "                 street  \n",
       "0              Đường 70  \n",
       "1   Đường Văn Tiến Dũng  \n",
       "2              Đường 70  \n",
       "3          Tỉnh Lộ 422B  \n",
       "4              Đường 70  "
      ]
     },
     "execution_count": 164,
     "metadata": {},
     "output_type": "execute_result"
    }
   ],
   "source": [
    "data = pd.read_csv(os.path.join(\"data\", \"combined_csv.csv\"))\n",
    "data['Chính chủ'] = data['Chính chủ'].fillna(\"1\")\n",
    "data['Chính chủ'] = data['Chính chủ'].str.replace(\"---\", \"0\").astype(np.int64)\n",
    "data['Số phòng ngủ'] = data['Số phòng ngủ'].str.replace(\"---\", \"None\")\n",
    "data.drop(\"Chiều dài\", axis=1, inplace=True)\n",
    "data['Chổ để xe hơi'] = data['Chổ để xe hơi'].fillna(\"1\")\n",
    "data['Chổ để xe hơi'] = data['Chổ để xe hơi'].str.replace(\"---\", \"0\").astype(np.int64)\n",
    "data['Số lầu'] = data['Số lầu'].str.replace(\"---\", \"None\")\n",
    "data.drop(\"Chiều ngang\", axis=1, inplace=True)\n",
    "data['Sân thượng'] = data['Sân thượng'].fillna(\"1\")\n",
    "data['Sân thượng'] = data['Sân thượng'].str.replace(\"---\", \"0\").astype(np.int64)\n",
    "data['Pháp lý'] = data['Pháp lý'].str.replace(\"---\", \"None\")\n",
    "data['Nhà bếp'] = data['Nhà bếp'].fillna(\"1\")\n",
    "data['Nhà bếp'] = data['Nhà bếp'].str.replace(\"---\", \"0\").astype(np.int64)\n",
    "data['Đường trước nhà'] = data['Đường trước nhà'].str.replace(\"---\", \"None\")\n",
    "data['Đường trước nhà'] = data['Đường trước nhà'].str.replace(\"-\", \"None\")\n",
    "data['Đường trước nhà'] = data['Đường trước nhà'].str.replace(\"I\", \"None\")\n",
    "data['Đường trước nhà'] = data['Đường trước nhà'].str.replace(\"~\", \"None\")\n",
    "data['Đường trước nhà'] = data['Đường trước nhà'].str.replace(\"`\", \"None\")\n",
    "data['Đường trước nhà'] = data['Đường trước nhà'].str.replace(\"’\", \"None\")\n",
    "data['Đường trước nhà'] = data['Đường trước nhà'].str.replace(\"E\", \"None\")\n",
    "data['Đường trước nhà'] = data['Đường trước nhà'].str.replace(\"j\", \"None\")\n",
    "data['Đường trước nhà'] = data['Đường trước nhà'].str.replace(\":\", \"None\")\n",
    "data['Đường trước nhà'] = data['Đường trước nhà'].str.replace(\"m\", \"\")\n",
    "data['Đường trước nhà'] = data['Đường trước nhà'].str.replace(\",\", \".\")\n",
    "data['Đường trước nhà'] = data['Đường trước nhà'].str.replace(\"M\", \"\")\n",
    "data['Đường trước nhà'] = data['Đường trước nhà'].str.replace(\"x\", \"\")\n",
    "data['Đường trước nhà'] = data['Đường trước nhà'].str.replace(\"/\", \"\")\n",
    "data['Đường trước nhà'] = data['Đường trước nhà'].str.replace(\"p\", \"None\")\n",
    "data['Đường trước nhà'] = data['Đường trước nhà'].apply(lambda x : \"None\" if (\"None\" in x) or (x == \"\") else float(x)) \n",
    "data.drop(\"Loại tin\", axis=1, inplace=True)\n",
    "data['Phòng ăn'] = data['Phòng ăn'].fillna(\"1\")\n",
    "data['Phòng ăn'] = data['Phòng ăn'].str.replace(\"---\", \"0\").astype(np.int64)\n",
    "data['Hướng'] = data['Hướng'].str.replace(\"_\", \"None\")\n",
    "data.drop(\"Mã tin\", axis=1, inplace=True)\n",
    "data['city'] = data['address'].apply(lambda x: x.split('.')[::-1][0] if len(x.split('.')) > 0 else \"None\")\n",
    "data['district'] = data['address'].apply(lambda x: x.split('.')[::-1][1] if len(x.split('.')) > 1 else \"None\")\n",
    "data['ward'] = data['address'].apply(lambda x: x.split('.')[::-1][2] if len(x.split('.')) > 2 else \"None\")\n",
    "data['street'] = data['address'].apply(lambda x: x.split('.')[::-1][3] if len(x.split('.')) > 3 else \"None\")\n",
    "data.drop(\"address\", axis=1, inplace=True)\n",
    "data['area'] = data['area'].str.replace(\"m\", \"\")\n",
    "data['area'] = data['area'].apply(lambda x: float(x.split()[0]) if x.split()[0]!= \"KXĐ\" else \"None\")\n",
    "val_price = data['price'].values.tolist()\n",
    "val_area = data['area'].values.tolist()\n",
    "for i in range(len(data)):\n",
    "    if 'triệu /\\xa0m' in val_price[i]:\n",
    "        val_price[i] = int(float(val_price[i].replace('triệu /\\xa0m', '').replace(',', '.'))*val_area[i])\n",
    "    elif \"tỷ /\\xa0m\" in val_price[i]:\n",
    "        val_price[i] = int(float(val_price[i].replace('tỷ /\\xa0m', '').replace(',', '.'))*val_area[i]*10e3)\n",
    "    elif \"tỷ 1 ngàn\" in val_price[i]:\n",
    "        val_price[i] = int(float(val_price[i].replace(\"tỷ 1 ngàn \", \"\"))*10e3)\n",
    "    elif \"ngàn \" in val_price[i]:\n",
    "        val_price[i] = int(float(val_price[i].replace(\"ngàn\", \"\"))*10e-3)\n",
    "    elif \"triệu\" in val_price[i]:\n",
    "        val_price[i] = int(float(val_price[i].replace(\"triệu\", \"\")))\n",
    "    elif \"Thỏa thuận\" in val_price[i]:\n",
    "        val_price[i] = \"None\"\n",
    "    elif \"tỷ\" in val_price[i]:\n",
    "        val_price[i] = int(float(val_price[i].replace(\"tỷ\", \"\"))*10e3)\n",
    "\n",
    "data['price']=val_price\n",
    "data.head()"
   ]
  },
  {
   "cell_type": "code",
   "execution_count": 168,
   "metadata": {},
   "outputs": [],
   "source": [
    "data.to_csv(\"./data/prepared_data.csv\")"
   ]
  },
  {
   "cell_type": "code",
   "execution_count": 167,
   "metadata": {},
   "outputs": [
    {
     "name": "stdout",
     "output_type": "stream",
     "text": [
      "1\n",
      "30\n",
      "418\n",
      "2207\n"
     ]
    }
   ],
   "source": [
    "print(len(set(data['city'].values)))\n",
    "print(len(set(data['district'].values)))\n",
    "print(len(set(data['ward'].values)))\n",
    "print(len(set(data['street'].values)))"
   ]
  },
  {
   "cell_type": "code",
   "execution_count": 148,
   "metadata": {},
   "outputs": [
    {
     "name": "stdout",
     "output_type": "stream",
     "text": [
      "544\n"
     ]
    }
   ],
   "source": [
    "print(len(set(data['price'].values)))"
   ]
  },
  {
   "cell_type": "code",
   "execution_count": 107,
   "metadata": {},
   "outputs": [
    {
     "name": "stdout",
     "output_type": "stream",
     "text": [
      "554\n"
     ]
    }
   ],
   "source": [
    "print(len(set(data['area'].values)))"
   ]
  },
  {
   "cell_type": "code",
   "execution_count": 106,
   "metadata": {},
   "outputs": [
    {
     "data": {
      "text/plain": [
       "None        19921\n",
       "Đông Nam      421\n",
       "Tây Nam       204\n",
       "Đông Bắc      169\n",
       "Tây Bắc       155\n",
       "Đông          115\n",
       "Nam           113\n",
       "Bắc            73\n",
       "Tây            55\n",
       "Name: Hướng, dtype: int64"
      ]
     },
     "execution_count": 106,
     "metadata": {},
     "output_type": "execute_result"
    }
   ],
   "source": [
    "data['Hướng'].value_counts()"
   ]
  },
  {
   "cell_type": "code",
   "execution_count": 105,
   "metadata": {},
   "outputs": [
    {
     "data": {
      "text/plain": [
       "1    10698\n",
       "0    10528\n",
       "Name: Phòng ăn, dtype: int64"
      ]
     },
     "execution_count": 105,
     "metadata": {},
     "output_type": "execute_result"
    }
   ],
   "source": [
    "data['Phòng ăn'].value_counts()"
   ]
  },
  {
   "cell_type": "code",
   "execution_count": 108,
   "metadata": {},
   "outputs": [
    {
     "name": "stdout",
     "output_type": "stream",
     "text": [
      "{0.0, 1.0, 2.5, 3.0, 3.5, 4.0, 6.0, 7.0, 5.0, 4.5, 10.0, 8.0, 12.0, 13.0, 2.0, 15.0, 9.0, 17.0, 18.0, 14.0, 20.0, 16.0, 22.0, 21.0, 24.0, 'None', 5.5, 25.0, 28.0, 27.0, 30.0, 6.5, 1.5, 32.0, 34.0, 35.0, 36.0, 7.5, 31.0, 39.0, 40.0, 8.5, 42.0, 38.0, 44.0, 45.0, 48.0, 49.0, 50.0, 52.0, 54.0, 55.0, 11.0, 60.0, 64.0, 13.5, 66.0, 70.0, 75.0, 80.0, 19.0, 100.0, 1.9, 103.0, 2.4, 2.9, 3.9, 3.4, 23.0, 26.0, 135.0, 4.4, 5.9, 0.5, 6.4, 6.9, 7.4, 7.9, 33.0, 2.8, 2.3, 3.8, 3.3, 4.3, 1.8, 4.8, 1.3, 5.3, 5.8, 6.8, 6.3, 7.8, 7.3, 245.0, 8.2, 8.3, 8.8, 300.0, 9.3, 1.7, 1.2, 2.7, 2.2, 3.7, 3.2, 4.2, 4.7, 5.2, 5.7, 6.2, 6.7, 7.2, 400.0, 4.1, 4.6, 5.1, 5.6, 6.6, 6.1, 7.6, 7.1, 1.6, 1.1, 8.6, 2.6, 2.1, 3.1, 3.6}\n"
     ]
    }
   ],
   "source": [
    "print(set(data['Đường trước nhà'].values))"
   ]
  },
  {
   "cell_type": "code",
   "execution_count": 32,
   "metadata": {},
   "outputs": [
    {
     "data": {
      "text/plain": [
       "1    10744\n",
       "0    10482\n",
       "Name: Nhà bếp, dtype: int64"
      ]
     },
     "execution_count": 32,
     "metadata": {},
     "output_type": "execute_result"
    }
   ],
   "source": [
    "data['Nhà bếp'].value_counts()"
   ]
  },
  {
   "cell_type": "code",
   "execution_count": 27,
   "metadata": {},
   "outputs": [
    {
     "data": {
      "text/plain": [
       "Nhà trong hẻm                  11207\n",
       "Nhà mặt tiền                    6250\n",
       "Đất thổ cư, đất ở               1747\n",
       "Biệt thự, nhà liền kề            996\n",
       "Phòng trọ, nhà trọ               357\n",
       "Căn hộ chung cư                  196\n",
       "Nhà hàng, khách sạn              151\n",
       "Văn phòng                        142\n",
       "Đất nền, liền kề, đất dự án       90\n",
       "Kho, xưởng                        24\n",
       "Trang trại                        18\n",
       "Shop, kiot, quán                  17\n",
       "Mặt bằng                          11\n",
       "Đất nông, lâm nghiệp              10\n",
       "Các loại khác                     10\n",
       "Name: Loại BDS, dtype: int64"
      ]
     },
     "execution_count": 27,
     "metadata": {},
     "output_type": "execute_result"
    }
   ],
   "source": [
    "data['Loại BDS'].value_counts()"
   ]
  },
  {
   "cell_type": "code",
   "execution_count": 26,
   "metadata": {},
   "outputs": [
    {
     "data": {
      "text/plain": [
       "Sổ hồng/ Sổ đỏ    16787\n",
       "None               4299\n",
       "Giấy tờ hợp lệ      134\n",
       "Giấy phép XD          6\n",
       "Name: Pháp lý, dtype: int64"
      ]
     },
     "execution_count": 26,
     "metadata": {},
     "output_type": "execute_result"
    }
   ],
   "source": [
    "data['Pháp lý'].value_counts()"
   ]
  },
  {
   "cell_type": "code",
   "execution_count": 24,
   "metadata": {},
   "outputs": [
    {
     "data": {
      "text/plain": [
       "0    10743\n",
       "1    10483\n",
       "Name: Sân thượng, dtype: int64"
      ]
     },
     "execution_count": 24,
     "metadata": {},
     "output_type": "execute_result"
    }
   ],
   "source": [
    "data['Sân thượng'].value_counts()"
   ]
  },
  {
   "cell_type": "code",
   "execution_count": 23,
   "metadata": {},
   "outputs": [
    {
     "data": {
      "text/plain": [
       "5       6624\n",
       "4       4702\n",
       "6       2003\n",
       "None    1725\n",
       "3       1611\n",
       "7       1295\n",
       "1       1044\n",
       "8        820\n",
       "2        601\n",
       "9        420\n",
       "10       206\n",
       "11        59\n",
       "12        47\n",
       "15        11\n",
       "16        11\n",
       "13         9\n",
       "20         4\n",
       "24         3\n",
       "21         3\n",
       "18         3\n",
       "23         2\n",
       "30         2\n",
       "29         2\n",
       "45         2\n",
       "19         2\n",
       "22         2\n",
       "14         2\n",
       "77         1\n",
       "27         1\n",
       "35         1\n",
       "40         1\n",
       "37         1\n",
       "33         1\n",
       "25         1\n",
       "78         1\n",
       "58         1\n",
       "54         1\n",
       "17         1\n",
       "Name: Số lầu, dtype: int64"
      ]
     },
     "execution_count": 23,
     "metadata": {},
     "output_type": "execute_result"
    }
   ],
   "source": [
    "data['Số lầu'].value_counts()"
   ]
  },
  {
   "cell_type": "code",
   "execution_count": 19,
   "metadata": {},
   "outputs": [
    {
     "data": {
      "text/plain": [
       "0    12690\n",
       "1     8536\n",
       "Name: Chổ để xe hơi, dtype: int64"
      ]
     },
     "execution_count": 19,
     "metadata": {},
     "output_type": "execute_result"
    }
   ],
   "source": [
    "data['Chổ để xe hơi'].value_counts()"
   ]
  },
  {
   "cell_type": "code",
   "execution_count": 16,
   "metadata": {},
   "outputs": [
    {
     "data": {
      "text/plain": [
       "4       5979\n",
       "3       3992\n",
       "6       2324\n",
       "5       2262\n",
       "None    1780\n",
       "        ... \n",
       "86         1\n",
       "51         1\n",
       "712        1\n",
       "308        1\n",
       "120        1\n",
       "Name: Số phòng ngủ, Length: 85, dtype: int64"
      ]
     },
     "execution_count": 16,
     "metadata": {},
     "output_type": "execute_result"
    }
   ],
   "source": [
    "data['Số phòng ngủ'].value_counts()"
   ]
  },
  {
   "cell_type": "code",
   "execution_count": 13,
   "metadata": {},
   "outputs": [
    {
     "data": {
      "text/plain": [
       "0    21222\n",
       "1        4\n",
       "Name: Chính chủ, dtype: int64"
      ]
     },
     "execution_count": 13,
     "metadata": {},
     "output_type": "execute_result"
    }
   ],
   "source": [
    "data['Chính chủ'].value_counts()"
   ]
  }
 ],
 "metadata": {
  "interpreter": {
   "hash": "5149034e6c270e282a77d1814557afd12f20860eafa66ad63ec09ade6ca502a7"
  },
  "kernelspec": {
   "display_name": "Python 3.8.8 64-bit ('base': conda)",
   "language": "python",
   "name": "python3"
  },
  "language_info": {
   "codemirror_mode": {
    "name": "ipython",
    "version": 3
   },
   "file_extension": ".py",
   "mimetype": "text/x-python",
   "name": "python",
   "nbconvert_exporter": "python",
   "pygments_lexer": "ipython3",
   "version": "3.8.8"
  },
  "orig_nbformat": 4
 },
 "nbformat": 4,
 "nbformat_minor": 2
}
