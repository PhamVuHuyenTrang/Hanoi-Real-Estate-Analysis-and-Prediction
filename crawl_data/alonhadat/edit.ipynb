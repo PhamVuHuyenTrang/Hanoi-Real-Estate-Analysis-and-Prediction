{
 "cells": [
  {
   "cell_type": "code",
   "execution_count": 27,
   "metadata": {},
   "outputs": [],
   "source": [
    "from os import listdir\n",
    "from os.path import isfile, join\n",
    "import os\n",
    "import pandas as pd\n",
    "import numpy as np\n",
    "from collections import Counter"
   ]
  },
  {
   "cell_type": "code",
   "execution_count": 28,
   "metadata": {},
   "outputs": [
    {
     "data": {
      "text/html": [
       "<div>\n",
       "<style scoped>\n",
       "    .dataframe tbody tr th:only-of-type {\n",
       "        vertical-align: middle;\n",
       "    }\n",
       "\n",
       "    .dataframe tbody tr th {\n",
       "        vertical-align: top;\n",
       "    }\n",
       "\n",
       "    .dataframe thead th {\n",
       "        text-align: right;\n",
       "    }\n",
       "</style>\n",
       "<table border=\"1\" class=\"dataframe\">\n",
       "  <thead>\n",
       "    <tr style=\"text-align: right;\">\n",
       "      <th></th>\n",
       "      <th>price</th>\n",
       "      <th>area</th>\n",
       "      <th>address</th>\n",
       "      <th>Mã tin</th>\n",
       "      <th>Hướng</th>\n",
       "      <th>Phòng ăn</th>\n",
       "      <th>Loại tin</th>\n",
       "      <th>Đường trước nhà</th>\n",
       "      <th>Nhà bếp</th>\n",
       "      <th>Loại BDS</th>\n",
       "      <th>Pháp lý</th>\n",
       "      <th>Sân thượng</th>\n",
       "      <th>Chiều ngang</th>\n",
       "      <th>Số lầu</th>\n",
       "      <th>Chổ để xe hơi</th>\n",
       "      <th>Chiều dài</th>\n",
       "      <th>Số phòng ngủ</th>\n",
       "      <th>Chính chủ</th>\n",
       "    </tr>\n",
       "  </thead>\n",
       "  <tbody>\n",
       "    <tr>\n",
       "      <th>0</th>\n",
       "      <td>24 tỷ / m</td>\n",
       "      <td>160 m</td>\n",
       "      <td>Đường 70. Nan Từ Liêm. Hà Nội. Đường 70. Phườ...</td>\n",
       "      <td>11317900</td>\n",
       "      <td>_</td>\n",
       "      <td>NaN</td>\n",
       "      <td>Cần bán</td>\n",
       "      <td>20m</td>\n",
       "      <td>NaN</td>\n",
       "      <td>Biệt thự, nhà liền kề</td>\n",
       "      <td>Sổ hồng/ Sổ đỏ</td>\n",
       "      <td>NaN</td>\n",
       "      <td>10m</td>\n",
       "      <td>3</td>\n",
       "      <td>NaN</td>\n",
       "      <td>---</td>\n",
       "      <td>4</td>\n",
       "      <td>---</td>\n",
       "    </tr>\n",
       "    <tr>\n",
       "      <th>1</th>\n",
       "      <td>29.5 tỷ</td>\n",
       "      <td>155 m</td>\n",
       "      <td>Tây Thăng Long. Bắc Từ Liêm. Hà Nội. Đường Vă...</td>\n",
       "      <td>11703782</td>\n",
       "      <td>_</td>\n",
       "      <td>NaN</td>\n",
       "      <td>Cần bán</td>\n",
       "      <td>20m</td>\n",
       "      <td>NaN</td>\n",
       "      <td>Biệt thự, nhà liền kề</td>\n",
       "      <td>Sổ hồng/ Sổ đỏ</td>\n",
       "      <td>NaN</td>\n",
       "      <td>8,5m</td>\n",
       "      <td>5</td>\n",
       "      <td>NaN</td>\n",
       "      <td>---</td>\n",
       "      <td>6</td>\n",
       "      <td>---</td>\n",
       "    </tr>\n",
       "    <tr>\n",
       "      <th>2</th>\n",
       "      <td>11.3 tỷ</td>\n",
       "      <td>79 m</td>\n",
       "      <td>Đường 70. Phường Phương Canh. Quận Nam Từ Liê...</td>\n",
       "      <td>11676472</td>\n",
       "      <td>_</td>\n",
       "      <td>NaN</td>\n",
       "      <td>Cần bán</td>\n",
       "      <td>20m</td>\n",
       "      <td>NaN</td>\n",
       "      <td>Biệt thự, nhà liền kề</td>\n",
       "      <td>Sổ hồng/ Sổ đỏ</td>\n",
       "      <td>NaN</td>\n",
       "      <td>5m</td>\n",
       "      <td>5</td>\n",
       "      <td>NaN</td>\n",
       "      <td>---</td>\n",
       "      <td>4</td>\n",
       "      <td>---</td>\n",
       "    </tr>\n",
       "    <tr>\n",
       "      <th>3</th>\n",
       "      <td>77 triệu / m</td>\n",
       "      <td>64 m</td>\n",
       "      <td>Đường 70. Nam Từ Liêm. Hà Nội. Tỉnh Lộ 422B. ...</td>\n",
       "      <td>11680863</td>\n",
       "      <td>_</td>\n",
       "      <td>NaN</td>\n",
       "      <td>Cần bán</td>\n",
       "      <td>15m</td>\n",
       "      <td>NaN</td>\n",
       "      <td>Đất thổ cư, đất ở</td>\n",
       "      <td>Sổ hồng/ Sổ đỏ</td>\n",
       "      <td>NaN</td>\n",
       "      <td>4,2m</td>\n",
       "      <td>---</td>\n",
       "      <td>NaN</td>\n",
       "      <td>---</td>\n",
       "      <td>---</td>\n",
       "      <td>---</td>\n",
       "    </tr>\n",
       "    <tr>\n",
       "      <th>4</th>\n",
       "      <td>13.7 tỷ</td>\n",
       "      <td>95 m</td>\n",
       "      <td>Đường 70. Nam Từ Liêm. Hà Nội. Đường 70. Phườ...</td>\n",
       "      <td>11638070</td>\n",
       "      <td>_</td>\n",
       "      <td>NaN</td>\n",
       "      <td>Cần bán</td>\n",
       "      <td>15m</td>\n",
       "      <td>NaN</td>\n",
       "      <td>Biệt thự, nhà liền kề</td>\n",
       "      <td>Sổ hồng/ Sổ đỏ</td>\n",
       "      <td>NaN</td>\n",
       "      <td>6m</td>\n",
       "      <td>5</td>\n",
       "      <td>NaN</td>\n",
       "      <td>---</td>\n",
       "      <td>6</td>\n",
       "      <td>---</td>\n",
       "    </tr>\n",
       "  </tbody>\n",
       "</table>\n",
       "</div>"
      ],
      "text/plain": [
       "           price    area                                            address  \\\n",
       "0      24 tỷ / m   160 m   Đường 70. Nan Từ Liêm. Hà Nội. Đường 70. Phườ...   \n",
       "1       29.5 tỷ    155 m   Tây Thăng Long. Bắc Từ Liêm. Hà Nội. Đường Vă...   \n",
       "2       11.3 tỷ     79 m   Đường 70. Phường Phương Canh. Quận Nam Từ Liê...   \n",
       "3   77 triệu / m    64 m   Đường 70. Nam Từ Liêm. Hà Nội. Tỉnh Lộ 422B. ...   \n",
       "4       13.7 tỷ     95 m   Đường 70. Nam Từ Liêm. Hà Nội. Đường 70. Phườ...   \n",
       "\n",
       "     Mã tin Hướng Phòng ăn Loại tin Đường trước nhà Nhà bếp  \\\n",
       "0  11317900     _      NaN  Cần bán             20m     NaN   \n",
       "1  11703782     _      NaN  Cần bán             20m     NaN   \n",
       "2  11676472     _      NaN  Cần bán             20m     NaN   \n",
       "3  11680863     _      NaN  Cần bán             15m     NaN   \n",
       "4  11638070     _      NaN  Cần bán             15m     NaN   \n",
       "\n",
       "                Loại BDS         Pháp lý Sân thượng Chiều ngang Số lầu  \\\n",
       "0  Biệt thự, nhà liền kề  Sổ hồng/ Sổ đỏ        NaN         10m      3   \n",
       "1  Biệt thự, nhà liền kề  Sổ hồng/ Sổ đỏ        NaN        8,5m      5   \n",
       "2  Biệt thự, nhà liền kề  Sổ hồng/ Sổ đỏ        NaN          5m      5   \n",
       "3      Đất thổ cư, đất ở  Sổ hồng/ Sổ đỏ        NaN        4,2m    ---   \n",
       "4  Biệt thự, nhà liền kề  Sổ hồng/ Sổ đỏ        NaN          6m      5   \n",
       "\n",
       "  Chổ để xe hơi Chiều dài Số phòng ngủ Chính chủ  \n",
       "0           NaN       ---            4       ---  \n",
       "1           NaN       ---            6       ---  \n",
       "2           NaN       ---            4       ---  \n",
       "3           NaN       ---          ---       ---  \n",
       "4           NaN       ---            6       ---  "
      ]
     },
     "execution_count": 28,
     "metadata": {},
     "output_type": "execute_result"
    }
   ],
   "source": [
    "data = pd.read_csv(os.path.join(\"data\", \"combined_csv.csv\"))\n",
    "data.head()"
   ]
  },
  {
   "cell_type": "code",
   "execution_count": 88,
   "metadata": {},
   "outputs": [
    {
     "data": {
      "text/html": [
       "<div>\n",
       "<style scoped>\n",
       "    .dataframe tbody tr th:only-of-type {\n",
       "        vertical-align: middle;\n",
       "    }\n",
       "\n",
       "    .dataframe tbody tr th {\n",
       "        vertical-align: top;\n",
       "    }\n",
       "\n",
       "    .dataframe thead th {\n",
       "        text-align: right;\n",
       "    }\n",
       "</style>\n",
       "<table border=\"1\" class=\"dataframe\">\n",
       "  <thead>\n",
       "    <tr style=\"text-align: right;\">\n",
       "      <th></th>\n",
       "      <th>price</th>\n",
       "      <th>area</th>\n",
       "      <th>address</th>\n",
       "      <th>Hướng</th>\n",
       "      <th>Phòng ăn</th>\n",
       "      <th>Đường trước nhà</th>\n",
       "      <th>Nhà bếp</th>\n",
       "      <th>Loại BDS</th>\n",
       "      <th>Pháp lý</th>\n",
       "      <th>Sân thượng</th>\n",
       "      <th>Số lầu</th>\n",
       "      <th>Chổ để xe hơi</th>\n",
       "      <th>Số phòng ngủ</th>\n",
       "      <th>Chính chủ</th>\n",
       "      <th>area (m2)</th>\n",
       "    </tr>\n",
       "  </thead>\n",
       "  <tbody>\n",
       "    <tr>\n",
       "      <th>0</th>\n",
       "      <td>24 tỷ / m</td>\n",
       "      <td>160</td>\n",
       "      <td>Đường 70. Nan Từ Liêm. Hà Nội. Đường 70. Phườ...</td>\n",
       "      <td>_</td>\n",
       "      <td>NaN</td>\n",
       "      <td>20m</td>\n",
       "      <td>NaN</td>\n",
       "      <td>Biệt thự, nhà liền kề</td>\n",
       "      <td>Sổ hồng/ Sổ đỏ</td>\n",
       "      <td>NaN</td>\n",
       "      <td>3</td>\n",
       "      <td>NaN</td>\n",
       "      <td>4</td>\n",
       "      <td>---</td>\n",
       "      <td>160</td>\n",
       "    </tr>\n",
       "    <tr>\n",
       "      <th>1</th>\n",
       "      <td>29.5 tỷ</td>\n",
       "      <td>155</td>\n",
       "      <td>Tây Thăng Long. Bắc Từ Liêm. Hà Nội. Đường Vă...</td>\n",
       "      <td>_</td>\n",
       "      <td>NaN</td>\n",
       "      <td>20m</td>\n",
       "      <td>NaN</td>\n",
       "      <td>Biệt thự, nhà liền kề</td>\n",
       "      <td>Sổ hồng/ Sổ đỏ</td>\n",
       "      <td>NaN</td>\n",
       "      <td>5</td>\n",
       "      <td>NaN</td>\n",
       "      <td>6</td>\n",
       "      <td>---</td>\n",
       "      <td>155</td>\n",
       "    </tr>\n",
       "    <tr>\n",
       "      <th>2</th>\n",
       "      <td>11.3 tỷ</td>\n",
       "      <td>79</td>\n",
       "      <td>Đường 70. Phường Phương Canh. Quận Nam Từ Liê...</td>\n",
       "      <td>_</td>\n",
       "      <td>NaN</td>\n",
       "      <td>20m</td>\n",
       "      <td>NaN</td>\n",
       "      <td>Biệt thự, nhà liền kề</td>\n",
       "      <td>Sổ hồng/ Sổ đỏ</td>\n",
       "      <td>NaN</td>\n",
       "      <td>5</td>\n",
       "      <td>NaN</td>\n",
       "      <td>4</td>\n",
       "      <td>---</td>\n",
       "      <td>79</td>\n",
       "    </tr>\n",
       "    <tr>\n",
       "      <th>3</th>\n",
       "      <td>77 triệu / m</td>\n",
       "      <td>64</td>\n",
       "      <td>Đường 70. Nam Từ Liêm. Hà Nội. Tỉnh Lộ 422B. ...</td>\n",
       "      <td>_</td>\n",
       "      <td>NaN</td>\n",
       "      <td>15m</td>\n",
       "      <td>NaN</td>\n",
       "      <td>Đất thổ cư, đất ở</td>\n",
       "      <td>Sổ hồng/ Sổ đỏ</td>\n",
       "      <td>NaN</td>\n",
       "      <td>---</td>\n",
       "      <td>NaN</td>\n",
       "      <td>---</td>\n",
       "      <td>---</td>\n",
       "      <td>64</td>\n",
       "    </tr>\n",
       "    <tr>\n",
       "      <th>4</th>\n",
       "      <td>13.7 tỷ</td>\n",
       "      <td>95</td>\n",
       "      <td>Đường 70. Nam Từ Liêm. Hà Nội. Đường 70. Phườ...</td>\n",
       "      <td>_</td>\n",
       "      <td>NaN</td>\n",
       "      <td>15m</td>\n",
       "      <td>NaN</td>\n",
       "      <td>Biệt thự, nhà liền kề</td>\n",
       "      <td>Sổ hồng/ Sổ đỏ</td>\n",
       "      <td>NaN</td>\n",
       "      <td>5</td>\n",
       "      <td>NaN</td>\n",
       "      <td>6</td>\n",
       "      <td>---</td>\n",
       "      <td>95</td>\n",
       "    </tr>\n",
       "  </tbody>\n",
       "</table>\n",
       "</div>"
      ],
      "text/plain": [
       "           price area                                            address  \\\n",
       "0      24 tỷ / m  160   Đường 70. Nan Từ Liêm. Hà Nội. Đường 70. Phườ...   \n",
       "1       29.5 tỷ   155   Tây Thăng Long. Bắc Từ Liêm. Hà Nội. Đường Vă...   \n",
       "2       11.3 tỷ    79   Đường 70. Phường Phương Canh. Quận Nam Từ Liê...   \n",
       "3   77 triệu / m   64   Đường 70. Nam Từ Liêm. Hà Nội. Tỉnh Lộ 422B. ...   \n",
       "4       13.7 tỷ    95   Đường 70. Nam Từ Liêm. Hà Nội. Đường 70. Phườ...   \n",
       "\n",
       "  Hướng Phòng ăn Đường trước nhà Nhà bếp               Loại BDS  \\\n",
       "0     _      NaN             20m     NaN  Biệt thự, nhà liền kề   \n",
       "1     _      NaN             20m     NaN  Biệt thự, nhà liền kề   \n",
       "2     _      NaN             20m     NaN  Biệt thự, nhà liền kề   \n",
       "3     _      NaN             15m     NaN      Đất thổ cư, đất ở   \n",
       "4     _      NaN             15m     NaN  Biệt thự, nhà liền kề   \n",
       "\n",
       "          Pháp lý Sân thượng Số lầu Chổ để xe hơi Số phòng ngủ Chính chủ  \\\n",
       "0  Sổ hồng/ Sổ đỏ        NaN      3           NaN            4       ---   \n",
       "1  Sổ hồng/ Sổ đỏ        NaN      5           NaN            6       ---   \n",
       "2  Sổ hồng/ Sổ đỏ        NaN      5           NaN            4       ---   \n",
       "3  Sổ hồng/ Sổ đỏ        NaN    ---           NaN          ---       ---   \n",
       "4  Sổ hồng/ Sổ đỏ        NaN      5           NaN            6       ---   \n",
       "\n",
       "  area (m2)  \n",
       "0       160  \n",
       "1       155  \n",
       "2        79  \n",
       "3        64  \n",
       "4        95  "
      ]
     },
     "execution_count": 88,
     "metadata": {},
     "output_type": "execute_result"
    }
   ],
   "source": [
    "data.head()"
   ]
  },
  {
   "cell_type": "code",
   "execution_count": 83,
   "metadata": {},
   "outputs": [
    {
     "name": "stdout",
     "output_type": "stream",
     "text": [
      "4015\n",
      "----\n",
      " Phố Thái Hà. Phường Trung Liệt. Quận Đống Đa. Hà Nội                                   228\n",
      " Đường Ngọc Thụy. Phường Ngọc Thụy. Quận Long Biên. Hà Nội                               184\n",
      " Phố Hoàng Cầu. Phường Ô Chợ Dừa. Quận Đống Đa. Hà Nội                                 169\n",
      " Đường Minh Khai. Phường Minh Khai. Quận Hai Bà Trưng. Hà Nội                            166\n",
      " Phố Đội cấn. Phường Đội Cấn. Quận Ba Đình. Hà Nội                                       153\n",
      "                                                                                        ... \n",
      " Đường Phạm Văn Đồng Đường Phạm Văn Đồng. Phường Cổ Nhuế 1. Quận Bắc Từ Liêm. Hà Nội       1\n",
      " Đường TRUNG HÒA Đường Trung Hòa. Phường Yên Hòa. Quận Cầu Giấy. Hà Nội                    1\n",
      " Đường Nguyễn Xiển Đường Nguyễn Xiển. Phường Thanh Xuân Nam. Quận Thanh Xuân. Hà Nội       1\n",
      " Đường Hoàng Đạo Thành Đường Hoàng Đạo Thành. Phường Hạ Đình. Quận Thanh Xuân. Hà Nội      1\n",
      " Phố Lương Định Của. Phường Trung Tự. Quận Đống Đa. Hà Nội                                1\n",
      "Name: address, Length: 4015, dtype: int64\n"
     ]
    }
   ],
   "source": [
    "print(len(set(data['address'].values)))\n",
    "print('----')\n",
    "print(data['address'].value_counts())"
   ]
  },
  {
   "cell_type": "code",
   "execution_count": 98,
   "metadata": {},
   "outputs": [
    {
     "name": "stdout",
     "output_type": "stream",
     "text": [
      "{'triệu /\\xa0m', 'tỷ ', 'ngàn ', 'thuận', 'tỷ /\\xa0m', 'triệu ', 'tỷ 1 ngàn '}\n",
      " 50 ngàn \n",
      " Thỏa thuận\n",
      " Thỏa thuận\n",
      " 7 tỷ 1 ngàn \n",
      " 7 tỷ 1 ngàn \n",
      " 400 ngàn \n",
      "{'tỷ /\\xa0m': 12, 'triệu /\\xa0m': 304, 'tỷ 1 ngàn': 2, 'thuận': 2, 'ngàn': 2, 'tỷ': 20904}\n"
     ]
    }
   ],
   "source": [
    "# print(set(data['price'].values))\n",
    "print(set(data['price'].apply(lambda x : x[len(x.split()[0])+2:])))\n",
    "\n",
    "a = data['price']\n",
    "count = 0\n",
    "check = {}\n",
    "check['tỷ /\\xa0m'] = 0\n",
    "check['triệu /\\xa0m'] = 0\n",
    "check['tỷ 1 ngàn'] = 0\n",
    "check['thuận'] = 0\n",
    "check['ngàn'] = 0\n",
    "check['tỷ'] = 0\n",
    "for i in range(len(a)):\n",
    "    if a[i].find('tỷ /\\xa0m') > 0:\n",
    "        check['tỷ /\\xa0m'] += 1\n",
    "    elif a[i].find('triệu /\\xa0m') > 0:\n",
    "        check['triệu /\\xa0m'] += 1\n",
    "    elif a[i].find('tỷ 1 ngàn') > 0:\n",
    "        check['tỷ 1 ngàn'] += 1\n",
    "        print(a[i])\n",
    "    elif a[i].find(\"thuận\") > 0:\n",
    "        check['thuận'] += 1\n",
    "        print(a[i])\n",
    "    elif a[i].find(\"ngàn\") > 0:\n",
    "        check[\"ngàn\"] += 1\n",
    "        print(a[i])\n",
    "    else:\n",
    "        check['tỷ'] += 1\n",
    "    \n",
    "\n",
    "print(check)"
   ]
  },
  {
   "cell_type": "code",
   "execution_count": 85,
   "metadata": {},
   "outputs": [
    {
     "data": {
      "text/plain": [
       "0    160\n",
       "1    155\n",
       "2     79\n",
       "3     64\n",
       "4     95\n",
       "Name: area, dtype: object"
      ]
     },
     "execution_count": 85,
     "metadata": {},
     "output_type": "execute_result"
    }
   ],
   "source": [
    "data[\"area\"] = data[\"area\"].apply(lambda x: x.split()[0] if not pd.isnull(x) else x)\n",
    "# data = data.drop(\"area\", axis=1)\n",
    "data[\"area\"].head()"
   ]
  },
  {
   "cell_type": "code",
   "execution_count": 86,
   "metadata": {},
   "outputs": [
    {
     "name": "stdout",
     "output_type": "stream",
     "text": [
      "{'94', '510', '111', '454', '206', '6.200', '513', '5.377', '432', '269', '187', '16.000', '318', '135', '323', 'KXĐ', '201', '26', '1.113', '419', '868', '900', '199', '204', '180', '306', '173', '245', '630', '586', '989', '10.000', '450', '270', '2.379', '890', '356', '373', '229', '88', '322', '525', '4.500', '255', '570', '445', '343', '1.600', '770', '79', '347', '606', '268', '129', '560', '417', '628', '416', '483', '1.950', '74', '54', '610', '209', '260', '280', '3.500', '154', '1.280', '195', '2.920', '2.865', '143', '136', '55', '53', '122', '856', '48', '51', '4.603', '134', '740', '238', '10', '242', '431', '152', '140', '548', '211', '2.060', '85', '230', '90', '38', '25', '222', '1.346', '330', '2.000', '497', '215', '6.001', '1.400', '470', '527', '7.000', '2.800', '293', '116', '217', '35', '185', '176', '720', '573', '1.500', '1.642', '175', '166', '98', '137', '3.200', '240', '880', '281', '1.050', '182', '2.756', '59', '75', '646', '273', '256', '375', '871', '23.215', '605', '455', '23', '1.263', '39', '82', '800', '1.238', '262', '283', '91', '106', '485', '168', '30', '127', '265', '246', '360', '751', '363', '500', '290', '202', '263', '368', '640', '243', '107', '160', '367', '490', '145', '210', '172', '1.026', '1.000', '333', '383', '10.359', '68', '212', '63', '20', '69', '26.200', '207', '163', '1.192', '226', '13.000', '84', '475', '78', '1.046', '219', '391', '291', '43', '5.000', '248', '42', '150', '133', '144', '875', '228', '4.260', '4.939', '34', '64', '1.462', '121', '27', '221', '218', '147', '390', '670', '7.274', '99', '220', '224', '261', '355', '600', '250', '881', '413', '776', '325', '275', '178', '205', '285', '4.000', '312', '297', '01', '47', '24', '60', '83', '1.440', '251', '1.815', '46', '264', '227', '181', '86', '161', '80', '216', '44', '16', '03', '2.500', '40', '850', '336', '171', '194', '1.143', '555', '294', '1.057', '123', '1.087', '288', '101', '189', '520', '156', '17', '289', '223', '331', '126', '310', '81', '414', '1.165', '307', '56', '460', '2.615', '3.270', '1.492', '5.400', '340', '750', '350', '125', '452', '656', '100', '198', '225', '62', '448', '31', '814', '495', '2.250', '93', '103', '326', '2.400', '231', '382', '1.850', '61', '366', '120', '258', '415', '12', '96', '590', '334', '244', '2.300', '412', '515', '315', '177', '480', '1.164', '3.551', '9.279', '72', '87', '04', '380', '418', '06', '169', '514', '130', '385', '465', '109', '105', '186', '348', '405', '254', '915', '580', '151', '3.700', '149', '505', '102', '14', '2.163', '1.881', '625', '616', '1.150', '50', '3.000', '320', '155', '286', '3.750', '232', '830', '40.000', '1.530', '165', '37', '1.300', '21', '2.393', '26.890', '95', '208', '282', '354', '486', '52', '314', '45', '148', '241', '1.100', '277', '358', '426', '184', '300', '118', '430', '370', '236', '302', '114', '22', '188', '29', '496', '89', '58', '1.724', '234', '139', '666', '76', '396', '550', '138', '346', '15.000', '1.533', '2.304', '26.104', '746', '295', '157', '11', '2.238', '174', '117', '568', '67', '369', '66', '378', '19', '721', '575', '104', '950', '765', '535', '1.540', '398', '665', '387', '08', '650', '1.250', '622', '235', '476', '170', '433', '192', '2.256', '02', '142', '65', '247', '183', '530', '164', '92', '13', '2.725', '77', '371', '113', '404', '335', '536', '203', '411', '700', '1.112', '394', '193', '407', '540', '345', '276', '70', '153', '1.951', '252', '2.229', '305', '400', '73', '266', '342', '395', '463', '10.500', '62.825', '509', '146', '191', '41', '108', '674', '3.280', '620', '440', '588', '57', '131', '1.851', '12.955', '554', '71', '158', '1.200', '3.100', '200', '36', '10.733', '585', '593', '5.200', '272', '259', '524', '2.200', '577', '1.072', '278', '429', '1.465', '119', '308', '159', '304', '561', '162', '110', '128', '132', '528', '680', '196', '28', '97', '213', '420', '190', '18', '920', '33', '1.751', '327', '679', '141', '2.650', '124', '115', '658', '15', '810', '112', '267', '179', '1.147', '660', '233', '820', '49', '28.000', '32', '488'}\n",
      "50        1251\n",
      "40        1024\n",
      "45        1005\n",
      "60         941\n",
      "35         816\n",
      "          ... \n",
      "445          1\n",
      "12.955       1\n",
      "486          1\n",
      "3.700        1\n",
      "465          1\n",
      "Name: area, Length: 564, dtype: int64\n",
      "21226\n"
     ]
    }
   ],
   "source": [
    "print(set(data['area'].values))\n",
    "print(data['area'].value_counts())\n",
    "a = data['area']\n",
    "count = 0\n",
    "for i in range(len(a)):\n",
    "    if a[i].find('m') < 0:\n",
    "        count += 1\n",
    "print(count)"
   ]
  },
  {
   "cell_type": "code",
   "execution_count": 87,
   "metadata": {},
   "outputs": [
    {
     "ename": "KeyError",
     "evalue": "\"['Mã tin'] not found in axis\"",
     "output_type": "error",
     "traceback": [
      "\u001b[0;31m---------------------------------------------------------------------------\u001b[0m",
      "\u001b[0;31mKeyError\u001b[0m                                  Traceback (most recent call last)",
      "\u001b[0;32m<ipython-input-87-df5dbedc68e6>\u001b[0m in \u001b[0;36m<module>\u001b[0;34m\u001b[0m\n\u001b[0;32m----> 1\u001b[0;31m \u001b[0mdata\u001b[0m\u001b[0;34m.\u001b[0m\u001b[0mdrop\u001b[0m\u001b[0;34m(\u001b[0m\u001b[0;34m\"Mã tin\"\u001b[0m\u001b[0;34m,\u001b[0m \u001b[0maxis\u001b[0m\u001b[0;34m=\u001b[0m\u001b[0;36m1\u001b[0m\u001b[0;34m,\u001b[0m \u001b[0minplace\u001b[0m\u001b[0;34m=\u001b[0m\u001b[0;32mTrue\u001b[0m\u001b[0;34m)\u001b[0m\u001b[0;34m\u001b[0m\u001b[0;34m\u001b[0m\u001b[0m\n\u001b[0m",
      "\u001b[0;32m~/opt/anaconda3/lib/python3.8/site-packages/pandas/util/_decorators.py\u001b[0m in \u001b[0;36mwrapper\u001b[0;34m(*args, **kwargs)\u001b[0m\n\u001b[1;32m    315\u001b[0m                     \u001b[0mstacklevel\u001b[0m\u001b[0;34m=\u001b[0m\u001b[0mfind_stack_level\u001b[0m\u001b[0;34m(\u001b[0m\u001b[0minspect\u001b[0m\u001b[0;34m.\u001b[0m\u001b[0mcurrentframe\u001b[0m\u001b[0;34m(\u001b[0m\u001b[0;34m)\u001b[0m\u001b[0;34m)\u001b[0m\u001b[0;34m,\u001b[0m\u001b[0;34m\u001b[0m\u001b[0;34m\u001b[0m\u001b[0m\n\u001b[1;32m    316\u001b[0m                 )\n\u001b[0;32m--> 317\u001b[0;31m             \u001b[0;32mreturn\u001b[0m \u001b[0mfunc\u001b[0m\u001b[0;34m(\u001b[0m\u001b[0;34m*\u001b[0m\u001b[0margs\u001b[0m\u001b[0;34m,\u001b[0m \u001b[0;34m**\u001b[0m\u001b[0mkwargs\u001b[0m\u001b[0;34m)\u001b[0m\u001b[0;34m\u001b[0m\u001b[0;34m\u001b[0m\u001b[0m\n\u001b[0m\u001b[1;32m    318\u001b[0m \u001b[0;34m\u001b[0m\u001b[0m\n\u001b[1;32m    319\u001b[0m         \u001b[0;32mreturn\u001b[0m \u001b[0mwrapper\u001b[0m\u001b[0;34m\u001b[0m\u001b[0;34m\u001b[0m\u001b[0m\n",
      "\u001b[0;32m~/opt/anaconda3/lib/python3.8/site-packages/pandas/core/frame.py\u001b[0m in \u001b[0;36mdrop\u001b[0;34m(self, labels, axis, index, columns, level, inplace, errors)\u001b[0m\n\u001b[1;32m   5389\u001b[0m                 \u001b[0mweight\u001b[0m  \u001b[0;36m1.0\u001b[0m     \u001b[0;36m0.8\u001b[0m\u001b[0;34m\u001b[0m\u001b[0;34m\u001b[0m\u001b[0m\n\u001b[1;32m   5390\u001b[0m         \"\"\"\n\u001b[0;32m-> 5391\u001b[0;31m         return super().drop(\n\u001b[0m\u001b[1;32m   5392\u001b[0m             \u001b[0mlabels\u001b[0m\u001b[0;34m=\u001b[0m\u001b[0mlabels\u001b[0m\u001b[0;34m,\u001b[0m\u001b[0;34m\u001b[0m\u001b[0;34m\u001b[0m\u001b[0m\n\u001b[1;32m   5393\u001b[0m             \u001b[0maxis\u001b[0m\u001b[0;34m=\u001b[0m\u001b[0maxis\u001b[0m\u001b[0;34m,\u001b[0m\u001b[0;34m\u001b[0m\u001b[0;34m\u001b[0m\u001b[0m\n",
      "\u001b[0;32m~/opt/anaconda3/lib/python3.8/site-packages/pandas/util/_decorators.py\u001b[0m in \u001b[0;36mwrapper\u001b[0;34m(*args, **kwargs)\u001b[0m\n\u001b[1;32m    315\u001b[0m                     \u001b[0mstacklevel\u001b[0m\u001b[0;34m=\u001b[0m\u001b[0mfind_stack_level\u001b[0m\u001b[0;34m(\u001b[0m\u001b[0minspect\u001b[0m\u001b[0;34m.\u001b[0m\u001b[0mcurrentframe\u001b[0m\u001b[0;34m(\u001b[0m\u001b[0;34m)\u001b[0m\u001b[0;34m)\u001b[0m\u001b[0;34m,\u001b[0m\u001b[0;34m\u001b[0m\u001b[0;34m\u001b[0m\u001b[0m\n\u001b[1;32m    316\u001b[0m                 )\n\u001b[0;32m--> 317\u001b[0;31m             \u001b[0;32mreturn\u001b[0m \u001b[0mfunc\u001b[0m\u001b[0;34m(\u001b[0m\u001b[0;34m*\u001b[0m\u001b[0margs\u001b[0m\u001b[0;34m,\u001b[0m \u001b[0;34m**\u001b[0m\u001b[0mkwargs\u001b[0m\u001b[0;34m)\u001b[0m\u001b[0;34m\u001b[0m\u001b[0;34m\u001b[0m\u001b[0m\n\u001b[0m\u001b[1;32m    318\u001b[0m \u001b[0;34m\u001b[0m\u001b[0m\n\u001b[1;32m    319\u001b[0m         \u001b[0;32mreturn\u001b[0m \u001b[0mwrapper\u001b[0m\u001b[0;34m\u001b[0m\u001b[0;34m\u001b[0m\u001b[0m\n",
      "\u001b[0;32m~/opt/anaconda3/lib/python3.8/site-packages/pandas/core/generic.py\u001b[0m in \u001b[0;36mdrop\u001b[0;34m(self, labels, axis, index, columns, level, inplace, errors)\u001b[0m\n\u001b[1;32m   4508\u001b[0m         \u001b[0;32mfor\u001b[0m \u001b[0maxis\u001b[0m\u001b[0;34m,\u001b[0m \u001b[0mlabels\u001b[0m \u001b[0;32min\u001b[0m \u001b[0maxes\u001b[0m\u001b[0;34m.\u001b[0m\u001b[0mitems\u001b[0m\u001b[0;34m(\u001b[0m\u001b[0;34m)\u001b[0m\u001b[0;34m:\u001b[0m\u001b[0;34m\u001b[0m\u001b[0;34m\u001b[0m\u001b[0m\n\u001b[1;32m   4509\u001b[0m             \u001b[0;32mif\u001b[0m \u001b[0mlabels\u001b[0m \u001b[0;32mis\u001b[0m \u001b[0;32mnot\u001b[0m \u001b[0;32mNone\u001b[0m\u001b[0;34m:\u001b[0m\u001b[0;34m\u001b[0m\u001b[0;34m\u001b[0m\u001b[0m\n\u001b[0;32m-> 4510\u001b[0;31m                 \u001b[0mobj\u001b[0m \u001b[0;34m=\u001b[0m \u001b[0mobj\u001b[0m\u001b[0;34m.\u001b[0m\u001b[0m_drop_axis\u001b[0m\u001b[0;34m(\u001b[0m\u001b[0mlabels\u001b[0m\u001b[0;34m,\u001b[0m \u001b[0maxis\u001b[0m\u001b[0;34m,\u001b[0m \u001b[0mlevel\u001b[0m\u001b[0;34m=\u001b[0m\u001b[0mlevel\u001b[0m\u001b[0;34m,\u001b[0m \u001b[0merrors\u001b[0m\u001b[0;34m=\u001b[0m\u001b[0merrors\u001b[0m\u001b[0;34m)\u001b[0m\u001b[0;34m\u001b[0m\u001b[0;34m\u001b[0m\u001b[0m\n\u001b[0m\u001b[1;32m   4511\u001b[0m \u001b[0;34m\u001b[0m\u001b[0m\n\u001b[1;32m   4512\u001b[0m         \u001b[0;32mif\u001b[0m \u001b[0minplace\u001b[0m\u001b[0;34m:\u001b[0m\u001b[0;34m\u001b[0m\u001b[0;34m\u001b[0m\u001b[0m\n",
      "\u001b[0;32m~/opt/anaconda3/lib/python3.8/site-packages/pandas/core/generic.py\u001b[0m in \u001b[0;36m_drop_axis\u001b[0;34m(self, labels, axis, level, errors, only_slice)\u001b[0m\n\u001b[1;32m   4549\u001b[0m                 \u001b[0mnew_axis\u001b[0m \u001b[0;34m=\u001b[0m \u001b[0maxis\u001b[0m\u001b[0;34m.\u001b[0m\u001b[0mdrop\u001b[0m\u001b[0;34m(\u001b[0m\u001b[0mlabels\u001b[0m\u001b[0;34m,\u001b[0m \u001b[0mlevel\u001b[0m\u001b[0;34m=\u001b[0m\u001b[0mlevel\u001b[0m\u001b[0;34m,\u001b[0m \u001b[0merrors\u001b[0m\u001b[0;34m=\u001b[0m\u001b[0merrors\u001b[0m\u001b[0;34m)\u001b[0m\u001b[0;34m\u001b[0m\u001b[0;34m\u001b[0m\u001b[0m\n\u001b[1;32m   4550\u001b[0m             \u001b[0;32melse\u001b[0m\u001b[0;34m:\u001b[0m\u001b[0;34m\u001b[0m\u001b[0;34m\u001b[0m\u001b[0m\n\u001b[0;32m-> 4551\u001b[0;31m                 \u001b[0mnew_axis\u001b[0m \u001b[0;34m=\u001b[0m \u001b[0maxis\u001b[0m\u001b[0;34m.\u001b[0m\u001b[0mdrop\u001b[0m\u001b[0;34m(\u001b[0m\u001b[0mlabels\u001b[0m\u001b[0;34m,\u001b[0m \u001b[0merrors\u001b[0m\u001b[0;34m=\u001b[0m\u001b[0merrors\u001b[0m\u001b[0;34m)\u001b[0m\u001b[0;34m\u001b[0m\u001b[0;34m\u001b[0m\u001b[0m\n\u001b[0m\u001b[1;32m   4552\u001b[0m             \u001b[0mindexer\u001b[0m \u001b[0;34m=\u001b[0m \u001b[0maxis\u001b[0m\u001b[0;34m.\u001b[0m\u001b[0mget_indexer\u001b[0m\u001b[0;34m(\u001b[0m\u001b[0mnew_axis\u001b[0m\u001b[0;34m)\u001b[0m\u001b[0;34m\u001b[0m\u001b[0;34m\u001b[0m\u001b[0m\n\u001b[1;32m   4553\u001b[0m \u001b[0;34m\u001b[0m\u001b[0m\n",
      "\u001b[0;32m~/opt/anaconda3/lib/python3.8/site-packages/pandas/core/indexes/base.py\u001b[0m in \u001b[0;36mdrop\u001b[0;34m(self, labels, errors)\u001b[0m\n\u001b[1;32m   6970\u001b[0m         \u001b[0;32mif\u001b[0m \u001b[0mmask\u001b[0m\u001b[0;34m.\u001b[0m\u001b[0many\u001b[0m\u001b[0;34m(\u001b[0m\u001b[0;34m)\u001b[0m\u001b[0;34m:\u001b[0m\u001b[0;34m\u001b[0m\u001b[0;34m\u001b[0m\u001b[0m\n\u001b[1;32m   6971\u001b[0m             \u001b[0;32mif\u001b[0m \u001b[0merrors\u001b[0m \u001b[0;34m!=\u001b[0m \u001b[0;34m\"ignore\"\u001b[0m\u001b[0;34m:\u001b[0m\u001b[0;34m\u001b[0m\u001b[0;34m\u001b[0m\u001b[0m\n\u001b[0;32m-> 6972\u001b[0;31m                 \u001b[0;32mraise\u001b[0m \u001b[0mKeyError\u001b[0m\u001b[0;34m(\u001b[0m\u001b[0;34mf\"{list(labels[mask])} not found in axis\"\u001b[0m\u001b[0;34m)\u001b[0m\u001b[0;34m\u001b[0m\u001b[0;34m\u001b[0m\u001b[0m\n\u001b[0m\u001b[1;32m   6973\u001b[0m             \u001b[0mindexer\u001b[0m \u001b[0;34m=\u001b[0m \u001b[0mindexer\u001b[0m\u001b[0;34m[\u001b[0m\u001b[0;34m~\u001b[0m\u001b[0mmask\u001b[0m\u001b[0;34m]\u001b[0m\u001b[0;34m\u001b[0m\u001b[0;34m\u001b[0m\u001b[0m\n\u001b[1;32m   6974\u001b[0m         \u001b[0;32mreturn\u001b[0m \u001b[0mself\u001b[0m\u001b[0;34m.\u001b[0m\u001b[0mdelete\u001b[0m\u001b[0;34m(\u001b[0m\u001b[0mindexer\u001b[0m\u001b[0;34m)\u001b[0m\u001b[0;34m\u001b[0m\u001b[0;34m\u001b[0m\u001b[0m\n",
      "\u001b[0;31mKeyError\u001b[0m: \"['Mã tin'] not found in axis\""
     ]
    }
   ],
   "source": [
    "data.drop(\"Mã tin\", axis=1, inplace=True)"
   ]
  },
  {
   "cell_type": "code",
   "execution_count": null,
   "metadata": {},
   "outputs": [
    {
     "name": "stdout",
     "output_type": "stream",
     "text": [
      "{'Tây Nam', 'Đông', 'Bắc', 'Đông Nam', 'Đông Bắc', 'Tây', '_', 'Tây Bắc', 'Nam'}\n"
     ]
    },
    {
     "data": {
      "text/plain": [
       "_           19921\n",
       "Đông Nam      421\n",
       "Tây Nam       204\n",
       "Đông Bắc      169\n",
       "Tây Bắc       155\n",
       "Đông          115\n",
       "Nam           113\n",
       "Bắc            73\n",
       "Tây            55\n",
       "Name: Hướng, dtype: int64"
      ]
     },
     "execution_count": 55,
     "metadata": {},
     "output_type": "execute_result"
    }
   ],
   "source": [
    "print(set(data['Hướng'].values))\n",
    "data['Hướng'].value_counts()"
   ]
  },
  {
   "cell_type": "code",
   "execution_count": null,
   "metadata": {},
   "outputs": [
    {
     "name": "stdout",
     "output_type": "stream",
     "text": [
      "{nan, '---'}\n"
     ]
    },
    {
     "data": {
      "text/plain": [
       "---    10528\n",
       "Name: Phòng ăn, dtype: int64"
      ]
     },
     "execution_count": 54,
     "metadata": {},
     "output_type": "execute_result"
    }
   ],
   "source": [
    "print(set(data['Phòng ăn'].values))\n",
    "data['Phòng ăn'].value_counts()"
   ]
  },
  {
   "cell_type": "code",
   "execution_count": null,
   "metadata": {},
   "outputs": [],
   "source": [
    "data.drop(\"Loại tin\", axis=1, inplace=True)"
   ]
  },
  {
   "cell_type": "code",
   "execution_count": null,
   "metadata": {},
   "outputs": [
    {
     "name": "stdout",
     "output_type": "stream",
     "text": [
      "{'13,5m', '245m', '03m', '2-m', '4,8m', '4,7m', '7,5m', '24m', '5’mm', '4,m', '1,5m', '~3m', '38m', '50m', '---', '17m', '2,m', '5,5m', '60m', '6,1m', '8m', '34m', '2,5m', '4,4m', '8,5m', '7m', '27m', '5,0m', '6,2m', '2,8m', '1,3m', '14m', '103m', '30m', '4,0m', '6mm', '9m', '1,7m', '/39m', '49m', '5,3m', '23m', '16m', '5,7m', '8,3m', '15m', '66m', '2,3m', '2,4m', '13m', '10jm', '7,6m', ',5m', '42m', '4m', '3,2m', '7,8m', '6,7m', '75m', '80m', '4,5m', '13,m', '44m', '31m', '5,9m', '2,1m', '1,2m', '3m', '7,2m', '1,9m', '7mm', '6,5m', '5,1m', '0m', '45m', '10mm', '7,9m', '52m', 'Em', '40m', '2,9m', '1,6m', '6,8m', '5,2m', '2,2m', '3,3m', '5m', '11m', '6m', '11,m', '2,7m', '2m', '4,3m', '1pm', 'xm', '35mm', '9,3m', '1m', '4,1m', '8,2m', '1,1m', '19m', '22m', '26m', '3,8m', '3,4m', '1,8m', '21m', '7,3m', '6,6m', '10m', '6:5m', '39m', 'Im', '33m', '5,6m', '5mm', '64m', '8,8m', '2,6m', '7,4m', '8,6m', '30mm', '3,m', '`16m', '4,2m', '25m', '70m', '-m', '6,9m', '8mm', '55m', '20m', '36m', '6,3m', '18m', '3,1m', '3,9m', '7,1m', '54m', '02m', '48m', '35m', '12m', '5,8m', '3,5m', '9Mm', '3,7m', '6,4m', '135m', '2,0m', '00m', '4,6m', '3mm', '4mm', '28m', '3,6m', '400m', '300m', '100m', '32m'}\n"
     ]
    },
    {
     "data": {
      "text/plain": [
       "3m      3560\n",
       "4m      2174\n",
       "5m      2157\n",
       "6m      1845\n",
       "10m     1307\n",
       "        ... \n",
       "11,m       1\n",
       "7,9m       1\n",
       "31m        1\n",
       "02m        1\n",
       "4,m        1\n",
       "Name: Đường trước nhà, Length: 161, dtype: int64"
      ]
     },
     "execution_count": 51,
     "metadata": {},
     "output_type": "execute_result"
    }
   ],
   "source": [
    "print(set(data['Đường trước nhà'].values))\n",
    "data['Đường trước nhà'].value_counts()"
   ]
  },
  {
   "cell_type": "code",
   "execution_count": null,
   "metadata": {},
   "outputs": [
    {
     "name": "stdout",
     "output_type": "stream",
     "text": [
      "{nan, '---'}\n"
     ]
    },
    {
     "data": {
      "text/plain": [
       "---    10482\n",
       "Name: Nhà bếp, dtype: int64"
      ]
     },
     "execution_count": 50,
     "metadata": {},
     "output_type": "execute_result"
    }
   ],
   "source": [
    "print(set(data['Nhà bếp'].values))\n",
    "data['Nhà bếp'].value_counts()"
   ]
  },
  {
   "cell_type": "code",
   "execution_count": null,
   "metadata": {},
   "outputs": [
    {
     "name": "stdout",
     "output_type": "stream",
     "text": [
      "{'Nhà hàng, khách sạn', 'Kho, xưởng', 'Đất nông, lâm nghiệp', 'Phòng trọ, nhà trọ', 'Biệt thự, nhà liền kề', 'Căn hộ chung cư', 'Đất nền, liền kề, đất dự án', 'Nhà trong hẻm', 'Các loại khác', 'Mặt bằng', 'Đất thổ cư, đất ở', 'Văn phòng', 'Nhà mặt tiền', 'Trang trại', 'Shop, kiot, quán'}\n"
     ]
    },
    {
     "data": {
      "text/plain": [
       "Nhà trong hẻm                  11207\n",
       "Nhà mặt tiền                    6250\n",
       "Đất thổ cư, đất ở               1747\n",
       "Biệt thự, nhà liền kề            996\n",
       "Phòng trọ, nhà trọ               357\n",
       "Căn hộ chung cư                  196\n",
       "Nhà hàng, khách sạn              151\n",
       "Văn phòng                        142\n",
       "Đất nền, liền kề, đất dự án       90\n",
       "Kho, xưởng                        24\n",
       "Trang trại                        18\n",
       "Shop, kiot, quán                  17\n",
       "Mặt bằng                          11\n",
       "Đất nông, lâm nghiệp              10\n",
       "Các loại khác                     10\n",
       "Name: Loại BDS, dtype: int64"
      ]
     },
     "execution_count": 30,
     "metadata": {},
     "output_type": "execute_result"
    }
   ],
   "source": [
    "print(set(data['Loại BDS'].values))\n",
    "data['Loại BDS'].value_counts()"
   ]
  },
  {
   "cell_type": "code",
   "execution_count": null,
   "metadata": {},
   "outputs": [
    {
     "name": "stdout",
     "output_type": "stream",
     "text": [
      "{'Sổ hồng/ Sổ đỏ', 'Giấy tờ hợp lệ', '---', 'Giấy phép XD'}\n"
     ]
    },
    {
     "data": {
      "text/plain": [
       "Sổ hồng/ Sổ đỏ    16787\n",
       "---                4299\n",
       "Giấy tờ hợp lệ      134\n",
       "Giấy phép XD          6\n",
       "Name: Pháp lý, dtype: int64"
      ]
     },
     "execution_count": 49,
     "metadata": {},
     "output_type": "execute_result"
    }
   ],
   "source": [
    "print(set(data['Pháp lý'].values))\n",
    "data['Pháp lý'].value_counts()"
   ]
  },
  {
   "cell_type": "code",
   "execution_count": null,
   "metadata": {},
   "outputs": [
    {
     "name": "stdout",
     "output_type": "stream",
     "text": [
      "{nan, '---'}\n"
     ]
    },
    {
     "data": {
      "text/plain": [
       "---    10743\n",
       "Name: Sân thượng, dtype: int64"
      ]
     },
     "execution_count": 48,
     "metadata": {},
     "output_type": "execute_result"
    }
   ],
   "source": [
    "print(set(data['Sân thượng'].values))\n",
    "data['Sân thượng'].value_counts()"
   ]
  },
  {
   "cell_type": "code",
   "execution_count": null,
   "metadata": {},
   "outputs": [
    {
     "name": "stdout",
     "output_type": "stream",
     "text": [
      "{'7', '77', '18', '3', '16', '20', '2', '33', '22', '19', '6', '40', '35', '23', '29', '5', '---', '78', '4', '58', '15', '9', '10', '1', '30', '37', '21', '24', '8', '12', '45', '17', '25', '11', '54', '27', '14', '13'}\n"
     ]
    },
    {
     "data": {
      "text/plain": [
       "5      6624\n",
       "4      4702\n",
       "6      2003\n",
       "---    1725\n",
       "3      1611\n",
       "7      1295\n",
       "1      1044\n",
       "8       820\n",
       "2       601\n",
       "9       420\n",
       "10      206\n",
       "11       59\n",
       "12       47\n",
       "15       11\n",
       "16       11\n",
       "13        9\n",
       "20        4\n",
       "24        3\n",
       "21        3\n",
       "18        3\n",
       "23        2\n",
       "30        2\n",
       "29        2\n",
       "45        2\n",
       "19        2\n",
       "22        2\n",
       "14        2\n",
       "77        1\n",
       "27        1\n",
       "35        1\n",
       "40        1\n",
       "37        1\n",
       "33        1\n",
       "25        1\n",
       "78        1\n",
       "58        1\n",
       "54        1\n",
       "17        1\n",
       "Name: Số lầu, dtype: int64"
      ]
     },
     "execution_count": 47,
     "metadata": {},
     "output_type": "execute_result"
    }
   ],
   "source": [
    "print(set(data['Số lầu'].values))\n",
    "data['Số lầu'].value_counts()"
   ]
  },
  {
   "cell_type": "code",
   "execution_count": null,
   "metadata": {},
   "outputs": [
    {
     "name": "stdout",
     "output_type": "stream",
     "text": [
      "{nan, '---'}\n"
     ]
    },
    {
     "data": {
      "text/plain": [
       "---    12690\n",
       "Name: Chổ để xe hơi, dtype: int64"
      ]
     },
     "execution_count": 45,
     "metadata": {},
     "output_type": "execute_result"
    }
   ],
   "source": [
    "print(set(data['Chổ để xe hơi'].values))\n",
    "data['Chổ để xe hơi'].value_counts()"
   ]
  },
  {
   "cell_type": "code",
   "execution_count": null,
   "metadata": {},
   "outputs": [],
   "source": [
    "data.drop(\"Chiều dài\", axis=1, inplace=True)"
   ]
  },
  {
   "cell_type": "code",
   "execution_count": null,
   "metadata": {},
   "outputs": [],
   "source": [
    "data.drop(\"Chiều ngang\", axis=1, inplace=True)"
   ]
  },
  {
   "cell_type": "code",
   "execution_count": null,
   "metadata": {},
   "outputs": [
    {
     "name": "stdout",
     "output_type": "stream",
     "text": [
      "{'19', '100', '31', '23', '135', '39', '82', '---', '91', '26', '9', '30', '61', '120', '12', '243', '160', '65', '13', '88', '20', '2', '69', '72', '4', '70', '1', '105', '42', '150', '34', '64', '54', '27', '14', '324', '712', '57', '3', '6', '55', '200', '36', '50', '48', '51', '5', '238', '10', '37', '21', '308', '119', '47', '24', '60', '8', '52', '85', '45', '90', '83', '38', '25', '46', '86', '28', '7', '80', '18', '44', '16', '33', '22', '40', '35', '29', '58', '234', '15', '17', '49', '182', '32', '11'}\n"
     ]
    },
    {
     "data": {
      "text/plain": [
       "4      5979\n",
       "3      3992\n",
       "6      2324\n",
       "5      2262\n",
       "---    1780\n",
       "       ... \n",
       "86        1\n",
       "51        1\n",
       "712       1\n",
       "308       1\n",
       "120       1\n",
       "Name: Số phòng ngủ, Length: 85, dtype: int64"
      ]
     },
     "execution_count": 37,
     "metadata": {},
     "output_type": "execute_result"
    }
   ],
   "source": [
    "print(set(data['Số phòng ngủ'].values))\n",
    "data['Số phòng ngủ'].value_counts()"
   ]
  },
  {
   "cell_type": "code",
   "execution_count": null,
   "metadata": {},
   "outputs": [
    {
     "name": "stdout",
     "output_type": "stream",
     "text": [
      "{nan, '---'}\n"
     ]
    },
    {
     "data": {
      "text/plain": [
       "---    21222\n",
       "Name: Chính chủ, dtype: int64"
      ]
     },
     "execution_count": 31,
     "metadata": {},
     "output_type": "execute_result"
    }
   ],
   "source": [
    "print(set(data['Chính chủ'].values))\n",
    "data['Chính chủ'].value_counts()\n"
   ]
  }
 ],
 "metadata": {
  "interpreter": {
   "hash": "5149034e6c270e282a77d1814557afd12f20860eafa66ad63ec09ade6ca502a7"
  },
  "kernelspec": {
   "display_name": "Python 3.8.8 64-bit ('base': conda)",
   "language": "python",
   "name": "python3"
  },
  "language_info": {
   "codemirror_mode": {
    "name": "ipython",
    "version": 3
   },
   "file_extension": ".py",
   "mimetype": "text/x-python",
   "name": "python",
   "nbconvert_exporter": "python",
   "pygments_lexer": "ipython3",
   "version": "3.8.8"
  },
  "orig_nbformat": 4
 },
 "nbformat": 4,
 "nbformat_minor": 2
}
