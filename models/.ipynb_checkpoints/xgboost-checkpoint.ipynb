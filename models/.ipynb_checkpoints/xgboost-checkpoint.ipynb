{
 "cells": [
  {
   "cell_type": "code",
   "execution_count": 1,
   "id": "4bad0642-40c5-4c94-bf7a-c988ad135136",
   "metadata": {
    "tags": []
   },
   "outputs": [],
   "source": [
    "import pandas as pd\n",
    "import numpy as np\n",
    "from xgboost import XGBRegressor\n",
    "from sklearn.model_selection import train_test_split\n",
    "from sklearn.metrics import mean_absolute_percentage_error as mape\n",
    "from sklearn.metrics import r2_score\n",
    "from matplotlib import pyplot as plt\n",
    "from sklearn.preprocessing import LabelEncoder\n",
    "from sklearn.manifold import TSNE\n",
    "import time\n",
    "from sklearn.preprocessing import MinMaxScaler, StandardScaler, RobustScaler\n",
    "from sklearn.decomposition import PCA"
   ]
  },
  {
   "cell_type": "code",
   "execution_count": 2,
   "id": "7c70fe09-a51c-4aa2-8ddf-5b72967e7b8d",
   "metadata": {},
   "outputs": [],
   "source": [
    "from preprocess import EstateData\n",
    "\n",
    "dataset = EstateData(\"final.csv\")"
   ]
  },
  {
   "cell_type": "code",
   "execution_count": 3,
   "id": "c75b1911-41bf-4571-9d26-26f1c4c27633",
   "metadata": {},
   "outputs": [],
   "source": [
    "dataset.split_data(stratify=False)"
   ]
  },
  {
   "cell_type": "code",
   "execution_count": 4,
   "id": "1334144f-b80f-4f0e-b8a4-5970810c4c7f",
   "metadata": {},
   "outputs": [
    {
     "name": "stdout",
     "output_type": "stream",
     "text": [
      "Start Process!\n",
      "Fill missing values: Done\n",
      "Remove outlier: Done\n",
      "Scale features: Done\n"
     ]
    }
   ],
   "source": [
    "dataset.preprocess(tukey=True)"
   ]
  },
  {
   "cell_type": "code",
   "execution_count": 5,
   "id": "f2ec0f87-c94a-4d9a-bbc0-0633c77adddf",
   "metadata": {},
   "outputs": [],
   "source": [
    "train = dataset.train\n",
    "test = dataset.test"
   ]
  },
  {
   "cell_type": "code",
   "execution_count": 6,
   "id": "ed6ef9a7-c08e-4f60-a00c-0c1738b3237a",
   "metadata": {},
   "outputs": [
    {
     "name": "stdout",
     "output_type": "stream",
     "text": [
      "train size (31603, 13)\n",
      "test size (9266, 13)\n"
     ]
    }
   ],
   "source": [
    "print(\"train size {}\".format(train.shape))\n",
    "print(\"test size {}\".format(test.shape))"
   ]
  },
  {
   "cell_type": "code",
   "execution_count": 7,
   "id": "9d6c4bff-2e2d-4dad-9d60-d30f42e2dd31",
   "metadata": {},
   "outputs": [
    {
     "data": {
      "text/plain": [
       "37962    1050.000000\n",
       "45976    1916.666667\n",
       "40444    1042.857143\n",
       "9905      187.037037\n",
       "9472      141.111111\n",
       "            ...     \n",
       "392        47.872340\n",
       "20566     130.000000\n",
       "11727      84.577114\n",
       "9104       93.000000\n",
       "35474     866.666667\n",
       "Name: PricePerM2, Length: 9266, dtype: float64"
      ]
     },
     "execution_count": 7,
     "metadata": {},
     "output_type": "execute_result"
    }
   ],
   "source": [
    "test[\"PricePerM2\"]"
   ]
  },
  {
   "cell_type": "code",
   "execution_count": 8,
   "id": "11cb8cdd-95ef-44bf-969f-bad83780cf37",
   "metadata": {},
   "outputs": [
    {
     "data": {
      "text/html": [
       "<div>\n",
       "<style scoped>\n",
       "    .dataframe tbody tr th:only-of-type {\n",
       "        vertical-align: middle;\n",
       "    }\n",
       "\n",
       "    .dataframe tbody tr th {\n",
       "        vertical-align: top;\n",
       "    }\n",
       "\n",
       "    .dataframe thead th {\n",
       "        text-align: right;\n",
       "    }\n",
       "</style>\n",
       "<table border=\"1\" class=\"dataframe\">\n",
       "  <thead>\n",
       "    <tr style=\"text-align: right;\">\n",
       "      <th></th>\n",
       "      <th>House Direction</th>\n",
       "      <th>Balcony Direction</th>\n",
       "      <th>Toilets</th>\n",
       "      <th>Bedrooms</th>\n",
       "      <th>Legits</th>\n",
       "      <th>Floors</th>\n",
       "      <th>Facade</th>\n",
       "      <th>Entrance</th>\n",
       "      <th>Area</th>\n",
       "      <th>X</th>\n",
       "      <th>Y</th>\n",
       "      <th>Price</th>\n",
       "      <th>PricePerM2</th>\n",
       "    </tr>\n",
       "  </thead>\n",
       "  <tbody>\n",
       "    <tr>\n",
       "      <th>26826</th>\n",
       "      <td>None</td>\n",
       "      <td>None</td>\n",
       "      <td>None</td>\n",
       "      <td>4</td>\n",
       "      <td>+đỏ+hồng</td>\n",
       "      <td>5</td>\n",
       "      <td>-0.151325</td>\n",
       "      <td>0.0</td>\n",
       "      <td>-0.258014</td>\n",
       "      <td>0.564354</td>\n",
       "      <td>1.035137</td>\n",
       "      <td>99000.0</td>\n",
       "      <td>1800.000000</td>\n",
       "    </tr>\n",
       "    <tr>\n",
       "      <th>5679</th>\n",
       "      <td>None</td>\n",
       "      <td>None</td>\n",
       "      <td>None</td>\n",
       "      <td>None</td>\n",
       "      <td>+đỏ</td>\n",
       "      <td>None</td>\n",
       "      <td>-0.302649</td>\n",
       "      <td>0.0</td>\n",
       "      <td>-0.258014</td>\n",
       "      <td>-1.747257</td>\n",
       "      <td>-1.532471</td>\n",
       "      <td>5500.0</td>\n",
       "      <td>100.000000</td>\n",
       "    </tr>\n",
       "    <tr>\n",
       "      <th>2763</th>\n",
       "      <td>tây bắc</td>\n",
       "      <td>tây nam</td>\n",
       "      <td>2</td>\n",
       "      <td>3</td>\n",
       "      <td>+đỏ</td>\n",
       "      <td>None</td>\n",
       "      <td>0.596467</td>\n",
       "      <td>0.0</td>\n",
       "      <td>1.142286</td>\n",
       "      <td>-1.316760</td>\n",
       "      <td>-0.622458</td>\n",
       "      <td>1890.0</td>\n",
       "      <td>19.894737</td>\n",
       "    </tr>\n",
       "    <tr>\n",
       "      <th>35086</th>\n",
       "      <td>None</td>\n",
       "      <td>None</td>\n",
       "      <td>None</td>\n",
       "      <td>4</td>\n",
       "      <td>+đỏ+hồng</td>\n",
       "      <td>5</td>\n",
       "      <td>-0.655740</td>\n",
       "      <td>0.0</td>\n",
       "      <td>-0.258014</td>\n",
       "      <td>-0.435302</td>\n",
       "      <td>-0.175930</td>\n",
       "      <td>69900.0</td>\n",
       "      <td>1270.909091</td>\n",
       "    </tr>\n",
       "    <tr>\n",
       "      <th>12848</th>\n",
       "      <td>None</td>\n",
       "      <td>None</td>\n",
       "      <td>2</td>\n",
       "      <td>2</td>\n",
       "      <td>None</td>\n",
       "      <td>None</td>\n",
       "      <td>0.596467</td>\n",
       "      <td>0.0</td>\n",
       "      <td>-0.258014</td>\n",
       "      <td>-0.201077</td>\n",
       "      <td>-1.485857</td>\n",
       "      <td>2400.0</td>\n",
       "      <td>43.636364</td>\n",
       "    </tr>\n",
       "  </tbody>\n",
       "</table>\n",
       "</div>"
      ],
      "text/plain": [
       "      House Direction Balcony Direction Toilets Bedrooms    Legits Floors  \\\n",
       "26826            None              None    None        4  +đỏ+hồng      5   \n",
       "5679             None              None    None     None       +đỏ   None   \n",
       "2763          tây bắc           tây nam       2        3       +đỏ   None   \n",
       "35086            None              None    None        4  +đỏ+hồng      5   \n",
       "12848            None              None       2        2      None   None   \n",
       "\n",
       "         Facade  Entrance      Area         X         Y    Price   PricePerM2  \n",
       "26826 -0.151325       0.0 -0.258014  0.564354  1.035137  99000.0  1800.000000  \n",
       "5679  -0.302649       0.0 -0.258014 -1.747257 -1.532471   5500.0   100.000000  \n",
       "2763   0.596467       0.0  1.142286 -1.316760 -0.622458   1890.0    19.894737  \n",
       "35086 -0.655740       0.0 -0.258014 -0.435302 -0.175930  69900.0  1270.909091  \n",
       "12848  0.596467       0.0 -0.258014 -0.201077 -1.485857   2400.0    43.636364  "
      ]
     },
     "execution_count": 8,
     "metadata": {},
     "output_type": "execute_result"
    }
   ],
   "source": [
    "train.head()"
   ]
  },
  {
   "cell_type": "code",
   "execution_count": 9,
   "id": "e8c89bc5-87e8-40b8-a1d1-0c8f231376b9",
   "metadata": {},
   "outputs": [
    {
     "data": {
      "text/plain": [
       "count    31603.000000\n",
       "mean       576.784687\n",
       "std        703.471639\n",
       "min         10.000000\n",
       "25%         75.000000\n",
       "50%        178.452381\n",
       "75%       1018.693222\n",
       "max       4833.333333\n",
       "Name: PricePerM2, dtype: float64"
      ]
     },
     "execution_count": 9,
     "metadata": {},
     "output_type": "execute_result"
    }
   ],
   "source": [
    "train[\"PricePerM2\"].describe()"
   ]
  },
  {
   "cell_type": "code",
   "execution_count": 10,
   "id": "811a364c-ba4d-41c2-8aae-f5b0eea69d03",
   "metadata": {},
   "outputs": [],
   "source": [
    "train, dev = train_test_split(train, stratify=True)"
   ]
  },
  {
   "cell_type": "code",
   "execution_count": 11,
   "id": "d67e4065-a6b7-4a69-971d-5ecf2edee840",
   "metadata": {},
   "outputs": [],
   "source": [
    "features = train.columns.tolist()\n",
    "features.remove(\"Price\")\n",
    "features.remove(\"PricePerM2\")\n"
   ]
  },
  {
   "cell_type": "code",
   "execution_count": 12,
   "id": "a3c1204a-5364-498c-a8b4-a647b0065b40",
   "metadata": {},
   "outputs": [],
   "source": [
    "xgb = XGBRegressor(n_estimators = 300, max_depth=20, eta=0.01, gamma=1, tree_method=\"gpu_hist\", subsample=1, objective=\"reg:squarederror\", enable_categorical=True)"
   ]
  },
  {
   "cell_type": "code",
   "execution_count": 13,
   "id": "f047f72f-cfeb-46a0-ac08-fd704c05b22f",
   "metadata": {},
   "outputs": [
    {
     "name": "stderr",
     "output_type": "stream",
     "text": [
      "C:\\Users\\vietdata\\anaconda3\\envs\\ML_env\\lib\\site-packages\\xgboost\\sklearn.py:835: UserWarning: `eval_metric` in `fit` method is deprecated for better compatibility with scikit-learn, use `eval_metric` in constructor or`set_params` instead.\n",
      "  warnings.warn(\n",
      "C:\\Users\\vietdata\\anaconda3\\envs\\ML_env\\lib\\site-packages\\xgboost\\sklearn.py:835: UserWarning: `early_stopping_rounds` in `fit` method is deprecated for better compatibility with scikit-learn, use `early_stopping_rounds` in constructor or`set_params` instead.\n",
      "  warnings.warn(\n"
     ]
    },
    {
     "name": "stdout",
     "output_type": "stream",
     "text": [
      "[0]\tvalidation_0-mape:0.98202\n",
      "[1]\tvalidation_0-mape:0.97000\n",
      "[2]\tvalidation_0-mape:0.95810\n",
      "[3]\tvalidation_0-mape:0.94656\n",
      "[4]\tvalidation_0-mape:0.93545\n",
      "[5]\tvalidation_0-mape:0.92469\n",
      "[6]\tvalidation_0-mape:0.91436\n",
      "[7]\tvalidation_0-mape:0.90429\n",
      "[8]\tvalidation_0-mape:0.89438\n",
      "[9]\tvalidation_0-mape:0.88506\n",
      "[10]\tvalidation_0-mape:0.87576\n",
      "[11]\tvalidation_0-mape:0.86673\n",
      "[12]\tvalidation_0-mape:0.85764\n",
      "[13]\tvalidation_0-mape:0.84935\n",
      "[14]\tvalidation_0-mape:0.84130\n",
      "[15]\tvalidation_0-mape:0.83311\n",
      "[16]\tvalidation_0-mape:0.82539\n",
      "[17]\tvalidation_0-mape:0.81785\n",
      "[18]\tvalidation_0-mape:0.81036\n",
      "[19]\tvalidation_0-mape:0.80304\n",
      "[20]\tvalidation_0-mape:0.79578\n",
      "[21]\tvalidation_0-mape:0.78862\n",
      "[22]\tvalidation_0-mape:0.78146\n",
      "[23]\tvalidation_0-mape:0.77445\n",
      "[24]\tvalidation_0-mape:0.76753\n",
      "[25]\tvalidation_0-mape:0.76095\n",
      "[26]\tvalidation_0-mape:0.75436\n",
      "[27]\tvalidation_0-mape:0.74806\n",
      "[28]\tvalidation_0-mape:0.74175\n",
      "[29]\tvalidation_0-mape:0.73559\n",
      "[30]\tvalidation_0-mape:0.72973\n",
      "[31]\tvalidation_0-mape:0.72384\n",
      "[32]\tvalidation_0-mape:0.71809\n",
      "[33]\tvalidation_0-mape:0.71233\n",
      "[34]\tvalidation_0-mape:0.70674\n",
      "[35]\tvalidation_0-mape:0.70120\n",
      "[36]\tvalidation_0-mape:0.69576\n",
      "[37]\tvalidation_0-mape:0.69038\n",
      "[38]\tvalidation_0-mape:0.68509\n",
      "[39]\tvalidation_0-mape:0.67989\n",
      "[40]\tvalidation_0-mape:0.67479\n",
      "[41]\tvalidation_0-mape:0.66974\n",
      "[42]\tvalidation_0-mape:0.66481\n",
      "[43]\tvalidation_0-mape:0.65997\n",
      "[44]\tvalidation_0-mape:0.65529\n",
      "[45]\tvalidation_0-mape:0.65056\n",
      "[46]\tvalidation_0-mape:0.64607\n",
      "[47]\tvalidation_0-mape:0.64151\n",
      "[48]\tvalidation_0-mape:0.63702\n",
      "[49]\tvalidation_0-mape:0.63259\n",
      "[50]\tvalidation_0-mape:0.62831\n",
      "[51]\tvalidation_0-mape:0.62395\n",
      "[52]\tvalidation_0-mape:0.61968\n",
      "[53]\tvalidation_0-mape:0.61550\n",
      "[54]\tvalidation_0-mape:0.61141\n",
      "[55]\tvalidation_0-mape:0.60739\n",
      "[56]\tvalidation_0-mape:0.60338\n",
      "[57]\tvalidation_0-mape:0.59949\n",
      "[58]\tvalidation_0-mape:0.59564\n",
      "[59]\tvalidation_0-mape:0.59187\n",
      "[60]\tvalidation_0-mape:0.58820\n",
      "[61]\tvalidation_0-mape:0.58466\n",
      "[62]\tvalidation_0-mape:0.58111\n",
      "[63]\tvalidation_0-mape:0.57763\n",
      "[64]\tvalidation_0-mape:0.57421\n",
      "[65]\tvalidation_0-mape:0.57082\n",
      "[66]\tvalidation_0-mape:0.56754\n",
      "[67]\tvalidation_0-mape:0.56424\n",
      "[68]\tvalidation_0-mape:0.56098\n",
      "[69]\tvalidation_0-mape:0.55770\n",
      "[70]\tvalidation_0-mape:0.55447\n",
      "[71]\tvalidation_0-mape:0.55143\n",
      "[72]\tvalidation_0-mape:0.54834\n",
      "[73]\tvalidation_0-mape:0.54528\n",
      "[74]\tvalidation_0-mape:0.54225\n",
      "[75]\tvalidation_0-mape:0.53939\n",
      "[76]\tvalidation_0-mape:0.53652\n",
      "[77]\tvalidation_0-mape:0.53370\n",
      "[78]\tvalidation_0-mape:0.53089\n",
      "[79]\tvalidation_0-mape:0.52819\n",
      "[80]\tvalidation_0-mape:0.52543\n",
      "[81]\tvalidation_0-mape:0.52287\n",
      "[82]\tvalidation_0-mape:0.52032\n",
      "[83]\tvalidation_0-mape:0.51784\n",
      "[84]\tvalidation_0-mape:0.51536\n",
      "[85]\tvalidation_0-mape:0.51301\n",
      "[86]\tvalidation_0-mape:0.51071\n",
      "[87]\tvalidation_0-mape:0.50837\n",
      "[88]\tvalidation_0-mape:0.50607\n",
      "[89]\tvalidation_0-mape:0.50384\n",
      "[90]\tvalidation_0-mape:0.50162\n",
      "[91]\tvalidation_0-mape:0.49951\n",
      "[92]\tvalidation_0-mape:0.49731\n",
      "[93]\tvalidation_0-mape:0.49517\n",
      "[94]\tvalidation_0-mape:0.49305\n",
      "[95]\tvalidation_0-mape:0.49100\n",
      "[96]\tvalidation_0-mape:0.48897\n",
      "[97]\tvalidation_0-mape:0.48702\n",
      "[98]\tvalidation_0-mape:0.48513\n",
      "[99]\tvalidation_0-mape:0.48327\n",
      "[100]\tvalidation_0-mape:0.48138\n",
      "[101]\tvalidation_0-mape:0.47958\n",
      "[102]\tvalidation_0-mape:0.47788\n",
      "[103]\tvalidation_0-mape:0.47616\n",
      "[104]\tvalidation_0-mape:0.47440\n",
      "[105]\tvalidation_0-mape:0.47279\n",
      "[106]\tvalidation_0-mape:0.47126\n",
      "[107]\tvalidation_0-mape:0.46966\n",
      "[108]\tvalidation_0-mape:0.46808\n",
      "[109]\tvalidation_0-mape:0.46660\n",
      "[110]\tvalidation_0-mape:0.46505\n",
      "[111]\tvalidation_0-mape:0.46361\n",
      "[112]\tvalidation_0-mape:0.46217\n",
      "[113]\tvalidation_0-mape:0.46072\n",
      "[114]\tvalidation_0-mape:0.45928\n",
      "[115]\tvalidation_0-mape:0.45784\n",
      "[116]\tvalidation_0-mape:0.45648\n",
      "[117]\tvalidation_0-mape:0.45507\n",
      "[118]\tvalidation_0-mape:0.45367\n",
      "[119]\tvalidation_0-mape:0.45251\n",
      "[120]\tvalidation_0-mape:0.45132\n",
      "[121]\tvalidation_0-mape:0.45009\n",
      "[122]\tvalidation_0-mape:0.44885\n",
      "[123]\tvalidation_0-mape:0.44775\n",
      "[124]\tvalidation_0-mape:0.44659\n",
      "[125]\tvalidation_0-mape:0.44563\n",
      "[126]\tvalidation_0-mape:0.44450\n",
      "[127]\tvalidation_0-mape:0.44340\n",
      "[128]\tvalidation_0-mape:0.44250\n",
      "[129]\tvalidation_0-mape:0.44150\n",
      "[130]\tvalidation_0-mape:0.44049\n",
      "[131]\tvalidation_0-mape:0.43945\n",
      "[132]\tvalidation_0-mape:0.43839\n",
      "[133]\tvalidation_0-mape:0.43759\n",
      "[134]\tvalidation_0-mape:0.43669\n",
      "[135]\tvalidation_0-mape:0.43579\n",
      "[136]\tvalidation_0-mape:0.43482\n",
      "[137]\tvalidation_0-mape:0.43395\n",
      "[138]\tvalidation_0-mape:0.43315\n",
      "[139]\tvalidation_0-mape:0.43236\n",
      "[140]\tvalidation_0-mape:0.43149\n",
      "[141]\tvalidation_0-mape:0.43073\n",
      "[142]\tvalidation_0-mape:0.43002\n",
      "[143]\tvalidation_0-mape:0.42929\n",
      "[144]\tvalidation_0-mape:0.42866\n",
      "[145]\tvalidation_0-mape:0.42793\n",
      "[146]\tvalidation_0-mape:0.42726\n",
      "[147]\tvalidation_0-mape:0.42663\n",
      "[148]\tvalidation_0-mape:0.42607\n",
      "[149]\tvalidation_0-mape:0.42550\n",
      "[150]\tvalidation_0-mape:0.42500\n",
      "[151]\tvalidation_0-mape:0.42449\n",
      "[152]\tvalidation_0-mape:0.42398\n",
      "[153]\tvalidation_0-mape:0.42353\n",
      "[154]\tvalidation_0-mape:0.42311\n",
      "[155]\tvalidation_0-mape:0.42260\n",
      "[156]\tvalidation_0-mape:0.42223\n",
      "[157]\tvalidation_0-mape:0.42184\n",
      "[158]\tvalidation_0-mape:0.42143\n",
      "[159]\tvalidation_0-mape:0.42115\n",
      "[160]\tvalidation_0-mape:0.42086\n",
      "[161]\tvalidation_0-mape:0.42061\n",
      "[162]\tvalidation_0-mape:0.42032\n",
      "[163]\tvalidation_0-mape:0.42015\n",
      "[164]\tvalidation_0-mape:0.41990\n",
      "[165]\tvalidation_0-mape:0.41958\n",
      "[166]\tvalidation_0-mape:0.41935\n",
      "[167]\tvalidation_0-mape:0.41909\n",
      "[168]\tvalidation_0-mape:0.41896\n",
      "[169]\tvalidation_0-mape:0.41881\n",
      "[170]\tvalidation_0-mape:0.41865\n",
      "[171]\tvalidation_0-mape:0.41842\n",
      "[172]\tvalidation_0-mape:0.41830\n",
      "[173]\tvalidation_0-mape:0.41820\n",
      "[174]\tvalidation_0-mape:0.41815\n",
      "[175]\tvalidation_0-mape:0.41798\n",
      "[176]\tvalidation_0-mape:0.41792\n",
      "[177]\tvalidation_0-mape:0.41786\n",
      "[178]\tvalidation_0-mape:0.41773\n",
      "[179]\tvalidation_0-mape:0.41772\n",
      "[180]\tvalidation_0-mape:0.41767\n",
      "[181]\tvalidation_0-mape:0.41771\n",
      "[182]\tvalidation_0-mape:0.41770\n",
      "[183]\tvalidation_0-mape:0.41772\n",
      "[184]\tvalidation_0-mape:0.41768\n",
      "[185]\tvalidation_0-mape:0.41767\n",
      "[186]\tvalidation_0-mape:0.41770\n",
      "[187]\tvalidation_0-mape:0.41768\n",
      "[188]\tvalidation_0-mape:0.41771\n",
      "[189]\tvalidation_0-mape:0.41772\n",
      "[190]\tvalidation_0-mape:0.41777\n",
      "[191]\tvalidation_0-mape:0.41785\n",
      "[192]\tvalidation_0-mape:0.41793\n",
      "[193]\tvalidation_0-mape:0.41797\n",
      "[194]\tvalidation_0-mape:0.41801\n",
      "[195]\tvalidation_0-mape:0.41810\n",
      "[196]\tvalidation_0-mape:0.41817\n",
      "[197]\tvalidation_0-mape:0.41829\n",
      "[198]\tvalidation_0-mape:0.41838\n",
      "[199]\tvalidation_0-mape:0.41851\n",
      "[200]\tvalidation_0-mape:0.41866\n",
      "[201]\tvalidation_0-mape:0.41878\n",
      "[202]\tvalidation_0-mape:0.41894\n",
      "[203]\tvalidation_0-mape:0.41909\n",
      "[204]\tvalidation_0-mape:0.41925\n"
     ]
    },
    {
     "data": {
      "text/plain": [
       "XGBRegressor(base_score=None, booster=None, callbacks=None,\n",
       "             colsample_bylevel=None, colsample_bynode=None,\n",
       "             colsample_bytree=None, early_stopping_rounds=None,\n",
       "             enable_categorical=True, eta=0.01, eval_metric=None,\n",
       "             feature_types=None, gamma=1, gpu_id=None, grow_policy=None,\n",
       "             importance_type=None, interaction_constraints=None,\n",
       "             learning_rate=None, max_bin=None, max_cat_threshold=None,\n",
       "             max_cat_to_onehot=None, max_delta_step=None, max_depth=20,\n",
       "             max_leaves=None, min_child_weight=None, missing=nan,\n",
       "             monotone_constraints=None, n_estimators=300, n_jobs=None,\n",
       "             num_parallel_tree=None, predictor=None, ...)"
      ]
     },
     "execution_count": 13,
     "metadata": {},
     "output_type": "execute_result"
    }
   ],
   "source": [
    "xgb.fit(train[features], train[\"PricePerM2\"], eval_set=[(dev[features], dev[\"PricePerM2\"])], eval_metric=\"mape\", early_stopping_rounds=20)"
   ]
  },
  {
   "cell_type": "code",
   "execution_count": 14,
   "id": "47b901fa-c576-46aa-8ae5-70afd4687d5d",
   "metadata": {},
   "outputs": [
    {
     "data": {
      "text/plain": [
       "186"
      ]
     },
     "execution_count": 14,
     "metadata": {},
     "output_type": "execute_result"
    }
   ],
   "source": [
    "xgb.best_ntree_limit"
   ]
  },
  {
   "cell_type": "code",
   "execution_count": 15,
   "id": "f247839e-0f73-4933-881d-981088b665eb",
   "metadata": {},
   "outputs": [
    {
     "data": {
      "text/plain": [
       "<matplotlib.legend.Legend at 0x18c04cecf40>"
      ]
     },
     "execution_count": 15,
     "metadata": {},
     "output_type": "execute_result"
    },
    {
     "data": {
      "image/png": "[encoded data removed]",
      "text/plain": [
       "<Figure size 432x288 with 1 Axes>"
      ]
     },
     "metadata": {
      "needs_background": "light"
     },
     "output_type": "display_data"
    }
   ],
   "source": [
    "results = xgb.evals_result()\n",
    "#plt.plot(results[\"validation_0\"][\"mape\"], c= \"b\", label=\"train metric\")\n",
    "plt.plot(results[\"validation_0\"][\"mape\"], c= \"orange\", label=\"test metric\")\n",
    "plt.legend()"
   ]
  },
  {
   "cell_type": "code",
   "execution_count": 16,
   "id": "89cf004f-da26-4446-8c9f-9ed2da396641",
   "metadata": {},
   "outputs": [
    {
     "name": "stderr",
     "output_type": "stream",
     "text": [
      "C:\\Users\\vietdata\\anaconda3\\envs\\ML_env\\lib\\site-packages\\xgboost\\core.py:122: UserWarning: ntree_limit is deprecated, use `iteration_range` or model slicing instead.\n",
      "  warnings.warn(\n"
     ]
    },
    {
     "name": "stdout",
     "output_type": "stream",
     "text": [
      "0.5281420539097809\n"
     ]
    }
   ],
   "source": [
    "pred = xgb.predict(test[features],ntree_limit=xgb.best_ntree_limit)\n",
    "print(mape(test[\"PricePerM2\"], pred))"
   ]
  },
  {
   "cell_type": "code",
   "execution_count": 17,
   "id": "a485a2f8-b0ab-466c-89fc-a3a979c2c243",
   "metadata": {},
   "outputs": [
    {
     "data": {
      "text/plain": [
       "0.483118118210765"
      ]
     },
     "execution_count": 17,
     "metadata": {},
     "output_type": "execute_result"
    }
   ],
   "source": [
    "0.483118118210765\n"
   ]
  },
  {
   "cell_type": "code",
   "execution_count": 25,
   "id": "b2ed752f-c0d5-4305-bb4f-7581bc11fbfb",
   "metadata": {},
   "outputs": [
    {
     "data": {
      "text/plain": [
       "(array([2.291e+03, 5.090e+02, 2.000e+01, 0.000e+00, 1.000e+00, 0.000e+00,\n",
       "        0.000e+00, 0.000e+00, 0.000e+00, 2.000e+00]),\n",
       " array([  9.89435,  37.40956,  64.92477,  92.43998, 119.95519, 147.4704 ,\n",
       "        174.98561, 202.50082, 230.01602, 257.53125, 285.04645],\n",
       "       dtype=float32),\n",
       " <BarContainer object of 10 artists>)"
      ]
     },
     "execution_count": 25,
     "metadata": {},
     "output_type": "execute_result"
    },
    {
     "data": {
      "image/png": "[encoded data removed]",
      "text/plain": [
       "<Figure size 432x288 with 1 Axes>"
      ]
     },
     "metadata": {
      "needs_background": "light"
     },
     "output_type": "display_data"
    }
   ],
   "source": [
    "plt.hist(pred)"
   ]
  },
  {
   "cell_type": "code",
   "execution_count": 17,
   "id": "b201d610-6188-4fee-ad7b-400294b01bf3",
   "metadata": {},
   "outputs": [
    {
     "data": {
      "text/plain": [
       "count     9557.000000\n",
       "mean       893.671987\n",
       "std       1272.235083\n",
       "min          0.024000\n",
       "25%         86.842105\n",
       "50%        240.000000\n",
       "75%       1300.000000\n",
       "max      10000.000000\n",
       "Name: PricePerM2, dtype: float64"
      ]
     },
     "execution_count": 17,
     "metadata": {},
     "output_type": "execute_result"
    }
   ],
   "source": [
    "test[\"PricePerM2\"].describe()"
   ]
  },
  {
   "cell_type": "code",
   "execution_count": 20,
   "id": "4d1154a5-a72e-451c-bd7a-199ce6c7b921",
   "metadata": {},
   "outputs": [
    {
     "name": "stdout",
     "output_type": "stream",
     "text": [
      "-0.0019258128781889372\n"
     ]
    }
   ],
   "source": [
    "pred = xgb.predict(test[features])\n",
    "print(r2_score(test[\"PricePerM2\"], pred))\n"
   ]
  },
  {
   "cell_type": "code",
   "execution_count": 31,
   "id": "8a029453-0f4e-48fa-abcc-0937ede6b4da",
   "metadata": {},
   "outputs": [
    {
     "data": {
      "text/plain": [
       "(array([9.492e+03, 8.000e+01, 1.900e+01, 5.000e+00, 3.000e+00, 3.000e+00,\n",
       "        0.000e+00, 0.000e+00, 0.000e+00, 0.000e+00, 0.000e+00, 0.000e+00,\n",
       "        0.000e+00, 0.000e+00, 0.000e+00, 0.000e+00, 0.000e+00, 0.000e+00,\n",
       "        0.000e+00, 1.000e+00]),\n",
       " array([-2.73714905e+01,  1.25797259e+06,  2.51597256e+06,  3.77397252e+06,\n",
       "         5.03197249e+06,  6.28997245e+06,  7.54797242e+06,  8.80597238e+06,\n",
       "         1.00639723e+07,  1.13219723e+07,  1.25799723e+07,  1.38379722e+07,\n",
       "         1.50959722e+07,  1.63539722e+07,  1.76119721e+07,  1.88699721e+07,\n",
       "         2.01279721e+07,  2.13859720e+07,  2.26439720e+07,  2.39019720e+07,\n",
       "         2.51599719e+07]),\n",
       " <BarContainer object of 20 artists>)"
      ]
     },
     "execution_count": 31,
     "metadata": {},
     "output_type": "execute_result"
    },
    {
     "data": {
      "image/png": "[encoded data removed]",
      "text/plain": [
       "<Figure size 432x288 with 1 Axes>"
      ]
     },
     "metadata": {
      "needs_background": "light"
     },
     "output_type": "display_data"
    }
   ],
   "source": [
    "plt.hist(test[\"Price\"].values-pred, bins=20)"
   ]
  },
  {
   "cell_type": "code",
   "execution_count": null,
   "id": "62d7ad0e-07ab-4253-9ef8-52520a8763b7",
   "metadata": {},
   "outputs": [],
   "source": [
    "X_embedded = TSNE(n_components=2, learning_rate='auto',\n",
    "                   init='random', perplexity=3).fit_transform(pd.get_dummies(train[features]).values)"
   ]
  },
  {
   "cell_type": "code",
   "execution_count": 40,
   "id": "2923a6b8-9fe2-4cff-a8ce-e329a696637a",
   "metadata": {},
   "outputs": [
    {
     "data": {
      "text/plain": [
       "<matplotlib.collections.PathCollection at 0x28e8df37d00>"
      ]
     },
     "execution_count": 40,
     "metadata": {},
     "output_type": "execute_result"
    },
    {
     "data": {
      "image/png": "[encoded data removed]",
      "text/plain": [
       "<Figure size 432x288 with 1 Axes>"
      ]
     },
     "metadata": {
      "needs_background": "light"
     },
     "output_type": "display_data"
    }
   ],
   "source": [
    "a, b = list(zip(*X_embedded))\n",
    "plt.scatter(a[:1000],b[:1000])"
   ]
  },
  {
   "cell_type": "code",
   "execution_count": 362,
   "id": "eaf4cc4a-c2ad-4589-96ab-73f72e7f4db8",
   "metadata": {},
   "outputs": [
    {
     "data": {
      "text/plain": [
       "(array([ 6088., 11138.,  5496.,  3396.,  1929.,  1215.,   697.,   575.,\n",
       "          341.,   219.]),\n",
       " array([ 20.5 ,  38.35,  56.2 ,  74.05,  91.9 , 109.75, 127.6 , 145.45,\n",
       "        163.3 , 181.15, 199.  ]),\n",
       " <BarContainer object of 10 artists>)"
      ]
     },
     "execution_count": 362,
     "metadata": {},
     "output_type": "execute_result"
    },
    {
     "data": {
      "image/png": "[encoded data removed]",
      "text/plain": [
       "<Figure size 432x288 with 1 Axes>"
      ]
     },
     "metadata": {
      "needs_background": "light"
     },
     "output_type": "display_data"
    }
   ],
   "source": [
    "plt.hist(data[\"Area\"][(data[\"Area\"] > 20) & (data[\"Area\"] <200)], bins=10)"
   ]
  },
  {
   "cell_type": "code",
   "execution_count": 363,
   "id": "48d79662-abba-4da1-8ffd-b7b928438475",
   "metadata": {},
   "outputs": [
    {
     "data": {
      "text/plain": [
       "0        80.0\n",
       "1        78.0\n",
       "2        48.0\n",
       "3        43.0\n",
       "4        35.0\n",
       "         ... \n",
       "34951    54.0\n",
       "34952    75.0\n",
       "34953    40.0\n",
       "34954    42.0\n",
       "34955    50.0\n",
       "Name: Area, Length: 31094, dtype: float64"
      ]
     },
     "execution_count": 363,
     "metadata": {},
     "output_type": "execute_result"
    }
   ],
   "source": [
    "data[\"Area\"][(data[\"Area\"] > 20) & (data[\"Area\"] <200)]"
   ]
  },
  {
   "cell_type": "code",
   "execution_count": 492,
   "id": "41b5f03f-7664-4fce-b909-e2117a30abb8",
   "metadata": {},
   "outputs": [
    {
     "data": {
      "text/plain": [
       "<AxesSubplot:ylabel='Frequency'>"
      ]
     },
     "execution_count": 492,
     "metadata": {},
     "output_type": "execute_result"
    },
    {
     "data": {
      "image/png": "[encoded data removed]",
      "text/plain": [
       "<Figure size 432x288 with 1 Axes>"
      ]
     },
     "metadata": {
      "needs_background": "light"
     },
     "output_type": "display_data"
    }
   ],
   "source": [
    "data[\"Price\"].plot(kind=\"hist\")"
   ]
  },
  {
   "cell_type": "code",
   "execution_count": 391,
   "id": "e0c42ec1-ad60-476b-bc84-26a547647e67",
   "metadata": {},
   "outputs": [
    {
     "data": {
      "text/html": [
       "<div>\n",
       "<style scoped>\n",
       "    .dataframe tbody tr th:only-of-type {\n",
       "        vertical-align: middle;\n",
       "    }\n",
       "\n",
       "    .dataframe tbody tr th {\n",
       "        vertical-align: top;\n",
       "    }\n",
       "\n",
       "    .dataframe thead th {\n",
       "        text-align: right;\n",
       "    }\n",
       "</style>\n",
       "<table border=\"1\" class=\"dataframe\">\n",
       "  <thead>\n",
       "    <tr style=\"text-align: right;\">\n",
       "      <th></th>\n",
       "      <th>House Direction</th>\n",
       "      <th>Balcony Direction</th>\n",
       "      <th>Bedrooms</th>\n",
       "      <th>Toilets</th>\n",
       "      <th>Legits</th>\n",
       "      <th>Floors</th>\n",
       "      <th>Facade</th>\n",
       "      <th>Entrance</th>\n",
       "      <th>District</th>\n",
       "      <th>Area</th>\n",
       "      <th>Price</th>\n",
       "    </tr>\n",
       "  </thead>\n",
       "  <tbody>\n",
       "    <tr>\n",
       "      <th>13890</th>\n",
       "      <td>None</td>\n",
       "      <td>None</td>\n",
       "      <td>6</td>\n",
       "      <td>None</td>\n",
       "      <td>+đỏ+hồng</td>\n",
       "      <td>3</td>\n",
       "      <td>17.0</td>\n",
       "      <td>3.0</td>\n",
       "      <td>nam từ liêm</td>\n",
       "      <td>180.0</td>\n",
       "      <td>330000.0</td>\n",
       "    </tr>\n",
       "    <tr>\n",
       "      <th>13908</th>\n",
       "      <td>None</td>\n",
       "      <td>None</td>\n",
       "      <td>4</td>\n",
       "      <td>None</td>\n",
       "      <td>+đỏ+hồng</td>\n",
       "      <td>4</td>\n",
       "      <td>5.0</td>\n",
       "      <td>3.0</td>\n",
       "      <td>hoàn kiếm</td>\n",
       "      <td>130.0</td>\n",
       "      <td>330000.0</td>\n",
       "    </tr>\n",
       "    <tr>\n",
       "      <th>13931</th>\n",
       "      <td>None</td>\n",
       "      <td>None</td>\n",
       "      <td>10+</td>\n",
       "      <td>None</td>\n",
       "      <td>+đỏ+hồng</td>\n",
       "      <td>9</td>\n",
       "      <td>5.0</td>\n",
       "      <td>3.0</td>\n",
       "      <td>ba đình</td>\n",
       "      <td>89.0</td>\n",
       "      <td>320000.0</td>\n",
       "    </tr>\n",
       "    <tr>\n",
       "      <th>14000</th>\n",
       "      <td>None</td>\n",
       "      <td>None</td>\n",
       "      <td>8</td>\n",
       "      <td>None</td>\n",
       "      <td>None</td>\n",
       "      <td>8</td>\n",
       "      <td>5.0</td>\n",
       "      <td>3.0</td>\n",
       "      <td>đống đa</td>\n",
       "      <td>90.0</td>\n",
       "      <td>330000.0</td>\n",
       "    </tr>\n",
       "    <tr>\n",
       "      <th>14042</th>\n",
       "      <td>None</td>\n",
       "      <td>None</td>\n",
       "      <td>5</td>\n",
       "      <td>None</td>\n",
       "      <td>+đỏ+hồng</td>\n",
       "      <td>7</td>\n",
       "      <td>7.0</td>\n",
       "      <td>3.0</td>\n",
       "      <td>cầu giấy</td>\n",
       "      <td>120.0</td>\n",
       "      <td>324000.0</td>\n",
       "    </tr>\n",
       "    <tr>\n",
       "      <th>...</th>\n",
       "      <td>...</td>\n",
       "      <td>...</td>\n",
       "      <td>...</td>\n",
       "      <td>...</td>\n",
       "      <td>...</td>\n",
       "      <td>...</td>\n",
       "      <td>...</td>\n",
       "      <td>...</td>\n",
       "      <td>...</td>\n",
       "      <td>...</td>\n",
       "      <td>...</td>\n",
       "    </tr>\n",
       "    <tr>\n",
       "      <th>34836</th>\n",
       "      <td>None</td>\n",
       "      <td>None</td>\n",
       "      <td>5</td>\n",
       "      <td>None</td>\n",
       "      <td>+đỏ+hồng</td>\n",
       "      <td>5</td>\n",
       "      <td>30.0</td>\n",
       "      <td>3.0</td>\n",
       "      <td>cầu giấy</td>\n",
       "      <td>56.0</td>\n",
       "      <td>310000.0</td>\n",
       "    </tr>\n",
       "    <tr>\n",
       "      <th>34842</th>\n",
       "      <td>None</td>\n",
       "      <td>None</td>\n",
       "      <td>3</td>\n",
       "      <td>None</td>\n",
       "      <td>+đỏ+hồng</td>\n",
       "      <td>5</td>\n",
       "      <td>2.0</td>\n",
       "      <td>3.0</td>\n",
       "      <td>long biên</td>\n",
       "      <td>35.0</td>\n",
       "      <td>310000.0</td>\n",
       "    </tr>\n",
       "    <tr>\n",
       "      <th>34904</th>\n",
       "      <td>None</td>\n",
       "      <td>None</td>\n",
       "      <td>10+</td>\n",
       "      <td>None</td>\n",
       "      <td>+đỏ+hồng</td>\n",
       "      <td>8</td>\n",
       "      <td>8.0</td>\n",
       "      <td>3.0</td>\n",
       "      <td>cầu giấy</td>\n",
       "      <td>110.0</td>\n",
       "      <td>340000.0</td>\n",
       "    </tr>\n",
       "    <tr>\n",
       "      <th>34910</th>\n",
       "      <td>None</td>\n",
       "      <td>None</td>\n",
       "      <td>8</td>\n",
       "      <td>None</td>\n",
       "      <td>+đỏ+hồng</td>\n",
       "      <td>5</td>\n",
       "      <td>10.0</td>\n",
       "      <td>3.0</td>\n",
       "      <td>cầu giấy</td>\n",
       "      <td>100.0</td>\n",
       "      <td>320000.0</td>\n",
       "    </tr>\n",
       "    <tr>\n",
       "      <th>34914</th>\n",
       "      <td>None</td>\n",
       "      <td>None</td>\n",
       "      <td>6</td>\n",
       "      <td>None</td>\n",
       "      <td>+đỏ+hồng</td>\n",
       "      <td>4</td>\n",
       "      <td>6.0</td>\n",
       "      <td>3.0</td>\n",
       "      <td>cầu giấy</td>\n",
       "      <td>185.0</td>\n",
       "      <td>320000.0</td>\n",
       "    </tr>\n",
       "  </tbody>\n",
       "</table>\n",
       "<p>752 rows × 11 columns</p>\n",
       "</div>"
      ],
      "text/plain": [
       "      House Direction Balcony Direction Bedrooms Toilets    Legits Floors  \\\n",
       "13890            None              None        6    None  +đỏ+hồng      3   \n",
       "13908            None              None        4    None  +đỏ+hồng      4   \n",
       "13931            None              None      10+    None  +đỏ+hồng      9   \n",
       "14000            None              None        8    None      None      8   \n",
       "14042            None              None        5    None  +đỏ+hồng      7   \n",
       "...               ...               ...      ...     ...       ...    ...   \n",
       "34836            None              None        5    None  +đỏ+hồng      5   \n",
       "34842            None              None        3    None  +đỏ+hồng      5   \n",
       "34904            None              None      10+    None  +đỏ+hồng      8   \n",
       "34910            None              None        8    None  +đỏ+hồng      5   \n",
       "34914            None              None        6    None  +đỏ+hồng      4   \n",
       "\n",
       "       Facade  Entrance     District   Area     Price  \n",
       "13890    17.0       3.0  nam từ liêm  180.0  330000.0  \n",
       "13908     5.0       3.0    hoàn kiếm  130.0  330000.0  \n",
       "13931     5.0       3.0      ba đình   89.0  320000.0  \n",
       "14000     5.0       3.0      đống đa   90.0  330000.0  \n",
       "14042     7.0       3.0     cầu giấy  120.0  324000.0  \n",
       "...       ...       ...          ...    ...       ...  \n",
       "34836    30.0       3.0     cầu giấy   56.0  310000.0  \n",
       "34842     2.0       3.0    long biên   35.0  310000.0  \n",
       "34904     8.0       3.0     cầu giấy  110.0  340000.0  \n",
       "34910    10.0       3.0     cầu giấy  100.0  320000.0  \n",
       "34914     6.0       3.0     cầu giấy  185.0  320000.0  \n",
       "\n",
       "[752 rows x 11 columns]"
      ]
     },
     "execution_count": 391,
     "metadata": {},
     "output_type": "execute_result"
    }
   ],
   "source": [
    "data[data[\"Price\"] > 300000]"
   ]
  },
  {
   "cell_type": "code",
   "execution_count": null,
   "id": "98edbd49-59a6-4510-93cd-9ceb22b966a9",
   "metadata": {},
   "outputs": [],
   "source": [
    "data[\"Price\"]/data[\"Area\"]"
   ]
  }
 ],
 "metadata": {
  "kernelspec": {
   "display_name": "Python 3 (ipykernel)",
   "language": "python",
   "name": "python3"
  },
  "language_info": {
   "codemirror_mode": {
    "name": "ipython",
    "version": 3
   },
   "file_extension": ".py",
   "mimetype": "text/x-python",
   "name": "python",
   "nbconvert_exporter": "python",
   "pygments_lexer": "ipython3",
   "version": "3.10.4"
  }
 },
 "nbformat": 4,
 "nbformat_minor": 5
}
