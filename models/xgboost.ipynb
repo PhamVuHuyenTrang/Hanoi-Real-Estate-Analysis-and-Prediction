{
 "cells": [
  {
   "cell_type": "code",
   "execution_count": 1,
   "id": "4bad0642-40c5-4c94-bf7a-c988ad135136",
   "metadata": {
    "tags": []
   },
   "outputs": [],
   "source": [
    "import pandas as pd\n",
    "import numpy as np\n",
    "from xgboost import XGBRegressor\n",
    "from sklearn.model_selection import train_test_split\n",
    "from sklearn.metrics import mean_absolute_percentage_error as mape\n",
    "from sklearn.metrics import r2_score\n",
    "from matplotlib import pyplot as plt\n",
    "from sklearn.preprocessing import LabelEncoder\n",
    "from sklearn.manifold import TSNE\n",
    "import time\n",
    "from sklearn.preprocessing import MinMaxScaler, StandardScaler, RobustScaler\n",
    "from sklearn.decomposition import PCA"
   ]
  },
  {
   "cell_type": "code",
   "execution_count": 2,
   "id": "7c70fe09-a51c-4aa2-8ddf-5b72967e7b8d",
   "metadata": {},
   "outputs": [],
   "source": [
    "from preprocess import EstateData\n",
    "\n",
    "dataset = EstateData(\"final.csv\")"
   ]
  },
  {
   "cell_type": "code",
   "execution_count": 3,
   "id": "c75b1911-41bf-4571-9d26-26f1c4c27633",
   "metadata": {},
   "outputs": [],
   "source": [
    "dataset.split_data()"
   ]
  },
  {
   "cell_type": "code",
   "execution_count": 4,
   "id": "1334144f-b80f-4f0e-b8a4-5970810c4c7f",
   "metadata": {},
   "outputs": [
    {
     "name": "stdout",
     "output_type": "stream",
     "text": [
      "(31567, 13)\n"
     ]
    }
   ],
   "source": [
    "dataset.preprocess(tukey=True)"
   ]
  },
  {
   "cell_type": "code",
   "execution_count": 5,
   "id": "f2ec0f87-c94a-4d9a-bbc0-0633c77adddf",
   "metadata": {},
   "outputs": [],
   "source": [
    "train = dataset.train\n",
    "test = dataset.test"
   ]
  },
  {
   "cell_type": "code",
   "execution_count": 6,
   "id": "ed6ef9a7-c08e-4f60-a00c-0c1738b3237a",
   "metadata": {},
   "outputs": [
    {
     "name": "stdout",
     "output_type": "stream",
     "text": [
      "train size (31567, 13)\n",
      "test size (9308, 13)\n"
     ]
    }
   ],
   "source": [
    "print(\"train size {}\".format(train.shape))\n",
    "print(\"test size {}\".format(test.shape))"
   ]
  },
  {
   "cell_type": "code",
   "execution_count": 7,
   "id": "9d6c4bff-2e2d-4dad-9d60-d30f42e2dd31",
   "metadata": {},
   "outputs": [
    {
     "data": {
      "text/plain": [
       "23451     40.259740\n",
       "21413     16.666667\n",
       "35209    925.000000\n",
       "8181     112.068966\n",
       "8498      69.000000\n",
       "            ...    \n",
       "21234    206.896552\n",
       "22869    121.666667\n",
       "13368     36.842105\n",
       "33989    918.367347\n",
       "11156    154.285714\n",
       "Name: PricePerM2, Length: 9308, dtype: float64"
      ]
     },
     "execution_count": 7,
     "metadata": {},
     "output_type": "execute_result"
    }
   ],
   "source": [
    "test[\"PricePerM2\"]"
   ]
  },
  {
   "cell_type": "code",
   "execution_count": 8,
   "id": "11cb8cdd-95ef-44bf-969f-bad83780cf37",
   "metadata": {},
   "outputs": [
    {
     "data": {
      "text/html": [
       "<div>\n",
       "<style scoped>\n",
       "    .dataframe tbody tr th:only-of-type {\n",
       "        vertical-align: middle;\n",
       "    }\n",
       "\n",
       "    .dataframe tbody tr th {\n",
       "        vertical-align: top;\n",
       "    }\n",
       "\n",
       "    .dataframe thead th {\n",
       "        text-align: right;\n",
       "    }\n",
       "</style>\n",
       "<table border=\"1\" class=\"dataframe\">\n",
       "  <thead>\n",
       "    <tr style=\"text-align: right;\">\n",
       "      <th></th>\n",
       "      <th>House Direction</th>\n",
       "      <th>Balcony Direction</th>\n",
       "      <th>Toilets</th>\n",
       "      <th>Bedrooms</th>\n",
       "      <th>Legits</th>\n",
       "      <th>Floors</th>\n",
       "      <th>Facade</th>\n",
       "      <th>Entrance</th>\n",
       "      <th>Area</th>\n",
       "      <th>X</th>\n",
       "      <th>Y</th>\n",
       "      <th>Price</th>\n",
       "      <th>PricePerM2</th>\n",
       "    </tr>\n",
       "  </thead>\n",
       "  <tbody>\n",
       "    <tr>\n",
       "      <th>12370</th>\n",
       "      <td>None</td>\n",
       "      <td>None</td>\n",
       "      <td>None</td>\n",
       "      <td>None</td>\n",
       "      <td>+đỏ+hồng</td>\n",
       "      <td>None</td>\n",
       "      <td>-0.425798</td>\n",
       "      <td>0.000000</td>\n",
       "      <td>-0.956980</td>\n",
       "      <td>0.745767</td>\n",
       "      <td>0.967952</td>\n",
       "      <td>4300.0</td>\n",
       "      <td>122.857143</td>\n",
       "    </tr>\n",
       "    <tr>\n",
       "      <th>31494</th>\n",
       "      <td>None</td>\n",
       "      <td>None</td>\n",
       "      <td>None</td>\n",
       "      <td>4</td>\n",
       "      <td>+đỏ+hồng</td>\n",
       "      <td>2</td>\n",
       "      <td>-0.400751</td>\n",
       "      <td>0.000000</td>\n",
       "      <td>0.679464</td>\n",
       "      <td>-0.456448</td>\n",
       "      <td>0.340097</td>\n",
       "      <td>20000.0</td>\n",
       "      <td>243.902439</td>\n",
       "    </tr>\n",
       "    <tr>\n",
       "      <th>5780</th>\n",
       "      <td>None</td>\n",
       "      <td>None</td>\n",
       "      <td>2</td>\n",
       "      <td>2</td>\n",
       "      <td>None</td>\n",
       "      <td>2</td>\n",
       "      <td>-0.400751</td>\n",
       "      <td>-4.397887</td>\n",
       "      <td>-0.782891</td>\n",
       "      <td>-3.062386</td>\n",
       "      <td>0.158826</td>\n",
       "      <td>1400.0</td>\n",
       "      <td>35.000000</td>\n",
       "    </tr>\n",
       "    <tr>\n",
       "      <th>35664</th>\n",
       "      <td>None</td>\n",
       "      <td>None</td>\n",
       "      <td>None</td>\n",
       "      <td>4</td>\n",
       "      <td>+đỏ+hồng</td>\n",
       "      <td>4</td>\n",
       "      <td>2.354412</td>\n",
       "      <td>0.000000</td>\n",
       "      <td>-0.504347</td>\n",
       "      <td>-0.994430</td>\n",
       "      <td>-0.719763</td>\n",
       "      <td>108000.0</td>\n",
       "      <td>2250.000000</td>\n",
       "    </tr>\n",
       "    <tr>\n",
       "      <th>5828</th>\n",
       "      <td>None</td>\n",
       "      <td>đông nam</td>\n",
       "      <td>2</td>\n",
       "      <td>2</td>\n",
       "      <td>+đỏ+hồng</td>\n",
       "      <td>None</td>\n",
       "      <td>0.599249</td>\n",
       "      <td>0.000000</td>\n",
       "      <td>-0.260621</td>\n",
       "      <td>-0.201492</td>\n",
       "      <td>-1.479700</td>\n",
       "      <td>2100.0</td>\n",
       "      <td>38.181818</td>\n",
       "    </tr>\n",
       "  </tbody>\n",
       "</table>\n",
       "</div>"
      ],
      "text/plain": [
       "      House Direction Balcony Direction Toilets Bedrooms    Legits Floors  \\\n",
       "12370            None              None    None     None  +đỏ+hồng   None   \n",
       "31494            None              None    None        4  +đỏ+hồng      2   \n",
       "5780             None              None       2        2      None      2   \n",
       "35664            None              None    None        4  +đỏ+hồng      4   \n",
       "5828             None          đông nam       2        2  +đỏ+hồng   None   \n",
       "\n",
       "         Facade  Entrance      Area         X         Y     Price   PricePerM2  \n",
       "12370 -0.425798  0.000000 -0.956980  0.745767  0.967952    4300.0   122.857143  \n",
       "31494 -0.400751  0.000000  0.679464 -0.456448  0.340097   20000.0   243.902439  \n",
       "5780  -0.400751 -4.397887 -0.782891 -3.062386  0.158826    1400.0    35.000000  \n",
       "35664  2.354412  0.000000 -0.504347 -0.994430 -0.719763  108000.0  2250.000000  \n",
       "5828   0.599249  0.000000 -0.260621 -0.201492 -1.479700    2100.0    38.181818  "
      ]
     },
     "execution_count": 8,
     "metadata": {},
     "output_type": "execute_result"
    }
   ],
   "source": [
    "train.head()"
   ]
  },
  {
   "cell_type": "code",
   "execution_count": 9,
   "id": "e8c89bc5-87e8-40b8-a1d1-0c8f231376b9",
   "metadata": {},
   "outputs": [
    {
     "data": {
      "text/plain": [
       "count    31567.000000\n",
       "mean       575.331537\n",
       "std        702.380200\n",
       "min         10.000000\n",
       "25%         75.000000\n",
       "50%        178.571429\n",
       "75%       1018.350168\n",
       "max       4833.333333\n",
       "Name: PricePerM2, dtype: float64"
      ]
     },
     "execution_count": 9,
     "metadata": {},
     "output_type": "execute_result"
    }
   ],
   "source": [
    "train[\"PricePerM2\"].describe()"
   ]
  },
  {
   "cell_type": "code",
   "execution_count": 10,
   "id": "811a364c-ba4d-41c2-8aae-f5b0eea69d03",
   "metadata": {},
   "outputs": [],
   "source": [
    "train, dev = train_test_split(train, test_size = 0.1)"
   ]
  },
  {
   "cell_type": "code",
   "execution_count": 11,
   "id": "d67e4065-a6b7-4a69-971d-5ecf2edee840",
   "metadata": {},
   "outputs": [],
   "source": [
    "features = train.columns.tolist()\n",
    "features.remove(\"Price\")\n",
    "features.remove(\"PricePerM2\")"
   ]
  },
  {
   "cell_type": "code",
   "execution_count": 12,
   "id": "a3c1204a-5364-498c-a8b4-a647b0065b40",
   "metadata": {},
   "outputs": [],
   "source": [
    "xgb = XGBRegressor(n_estimators = 300, max_depth=20, eta=0.01, gamma=1, tree_method=\"gpu_hist\", subsample=1, objective=\"reg:squarederror\", enable_categorical=True)"
   ]
  },
  {
   "cell_type": "code",
   "execution_count": 13,
   "id": "f047f72f-cfeb-46a0-ac08-fd704c05b22f",
   "metadata": {},
   "outputs": [
    {
     "name": "stderr",
     "output_type": "stream",
     "text": [
      "C:\\Users\\vietdata\\anaconda3\\envs\\ML_env\\lib\\site-packages\\xgboost\\sklearn.py:835: UserWarning: `eval_metric` in `fit` method is deprecated for better compatibility with scikit-learn, use `eval_metric` in constructor or`set_params` instead.\n",
      "  warnings.warn(\n",
      "C:\\Users\\vietdata\\anaconda3\\envs\\ML_env\\lib\\site-packages\\xgboost\\sklearn.py:835: UserWarning: `early_stopping_rounds` in `fit` method is deprecated for better compatibility with scikit-learn, use `early_stopping_rounds` in constructor or`set_params` instead.\n",
      "  warnings.warn(\n"
     ]
    },
    {
     "name": "stdout",
     "output_type": "stream",
     "text": [
      "[0]\tvalidation_0-mape:0.98235\n",
      "[1]\tvalidation_0-mape:0.97115\n",
      "[2]\tvalidation_0-mape:0.96023\n",
      "[3]\tvalidation_0-mape:0.94945\n",
      "[4]\tvalidation_0-mape:0.93881\n",
      "[5]\tvalidation_0-mape:0.92830\n",
      "[6]\tvalidation_0-mape:0.91801\n",
      "[7]\tvalidation_0-mape:0.90791\n",
      "[8]\tvalidation_0-mape:0.89800\n",
      "[9]\tvalidation_0-mape:0.88836\n",
      "[10]\tvalidation_0-mape:0.87902\n",
      "[11]\tvalidation_0-mape:0.86996\n",
      "[12]\tvalidation_0-mape:0.86093\n",
      "[13]\tvalidation_0-mape:0.85207\n",
      "[14]\tvalidation_0-mape:0.84338\n",
      "[15]\tvalidation_0-mape:0.83475\n",
      "[16]\tvalidation_0-mape:0.82642\n",
      "[17]\tvalidation_0-mape:0.81823\n",
      "[18]\tvalidation_0-mape:0.81019\n",
      "[19]\tvalidation_0-mape:0.80240\n",
      "[20]\tvalidation_0-mape:0.79486\n",
      "[21]\tvalidation_0-mape:0.78755\n",
      "[22]\tvalidation_0-mape:0.78024\n",
      "[23]\tvalidation_0-mape:0.77307\n",
      "[24]\tvalidation_0-mape:0.76604\n",
      "[25]\tvalidation_0-mape:0.75916\n",
      "[26]\tvalidation_0-mape:0.75253\n",
      "[27]\tvalidation_0-mape:0.74598\n",
      "[28]\tvalidation_0-mape:0.73970\n",
      "[29]\tvalidation_0-mape:0.73356\n",
      "[30]\tvalidation_0-mape:0.72766\n",
      "[31]\tvalidation_0-mape:0.72177\n",
      "[32]\tvalidation_0-mape:0.71604\n",
      "[33]\tvalidation_0-mape:0.71037\n",
      "[34]\tvalidation_0-mape:0.70474\n",
      "[35]\tvalidation_0-mape:0.69919\n",
      "[36]\tvalidation_0-mape:0.69377\n",
      "[37]\tvalidation_0-mape:0.68842\n",
      "[38]\tvalidation_0-mape:0.68318\n",
      "[39]\tvalidation_0-mape:0.67799\n",
      "[40]\tvalidation_0-mape:0.67288\n",
      "[41]\tvalidation_0-mape:0.66785\n",
      "[42]\tvalidation_0-mape:0.66280\n",
      "[43]\tvalidation_0-mape:0.65798\n",
      "[44]\tvalidation_0-mape:0.65316\n",
      "[45]\tvalidation_0-mape:0.64843\n",
      "[46]\tvalidation_0-mape:0.64350\n",
      "[47]\tvalidation_0-mape:0.63865\n",
      "[48]\tvalidation_0-mape:0.63415\n",
      "[49]\tvalidation_0-mape:0.62876\n",
      "[50]\tvalidation_0-mape:0.62416\n",
      "[51]\tvalidation_0-mape:0.61955\n",
      "[52]\tvalidation_0-mape:0.61532\n",
      "[53]\tvalidation_0-mape:0.61090\n",
      "[54]\tvalidation_0-mape:0.60656\n",
      "[55]\tvalidation_0-mape:0.60234\n",
      "[56]\tvalidation_0-mape:0.59842\n",
      "[57]\tvalidation_0-mape:0.59438\n",
      "[58]\tvalidation_0-mape:0.59043\n",
      "[59]\tvalidation_0-mape:0.58657\n",
      "[60]\tvalidation_0-mape:0.58302\n",
      "[61]\tvalidation_0-mape:0.57950\n",
      "[62]\tvalidation_0-mape:0.57606\n",
      "[63]\tvalidation_0-mape:0.57268\n",
      "[64]\tvalidation_0-mape:0.56940\n",
      "[65]\tvalidation_0-mape:0.56611\n",
      "[66]\tvalidation_0-mape:0.56291\n",
      "[67]\tvalidation_0-mape:0.55980\n",
      "[68]\tvalidation_0-mape:0.55671\n",
      "[69]\tvalidation_0-mape:0.55356\n",
      "[70]\tvalidation_0-mape:0.55045\n",
      "[71]\tvalidation_0-mape:0.54736\n",
      "[72]\tvalidation_0-mape:0.54455\n",
      "[73]\tvalidation_0-mape:0.54159\n",
      "[74]\tvalidation_0-mape:0.53874\n",
      "[75]\tvalidation_0-mape:0.53588\n",
      "[76]\tvalidation_0-mape:0.53328\n",
      "[77]\tvalidation_0-mape:0.53059\n",
      "[78]\tvalidation_0-mape:0.52802\n",
      "[79]\tvalidation_0-mape:0.52544\n",
      "[80]\tvalidation_0-mape:0.52289\n",
      "[81]\tvalidation_0-mape:0.52036\n",
      "[82]\tvalidation_0-mape:0.51795\n",
      "[83]\tvalidation_0-mape:0.51557\n",
      "[84]\tvalidation_0-mape:0.51317\n",
      "[85]\tvalidation_0-mape:0.51069\n",
      "[86]\tvalidation_0-mape:0.50830\n",
      "[87]\tvalidation_0-mape:0.50612\n",
      "[88]\tvalidation_0-mape:0.50379\n",
      "[89]\tvalidation_0-mape:0.50151\n",
      "[90]\tvalidation_0-mape:0.49927\n",
      "[91]\tvalidation_0-mape:0.49719\n",
      "[92]\tvalidation_0-mape:0.49513\n",
      "[93]\tvalidation_0-mape:0.49313\n",
      "[94]\tvalidation_0-mape:0.49120\n",
      "[95]\tvalidation_0-mape:0.48919\n",
      "[96]\tvalidation_0-mape:0.48738\n",
      "[97]\tvalidation_0-mape:0.48548\n",
      "[98]\tvalidation_0-mape:0.48352\n",
      "[99]\tvalidation_0-mape:0.48169\n",
      "[100]\tvalidation_0-mape:0.47995\n",
      "[101]\tvalidation_0-mape:0.47842\n",
      "[102]\tvalidation_0-mape:0.47666\n",
      "[103]\tvalidation_0-mape:0.47497\n",
      "[104]\tvalidation_0-mape:0.47340\n",
      "[105]\tvalidation_0-mape:0.47186\n",
      "[106]\tvalidation_0-mape:0.47037\n",
      "[107]\tvalidation_0-mape:0.46889\n",
      "[108]\tvalidation_0-mape:0.46756\n",
      "[109]\tvalidation_0-mape:0.46609\n",
      "[110]\tvalidation_0-mape:0.46463\n",
      "[111]\tvalidation_0-mape:0.46326\n",
      "[112]\tvalidation_0-mape:0.46204\n",
      "[113]\tvalidation_0-mape:0.46073\n",
      "[114]\tvalidation_0-mape:0.45951\n",
      "[115]\tvalidation_0-mape:0.45832\n",
      "[116]\tvalidation_0-mape:0.45701\n",
      "[117]\tvalidation_0-mape:0.45586\n",
      "[118]\tvalidation_0-mape:0.45472\n",
      "[119]\tvalidation_0-mape:0.45360\n",
      "[120]\tvalidation_0-mape:0.45251\n",
      "[121]\tvalidation_0-mape:0.45156\n",
      "[122]\tvalidation_0-mape:0.45058\n",
      "[123]\tvalidation_0-mape:0.44954\n",
      "[124]\tvalidation_0-mape:0.44856\n",
      "[125]\tvalidation_0-mape:0.44762\n",
      "[126]\tvalidation_0-mape:0.44689\n",
      "[127]\tvalidation_0-mape:0.44603\n",
      "[128]\tvalidation_0-mape:0.44519\n",
      "[129]\tvalidation_0-mape:0.44437\n",
      "[130]\tvalidation_0-mape:0.44372\n",
      "[131]\tvalidation_0-mape:0.44290\n",
      "[132]\tvalidation_0-mape:0.44212\n",
      "[133]\tvalidation_0-mape:0.44140\n",
      "[134]\tvalidation_0-mape:0.44069\n",
      "[135]\tvalidation_0-mape:0.43994\n",
      "[136]\tvalidation_0-mape:0.43922\n",
      "[137]\tvalidation_0-mape:0.43851\n",
      "[138]\tvalidation_0-mape:0.43789\n",
      "[139]\tvalidation_0-mape:0.43724\n",
      "[140]\tvalidation_0-mape:0.43658\n",
      "[141]\tvalidation_0-mape:0.43591\n",
      "[142]\tvalidation_0-mape:0.43538\n",
      "[143]\tvalidation_0-mape:0.43478\n",
      "[144]\tvalidation_0-mape:0.43423\n",
      "[145]\tvalidation_0-mape:0.43369\n",
      "[146]\tvalidation_0-mape:0.43327\n",
      "[147]\tvalidation_0-mape:0.43273\n",
      "[148]\tvalidation_0-mape:0.43226\n",
      "[149]\tvalidation_0-mape:0.43185\n",
      "[150]\tvalidation_0-mape:0.43150\n",
      "[151]\tvalidation_0-mape:0.43123\n",
      "[152]\tvalidation_0-mape:0.43081\n",
      "[153]\tvalidation_0-mape:0.43051\n",
      "[154]\tvalidation_0-mape:0.43006\n",
      "[155]\tvalidation_0-mape:0.42968\n",
      "[156]\tvalidation_0-mape:0.42945\n",
      "[157]\tvalidation_0-mape:0.42910\n",
      "[158]\tvalidation_0-mape:0.42880\n",
      "[159]\tvalidation_0-mape:0.42850\n",
      "[160]\tvalidation_0-mape:0.42821\n",
      "[161]\tvalidation_0-mape:0.42788\n",
      "[162]\tvalidation_0-mape:0.42757\n",
      "[163]\tvalidation_0-mape:0.42731\n",
      "[164]\tvalidation_0-mape:0.42704\n",
      "[165]\tvalidation_0-mape:0.42679\n",
      "[166]\tvalidation_0-mape:0.42658\n",
      "[167]\tvalidation_0-mape:0.42644\n",
      "[168]\tvalidation_0-mape:0.42625\n",
      "[169]\tvalidation_0-mape:0.42615\n",
      "[170]\tvalidation_0-mape:0.42605\n",
      "[171]\tvalidation_0-mape:0.42593\n",
      "[172]\tvalidation_0-mape:0.42589\n",
      "[173]\tvalidation_0-mape:0.42584\n",
      "[174]\tvalidation_0-mape:0.42572\n",
      "[175]\tvalidation_0-mape:0.42567\n",
      "[176]\tvalidation_0-mape:0.42558\n",
      "[177]\tvalidation_0-mape:0.42556\n",
      "[178]\tvalidation_0-mape:0.42547\n",
      "[179]\tvalidation_0-mape:0.42540\n",
      "[180]\tvalidation_0-mape:0.42536\n",
      "[181]\tvalidation_0-mape:0.42529\n",
      "[182]\tvalidation_0-mape:0.42527\n",
      "[183]\tvalidation_0-mape:0.42518\n",
      "[184]\tvalidation_0-mape:0.42515\n",
      "[185]\tvalidation_0-mape:0.42512\n",
      "[186]\tvalidation_0-mape:0.42507\n",
      "[187]\tvalidation_0-mape:0.42503\n",
      "[188]\tvalidation_0-mape:0.42504\n",
      "[189]\tvalidation_0-mape:0.42501\n",
      "[190]\tvalidation_0-mape:0.42501\n",
      "[191]\tvalidation_0-mape:0.42505\n",
      "[192]\tvalidation_0-mape:0.42507\n",
      "[193]\tvalidation_0-mape:0.42512\n",
      "[194]\tvalidation_0-mape:0.42512\n",
      "[195]\tvalidation_0-mape:0.42519\n",
      "[196]\tvalidation_0-mape:0.42524\n",
      "[197]\tvalidation_0-mape:0.42529\n",
      "[198]\tvalidation_0-mape:0.42538\n",
      "[199]\tvalidation_0-mape:0.42547\n",
      "[200]\tvalidation_0-mape:0.42546\n",
      "[201]\tvalidation_0-mape:0.42556\n",
      "[202]\tvalidation_0-mape:0.42565\n",
      "[203]\tvalidation_0-mape:0.42570\n",
      "[204]\tvalidation_0-mape:0.42578\n",
      "[205]\tvalidation_0-mape:0.42591\n",
      "[206]\tvalidation_0-mape:0.42599\n",
      "[207]\tvalidation_0-mape:0.42610\n",
      "[208]\tvalidation_0-mape:0.42621\n",
      "[209]\tvalidation_0-mape:0.42631\n"
     ]
    },
    {
     "data": {
      "text/plain": [
       "XGBRegressor(base_score=None, booster=None, callbacks=None,\n",
       "             colsample_bylevel=None, colsample_bynode=None,\n",
       "             colsample_bytree=None, early_stopping_rounds=None,\n",
       "             enable_categorical=True, eta=0.01, eval_metric=None,\n",
       "             feature_types=None, gamma=1, gpu_id=None, grow_policy=None,\n",
       "             importance_type=None, interaction_constraints=None,\n",
       "             learning_rate=None, max_bin=None, max_cat_threshold=None,\n",
       "             max_cat_to_onehot=None, max_delta_step=None, max_depth=20,\n",
       "             max_leaves=None, min_child_weight=None, missing=nan,\n",
       "             monotone_constraints=None, n_estimators=300, n_jobs=None,\n",
       "             num_parallel_tree=None, predictor=None, ...)"
      ]
     },
     "execution_count": 13,
     "metadata": {},
     "output_type": "execute_result"
    }
   ],
   "source": [
    "xgb.fit(train[features], train[\"PricePerM2\"], eval_set=[(dev[features], dev[\"PricePerM2\"])], eval_metric=\"mape\", early_stopping_rounds=20)"
   ]
  },
  {
   "cell_type": "code",
   "execution_count": 14,
   "id": "f247839e-0f73-4933-881d-981088b665eb",
   "metadata": {},
   "outputs": [
    {
     "data": {
      "text/plain": [
       "<matplotlib.legend.Legend at 0x1d24c971d50>"
      ]
     },
     "execution_count": 14,
     "metadata": {},
     "output_type": "execute_result"
    },
    {
     "data": {
      "image/png": "[encoded data removed]",
      "text/plain": [
       "<Figure size 432x288 with 1 Axes>"
      ]
     },
     "metadata": {
      "needs_background": "light"
     },
     "output_type": "display_data"
    }
   ],
   "source": [
    "results = xgb.evals_result()\n",
    "#plt.plot(results[\"validation_0\"][\"mape\"], c= \"b\", label=\"train metric\")\n",
    "plt.plot(results[\"validation_0\"][\"mape\"], c= \"orange\", label=\"test metric\")\n",
    "plt.legend()"
   ]
  },
  {
   "cell_type": "code",
   "execution_count": 15,
   "id": "89cf004f-da26-4446-8c9f-9ed2da396641",
   "metadata": {},
   "outputs": [
    {
     "name": "stdout",
     "output_type": "stream",
     "text": [
      "0.4495373008252382\n"
     ]
    }
   ],
   "source": [
    "pred = xgb.predict(test[features])\n",
    "print(mape(test[\"PricePerM2\"], pred))"
   ]
  },
  {
   "cell_type": "code",
   "execution_count": 34,
   "id": "b2ed752f-c0d5-4305-bb4f-7581bc11fbfb",
   "metadata": {},
   "outputs": [
    {
     "data": {
      "text/plain": [
       "(array([5522.,  528., 1560.,  934.,  623.,  311.,   47.,   31.,    6.,\n",
       "          10.]),\n",
       " array([ 0.49778572,  4.5124736 ,  8.527162  , 12.541849  , 16.556538  ,\n",
       "        20.571226  , 24.585913  , 28.600601  , 32.615288  , 36.62998   ,\n",
       "        40.644665  ], dtype=float32),\n",
       " <BarContainer object of 10 artists>)"
      ]
     },
     "execution_count": 34,
     "metadata": {},
     "output_type": "execute_result"
    },
    {
     "data": {
      "image/png": "[encoded data removed]",
      "text/plain": [
       "<Figure size 432x288 with 1 Axes>"
      ]
     },
     "metadata": {
      "needs_background": "light"
     },
     "output_type": "display_data"
    }
   ],
   "source": [
    "plt.hist(pred)"
   ]
  },
  {
   "cell_type": "code",
   "execution_count": 17,
   "id": "b201d610-6188-4fee-ad7b-400294b01bf3",
   "metadata": {},
   "outputs": [
    {
     "data": {
      "text/plain": [
       "count     9557.000000\n",
       "mean       893.671987\n",
       "std       1272.235083\n",
       "min          0.024000\n",
       "25%         86.842105\n",
       "50%        240.000000\n",
       "75%       1300.000000\n",
       "max      10000.000000\n",
       "Name: PricePerM2, dtype: float64"
      ]
     },
     "execution_count": 17,
     "metadata": {},
     "output_type": "execute_result"
    }
   ],
   "source": [
    "test[\"PricePerM2\"].describe()"
   ]
  },
  {
   "cell_type": "code",
   "execution_count": 20,
   "id": "4d1154a5-a72e-451c-bd7a-199ce6c7b921",
   "metadata": {},
   "outputs": [
    {
     "name": "stdout",
     "output_type": "stream",
     "text": [
      "-0.0019258128781889372\n"
     ]
    }
   ],
   "source": [
    "pred = xgb.predict(test[features])\n",
    "print(r2_score(test[\"PricePerM2\"], pred))\n"
   ]
  },
  {
   "cell_type": "code",
   "execution_count": 31,
   "id": "8a029453-0f4e-48fa-abcc-0937ede6b4da",
   "metadata": {},
   "outputs": [
    {
     "data": {
      "text/plain": [
       "(array([9.492e+03, 8.000e+01, 1.900e+01, 5.000e+00, 3.000e+00, 3.000e+00,\n",
       "        0.000e+00, 0.000e+00, 0.000e+00, 0.000e+00, 0.000e+00, 0.000e+00,\n",
       "        0.000e+00, 0.000e+00, 0.000e+00, 0.000e+00, 0.000e+00, 0.000e+00,\n",
       "        0.000e+00, 1.000e+00]),\n",
       " array([-2.73714905e+01,  1.25797259e+06,  2.51597256e+06,  3.77397252e+06,\n",
       "         5.03197249e+06,  6.28997245e+06,  7.54797242e+06,  8.80597238e+06,\n",
       "         1.00639723e+07,  1.13219723e+07,  1.25799723e+07,  1.38379722e+07,\n",
       "         1.50959722e+07,  1.63539722e+07,  1.76119721e+07,  1.88699721e+07,\n",
       "         2.01279721e+07,  2.13859720e+07,  2.26439720e+07,  2.39019720e+07,\n",
       "         2.51599719e+07]),\n",
       " <BarContainer object of 20 artists>)"
      ]
     },
     "execution_count": 31,
     "metadata": {},
     "output_type": "execute_result"
    },
    {
     "data": {
      "image/png": "[encoded data removed]",
      "text/plain": [
       "<Figure size 432x288 with 1 Axes>"
      ]
     },
     "metadata": {
      "needs_background": "light"
     },
     "output_type": "display_data"
    }
   ],
   "source": [
    "plt.hist(test[\"Price\"].values-pred, bins=20)"
   ]
  },
  {
   "cell_type": "code",
   "execution_count": null,
   "id": "62d7ad0e-07ab-4253-9ef8-52520a8763b7",
   "metadata": {},
   "outputs": [],
   "source": [
    "X_embedded = TSNE(n_components=2, learning_rate='auto',\n",
    "                   init='random', perplexity=3).fit_transform(pd.get_dummies(train[features]).values)"
   ]
  },
  {
   "cell_type": "code",
   "execution_count": 40,
   "id": "2923a6b8-9fe2-4cff-a8ce-e329a696637a",
   "metadata": {},
   "outputs": [
    {
     "data": {
      "text/plain": [
       "<matplotlib.collections.PathCollection at 0x28e8df37d00>"
      ]
     },
     "execution_count": 40,
     "metadata": {},
     "output_type": "execute_result"
    },
    {
     "data": {
      "image/png": "[encoded data removed]",
      "text/plain": [
       "<Figure size 432x288 with 1 Axes>"
      ]
     },
     "metadata": {
      "needs_background": "light"
     },
     "output_type": "display_data"
    }
   ],
   "source": [
    "a, b = list(zip(*X_embedded))\n",
    "plt.scatter(a[:1000],b[:1000])"
   ]
  },
  {
   "cell_type": "code",
   "execution_count": 362,
   "id": "eaf4cc4a-c2ad-4589-96ab-73f72e7f4db8",
   "metadata": {},
   "outputs": [
    {
     "data": {
      "text/plain": [
       "(array([ 6088., 11138.,  5496.,  3396.,  1929.,  1215.,   697.,   575.,\n",
       "          341.,   219.]),\n",
       " array([ 20.5 ,  38.35,  56.2 ,  74.05,  91.9 , 109.75, 127.6 , 145.45,\n",
       "        163.3 , 181.15, 199.  ]),\n",
       " <BarContainer object of 10 artists>)"
      ]
     },
     "execution_count": 362,
     "metadata": {},
     "output_type": "execute_result"
    },
    {
     "data": {
      "image/png": "[encoded data removed]",
      "text/plain": [
       "<Figure size 432x288 with 1 Axes>"
      ]
     },
     "metadata": {
      "needs_background": "light"
     },
     "output_type": "display_data"
    }
   ],
   "source": [
    "plt.hist(data[\"Area\"][(data[\"Area\"] > 20) & (data[\"Area\"] <200)], bins=10)"
   ]
  },
  {
   "cell_type": "code",
   "execution_count": 363,
   "id": "48d79662-abba-4da1-8ffd-b7b928438475",
   "metadata": {},
   "outputs": [
    {
     "data": {
      "text/plain": [
       "0        80.0\n",
       "1        78.0\n",
       "2        48.0\n",
       "3        43.0\n",
       "4        35.0\n",
       "         ... \n",
       "34951    54.0\n",
       "34952    75.0\n",
       "34953    40.0\n",
       "34954    42.0\n",
       "34955    50.0\n",
       "Name: Area, Length: 31094, dtype: float64"
      ]
     },
     "execution_count": 363,
     "metadata": {},
     "output_type": "execute_result"
    }
   ],
   "source": [
    "data[\"Area\"][(data[\"Area\"] > 20) & (data[\"Area\"] <200)]"
   ]
  },
  {
   "cell_type": "code",
   "execution_count": 492,
   "id": "41b5f03f-7664-4fce-b909-e2117a30abb8",
   "metadata": {},
   "outputs": [
    {
     "data": {
      "text/plain": [
       "<AxesSubplot:ylabel='Frequency'>"
      ]
     },
     "execution_count": 492,
     "metadata": {},
     "output_type": "execute_result"
    },
    {
     "data": {
      "image/png": "[encoded data removed]",
      "text/plain": [
       "<Figure size 432x288 with 1 Axes>"
      ]
     },
     "metadata": {
      "needs_background": "light"
     },
     "output_type": "display_data"
    }
   ],
   "source": [
    "data[\"Price\"].plot(kind=\"hist\")"
   ]
  },
  {
   "cell_type": "code",
   "execution_count": 391,
   "id": "e0c42ec1-ad60-476b-bc84-26a547647e67",
   "metadata": {},
   "outputs": [
    {
     "data": {
      "text/html": [
       "<div>\n",
       "<style scoped>\n",
       "    .dataframe tbody tr th:only-of-type {\n",
       "        vertical-align: middle;\n",
       "    }\n",
       "\n",
       "    .dataframe tbody tr th {\n",
       "        vertical-align: top;\n",
       "    }\n",
       "\n",
       "    .dataframe thead th {\n",
       "        text-align: right;\n",
       "    }\n",
       "</style>\n",
       "<table border=\"1\" class=\"dataframe\">\n",
       "  <thead>\n",
       "    <tr style=\"text-align: right;\">\n",
       "      <th></th>\n",
       "      <th>House Direction</th>\n",
       "      <th>Balcony Direction</th>\n",
       "      <th>Bedrooms</th>\n",
       "      <th>Toilets</th>\n",
       "      <th>Legits</th>\n",
       "      <th>Floors</th>\n",
       "      <th>Facade</th>\n",
       "      <th>Entrance</th>\n",
       "      <th>District</th>\n",
       "      <th>Area</th>\n",
       "      <th>Price</th>\n",
       "    </tr>\n",
       "  </thead>\n",
       "  <tbody>\n",
       "    <tr>\n",
       "      <th>13890</th>\n",
       "      <td>None</td>\n",
       "      <td>None</td>\n",
       "      <td>6</td>\n",
       "      <td>None</td>\n",
       "      <td>+đỏ+hồng</td>\n",
       "      <td>3</td>\n",
       "      <td>17.0</td>\n",
       "      <td>3.0</td>\n",
       "      <td>nam từ liêm</td>\n",
       "      <td>180.0</td>\n",
       "      <td>330000.0</td>\n",
       "    </tr>\n",
       "    <tr>\n",
       "      <th>13908</th>\n",
       "      <td>None</td>\n",
       "      <td>None</td>\n",
       "      <td>4</td>\n",
       "      <td>None</td>\n",
       "      <td>+đỏ+hồng</td>\n",
       "      <td>4</td>\n",
       "      <td>5.0</td>\n",
       "      <td>3.0</td>\n",
       "      <td>hoàn kiếm</td>\n",
       "      <td>130.0</td>\n",
       "      <td>330000.0</td>\n",
       "    </tr>\n",
       "    <tr>\n",
       "      <th>13931</th>\n",
       "      <td>None</td>\n",
       "      <td>None</td>\n",
       "      <td>10+</td>\n",
       "      <td>None</td>\n",
       "      <td>+đỏ+hồng</td>\n",
       "      <td>9</td>\n",
       "      <td>5.0</td>\n",
       "      <td>3.0</td>\n",
       "      <td>ba đình</td>\n",
       "      <td>89.0</td>\n",
       "      <td>320000.0</td>\n",
       "    </tr>\n",
       "    <tr>\n",
       "      <th>14000</th>\n",
       "      <td>None</td>\n",
       "      <td>None</td>\n",
       "      <td>8</td>\n",
       "      <td>None</td>\n",
       "      <td>None</td>\n",
       "      <td>8</td>\n",
       "      <td>5.0</td>\n",
       "      <td>3.0</td>\n",
       "      <td>đống đa</td>\n",
       "      <td>90.0</td>\n",
       "      <td>330000.0</td>\n",
       "    </tr>\n",
       "    <tr>\n",
       "      <th>14042</th>\n",
       "      <td>None</td>\n",
       "      <td>None</td>\n",
       "      <td>5</td>\n",
       "      <td>None</td>\n",
       "      <td>+đỏ+hồng</td>\n",
       "      <td>7</td>\n",
       "      <td>7.0</td>\n",
       "      <td>3.0</td>\n",
       "      <td>cầu giấy</td>\n",
       "      <td>120.0</td>\n",
       "      <td>324000.0</td>\n",
       "    </tr>\n",
       "    <tr>\n",
       "      <th>...</th>\n",
       "      <td>...</td>\n",
       "      <td>...</td>\n",
       "      <td>...</td>\n",
       "      <td>...</td>\n",
       "      <td>...</td>\n",
       "      <td>...</td>\n",
       "      <td>...</td>\n",
       "      <td>...</td>\n",
       "      <td>...</td>\n",
       "      <td>...</td>\n",
       "      <td>...</td>\n",
       "    </tr>\n",
       "    <tr>\n",
       "      <th>34836</th>\n",
       "      <td>None</td>\n",
       "      <td>None</td>\n",
       "      <td>5</td>\n",
       "      <td>None</td>\n",
       "      <td>+đỏ+hồng</td>\n",
       "      <td>5</td>\n",
       "      <td>30.0</td>\n",
       "      <td>3.0</td>\n",
       "      <td>cầu giấy</td>\n",
       "      <td>56.0</td>\n",
       "      <td>310000.0</td>\n",
       "    </tr>\n",
       "    <tr>\n",
       "      <th>34842</th>\n",
       "      <td>None</td>\n",
       "      <td>None</td>\n",
       "      <td>3</td>\n",
       "      <td>None</td>\n",
       "      <td>+đỏ+hồng</td>\n",
       "      <td>5</td>\n",
       "      <td>2.0</td>\n",
       "      <td>3.0</td>\n",
       "      <td>long biên</td>\n",
       "      <td>35.0</td>\n",
       "      <td>310000.0</td>\n",
       "    </tr>\n",
       "    <tr>\n",
       "      <th>34904</th>\n",
       "      <td>None</td>\n",
       "      <td>None</td>\n",
       "      <td>10+</td>\n",
       "      <td>None</td>\n",
       "      <td>+đỏ+hồng</td>\n",
       "      <td>8</td>\n",
       "      <td>8.0</td>\n",
       "      <td>3.0</td>\n",
       "      <td>cầu giấy</td>\n",
       "      <td>110.0</td>\n",
       "      <td>340000.0</td>\n",
       "    </tr>\n",
       "    <tr>\n",
       "      <th>34910</th>\n",
       "      <td>None</td>\n",
       "      <td>None</td>\n",
       "      <td>8</td>\n",
       "      <td>None</td>\n",
       "      <td>+đỏ+hồng</td>\n",
       "      <td>5</td>\n",
       "      <td>10.0</td>\n",
       "      <td>3.0</td>\n",
       "      <td>cầu giấy</td>\n",
       "      <td>100.0</td>\n",
       "      <td>320000.0</td>\n",
       "    </tr>\n",
       "    <tr>\n",
       "      <th>34914</th>\n",
       "      <td>None</td>\n",
       "      <td>None</td>\n",
       "      <td>6</td>\n",
       "      <td>None</td>\n",
       "      <td>+đỏ+hồng</td>\n",
       "      <td>4</td>\n",
       "      <td>6.0</td>\n",
       "      <td>3.0</td>\n",
       "      <td>cầu giấy</td>\n",
       "      <td>185.0</td>\n",
       "      <td>320000.0</td>\n",
       "    </tr>\n",
       "  </tbody>\n",
       "</table>\n",
       "<p>752 rows × 11 columns</p>\n",
       "</div>"
      ],
      "text/plain": [
       "      House Direction Balcony Direction Bedrooms Toilets    Legits Floors  \\\n",
       "13890            None              None        6    None  +đỏ+hồng      3   \n",
       "13908            None              None        4    None  +đỏ+hồng      4   \n",
       "13931            None              None      10+    None  +đỏ+hồng      9   \n",
       "14000            None              None        8    None      None      8   \n",
       "14042            None              None        5    None  +đỏ+hồng      7   \n",
       "...               ...               ...      ...     ...       ...    ...   \n",
       "34836            None              None        5    None  +đỏ+hồng      5   \n",
       "34842            None              None        3    None  +đỏ+hồng      5   \n",
       "34904            None              None      10+    None  +đỏ+hồng      8   \n",
       "34910            None              None        8    None  +đỏ+hồng      5   \n",
       "34914            None              None        6    None  +đỏ+hồng      4   \n",
       "\n",
       "       Facade  Entrance     District   Area     Price  \n",
       "13890    17.0       3.0  nam từ liêm  180.0  330000.0  \n",
       "13908     5.0       3.0    hoàn kiếm  130.0  330000.0  \n",
       "13931     5.0       3.0      ba đình   89.0  320000.0  \n",
       "14000     5.0       3.0      đống đa   90.0  330000.0  \n",
       "14042     7.0       3.0     cầu giấy  120.0  324000.0  \n",
       "...       ...       ...          ...    ...       ...  \n",
       "34836    30.0       3.0     cầu giấy   56.0  310000.0  \n",
       "34842     2.0       3.0    long biên   35.0  310000.0  \n",
       "34904     8.0       3.0     cầu giấy  110.0  340000.0  \n",
       "34910    10.0       3.0     cầu giấy  100.0  320000.0  \n",
       "34914     6.0       3.0     cầu giấy  185.0  320000.0  \n",
       "\n",
       "[752 rows x 11 columns]"
      ]
     },
     "execution_count": 391,
     "metadata": {},
     "output_type": "execute_result"
    }
   ],
   "source": [
    "data[data[\"Price\"] > 300000]"
   ]
  },
  {
   "cell_type": "code",
   "execution_count": null,
   "id": "98edbd49-59a6-4510-93cd-9ceb22b966a9",
   "metadata": {},
   "outputs": [],
   "source": [
    "data[\"Price\"]/data[\"Area\"]"
   ]
  }
 ],
 "metadata": {
  "kernelspec": {
   "display_name": "Python 3 (ipykernel)",
   "language": "python",
   "name": "python3"
  },
  "language_info": {
   "codemirror_mode": {
    "name": "ipython",
    "version": 3
   },
   "file_extension": ".py",
   "mimetype": "text/x-python",
   "name": "python",
   "nbconvert_exporter": "python",
   "pygments_lexer": "ipython3",
   "version": "3.10.4"
  }
 },
 "nbformat": 4,
 "nbformat_minor": 5
}
