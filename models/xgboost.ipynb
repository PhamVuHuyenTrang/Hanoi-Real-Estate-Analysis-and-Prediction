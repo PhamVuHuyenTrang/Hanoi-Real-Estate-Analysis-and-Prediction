{
 "cells": [
  {
   "cell_type": "code",
   "execution_count": 54,
   "id": "4bad0642-40c5-4c94-bf7a-c988ad135136",
   "metadata": {},
   "outputs": [],
   "source": [
    "import pandas as pd\n",
    "import numpy as np\n",
    "from xgboost import XGBRegressor\n",
    "from sklearn.model_selection import train_test_split\n",
    "from sklearn.metrics import mean_absolute_percentage_error as mape\n",
    "from matplotlib import pyplot as plt\n",
    "from sklearn.preprocessing import LabelEncoder\n",
    "from sklearn.manifold import TSNE\n",
    "import time\n",
    "from sklearn.preprocessing import MinMaxScaler, StandardScaler, RobustScaler\n",
    "from sklearn.decomposition import PCA"
   ]
  },
  {
   "cell_type": "code",
   "execution_count": 87,
   "id": "4ec5b6a4-9ca7-47cd-a090-1e2f62ce1ca8",
   "metadata": {},
   "outputs": [],
   "source": [
    "data = pd.read_csv(\"final.csv\")"
   ]
  },
  {
   "cell_type": "code",
   "execution_count": 88,
   "id": "82ce1243-0c08-4618-8215-fdc51707edea",
   "metadata": {},
   "outputs": [],
   "source": [
    "data = data[(data[\"Area\"] > data[\"Area\"].quantile(0.05)) & (data[\"Area\"] <data[\"Area\"].quantile(0.95))]\n",
    "data[\"Area\"].fillna(value=data[\"Area\"].mean(), inplace=True)"
   ]
  },
  {
   "cell_type": "code",
   "execution_count": 89,
   "id": "8aad4109-1814-4dfd-a791-eb4e06bfd9b9",
   "metadata": {},
   "outputs": [
    {
     "data": {
      "text/plain": [
       "Index(['index', 'House Direction', 'Balcony Direction', 'Bedrooms', 'Toilets',\n",
       "       'Legits', 'Floors', 'Facade', 'Entrance', 'District', 'Ward', 'Street',\n",
       "       'Area', 'Price', 'X', 'Y'],\n",
       "      dtype='object')"
      ]
     },
     "execution_count": 89,
     "metadata": {},
     "output_type": "execute_result"
    }
   ],
   "source": [
    "data.columns"
   ]
  },
  {
   "cell_type": "code",
   "execution_count": 90,
   "id": "8b98d7e0-1116-48f2-997f-f9122a949ed5",
   "metadata": {},
   "outputs": [],
   "source": [
    "data[\"Price\"] = data[\"Price\"]/data[\"Area\"]"
   ]
  },
  {
   "cell_type": "code",
   "execution_count": 91,
   "id": "8dc78028-d6f9-440f-ad2e-7c18601bdb8c",
   "metadata": {},
   "outputs": [],
   "source": [
    "data = data[['House Direction', 'Balcony Direction', 'Toilets','Bedrooms', \n",
    "       'Legits', 'Floors', 'Facade', 'Entrance', 'X', 'Y',\n",
    "        'Price']]"
   ]
  },
  {
   "cell_type": "code",
   "execution_count": 92,
   "id": "dc168c2c-8351-4ff3-a8d9-9be2012ae5a1",
   "metadata": {},
   "outputs": [
    {
     "data": {
      "text/html": [
       "<div>\n",
       "<style scoped>\n",
       "    .dataframe tbody tr th:only-of-type {\n",
       "        vertical-align: middle;\n",
       "    }\n",
       "\n",
       "    .dataframe tbody tr th {\n",
       "        vertical-align: top;\n",
       "    }\n",
       "\n",
       "    .dataframe thead th {\n",
       "        text-align: right;\n",
       "    }\n",
       "</style>\n",
       "<table border=\"1\" class=\"dataframe\">\n",
       "  <thead>\n",
       "    <tr style=\"text-align: right;\">\n",
       "      <th></th>\n",
       "      <th>House Direction</th>\n",
       "      <th>Balcony Direction</th>\n",
       "      <th>Toilets</th>\n",
       "      <th>Bedrooms</th>\n",
       "      <th>Legits</th>\n",
       "      <th>Floors</th>\n",
       "      <th>Facade</th>\n",
       "      <th>Entrance</th>\n",
       "      <th>X</th>\n",
       "      <th>Y</th>\n",
       "      <th>Price</th>\n",
       "    </tr>\n",
       "  </thead>\n",
       "  <tbody>\n",
       "    <tr>\n",
       "      <th>0</th>\n",
       "      <td>None</td>\n",
       "      <td>None</td>\n",
       "      <td>6</td>\n",
       "      <td>6</td>\n",
       "      <td>+đỏ</td>\n",
       "      <td>6</td>\n",
       "      <td>5.1</td>\n",
       "      <td>30.0</td>\n",
       "      <td>21.024039</td>\n",
       "      <td>105.824232</td>\n",
       "      <td>350.000000</td>\n",
       "    </tr>\n",
       "    <tr>\n",
       "      <th>1</th>\n",
       "      <td>None</td>\n",
       "      <td>None</td>\n",
       "      <td>4</td>\n",
       "      <td>6</td>\n",
       "      <td>+đỏ</td>\n",
       "      <td>5</td>\n",
       "      <td>4.6</td>\n",
       "      <td>NaN</td>\n",
       "      <td>20.969225</td>\n",
       "      <td>105.774632</td>\n",
       "      <td>78.205128</td>\n",
       "    </tr>\n",
       "    <tr>\n",
       "      <th>2</th>\n",
       "      <td>None</td>\n",
       "      <td>None</td>\n",
       "      <td>3</td>\n",
       "      <td>4</td>\n",
       "      <td>+đỏ+hồng</td>\n",
       "      <td>4</td>\n",
       "      <td>5.0</td>\n",
       "      <td>NaN</td>\n",
       "      <td>20.969225</td>\n",
       "      <td>105.774632</td>\n",
       "      <td>129.166667</td>\n",
       "    </tr>\n",
       "    <tr>\n",
       "      <th>3</th>\n",
       "      <td>None</td>\n",
       "      <td>None</td>\n",
       "      <td>3</td>\n",
       "      <td>4</td>\n",
       "      <td>+đỏ</td>\n",
       "      <td>4</td>\n",
       "      <td>4.0</td>\n",
       "      <td>NaN</td>\n",
       "      <td>20.979725</td>\n",
       "      <td>105.790661</td>\n",
       "      <td>88.372093</td>\n",
       "    </tr>\n",
       "    <tr>\n",
       "      <th>4</th>\n",
       "      <td>None</td>\n",
       "      <td>None</td>\n",
       "      <td>4</td>\n",
       "      <td>3</td>\n",
       "      <td>+đỏ+hồng</td>\n",
       "      <td>5</td>\n",
       "      <td>4.0</td>\n",
       "      <td>2.5</td>\n",
       "      <td>21.011045</td>\n",
       "      <td>105.767012</td>\n",
       "      <td>114.285714</td>\n",
       "    </tr>\n",
       "  </tbody>\n",
       "</table>\n",
       "</div>"
      ],
      "text/plain": [
       "  House Direction Balcony Direction Toilets Bedrooms    Legits Floors  Facade  \\\n",
       "0            None              None       6        6       +đỏ      6     5.1   \n",
       "1            None              None       4        6       +đỏ      5     4.6   \n",
       "2            None              None       3        4  +đỏ+hồng      4     5.0   \n",
       "3            None              None       3        4       +đỏ      4     4.0   \n",
       "4            None              None       4        3  +đỏ+hồng      5     4.0   \n",
       "\n",
       "   Entrance          X           Y       Price  \n",
       "0      30.0  21.024039  105.824232  350.000000  \n",
       "1       NaN  20.969225  105.774632   78.205128  \n",
       "2       NaN  20.969225  105.774632  129.166667  \n",
       "3       NaN  20.979725  105.790661   88.372093  \n",
       "4       2.5  21.011045  105.767012  114.285714  "
      ]
     },
     "execution_count": 92,
     "metadata": {},
     "output_type": "execute_result"
    }
   ],
   "source": [
    "data.head()"
   ]
  },
  {
   "cell_type": "code",
   "execution_count": 93,
   "id": "c783bed3-8fd7-4c3c-bac6-a575b15ebaa8",
   "metadata": {},
   "outputs": [
    {
     "data": {
      "text/plain": [
       "count    28079.000000\n",
       "mean      1026.074038\n",
       "std        930.900554\n",
       "min         55.111111\n",
       "25%        171.428571\n",
       "50%        878.378378\n",
       "75%       1563.564214\n",
       "max       3955.223881\n",
       "Name: Price, dtype: float64"
      ]
     },
     "execution_count": 93,
     "metadata": {},
     "output_type": "execute_result"
    }
   ],
   "source": [
    "data = data[data[\"Price\"] > data.Price.quantile(0.05)]\n",
    "data = data[data[\"Price\"] < data.Price.quantile(0.95)]\n",
    "data.Price.describe()"
   ]
  },
  {
   "cell_type": "markdown",
   "id": "807544e9-7f0e-4382-9832-a1738850451e",
   "metadata": {},
   "source": [
    "IQR = data.Price.quantile(0.75) - data.Price.quantile(0.25)\n",
    "Lower_fence = data.Price.quantile(0.25) - (IQR * 3)\n",
    "Upper_fence = data.Price.quantile(0.75) + (IQR * 3)\n",
    "\n",
    "data = data[(data.Price >= Lower_fence) & (data.Price <= Upper_fence)]\n",
    "data.Price.describe()"
   ]
  },
  {
   "cell_type": "code",
   "execution_count": 111,
   "id": "9496d61f-3567-4169-8c6b-78c1d1ff9987",
   "metadata": {},
   "outputs": [],
   "source": [
    "#hotdf = pd.get_dummies(data)\n",
    "hotdf = data"
   ]
  },
  {
   "cell_type": "code",
   "execution_count": 112,
   "id": "a0ad09d9-078c-4014-ad98-ff25d6b76ab3",
   "metadata": {},
   "outputs": [
    {
     "data": {
      "text/html": [
       "<div>\n",
       "<style scoped>\n",
       "    .dataframe tbody tr th:only-of-type {\n",
       "        vertical-align: middle;\n",
       "    }\n",
       "\n",
       "    .dataframe tbody tr th {\n",
       "        vertical-align: top;\n",
       "    }\n",
       "\n",
       "    .dataframe thead th {\n",
       "        text-align: right;\n",
       "    }\n",
       "</style>\n",
       "<table border=\"1\" class=\"dataframe\">\n",
       "  <thead>\n",
       "    <tr style=\"text-align: right;\">\n",
       "      <th></th>\n",
       "      <th>House Direction</th>\n",
       "      <th>Balcony Direction</th>\n",
       "      <th>Toilets</th>\n",
       "      <th>Bedrooms</th>\n",
       "      <th>Legits</th>\n",
       "      <th>Floors</th>\n",
       "      <th>Facade</th>\n",
       "      <th>Entrance</th>\n",
       "      <th>X</th>\n",
       "      <th>Y</th>\n",
       "      <th>Price</th>\n",
       "    </tr>\n",
       "  </thead>\n",
       "  <tbody>\n",
       "    <tr>\n",
       "      <th>0</th>\n",
       "      <td>None</td>\n",
       "      <td>None</td>\n",
       "      <td>6</td>\n",
       "      <td>6</td>\n",
       "      <td>+đỏ</td>\n",
       "      <td>6</td>\n",
       "      <td>5.1</td>\n",
       "      <td>30.0</td>\n",
       "      <td>21.024039</td>\n",
       "      <td>105.824232</td>\n",
       "      <td>350.000000</td>\n",
       "    </tr>\n",
       "    <tr>\n",
       "      <th>1</th>\n",
       "      <td>None</td>\n",
       "      <td>None</td>\n",
       "      <td>4</td>\n",
       "      <td>6</td>\n",
       "      <td>+đỏ</td>\n",
       "      <td>5</td>\n",
       "      <td>4.6</td>\n",
       "      <td>3.0</td>\n",
       "      <td>20.969225</td>\n",
       "      <td>105.774632</td>\n",
       "      <td>78.205128</td>\n",
       "    </tr>\n",
       "    <tr>\n",
       "      <th>2</th>\n",
       "      <td>None</td>\n",
       "      <td>None</td>\n",
       "      <td>3</td>\n",
       "      <td>4</td>\n",
       "      <td>+đỏ+hồng</td>\n",
       "      <td>4</td>\n",
       "      <td>5.0</td>\n",
       "      <td>3.0</td>\n",
       "      <td>20.969225</td>\n",
       "      <td>105.774632</td>\n",
       "      <td>129.166667</td>\n",
       "    </tr>\n",
       "    <tr>\n",
       "      <th>3</th>\n",
       "      <td>None</td>\n",
       "      <td>None</td>\n",
       "      <td>3</td>\n",
       "      <td>4</td>\n",
       "      <td>+đỏ</td>\n",
       "      <td>4</td>\n",
       "      <td>4.0</td>\n",
       "      <td>3.0</td>\n",
       "      <td>20.979725</td>\n",
       "      <td>105.790661</td>\n",
       "      <td>88.372093</td>\n",
       "    </tr>\n",
       "    <tr>\n",
       "      <th>4</th>\n",
       "      <td>None</td>\n",
       "      <td>None</td>\n",
       "      <td>4</td>\n",
       "      <td>3</td>\n",
       "      <td>+đỏ+hồng</td>\n",
       "      <td>5</td>\n",
       "      <td>4.0</td>\n",
       "      <td>2.5</td>\n",
       "      <td>21.011045</td>\n",
       "      <td>105.767012</td>\n",
       "      <td>114.285714</td>\n",
       "    </tr>\n",
       "  </tbody>\n",
       "</table>\n",
       "</div>"
      ],
      "text/plain": [
       "  House Direction Balcony Direction Toilets Bedrooms    Legits Floors  Facade  \\\n",
       "0            None              None       6        6       +đỏ      6     5.1   \n",
       "1            None              None       4        6       +đỏ      5     4.6   \n",
       "2            None              None       3        4  +đỏ+hồng      4     5.0   \n",
       "3            None              None       3        4       +đỏ      4     4.0   \n",
       "4            None              None       4        3  +đỏ+hồng      5     4.0   \n",
       "\n",
       "   Entrance          X           Y       Price  \n",
       "0      30.0  21.024039  105.824232  350.000000  \n",
       "1       3.0  20.969225  105.774632   78.205128  \n",
       "2       3.0  20.969225  105.774632  129.166667  \n",
       "3       3.0  20.979725  105.790661   88.372093  \n",
       "4       2.5  21.011045  105.767012  114.285714  "
      ]
     },
     "execution_count": 112,
     "metadata": {},
     "output_type": "execute_result"
    }
   ],
   "source": [
    "hotdf.head()"
   ]
  },
  {
   "cell_type": "code",
   "execution_count": 113,
   "id": "d5be8b61-a4a4-4c14-944c-ef007c5e12a6",
   "metadata": {},
   "outputs": [
    {
     "data": {
      "text/plain": [
       "0"
      ]
     },
     "execution_count": 113,
     "metadata": {},
     "output_type": "execute_result"
    }
   ],
   "source": [
    "hotdf.isnull().sum().sum()"
   ]
  },
  {
   "cell_type": "code",
   "execution_count": 114,
   "id": "885d2125-862e-4e6a-9ae5-c4a5385b3ced",
   "metadata": {},
   "outputs": [
    {
     "data": {
      "text/plain": [
       "0    3.0\n",
       "Name: Entrance, dtype: float64"
      ]
     },
     "execution_count": 114,
     "metadata": {},
     "output_type": "execute_result"
    }
   ],
   "source": [
    "hotdf[\"Entrance\"][hotdf[\"Entrance\"].isnull() ^ True].mode()"
   ]
  },
  {
   "cell_type": "code",
   "execution_count": 115,
   "id": "d71f6e23-dba6-4862-ace7-ffcced3e27b2",
   "metadata": {},
   "outputs": [],
   "source": [
    "hotdf[\"Entrance\"].fillna(value=hotdf[\"Entrance\"].mode().values[0], inplace=True)"
   ]
  },
  {
   "cell_type": "code",
   "execution_count": 116,
   "id": "aada9915-b5ab-4007-bab7-af52361626a1",
   "metadata": {},
   "outputs": [],
   "source": [
    "cates = [\"House Direction\", \"Balcony Direction\",  \"Toilets\", \"Legits\", \"Floors\", \"Bedrooms\"]\n",
    "for f in cates:\n",
    "     hotdf[f] = hotdf[f].astype(\"category\")\n"
   ]
  },
  {
   "cell_type": "code",
   "execution_count": 117,
   "id": "e9f7be00-0044-43db-88e6-9c3f805a1622",
   "metadata": {},
   "outputs": [],
   "source": [
    "hotdf = pd.get_dummies(hotdf)"
   ]
  },
  {
   "cell_type": "code",
   "execution_count": 118,
   "id": "4145c544-5b01-46d6-8315-65338ba8f0bb",
   "metadata": {},
   "outputs": [],
   "source": [
    "features = hotdf.columns.tolist()\n",
    "features.remove(\"Price\")"
   ]
  },
  {
   "cell_type": "code",
   "execution_count": 119,
   "id": "811a364c-ba4d-41c2-8aae-f5b0eea69d03",
   "metadata": {},
   "outputs": [],
   "source": [
    "train, test = train_test_split(hotdf, test_size = 0.2)\n",
    "train, dev = train_test_split(train, test_size = 0.1)"
   ]
  },
  {
   "cell_type": "code",
   "execution_count": 120,
   "id": "dab4c620-d6fb-42dc-92c5-89e70bbeba5f",
   "metadata": {},
   "outputs": [],
   "source": [
    "scaler = RobustScaler()\n",
    "features_ = [\n",
    "       'Facade', 'Entrance'\n",
    "        ]\n",
    "train[features_] = scaler.fit_transform(train[features_])\n",
    "\n",
    "test[features_] = scaler.transform(test[features_])\n",
    "dev[features_] = scaler.transform(dev[features_])"
   ]
  },
  {
   "cell_type": "code",
   "execution_count": 121,
   "id": "84cc3e44-2251-4813-9cc8-35faa2b3ea6b",
   "metadata": {},
   "outputs": [],
   "source": [
    "scaler = StandardScaler()\n",
    "features_ = [\n",
    "       'X', 'Y',\n",
    "        ]\n",
    "train[features_] = scaler.fit_transform(train[features_])\n",
    "test[features_] = scaler.transform(test[features_])\n",
    "dev[features_] = scaler.transform(dev[features_])"
   ]
  },
  {
   "cell_type": "code",
   "execution_count": 142,
   "id": "334d638d-d1a5-439e-98fa-19d9f1069e2f",
   "metadata": {},
   "outputs": [],
   "source": [
    "pca = PCA(n_components=10)\n",
    "\n",
    "train_ = pca.fit_transform(train[features])\n",
    "\n",
    "test_ = pca.transform(test[features])\n",
    "dev_ = pca.transform(dev[features])"
   ]
  },
  {
   "cell_type": "code",
   "execution_count": 144,
   "id": "a3c1204a-5364-498c-a8b4-a647b0065b40",
   "metadata": {},
   "outputs": [],
   "source": [
    "xgb = XGBRegressor(n_estimators = 300, max_depth=20, eta=0.01, gamma=1, tree_method=\"gpu_hist\", subsample=1, objective=\"reg:squarederror\", enable_categorical=True)"
   ]
  },
  {
   "cell_type": "code",
   "execution_count": null,
   "id": "f047f72f-cfeb-46a0-ac08-fd704c05b22f",
   "metadata": {},
   "outputs": [],
   "source": [
    "xgb.fit(train[features], train[\"Price\"], eval_set=[(dev[features], dev[\"Price\"])], eval_metric=\"mape\", early_stopping_rounds=20)"
   ]
  },
  {
   "cell_type": "code",
   "execution_count": 145,
   "id": "28ac71b2-fec4-467b-8c0e-782378abc132",
   "metadata": {},
   "outputs": [
    {
     "name": "stderr",
     "output_type": "stream",
     "text": [
      "C:\\Users\\vietdata\\anaconda3\\envs\\ML_env\\lib\\site-packages\\xgboost\\sklearn.py:835: UserWarning: `eval_metric` in `fit` method is deprecated for better compatibility with scikit-learn, use `eval_metric` in constructor or`set_params` instead.\n",
      "  warnings.warn(\n",
      "C:\\Users\\vietdata\\anaconda3\\envs\\ML_env\\lib\\site-packages\\xgboost\\sklearn.py:835: UserWarning: `early_stopping_rounds` in `fit` method is deprecated for better compatibility with scikit-learn, use `early_stopping_rounds` in constructor or`set_params` instead.\n",
      "  warnings.warn(\n"
     ]
    },
    {
     "name": "stdout",
     "output_type": "stream",
     "text": [
      "[0]\tvalidation_0-mape:0.98594\n",
      "[1]\tvalidation_0-mape:0.97377\n",
      "[2]\tvalidation_0-mape:0.96178\n",
      "[3]\tvalidation_0-mape:0.94992\n",
      "[4]\tvalidation_0-mape:0.93829\n",
      "[5]\tvalidation_0-mape:0.92708\n",
      "[6]\tvalidation_0-mape:0.91611\n",
      "[7]\tvalidation_0-mape:0.90553\n",
      "[8]\tvalidation_0-mape:0.89519\n",
      "[9]\tvalidation_0-mape:0.88537\n",
      "[10]\tvalidation_0-mape:0.87628\n",
      "[11]\tvalidation_0-mape:0.86739\n",
      "[12]\tvalidation_0-mape:0.85882\n",
      "[13]\tvalidation_0-mape:0.85042\n",
      "[14]\tvalidation_0-mape:0.84220\n",
      "[15]\tvalidation_0-mape:0.83428\n",
      "[16]\tvalidation_0-mape:0.82651\n",
      "[17]\tvalidation_0-mape:0.81876\n",
      "[18]\tvalidation_0-mape:0.81114\n",
      "[19]\tvalidation_0-mape:0.80373\n",
      "[20]\tvalidation_0-mape:0.79625\n",
      "[21]\tvalidation_0-mape:0.78916\n",
      "[22]\tvalidation_0-mape:0.78212\n",
      "[23]\tvalidation_0-mape:0.77516\n",
      "[24]\tvalidation_0-mape:0.76807\n",
      "[25]\tvalidation_0-mape:0.76109\n",
      "[26]\tvalidation_0-mape:0.75434\n",
      "[27]\tvalidation_0-mape:0.74780\n",
      "[28]\tvalidation_0-mape:0.74127\n",
      "[29]\tvalidation_0-mape:0.73487\n",
      "[30]\tvalidation_0-mape:0.72883\n",
      "[31]\tvalidation_0-mape:0.72289\n",
      "[32]\tvalidation_0-mape:0.71691\n",
      "[33]\tvalidation_0-mape:0.71117\n",
      "[34]\tvalidation_0-mape:0.70545\n",
      "[35]\tvalidation_0-mape:0.69984\n",
      "[36]\tvalidation_0-mape:0.69435\n",
      "[37]\tvalidation_0-mape:0.68889\n",
      "[38]\tvalidation_0-mape:0.68356\n",
      "[39]\tvalidation_0-mape:0.67813\n",
      "[40]\tvalidation_0-mape:0.67305\n",
      "[41]\tvalidation_0-mape:0.66788\n",
      "[42]\tvalidation_0-mape:0.66286\n",
      "[43]\tvalidation_0-mape:0.65791\n",
      "[44]\tvalidation_0-mape:0.65308\n",
      "[45]\tvalidation_0-mape:0.64827\n",
      "[46]\tvalidation_0-mape:0.64351\n",
      "[47]\tvalidation_0-mape:0.63871\n",
      "[48]\tvalidation_0-mape:0.63402\n",
      "[49]\tvalidation_0-mape:0.62931\n",
      "[50]\tvalidation_0-mape:0.62478\n",
      "[51]\tvalidation_0-mape:0.62030\n",
      "[52]\tvalidation_0-mape:0.61580\n",
      "[53]\tvalidation_0-mape:0.61149\n",
      "[54]\tvalidation_0-mape:0.60731\n",
      "[55]\tvalidation_0-mape:0.60313\n",
      "[56]\tvalidation_0-mape:0.59903\n",
      "[57]\tvalidation_0-mape:0.59512\n",
      "[58]\tvalidation_0-mape:0.59132\n",
      "[59]\tvalidation_0-mape:0.58756\n",
      "[60]\tvalidation_0-mape:0.58399\n",
      "[61]\tvalidation_0-mape:0.58041\n",
      "[62]\tvalidation_0-mape:0.57692\n",
      "[63]\tvalidation_0-mape:0.57352\n",
      "[64]\tvalidation_0-mape:0.57015\n",
      "[65]\tvalidation_0-mape:0.56672\n",
      "[66]\tvalidation_0-mape:0.56334\n",
      "[67]\tvalidation_0-mape:0.56010\n",
      "[68]\tvalidation_0-mape:0.55683\n",
      "[69]\tvalidation_0-mape:0.55365\n",
      "[70]\tvalidation_0-mape:0.55053\n",
      "[71]\tvalidation_0-mape:0.54738\n",
      "[72]\tvalidation_0-mape:0.54439\n",
      "[73]\tvalidation_0-mape:0.54141\n",
      "[74]\tvalidation_0-mape:0.53860\n",
      "[75]\tvalidation_0-mape:0.53572\n",
      "[76]\tvalidation_0-mape:0.53291\n",
      "[77]\tvalidation_0-mape:0.53008\n",
      "[78]\tvalidation_0-mape:0.52733\n",
      "[79]\tvalidation_0-mape:0.52461\n",
      "[80]\tvalidation_0-mape:0.52196\n",
      "[81]\tvalidation_0-mape:0.51938\n",
      "[82]\tvalidation_0-mape:0.51682\n",
      "[83]\tvalidation_0-mape:0.51424\n",
      "[84]\tvalidation_0-mape:0.51173\n",
      "[85]\tvalidation_0-mape:0.50922\n",
      "[86]\tvalidation_0-mape:0.50686\n",
      "[87]\tvalidation_0-mape:0.50451\n",
      "[88]\tvalidation_0-mape:0.50226\n",
      "[89]\tvalidation_0-mape:0.49998\n",
      "[90]\tvalidation_0-mape:0.49776\n",
      "[91]\tvalidation_0-mape:0.49558\n",
      "[92]\tvalidation_0-mape:0.49346\n",
      "[93]\tvalidation_0-mape:0.49138\n",
      "[94]\tvalidation_0-mape:0.48937\n",
      "[95]\tvalidation_0-mape:0.48733\n",
      "[96]\tvalidation_0-mape:0.48530\n",
      "[97]\tvalidation_0-mape:0.48330\n",
      "[98]\tvalidation_0-mape:0.48136\n",
      "[99]\tvalidation_0-mape:0.47947\n",
      "[100]\tvalidation_0-mape:0.47760\n",
      "[101]\tvalidation_0-mape:0.47594\n",
      "[102]\tvalidation_0-mape:0.47425\n",
      "[103]\tvalidation_0-mape:0.47262\n",
      "[104]\tvalidation_0-mape:0.47102\n",
      "[105]\tvalidation_0-mape:0.46945\n",
      "[106]\tvalidation_0-mape:0.46800\n",
      "[107]\tvalidation_0-mape:0.46654\n",
      "[108]\tvalidation_0-mape:0.46513\n",
      "[109]\tvalidation_0-mape:0.46376\n",
      "[110]\tvalidation_0-mape:0.46237\n",
      "[111]\tvalidation_0-mape:0.46106\n",
      "[112]\tvalidation_0-mape:0.45981\n",
      "[113]\tvalidation_0-mape:0.45856\n",
      "[114]\tvalidation_0-mape:0.45736\n",
      "[115]\tvalidation_0-mape:0.45623\n",
      "[116]\tvalidation_0-mape:0.45503\n",
      "[117]\tvalidation_0-mape:0.45397\n",
      "[118]\tvalidation_0-mape:0.45284\n",
      "[119]\tvalidation_0-mape:0.45171\n",
      "[120]\tvalidation_0-mape:0.45067\n",
      "[121]\tvalidation_0-mape:0.44959\n",
      "[122]\tvalidation_0-mape:0.44860\n",
      "[123]\tvalidation_0-mape:0.44764\n",
      "[124]\tvalidation_0-mape:0.44663\n",
      "[125]\tvalidation_0-mape:0.44569\n",
      "[126]\tvalidation_0-mape:0.44492\n",
      "[127]\tvalidation_0-mape:0.44413\n",
      "[128]\tvalidation_0-mape:0.44341\n",
      "[129]\tvalidation_0-mape:0.44275\n",
      "[130]\tvalidation_0-mape:0.44211\n",
      "[131]\tvalidation_0-mape:0.44146\n",
      "[132]\tvalidation_0-mape:0.44075\n",
      "[133]\tvalidation_0-mape:0.44000\n",
      "[134]\tvalidation_0-mape:0.43927\n",
      "[135]\tvalidation_0-mape:0.43851\n",
      "[136]\tvalidation_0-mape:0.43784\n",
      "[137]\tvalidation_0-mape:0.43720\n",
      "[138]\tvalidation_0-mape:0.43659\n",
      "[139]\tvalidation_0-mape:0.43600\n",
      "[140]\tvalidation_0-mape:0.43550\n",
      "[141]\tvalidation_0-mape:0.43495\n",
      "[142]\tvalidation_0-mape:0.43445\n",
      "[143]\tvalidation_0-mape:0.43397\n",
      "[144]\tvalidation_0-mape:0.43354\n",
      "[145]\tvalidation_0-mape:0.43317\n",
      "[146]\tvalidation_0-mape:0.43278\n",
      "[147]\tvalidation_0-mape:0.43244\n",
      "[148]\tvalidation_0-mape:0.43210\n",
      "[149]\tvalidation_0-mape:0.43170\n",
      "[150]\tvalidation_0-mape:0.43135\n",
      "[151]\tvalidation_0-mape:0.43103\n",
      "[152]\tvalidation_0-mape:0.43075\n",
      "[153]\tvalidation_0-mape:0.43051\n",
      "[154]\tvalidation_0-mape:0.43024\n",
      "[155]\tvalidation_0-mape:0.43002\n",
      "[156]\tvalidation_0-mape:0.42982\n",
      "[157]\tvalidation_0-mape:0.42956\n",
      "[158]\tvalidation_0-mape:0.42942\n",
      "[159]\tvalidation_0-mape:0.42922\n",
      "[160]\tvalidation_0-mape:0.42908\n",
      "[161]\tvalidation_0-mape:0.42887\n",
      "[162]\tvalidation_0-mape:0.42863\n",
      "[163]\tvalidation_0-mape:0.42849\n",
      "[164]\tvalidation_0-mape:0.42829\n",
      "[165]\tvalidation_0-mape:0.42810\n",
      "[166]\tvalidation_0-mape:0.42801\n",
      "[167]\tvalidation_0-mape:0.42786\n",
      "[168]\tvalidation_0-mape:0.42773\n",
      "[169]\tvalidation_0-mape:0.42754\n",
      "[170]\tvalidation_0-mape:0.42748\n",
      "[171]\tvalidation_0-mape:0.42734\n",
      "[172]\tvalidation_0-mape:0.42736\n",
      "[173]\tvalidation_0-mape:0.42723\n",
      "[174]\tvalidation_0-mape:0.42719\n",
      "[175]\tvalidation_0-mape:0.42720\n",
      "[176]\tvalidation_0-mape:0.42713\n",
      "[177]\tvalidation_0-mape:0.42711\n",
      "[178]\tvalidation_0-mape:0.42707\n",
      "[179]\tvalidation_0-mape:0.42701\n",
      "[180]\tvalidation_0-mape:0.42700\n",
      "[181]\tvalidation_0-mape:0.42702\n",
      "[182]\tvalidation_0-mape:0.42714\n",
      "[183]\tvalidation_0-mape:0.42724\n",
      "[184]\tvalidation_0-mape:0.42727\n",
      "[185]\tvalidation_0-mape:0.42733\n",
      "[186]\tvalidation_0-mape:0.42744\n",
      "[187]\tvalidation_0-mape:0.42751\n",
      "[188]\tvalidation_0-mape:0.42760\n",
      "[189]\tvalidation_0-mape:0.42768\n",
      "[190]\tvalidation_0-mape:0.42780\n",
      "[191]\tvalidation_0-mape:0.42792\n",
      "[192]\tvalidation_0-mape:0.42804\n",
      "[193]\tvalidation_0-mape:0.42814\n",
      "[194]\tvalidation_0-mape:0.42828\n",
      "[195]\tvalidation_0-mape:0.42841\n",
      "[196]\tvalidation_0-mape:0.42854\n",
      "[197]\tvalidation_0-mape:0.42872\n",
      "[198]\tvalidation_0-mape:0.42888\n",
      "[199]\tvalidation_0-mape:0.42904\n"
     ]
    },
    {
     "data": {
      "text/plain": [
       "XGBRegressor(base_score=None, booster=None, callbacks=None,\n",
       "             colsample_bylevel=None, colsample_bynode=None,\n",
       "             colsample_bytree=None, early_stopping_rounds=None,\n",
       "             enable_categorical=True, eta=0.01, eval_metric=None,\n",
       "             feature_types=None, gamma=1, gpu_id=None, grow_policy=None,\n",
       "             importance_type=None, interaction_constraints=None,\n",
       "             learning_rate=None, max_bin=None, max_cat_threshold=None,\n",
       "             max_cat_to_onehot=None, max_delta_step=None, max_depth=20,\n",
       "             max_leaves=None, min_child_weight=None, missing=nan,\n",
       "             monotone_constraints=None, n_estimators=300, n_jobs=None,\n",
       "             num_parallel_tree=None, predictor=None, ...)"
      ]
     },
     "execution_count": 145,
     "metadata": {},
     "output_type": "execute_result"
    }
   ],
   "source": [
    "xgb.fit(train_, train[\"Price\"], eval_set=[(dev_, dev[\"Price\"])], eval_metric=\"mape\", early_stopping_rounds=20)"
   ]
  },
  {
   "cell_type": "code",
   "execution_count": 128,
   "id": "f247839e-0f73-4933-881d-981088b665eb",
   "metadata": {},
   "outputs": [
    {
     "data": {
      "text/plain": [
       "<matplotlib.legend.Legend at 0x1d0a3bd9ba0>"
      ]
     },
     "execution_count": 128,
     "metadata": {},
     "output_type": "execute_result"
    },
    {
     "data": {
      "image/png": "[encoded data removed]",
      "text/plain": [
       "<Figure size 432x288 with 1 Axes>"
      ]
     },
     "metadata": {
      "needs_background": "light"
     },
     "output_type": "display_data"
    }
   ],
   "source": [
    "results = xgb.evals_result()\n",
    "#plt.plot(results[\"validation_0\"][\"mape\"], c= \"b\", label=\"train metric\")\n",
    "plt.plot(results[\"validation_0\"][\"mape\"], c= \"orange\", label=\"test metric\")\n",
    "plt.legend()"
   ]
  },
  {
   "cell_type": "code",
   "execution_count": 53,
   "id": "89cf004f-da26-4446-8c9f-9ed2da396641",
   "metadata": {},
   "outputs": [
    {
     "name": "stdout",
     "output_type": "stream",
     "text": [
      "0.4041376187765252\n"
     ]
    }
   ],
   "source": [
    "pred = xgb.predict(test[features])\n",
    "print(mape(test[\"Price\"], pred))"
   ]
  },
  {
   "cell_type": "code",
   "execution_count": 129,
   "id": "104aaf1e-b160-4461-acd6-f04fa0c51acc",
   "metadata": {},
   "outputs": [
    {
     "name": "stdout",
     "output_type": "stream",
     "text": [
      "0.049044435988369106\n"
     ]
    }
   ],
   "source": [
    "pred = xgb.predict(test)\n",
    "print(mape(test[\"Price\"], pred))"
   ]
  },
  {
   "cell_type": "code",
   "execution_count": 145,
   "id": "8a029453-0f4e-48fa-abcc-0937ede6b4da",
   "metadata": {},
   "outputs": [
    {
     "data": {
      "text/plain": [
       "(array([6.000e+00, 2.000e+01, 2.000e+01, 4.600e+01, 1.260e+02, 3.710e+02,\n",
       "        2.509e+03, 1.130e+03, 5.120e+02, 2.140e+02, 1.440e+02, 7.000e+01,\n",
       "        5.400e+01, 4.400e+01, 3.000e+01, 1.600e+01, 8.000e+00, 2.000e+00,\n",
       "        3.000e+00, 1.000e+00]),\n",
       " array([-2331.84977214, -1974.48183339, -1617.11389465, -1259.74595591,\n",
       "         -902.37801717,  -545.01007843,  -187.64213969,   169.72579905,\n",
       "          527.09373779,   884.46167653,  1241.82961528,  1599.19755402,\n",
       "         1956.56549276,  2313.9334315 ,  2671.30137024,  3028.66930898,\n",
       "         3386.03724772,  3743.40518646,  4100.7731252 ,  4458.14106394,\n",
       "         4815.50900269]),\n",
       " <BarContainer object of 20 artists>)"
      ]
     },
     "execution_count": 145,
     "metadata": {},
     "output_type": "execute_result"
    },
    {
     "data": {
      "image/png": "[encoded data removed]",
      "text/plain": [
       "<Figure size 432x288 with 1 Axes>"
      ]
     },
     "metadata": {
      "needs_background": "light"
     },
     "output_type": "display_data"
    }
   ],
   "source": [
    "plt.hist(test[\"Price\"].values-pred, bins=20)"
   ]
  },
  {
   "cell_type": "code",
   "execution_count": 39,
   "id": "62d7ad0e-07ab-4253-9ef8-52520a8763b7",
   "metadata": {},
   "outputs": [],
   "source": [
    "X_embedded = TSNE(n_components=2, learning_rate='auto',\n",
    "                   init='random', perplexity=3).fit_transform(pd.get_dummies(train[features]).values)"
   ]
  },
  {
   "cell_type": "code",
   "execution_count": 40,
   "id": "2923a6b8-9fe2-4cff-a8ce-e329a696637a",
   "metadata": {},
   "outputs": [
    {
     "data": {
      "text/plain": [
       "<matplotlib.collections.PathCollection at 0x28e8df37d00>"
      ]
     },
     "execution_count": 40,
     "metadata": {},
     "output_type": "execute_result"
    },
    {
     "data": {
      "image/png": "[encoded data removed]",
      "text/plain": [
       "<Figure size 432x288 with 1 Axes>"
      ]
     },
     "metadata": {
      "needs_background": "light"
     },
     "output_type": "display_data"
    }
   ],
   "source": [
    "a, b = list(zip(*X_embedded))\n",
    "plt.scatter(a[:1000],b[:1000])"
   ]
  },
  {
   "cell_type": "code",
   "execution_count": 362,
   "id": "eaf4cc4a-c2ad-4589-96ab-73f72e7f4db8",
   "metadata": {},
   "outputs": [
    {
     "data": {
      "text/plain": [
       "(array([ 6088., 11138.,  5496.,  3396.,  1929.,  1215.,   697.,   575.,\n",
       "          341.,   219.]),\n",
       " array([ 20.5 ,  38.35,  56.2 ,  74.05,  91.9 , 109.75, 127.6 , 145.45,\n",
       "        163.3 , 181.15, 199.  ]),\n",
       " <BarContainer object of 10 artists>)"
      ]
     },
     "execution_count": 362,
     "metadata": {},
     "output_type": "execute_result"
    },
    {
     "data": {
      "image/png": "[encoded data removed]",
      "text/plain": [
       "<Figure size 432x288 with 1 Axes>"
      ]
     },
     "metadata": {
      "needs_background": "light"
     },
     "output_type": "display_data"
    }
   ],
   "source": [
    "plt.hist(data[\"Area\"][(data[\"Area\"] > 20) & (data[\"Area\"] <200)], bins=10)"
   ]
  },
  {
   "cell_type": "code",
   "execution_count": 363,
   "id": "48d79662-abba-4da1-8ffd-b7b928438475",
   "metadata": {},
   "outputs": [
    {
     "data": {
      "text/plain": [
       "0        80.0\n",
       "1        78.0\n",
       "2        48.0\n",
       "3        43.0\n",
       "4        35.0\n",
       "         ... \n",
       "34951    54.0\n",
       "34952    75.0\n",
       "34953    40.0\n",
       "34954    42.0\n",
       "34955    50.0\n",
       "Name: Area, Length: 31094, dtype: float64"
      ]
     },
     "execution_count": 363,
     "metadata": {},
     "output_type": "execute_result"
    }
   ],
   "source": [
    "data[\"Area\"][(data[\"Area\"] > 20) & (data[\"Area\"] <200)]"
   ]
  },
  {
   "cell_type": "code",
   "execution_count": 492,
   "id": "41b5f03f-7664-4fce-b909-e2117a30abb8",
   "metadata": {},
   "outputs": [
    {
     "data": {
      "text/plain": [
       "<AxesSubplot:ylabel='Frequency'>"
      ]
     },
     "execution_count": 492,
     "metadata": {},
     "output_type": "execute_result"
    },
    {
     "data": {
      "image/png": "[encoded data removed]",
      "text/plain": [
       "<Figure size 432x288 with 1 Axes>"
      ]
     },
     "metadata": {
      "needs_background": "light"
     },
     "output_type": "display_data"
    }
   ],
   "source": [
    "data[\"Price\"].plot(kind=\"hist\")"
   ]
  },
  {
   "cell_type": "code",
   "execution_count": 391,
   "id": "e0c42ec1-ad60-476b-bc84-26a547647e67",
   "metadata": {},
   "outputs": [
    {
     "data": {
      "text/html": [
       "<div>\n",
       "<style scoped>\n",
       "    .dataframe tbody tr th:only-of-type {\n",
       "        vertical-align: middle;\n",
       "    }\n",
       "\n",
       "    .dataframe tbody tr th {\n",
       "        vertical-align: top;\n",
       "    }\n",
       "\n",
       "    .dataframe thead th {\n",
       "        text-align: right;\n",
       "    }\n",
       "</style>\n",
       "<table border=\"1\" class=\"dataframe\">\n",
       "  <thead>\n",
       "    <tr style=\"text-align: right;\">\n",
       "      <th></th>\n",
       "      <th>House Direction</th>\n",
       "      <th>Balcony Direction</th>\n",
       "      <th>Bedrooms</th>\n",
       "      <th>Toilets</th>\n",
       "      <th>Legits</th>\n",
       "      <th>Floors</th>\n",
       "      <th>Facade</th>\n",
       "      <th>Entrance</th>\n",
       "      <th>District</th>\n",
       "      <th>Area</th>\n",
       "      <th>Price</th>\n",
       "    </tr>\n",
       "  </thead>\n",
       "  <tbody>\n",
       "    <tr>\n",
       "      <th>13890</th>\n",
       "      <td>None</td>\n",
       "      <td>None</td>\n",
       "      <td>6</td>\n",
       "      <td>None</td>\n",
       "      <td>+đỏ+hồng</td>\n",
       "      <td>3</td>\n",
       "      <td>17.0</td>\n",
       "      <td>3.0</td>\n",
       "      <td>nam từ liêm</td>\n",
       "      <td>180.0</td>\n",
       "      <td>330000.0</td>\n",
       "    </tr>\n",
       "    <tr>\n",
       "      <th>13908</th>\n",
       "      <td>None</td>\n",
       "      <td>None</td>\n",
       "      <td>4</td>\n",
       "      <td>None</td>\n",
       "      <td>+đỏ+hồng</td>\n",
       "      <td>4</td>\n",
       "      <td>5.0</td>\n",
       "      <td>3.0</td>\n",
       "      <td>hoàn kiếm</td>\n",
       "      <td>130.0</td>\n",
       "      <td>330000.0</td>\n",
       "    </tr>\n",
       "    <tr>\n",
       "      <th>13931</th>\n",
       "      <td>None</td>\n",
       "      <td>None</td>\n",
       "      <td>10+</td>\n",
       "      <td>None</td>\n",
       "      <td>+đỏ+hồng</td>\n",
       "      <td>9</td>\n",
       "      <td>5.0</td>\n",
       "      <td>3.0</td>\n",
       "      <td>ba đình</td>\n",
       "      <td>89.0</td>\n",
       "      <td>320000.0</td>\n",
       "    </tr>\n",
       "    <tr>\n",
       "      <th>14000</th>\n",
       "      <td>None</td>\n",
       "      <td>None</td>\n",
       "      <td>8</td>\n",
       "      <td>None</td>\n",
       "      <td>None</td>\n",
       "      <td>8</td>\n",
       "      <td>5.0</td>\n",
       "      <td>3.0</td>\n",
       "      <td>đống đa</td>\n",
       "      <td>90.0</td>\n",
       "      <td>330000.0</td>\n",
       "    </tr>\n",
       "    <tr>\n",
       "      <th>14042</th>\n",
       "      <td>None</td>\n",
       "      <td>None</td>\n",
       "      <td>5</td>\n",
       "      <td>None</td>\n",
       "      <td>+đỏ+hồng</td>\n",
       "      <td>7</td>\n",
       "      <td>7.0</td>\n",
       "      <td>3.0</td>\n",
       "      <td>cầu giấy</td>\n",
       "      <td>120.0</td>\n",
       "      <td>324000.0</td>\n",
       "    </tr>\n",
       "    <tr>\n",
       "      <th>...</th>\n",
       "      <td>...</td>\n",
       "      <td>...</td>\n",
       "      <td>...</td>\n",
       "      <td>...</td>\n",
       "      <td>...</td>\n",
       "      <td>...</td>\n",
       "      <td>...</td>\n",
       "      <td>...</td>\n",
       "      <td>...</td>\n",
       "      <td>...</td>\n",
       "      <td>...</td>\n",
       "    </tr>\n",
       "    <tr>\n",
       "      <th>34836</th>\n",
       "      <td>None</td>\n",
       "      <td>None</td>\n",
       "      <td>5</td>\n",
       "      <td>None</td>\n",
       "      <td>+đỏ+hồng</td>\n",
       "      <td>5</td>\n",
       "      <td>30.0</td>\n",
       "      <td>3.0</td>\n",
       "      <td>cầu giấy</td>\n",
       "      <td>56.0</td>\n",
       "      <td>310000.0</td>\n",
       "    </tr>\n",
       "    <tr>\n",
       "      <th>34842</th>\n",
       "      <td>None</td>\n",
       "      <td>None</td>\n",
       "      <td>3</td>\n",
       "      <td>None</td>\n",
       "      <td>+đỏ+hồng</td>\n",
       "      <td>5</td>\n",
       "      <td>2.0</td>\n",
       "      <td>3.0</td>\n",
       "      <td>long biên</td>\n",
       "      <td>35.0</td>\n",
       "      <td>310000.0</td>\n",
       "    </tr>\n",
       "    <tr>\n",
       "      <th>34904</th>\n",
       "      <td>None</td>\n",
       "      <td>None</td>\n",
       "      <td>10+</td>\n",
       "      <td>None</td>\n",
       "      <td>+đỏ+hồng</td>\n",
       "      <td>8</td>\n",
       "      <td>8.0</td>\n",
       "      <td>3.0</td>\n",
       "      <td>cầu giấy</td>\n",
       "      <td>110.0</td>\n",
       "      <td>340000.0</td>\n",
       "    </tr>\n",
       "    <tr>\n",
       "      <th>34910</th>\n",
       "      <td>None</td>\n",
       "      <td>None</td>\n",
       "      <td>8</td>\n",
       "      <td>None</td>\n",
       "      <td>+đỏ+hồng</td>\n",
       "      <td>5</td>\n",
       "      <td>10.0</td>\n",
       "      <td>3.0</td>\n",
       "      <td>cầu giấy</td>\n",
       "      <td>100.0</td>\n",
       "      <td>320000.0</td>\n",
       "    </tr>\n",
       "    <tr>\n",
       "      <th>34914</th>\n",
       "      <td>None</td>\n",
       "      <td>None</td>\n",
       "      <td>6</td>\n",
       "      <td>None</td>\n",
       "      <td>+đỏ+hồng</td>\n",
       "      <td>4</td>\n",
       "      <td>6.0</td>\n",
       "      <td>3.0</td>\n",
       "      <td>cầu giấy</td>\n",
       "      <td>185.0</td>\n",
       "      <td>320000.0</td>\n",
       "    </tr>\n",
       "  </tbody>\n",
       "</table>\n",
       "<p>752 rows × 11 columns</p>\n",
       "</div>"
      ],
      "text/plain": [
       "      House Direction Balcony Direction Bedrooms Toilets    Legits Floors  \\\n",
       "13890            None              None        6    None  +đỏ+hồng      3   \n",
       "13908            None              None        4    None  +đỏ+hồng      4   \n",
       "13931            None              None      10+    None  +đỏ+hồng      9   \n",
       "14000            None              None        8    None      None      8   \n",
       "14042            None              None        5    None  +đỏ+hồng      7   \n",
       "...               ...               ...      ...     ...       ...    ...   \n",
       "34836            None              None        5    None  +đỏ+hồng      5   \n",
       "34842            None              None        3    None  +đỏ+hồng      5   \n",
       "34904            None              None      10+    None  +đỏ+hồng      8   \n",
       "34910            None              None        8    None  +đỏ+hồng      5   \n",
       "34914            None              None        6    None  +đỏ+hồng      4   \n",
       "\n",
       "       Facade  Entrance     District   Area     Price  \n",
       "13890    17.0       3.0  nam từ liêm  180.0  330000.0  \n",
       "13908     5.0       3.0    hoàn kiếm  130.0  330000.0  \n",
       "13931     5.0       3.0      ba đình   89.0  320000.0  \n",
       "14000     5.0       3.0      đống đa   90.0  330000.0  \n",
       "14042     7.0       3.0     cầu giấy  120.0  324000.0  \n",
       "...       ...       ...          ...    ...       ...  \n",
       "34836    30.0       3.0     cầu giấy   56.0  310000.0  \n",
       "34842     2.0       3.0    long biên   35.0  310000.0  \n",
       "34904     8.0       3.0     cầu giấy  110.0  340000.0  \n",
       "34910    10.0       3.0     cầu giấy  100.0  320000.0  \n",
       "34914     6.0       3.0     cầu giấy  185.0  320000.0  \n",
       "\n",
       "[752 rows x 11 columns]"
      ]
     },
     "execution_count": 391,
     "metadata": {},
     "output_type": "execute_result"
    }
   ],
   "source": [
    "data[data[\"Price\"] > 300000]"
   ]
  },
  {
   "cell_type": "code",
   "execution_count": null,
   "id": "98edbd49-59a6-4510-93cd-9ceb22b966a9",
   "metadata": {},
   "outputs": [],
   "source": [
    "data[\"Price\"]/data[\"Area\"]"
   ]
  }
 ],
 "metadata": {
  "kernelspec": {
   "display_name": "Python 3 (ipykernel)",
   "language": "python",
   "name": "python3"
  },
  "language_info": {
   "codemirror_mode": {
    "name": "ipython",
    "version": 3
   },
   "file_extension": ".py",
   "mimetype": "text/x-python",
   "name": "python",
   "nbconvert_exporter": "python",
   "pygments_lexer": "ipython3",
   "version": "3.10.4"
  }
 },
 "nbformat": 4,
 "nbformat_minor": 5
}
