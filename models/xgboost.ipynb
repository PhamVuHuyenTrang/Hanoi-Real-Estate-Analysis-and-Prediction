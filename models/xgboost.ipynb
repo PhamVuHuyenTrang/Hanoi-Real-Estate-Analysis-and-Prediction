{
 "cells": [
  {
   "cell_type": "code",
   "execution_count": 1,
   "id": "4bad0642-40c5-4c94-bf7a-c988ad135136",
   "metadata": {
    "tags": []
   },
   "outputs": [],
   "source": [
    "import pandas as pd\n",
    "import numpy as np\n",
    "from xgboost import XGBRegressor\n",
    "from sklearn.model_selection import train_test_split\n",
    "from sklearn.metrics import mean_absolute_percentage_error as mape\n",
    "from sklearn.metrics import r2_score\n",
    "from matplotlib import pyplot as plt\n",
    "from sklearn.preprocessing import LabelEncoder\n",
    "from sklearn.manifold import TSNE\n",
    "import time\n",
    "from sklearn.preprocessing import MinMaxScaler, StandardScaler, RobustScaler\n",
    "from sklearn.decomposition import PCA\n",
    "import joblib"
   ]
  },
  {
   "cell_type": "code",
   "execution_count": 2,
   "id": "7c70fe09-a51c-4aa2-8ddf-5b72967e7b8d",
   "metadata": {},
   "outputs": [],
   "source": [
    "from preprocess import EstateData\n",
    "\n",
    "dataset = EstateData(\"final.csv\")"
   ]
  },
  {
   "cell_type": "code",
   "execution_count": 3,
   "id": "c75b1911-41bf-4571-9d26-26f1c4c27633",
   "metadata": {},
   "outputs": [],
   "source": [
    "dataset.split_data(stratify=True)"
   ]
  },
  {
   "cell_type": "code",
   "execution_count": 4,
   "id": "1334144f-b80f-4f0e-b8a4-5970810c4c7f",
   "metadata": {},
   "outputs": [
    {
     "name": "stdout",
     "output_type": "stream",
     "text": [
      "Start Process!\n",
      "Fill missing values: Done\n",
      "Remove outlier: Done\n",
      "Scale features: Done\n"
     ]
    }
   ],
   "source": [
    "dataset.preprocess(tukey=True)"
   ]
  },
  {
   "cell_type": "code",
   "execution_count": 5,
   "id": "f2ec0f87-c94a-4d9a-bbc0-0633c77adddf",
   "metadata": {},
   "outputs": [],
   "source": [
    "train = dataset.train\n",
    "test = dataset.test"
   ]
  },
  {
   "cell_type": "code",
   "execution_count": 6,
   "id": "ed6ef9a7-c08e-4f60-a00c-0c1738b3237a",
   "metadata": {},
   "outputs": [
    {
     "name": "stdout",
     "output_type": "stream",
     "text": [
      "train size (31658, 12)\n",
      "test size (9278, 12)\n"
     ]
    }
   ],
   "source": [
    "print(\"train size {}\".format(train.shape))\n",
    "print(\"test size {}\".format(test.shape))"
   ]
  },
  {
   "cell_type": "code",
   "execution_count": 7,
   "id": "5c1407d0-ee72-4f6c-b4a8-c3f3ba754c1e",
   "metadata": {},
   "outputs": [
    {
     "data": {
      "text/html": [
       "<div>\n",
       "<style scoped>\n",
       "    .dataframe tbody tr th:only-of-type {\n",
       "        vertical-align: middle;\n",
       "    }\n",
       "\n",
       "    .dataframe tbody tr th {\n",
       "        vertical-align: top;\n",
       "    }\n",
       "\n",
       "    .dataframe thead th {\n",
       "        text-align: right;\n",
       "    }\n",
       "</style>\n",
       "<table border=\"1\" class=\"dataframe\">\n",
       "  <thead>\n",
       "    <tr style=\"text-align: right;\">\n",
       "      <th></th>\n",
       "      <th>House Direction</th>\n",
       "      <th>Balcony Direction</th>\n",
       "      <th>Toilets</th>\n",
       "      <th>Bedrooms</th>\n",
       "      <th>Legits</th>\n",
       "      <th>Floors</th>\n",
       "      <th>Facade</th>\n",
       "      <th>Entrance</th>\n",
       "      <th>Area</th>\n",
       "      <th>X</th>\n",
       "      <th>Y</th>\n",
       "      <th>PricePerM2</th>\n",
       "    </tr>\n",
       "  </thead>\n",
       "  <tbody>\n",
       "    <tr>\n",
       "      <th>44585</th>\n",
       "      <td>None</td>\n",
       "      <td>None</td>\n",
       "      <td>None</td>\n",
       "      <td>6</td>\n",
       "      <td>None</td>\n",
       "      <td>7</td>\n",
       "      <td>-0.229205</td>\n",
       "      <td>0.000000</td>\n",
       "      <td>-0.282051</td>\n",
       "      <td>0.274513</td>\n",
       "      <td>-0.913402</td>\n",
       "      <td>1238.636364</td>\n",
       "    </tr>\n",
       "    <tr>\n",
       "      <th>13963</th>\n",
       "      <td>None</td>\n",
       "      <td>None</td>\n",
       "      <td>3</td>\n",
       "      <td>5</td>\n",
       "      <td>+đỏ+hồng</td>\n",
       "      <td>3</td>\n",
       "      <td>0.390269</td>\n",
       "      <td>7.600665</td>\n",
       "      <td>1.153846</td>\n",
       "      <td>1.065550</td>\n",
       "      <td>0.917988</td>\n",
       "      <td>120.000000</td>\n",
       "    </tr>\n",
       "    <tr>\n",
       "      <th>10935</th>\n",
       "      <td>tây nam</td>\n",
       "      <td>tây nam</td>\n",
       "      <td>10+</td>\n",
       "      <td>10+</td>\n",
       "      <td>+đỏ</td>\n",
       "      <td>6</td>\n",
       "      <td>0.646900</td>\n",
       "      <td>-7.399335</td>\n",
       "      <td>0.000000</td>\n",
       "      <td>0.349404</td>\n",
       "      <td>0.077626</td>\n",
       "      <td>145.454545</td>\n",
       "    </tr>\n",
       "    <tr>\n",
       "      <th>3503</th>\n",
       "      <td>None</td>\n",
       "      <td>None</td>\n",
       "      <td>4</td>\n",
       "      <td>4</td>\n",
       "      <td>None</td>\n",
       "      <td>5</td>\n",
       "      <td>-0.253984</td>\n",
       "      <td>-5.899335</td>\n",
       "      <td>-0.692308</td>\n",
       "      <td>0.148615</td>\n",
       "      <td>0.071339</td>\n",
       "      <td>160.714286</td>\n",
       "    </tr>\n",
       "    <tr>\n",
       "      <th>23474</th>\n",
       "      <td>tây nam</td>\n",
       "      <td>None</td>\n",
       "      <td>5</td>\n",
       "      <td>3</td>\n",
       "      <td>None</td>\n",
       "      <td>5</td>\n",
       "      <td>-0.105311</td>\n",
       "      <td>0.000000</td>\n",
       "      <td>-0.512821</td>\n",
       "      <td>0.299602</td>\n",
       "      <td>0.649355</td>\n",
       "      <td>168.571429</td>\n",
       "    </tr>\n",
       "  </tbody>\n",
       "</table>\n",
       "</div>"
      ],
      "text/plain": [
       "      House Direction Balcony Direction Toilets Bedrooms    Legits Floors  \\\n",
       "44585            None              None    None        6      None      7   \n",
       "13963            None              None       3        5  +đỏ+hồng      3   \n",
       "10935         tây nam           tây nam     10+      10+       +đỏ      6   \n",
       "3503             None              None       4        4      None      5   \n",
       "23474         tây nam              None       5        3      None      5   \n",
       "\n",
       "         Facade  Entrance      Area         X         Y   PricePerM2  \n",
       "44585 -0.229205  0.000000 -0.282051  0.274513 -0.913402  1238.636364  \n",
       "13963  0.390269  7.600665  1.153846  1.065550  0.917988   120.000000  \n",
       "10935  0.646900 -7.399335  0.000000  0.349404  0.077626   145.454545  \n",
       "3503  -0.253984 -5.899335 -0.692308  0.148615  0.071339   160.714286  \n",
       "23474 -0.105311  0.000000 -0.512821  0.299602  0.649355   168.571429  "
      ]
     },
     "execution_count": 7,
     "metadata": {},
     "output_type": "execute_result"
    }
   ],
   "source": [
    "train.head()"
   ]
  },
  {
   "cell_type": "code",
   "execution_count": 8,
   "id": "1094d929-926b-4388-bc78-e551697cffb2",
   "metadata": {},
   "outputs": [
    {
     "data": {
      "text/plain": [
       "House Direction      0.0\n",
       "Balcony Direction    0.0\n",
       "Toilets              0.0\n",
       "Bedrooms             0.0\n",
       "Legits               0.0\n",
       "Floors               0.0\n",
       "Facade               0.0\n",
       "Entrance             0.0\n",
       "Area                 0.0\n",
       "X                    0.0\n",
       "Y                    0.0\n",
       "PricePerM2           0.0\n",
       "dtype: float64"
      ]
     },
     "execution_count": 8,
     "metadata": {},
     "output_type": "execute_result"
    }
   ],
   "source": [
    "test.isnull().mean()"
   ]
  },
  {
   "cell_type": "code",
   "execution_count": 9,
   "id": "811a364c-ba4d-41c2-8aae-f5b0eea69d03",
   "metadata": {},
   "outputs": [],
   "source": [
    "train, dev = train_test_split(train, test_size=0.1)"
   ]
  },
  {
   "cell_type": "code",
   "execution_count": 10,
   "id": "d67e4065-a6b7-4a69-971d-5ecf2edee840",
   "metadata": {},
   "outputs": [],
   "source": [
    "features = train.columns.tolist()\n",
    "features.remove(\"PricePerM2\")\n"
   ]
  },
  {
   "cell_type": "code",
   "execution_count": 11,
   "id": "a3c1204a-5364-498c-a8b4-a647b0065b40",
   "metadata": {},
   "outputs": [],
   "source": [
    "xgb = XGBRegressor(n_estimators = 300, max_depth=20, eta=0.01, gamma=1, tree_method=\"gpu_hist\", subsample=1, objective=\"reg:squarederror\", enable_categorical=True)"
   ]
  },
  {
   "cell_type": "code",
   "execution_count": 12,
   "id": "f047f72f-cfeb-46a0-ac08-fd704c05b22f",
   "metadata": {},
   "outputs": [
    {
     "name": "stderr",
     "output_type": "stream",
     "text": [
      "C:\\Users\\vietdata\\anaconda3\\envs\\ML_env\\lib\\site-packages\\xgboost\\sklearn.py:835: UserWarning: `eval_metric` in `fit` method is deprecated for better compatibility with scikit-learn, use `eval_metric` in constructor or`set_params` instead.\n",
      "  warnings.warn(\n",
      "C:\\Users\\vietdata\\anaconda3\\envs\\ML_env\\lib\\site-packages\\xgboost\\sklearn.py:835: UserWarning: `early_stopping_rounds` in `fit` method is deprecated for better compatibility with scikit-learn, use `early_stopping_rounds` in constructor or`set_params` instead.\n",
      "  warnings.warn(\n"
     ]
    },
    {
     "name": "stdout",
     "output_type": "stream",
     "text": [
      "[0]\tvalidation_0-mape:0.98270\n",
      "[1]\tvalidation_0-mape:0.97054\n",
      "[2]\tvalidation_0-mape:0.95864\n",
      "[3]\tvalidation_0-mape:0.94704\n",
      "[4]\tvalidation_0-mape:0.93558\n",
      "[5]\tvalidation_0-mape:0.92424\n",
      "[6]\tvalidation_0-mape:0.91334\n",
      "[7]\tvalidation_0-mape:0.90253\n",
      "[8]\tvalidation_0-mape:0.89227\n",
      "[9]\tvalidation_0-mape:0.88243\n",
      "[10]\tvalidation_0-mape:0.87304\n",
      "[11]\tvalidation_0-mape:0.86388\n",
      "[12]\tvalidation_0-mape:0.85508\n",
      "[13]\tvalidation_0-mape:0.84660\n",
      "[14]\tvalidation_0-mape:0.83841\n",
      "[15]\tvalidation_0-mape:0.83043\n",
      "[16]\tvalidation_0-mape:0.82261\n",
      "[17]\tvalidation_0-mape:0.81495\n",
      "[18]\tvalidation_0-mape:0.80748\n",
      "[19]\tvalidation_0-mape:0.80028\n",
      "[20]\tvalidation_0-mape:0.79319\n",
      "[21]\tvalidation_0-mape:0.78627\n",
      "[22]\tvalidation_0-mape:0.77951\n",
      "[23]\tvalidation_0-mape:0.77290\n",
      "[24]\tvalidation_0-mape:0.76628\n",
      "[25]\tvalidation_0-mape:0.75982\n",
      "[26]\tvalidation_0-mape:0.75345\n",
      "[27]\tvalidation_0-mape:0.74719\n",
      "[28]\tvalidation_0-mape:0.74107\n",
      "[29]\tvalidation_0-mape:0.73502\n",
      "[30]\tvalidation_0-mape:0.72908\n",
      "[31]\tvalidation_0-mape:0.72314\n",
      "[32]\tvalidation_0-mape:0.71741\n",
      "[33]\tvalidation_0-mape:0.71166\n",
      "[34]\tvalidation_0-mape:0.70607\n",
      "[35]\tvalidation_0-mape:0.70049\n",
      "[36]\tvalidation_0-mape:0.69498\n",
      "[37]\tvalidation_0-mape:0.68950\n",
      "[38]\tvalidation_0-mape:0.68417\n",
      "[39]\tvalidation_0-mape:0.67892\n",
      "[40]\tvalidation_0-mape:0.67373\n",
      "[41]\tvalidation_0-mape:0.66867\n",
      "[42]\tvalidation_0-mape:0.66359\n",
      "[43]\tvalidation_0-mape:0.65852\n",
      "[44]\tvalidation_0-mape:0.65356\n",
      "[45]\tvalidation_0-mape:0.64867\n",
      "[46]\tvalidation_0-mape:0.64382\n",
      "[47]\tvalidation_0-mape:0.63906\n",
      "[48]\tvalidation_0-mape:0.63435\n",
      "[49]\tvalidation_0-mape:0.62976\n",
      "[50]\tvalidation_0-mape:0.62516\n",
      "[51]\tvalidation_0-mape:0.62072\n",
      "[52]\tvalidation_0-mape:0.61639\n",
      "[53]\tvalidation_0-mape:0.61205\n",
      "[54]\tvalidation_0-mape:0.60772\n",
      "[55]\tvalidation_0-mape:0.60341\n",
      "[56]\tvalidation_0-mape:0.59922\n",
      "[57]\tvalidation_0-mape:0.59497\n",
      "[58]\tvalidation_0-mape:0.59100\n",
      "[59]\tvalidation_0-mape:0.58697\n",
      "[60]\tvalidation_0-mape:0.58309\n",
      "[61]\tvalidation_0-mape:0.57921\n",
      "[62]\tvalidation_0-mape:0.57542\n",
      "[63]\tvalidation_0-mape:0.57173\n",
      "[64]\tvalidation_0-mape:0.56803\n",
      "[65]\tvalidation_0-mape:0.56442\n",
      "[66]\tvalidation_0-mape:0.56095\n",
      "[67]\tvalidation_0-mape:0.55747\n",
      "[68]\tvalidation_0-mape:0.55399\n",
      "[69]\tvalidation_0-mape:0.55055\n",
      "[70]\tvalidation_0-mape:0.54710\n",
      "[71]\tvalidation_0-mape:0.54380\n",
      "[72]\tvalidation_0-mape:0.54058\n",
      "[73]\tvalidation_0-mape:0.53745\n",
      "[74]\tvalidation_0-mape:0.53430\n",
      "[75]\tvalidation_0-mape:0.53114\n",
      "[76]\tvalidation_0-mape:0.52807\n",
      "[77]\tvalidation_0-mape:0.52507\n",
      "[78]\tvalidation_0-mape:0.52211\n",
      "[79]\tvalidation_0-mape:0.51918\n",
      "[80]\tvalidation_0-mape:0.51627\n",
      "[81]\tvalidation_0-mape:0.51346\n",
      "[82]\tvalidation_0-mape:0.51080\n",
      "[83]\tvalidation_0-mape:0.50815\n",
      "[84]\tvalidation_0-mape:0.50560\n",
      "[85]\tvalidation_0-mape:0.50307\n",
      "[86]\tvalidation_0-mape:0.50057\n",
      "[87]\tvalidation_0-mape:0.49813\n",
      "[88]\tvalidation_0-mape:0.49575\n",
      "[89]\tvalidation_0-mape:0.49343\n",
      "[90]\tvalidation_0-mape:0.49112\n",
      "[91]\tvalidation_0-mape:0.48895\n",
      "[92]\tvalidation_0-mape:0.48683\n",
      "[93]\tvalidation_0-mape:0.48462\n",
      "[94]\tvalidation_0-mape:0.48257\n",
      "[95]\tvalidation_0-mape:0.48050\n",
      "[96]\tvalidation_0-mape:0.47852\n",
      "[97]\tvalidation_0-mape:0.47654\n",
      "[98]\tvalidation_0-mape:0.47468\n",
      "[99]\tvalidation_0-mape:0.47283\n",
      "[100]\tvalidation_0-mape:0.47107\n",
      "[101]\tvalidation_0-mape:0.46931\n",
      "[102]\tvalidation_0-mape:0.46755\n",
      "[103]\tvalidation_0-mape:0.46589\n",
      "[104]\tvalidation_0-mape:0.46422\n",
      "[105]\tvalidation_0-mape:0.46240\n",
      "[106]\tvalidation_0-mape:0.46089\n",
      "[107]\tvalidation_0-mape:0.45918\n",
      "[108]\tvalidation_0-mape:0.45749\n",
      "[109]\tvalidation_0-mape:0.45616\n",
      "[110]\tvalidation_0-mape:0.45461\n",
      "[111]\tvalidation_0-mape:0.45313\n",
      "[112]\tvalidation_0-mape:0.45181\n",
      "[113]\tvalidation_0-mape:0.45049\n",
      "[114]\tvalidation_0-mape:0.44917\n",
      "[115]\tvalidation_0-mape:0.44801\n",
      "[116]\tvalidation_0-mape:0.44689\n",
      "[117]\tvalidation_0-mape:0.44573\n",
      "[118]\tvalidation_0-mape:0.44460\n",
      "[119]\tvalidation_0-mape:0.44346\n",
      "[120]\tvalidation_0-mape:0.44231\n",
      "[121]\tvalidation_0-mape:0.44116\n",
      "[122]\tvalidation_0-mape:0.44009\n",
      "[123]\tvalidation_0-mape:0.43901\n",
      "[124]\tvalidation_0-mape:0.43798\n",
      "[125]\tvalidation_0-mape:0.43698\n",
      "[126]\tvalidation_0-mape:0.43603\n",
      "[127]\tvalidation_0-mape:0.43512\n",
      "[128]\tvalidation_0-mape:0.43419\n",
      "[129]\tvalidation_0-mape:0.43332\n",
      "[130]\tvalidation_0-mape:0.43258\n",
      "[131]\tvalidation_0-mape:0.43173\n",
      "[132]\tvalidation_0-mape:0.43100\n",
      "[133]\tvalidation_0-mape:0.43018\n",
      "[134]\tvalidation_0-mape:0.42947\n",
      "[135]\tvalidation_0-mape:0.42875\n",
      "[136]\tvalidation_0-mape:0.42804\n",
      "[137]\tvalidation_0-mape:0.42737\n",
      "[138]\tvalidation_0-mape:0.42669\n",
      "[139]\tvalidation_0-mape:0.42605\n",
      "[140]\tvalidation_0-mape:0.42536\n",
      "[141]\tvalidation_0-mape:0.42484\n",
      "[142]\tvalidation_0-mape:0.42424\n",
      "[143]\tvalidation_0-mape:0.42361\n",
      "[144]\tvalidation_0-mape:0.42310\n",
      "[145]\tvalidation_0-mape:0.42256\n",
      "[146]\tvalidation_0-mape:0.42204\n",
      "[147]\tvalidation_0-mape:0.42145\n",
      "[148]\tvalidation_0-mape:0.42099\n",
      "[149]\tvalidation_0-mape:0.42045\n",
      "[150]\tvalidation_0-mape:0.41995\n",
      "[151]\tvalidation_0-mape:0.41946\n",
      "[152]\tvalidation_0-mape:0.41896\n",
      "[153]\tvalidation_0-mape:0.41847\n",
      "[154]\tvalidation_0-mape:0.41808\n",
      "[155]\tvalidation_0-mape:0.41767\n",
      "[156]\tvalidation_0-mape:0.41720\n",
      "[157]\tvalidation_0-mape:0.41687\n",
      "[158]\tvalidation_0-mape:0.41647\n",
      "[159]\tvalidation_0-mape:0.41609\n",
      "[160]\tvalidation_0-mape:0.41574\n",
      "[161]\tvalidation_0-mape:0.41540\n",
      "[162]\tvalidation_0-mape:0.41511\n",
      "[163]\tvalidation_0-mape:0.41479\n",
      "[164]\tvalidation_0-mape:0.41455\n",
      "[165]\tvalidation_0-mape:0.41421\n",
      "[166]\tvalidation_0-mape:0.41394\n",
      "[167]\tvalidation_0-mape:0.41373\n",
      "[168]\tvalidation_0-mape:0.41345\n",
      "[169]\tvalidation_0-mape:0.41321\n",
      "[170]\tvalidation_0-mape:0.41298\n",
      "[171]\tvalidation_0-mape:0.41280\n",
      "[172]\tvalidation_0-mape:0.41260\n",
      "[173]\tvalidation_0-mape:0.41242\n",
      "[174]\tvalidation_0-mape:0.41226\n",
      "[175]\tvalidation_0-mape:0.41209\n",
      "[176]\tvalidation_0-mape:0.41198\n",
      "[177]\tvalidation_0-mape:0.41185\n",
      "[178]\tvalidation_0-mape:0.41173\n",
      "[179]\tvalidation_0-mape:0.41155\n",
      "[180]\tvalidation_0-mape:0.41142\n",
      "[181]\tvalidation_0-mape:0.41128\n",
      "[182]\tvalidation_0-mape:0.41115\n",
      "[183]\tvalidation_0-mape:0.41100\n",
      "[184]\tvalidation_0-mape:0.41088\n",
      "[185]\tvalidation_0-mape:0.41084\n",
      "[186]\tvalidation_0-mape:0.41075\n",
      "[187]\tvalidation_0-mape:0.41066\n",
      "[188]\tvalidation_0-mape:0.41057\n",
      "[189]\tvalidation_0-mape:0.41053\n",
      "[190]\tvalidation_0-mape:0.41050\n",
      "[191]\tvalidation_0-mape:0.41043\n",
      "[192]\tvalidation_0-mape:0.41037\n",
      "[193]\tvalidation_0-mape:0.41033\n",
      "[194]\tvalidation_0-mape:0.41034\n",
      "[195]\tvalidation_0-mape:0.41037\n",
      "[196]\tvalidation_0-mape:0.41038\n",
      "[197]\tvalidation_0-mape:0.41044\n",
      "[198]\tvalidation_0-mape:0.41040\n",
      "[199]\tvalidation_0-mape:0.41047\n",
      "[200]\tvalidation_0-mape:0.41056\n",
      "[201]\tvalidation_0-mape:0.41069\n",
      "[202]\tvalidation_0-mape:0.41073\n",
      "[203]\tvalidation_0-mape:0.41077\n",
      "[204]\tvalidation_0-mape:0.41084\n",
      "[205]\tvalidation_0-mape:0.41082\n",
      "[206]\tvalidation_0-mape:0.41082\n",
      "[207]\tvalidation_0-mape:0.41092\n",
      "[208]\tvalidation_0-mape:0.41095\n",
      "[209]\tvalidation_0-mape:0.41102\n",
      "[210]\tvalidation_0-mape:0.41104\n",
      "[211]\tvalidation_0-mape:0.41113\n",
      "[212]\tvalidation_0-mape:0.41117\n"
     ]
    },
    {
     "data": {
      "text/plain": [
       "XGBRegressor(base_score=None, booster=None, callbacks=None,\n",
       "             colsample_bylevel=None, colsample_bynode=None,\n",
       "             colsample_bytree=None, early_stopping_rounds=None,\n",
       "             enable_categorical=True, eta=0.01, eval_metric=None,\n",
       "             feature_types=None, gamma=1, gpu_id=None, grow_policy=None,\n",
       "             importance_type=None, interaction_constraints=None,\n",
       "             learning_rate=None, max_bin=None, max_cat_threshold=None,\n",
       "             max_cat_to_onehot=None, max_delta_step=None, max_depth=20,\n",
       "             max_leaves=None, min_child_weight=None, missing=nan,\n",
       "             monotone_constraints=None, n_estimators=300, n_jobs=None,\n",
       "             num_parallel_tree=None, predictor=None, ...)"
      ]
     },
     "execution_count": 12,
     "metadata": {},
     "output_type": "execute_result"
    }
   ],
   "source": [
    "xgb.fit(train[features], train[\"PricePerM2\"], eval_set=[(dev[features], dev[\"PricePerM2\"])], eval_metric=\"mape\", early_stopping_rounds=20)"
   ]
  },
  {
   "cell_type": "code",
   "execution_count": 13,
   "id": "47b901fa-c576-46aa-8ae5-70afd4687d5d",
   "metadata": {},
   "outputs": [],
   "source": [
    "with open(\"log/best_tree.txt\", \"w\") as f:\n",
    "    f.write(str(xgb.best_ntree_limit))"
   ]
  },
  {
   "cell_type": "code",
   "execution_count": 14,
   "id": "f247839e-0f73-4933-881d-981088b665eb",
   "metadata": {},
   "outputs": [
    {
     "data": {
      "text/plain": [
       "<matplotlib.legend.Legend at 0x1989e570f40>"
      ]
     },
     "execution_count": 14,
     "metadata": {},
     "output_type": "execute_result"
    },
    {
     "data": {
      "image/png": "[encoded data removed]",
      "text/plain": [
       "<Figure size 432x288 with 1 Axes>"
      ]
     },
     "metadata": {
      "needs_background": "light"
     },
     "output_type": "display_data"
    }
   ],
   "source": [
    "results = xgb.evals_result()\n",
    "#plt.plot(results[\"validation_0\"][\"mape\"], c= \"b\", label=\"train metric\")\n",
    "plt.plot(results[\"validation_0\"][\"mape\"], c= \"orange\", label=\"test metric\")\n",
    "plt.legend()"
   ]
  },
  {
   "cell_type": "code",
   "execution_count": 15,
   "id": "89cf004f-da26-4446-8c9f-9ed2da396641",
   "metadata": {},
   "outputs": [
    {
     "name": "stderr",
     "output_type": "stream",
     "text": [
      "C:\\Users\\vietdata\\anaconda3\\envs\\ML_env\\lib\\site-packages\\xgboost\\core.py:122: UserWarning: ntree_limit is deprecated, use `iteration_range` or model slicing instead.\n",
      "  warnings.warn(\n"
     ]
    },
    {
     "name": "stdout",
     "output_type": "stream",
     "text": [
      "0.47864810871450986\n"
     ]
    }
   ],
   "source": [
    "pred = xgb.predict(test[features],ntree_limit=xgb.best_ntree_limit)\n",
    "print(mape(test[\"PricePerM2\"], pred))"
   ]
  },
  {
   "cell_type": "code",
   "execution_count": 17,
   "id": "8939d018-725a-46df-8f98-04e2f8ac6eb7",
   "metadata": {},
   "outputs": [
    {
     "data": {
      "text/plain": [
       "['log/best_tree.pkl']"
      ]
     },
     "execution_count": 17,
     "metadata": {},
     "output_type": "execute_result"
    }
   ],
   "source": [
    "joblib.dump(xgb, \"log/best_tree.pkl\") "
   ]
  },
  {
   "cell_type": "code",
   "execution_count": 18,
   "id": "f0bdbe12-7216-48cc-9800-b063681a36ea",
   "metadata": {},
   "outputs": [
    {
     "data": {
      "text/plain": [
       "147"
      ]
     },
     "execution_count": 18,
     "metadata": {},
     "output_type": "execute_result"
    }
   ],
   "source": [
    "joblib.load(\"log/best_tree.pkl\").best_ntree_limit"
   ]
  },
  {
   "cell_type": "code",
   "execution_count": 22,
   "id": "3a547f08-541c-4501-91b1-1d3ede7eb0d8",
   "metadata": {},
   "outputs": [],
   "source": [
    "xgb.save_model(\"log/xgb.json\")"
   ]
  },
  {
   "cell_type": "code",
   "execution_count": 18,
   "id": "82414653-dd4d-4551-8176-29011885e341",
   "metadata": {},
   "outputs": [],
   "source": [
    "import pandas as pd"
   ]
  }
 ],
 "metadata": {
  "kernelspec": {
   "display_name": "Python 3 (ipykernel)",
   "language": "python",
   "name": "python3"
  },
  "language_info": {
   "codemirror_mode": {
    "name": "ipython",
    "version": 3
   },
   "file_extension": ".py",
   "mimetype": "text/x-python",
   "name": "python",
   "nbconvert_exporter": "python",
   "pygments_lexer": "ipython3",
   "version": "3.10.4"
  }
 },
 "nbformat": 4,
 "nbformat_minor": 5
}
