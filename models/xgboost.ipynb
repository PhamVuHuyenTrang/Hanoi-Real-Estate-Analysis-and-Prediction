{
 "cells": [
  {
   "cell_type": "code",
   "execution_count": 1,
   "id": "4bad0642-40c5-4c94-bf7a-c988ad135136",
   "metadata": {
    "tags": []
   },
   "outputs": [],
   "source": [
    "import pandas as pd\n",
    "import numpy as np\n",
    "from xgboost import XGBRegressor\n",
    "from sklearn.model_selection import train_test_split\n",
    "from sklearn.metrics import mean_absolute_percentage_error as mape\n",
    "from sklearn.metrics import r2_score\n",
    "from matplotlib import pyplot as plt\n",
    "from sklearn.preprocessing import LabelEncoder\n",
    "from sklearn.manifold import TSNE\n",
    "import time\n",
    "from sklearn.preprocessing import MinMaxScaler, StandardScaler, RobustScaler\n",
    "from sklearn.decomposition import PCA\n",
    "import joblib"
   ]
  },
  {
   "cell_type": "code",
   "execution_count": 2,
   "id": "7c70fe09-a51c-4aa2-8ddf-5b72967e7b8d",
   "metadata": {},
   "outputs": [],
   "source": [
    "from preprocess import EstateData\n",
    "\n",
    "dataset = EstateData(\"final.csv\")"
   ]
  },
  {
   "cell_type": "code",
   "execution_count": 3,
   "id": "c75b1911-41bf-4571-9d26-26f1c4c27633",
   "metadata": {},
   "outputs": [],
   "source": [
    "dataset.split_data(stratify=True)"
   ]
  },
  {
   "cell_type": "code",
   "execution_count": 4,
   "id": "1334144f-b80f-4f0e-b8a4-5970810c4c7f",
   "metadata": {},
   "outputs": [
    {
     "name": "stdout",
     "output_type": "stream",
     "text": [
      "Start Process!\n",
      "Fill missing values: Done\n",
      "Remove outlier: Done\n",
      "Scale features: Done\n"
     ]
    }
   ],
   "source": [
    "dataset.preprocess(tukey=True)"
   ]
  },
  {
   "cell_type": "code",
   "execution_count": 146,
   "id": "f2ec0f87-c94a-4d9a-bbc0-0633c77adddf",
   "metadata": {},
   "outputs": [],
   "source": [
    "train = dataset.train\n",
    "test = dataset.test"
   ]
  },
  {
   "cell_type": "code",
   "execution_count": 147,
   "id": "ed6ef9a7-c08e-4f60-a00c-0c1738b3237a",
   "metadata": {},
   "outputs": [
    {
     "name": "stdout",
     "output_type": "stream",
     "text": [
      "train size (31647, 12)\n",
      "test size (9287, 12)\n"
     ]
    }
   ],
   "source": [
    "print(\"train size {}\".format(train.shape))\n",
    "print(\"test size {}\".format(test.shape))"
   ]
  },
  {
   "cell_type": "code",
   "execution_count": 148,
   "id": "5c1407d0-ee72-4f6c-b4a8-c3f3ba754c1e",
   "metadata": {},
   "outputs": [
    {
     "data": {
      "text/html": [
       "<div>\n",
       "<style scoped>\n",
       "    .dataframe tbody tr th:only-of-type {\n",
       "        vertical-align: middle;\n",
       "    }\n",
       "\n",
       "    .dataframe tbody tr th {\n",
       "        vertical-align: top;\n",
       "    }\n",
       "\n",
       "    .dataframe thead th {\n",
       "        text-align: right;\n",
       "    }\n",
       "</style>\n",
       "<table border=\"1\" class=\"dataframe\">\n",
       "  <thead>\n",
       "    <tr style=\"text-align: right;\">\n",
       "      <th></th>\n",
       "      <th>House Direction</th>\n",
       "      <th>Balcony Direction</th>\n",
       "      <th>Toilets</th>\n",
       "      <th>Bedrooms</th>\n",
       "      <th>Legits</th>\n",
       "      <th>Floors</th>\n",
       "      <th>Facade</th>\n",
       "      <th>Entrance</th>\n",
       "      <th>Area</th>\n",
       "      <th>X</th>\n",
       "      <th>Y</th>\n",
       "      <th>PricePerM2</th>\n",
       "    </tr>\n",
       "  </thead>\n",
       "  <tbody>\n",
       "    <tr>\n",
       "      <th>44584</th>\n",
       "      <td>None</td>\n",
       "      <td>None</td>\n",
       "      <td>None</td>\n",
       "      <td>6</td>\n",
       "      <td>None</td>\n",
       "      <td>7</td>\n",
       "      <td>-0.236641</td>\n",
       "      <td>0.000000</td>\n",
       "      <td>-0.282051</td>\n",
       "      <td>0.274525</td>\n",
       "      <td>-0.913715</td>\n",
       "      <td>1238.636364</td>\n",
       "    </tr>\n",
       "    <tr>\n",
       "      <th>13962</th>\n",
       "      <td>None</td>\n",
       "      <td>None</td>\n",
       "      <td>3</td>\n",
       "      <td>5</td>\n",
       "      <td>+đỏ+hồng</td>\n",
       "      <td>3</td>\n",
       "      <td>0.386099</td>\n",
       "      <td>7.602658</td>\n",
       "      <td>1.153846</td>\n",
       "      <td>1.065604</td>\n",
       "      <td>0.919023</td>\n",
       "      <td>120.000000</td>\n",
       "    </tr>\n",
       "    <tr>\n",
       "      <th>45391</th>\n",
       "      <td>None</td>\n",
       "      <td>None</td>\n",
       "      <td>None</td>\n",
       "      <td>9</td>\n",
       "      <td>None</td>\n",
       "      <td>5</td>\n",
       "      <td>-0.610285</td>\n",
       "      <td>0.000000</td>\n",
       "      <td>-0.179487</td>\n",
       "      <td>0.540564</td>\n",
       "      <td>0.092833</td>\n",
       "      <td>1412.500000</td>\n",
       "    </tr>\n",
       "    <tr>\n",
       "      <th>3503</th>\n",
       "      <td>None</td>\n",
       "      <td>None</td>\n",
       "      <td>4</td>\n",
       "      <td>4</td>\n",
       "      <td>None</td>\n",
       "      <td>5</td>\n",
       "      <td>-0.261551</td>\n",
       "      <td>-5.897342</td>\n",
       "      <td>-0.692308</td>\n",
       "      <td>0.148620</td>\n",
       "      <td>0.071751</td>\n",
       "      <td>160.714286</td>\n",
       "    </tr>\n",
       "    <tr>\n",
       "      <th>21689</th>\n",
       "      <td>đông nam</td>\n",
       "      <td>None</td>\n",
       "      <td>None</td>\n",
       "      <td>3</td>\n",
       "      <td>+đỏ</td>\n",
       "      <td>None</td>\n",
       "      <td>-0.112093</td>\n",
       "      <td>0.000000</td>\n",
       "      <td>-0.128205</td>\n",
       "      <td>0.299616</td>\n",
       "      <td>0.650191</td>\n",
       "      <td>114.000000</td>\n",
       "    </tr>\n",
       "  </tbody>\n",
       "</table>\n",
       "</div>"
      ],
      "text/plain": [
       "      House Direction Balcony Direction Toilets Bedrooms    Legits Floors  \\\n",
       "44584            None              None    None        6      None      7   \n",
       "13962            None              None       3        5  +đỏ+hồng      3   \n",
       "45391            None              None    None        9      None      5   \n",
       "3503             None              None       4        4      None      5   \n",
       "21689        đông nam              None    None        3       +đỏ   None   \n",
       "\n",
       "         Facade  Entrance      Area         X         Y   PricePerM2  \n",
       "44584 -0.236641  0.000000 -0.282051  0.274525 -0.913715  1238.636364  \n",
       "13962  0.386099  7.602658  1.153846  1.065604  0.919023   120.000000  \n",
       "45391 -0.610285  0.000000 -0.179487  0.540564  0.092833  1412.500000  \n",
       "3503  -0.261551 -5.897342 -0.692308  0.148620  0.071751   160.714286  \n",
       "21689 -0.112093  0.000000 -0.128205  0.299616  0.650191   114.000000  "
      ]
     },
     "execution_count": 148,
     "metadata": {},
     "output_type": "execute_result"
    }
   ],
   "source": [
    "train.head()"
   ]
  },
  {
   "cell_type": "code",
   "execution_count": 149,
   "id": "1094d929-926b-4388-bc78-e551697cffb2",
   "metadata": {},
   "outputs": [
    {
     "data": {
      "text/plain": [
       "House Direction      0.0\n",
       "Balcony Direction    0.0\n",
       "Toilets              0.0\n",
       "Bedrooms             0.0\n",
       "Legits               0.0\n",
       "Floors               0.0\n",
       "Facade               0.0\n",
       "Entrance             0.0\n",
       "Area                 0.0\n",
       "X                    0.0\n",
       "Y                    0.0\n",
       "PricePerM2           0.0\n",
       "dtype: float64"
      ]
     },
     "execution_count": 149,
     "metadata": {},
     "output_type": "execute_result"
    }
   ],
   "source": [
    "test.isnull().mean()"
   ]
  },
  {
   "cell_type": "code",
   "execution_count": 150,
   "id": "811a364c-ba4d-41c2-8aae-f5b0eea69d03",
   "metadata": {},
   "outputs": [],
   "source": [
    "train, dev = train_test_split(train, test_size=0.1, random_state=0)"
   ]
  },
  {
   "cell_type": "code",
   "execution_count": 151,
   "id": "d67e4065-a6b7-4a69-971d-5ecf2edee840",
   "metadata": {},
   "outputs": [],
   "source": [
    "features = train.columns.tolist()\n",
    "features.remove(\"PricePerM2\")\n"
   ]
  },
  {
   "cell_type": "code",
   "execution_count": 163,
   "id": "a3c1204a-5364-498c-a8b4-a647b0065b40",
   "metadata": {},
   "outputs": [],
   "source": [
    "xgb = XGBRegressor(n_estimators = 300, max_depth=20, eta=0.01, gamma=1, tree_method=\"gpu_hist\", subsample=1, objective=\"reg:squarederror\", enable_categorical=True, random_state=0)"
   ]
  },
  {
   "cell_type": "code",
   "execution_count": 164,
   "id": "f047f72f-cfeb-46a0-ac08-fd704c05b22f",
   "metadata": {},
   "outputs": [
    {
     "name": "stderr",
     "output_type": "stream",
     "text": [
      "C:\\Users\\vietdata\\anaconda3\\envs\\ML_env\\lib\\site-packages\\xgboost\\sklearn.py:835: UserWarning: `eval_metric` in `fit` method is deprecated for better compatibility with scikit-learn, use `eval_metric` in constructor or`set_params` instead.\n",
      "  warnings.warn(\n",
      "C:\\Users\\vietdata\\anaconda3\\envs\\ML_env\\lib\\site-packages\\xgboost\\sklearn.py:835: UserWarning: `early_stopping_rounds` in `fit` method is deprecated for better compatibility with scikit-learn, use `early_stopping_rounds` in constructor or`set_params` instead.\n",
      "  warnings.warn(\n"
     ]
    },
    {
     "name": "stdout",
     "output_type": "stream",
     "text": [
      "[0]\tvalidation_0-mape:0.98278\tvalidation_1-mape:0.98292\n",
      "[1]\tvalidation_0-mape:0.97077\tvalidation_1-mape:0.97098\n",
      "[2]\tvalidation_0-mape:0.95905\tvalidation_1-mape:0.95930\n",
      "[3]\tvalidation_0-mape:0.94771\tvalidation_1-mape:0.94790\n",
      "[4]\tvalidation_0-mape:0.93656\tvalidation_1-mape:0.93681\n",
      "[5]\tvalidation_0-mape:0.92564\tvalidation_1-mape:0.92605\n",
      "[6]\tvalidation_0-mape:0.91501\tvalidation_1-mape:0.91563\n",
      "[7]\tvalidation_0-mape:0.90475\tvalidation_1-mape:0.90559\n",
      "[8]\tvalidation_0-mape:0.89472\tvalidation_1-mape:0.89589\n",
      "[9]\tvalidation_0-mape:0.88489\tvalidation_1-mape:0.88649\n",
      "[10]\tvalidation_0-mape:0.87527\tvalidation_1-mape:0.87747\n",
      "[11]\tvalidation_0-mape:0.86590\tvalidation_1-mape:0.86874\n",
      "[12]\tvalidation_0-mape:0.85682\tvalidation_1-mape:0.86043\n",
      "[13]\tvalidation_0-mape:0.84810\tvalidation_1-mape:0.85235\n",
      "[14]\tvalidation_0-mape:0.83957\tvalidation_1-mape:0.84459\n",
      "[15]\tvalidation_0-mape:0.83133\tvalidation_1-mape:0.83705\n",
      "[16]\tvalidation_0-mape:0.82310\tvalidation_1-mape:0.82963\n",
      "[17]\tvalidation_0-mape:0.81508\tvalidation_1-mape:0.82238\n",
      "[18]\tvalidation_0-mape:0.80732\tvalidation_1-mape:0.81528\n",
      "[19]\tvalidation_0-mape:0.79966\tvalidation_1-mape:0.80837\n",
      "[20]\tvalidation_0-mape:0.79216\tvalidation_1-mape:0.80159\n",
      "[21]\tvalidation_0-mape:0.78485\tvalidation_1-mape:0.79501\n",
      "[22]\tvalidation_0-mape:0.77772\tvalidation_1-mape:0.78841\n",
      "[23]\tvalidation_0-mape:0.77072\tvalidation_1-mape:0.78197\n",
      "[24]\tvalidation_0-mape:0.76370\tvalidation_1-mape:0.77566\n",
      "[25]\tvalidation_0-mape:0.75677\tvalidation_1-mape:0.76948\n",
      "[26]\tvalidation_0-mape:0.74990\tvalidation_1-mape:0.76348\n",
      "[27]\tvalidation_0-mape:0.74314\tvalidation_1-mape:0.75760\n",
      "[28]\tvalidation_0-mape:0.73674\tvalidation_1-mape:0.75175\n",
      "[29]\tvalidation_0-mape:0.73010\tvalidation_1-mape:0.74609\n",
      "[30]\tvalidation_0-mape:0.72378\tvalidation_1-mape:0.74051\n",
      "[31]\tvalidation_0-mape:0.71764\tvalidation_1-mape:0.73497\n",
      "[32]\tvalidation_0-mape:0.71136\tvalidation_1-mape:0.72956\n",
      "[33]\tvalidation_0-mape:0.70517\tvalidation_1-mape:0.72439\n",
      "[34]\tvalidation_0-mape:0.69914\tvalidation_1-mape:0.71921\n",
      "[35]\tvalidation_0-mape:0.69342\tvalidation_1-mape:0.71427\n",
      "[36]\tvalidation_0-mape:0.68752\tvalidation_1-mape:0.70941\n",
      "[37]\tvalidation_0-mape:0.68178\tvalidation_1-mape:0.70457\n",
      "[38]\tvalidation_0-mape:0.67615\tvalidation_1-mape:0.69978\n",
      "[39]\tvalidation_0-mape:0.67064\tvalidation_1-mape:0.69500\n",
      "[40]\tvalidation_0-mape:0.66501\tvalidation_1-mape:0.69042\n",
      "[41]\tvalidation_0-mape:0.65955\tvalidation_1-mape:0.68595\n",
      "[42]\tvalidation_0-mape:0.65401\tvalidation_1-mape:0.68144\n",
      "[43]\tvalidation_0-mape:0.64861\tvalidation_1-mape:0.67709\n",
      "[44]\tvalidation_0-mape:0.64331\tvalidation_1-mape:0.67267\n",
      "[45]\tvalidation_0-mape:0.63849\tvalidation_1-mape:0.66850\n",
      "[46]\tvalidation_0-mape:0.63334\tvalidation_1-mape:0.66439\n",
      "[47]\tvalidation_0-mape:0.62821\tvalidation_1-mape:0.66007\n",
      "[48]\tvalidation_0-mape:0.62342\tvalidation_1-mape:0.65607\n",
      "[49]\tvalidation_0-mape:0.61851\tvalidation_1-mape:0.65210\n",
      "[50]\tvalidation_0-mape:0.61374\tvalidation_1-mape:0.64826\n",
      "[51]\tvalidation_0-mape:0.60925\tvalidation_1-mape:0.64434\n",
      "[52]\tvalidation_0-mape:0.60465\tvalidation_1-mape:0.64078\n",
      "[53]\tvalidation_0-mape:0.60026\tvalidation_1-mape:0.63716\n",
      "[54]\tvalidation_0-mape:0.59579\tvalidation_1-mape:0.63361\n",
      "[55]\tvalidation_0-mape:0.59141\tvalidation_1-mape:0.63012\n",
      "[56]\tvalidation_0-mape:0.58724\tvalidation_1-mape:0.62661\n",
      "[57]\tvalidation_0-mape:0.58288\tvalidation_1-mape:0.62323\n",
      "[58]\tvalidation_0-mape:0.57851\tvalidation_1-mape:0.61987\n",
      "[59]\tvalidation_0-mape:0.57428\tvalidation_1-mape:0.61660\n",
      "[60]\tvalidation_0-mape:0.56999\tvalidation_1-mape:0.61325\n",
      "[61]\tvalidation_0-mape:0.56581\tvalidation_1-mape:0.61011\n",
      "[62]\tvalidation_0-mape:0.56162\tvalidation_1-mape:0.60699\n",
      "[63]\tvalidation_0-mape:0.55778\tvalidation_1-mape:0.60388\n",
      "[64]\tvalidation_0-mape:0.55395\tvalidation_1-mape:0.60086\n",
      "[65]\tvalidation_0-mape:0.54995\tvalidation_1-mape:0.59791\n",
      "[66]\tvalidation_0-mape:0.54628\tvalidation_1-mape:0.59493\n",
      "[67]\tvalidation_0-mape:0.54267\tvalidation_1-mape:0.59197\n",
      "[68]\tvalidation_0-mape:0.53894\tvalidation_1-mape:0.58907\n",
      "[69]\tvalidation_0-mape:0.53546\tvalidation_1-mape:0.58619\n",
      "[70]\tvalidation_0-mape:0.53204\tvalidation_1-mape:0.58335\n",
      "[71]\tvalidation_0-mape:0.52853\tvalidation_1-mape:0.58071\n",
      "[72]\tvalidation_0-mape:0.52519\tvalidation_1-mape:0.57803\n",
      "[73]\tvalidation_0-mape:0.52185\tvalidation_1-mape:0.57546\n",
      "[74]\tvalidation_0-mape:0.51855\tvalidation_1-mape:0.57289\n",
      "[75]\tvalidation_0-mape:0.51542\tvalidation_1-mape:0.57031\n",
      "[76]\tvalidation_0-mape:0.51236\tvalidation_1-mape:0.56786\n",
      "[77]\tvalidation_0-mape:0.50923\tvalidation_1-mape:0.56545\n",
      "[78]\tvalidation_0-mape:0.50608\tvalidation_1-mape:0.56314\n",
      "[79]\tvalidation_0-mape:0.50317\tvalidation_1-mape:0.56080\n",
      "[80]\tvalidation_0-mape:0.50018\tvalidation_1-mape:0.55856\n",
      "[81]\tvalidation_0-mape:0.49750\tvalidation_1-mape:0.55644\n",
      "[82]\tvalidation_0-mape:0.49486\tvalidation_1-mape:0.55428\n",
      "[83]\tvalidation_0-mape:0.49201\tvalidation_1-mape:0.55227\n",
      "[84]\tvalidation_0-mape:0.48942\tvalidation_1-mape:0.55027\n",
      "[85]\tvalidation_0-mape:0.48659\tvalidation_1-mape:0.54815\n",
      "[86]\tvalidation_0-mape:0.48401\tvalidation_1-mape:0.54623\n",
      "[87]\tvalidation_0-mape:0.48147\tvalidation_1-mape:0.54421\n",
      "[88]\tvalidation_0-mape:0.47898\tvalidation_1-mape:0.54234\n",
      "[89]\tvalidation_0-mape:0.47630\tvalidation_1-mape:0.54043\n",
      "[90]\tvalidation_0-mape:0.47400\tvalidation_1-mape:0.53857\n",
      "[91]\tvalidation_0-mape:0.47160\tvalidation_1-mape:0.53677\n",
      "[92]\tvalidation_0-mape:0.46936\tvalidation_1-mape:0.53500\n",
      "[93]\tvalidation_0-mape:0.46703\tvalidation_1-mape:0.53322\n",
      "[94]\tvalidation_0-mape:0.46490\tvalidation_1-mape:0.53154\n",
      "[95]\tvalidation_0-mape:0.46287\tvalidation_1-mape:0.52991\n",
      "[96]\tvalidation_0-mape:0.46061\tvalidation_1-mape:0.52830\n",
      "[97]\tvalidation_0-mape:0.45867\tvalidation_1-mape:0.52683\n",
      "[98]\tvalidation_0-mape:0.45662\tvalidation_1-mape:0.52533\n",
      "[99]\tvalidation_0-mape:0.45463\tvalidation_1-mape:0.52380\n",
      "[100]\tvalidation_0-mape:0.45279\tvalidation_1-mape:0.52231\n",
      "[101]\tvalidation_0-mape:0.45093\tvalidation_1-mape:0.52088\n",
      "[102]\tvalidation_0-mape:0.44896\tvalidation_1-mape:0.51957\n",
      "[103]\tvalidation_0-mape:0.44720\tvalidation_1-mape:0.51815\n",
      "[104]\tvalidation_0-mape:0.44550\tvalidation_1-mape:0.51681\n",
      "[105]\tvalidation_0-mape:0.44382\tvalidation_1-mape:0.51551\n",
      "[106]\tvalidation_0-mape:0.44216\tvalidation_1-mape:0.51417\n",
      "[107]\tvalidation_0-mape:0.44054\tvalidation_1-mape:0.51288\n",
      "[108]\tvalidation_0-mape:0.43895\tvalidation_1-mape:0.51169\n",
      "[109]\tvalidation_0-mape:0.43749\tvalidation_1-mape:0.51046\n",
      "[110]\tvalidation_0-mape:0.43601\tvalidation_1-mape:0.50925\n",
      "[111]\tvalidation_0-mape:0.43452\tvalidation_1-mape:0.50813\n",
      "[112]\tvalidation_0-mape:0.43316\tvalidation_1-mape:0.50698\n",
      "[113]\tvalidation_0-mape:0.43181\tvalidation_1-mape:0.50595\n",
      "[114]\tvalidation_0-mape:0.43049\tvalidation_1-mape:0.50486\n",
      "[115]\tvalidation_0-mape:0.42921\tvalidation_1-mape:0.50383\n",
      "[116]\tvalidation_0-mape:0.42797\tvalidation_1-mape:0.50280\n",
      "[117]\tvalidation_0-mape:0.42675\tvalidation_1-mape:0.50185\n",
      "[118]\tvalidation_0-mape:0.42555\tvalidation_1-mape:0.50097\n",
      "[119]\tvalidation_0-mape:0.42443\tvalidation_1-mape:0.50007\n",
      "[120]\tvalidation_0-mape:0.42336\tvalidation_1-mape:0.49930\n",
      "[121]\tvalidation_0-mape:0.42229\tvalidation_1-mape:0.49843\n",
      "[122]\tvalidation_0-mape:0.42131\tvalidation_1-mape:0.49765\n",
      "[123]\tvalidation_0-mape:0.42025\tvalidation_1-mape:0.49684\n",
      "[124]\tvalidation_0-mape:0.41927\tvalidation_1-mape:0.49609\n",
      "[125]\tvalidation_0-mape:0.41837\tvalidation_1-mape:0.49535\n",
      "[126]\tvalidation_0-mape:0.41740\tvalidation_1-mape:0.49469\n",
      "[127]\tvalidation_0-mape:0.41652\tvalidation_1-mape:0.49397\n",
      "[128]\tvalidation_0-mape:0.41574\tvalidation_1-mape:0.49331\n",
      "[129]\tvalidation_0-mape:0.41491\tvalidation_1-mape:0.49263\n",
      "[130]\tvalidation_0-mape:0.41406\tvalidation_1-mape:0.49194\n",
      "[131]\tvalidation_0-mape:0.41322\tvalidation_1-mape:0.49127\n",
      "[132]\tvalidation_0-mape:0.41246\tvalidation_1-mape:0.49063\n",
      "[133]\tvalidation_0-mape:0.41176\tvalidation_1-mape:0.48999\n",
      "[134]\tvalidation_0-mape:0.41105\tvalidation_1-mape:0.48942\n",
      "[135]\tvalidation_0-mape:0.41025\tvalidation_1-mape:0.48884\n",
      "[136]\tvalidation_0-mape:0.40956\tvalidation_1-mape:0.48833\n",
      "[137]\tvalidation_0-mape:0.40876\tvalidation_1-mape:0.48784\n",
      "[138]\tvalidation_0-mape:0.40804\tvalidation_1-mape:0.48737\n",
      "[139]\tvalidation_0-mape:0.40740\tvalidation_1-mape:0.48689\n",
      "[140]\tvalidation_0-mape:0.40679\tvalidation_1-mape:0.48642\n",
      "[141]\tvalidation_0-mape:0.40606\tvalidation_1-mape:0.48600\n",
      "[142]\tvalidation_0-mape:0.40538\tvalidation_1-mape:0.48557\n",
      "[143]\tvalidation_0-mape:0.40471\tvalidation_1-mape:0.48516\n",
      "[144]\tvalidation_0-mape:0.40406\tvalidation_1-mape:0.48477\n",
      "[145]\tvalidation_0-mape:0.40345\tvalidation_1-mape:0.48437\n",
      "[146]\tvalidation_0-mape:0.40282\tvalidation_1-mape:0.48394\n",
      "[147]\tvalidation_0-mape:0.40217\tvalidation_1-mape:0.48354\n",
      "[148]\tvalidation_0-mape:0.40151\tvalidation_1-mape:0.48314\n",
      "[149]\tvalidation_0-mape:0.40098\tvalidation_1-mape:0.48276\n",
      "[150]\tvalidation_0-mape:0.40049\tvalidation_1-mape:0.48240\n",
      "[151]\tvalidation_0-mape:0.39997\tvalidation_1-mape:0.48204\n",
      "[152]\tvalidation_0-mape:0.39946\tvalidation_1-mape:0.48171\n",
      "[153]\tvalidation_0-mape:0.39902\tvalidation_1-mape:0.48140\n",
      "[154]\tvalidation_0-mape:0.39856\tvalidation_1-mape:0.48109\n",
      "[155]\tvalidation_0-mape:0.39812\tvalidation_1-mape:0.48083\n",
      "[156]\tvalidation_0-mape:0.39766\tvalidation_1-mape:0.48055\n",
      "[157]\tvalidation_0-mape:0.39721\tvalidation_1-mape:0.48036\n",
      "[158]\tvalidation_0-mape:0.39676\tvalidation_1-mape:0.48015\n",
      "[159]\tvalidation_0-mape:0.39644\tvalidation_1-mape:0.47996\n",
      "[160]\tvalidation_0-mape:0.39606\tvalidation_1-mape:0.47977\n",
      "[161]\tvalidation_0-mape:0.39566\tvalidation_1-mape:0.47965\n",
      "[162]\tvalidation_0-mape:0.39541\tvalidation_1-mape:0.47951\n",
      "[163]\tvalidation_0-mape:0.39511\tvalidation_1-mape:0.47937\n",
      "[164]\tvalidation_0-mape:0.39477\tvalidation_1-mape:0.47929\n",
      "[165]\tvalidation_0-mape:0.39445\tvalidation_1-mape:0.47918\n",
      "[166]\tvalidation_0-mape:0.39414\tvalidation_1-mape:0.47909\n",
      "[167]\tvalidation_0-mape:0.39389\tvalidation_1-mape:0.47902\n",
      "[168]\tvalidation_0-mape:0.39361\tvalidation_1-mape:0.47890\n",
      "[169]\tvalidation_0-mape:0.39348\tvalidation_1-mape:0.47883\n",
      "[170]\tvalidation_0-mape:0.39328\tvalidation_1-mape:0.47881\n",
      "[171]\tvalidation_0-mape:0.39307\tvalidation_1-mape:0.47878\n",
      "[172]\tvalidation_0-mape:0.39287\tvalidation_1-mape:0.47875\n",
      "[173]\tvalidation_0-mape:0.39270\tvalidation_1-mape:0.47875\n",
      "[174]\tvalidation_0-mape:0.39250\tvalidation_1-mape:0.47872\n",
      "[175]\tvalidation_0-mape:0.39230\tvalidation_1-mape:0.47873\n",
      "[176]\tvalidation_0-mape:0.39217\tvalidation_1-mape:0.47873\n",
      "[177]\tvalidation_0-mape:0.39206\tvalidation_1-mape:0.47874\n",
      "[178]\tvalidation_0-mape:0.39193\tvalidation_1-mape:0.47878\n",
      "[179]\tvalidation_0-mape:0.39192\tvalidation_1-mape:0.47885\n",
      "[180]\tvalidation_0-mape:0.39183\tvalidation_1-mape:0.47895\n",
      "[181]\tvalidation_0-mape:0.39173\tvalidation_1-mape:0.47902\n",
      "[182]\tvalidation_0-mape:0.39167\tvalidation_1-mape:0.47913\n",
      "[183]\tvalidation_0-mape:0.39160\tvalidation_1-mape:0.47923\n",
      "[184]\tvalidation_0-mape:0.39159\tvalidation_1-mape:0.47933\n",
      "[185]\tvalidation_0-mape:0.39167\tvalidation_1-mape:0.47942\n",
      "[186]\tvalidation_0-mape:0.39162\tvalidation_1-mape:0.47952\n",
      "[187]\tvalidation_0-mape:0.39163\tvalidation_1-mape:0.47962\n",
      "[188]\tvalidation_0-mape:0.39158\tvalidation_1-mape:0.47971\n",
      "[189]\tvalidation_0-mape:0.39156\tvalidation_1-mape:0.47979\n",
      "[190]\tvalidation_0-mape:0.39156\tvalidation_1-mape:0.47985\n",
      "[191]\tvalidation_0-mape:0.39157\tvalidation_1-mape:0.47995\n",
      "[192]\tvalidation_0-mape:0.39168\tvalidation_1-mape:0.48006\n",
      "[193]\tvalidation_0-mape:0.39168\tvalidation_1-mape:0.48017\n"
     ]
    },
    {
     "data": {
      "text/plain": [
       "XGBRegressor(base_score=None, booster=None, callbacks=None,\n",
       "             colsample_bylevel=None, colsample_bynode=None,\n",
       "             colsample_bytree=None, early_stopping_rounds=None,\n",
       "             enable_categorical=True, eta=0.01, eval_metric=None,\n",
       "             feature_types=None, gamma=1, gpu_id=None, grow_policy=None,\n",
       "             importance_type=None, interaction_constraints=None,\n",
       "             learning_rate=None, max_bin=None, max_cat_threshold=None,\n",
       "             max_cat_to_onehot=None, max_delta_step=None, max_depth=20,\n",
       "             max_leaves=None, min_child_weight=None, missing=nan,\n",
       "             monotone_constraints=None, n_estimators=300, n_jobs=None,\n",
       "             num_parallel_tree=None, predictor=None, ...)"
      ]
     },
     "execution_count": 164,
     "metadata": {},
     "output_type": "execute_result"
    }
   ],
   "source": [
    "xgb.fit(train[features], train[\"PricePerM2\"], eval_set=[(dev[features], dev[\"PricePerM2\"]), (test[features], test[\"PricePerM2\"])], eval_metric=\"mape\", early_stopping_rounds=20)"
   ]
  },
  {
   "cell_type": "code",
   "execution_count": 165,
   "id": "47b901fa-c576-46aa-8ae5-70afd4687d5d",
   "metadata": {},
   "outputs": [],
   "source": [
    "with open(\"log/best_tree.txt\", \"w\") as f:\n",
    "    f.write(str(xgb.best_ntree_limit))"
   ]
  },
  {
   "cell_type": "code",
   "execution_count": 166,
   "id": "f247839e-0f73-4933-881d-981088b665eb",
   "metadata": {},
   "outputs": [
    {
     "data": {
      "text/plain": [
       "Text(0, 0.5, 'MAPE')"
      ]
     },
     "execution_count": 166,
     "metadata": {},
     "output_type": "execute_result"
    },
    {
     "data": {
      "image/png": "[encoded data removed]",
      "text/plain": [
       "<Figure size 1500x1000 with 1 Axes>"
      ]
     },
     "metadata": {
      "needs_background": "light"
     },
     "output_type": "display_data"
    }
   ],
   "source": [
    "results = xgb.evals_result()\n",
    "plt.figure(dpi=250)\n",
    "plt.plot(results[\"validation_0\"][\"mape\"], c= \"b\", label=\"dev metric\")\n",
    "plt.plot(results[\"validation_1\"][\"mape\"], c= \"orange\", label=\"test metric\")\n",
    "plt.legend()\n",
    "plt.xlabel(\"Rounds\")\n",
    "plt.ylabel(\"MAPE\")"
   ]
  },
  {
   "cell_type": "code",
   "execution_count": 167,
   "id": "89cf004f-da26-4446-8c9f-9ed2da396641",
   "metadata": {},
   "outputs": [
    {
     "name": "stderr",
     "output_type": "stream",
     "text": [
      "C:\\Users\\vietdata\\anaconda3\\envs\\ML_env\\lib\\site-packages\\xgboost\\core.py:122: UserWarning: ntree_limit is deprecated, use `iteration_range` or model slicing instead.\n",
      "  warnings.warn(\n"
     ]
    },
    {
     "name": "stdout",
     "output_type": "stream",
     "text": [
      "0.4787160628555353\n"
     ]
    }
   ],
   "source": [
    "pred = xgb.predict(test[features],ntree_limit=xgb.best_ntree_limit)\n",
    "print(mape(test[\"PricePerM2\"], pred))"
   ]
  },
  {
   "cell_type": "code",
   "execution_count": 168,
   "id": "9e0a130d-aecf-413c-bf40-ef929f1ba9d8",
   "metadata": {},
   "outputs": [
    {
     "name": "stderr",
     "output_type": "stream",
     "text": [
      "C:\\Users\\vietdata\\anaconda3\\envs\\ML_env\\lib\\site-packages\\xgboost\\core.py:122: UserWarning: ntree_limit is deprecated, use `iteration_range` or model slicing instead.\n",
      "  warnings.warn(\n"
     ]
    },
    {
     "name": "stdout",
     "output_type": "stream",
     "text": [
      "0.573897547878251\n"
     ]
    }
   ],
   "source": [
    "pred = xgb.predict(test[features],ntree_limit=xgb.best_ntree_limit)\n",
    "print(r2_score(test[\"PricePerM2\"], pred))"
   ]
  },
  {
   "cell_type": "code",
   "execution_count": 169,
   "id": "8939d018-725a-46df-8f98-04e2f8ac6eb7",
   "metadata": {},
   "outputs": [
    {
     "data": {
      "text/plain": [
       "['log/best_tree.pkl']"
      ]
     },
     "execution_count": 169,
     "metadata": {},
     "output_type": "execute_result"
    }
   ],
   "source": [
    "joblib.dump(xgb, \"log/best_tree.pkl\") "
   ]
  },
  {
   "cell_type": "code",
   "execution_count": 170,
   "id": "f0bdbe12-7216-48cc-9800-b063681a36ea",
   "metadata": {},
   "outputs": [
    {
     "data": {
      "text/plain": [
       "175"
      ]
     },
     "execution_count": 170,
     "metadata": {},
     "output_type": "execute_result"
    }
   ],
   "source": [
    "joblib.load(\"log/best_tree.pkl\").best_ntree_limit"
   ]
  },
  {
   "cell_type": "code",
   "execution_count": 113,
   "id": "3a547f08-541c-4501-91b1-1d3ede7eb0d8",
   "metadata": {},
   "outputs": [],
   "source": [
    "xgb.save_model(\"log/xgb.json\")"
   ]
  },
  {
   "cell_type": "code",
   "execution_count": 18,
   "id": "82414653-dd4d-4551-8176-29011885e341",
   "metadata": {},
   "outputs": [],
   "source": [
    "import pandas as pd"
   ]
  }
 ],
 "metadata": {
  "kernelspec": {
   "display_name": "Python 3 (ipykernel)",
   "language": "python",
   "name": "python3"
  },
  "language_info": {
   "codemirror_mode": {
    "name": "ipython",
    "version": 3
   },
   "file_extension": ".py",
   "mimetype": "text/x-python",
   "name": "python",
   "nbconvert_exporter": "python",
   "pygments_lexer": "ipython3",
   "version": "3.10.4"
  }
 },
 "nbformat": 4,
 "nbformat_minor": 5
}
