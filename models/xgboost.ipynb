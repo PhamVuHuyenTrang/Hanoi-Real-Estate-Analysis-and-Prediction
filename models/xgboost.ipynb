{
 "cells": [
  {
   "cell_type": "code",
   "execution_count": 1,
   "id": "4bad0642-40c5-4c94-bf7a-c988ad135136",
   "metadata": {
    "tags": []
   },
   "outputs": [],
   "source": [
    "import pandas as pd\n",
    "import numpy as np\n",
    "from xgboost import XGBRegressor\n",
    "from sklearn.model_selection import train_test_split\n",
    "from sklearn.metrics import mean_absolute_percentage_error as mape\n",
    "from sklearn.metrics import r2_score\n",
    "from matplotlib import pyplot as plt\n",
    "from sklearn.preprocessing import LabelEncoder\n",
    "from sklearn.manifold import TSNE\n",
    "import time\n",
    "from sklearn.preprocessing import MinMaxScaler, StandardScaler, RobustScaler\n",
    "from sklearn.decomposition import PCA\n",
    "import joblib"
   ]
  },
  {
   "cell_type": "code",
   "execution_count": 2,
   "id": "7c70fe09-a51c-4aa2-8ddf-5b72967e7b8d",
   "metadata": {},
   "outputs": [],
   "source": [
    "from preprocess import EstateData\n",
    "\n",
    "dataset = EstateData(\"final.csv\")"
   ]
  },
  {
   "cell_type": "code",
   "execution_count": 3,
   "id": "c75b1911-41bf-4571-9d26-26f1c4c27633",
   "metadata": {},
   "outputs": [],
   "source": [
    "dataset.split_data(stratify=True)"
   ]
  },
  {
   "cell_type": "code",
   "execution_count": 4,
   "id": "1334144f-b80f-4f0e-b8a4-5970810c4c7f",
   "metadata": {},
   "outputs": [
    {
     "name": "stdout",
     "output_type": "stream",
     "text": [
      "Start Process!\n",
      "Fill missing values: Done\n",
      "Remove outlier: Done\n",
      "Scale features: Done\n"
     ]
    }
   ],
   "source": [
    "dataset.preprocess(tukey=True)"
   ]
  },
  {
   "cell_type": "code",
   "execution_count": 5,
   "id": "f2ec0f87-c94a-4d9a-bbc0-0633c77adddf",
   "metadata": {},
   "outputs": [],
   "source": [
    "train = dataset.train\n",
    "test = dataset.test"
   ]
  },
  {
   "cell_type": "code",
   "execution_count": 6,
   "id": "ed6ef9a7-c08e-4f60-a00c-0c1738b3237a",
   "metadata": {},
   "outputs": [
    {
     "name": "stdout",
     "output_type": "stream",
     "text": [
      "train size (33076, 11)\n",
      "test size (9278, 11)\n"
     ]
    }
   ],
   "source": [
    "print(\"train size {}\".format(train.shape))\n",
    "print(\"test size {}\".format(test.shape))"
   ]
  },
  {
   "cell_type": "code",
   "execution_count": 7,
   "id": "5c1407d0-ee72-4f6c-b4a8-c3f3ba754c1e",
   "metadata": {},
   "outputs": [
    {
     "data": {
      "text/html": [
       "<div>\n",
       "<style scoped>\n",
       "    .dataframe tbody tr th:only-of-type {\n",
       "        vertical-align: middle;\n",
       "    }\n",
       "\n",
       "    .dataframe tbody tr th {\n",
       "        vertical-align: top;\n",
       "    }\n",
       "\n",
       "    .dataframe thead th {\n",
       "        text-align: right;\n",
       "    }\n",
       "</style>\n",
       "<table border=\"1\" class=\"dataframe\">\n",
       "  <thead>\n",
       "    <tr style=\"text-align: right;\">\n",
       "      <th></th>\n",
       "      <th>House Direction</th>\n",
       "      <th>Balcony Direction</th>\n",
       "      <th>Toilets</th>\n",
       "      <th>Bedrooms</th>\n",
       "      <th>Legits</th>\n",
       "      <th>Floors</th>\n",
       "      <th>Facade</th>\n",
       "      <th>Entrance</th>\n",
       "      <th>X</th>\n",
       "      <th>Y</th>\n",
       "      <th>PricePerM2</th>\n",
       "    </tr>\n",
       "  </thead>\n",
       "  <tbody>\n",
       "    <tr>\n",
       "      <th>44585</th>\n",
       "      <td>None</td>\n",
       "      <td>None</td>\n",
       "      <td>None</td>\n",
       "      <td>6</td>\n",
       "      <td>None</td>\n",
       "      <td>7</td>\n",
       "      <td>-0.371684</td>\n",
       "      <td>0.000000</td>\n",
       "      <td>0.257858</td>\n",
       "      <td>-0.861256</td>\n",
       "      <td>1238.636364</td>\n",
       "    </tr>\n",
       "    <tr>\n",
       "      <th>13963</th>\n",
       "      <td>None</td>\n",
       "      <td>None</td>\n",
       "      <td>3</td>\n",
       "      <td>5</td>\n",
       "      <td>+đỏ+hồng</td>\n",
       "      <td>3</td>\n",
       "      <td>0.247790</td>\n",
       "      <td>7.600665</td>\n",
       "      <td>1.033948</td>\n",
       "      <td>0.906604</td>\n",
       "      <td>120.000000</td>\n",
       "    </tr>\n",
       "    <tr>\n",
       "      <th>10935</th>\n",
       "      <td>tây nam</td>\n",
       "      <td>tây nam</td>\n",
       "      <td>10+</td>\n",
       "      <td>10+</td>\n",
       "      <td>+đỏ</td>\n",
       "      <td>6</td>\n",
       "      <td>0.504421</td>\n",
       "      <td>-7.399335</td>\n",
       "      <td>0.331334</td>\n",
       "      <td>0.095394</td>\n",
       "      <td>145.454545</td>\n",
       "    </tr>\n",
       "    <tr>\n",
       "      <th>3503</th>\n",
       "      <td>None</td>\n",
       "      <td>None</td>\n",
       "      <td>4</td>\n",
       "      <td>4</td>\n",
       "      <td>None</td>\n",
       "      <td>5</td>\n",
       "      <td>-0.396463</td>\n",
       "      <td>-5.899335</td>\n",
       "      <td>0.134339</td>\n",
       "      <td>0.089325</td>\n",
       "      <td>160.714286</td>\n",
       "    </tr>\n",
       "    <tr>\n",
       "      <th>23474</th>\n",
       "      <td>tây nam</td>\n",
       "      <td>None</td>\n",
       "      <td>5</td>\n",
       "      <td>3</td>\n",
       "      <td>None</td>\n",
       "      <td>5</td>\n",
       "      <td>-0.247790</td>\n",
       "      <td>0.000000</td>\n",
       "      <td>0.282473</td>\n",
       "      <td>0.647289</td>\n",
       "      <td>168.571429</td>\n",
       "    </tr>\n",
       "  </tbody>\n",
       "</table>\n",
       "</div>"
      ],
      "text/plain": [
       "      House Direction Balcony Direction Toilets Bedrooms    Legits Floors  \\\n",
       "44585            None              None    None        6      None      7   \n",
       "13963            None              None       3        5  +đỏ+hồng      3   \n",
       "10935         tây nam           tây nam     10+      10+       +đỏ      6   \n",
       "3503             None              None       4        4      None      5   \n",
       "23474         tây nam              None       5        3      None      5   \n",
       "\n",
       "         Facade  Entrance         X         Y   PricePerM2  \n",
       "44585 -0.371684  0.000000  0.257858 -0.861256  1238.636364  \n",
       "13963  0.247790  7.600665  1.033948  0.906604   120.000000  \n",
       "10935  0.504421 -7.399335  0.331334  0.095394   145.454545  \n",
       "3503  -0.396463 -5.899335  0.134339  0.089325   160.714286  \n",
       "23474 -0.247790  0.000000  0.282473  0.647289   168.571429  "
      ]
     },
     "execution_count": 7,
     "metadata": {},
     "output_type": "execute_result"
    }
   ],
   "source": [
    "train.head()"
   ]
  },
  {
   "cell_type": "code",
   "execution_count": 8,
   "id": "1094d929-926b-4388-bc78-e551697cffb2",
   "metadata": {},
   "outputs": [
    {
     "data": {
      "text/plain": [
       "House Direction      0.0\n",
       "Balcony Direction    0.0\n",
       "Toilets              0.0\n",
       "Bedrooms             0.0\n",
       "Legits               0.0\n",
       "Floors               0.0\n",
       "Facade               0.0\n",
       "Entrance             0.0\n",
       "X                    0.0\n",
       "Y                    0.0\n",
       "PricePerM2           0.0\n",
       "dtype: float64"
      ]
     },
     "execution_count": 8,
     "metadata": {},
     "output_type": "execute_result"
    }
   ],
   "source": [
    "test.isnull().mean()"
   ]
  },
  {
   "cell_type": "code",
   "execution_count": 9,
   "id": "811a364c-ba4d-41c2-8aae-f5b0eea69d03",
   "metadata": {},
   "outputs": [],
   "source": [
    "train, dev = train_test_split(train, test_size=0.1)"
   ]
  },
  {
   "cell_type": "code",
   "execution_count": 10,
   "id": "d67e4065-a6b7-4a69-971d-5ecf2edee840",
   "metadata": {},
   "outputs": [],
   "source": [
    "features = train.columns.tolist()\n",
    "features.remove(\"PricePerM2\")\n"
   ]
  },
  {
   "cell_type": "code",
   "execution_count": 11,
   "id": "a3c1204a-5364-498c-a8b4-a647b0065b40",
   "metadata": {},
   "outputs": [],
   "source": [
    "xgb = XGBRegressor(n_estimators = 300, max_depth=15, eta=0.01, gamma=1, tree_method=\"gpu_hist\", subsample=1, objective=\"reg:squarederror\", enable_categorical=True)"
   ]
  },
  {
   "cell_type": "code",
   "execution_count": 12,
   "id": "f047f72f-cfeb-46a0-ac08-fd704c05b22f",
   "metadata": {},
   "outputs": [
    {
     "name": "stderr",
     "output_type": "stream",
     "text": [
      "C:\\Users\\vietdata\\anaconda3\\envs\\ML_env\\lib\\site-packages\\xgboost\\sklearn.py:835: UserWarning: `eval_metric` in `fit` method is deprecated for better compatibility with scikit-learn, use `eval_metric` in constructor or`set_params` instead.\n",
      "  warnings.warn(\n",
      "C:\\Users\\vietdata\\anaconda3\\envs\\ML_env\\lib\\site-packages\\xgboost\\sklearn.py:835: UserWarning: `early_stopping_rounds` in `fit` method is deprecated for better compatibility with scikit-learn, use `early_stopping_rounds` in constructor or`set_params` instead.\n",
      "  warnings.warn(\n"
     ]
    },
    {
     "name": "stdout",
     "output_type": "stream",
     "text": [
      "[0]\tvalidation_0-mape:0.98163\n",
      "[1]\tvalidation_0-mape:0.96904\n",
      "[2]\tvalidation_0-mape:0.95692\n",
      "[3]\tvalidation_0-mape:0.94516\n",
      "[4]\tvalidation_0-mape:0.93370\n",
      "[5]\tvalidation_0-mape:0.92252\n",
      "[6]\tvalidation_0-mape:0.91184\n",
      "[7]\tvalidation_0-mape:0.90167\n",
      "[8]\tvalidation_0-mape:0.89175\n",
      "[9]\tvalidation_0-mape:0.88223\n",
      "[10]\tvalidation_0-mape:0.87296\n",
      "[11]\tvalidation_0-mape:0.86401\n",
      "[12]\tvalidation_0-mape:0.85544\n",
      "[13]\tvalidation_0-mape:0.84708\n",
      "[14]\tvalidation_0-mape:0.83883\n",
      "[15]\tvalidation_0-mape:0.83085\n",
      "[16]\tvalidation_0-mape:0.82294\n",
      "[17]\tvalidation_0-mape:0.81530\n",
      "[18]\tvalidation_0-mape:0.80785\n",
      "[19]\tvalidation_0-mape:0.80047\n",
      "[20]\tvalidation_0-mape:0.79339\n",
      "[21]\tvalidation_0-mape:0.78648\n",
      "[22]\tvalidation_0-mape:0.77952\n",
      "[23]\tvalidation_0-mape:0.77293\n",
      "[24]\tvalidation_0-mape:0.76637\n",
      "[25]\tvalidation_0-mape:0.76004\n",
      "[26]\tvalidation_0-mape:0.75366\n",
      "[27]\tvalidation_0-mape:0.74752\n",
      "[28]\tvalidation_0-mape:0.74147\n",
      "[29]\tvalidation_0-mape:0.73541\n",
      "[30]\tvalidation_0-mape:0.72948\n",
      "[31]\tvalidation_0-mape:0.72382\n",
      "[32]\tvalidation_0-mape:0.71810\n",
      "[33]\tvalidation_0-mape:0.71260\n",
      "[34]\tvalidation_0-mape:0.70699\n",
      "[35]\tvalidation_0-mape:0.70146\n",
      "[36]\tvalidation_0-mape:0.69629\n",
      "[37]\tvalidation_0-mape:0.69115\n",
      "[38]\tvalidation_0-mape:0.68603\n",
      "[39]\tvalidation_0-mape:0.68106\n",
      "[40]\tvalidation_0-mape:0.67614\n",
      "[41]\tvalidation_0-mape:0.67128\n",
      "[42]\tvalidation_0-mape:0.66640\n",
      "[43]\tvalidation_0-mape:0.66162\n",
      "[44]\tvalidation_0-mape:0.65697\n",
      "[45]\tvalidation_0-mape:0.65232\n",
      "[46]\tvalidation_0-mape:0.64785\n",
      "[47]\tvalidation_0-mape:0.64350\n",
      "[48]\tvalidation_0-mape:0.63922\n",
      "[49]\tvalidation_0-mape:0.63512\n",
      "[50]\tvalidation_0-mape:0.63105\n",
      "[51]\tvalidation_0-mape:0.62708\n",
      "[52]\tvalidation_0-mape:0.62314\n",
      "[53]\tvalidation_0-mape:0.61938\n",
      "[54]\tvalidation_0-mape:0.61559\n",
      "[55]\tvalidation_0-mape:0.61195\n",
      "[56]\tvalidation_0-mape:0.60840\n",
      "[57]\tvalidation_0-mape:0.60488\n",
      "[58]\tvalidation_0-mape:0.60145\n",
      "[59]\tvalidation_0-mape:0.59805\n",
      "[60]\tvalidation_0-mape:0.59477\n",
      "[61]\tvalidation_0-mape:0.59155\n",
      "[62]\tvalidation_0-mape:0.58830\n",
      "[63]\tvalidation_0-mape:0.58519\n",
      "[64]\tvalidation_0-mape:0.58202\n",
      "[65]\tvalidation_0-mape:0.57903\n",
      "[66]\tvalidation_0-mape:0.57602\n",
      "[67]\tvalidation_0-mape:0.57300\n",
      "[68]\tvalidation_0-mape:0.57007\n",
      "[69]\tvalidation_0-mape:0.56720\n",
      "[70]\tvalidation_0-mape:0.56443\n",
      "[71]\tvalidation_0-mape:0.56174\n",
      "[72]\tvalidation_0-mape:0.55916\n",
      "[73]\tvalidation_0-mape:0.55664\n",
      "[74]\tvalidation_0-mape:0.55417\n",
      "[75]\tvalidation_0-mape:0.55176\n",
      "[76]\tvalidation_0-mape:0.54934\n",
      "[77]\tvalidation_0-mape:0.54700\n",
      "[78]\tvalidation_0-mape:0.54474\n",
      "[79]\tvalidation_0-mape:0.54256\n",
      "[80]\tvalidation_0-mape:0.54034\n",
      "[81]\tvalidation_0-mape:0.53827\n",
      "[82]\tvalidation_0-mape:0.53620\n",
      "[83]\tvalidation_0-mape:0.53415\n",
      "[84]\tvalidation_0-mape:0.53200\n",
      "[85]\tvalidation_0-mape:0.53011\n",
      "[86]\tvalidation_0-mape:0.52817\n",
      "[87]\tvalidation_0-mape:0.52634\n",
      "[88]\tvalidation_0-mape:0.52466\n",
      "[89]\tvalidation_0-mape:0.52306\n",
      "[90]\tvalidation_0-mape:0.52159\n",
      "[91]\tvalidation_0-mape:0.51993\n",
      "[92]\tvalidation_0-mape:0.51838\n",
      "[93]\tvalidation_0-mape:0.51700\n",
      "[94]\tvalidation_0-mape:0.51555\n",
      "[95]\tvalidation_0-mape:0.51425\n",
      "[96]\tvalidation_0-mape:0.51290\n",
      "[97]\tvalidation_0-mape:0.51158\n",
      "[98]\tvalidation_0-mape:0.51031\n",
      "[99]\tvalidation_0-mape:0.50913\n",
      "[100]\tvalidation_0-mape:0.50794\n",
      "[101]\tvalidation_0-mape:0.50688\n",
      "[102]\tvalidation_0-mape:0.50564\n",
      "[103]\tvalidation_0-mape:0.50461\n",
      "[104]\tvalidation_0-mape:0.50350\n",
      "[105]\tvalidation_0-mape:0.50256\n",
      "[106]\tvalidation_0-mape:0.50163\n",
      "[107]\tvalidation_0-mape:0.50075\n",
      "[108]\tvalidation_0-mape:0.49981\n",
      "[109]\tvalidation_0-mape:0.49904\n",
      "[110]\tvalidation_0-mape:0.49821\n",
      "[111]\tvalidation_0-mape:0.49739\n",
      "[112]\tvalidation_0-mape:0.49671\n",
      "[113]\tvalidation_0-mape:0.49587\n",
      "[114]\tvalidation_0-mape:0.49514\n",
      "[115]\tvalidation_0-mape:0.49443\n",
      "[116]\tvalidation_0-mape:0.49368\n",
      "[117]\tvalidation_0-mape:0.49296\n",
      "[118]\tvalidation_0-mape:0.49227\n",
      "[119]\tvalidation_0-mape:0.49156\n",
      "[120]\tvalidation_0-mape:0.49095\n",
      "[121]\tvalidation_0-mape:0.49025\n",
      "[122]\tvalidation_0-mape:0.48967\n",
      "[123]\tvalidation_0-mape:0.48904\n",
      "[124]\tvalidation_0-mape:0.48851\n",
      "[125]\tvalidation_0-mape:0.48793\n",
      "[126]\tvalidation_0-mape:0.48741\n",
      "[127]\tvalidation_0-mape:0.48696\n",
      "[128]\tvalidation_0-mape:0.48644\n",
      "[129]\tvalidation_0-mape:0.48595\n",
      "[130]\tvalidation_0-mape:0.48560\n",
      "[131]\tvalidation_0-mape:0.48527\n",
      "[132]\tvalidation_0-mape:0.48496\n",
      "[133]\tvalidation_0-mape:0.48468\n",
      "[134]\tvalidation_0-mape:0.48440\n",
      "[135]\tvalidation_0-mape:0.48411\n",
      "[136]\tvalidation_0-mape:0.48386\n",
      "[137]\tvalidation_0-mape:0.48354\n",
      "[138]\tvalidation_0-mape:0.48324\n",
      "[139]\tvalidation_0-mape:0.48300\n",
      "[140]\tvalidation_0-mape:0.48277\n",
      "[141]\tvalidation_0-mape:0.48254\n",
      "[142]\tvalidation_0-mape:0.48230\n",
      "[143]\tvalidation_0-mape:0.48214\n",
      "[144]\tvalidation_0-mape:0.48197\n",
      "[145]\tvalidation_0-mape:0.48187\n",
      "[146]\tvalidation_0-mape:0.48168\n",
      "[147]\tvalidation_0-mape:0.48156\n",
      "[148]\tvalidation_0-mape:0.48148\n",
      "[149]\tvalidation_0-mape:0.48133\n",
      "[150]\tvalidation_0-mape:0.48124\n",
      "[151]\tvalidation_0-mape:0.48120\n",
      "[152]\tvalidation_0-mape:0.48117\n",
      "[153]\tvalidation_0-mape:0.48111\n",
      "[154]\tvalidation_0-mape:0.48106\n",
      "[155]\tvalidation_0-mape:0.48100\n",
      "[156]\tvalidation_0-mape:0.48104\n",
      "[157]\tvalidation_0-mape:0.48107\n",
      "[158]\tvalidation_0-mape:0.48110\n",
      "[159]\tvalidation_0-mape:0.48108\n",
      "[160]\tvalidation_0-mape:0.48109\n",
      "[161]\tvalidation_0-mape:0.48119\n",
      "[162]\tvalidation_0-mape:0.48120\n",
      "[163]\tvalidation_0-mape:0.48124\n",
      "[164]\tvalidation_0-mape:0.48128\n",
      "[165]\tvalidation_0-mape:0.48130\n",
      "[166]\tvalidation_0-mape:0.48153\n",
      "[167]\tvalidation_0-mape:0.48157\n",
      "[168]\tvalidation_0-mape:0.48175\n",
      "[169]\tvalidation_0-mape:0.48188\n",
      "[170]\tvalidation_0-mape:0.48201\n",
      "[171]\tvalidation_0-mape:0.48215\n",
      "[172]\tvalidation_0-mape:0.48226\n",
      "[173]\tvalidation_0-mape:0.48248\n",
      "[174]\tvalidation_0-mape:0.48259\n"
     ]
    },
    {
     "data": {
      "text/plain": [
       "XGBRegressor(base_score=None, booster=None, callbacks=None,\n",
       "             colsample_bylevel=None, colsample_bynode=None,\n",
       "             colsample_bytree=None, early_stopping_rounds=None,\n",
       "             enable_categorical=True, eta=0.01, eval_metric=None,\n",
       "             feature_types=None, gamma=1, gpu_id=None, grow_policy=None,\n",
       "             importance_type=None, interaction_constraints=None,\n",
       "             learning_rate=None, max_bin=None, max_cat_threshold=None,\n",
       "             max_cat_to_onehot=None, max_delta_step=None, max_depth=15,\n",
       "             max_leaves=None, min_child_weight=None, missing=nan,\n",
       "             monotone_constraints=None, n_estimators=300, n_jobs=None,\n",
       "             num_parallel_tree=None, predictor=None, ...)"
      ]
     },
     "execution_count": 12,
     "metadata": {},
     "output_type": "execute_result"
    }
   ],
   "source": [
    "xgb.fit(train[features], train[\"PricePerM2\"], eval_set=[(dev[features], dev[\"PricePerM2\"])], eval_metric=\"mape\", early_stopping_rounds=20)"
   ]
  },
  {
   "cell_type": "code",
   "execution_count": 13,
   "id": "47b901fa-c576-46aa-8ae5-70afd4687d5d",
   "metadata": {},
   "outputs": [],
   "source": [
    "with open(\"log/best_tree.txt\", \"w\") as f:\n",
    "    f.write(str(xgb.best_ntree_limit))"
   ]
  },
  {
   "cell_type": "code",
   "execution_count": 14,
   "id": "f247839e-0f73-4933-881d-981088b665eb",
   "metadata": {},
   "outputs": [
    {
     "data": {
      "text/plain": [
       "<matplotlib.legend.Legend at 0x1cd2dc049d0>"
      ]
     },
     "execution_count": 14,
     "metadata": {},
     "output_type": "execute_result"
    },
    {
     "data": {
      "image/png": "[encoded data removed]",
      "text/plain": [
       "<Figure size 432x288 with 1 Axes>"
      ]
     },
     "metadata": {
      "needs_background": "light"
     },
     "output_type": "display_data"
    }
   ],
   "source": [
    "results = xgb.evals_result()\n",
    "#plt.plot(results[\"validation_0\"][\"mape\"], c= \"b\", label=\"train metric\")\n",
    "plt.plot(results[\"validation_0\"][\"mape\"], c= \"orange\", label=\"test metric\")\n",
    "plt.legend()"
   ]
  },
  {
   "cell_type": "code",
   "execution_count": 16,
   "id": "89cf004f-da26-4446-8c9f-9ed2da396641",
   "metadata": {},
   "outputs": [
    {
     "name": "stderr",
     "output_type": "stream",
     "text": [
      "C:\\Users\\vietdata\\anaconda3\\envs\\ML_env\\lib\\site-packages\\xgboost\\core.py:122: UserWarning: ntree_limit is deprecated, use `iteration_range` or model slicing instead.\n",
      "  warnings.warn(\n"
     ]
    },
    {
     "name": "stdout",
     "output_type": "stream",
     "text": [
      "0.4928100257906319\n"
     ]
    }
   ],
   "source": [
    "pred = xgb.predict(test[features],ntree_limit=xgb.best_ntree_limit)\n",
    "print(mape(test[\"PricePerM2\"], pred))"
   ]
  },
  {
   "cell_type": "code",
   "execution_count": 16,
   "id": "8939d018-725a-46df-8f98-04e2f8ac6eb7",
   "metadata": {},
   "outputs": [
    {
     "data": {
      "text/plain": [
       "['log/best_tree.pkl']"
      ]
     },
     "execution_count": 16,
     "metadata": {},
     "output_type": "execute_result"
    }
   ],
   "source": [
    "joblib.dump(xgb, \"log/best_tree.pkl\") "
   ]
  },
  {
   "cell_type": "code",
   "execution_count": 18,
   "id": "f0bdbe12-7216-48cc-9800-b063681a36ea",
   "metadata": {},
   "outputs": [
    {
     "data": {
      "text/plain": [
       "147"
      ]
     },
     "execution_count": 18,
     "metadata": {},
     "output_type": "execute_result"
    }
   ],
   "source": [
    "joblib.load(\"log/best_tree.pkl\").best_ntree_limit"
   ]
  },
  {
   "cell_type": "code",
   "execution_count": 22,
   "id": "3a547f08-541c-4501-91b1-1d3ede7eb0d8",
   "metadata": {},
   "outputs": [],
   "source": [
    "xgb.save_model(\"log/xgb.json\")"
   ]
  },
  {
   "cell_type": "code",
   "execution_count": 21,
   "id": "a485a2f8-b0ab-466c-89fc-a3a979c2c243",
   "metadata": {},
   "outputs": [
    {
     "data": {
      "text/plain": [
       "0.483118118210765"
      ]
     },
     "execution_count": 21,
     "metadata": {},
     "output_type": "execute_result"
    }
   ],
   "source": [
    "0.483118118210765\n"
   ]
  },
  {
   "cell_type": "code",
   "execution_count": 25,
   "id": "b2ed752f-c0d5-4305-bb4f-7581bc11fbfb",
   "metadata": {},
   "outputs": [
    {
     "data": {
      "text/plain": [
       "(array([2.291e+03, 5.090e+02, 2.000e+01, 0.000e+00, 1.000e+00, 0.000e+00,\n",
       "        0.000e+00, 0.000e+00, 0.000e+00, 2.000e+00]),\n",
       " array([  9.89435,  37.40956,  64.92477,  92.43998, 119.95519, 147.4704 ,\n",
       "        174.98561, 202.50082, 230.01602, 257.53125, 285.04645],\n",
       "       dtype=float32),\n",
       " <BarContainer object of 10 artists>)"
      ]
     },
     "execution_count": 25,
     "metadata": {},
     "output_type": "execute_result"
    },
    {
     "data": {
      "image/png": "[encoded data removed]",
      "text/plain": [
       "<Figure size 432x288 with 1 Axes>"
      ]
     },
     "metadata": {
      "needs_background": "light"
     },
     "output_type": "display_data"
    }
   ],
   "source": [
    "plt.hist(pred)"
   ]
  },
  {
   "cell_type": "code",
   "execution_count": 17,
   "id": "b201d610-6188-4fee-ad7b-400294b01bf3",
   "metadata": {},
   "outputs": [
    {
     "data": {
      "text/plain": [
       "count     9557.000000\n",
       "mean       893.671987\n",
       "std       1272.235083\n",
       "min          0.024000\n",
       "25%         86.842105\n",
       "50%        240.000000\n",
       "75%       1300.000000\n",
       "max      10000.000000\n",
       "Name: PricePerM2, dtype: float64"
      ]
     },
     "execution_count": 17,
     "metadata": {},
     "output_type": "execute_result"
    }
   ],
   "source": [
    "test[\"PricePerM2\"].describe()"
   ]
  },
  {
   "cell_type": "code",
   "execution_count": 20,
   "id": "4d1154a5-a72e-451c-bd7a-199ce6c7b921",
   "metadata": {},
   "outputs": [
    {
     "name": "stdout",
     "output_type": "stream",
     "text": [
      "-0.0019258128781889372\n"
     ]
    }
   ],
   "source": [
    "pred = xgb.predict(test[features])\n",
    "print(r2_score(test[\"PricePerM2\"], pred))\n"
   ]
  },
  {
   "cell_type": "code",
   "execution_count": 31,
   "id": "8a029453-0f4e-48fa-abcc-0937ede6b4da",
   "metadata": {},
   "outputs": [
    {
     "data": {
      "text/plain": [
       "(array([9.492e+03, 8.000e+01, 1.900e+01, 5.000e+00, 3.000e+00, 3.000e+00,\n",
       "        0.000e+00, 0.000e+00, 0.000e+00, 0.000e+00, 0.000e+00, 0.000e+00,\n",
       "        0.000e+00, 0.000e+00, 0.000e+00, 0.000e+00, 0.000e+00, 0.000e+00,\n",
       "        0.000e+00, 1.000e+00]),\n",
       " array([-2.73714905e+01,  1.25797259e+06,  2.51597256e+06,  3.77397252e+06,\n",
       "         5.03197249e+06,  6.28997245e+06,  7.54797242e+06,  8.80597238e+06,\n",
       "         1.00639723e+07,  1.13219723e+07,  1.25799723e+07,  1.38379722e+07,\n",
       "         1.50959722e+07,  1.63539722e+07,  1.76119721e+07,  1.88699721e+07,\n",
       "         2.01279721e+07,  2.13859720e+07,  2.26439720e+07,  2.39019720e+07,\n",
       "         2.51599719e+07]),\n",
       " <BarContainer object of 20 artists>)"
      ]
     },
     "execution_count": 31,
     "metadata": {},
     "output_type": "execute_result"
    },
    {
     "data": {
      "image/png": "[encoded data removed]",
      "text/plain": [
       "<Figure size 432x288 with 1 Axes>"
      ]
     },
     "metadata": {
      "needs_background": "light"
     },
     "output_type": "display_data"
    }
   ],
   "source": [
    "plt.hist(test[\"Price\"].values-pred, bins=20)"
   ]
  },
  {
   "cell_type": "code",
   "execution_count": null,
   "id": "62d7ad0e-07ab-4253-9ef8-52520a8763b7",
   "metadata": {},
   "outputs": [],
   "source": [
    "X_embedded = TSNE(n_components=2, learning_rate='auto',\n",
    "                   init='random', perplexity=3).fit_transform(pd.get_dummies(train[features]).values)"
   ]
  },
  {
   "cell_type": "code",
   "execution_count": 40,
   "id": "2923a6b8-9fe2-4cff-a8ce-e329a696637a",
   "metadata": {},
   "outputs": [
    {
     "data": {
      "text/plain": [
       "<matplotlib.collections.PathCollection at 0x28e8df37d00>"
      ]
     },
     "execution_count": 40,
     "metadata": {},
     "output_type": "execute_result"
    },
    {
     "data": {
      "image/png": "[encoded data removed]",
      "text/plain": [
       "<Figure size 432x288 with 1 Axes>"
      ]
     },
     "metadata": {
      "needs_background": "light"
     },
     "output_type": "display_data"
    }
   ],
   "source": [
    "a, b = list(zip(*X_embedded))\n",
    "plt.scatter(a[:1000],b[:1000])"
   ]
  },
  {
   "cell_type": "code",
   "execution_count": 362,
   "id": "eaf4cc4a-c2ad-4589-96ab-73f72e7f4db8",
   "metadata": {},
   "outputs": [
    {
     "data": {
      "text/plain": [
       "(array([ 6088., 11138.,  5496.,  3396.,  1929.,  1215.,   697.,   575.,\n",
       "          341.,   219.]),\n",
       " array([ 20.5 ,  38.35,  56.2 ,  74.05,  91.9 , 109.75, 127.6 , 145.45,\n",
       "        163.3 , 181.15, 199.  ]),\n",
       " <BarContainer object of 10 artists>)"
      ]
     },
     "execution_count": 362,
     "metadata": {},
     "output_type": "execute_result"
    },
    {
     "data": {
      "image/png": "[encoded data removed]",
      "text/plain": [
       "<Figure size 432x288 with 1 Axes>"
      ]
     },
     "metadata": {
      "needs_background": "light"
     },
     "output_type": "display_data"
    }
   ],
   "source": [
    "plt.hist(data[\"Area\"][(data[\"Area\"] > 20) & (data[\"Area\"] <200)], bins=10)"
   ]
  },
  {
   "cell_type": "code",
   "execution_count": 363,
   "id": "48d79662-abba-4da1-8ffd-b7b928438475",
   "metadata": {},
   "outputs": [
    {
     "data": {
      "text/plain": [
       "0        80.0\n",
       "1        78.0\n",
       "2        48.0\n",
       "3        43.0\n",
       "4        35.0\n",
       "         ... \n",
       "34951    54.0\n",
       "34952    75.0\n",
       "34953    40.0\n",
       "34954    42.0\n",
       "34955    50.0\n",
       "Name: Area, Length: 31094, dtype: float64"
      ]
     },
     "execution_count": 363,
     "metadata": {},
     "output_type": "execute_result"
    }
   ],
   "source": [
    "data[\"Area\"][(data[\"Area\"] > 20) & (data[\"Area\"] <200)]"
   ]
  },
  {
   "cell_type": "code",
   "execution_count": 492,
   "id": "41b5f03f-7664-4fce-b909-e2117a30abb8",
   "metadata": {},
   "outputs": [
    {
     "data": {
      "text/plain": [
       "<AxesSubplot:ylabel='Frequency'>"
      ]
     },
     "execution_count": 492,
     "metadata": {},
     "output_type": "execute_result"
    },
    {
     "data": {
      "image/png": "[encoded data removed]",
      "text/plain": [
       "<Figure size 432x288 with 1 Axes>"
      ]
     },
     "metadata": {
      "needs_background": "light"
     },
     "output_type": "display_data"
    }
   ],
   "source": [
    "data[\"Price\"].plot(kind=\"hist\")"
   ]
  },
  {
   "cell_type": "code",
   "execution_count": 391,
   "id": "e0c42ec1-ad60-476b-bc84-26a547647e67",
   "metadata": {},
   "outputs": [
    {
     "data": {
      "text/html": [
       "<div>\n",
       "<style scoped>\n",
       "    .dataframe tbody tr th:only-of-type {\n",
       "        vertical-align: middle;\n",
       "    }\n",
       "\n",
       "    .dataframe tbody tr th {\n",
       "        vertical-align: top;\n",
       "    }\n",
       "\n",
       "    .dataframe thead th {\n",
       "        text-align: right;\n",
       "    }\n",
       "</style>\n",
       "<table border=\"1\" class=\"dataframe\">\n",
       "  <thead>\n",
       "    <tr style=\"text-align: right;\">\n",
       "      <th></th>\n",
       "      <th>House Direction</th>\n",
       "      <th>Balcony Direction</th>\n",
       "      <th>Bedrooms</th>\n",
       "      <th>Toilets</th>\n",
       "      <th>Legits</th>\n",
       "      <th>Floors</th>\n",
       "      <th>Facade</th>\n",
       "      <th>Entrance</th>\n",
       "      <th>District</th>\n",
       "      <th>Area</th>\n",
       "      <th>Price</th>\n",
       "    </tr>\n",
       "  </thead>\n",
       "  <tbody>\n",
       "    <tr>\n",
       "      <th>13890</th>\n",
       "      <td>None</td>\n",
       "      <td>None</td>\n",
       "      <td>6</td>\n",
       "      <td>None</td>\n",
       "      <td>+đỏ+hồng</td>\n",
       "      <td>3</td>\n",
       "      <td>17.0</td>\n",
       "      <td>3.0</td>\n",
       "      <td>nam từ liêm</td>\n",
       "      <td>180.0</td>\n",
       "      <td>330000.0</td>\n",
       "    </tr>\n",
       "    <tr>\n",
       "      <th>13908</th>\n",
       "      <td>None</td>\n",
       "      <td>None</td>\n",
       "      <td>4</td>\n",
       "      <td>None</td>\n",
       "      <td>+đỏ+hồng</td>\n",
       "      <td>4</td>\n",
       "      <td>5.0</td>\n",
       "      <td>3.0</td>\n",
       "      <td>hoàn kiếm</td>\n",
       "      <td>130.0</td>\n",
       "      <td>330000.0</td>\n",
       "    </tr>\n",
       "    <tr>\n",
       "      <th>13931</th>\n",
       "      <td>None</td>\n",
       "      <td>None</td>\n",
       "      <td>10+</td>\n",
       "      <td>None</td>\n",
       "      <td>+đỏ+hồng</td>\n",
       "      <td>9</td>\n",
       "      <td>5.0</td>\n",
       "      <td>3.0</td>\n",
       "      <td>ba đình</td>\n",
       "      <td>89.0</td>\n",
       "      <td>320000.0</td>\n",
       "    </tr>\n",
       "    <tr>\n",
       "      <th>14000</th>\n",
       "      <td>None</td>\n",
       "      <td>None</td>\n",
       "      <td>8</td>\n",
       "      <td>None</td>\n",
       "      <td>None</td>\n",
       "      <td>8</td>\n",
       "      <td>5.0</td>\n",
       "      <td>3.0</td>\n",
       "      <td>đống đa</td>\n",
       "      <td>90.0</td>\n",
       "      <td>330000.0</td>\n",
       "    </tr>\n",
       "    <tr>\n",
       "      <th>14042</th>\n",
       "      <td>None</td>\n",
       "      <td>None</td>\n",
       "      <td>5</td>\n",
       "      <td>None</td>\n",
       "      <td>+đỏ+hồng</td>\n",
       "      <td>7</td>\n",
       "      <td>7.0</td>\n",
       "      <td>3.0</td>\n",
       "      <td>cầu giấy</td>\n",
       "      <td>120.0</td>\n",
       "      <td>324000.0</td>\n",
       "    </tr>\n",
       "    <tr>\n",
       "      <th>...</th>\n",
       "      <td>...</td>\n",
       "      <td>...</td>\n",
       "      <td>...</td>\n",
       "      <td>...</td>\n",
       "      <td>...</td>\n",
       "      <td>...</td>\n",
       "      <td>...</td>\n",
       "      <td>...</td>\n",
       "      <td>...</td>\n",
       "      <td>...</td>\n",
       "      <td>...</td>\n",
       "    </tr>\n",
       "    <tr>\n",
       "      <th>34836</th>\n",
       "      <td>None</td>\n",
       "      <td>None</td>\n",
       "      <td>5</td>\n",
       "      <td>None</td>\n",
       "      <td>+đỏ+hồng</td>\n",
       "      <td>5</td>\n",
       "      <td>30.0</td>\n",
       "      <td>3.0</td>\n",
       "      <td>cầu giấy</td>\n",
       "      <td>56.0</td>\n",
       "      <td>310000.0</td>\n",
       "    </tr>\n",
       "    <tr>\n",
       "      <th>34842</th>\n",
       "      <td>None</td>\n",
       "      <td>None</td>\n",
       "      <td>3</td>\n",
       "      <td>None</td>\n",
       "      <td>+đỏ+hồng</td>\n",
       "      <td>5</td>\n",
       "      <td>2.0</td>\n",
       "      <td>3.0</td>\n",
       "      <td>long biên</td>\n",
       "      <td>35.0</td>\n",
       "      <td>310000.0</td>\n",
       "    </tr>\n",
       "    <tr>\n",
       "      <th>34904</th>\n",
       "      <td>None</td>\n",
       "      <td>None</td>\n",
       "      <td>10+</td>\n",
       "      <td>None</td>\n",
       "      <td>+đỏ+hồng</td>\n",
       "      <td>8</td>\n",
       "      <td>8.0</td>\n",
       "      <td>3.0</td>\n",
       "      <td>cầu giấy</td>\n",
       "      <td>110.0</td>\n",
       "      <td>340000.0</td>\n",
       "    </tr>\n",
       "    <tr>\n",
       "      <th>34910</th>\n",
       "      <td>None</td>\n",
       "      <td>None</td>\n",
       "      <td>8</td>\n",
       "      <td>None</td>\n",
       "      <td>+đỏ+hồng</td>\n",
       "      <td>5</td>\n",
       "      <td>10.0</td>\n",
       "      <td>3.0</td>\n",
       "      <td>cầu giấy</td>\n",
       "      <td>100.0</td>\n",
       "      <td>320000.0</td>\n",
       "    </tr>\n",
       "    <tr>\n",
       "      <th>34914</th>\n",
       "      <td>None</td>\n",
       "      <td>None</td>\n",
       "      <td>6</td>\n",
       "      <td>None</td>\n",
       "      <td>+đỏ+hồng</td>\n",
       "      <td>4</td>\n",
       "      <td>6.0</td>\n",
       "      <td>3.0</td>\n",
       "      <td>cầu giấy</td>\n",
       "      <td>185.0</td>\n",
       "      <td>320000.0</td>\n",
       "    </tr>\n",
       "  </tbody>\n",
       "</table>\n",
       "<p>752 rows × 11 columns</p>\n",
       "</div>"
      ],
      "text/plain": [
       "      House Direction Balcony Direction Bedrooms Toilets    Legits Floors  \\\n",
       "13890            None              None        6    None  +đỏ+hồng      3   \n",
       "13908            None              None        4    None  +đỏ+hồng      4   \n",
       "13931            None              None      10+    None  +đỏ+hồng      9   \n",
       "14000            None              None        8    None      None      8   \n",
       "14042            None              None        5    None  +đỏ+hồng      7   \n",
       "...               ...               ...      ...     ...       ...    ...   \n",
       "34836            None              None        5    None  +đỏ+hồng      5   \n",
       "34842            None              None        3    None  +đỏ+hồng      5   \n",
       "34904            None              None      10+    None  +đỏ+hồng      8   \n",
       "34910            None              None        8    None  +đỏ+hồng      5   \n",
       "34914            None              None        6    None  +đỏ+hồng      4   \n",
       "\n",
       "       Facade  Entrance     District   Area     Price  \n",
       "13890    17.0       3.0  nam từ liêm  180.0  330000.0  \n",
       "13908     5.0       3.0    hoàn kiếm  130.0  330000.0  \n",
       "13931     5.0       3.0      ba đình   89.0  320000.0  \n",
       "14000     5.0       3.0      đống đa   90.0  330000.0  \n",
       "14042     7.0       3.0     cầu giấy  120.0  324000.0  \n",
       "...       ...       ...          ...    ...       ...  \n",
       "34836    30.0       3.0     cầu giấy   56.0  310000.0  \n",
       "34842     2.0       3.0    long biên   35.0  310000.0  \n",
       "34904     8.0       3.0     cầu giấy  110.0  340000.0  \n",
       "34910    10.0       3.0     cầu giấy  100.0  320000.0  \n",
       "34914     6.0       3.0     cầu giấy  185.0  320000.0  \n",
       "\n",
       "[752 rows x 11 columns]"
      ]
     },
     "execution_count": 391,
     "metadata": {},
     "output_type": "execute_result"
    }
   ],
   "source": [
    "data[data[\"Price\"] > 300000]"
   ]
  },
  {
   "cell_type": "code",
   "execution_count": null,
   "id": "82414653-dd4d-4551-8176-29011885e341",
   "metadata": {},
   "outputs": [],
   "source": []
  }
 ],
 "metadata": {
  "kernelspec": {
   "display_name": "Python 3 (ipykernel)",
   "language": "python",
   "name": "python3"
  },
  "language_info": {
   "codemirror_mode": {
    "name": "ipython",
    "version": 3
   },
   "file_extension": ".py",
   "mimetype": "text/x-python",
   "name": "python",
   "nbconvert_exporter": "python",
   "pygments_lexer": "ipython3",
   "version": "3.10.4"
  }
 },
 "nbformat": 4,
 "nbformat_minor": 5
}
