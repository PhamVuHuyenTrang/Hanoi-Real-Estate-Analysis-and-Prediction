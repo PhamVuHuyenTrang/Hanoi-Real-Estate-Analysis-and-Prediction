{
  "cells": [
    {
      "cell_type": "code",
      "source": [
        "!pip install torchmetrics"
      ],
      "metadata": {
        "colab": {
          "base_uri": "https://localhost:8080/"
        },
        "id": "1It9KjS_-TIX",
        "outputId": "1457c504-fa61-4cdc-9416-14927039ac26"
      },
      "id": "1It9KjS_-TIX",
      "execution_count": 23,
      "outputs": [
        {
          "output_type": "stream",
          "name": "stdout",
          "text": [
            "Looking in indexes: https://pypi.org/simple, https://us-python.pkg.dev/colab-wheels/public/simple/\n",
            "Requirement already satisfied: torchmetrics in /usr/local/lib/python3.8/dist-packages (0.11.1)\n",
            "Requirement already satisfied: numpy>=1.17.2 in /usr/local/lib/python3.8/dist-packages (from torchmetrics) (1.21.6)\n",
            "Requirement already satisfied: torch>=1.8.1 in /usr/local/lib/python3.8/dist-packages (from torchmetrics) (1.13.1+cu116)\n",
            "Requirement already satisfied: packaging in /usr/local/lib/python3.8/dist-packages (from torchmetrics) (23.0)\n",
            "Requirement already satisfied: typing-extensions in /usr/local/lib/python3.8/dist-packages (from torchmetrics) (4.4.0)\n"
          ]
        }
      ]
    },
    {
      "cell_type": "code",
      "execution_count": 24,
      "id": "dbda8e2c-9c5e-4078-b640-f48decfb6d70",
      "metadata": {
        "id": "dbda8e2c-9c5e-4078-b640-f48decfb6d70"
      },
      "outputs": [],
      "source": [
        "import pandas as pd\n",
        "import numpy as np\n",
        "from sklearn.model_selection import train_test_split\n",
        "from sklearn.metrics import mean_absolute_percentage_error as  mape\n",
        "from matplotlib import pyplot as plt\n",
        "from sklearn.preprocessing import LabelEncoder\n",
        "from sklearn.preprocessing import MinMaxScaler\n",
        "from sklearn.linear_model import LinearRegression\n",
        "\n",
        "from torchmetrics import MeanSquaredLogError\n"
      ]
    },
    {
      "cell_type": "code",
      "execution_count": 25,
      "id": "e703e4ec-ac5c-47d9-8aa9-f8dabbb61a93",
      "metadata": {
        "id": "e703e4ec-ac5c-47d9-8aa9-f8dabbb61a93"
      },
      "outputs": [],
      "source": [
        "data = pd.read_csv(\"final.csv\")"
      ]
    },
    {
      "cell_type": "code",
      "execution_count": 26,
      "id": "16570f50-d2d2-4de1-bff4-7a2f35a5b1ef",
      "metadata": {
        "colab": {
          "base_uri": "https://localhost:8080/"
        },
        "id": "16570f50-d2d2-4de1-bff4-7a2f35a5b1ef",
        "outputId": "d391a5fd-61fe-4e37-ec56-fa5a438f0cf6"
      },
      "outputs": [
        {
          "output_type": "execute_result",
          "data": {
            "text/plain": [
              "(34953, 16)"
            ]
          },
          "metadata": {},
          "execution_count": 26
        }
      ],
      "source": [
        "data = data[data[\"Area\"].isnull() == False]\n",
        "data.shape"
      ]
    },
    {
      "cell_type": "code",
      "execution_count": 27,
      "id": "1c203c8b-62fd-49ba-951b-fa4c99a4260d",
      "metadata": {
        "id": "1c203c8b-62fd-49ba-951b-fa4c99a4260d"
      },
      "outputs": [],
      "source": [
        "data[\"Price\"] = data[\"Price\"]/data[\"Area\"]"
      ]
    },
    {
      "cell_type": "code",
      "execution_count": 28,
      "id": "abaea9fa-d4ba-494f-ba7d-cad4d1de429c",
      "metadata": {
        "id": "abaea9fa-d4ba-494f-ba7d-cad4d1de429c"
      },
      "outputs": [],
      "source": [
        "data = data[['House Direction', 'Balcony Direction', 'Bedrooms', 'Toilets',\n",
        "       'Legits', 'Floors', 'Facade', 'Entrance', 'X', \"Y\",\n",
        "       'Price']]"
      ]
    },
    {
      "cell_type": "code",
      "execution_count": 29,
      "id": "c75ddea2-e377-4aa5-b241-726a8dc4ee54",
      "metadata": {
        "id": "c75ddea2-e377-4aa5-b241-726a8dc4ee54"
      },
      "outputs": [],
      "source": [
        "data = data[data[\"Price\"] > 100]"
      ]
    },
    {
      "cell_type": "code",
      "execution_count": 30,
      "id": "a31f1e23-118d-4686-8d03-d476ff4f6fc2",
      "metadata": {
        "colab": {
          "base_uri": "https://localhost:8080/"
        },
        "id": "a31f1e23-118d-4686-8d03-d476ff4f6fc2",
        "outputId": "de80ad39-571f-4d81-dd87-86c323f5bbeb"
      },
      "outputs": [
        {
          "output_type": "execute_result",
          "data": {
            "text/plain": [
              "count    29570.000000\n",
              "mean      1316.770876\n",
              "std       1248.936842\n",
              "min        100.500000\n",
              "25%        260.666502\n",
              "50%       1044.968705\n",
              "75%       1818.181818\n",
              "max       6722.689076\n",
              "Name: Price, dtype: float64"
            ]
          },
          "metadata": {},
          "execution_count": 30
        }
      ],
      "source": [
        "IQR = data.Price.quantile(0.75) - data.Price.quantile(0.25)\n",
        "Lower_fence = data.Price.quantile(0.25) - (IQR * 3)\n",
        "Upper_fence = data.Price.quantile(0.75) + (IQR * 3)\n",
        "\n",
        "data = data[(data.Price >= Lower_fence) & (data.Price <= Upper_fence)]\n",
        "data.Price.describe()"
      ]
    },
    {
      "cell_type": "code",
      "execution_count": 31,
      "id": "461556d5-5529-4028-82e5-29b29b6f841b",
      "metadata": {
        "id": "461556d5-5529-4028-82e5-29b29b6f841b"
      },
      "outputs": [],
      "source": [
        "hotdf = pd.get_dummies(data)"
      ]
    },
    {
      "cell_type": "code",
      "execution_count": 32,
      "id": "2a8c0ecd-5cb8-4fad-8393-2c11b5a38b77",
      "metadata": {
        "id": "2a8c0ecd-5cb8-4fad-8393-2c11b5a38b77"
      },
      "outputs": [],
      "source": [
        "hotdf[\"Entrance\"].fillna(value=hotdf[\"Entrance\"].mode().values[0], inplace=True)"
      ]
    },
    {
      "cell_type": "code",
      "execution_count": 33,
      "id": "ed7b06c4-1f97-4941-83bf-d1db46d3d131",
      "metadata": {
        "id": "ed7b06c4-1f97-4941-83bf-d1db46d3d131"
      },
      "outputs": [],
      "source": [
        "features = hotdf.columns.tolist()\n",
        "features.remove(\"Price\")"
      ]
    },
    {
      "cell_type": "code",
      "execution_count": 34,
      "id": "64f7c0a2-cc05-40d4-b1b5-4e5ee3efb3a2",
      "metadata": {
        "id": "64f7c0a2-cc05-40d4-b1b5-4e5ee3efb3a2"
      },
      "outputs": [],
      "source": [
        "train, test = train_test_split(hotdf, test_size = 0.2, random_state = 0)\n",
        "train, dev = train_test_split(train, test_size = 0.1, random_state = 0)"
      ]
    },
    {
      "cell_type": "code",
      "execution_count": 35,
      "id": "64ef1ed1-47d4-4378-836a-47fcd79426ac",
      "metadata": {
        "id": "64ef1ed1-47d4-4378-836a-47fcd79426ac"
      },
      "outputs": [],
      "source": [
        "scaler = MinMaxScaler()\n",
        "\n",
        "train[features] = scaler.fit_transform(train[features])\n",
        "\n",
        "test[features] = scaler.transform(test[features])\n",
        "dev[features] = scaler.transform(dev[features])"
      ]
    },
    {
      "cell_type": "code",
      "source": [
        "dev[features].head()"
      ],
      "metadata": {
        "colab": {
          "base_uri": "https://localhost:8080/",
          "height": 334
        },
        "id": "9WohbvHxLPmC",
        "outputId": "f19ce5cd-a7fe-4042-8302-74b4fecfe6df"
      },
      "id": "9WohbvHxLPmC",
      "execution_count": 36,
      "outputs": [
        {
          "output_type": "execute_result",
          "data": {
            "text/plain": [
              "         Facade  Entrance         X         Y  House Direction_None  \\\n",
              "22235  0.009783  0.015228  0.563135  0.558745                   0.0   \n",
              "32988  0.004348  0.015228  0.545976  0.087881                   1.0   \n",
              "22798  0.003261  0.015228  0.480748  0.613380                   1.0   \n",
              "12924  0.010870  0.015228  0.525457  0.698002                   0.0   \n",
              "30083  0.008696  0.015228  0.479429  0.666881                   1.0   \n",
              "\n",
              "       House Direction_bắc  House Direction_nam  House Direction_tây  \\\n",
              "22235                  0.0                  0.0                  0.0   \n",
              "32988                  0.0                  0.0                  0.0   \n",
              "22798                  0.0                  0.0                  0.0   \n",
              "12924                  0.0                  0.0                  0.0   \n",
              "30083                  0.0                  0.0                  0.0   \n",
              "\n",
              "       House Direction_tây bắc  House Direction_tây nam  ...  Floors_10+  \\\n",
              "22235                      0.0                      1.0  ...         0.0   \n",
              "32988                      0.0                      0.0  ...         0.0   \n",
              "22798                      0.0                      0.0  ...         0.0   \n",
              "12924                      0.0                      1.0  ...         0.0   \n",
              "30083                      0.0                      0.0  ...         0.0   \n",
              "\n",
              "       Floors_2  Floors_3  Floors_4  Floors_5  Floors_6  Floors_7  Floors_8  \\\n",
              "22235       0.0       0.0       0.0       0.0       0.0       0.0       0.0   \n",
              "32988       0.0       0.0       0.0       0.0       0.0       0.0       0.0   \n",
              "22798       0.0       0.0       0.0       1.0       0.0       0.0       0.0   \n",
              "12924       0.0       0.0       0.0       0.0       0.0       0.0       1.0   \n",
              "30083       0.0       0.0       0.0       1.0       0.0       0.0       0.0   \n",
              "\n",
              "       Floors_9  Floors_None  \n",
              "22235       0.0          0.0  \n",
              "32988       0.0          1.0  \n",
              "22798       0.0          0.0  \n",
              "12924       0.0          0.0  \n",
              "30083       0.0          0.0  \n",
              "\n",
              "[5 rows x 63 columns]"
            ],
            "text/html": [
              "\n",
              "  <div id=\"df-3532738a-40c5-40c4-89e8-fcc5cfd4c3d6\">\n",
              "    <div class=\"colab-df-container\">\n",
              "      <div>\n",
              "<style scoped>\n",
              "    .dataframe tbody tr th:only-of-type {\n",
              "        vertical-align: middle;\n",
              "    }\n",
              "\n",
              "    .dataframe tbody tr th {\n",
              "        vertical-align: top;\n",
              "    }\n",
              "\n",
              "    .dataframe thead th {\n",
              "        text-align: right;\n",
              "    }\n",
              "</style>\n",
              "<table border=\"1\" class=\"dataframe\">\n",
              "  <thead>\n",
              "    <tr style=\"text-align: right;\">\n",
              "      <th></th>\n",
              "      <th>Facade</th>\n",
              "      <th>Entrance</th>\n",
              "      <th>X</th>\n",
              "      <th>Y</th>\n",
              "      <th>House Direction_None</th>\n",
              "      <th>House Direction_bắc</th>\n",
              "      <th>House Direction_nam</th>\n",
              "      <th>House Direction_tây</th>\n",
              "      <th>House Direction_tây bắc</th>\n",
              "      <th>House Direction_tây nam</th>\n",
              "      <th>...</th>\n",
              "      <th>Floors_10+</th>\n",
              "      <th>Floors_2</th>\n",
              "      <th>Floors_3</th>\n",
              "      <th>Floors_4</th>\n",
              "      <th>Floors_5</th>\n",
              "      <th>Floors_6</th>\n",
              "      <th>Floors_7</th>\n",
              "      <th>Floors_8</th>\n",
              "      <th>Floors_9</th>\n",
              "      <th>Floors_None</th>\n",
              "    </tr>\n",
              "  </thead>\n",
              "  <tbody>\n",
              "    <tr>\n",
              "      <th>22235</th>\n",
              "      <td>0.009783</td>\n",
              "      <td>0.015228</td>\n",
              "      <td>0.563135</td>\n",
              "      <td>0.558745</td>\n",
              "      <td>0.0</td>\n",
              "      <td>0.0</td>\n",
              "      <td>0.0</td>\n",
              "      <td>0.0</td>\n",
              "      <td>0.0</td>\n",
              "      <td>1.0</td>\n",
              "      <td>...</td>\n",
              "      <td>0.0</td>\n",
              "      <td>0.0</td>\n",
              "      <td>0.0</td>\n",
              "      <td>0.0</td>\n",
              "      <td>0.0</td>\n",
              "      <td>0.0</td>\n",
              "      <td>0.0</td>\n",
              "      <td>0.0</td>\n",
              "      <td>0.0</td>\n",
              "      <td>0.0</td>\n",
              "    </tr>\n",
              "    <tr>\n",
              "      <th>32988</th>\n",
              "      <td>0.004348</td>\n",
              "      <td>0.015228</td>\n",
              "      <td>0.545976</td>\n",
              "      <td>0.087881</td>\n",
              "      <td>1.0</td>\n",
              "      <td>0.0</td>\n",
              "      <td>0.0</td>\n",
              "      <td>0.0</td>\n",
              "      <td>0.0</td>\n",
              "      <td>0.0</td>\n",
              "      <td>...</td>\n",
              "      <td>0.0</td>\n",
              "      <td>0.0</td>\n",
              "      <td>0.0</td>\n",
              "      <td>0.0</td>\n",
              "      <td>0.0</td>\n",
              "      <td>0.0</td>\n",
              "      <td>0.0</td>\n",
              "      <td>0.0</td>\n",
              "      <td>0.0</td>\n",
              "      <td>1.0</td>\n",
              "    </tr>\n",
              "    <tr>\n",
              "      <th>22798</th>\n",
              "      <td>0.003261</td>\n",
              "      <td>0.015228</td>\n",
              "      <td>0.480748</td>\n",
              "      <td>0.613380</td>\n",
              "      <td>1.0</td>\n",
              "      <td>0.0</td>\n",
              "      <td>0.0</td>\n",
              "      <td>0.0</td>\n",
              "      <td>0.0</td>\n",
              "      <td>0.0</td>\n",
              "      <td>...</td>\n",
              "      <td>0.0</td>\n",
              "      <td>0.0</td>\n",
              "      <td>0.0</td>\n",
              "      <td>0.0</td>\n",
              "      <td>1.0</td>\n",
              "      <td>0.0</td>\n",
              "      <td>0.0</td>\n",
              "      <td>0.0</td>\n",
              "      <td>0.0</td>\n",
              "      <td>0.0</td>\n",
              "    </tr>\n",
              "    <tr>\n",
              "      <th>12924</th>\n",
              "      <td>0.010870</td>\n",
              "      <td>0.015228</td>\n",
              "      <td>0.525457</td>\n",
              "      <td>0.698002</td>\n",
              "      <td>0.0</td>\n",
              "      <td>0.0</td>\n",
              "      <td>0.0</td>\n",
              "      <td>0.0</td>\n",
              "      <td>0.0</td>\n",
              "      <td>1.0</td>\n",
              "      <td>...</td>\n",
              "      <td>0.0</td>\n",
              "      <td>0.0</td>\n",
              "      <td>0.0</td>\n",
              "      <td>0.0</td>\n",
              "      <td>0.0</td>\n",
              "      <td>0.0</td>\n",
              "      <td>0.0</td>\n",
              "      <td>1.0</td>\n",
              "      <td>0.0</td>\n",
              "      <td>0.0</td>\n",
              "    </tr>\n",
              "    <tr>\n",
              "      <th>30083</th>\n",
              "      <td>0.008696</td>\n",
              "      <td>0.015228</td>\n",
              "      <td>0.479429</td>\n",
              "      <td>0.666881</td>\n",
              "      <td>1.0</td>\n",
              "      <td>0.0</td>\n",
              "      <td>0.0</td>\n",
              "      <td>0.0</td>\n",
              "      <td>0.0</td>\n",
              "      <td>0.0</td>\n",
              "      <td>...</td>\n",
              "      <td>0.0</td>\n",
              "      <td>0.0</td>\n",
              "      <td>0.0</td>\n",
              "      <td>0.0</td>\n",
              "      <td>1.0</td>\n",
              "      <td>0.0</td>\n",
              "      <td>0.0</td>\n",
              "      <td>0.0</td>\n",
              "      <td>0.0</td>\n",
              "      <td>0.0</td>\n",
              "    </tr>\n",
              "  </tbody>\n",
              "</table>\n",
              "<p>5 rows × 63 columns</p>\n",
              "</div>\n",
              "      <button class=\"colab-df-convert\" onclick=\"convertToInteractive('df-3532738a-40c5-40c4-89e8-fcc5cfd4c3d6')\"\n",
              "              title=\"Convert this dataframe to an interactive table.\"\n",
              "              style=\"display:none;\">\n",
              "        \n",
              "  <svg xmlns=\"http://www.w3.org/2000/svg\" height=\"24px\"viewBox=\"0 0 24 24\"\n",
              "       width=\"24px\">\n",
              "    <path d=\"M0 0h24v24H0V0z\" fill=\"none\"/>\n",
              "    <path d=\"M18.56 5.44l.94 2.06.94-2.06 2.06-.94-2.06-.94-.94-2.06-.94 2.06-2.06.94zm-11 1L8.5 8.5l.94-2.06 2.06-.94-2.06-.94L8.5 2.5l-.94 2.06-2.06.94zm10 10l.94 2.06.94-2.06 2.06-.94-2.06-.94-.94-2.06-.94 2.06-2.06.94z\"/><path d=\"M17.41 7.96l-1.37-1.37c-.4-.4-.92-.59-1.43-.59-.52 0-1.04.2-1.43.59L10.3 9.45l-7.72 7.72c-.78.78-.78 2.05 0 2.83L4 21.41c.39.39.9.59 1.41.59.51 0 1.02-.2 1.41-.59l7.78-7.78 2.81-2.81c.8-.78.8-2.07 0-2.86zM5.41 20L4 18.59l7.72-7.72 1.47 1.35L5.41 20z\"/>\n",
              "  </svg>\n",
              "      </button>\n",
              "      \n",
              "  <style>\n",
              "    .colab-df-container {\n",
              "      display:flex;\n",
              "      flex-wrap:wrap;\n",
              "      gap: 12px;\n",
              "    }\n",
              "\n",
              "    .colab-df-convert {\n",
              "      background-color: #E8F0FE;\n",
              "      border: none;\n",
              "      border-radius: 50%;\n",
              "      cursor: pointer;\n",
              "      display: none;\n",
              "      fill: #1967D2;\n",
              "      height: 32px;\n",
              "      padding: 0 0 0 0;\n",
              "      width: 32px;\n",
              "    }\n",
              "\n",
              "    .colab-df-convert:hover {\n",
              "      background-color: #E2EBFA;\n",
              "      box-shadow: 0px 1px 2px rgba(60, 64, 67, 0.3), 0px 1px 3px 1px rgba(60, 64, 67, 0.15);\n",
              "      fill: #174EA6;\n",
              "    }\n",
              "\n",
              "    [theme=dark] .colab-df-convert {\n",
              "      background-color: #3B4455;\n",
              "      fill: #D2E3FC;\n",
              "    }\n",
              "\n",
              "    [theme=dark] .colab-df-convert:hover {\n",
              "      background-color: #434B5C;\n",
              "      box-shadow: 0px 1px 3px 1px rgba(0, 0, 0, 0.15);\n",
              "      filter: drop-shadow(0px 1px 2px rgba(0, 0, 0, 0.3));\n",
              "      fill: #FFFFFF;\n",
              "    }\n",
              "  </style>\n",
              "\n",
              "      <script>\n",
              "        const buttonEl =\n",
              "          document.querySelector('#df-3532738a-40c5-40c4-89e8-fcc5cfd4c3d6 button.colab-df-convert');\n",
              "        buttonEl.style.display =\n",
              "          google.colab.kernel.accessAllowed ? 'block' : 'none';\n",
              "\n",
              "        async function convertToInteractive(key) {\n",
              "          const element = document.querySelector('#df-3532738a-40c5-40c4-89e8-fcc5cfd4c3d6');\n",
              "          const dataTable =\n",
              "            await google.colab.kernel.invokeFunction('convertToInteractive',\n",
              "                                                     [key], {});\n",
              "          if (!dataTable) return;\n",
              "\n",
              "          const docLinkHtml = 'Like what you see? Visit the ' +\n",
              "            '<a target=\"_blank\" href=https://colab.research.google.com/notebooks/data_table.ipynb>data table notebook</a>'\n",
              "            + ' to learn more about interactive tables.';\n",
              "          element.innerHTML = '';\n",
              "          dataTable['output_type'] = 'display_data';\n",
              "          await google.colab.output.renderOutput(dataTable, element);\n",
              "          const docLink = document.createElement('div');\n",
              "          docLink.innerHTML = docLinkHtml;\n",
              "          element.appendChild(docLink);\n",
              "        }\n",
              "      </script>\n",
              "    </div>\n",
              "  </div>\n",
              "  "
            ]
          },
          "metadata": {},
          "execution_count": 36
        }
      ]
    },
    {
      "cell_type": "code",
      "source": [
        "dev[\"Price\"]"
      ],
      "metadata": {
        "colab": {
          "base_uri": "https://localhost:8080/"
        },
        "id": "a8x0b5bU_fUk",
        "outputId": "16c1fa8f-11b1-4fa5-f990-4b28d48aae46"
      },
      "id": "a8x0b5bU_fUk",
      "execution_count": 37,
      "outputs": [
        {
          "output_type": "execute_result",
          "data": {
            "text/plain": [
              "22235    1716.666667\n",
              "32988     139.240506\n",
              "22798    1000.000000\n",
              "12924     207.142857\n",
              "30083    2307.692308\n",
              "            ...     \n",
              "4194      112.830432\n",
              "18790    1140.000000\n",
              "18518     272.352941\n",
              "6214      314.000000\n",
              "23923    1181.818182\n",
              "Name: Price, Length: 2366, dtype: float64"
            ]
          },
          "metadata": {},
          "execution_count": 37
        }
      ]
    },
    {
      "cell_type": "code",
      "source": [
        "linear_re = LinearRegression()\n"
      ],
      "metadata": {
        "id": "6pfiDmpBIwId"
      },
      "id": "6pfiDmpBIwId",
      "execution_count": 38,
      "outputs": []
    },
    {
      "cell_type": "code",
      "source": [
        "linear_re.fit(train[features], train[\"Price\"])\n",
        "\n"
      ],
      "metadata": {
        "colab": {
          "base_uri": "https://localhost:8080/"
        },
        "id": "rya3PO6caLcq",
        "outputId": "694b7c10-8354-4d0d-9499-10e944ab541e"
      },
      "id": "rya3PO6caLcq",
      "execution_count": 39,
      "outputs": [
        {
          "output_type": "execute_result",
          "data": {
            "text/plain": [
              "LinearRegression()"
            ]
          },
          "metadata": {},
          "execution_count": 39
        }
      ]
    },
    {
      "cell_type": "code",
      "source": [
        "pred = linear_re.predict(dev[features])\n",
        "print(mape(dev[\"Price\"], pred))"
      ],
      "metadata": {
        "colab": {
          "base_uri": "https://localhost:8080/"
        },
        "id": "hrMPDvP4aOFR",
        "outputId": "7c0159b6-fabf-44c9-bbd3-4c075d1f9ed8"
      },
      "id": "hrMPDvP4aOFR",
      "execution_count": 40,
      "outputs": [
        {
          "output_type": "stream",
          "name": "stdout",
          "text": [
            "1.0665626910542862\n"
          ]
        }
      ]
    },
    {
      "cell_type": "code",
      "source": [
        "pred = linear_re.predict(test[features])\n",
        "print(mape(test[\"Price\"], pred))"
      ],
      "metadata": {
        "colab": {
          "base_uri": "https://localhost:8080/"
        },
        "id": "bTK51Qx6ctQv",
        "outputId": "5f3b9076-c96e-4341-bd5b-3554396bacc7"
      },
      "id": "bTK51Qx6ctQv",
      "execution_count": 41,
      "outputs": [
        {
          "output_type": "stream",
          "name": "stdout",
          "text": [
            "1.0854577674792925\n"
          ]
        }
      ]
    },
    {
      "cell_type": "code",
      "source": [],
      "metadata": {
        "id": "qXiH0r_Ucv9e"
      },
      "id": "qXiH0r_Ucv9e",
      "execution_count": 41,
      "outputs": []
    }
  ],
  "metadata": {
    "kernelspec": {
      "display_name": "Python 3 (ipykernel)",
      "language": "python",
      "name": "python3"
    },
    "language_info": {
      "codemirror_mode": {
        "name": "ipython",
        "version": 3
      },
      "file_extension": ".py",
      "mimetype": "text/x-python",
      "name": "python",
      "nbconvert_exporter": "python",
      "pygments_lexer": "ipython3",
      "version": "3.10.4"
    },
    "colab": {
      "provenance": []
    },
    "gpuClass": "standard"
  },
  "nbformat": 4,
  "nbformat_minor": 5
}