{
  "cells": [
    {
      "cell_type": "code",
      "execution_count": 1,
      "id": "1It9KjS_-TIX",
      "metadata": {
        "colab": {
          "base_uri": "https://localhost:8080/"
        },
        "id": "1It9KjS_-TIX",
        "outputId": "1457c504-fa61-4cdc-9416-14927039ac26"
      },
      "outputs": [
        {
          "name": "stdout",
          "output_type": "stream",
          "text": [
            "Requirement already satisfied: torchmetrics in /usr/local/python/3.10.4/lib/python3.10/site-packages (0.11.1)\n",
            "Requirement already satisfied: packaging in /home/codespace/.local/lib/python3.10/site-packages (from torchmetrics) (23.0)\n",
            "Requirement already satisfied: torch>=1.8.1 in /home/codespace/.local/lib/python3.10/site-packages (from torchmetrics) (1.13.1)\n",
            "Requirement already satisfied: numpy>=1.17.2 in /home/codespace/.local/lib/python3.10/site-packages (from torchmetrics) (1.24.1)\n",
            "Requirement already satisfied: nvidia-cublas-cu11==11.10.3.66 in /home/codespace/.local/lib/python3.10/site-packages (from torch>=1.8.1->torchmetrics) (11.10.3.66)\n",
            "Requirement already satisfied: typing-extensions in /home/codespace/.local/lib/python3.10/site-packages (from torch>=1.8.1->torchmetrics) (4.4.0)\n",
            "Requirement already satisfied: nvidia-cuda-nvrtc-cu11==11.7.99 in /home/codespace/.local/lib/python3.10/site-packages (from torch>=1.8.1->torchmetrics) (11.7.99)\n",
            "Requirement already satisfied: nvidia-cuda-runtime-cu11==11.7.99 in /home/codespace/.local/lib/python3.10/site-packages (from torch>=1.8.1->torchmetrics) (11.7.99)\n",
            "Requirement already satisfied: nvidia-cudnn-cu11==8.5.0.96 in /home/codespace/.local/lib/python3.10/site-packages (from torch>=1.8.1->torchmetrics) (8.5.0.96)\n",
            "Requirement already satisfied: setuptools in /usr/local/python/3.10.4/lib/python3.10/site-packages (from nvidia-cublas-cu11==11.10.3.66->torch>=1.8.1->torchmetrics) (58.1.0)\n",
            "Requirement already satisfied: wheel in /home/codespace/.local/lib/python3.10/site-packages (from nvidia-cublas-cu11==11.10.3.66->torch>=1.8.1->torchmetrics) (0.38.4)\n",
            "\n",
            "\u001b[1m[\u001b[0m\u001b[34;49mnotice\u001b[0m\u001b[1;39;49m]\u001b[0m\u001b[39;49m A new release of pip available: \u001b[0m\u001b[31;49m22.3.1\u001b[0m\u001b[39;49m -> \u001b[0m\u001b[32;49m23.0\u001b[0m\n",
            "\u001b[1m[\u001b[0m\u001b[34;49mnotice\u001b[0m\u001b[1;39;49m]\u001b[0m\u001b[39;49m To update, run: \u001b[0m\u001b[32;49mpython -m pip install --upgrade pip\u001b[0m\n"
          ]
        }
      ],
      "source": [
        "!pip install torchmetrics"
      ]
    },
    {
      "cell_type": "code",
      "execution_count": 2,
      "id": "dbda8e2c-9c5e-4078-b640-f48decfb6d70",
      "metadata": {
        "id": "dbda8e2c-9c5e-4078-b640-f48decfb6d70"
      },
      "outputs": [
        {
          "name": "stderr",
          "output_type": "stream",
          "text": [
            "/usr/local/python/3.10.4/lib/python3.10/site-packages/tqdm/auto.py:22: TqdmWarning: IProgress not found. Please update jupyter and ipywidgets. See https://ipywidgets.readthedocs.io/en/stable/user_install.html\n",
            "  from .autonotebook import tqdm as notebook_tqdm\n"
          ]
        }
      ],
      "source": [
        "import pandas as pd\n",
        "import numpy as np\n",
        "import pickle\n",
        "from sklearn.model_selection import train_test_split\n",
        "from sklearn.metrics import mean_absolute_percentage_error as  mape\n",
        "from matplotlib import pyplot as plt\n",
        "from sklearn.preprocessing import LabelEncoder\n",
        "from sklearn.preprocessing import MinMaxScaler\n",
        "from sklearn.linear_model import LinearRegression, Lasso, LassoCV\n",
        "\n",
        "from torchmetrics import MeanSquaredLogError\n"
      ]
    },
    {
      "cell_type": "code",
      "execution_count": 3,
      "id": "b858a75f",
      "metadata": {},
      "outputs": [],
      "source": [
        "from preprocess import EstateData\n",
        "\n",
        "dataset = EstateData(\"final.csv\")"
      ]
    },
    {
      "cell_type": "code",
      "execution_count": 4,
      "id": "e703e4ec-ac5c-47d9-8aa9-f8dabbb61a93",
      "metadata": {
        "id": "e703e4ec-ac5c-47d9-8aa9-f8dabbb61a93"
      },
      "outputs": [],
      "source": [
        "dataset.split_data(stratify=True)"
      ]
    },
    {
      "cell_type": "code",
      "execution_count": 5,
      "id": "16570f50-d2d2-4de1-bff4-7a2f35a5b1ef",
      "metadata": {
        "colab": {
          "base_uri": "https://localhost:8080/"
        },
        "id": "16570f50-d2d2-4de1-bff4-7a2f35a5b1ef",
        "outputId": "d391a5fd-61fe-4e37-ec56-fa5a438f0cf6"
      },
      "outputs": [
        {
          "name": "stdout",
          "output_type": "stream",
          "text": [
            "Start Process!\n",
            "Fill missing values: Done\n",
            "Remove outlier: Done\n",
            "Scale features: Done\n"
          ]
        }
      ],
      "source": [
        "dataset.preprocess(tukey=True)"
      ]
    },
    {
      "cell_type": "code",
      "execution_count": 6,
      "id": "1c203c8b-62fd-49ba-951b-fa4c99a4260d",
      "metadata": {
        "id": "1c203c8b-62fd-49ba-951b-fa4c99a4260d"
      },
      "outputs": [],
      "source": [
        "train = dataset.train\n",
        "test = dataset.test"
      ]
    },
    {
      "cell_type": "code",
      "execution_count": 7,
      "id": "abaea9fa-d4ba-494f-ba7d-cad4d1de429c",
      "metadata": {
        "id": "abaea9fa-d4ba-494f-ba7d-cad4d1de429c"
      },
      "outputs": [
        {
          "name": "stdout",
          "output_type": "stream",
          "text": [
            "train size (31531, 13)\n",
            "test size (9278, 13)\n"
          ]
        }
      ],
      "source": [
        "print(\"train size {}\".format(train.shape))\n",
        "print(\"test size {}\".format(test.shape))"
      ]
    },
    {
      "cell_type": "code",
      "execution_count": 8,
      "id": "c75ddea2-e377-4aa5-b241-726a8dc4ee54",
      "metadata": {
        "id": "c75ddea2-e377-4aa5-b241-726a8dc4ee54"
      },
      "outputs": [],
      "source": [
        "train, dev = train_test_split(train, test_size=0.1)"
      ]
    },
    {
      "cell_type": "code",
      "execution_count": 9,
      "id": "dd9a6a94",
      "metadata": {},
      "outputs": [],
      "source": [
        "train = pd.get_dummies(train)\n",
        "dev = pd.get_dummies(dev)\n",
        "test = pd.get_dummies(test)"
      ]
    },
    {
      "cell_type": "code",
      "execution_count": 10,
      "id": "a31f1e23-118d-4686-8d03-d476ff4f6fc2",
      "metadata": {
        "colab": {
          "base_uri": "https://localhost:8080/"
        },
        "id": "a31f1e23-118d-4686-8d03-d476ff4f6fc2",
        "outputId": "de80ad39-571f-4d81-dd87-86c323f5bbeb"
      },
      "outputs": [],
      "source": [
        "features = train.columns.tolist()\n",
        "features.remove(\"Price\")\n",
        "features.remove(\"PricePerM2\")"
      ]
    },
    {
      "cell_type": "code",
      "execution_count": 11,
      "id": "rya3PO6caLcq",
      "metadata": {
        "colab": {
          "base_uri": "https://localhost:8080/"
        },
        "id": "rya3PO6caLcq",
        "outputId": "694b7c10-8354-4d0d-9499-10e944ab541e"
      },
      "outputs": [],
      "source": [
        "linear_regression = LinearRegression()\n",
        "linear_regression.fit(train[features], train[\"PricePerM2\"])\n",
        "\n",
        "filename = 'checkpoint/linear_regression.model'\n",
        "pickle.dump(linear_regression, open(filename, 'wb'))"
      ]
    },
    {
      "cell_type": "code",
      "execution_count": 12,
      "id": "hrMPDvP4aOFR",
      "metadata": {
        "colab": {
          "base_uri": "https://localhost:8080/"
        },
        "id": "hrMPDvP4aOFR",
        "outputId": "7c0159b6-fabf-44c9-bbd3-4c075d1f9ed8"
      },
      "outputs": [
        {
          "name": "stdout",
          "output_type": "stream",
          "text": [
            "1.8563860685810778\n"
          ]
        }
      ],
      "source": [
        "linear_regression = pickle.load(open(filename, 'rb'))\n",
        "pred = linear_regression.predict(dev[features])\n",
        "print(mape(dev[\"PricePerM2\"], pred))"
      ]
    },
    {
      "cell_type": "code",
      "execution_count": 13,
      "id": "bTK51Qx6ctQv",
      "metadata": {
        "colab": {
          "base_uri": "https://localhost:8080/"
        },
        "id": "bTK51Qx6ctQv",
        "outputId": "5f3b9076-c96e-4341-bd5b-3554396bacc7"
      },
      "outputs": [
        {
          "name": "stdout",
          "output_type": "stream",
          "text": [
            "2.332018797896226\n"
          ]
        }
      ],
      "source": [
        "pred = linear_regression.predict(test[features])\n",
        "print(mape(test[\"PricePerM2\"], pred))"
      ]
    },
    {
      "cell_type": "code",
      "execution_count": 14,
      "id": "qXiH0r_Ucv9e",
      "metadata": {
        "id": "qXiH0r_Ucv9e"
      },
      "outputs": [],
      "source": [
        "lasso = Lasso(alpha=0.1)\n",
        "lasso.fit(train[features], train[\"PricePerM2\"])\n",
        "\n",
        "filename = 'checkpoint/Lasso.model'\n",
        "pickle.dump(lasso, open(filename, 'wb'))"
      ]
    },
    {
      "cell_type": "code",
      "execution_count": 15,
      "id": "70f216d4",
      "metadata": {},
      "outputs": [
        {
          "name": "stdout",
          "output_type": "stream",
          "text": [
            "1.850355794833056\n"
          ]
        }
      ],
      "source": [
        "lasso = pickle.load(open(filename, 'rb'))\n",
        "\n",
        "pred = lasso.predict(dev[features])\n",
        "print(mape(dev[\"PricePerM2\"], pred))"
      ]
    },
    {
      "cell_type": "code",
      "execution_count": 16,
      "id": "1ea71b1f",
      "metadata": {},
      "outputs": [
        {
          "name": "stdout",
          "output_type": "stream",
          "text": [
            "2.324648362474398\n"
          ]
        }
      ],
      "source": [
        "pred = lasso.predict(test[features])\n",
        "print(mape(test[\"PricePerM2\"], pred))"
      ]
    },
    {
      "cell_type": "code",
      "execution_count": 17,
      "id": "72bb123c",
      "metadata": {},
      "outputs": [],
      "source": [
        "lassoCV = LassoCV(cv=5, random_state=0)\n",
        "lassoCV.fit(train[features], train[\"PricePerM2\"])\n",
        "\n",
        "\n",
        "filename = 'checkpoint/LassoCV.model'\n",
        "pickle.dump(lassoCV, open(filename, 'wb'))"
      ]
    },
    {
      "cell_type": "code",
      "execution_count": 18,
      "id": "7602d8f3",
      "metadata": {},
      "outputs": [
        {
          "name": "stdout",
          "output_type": "stream",
          "text": [
            "1.8486609958791496\n"
          ]
        }
      ],
      "source": [
        "lassoCV = pickle.load(open(filename, 'rb'))\n",
        "\n",
        "pred = lassoCV.predict(dev[features])\n",
        "print(mape(dev[\"PricePerM2\"], pred))"
      ]
    },
    {
      "cell_type": "code",
      "execution_count": 19,
      "id": "9448dc4d",
      "metadata": {},
      "outputs": [
        {
          "name": "stdout",
          "output_type": "stream",
          "text": [
            "2.3208475334090104\n"
          ]
        }
      ],
      "source": [
        "pred = lassoCV.predict(test[features])\n",
        "print(mape(test[\"PricePerM2\"], pred))"
      ]
    },
    {
      "cell_type": "code",
      "execution_count": null,
      "id": "5c3ce5ce",
      "metadata": {},
      "outputs": [],
      "source": []
    }
  ],
  "metadata": {
    "colab": {
      "provenance": []
    },
    "gpuClass": "standard",
    "kernelspec": {
      "display_name": "Python 3 (ipykernel)",
      "language": "python",
      "name": "python3"
    },
    "language_info": {
      "codemirror_mode": {
        "name": "ipython",
        "version": 3
      },
      "file_extension": ".py",
      "mimetype": "text/x-python",
      "name": "python",
      "nbconvert_exporter": "python",
      "pygments_lexer": "ipython3",
      "version": "3.10.4"
    }
  },
  "nbformat": 4,
  "nbformat_minor": 5
}
