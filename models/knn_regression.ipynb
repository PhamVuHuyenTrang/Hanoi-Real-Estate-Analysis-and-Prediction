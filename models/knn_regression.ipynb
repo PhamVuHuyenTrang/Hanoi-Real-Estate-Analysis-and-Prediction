{
 "cells": [
  {
   "cell_type": "code",
   "execution_count": 17,
   "id": "dbda8e2c-9c5e-4078-b640-f48decfb6d70",
   "metadata": {},
   "outputs": [],
   "source": [
    "import pandas as pd\n",
    "import numpy as np\n",
    "from sklearn.model_selection import train_test_split\n",
    "from sklearn.metrics import mean_absolute_percentage_error as mape\n",
    "from matplotlib import pyplot as plt\n",
    "from sklearn.preprocessing import LabelEncoder\n",
    "from sklearn.manifold import TSNE\n",
    "from sklearn.neighbors import KNeighborsRegressor as KNR\n",
    "from sklearn.preprocessing import MinMaxScaler\n",
    "from sklearn.svm import SVR, LinearSVR\n"
   ]
  },
  {
   "cell_type": "code",
   "execution_count": 2,
   "id": "e703e4ec-ac5c-47d9-8aa9-f8dabbb61a93",
   "metadata": {},
   "outputs": [],
   "source": [
    "data = pd.read_csv(\"final.csv\")"
   ]
  },
  {
   "cell_type": "code",
   "execution_count": 3,
   "id": "16570f50-d2d2-4de1-bff4-7a2f35a5b1ef",
   "metadata": {},
   "outputs": [
    {
     "data": {
      "text/plain": [
       "(34953, 16)"
      ]
     },
     "execution_count": 3,
     "metadata": {},
     "output_type": "execute_result"
    }
   ],
   "source": [
    "data = data[data[\"Area\"].isnull() == False]\n",
    "data.shape"
   ]
  },
  {
   "cell_type": "code",
   "execution_count": 4,
   "id": "1c203c8b-62fd-49ba-951b-fa4c99a4260d",
   "metadata": {},
   "outputs": [],
   "source": [
    "data[\"Price\"] = data[\"Price\"]/data[\"Area\"]"
   ]
  },
  {
   "cell_type": "code",
   "execution_count": 5,
   "id": "abaea9fa-d4ba-494f-ba7d-cad4d1de429c",
   "metadata": {},
   "outputs": [],
   "source": [
    "data = data[['House Direction', 'Balcony Direction', 'Bedrooms', 'Toilets',\n",
    "       'Legits', 'Floors', 'Facade', 'Entrance', 'X', \"Y\",\n",
    "       'Price']]"
   ]
  },
  {
   "cell_type": "code",
   "execution_count": 6,
   "id": "c75ddea2-e377-4aa5-b241-726a8dc4ee54",
   "metadata": {},
   "outputs": [],
   "source": [
    "data = data[data[\"Price\"] > 100]"
   ]
  },
  {
   "cell_type": "code",
   "execution_count": 7,
   "id": "a31f1e23-118d-4686-8d03-d476ff4f6fc2",
   "metadata": {},
   "outputs": [
    {
     "data": {
      "text/plain": [
       "count    29570.000000\n",
       "mean      1316.770876\n",
       "std       1248.936842\n",
       "min        100.500000\n",
       "25%        260.666502\n",
       "50%       1044.968705\n",
       "75%       1818.181818\n",
       "max       6722.689076\n",
       "Name: Price, dtype: float64"
      ]
     },
     "execution_count": 7,
     "metadata": {},
     "output_type": "execute_result"
    }
   ],
   "source": [
    "IQR = data.Price.quantile(0.75) - data.Price.quantile(0.25)\n",
    "Lower_fence = data.Price.quantile(0.25) - (IQR * 3)\n",
    "Upper_fence = data.Price.quantile(0.75) + (IQR * 3)\n",
    "\n",
    "data = data[(data.Price >= Lower_fence) & (data.Price <= Upper_fence)]\n",
    "data.Price.describe()"
   ]
  },
  {
   "cell_type": "code",
   "execution_count": 8,
   "id": "461556d5-5529-4028-82e5-29b29b6f841b",
   "metadata": {},
   "outputs": [],
   "source": [
    "hotdf = pd.get_dummies(data)"
   ]
  },
  {
   "cell_type": "code",
   "execution_count": 9,
   "id": "2a8c0ecd-5cb8-4fad-8393-2c11b5a38b77",
   "metadata": {},
   "outputs": [],
   "source": [
    "hotdf[\"Entrance\"].fillna(value=hotdf[\"Entrance\"].mode().values[0], inplace=True)"
   ]
  },
  {
   "cell_type": "code",
   "execution_count": 10,
   "id": "ed7b06c4-1f97-4941-83bf-d1db46d3d131",
   "metadata": {},
   "outputs": [],
   "source": [
    "features = hotdf.columns.tolist()\n",
    "features.remove(\"Price\")"
   ]
  },
  {
   "cell_type": "code",
   "execution_count": 11,
   "id": "64f7c0a2-cc05-40d4-b1b5-4e5ee3efb3a2",
   "metadata": {},
   "outputs": [],
   "source": [
    "train, test = train_test_split(hotdf, test_size = 0.2)\n",
    "train, dev = train_test_split(train, test_size = 0.1)"
   ]
  },
  {
   "cell_type": "code",
   "execution_count": 12,
   "id": "64ef1ed1-47d4-4378-836a-47fcd79426ac",
   "metadata": {},
   "outputs": [],
   "source": [
    "scaler = MinMaxScaler()\n",
    "\n",
    "train[features] = scaler.fit_transform(train[features])\n",
    "\n",
    "test[features] = scaler.transform(test[features])\n",
    "dev[features] = scaler.transform(dev[features])"
   ]
  },
  {
   "cell_type": "code",
   "execution_count": 118,
   "id": "5d1cde37-6dc8-4417-9c65-3a5ff5a05dea",
   "metadata": {},
   "outputs": [],
   "source": [
    "knr = KNR(n_neighbors=2, weights=\"distance\", metric=\"minkowski\")"
   ]
  },
  {
   "cell_type": "code",
   "execution_count": 119,
   "id": "9da1ede7-913d-43b5-a1f8-e22cd2cc35e0",
   "metadata": {},
   "outputs": [
    {
     "data": {
      "text/plain": [
       "KNeighborsRegressor(n_neighbors=2, weights='distance')"
      ]
     },
     "execution_count": 119,
     "metadata": {},
     "output_type": "execute_result"
    }
   ],
   "source": [
    "knr.fit(train[features], train[\"Price\"])"
   ]
  },
  {
   "cell_type": "code",
   "execution_count": 120,
   "id": "ba6c99ad-ec2b-43cc-9ee6-2ae4eab7e933",
   "metadata": {},
   "outputs": [
    {
     "name": "stdout",
     "output_type": "stream",
     "text": [
      "0.6631183434614026\n"
     ]
    }
   ],
   "source": [
    "pred = knr.predict(dev[features])\n",
    "print(mape(dev[\"Price\"], pred))"
   ]
  },
  {
   "cell_type": "code",
   "execution_count": 121,
   "id": "af2f1ba3-ed36-4ec6-84d3-2e01a81120ac",
   "metadata": {},
   "outputs": [
    {
     "name": "stdout",
     "output_type": "stream",
     "text": [
      "0.5931645870218909\n"
     ]
    }
   ],
   "source": [
    "pred = knr.predict(test[features])\n",
    "print(mape(test[\"Price\"], pred))"
   ]
  },
  {
   "cell_type": "code",
   "execution_count": 18,
   "id": "7304a051-6bcb-4ed4-a6de-081e075aa35f",
   "metadata": {},
   "outputs": [
    {
     "data": {
      "text/plain": [
       "LinearSVR()"
      ]
     },
     "execution_count": 18,
     "metadata": {},
     "output_type": "execute_result"
    }
   ],
   "source": [
    "svr = LinearSVR()\n",
    "svr.fit(train[features], train[\"Price\"])"
   ]
  },
  {
   "cell_type": "code",
   "execution_count": 19,
   "id": "5fd0a4cc-64f4-48be-861a-5b90ff7e893e",
   "metadata": {},
   "outputs": [
    {
     "name": "stdout",
     "output_type": "stream",
     "text": [
      "0.7803384472200945\n"
     ]
    }
   ],
   "source": [
    "pred = svr.predict(test[features])\n",
    "print(mape(test[\"Price\"], pred))"
   ]
  },
  {
   "cell_type": "code",
   "execution_count": null,
   "id": "767087c4-ed1d-402e-92da-4419806a5f1c",
   "metadata": {},
   "outputs": [],
   "source": []
  }
 ],
 "metadata": {
  "kernelspec": {
   "display_name": "Python 3 (ipykernel)",
   "language": "python",
   "name": "python3"
  },
  "language_info": {
   "codemirror_mode": {
    "name": "ipython",
    "version": 3
   },
   "file_extension": ".py",
   "mimetype": "text/x-python",
   "name": "python",
   "nbconvert_exporter": "python",
   "pygments_lexer": "ipython3",
   "version": "3.10.4"
  }
 },
 "nbformat": 4,
 "nbformat_minor": 5
}
