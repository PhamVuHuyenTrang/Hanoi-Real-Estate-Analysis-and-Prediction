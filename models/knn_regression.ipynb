{
 "cells": [
  {
   "cell_type": "code",
   "execution_count": 1,
   "id": "dbda8e2c-9c5e-4078-b640-f48decfb6d70",
   "metadata": {},
   "outputs": [],
   "source": [
    "import pandas as pd\n",
    "import numpy as np\n",
    "from sklearn.model_selection import train_test_split\n",
    "from sklearn.metrics import mean_absolute_percentage_error as mape\n",
    "from matplotlib import pyplot as plt\n",
    "from sklearn.preprocessing import LabelEncoder\n",
    "from sklearn.manifold import TSNE\n",
    "from sklearn.neighbors import KNeighborsRegressor as KNR\n",
    "from sklearn.preprocessing import MinMaxScaler\n",
    "from sklearn.svm import SVR, LinearSVR\n"
   ]
  },
  {
   "cell_type": "code",
   "execution_count": 2,
   "id": "308d2795-6ef4-455a-b918-fe1d3c1fb903",
   "metadata": {},
   "outputs": [
    {
     "name": "stdout",
     "output_type": "stream",
     "text": [
      "(31565, 13)\n"
     ]
    }
   ],
   "source": [
    "from preprocess import EstateData\n",
    "\n",
    "dataset = EstateData(\"final.csv\")\n",
    "dataset.split_data()\n",
    "dataset.preprocess(tukey=True)"
   ]
  },
  {
   "cell_type": "code",
   "execution_count": 3,
   "id": "180bdfce-db29-4e4f-9e08-26d33f42a825",
   "metadata": {},
   "outputs": [],
   "source": [
    "train = dataset.train\n",
    "test = dataset.test"
   ]
  },
  {
   "cell_type": "code",
   "execution_count": 4,
   "id": "00f72841-1ac6-467a-9ff3-9caa9bd5a4f8",
   "metadata": {},
   "outputs": [
    {
     "data": {
      "text/plain": [
       "count    31565.000000\n",
       "mean        -0.198613\n",
       "std          5.176809\n",
       "min         -8.546366\n",
       "25%          0.000000\n",
       "50%          0.000000\n",
       "75%          0.000000\n",
       "max        590.453634\n",
       "Name: Entrance, dtype: float64"
      ]
     },
     "execution_count": 4,
     "metadata": {},
     "output_type": "execute_result"
    }
   ],
   "source": [
    "train[\"Entrance\"].describe()"
   ]
  },
  {
   "cell_type": "code",
   "execution_count": 5,
   "id": "f65a6966-d9c6-4f74-9a17-56083bbb5148",
   "metadata": {},
   "outputs": [],
   "source": [
    "train = pd.get_dummies(train)\n",
    "test = pd.get_dummies(test)"
   ]
  },
  {
   "cell_type": "code",
   "execution_count": 6,
   "id": "eac5387e-1bd6-48c9-8977-a4f998d568ab",
   "metadata": {},
   "outputs": [],
   "source": [
    "train, dev = train_test_split(train, test_size = 0.1)"
   ]
  },
  {
   "cell_type": "code",
   "execution_count": 7,
   "id": "1156a10b-9b47-4f4d-852d-76f293851705",
   "metadata": {},
   "outputs": [],
   "source": [
    "features = train.columns.tolist()\n",
    "features.remove(\"Price\")\n",
    "features.remove(\"PricePerM2\")"
   ]
  },
  {
   "cell_type": "code",
   "execution_count": 8,
   "id": "5d1cde37-6dc8-4417-9c65-3a5ff5a05dea",
   "metadata": {},
   "outputs": [],
   "source": [
    "knr = KNR(n_neighbors=2, weights=\"distance\", metric=\"minkowski\")"
   ]
  },
  {
   "cell_type": "code",
   "execution_count": 9,
   "id": "9da1ede7-913d-43b5-a1f8-e22cd2cc35e0",
   "metadata": {},
   "outputs": [
    {
     "data": {
      "text/plain": [
       "KNeighborsRegressor(n_neighbors=2, weights='distance')"
      ]
     },
     "execution_count": 9,
     "metadata": {},
     "output_type": "execute_result"
    }
   ],
   "source": [
    "knr.fit(train[features], train[\"Price\"])"
   ]
  },
  {
   "cell_type": "code",
   "execution_count": 10,
   "id": "ba6c99ad-ec2b-43cc-9ee6-2ae4eab7e933",
   "metadata": {},
   "outputs": [
    {
     "name": "stdout",
     "output_type": "stream",
     "text": [
      "1.1747584971282519\n"
     ]
    }
   ],
   "source": [
    "pred = knr.predict(dev[features])\n",
    "print(mape(dev[\"Price\"], pred))"
   ]
  },
  {
   "cell_type": "code",
   "execution_count": 11,
   "id": "af2f1ba3-ed36-4ec6-84d3-2e01a81120ac",
   "metadata": {},
   "outputs": [
    {
     "name": "stdout",
     "output_type": "stream",
     "text": [
      "0.6583568151145557\n"
     ]
    }
   ],
   "source": [
    "pred = knr.predict(test[features])\n",
    "print(mape(test[\"Price\"], pred))"
   ]
  },
  {
   "cell_type": "code",
   "execution_count": 18,
   "id": "7304a051-6bcb-4ed4-a6de-081e075aa35f",
   "metadata": {},
   "outputs": [
    {
     "data": {
      "text/plain": [
       "LinearSVR()"
      ]
     },
     "execution_count": 18,
     "metadata": {},
     "output_type": "execute_result"
    }
   ],
   "source": [
    "svr = LinearSVR()\n",
    "svr.fit(train[features], train[\"Price\"])"
   ]
  },
  {
   "cell_type": "code",
   "execution_count": 19,
   "id": "5fd0a4cc-64f4-48be-861a-5b90ff7e893e",
   "metadata": {},
   "outputs": [
    {
     "name": "stdout",
     "output_type": "stream",
     "text": [
      "0.7803384472200945\n"
     ]
    }
   ],
   "source": [
    "pred = svr.predict(test[features])\n",
    "print(mape(test[\"Price\"], pred))"
   ]
  },
  {
   "cell_type": "code",
   "execution_count": null,
   "id": "767087c4-ed1d-402e-92da-4419806a5f1c",
   "metadata": {},
   "outputs": [],
   "source": []
  }
 ],
 "metadata": {
  "kernelspec": {
   "display_name": "Python 3 (ipykernel)",
   "language": "python",
   "name": "python3"
  },
  "language_info": {
   "codemirror_mode": {
    "name": "ipython",
    "version": 3
   },
   "file_extension": ".py",
   "mimetype": "text/x-python",
   "name": "python",
   "nbconvert_exporter": "python",
   "pygments_lexer": "ipython3",
   "version": "3.10.4"
  }
 },
 "nbformat": 4,
 "nbformat_minor": 5
}
