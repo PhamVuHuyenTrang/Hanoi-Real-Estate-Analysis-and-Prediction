{
 "cells": [
  {
   "cell_type": "code",
   "execution_count": 62,
   "id": "2f7a2570-a3f4-4a24-a2eb-83460d886e01",
   "metadata": {},
   "outputs": [],
   "source": [
    "import pandas as pd"
   ]
  },
  {
   "cell_type": "code",
   "execution_count": 70,
   "id": "c513a465-9b54-42bf-8c1b-86743decfd14",
   "metadata": {},
   "outputs": [
    {
     "data": {
      "text/plain": [
       "(48014, 16)"
      ]
     },
     "execution_count": 70,
     "metadata": {},
     "output_type": "execute_result"
    }
   ],
   "source": [
    "df = pd.read_csv(\"final.csv\")\n",
    "df.shape"
   ]
  },
  {
   "cell_type": "code",
   "execution_count": 71,
   "id": "d05ec930-7c27-45f9-b851-f7b640422380",
   "metadata": {},
   "outputs": [
    {
     "data": {
      "text/plain": [
       "count    8204.000000\n",
       "mean        9.487484\n",
       "std        12.069910\n",
       "min         1.000000\n",
       "25%         3.000000\n",
       "50%         5.000000\n",
       "75%        12.000000\n",
       "max       600.000000\n",
       "Name: Entrance, dtype: float64"
      ]
     },
     "execution_count": 71,
     "metadata": {},
     "output_type": "execute_result"
    }
   ],
   "source": [
    "df[\"Entrance\"].describe()"
   ]
  },
  {
   "cell_type": "code",
   "execution_count": 72,
   "id": "25162685-981e-4ca5-a16d-7436aeb78c8c",
   "metadata": {},
   "outputs": [],
   "source": [
    "entrance = df[\"Entrance\"].copy()\n",
    "entrance.fillna(0, inplace=True)"
   ]
  },
  {
   "cell_type": "code",
   "execution_count": 73,
   "id": "1a83c1e3-1409-4947-b49d-3110d9700580",
   "metadata": {},
   "outputs": [],
   "source": [
    "df = df[entrance<600]"
   ]
  },
  {
   "cell_type": "code",
   "execution_count": 74,
   "id": "79cd285e-3b91-4e53-b21e-6c17356ffeb2",
   "metadata": {},
   "outputs": [
    {
     "data": {
      "text/plain": [
       "count    8203.000000\n",
       "mean        9.415496\n",
       "std        10.157789\n",
       "min         1.000000\n",
       "25%         3.000000\n",
       "50%         5.000000\n",
       "75%        12.000000\n",
       "max       100.000000\n",
       "Name: Entrance, dtype: float64"
      ]
     },
     "execution_count": 74,
     "metadata": {},
     "output_type": "execute_result"
    }
   ],
   "source": [
    "df[\"Entrance\"].describe()"
   ]
  },
  {
   "cell_type": "code",
   "execution_count": 75,
   "id": "61d1f11e-8b58-4678-bc68-7dd3806e109f",
   "metadata": {},
   "outputs": [
    {
     "data": {
      "text/plain": [
       "(48013, 16)"
      ]
     },
     "execution_count": 75,
     "metadata": {},
     "output_type": "execute_result"
    }
   ],
   "source": [
    "df.shape"
   ]
  },
  {
   "cell_type": "code",
   "execution_count": 76,
   "id": "1c2d4dc8-5cfd-4981-bc1b-933d75ad116e",
   "metadata": {},
   "outputs": [],
   "source": [
    "df.to_csv(\"final.csv\")"
   ]
  },
  {
   "cell_type": "code",
   "execution_count": null,
   "id": "26ae5cea-c86f-44da-8bd2-7e01a91b7493",
   "metadata": {},
   "outputs": [],
   "source": []
  }
 ],
 "metadata": {
  "kernelspec": {
   "display_name": "Python 3 (ipykernel)",
   "language": "python",
   "name": "python3"
  },
  "language_info": {
   "codemirror_mode": {
    "name": "ipython",
    "version": 3
   },
   "file_extension": ".py",
   "mimetype": "text/x-python",
   "name": "python",
   "nbconvert_exporter": "python",
   "pygments_lexer": "ipython3",
   "version": "3.10.4"
  }
 },
 "nbformat": 4,
 "nbformat_minor": 5
}
