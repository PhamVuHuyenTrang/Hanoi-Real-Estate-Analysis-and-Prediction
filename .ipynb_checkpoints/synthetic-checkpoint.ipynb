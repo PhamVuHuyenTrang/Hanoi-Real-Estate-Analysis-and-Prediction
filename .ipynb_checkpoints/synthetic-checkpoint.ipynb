{
 "cells": [
  {
   "cell_type": "code",
   "execution_count": 32,
   "id": "778f330e-e9c3-4847-963d-2ccbe8f7cd1f",
   "metadata": {},
   "outputs": [],
   "source": [
    "from os import listdir\n",
    "from os.path import isfile, join\n",
    "import os\n",
    "import pandas as pd\n",
    "import numpy as np\n",
    "from collections import Counter"
   ]
  },
  {
   "cell_type": "code",
   "execution_count": 33,
   "id": "d6ab2273-7bad-4a18-8c15-3fa5982be46d",
   "metadata": {},
   "outputs": [
    {
     "data": {
      "text/plain": [
       "False"
      ]
     },
     "execution_count": 33,
     "metadata": {},
     "output_type": "execute_result"
    }
   ],
   "source": [
    "files = [f for f in listdir(\"data\") if isfile(join(\"data\", f))]\n",
    "files.remove(\"index.json\")\n",
    "\"index.json\" in files"
   ]
  },
  {
   "cell_type": "code",
   "execution_count": 34,
   "id": "ef015f40-46c3-439f-bca2-be269a9831fc",
   "metadata": {},
   "outputs": [],
   "source": [
    "dfs = []\n",
    "for i in files:\n",
    "    dfs.append(pd.read_csv(os.path.join(\"data\", i)))"
   ]
  },
  {
   "cell_type": "code",
   "execution_count": 35,
   "id": "cf8a9ec2-04e4-4536-bc6f-34cc27a04098",
   "metadata": {},
   "outputs": [],
   "source": [
    "data = pd.concat(dfs).reset_index()"
   ]
  },
  {
   "cell_type": "code",
   "execution_count": 36,
   "id": "4af72257-70e2-4c11-8cc0-e5789bf5ee70",
   "metadata": {},
   "outputs": [
    {
     "data": {
      "text/plain": [
       "index             0.000000\n",
       "address           0.000000\n",
       "gen_descrip       0.000000\n",
       "Diện tích         0.000235\n",
       "Mức giá           0.000000\n",
       "Hướng nhà         0.685059\n",
       "Hướng ban công    0.764220\n",
       "Số phòng ngủ      0.286854\n",
       "Số toilet         0.360795\n",
       "Ngày đăng         0.000000\n",
       "Ngày hết hạn      0.000000\n",
       "Loại tin          0.000000\n",
       "Mã tin            0.000000\n",
       "id                0.000000\n",
       "Pháp lý           0.222646\n",
       "Nội thất          0.603378\n",
       "Số tầng           0.526152\n",
       "Mặt tiền          0.545268\n",
       "Đường vào         0.614108\n",
       "dtype: float64"
      ]
     },
     "execution_count": 36,
     "metadata": {},
     "output_type": "execute_result"
    }
   ],
   "source": [
    "data.isna().mean()"
   ]
  },
  {
   "cell_type": "markdown",
   "id": "b472f6b8-7a60-4605-826d-f4e5f833d6b7",
   "metadata": {},
   "source": [
    "Process address"
   ]
  },
  {
   "cell_type": "code",
   "execution_count": 37,
   "id": "89994d7c-99e6-4761-8c09-c3886fe237f7",
   "metadata": {},
   "outputs": [
    {
     "data": {
      "text/plain": [
       "[('Phường', 13968),\n",
       " ('Xã', 2257),\n",
       " ('Thị', 378),\n",
       " ('Dự', 346),\n",
       " ('Đường', 36),\n",
       " (None, 7),\n",
       " ('The', 7),\n",
       " ('King', 4),\n",
       " ('Phố', 3),\n",
       " ('thôn', 3),\n",
       " ('Thanh', 2),\n",
       " ('phường', 2),\n",
       " ('N05', 2),\n",
       " ('HH2', 2),\n",
       " ('Long', 2),\n",
       " ('Thôn', 2),\n",
       " ('Bắc', 1),\n",
       " ('KĐT', 1),\n",
       " ('Hope', 1),\n",
       " ('Imperial', 1),\n",
       " ('Sơn', 1),\n",
       " ('Gemek', 1),\n",
       " ('Vĩnh', 1),\n",
       " ('40', 1),\n",
       " ('mỹ', 1),\n",
       " ('Sunshine', 1),\n",
       " ('Minh', 1),\n",
       " ('Sudico', 1),\n",
       " ('Roman', 1),\n",
       " ('GoldSilk', 1),\n",
       " ('Vinhomes', 1),\n",
       " ('Green', 1),\n",
       " ('Bát', 1),\n",
       " ('Tổng', 1),\n",
       " ('Đồng', 1),\n",
       " ('Xuân', 1),\n",
       " ('Chung', 1),\n",
       " ('Trung', 1),\n",
       " ('Hữu', 1),\n",
       " ('N03', 1),\n",
       " ('Giang', 1),\n",
       " ('Nam', 1),\n",
       " ('Phú', 1),\n",
       " ('Mai', 1),\n",
       " ('Chùa', 1),\n",
       " ('Quảng', 1),\n",
       " ('Vụ', 1),\n",
       " ('Khai', 1),\n",
       " ('Tây', 1)]"
      ]
     },
     "execution_count": 37,
     "metadata": {},
     "output_type": "execute_result"
    }
   ],
   "source": [
    "Counter([eval(i)[2].split()[0] if len(eval(i)) > 2 else None for i in data[\"address\"] ]).most_common()"
   ]
  },
  {
   "cell_type": "code",
   "execution_count": 38,
   "id": "ade13086-988f-4a58-b65c-14c821e9cdb8",
   "metadata": {},
   "outputs": [],
   "source": [
    "def parse_address(address):\n",
    "    try:\n",
    "        city = address[0]\n",
    "        district = address[1]\n",
    "        ward = address[2] if len(address) > 2  and any([i in address[2].lower() for i in [\"xã\", \"phường\", \"thị trấn\"]]) else \"None\"\n",
    "        street = address[3] if len(address) > 3 and any([i in address[3].lower() for i in [\"đường\", \"phố\"]]) else \"None\"\n",
    "    except Exception as e:\n",
    "        print(e)\n",
    "        print(address)\n",
    "        return {}\n",
    "    return dict(city=city, district=district, ward=ward, street=street)"
   ]
  },
  {
   "cell_type": "code",
   "execution_count": 39,
   "id": "a30f2661-af97-43ef-92a0-a3f1277c132a",
   "metadata": {},
   "outputs": [
    {
     "name": "stdout",
     "output_type": "stream",
     "text": [
      "list index out of range\n",
      "['KDT THANH HÀ- Cienco 5']\n",
      "list index out of range\n",
      "['54m C4 MT5 giá 6.2 tỷ.']\n",
      "list index out of range\n",
      "['65m 4T giá 15.8 tỷ.']\n"
     ]
    }
   ],
   "source": [
    "df_address = pd.DataFrame([parse_address(eval(data[\"address\"][i])) for i in range(len(data[\"address\"]))])"
   ]
  },
  {
   "cell_type": "code",
   "execution_count": 40,
   "id": "1245ed48-3929-4817-ad69-ac4d27c20482",
   "metadata": {},
   "outputs": [],
   "source": [
    "data = pd.concat([data, df_address], axis=1)"
   ]
  },
  {
   "cell_type": "code",
   "execution_count": 41,
   "id": "a6fd4792-1c75-4044-951c-e44c9802251c",
   "metadata": {},
   "outputs": [
    {
     "data": {
      "text/html": [
       "<div>\n",
       "<style scoped>\n",
       "    .dataframe tbody tr th:only-of-type {\n",
       "        vertical-align: middle;\n",
       "    }\n",
       "\n",
       "    .dataframe tbody tr th {\n",
       "        vertical-align: top;\n",
       "    }\n",
       "\n",
       "    .dataframe thead th {\n",
       "        text-align: right;\n",
       "    }\n",
       "</style>\n",
       "<table border=\"1\" class=\"dataframe\">\n",
       "  <thead>\n",
       "    <tr style=\"text-align: right;\">\n",
       "      <th></th>\n",
       "      <th>index</th>\n",
       "      <th>address</th>\n",
       "      <th>gen_descrip</th>\n",
       "      <th>Diện tích</th>\n",
       "      <th>Mức giá</th>\n",
       "      <th>Hướng nhà</th>\n",
       "      <th>Hướng ban công</th>\n",
       "      <th>Số phòng ngủ</th>\n",
       "      <th>Số toilet</th>\n",
       "      <th>Ngày đăng</th>\n",
       "      <th>...</th>\n",
       "      <th>id</th>\n",
       "      <th>Pháp lý</th>\n",
       "      <th>Nội thất</th>\n",
       "      <th>Số tầng</th>\n",
       "      <th>Mặt tiền</th>\n",
       "      <th>Đường vào</th>\n",
       "      <th>city</th>\n",
       "      <th>district</th>\n",
       "      <th>ward</th>\n",
       "      <th>street</th>\n",
       "    </tr>\n",
       "  </thead>\n",
       "  <tbody>\n",
       "    <tr>\n",
       "      <th>0</th>\n",
       "      <td>0</td>\n",
       "      <td>['Hà Nội', 'Tây Hồ', 'Phường Phú Thượng', 'Dự ...</td>\n",
       "      <td>\\nTổng hợp danh sách chi tiết căn hộ bán chung...</td>\n",
       "      <td>100 m²</td>\n",
       "      <td>40 triệu/m²</td>\n",
       "      <td>Nam</td>\n",
       "      <td>Bắc</td>\n",
       "      <td>3 phòng</td>\n",
       "      <td>2 phòng</td>\n",
       "      <td>25/11/2022</td>\n",
       "      <td>...</td>\n",
       "      <td>batdongsan_com_vn_35339744</td>\n",
       "      <td>NaN</td>\n",
       "      <td>NaN</td>\n",
       "      <td>NaN</td>\n",
       "      <td>NaN</td>\n",
       "      <td>NaN</td>\n",
       "      <td>Hà Nội</td>\n",
       "      <td>Tây Hồ</td>\n",
       "      <td>Phường Phú Thượng</td>\n",
       "      <td>None</td>\n",
       "    </tr>\n",
       "    <tr>\n",
       "      <th>1</th>\n",
       "      <td>1</td>\n",
       "      <td>['Hà Nội', 'Tây Hồ', 'Phường Phú Thượng', 'Đườ...</td>\n",
       "      <td>\\nGia đình đang cần bán căn hộ tòa R2 Sunshine...</td>\n",
       "      <td>80.74 m²</td>\n",
       "      <td>43.3 triệu/m²</td>\n",
       "      <td>Nam</td>\n",
       "      <td>Bắc</td>\n",
       "      <td>2 phòng</td>\n",
       "      <td>2 phòng</td>\n",
       "      <td>28/11/2022</td>\n",
       "      <td>...</td>\n",
       "      <td>batdongsan_com_vn_35747475</td>\n",
       "      <td>Sổ đỏ/ Sổ hồng</td>\n",
       "      <td>NaN</td>\n",
       "      <td>NaN</td>\n",
       "      <td>NaN</td>\n",
       "      <td>NaN</td>\n",
       "      <td>Hà Nội</td>\n",
       "      <td>Tây Hồ</td>\n",
       "      <td>Phường Phú Thượng</td>\n",
       "      <td>Đường Võ Chí Công</td>\n",
       "    </tr>\n",
       "    <tr>\n",
       "      <th>2</th>\n",
       "      <td>2</td>\n",
       "      <td>['Hà Nội', 'Cầu Giấy', 'Phường Yên Hòa', 'Đườn...</td>\n",
       "      <td>\\n- Bán căn hộ chung cư cao cấp Star Tower Dươ...</td>\n",
       "      <td>131 m²</td>\n",
       "      <td>5.9 tỷ</td>\n",
       "      <td>NaN</td>\n",
       "      <td>NaN</td>\n",
       "      <td>3 phòng</td>\n",
       "      <td>3 phòng</td>\n",
       "      <td>29/11/2022</td>\n",
       "      <td>...</td>\n",
       "      <td>batdongsan_com_vn_35981012</td>\n",
       "      <td>Sổ đỏ/ Sổ hồng</td>\n",
       "      <td>Đầy đủ</td>\n",
       "      <td>NaN</td>\n",
       "      <td>NaN</td>\n",
       "      <td>NaN</td>\n",
       "      <td>Hà Nội</td>\n",
       "      <td>Cầu Giấy</td>\n",
       "      <td>Phường Yên Hòa</td>\n",
       "      <td>Đường Dương Đình Nghệ</td>\n",
       "    </tr>\n",
       "    <tr>\n",
       "      <th>3</th>\n",
       "      <td>3</td>\n",
       "      <td>['Hà Nội', 'Long Biên', 'Phường Bồ Đề', 'Đường...</td>\n",
       "      <td>\\nChủ nhà anh Việt Hùng bán nhà Bồ Đề, Long Bi...</td>\n",
       "      <td>52 m²</td>\n",
       "      <td>6.75 tỷ</td>\n",
       "      <td>NaN</td>\n",
       "      <td>NaN</td>\n",
       "      <td>5 phòng</td>\n",
       "      <td>NaN</td>\n",
       "      <td>28/11/2022</td>\n",
       "      <td>...</td>\n",
       "      <td>batdongsan_com_vn_35968324</td>\n",
       "      <td>Sổ đỏ/ Sổ hồng.</td>\n",
       "      <td>Cơ bản.</td>\n",
       "      <td>5 tầng</td>\n",
       "      <td>NaN</td>\n",
       "      <td>NaN</td>\n",
       "      <td>Hà Nội</td>\n",
       "      <td>Long Biên</td>\n",
       "      <td>Phường Bồ Đề</td>\n",
       "      <td>Đường Bồ Đề</td>\n",
       "    </tr>\n",
       "    <tr>\n",
       "      <th>4</th>\n",
       "      <td>4</td>\n",
       "      <td>['Hà Nội', 'Nam Từ Liêm', 'Thị trấn Cầu Diễn',...</td>\n",
       "      <td>\\nCần bán gấp căn hộ tại tòa A2 - Vinhomes Gar...</td>\n",
       "      <td>119 m²</td>\n",
       "      <td>5.8 tỷ</td>\n",
       "      <td>NaN</td>\n",
       "      <td>NaN</td>\n",
       "      <td>3 phòng</td>\n",
       "      <td>2 phòng</td>\n",
       "      <td>26/11/2022</td>\n",
       "      <td>...</td>\n",
       "      <td>batdongsan_com_vn_35957404</td>\n",
       "      <td>Sổ đỏ/ Sổ hồng</td>\n",
       "      <td>Nội thất đầy đủ: Thiết bị điện tử(tivi, tủ lạn...</td>\n",
       "      <td>NaN</td>\n",
       "      <td>NaN</td>\n",
       "      <td>NaN</td>\n",
       "      <td>Hà Nội</td>\n",
       "      <td>Nam Từ Liêm</td>\n",
       "      <td>Thị trấn Cầu Diễn</td>\n",
       "      <td>Đường Hàm Nghi</td>\n",
       "    </tr>\n",
       "  </tbody>\n",
       "</table>\n",
       "<p>5 rows × 23 columns</p>\n",
       "</div>"
      ],
      "text/plain": [
       "   index                                            address  \\\n",
       "0      0  ['Hà Nội', 'Tây Hồ', 'Phường Phú Thượng', 'Dự ...   \n",
       "1      1  ['Hà Nội', 'Tây Hồ', 'Phường Phú Thượng', 'Đườ...   \n",
       "2      2  ['Hà Nội', 'Cầu Giấy', 'Phường Yên Hòa', 'Đườn...   \n",
       "3      3  ['Hà Nội', 'Long Biên', 'Phường Bồ Đề', 'Đường...   \n",
       "4      4  ['Hà Nội', 'Nam Từ Liêm', 'Thị trấn Cầu Diễn',...   \n",
       "\n",
       "                                         gen_descrip Diện tích        Mức giá  \\\n",
       "0  \\nTổng hợp danh sách chi tiết căn hộ bán chung...    100 m²    40 triệu/m²   \n",
       "1  \\nGia đình đang cần bán căn hộ tòa R2 Sunshine...  80.74 m²  43.3 triệu/m²   \n",
       "2  \\n- Bán căn hộ chung cư cao cấp Star Tower Dươ...    131 m²         5.9 tỷ   \n",
       "3  \\nChủ nhà anh Việt Hùng bán nhà Bồ Đề, Long Bi...     52 m²        6.75 tỷ   \n",
       "4  \\nCần bán gấp căn hộ tại tòa A2 - Vinhomes Gar...    119 m²         5.8 tỷ   \n",
       "\n",
       "  Hướng nhà Hướng ban công Số phòng ngủ Số toilet   Ngày đăng  ...  \\\n",
       "0       Nam            Bắc      3 phòng   2 phòng  25/11/2022  ...   \n",
       "1       Nam            Bắc      2 phòng   2 phòng  28/11/2022  ...   \n",
       "2       NaN            NaN      3 phòng   3 phòng  29/11/2022  ...   \n",
       "3       NaN            NaN      5 phòng       NaN  28/11/2022  ...   \n",
       "4       NaN            NaN      3 phòng   2 phòng  26/11/2022  ...   \n",
       "\n",
       "                           id          Pháp lý  \\\n",
       "0  batdongsan_com_vn_35339744              NaN   \n",
       "1  batdongsan_com_vn_35747475   Sổ đỏ/ Sổ hồng   \n",
       "2  batdongsan_com_vn_35981012   Sổ đỏ/ Sổ hồng   \n",
       "3  batdongsan_com_vn_35968324  Sổ đỏ/ Sổ hồng.   \n",
       "4  batdongsan_com_vn_35957404   Sổ đỏ/ Sổ hồng   \n",
       "\n",
       "                                            Nội thất Số tầng Mặt tiền  \\\n",
       "0                                                NaN     NaN      NaN   \n",
       "1                                                NaN     NaN      NaN   \n",
       "2                                             Đầy đủ     NaN      NaN   \n",
       "3                                            Cơ bản.  5 tầng      NaN   \n",
       "4  Nội thất đầy đủ: Thiết bị điện tử(tivi, tủ lạn...     NaN      NaN   \n",
       "\n",
       "  Đường vào    city     district               ward                 street  \n",
       "0       NaN  Hà Nội       Tây Hồ  Phường Phú Thượng                   None  \n",
       "1       NaN  Hà Nội       Tây Hồ  Phường Phú Thượng      Đường Võ Chí Công  \n",
       "2       NaN  Hà Nội     Cầu Giấy     Phường Yên Hòa  Đường Dương Đình Nghệ  \n",
       "3       NaN  Hà Nội    Long Biên       Phường Bồ Đề            Đường Bồ Đề  \n",
       "4       NaN  Hà Nội  Nam Từ Liêm  Thị trấn Cầu Diễn         Đường Hàm Nghi  \n",
       "\n",
       "[5 rows x 23 columns]"
      ]
     },
     "execution_count": 41,
     "metadata": {},
     "output_type": "execute_result"
    }
   ],
   "source": [
    "data.head()"
   ]
  },
  {
   "cell_type": "markdown",
   "id": "dfe02774-ceb0-4a67-8e63-20a6d4981480",
   "metadata": {},
   "source": [
    "Area and price"
   ]
  },
  {
   "cell_type": "code",
   "execution_count": 42,
   "id": "47f62b5a-0f2f-4504-8ccf-19e79f26e63d",
   "metadata": {},
   "outputs": [
    {
     "data": {
      "text/plain": [
       "0    100.00\n",
       "1     80.74\n",
       "2    131.00\n",
       "3     52.00\n",
       "4    119.00\n",
       "Name: area, dtype: float64"
      ]
     },
     "execution_count": 42,
     "metadata": {},
     "output_type": "execute_result"
    }
   ],
   "source": [
    "data[\"Area\"] = data[\"Diện tích\"].apply(lambda x: float(x.split()[0]) if not pd.isnull(x) else x)\n",
    "data = data.drop(\"Diện tích\", axis=1)\n",
    "data[\"Area\"].head()"
   ]
  },
  {
   "cell_type": "code",
   "execution_count": 43,
   "id": "30dc3b83-d343-4891-89ba-965fe13c79c8",
   "metadata": {},
   "outputs": [],
   "source": [
    "def parce_price(data):\n",
    "    prices = []\n",
    "    for idx, i in enumerate(data[\"Mức giá\"]):\n",
    "        try:\n",
    "            \n",
    "            if i.split()[1] not in [\"tỷ\", \"triệu/m²\", \"triệu\"] or i == \"Thỏa thuận\":\n",
    "                prices.append(None)\n",
    "            else:\n",
    "                if \"tỷ\" in i:\n",
    "                    prices.append(float(i.split()[0])*1e3)\n",
    "                elif \"triệu/m²\" in i:\n",
    "                    prices.append(float(i.split()[0])*data[\"Area\"][idx])\n",
    "                else:\n",
    "                    prices.append(float(i.split()[0]))\n",
    "        except Exception as e:\n",
    "            print(e)\n",
    "            print(i, type(i))\n",
    "    return prices"
   ]
  },
  {
   "cell_type": "code",
   "execution_count": 44,
   "id": "0322fa73-3190-44cc-9428-2d918dd1aa7b",
   "metadata": {},
   "outputs": [],
   "source": [
    "data[\"Price\"] = parce_price(data)\n",
    "#data[\"Price\"] = data[\"Price\"].astype(\"float\")"
   ]
  },
  {
   "cell_type": "code",
   "execution_count": 45,
   "id": "b2af7ddf-203d-4977-95b5-d32ab175eac9",
   "metadata": {},
   "outputs": [
    {
     "data": {
      "text/html": [
       "<div>\n",
       "<style scoped>\n",
       "    .dataframe tbody tr th:only-of-type {\n",
       "        vertical-align: middle;\n",
       "    }\n",
       "\n",
       "    .dataframe tbody tr th {\n",
       "        vertical-align: top;\n",
       "    }\n",
       "\n",
       "    .dataframe thead th {\n",
       "        text-align: right;\n",
       "    }\n",
       "</style>\n",
       "<table border=\"1\" class=\"dataframe\">\n",
       "  <thead>\n",
       "    <tr style=\"text-align: right;\">\n",
       "      <th></th>\n",
       "      <th>index</th>\n",
       "      <th>address</th>\n",
       "      <th>gen_descrip</th>\n",
       "      <th>Mức giá</th>\n",
       "      <th>Hướng nhà</th>\n",
       "      <th>Hướng ban công</th>\n",
       "      <th>Số phòng ngủ</th>\n",
       "      <th>Số toilet</th>\n",
       "      <th>Ngày đăng</th>\n",
       "      <th>Ngày hết hạn</th>\n",
       "      <th>...</th>\n",
       "      <th>Nội thất</th>\n",
       "      <th>Số tầng</th>\n",
       "      <th>Mặt tiền</th>\n",
       "      <th>Đường vào</th>\n",
       "      <th>city</th>\n",
       "      <th>district</th>\n",
       "      <th>ward</th>\n",
       "      <th>street</th>\n",
       "      <th>area</th>\n",
       "      <th>price</th>\n",
       "    </tr>\n",
       "  </thead>\n",
       "  <tbody>\n",
       "    <tr>\n",
       "      <th>0</th>\n",
       "      <td>0</td>\n",
       "      <td>['Hà Nội', 'Tây Hồ', 'Phường Phú Thượng', 'Dự ...</td>\n",
       "      <td>\\nTổng hợp danh sách chi tiết căn hộ bán chung...</td>\n",
       "      <td>40 triệu/m²</td>\n",
       "      <td>Nam</td>\n",
       "      <td>Bắc</td>\n",
       "      <td>3 phòng</td>\n",
       "      <td>2 phòng</td>\n",
       "      <td>25/11/2022</td>\n",
       "      <td>05/12/2022</td>\n",
       "      <td>...</td>\n",
       "      <td>NaN</td>\n",
       "      <td>NaN</td>\n",
       "      <td>NaN</td>\n",
       "      <td>NaN</td>\n",
       "      <td>Hà Nội</td>\n",
       "      <td>Tây Hồ</td>\n",
       "      <td>Phường Phú Thượng</td>\n",
       "      <td>None</td>\n",
       "      <td>100.00</td>\n",
       "      <td>4000.000</td>\n",
       "    </tr>\n",
       "    <tr>\n",
       "      <th>1</th>\n",
       "      <td>1</td>\n",
       "      <td>['Hà Nội', 'Tây Hồ', 'Phường Phú Thượng', 'Đườ...</td>\n",
       "      <td>\\nGia đình đang cần bán căn hộ tòa R2 Sunshine...</td>\n",
       "      <td>43.3 triệu/m²</td>\n",
       "      <td>Nam</td>\n",
       "      <td>Bắc</td>\n",
       "      <td>2 phòng</td>\n",
       "      <td>2 phòng</td>\n",
       "      <td>28/11/2022</td>\n",
       "      <td>08/12/2022</td>\n",
       "      <td>...</td>\n",
       "      <td>NaN</td>\n",
       "      <td>NaN</td>\n",
       "      <td>NaN</td>\n",
       "      <td>NaN</td>\n",
       "      <td>Hà Nội</td>\n",
       "      <td>Tây Hồ</td>\n",
       "      <td>Phường Phú Thượng</td>\n",
       "      <td>Đường Võ Chí Công</td>\n",
       "      <td>80.74</td>\n",
       "      <td>3496.042</td>\n",
       "    </tr>\n",
       "    <tr>\n",
       "      <th>2</th>\n",
       "      <td>2</td>\n",
       "      <td>['Hà Nội', 'Cầu Giấy', 'Phường Yên Hòa', 'Đườn...</td>\n",
       "      <td>\\n- Bán căn hộ chung cư cao cấp Star Tower Dươ...</td>\n",
       "      <td>5.9 tỷ</td>\n",
       "      <td>NaN</td>\n",
       "      <td>NaN</td>\n",
       "      <td>3 phòng</td>\n",
       "      <td>3 phòng</td>\n",
       "      <td>29/11/2022</td>\n",
       "      <td>06/12/2022</td>\n",
       "      <td>...</td>\n",
       "      <td>Đầy đủ</td>\n",
       "      <td>NaN</td>\n",
       "      <td>NaN</td>\n",
       "      <td>NaN</td>\n",
       "      <td>Hà Nội</td>\n",
       "      <td>Cầu Giấy</td>\n",
       "      <td>Phường Yên Hòa</td>\n",
       "      <td>Đường Dương Đình Nghệ</td>\n",
       "      <td>131.00</td>\n",
       "      <td>5900.000</td>\n",
       "    </tr>\n",
       "    <tr>\n",
       "      <th>3</th>\n",
       "      <td>3</td>\n",
       "      <td>['Hà Nội', 'Long Biên', 'Phường Bồ Đề', 'Đường...</td>\n",
       "      <td>\\nChủ nhà anh Việt Hùng bán nhà Bồ Đề, Long Bi...</td>\n",
       "      <td>6.75 tỷ</td>\n",
       "      <td>NaN</td>\n",
       "      <td>NaN</td>\n",
       "      <td>5 phòng</td>\n",
       "      <td>NaN</td>\n",
       "      <td>28/11/2022</td>\n",
       "      <td>08/12/2022</td>\n",
       "      <td>...</td>\n",
       "      <td>Cơ bản.</td>\n",
       "      <td>5 tầng</td>\n",
       "      <td>NaN</td>\n",
       "      <td>NaN</td>\n",
       "      <td>Hà Nội</td>\n",
       "      <td>Long Biên</td>\n",
       "      <td>Phường Bồ Đề</td>\n",
       "      <td>Đường Bồ Đề</td>\n",
       "      <td>52.00</td>\n",
       "      <td>6750.000</td>\n",
       "    </tr>\n",
       "    <tr>\n",
       "      <th>4</th>\n",
       "      <td>4</td>\n",
       "      <td>['Hà Nội', 'Nam Từ Liêm', 'Thị trấn Cầu Diễn',...</td>\n",
       "      <td>\\nCần bán gấp căn hộ tại tòa A2 - Vinhomes Gar...</td>\n",
       "      <td>5.8 tỷ</td>\n",
       "      <td>NaN</td>\n",
       "      <td>NaN</td>\n",
       "      <td>3 phòng</td>\n",
       "      <td>2 phòng</td>\n",
       "      <td>26/11/2022</td>\n",
       "      <td>03/12/2022</td>\n",
       "      <td>...</td>\n",
       "      <td>Nội thất đầy đủ: Thiết bị điện tử(tivi, tủ lạn...</td>\n",
       "      <td>NaN</td>\n",
       "      <td>NaN</td>\n",
       "      <td>NaN</td>\n",
       "      <td>Hà Nội</td>\n",
       "      <td>Nam Từ Liêm</td>\n",
       "      <td>Thị trấn Cầu Diễn</td>\n",
       "      <td>Đường Hàm Nghi</td>\n",
       "      <td>119.00</td>\n",
       "      <td>5800.000</td>\n",
       "    </tr>\n",
       "  </tbody>\n",
       "</table>\n",
       "<p>5 rows × 24 columns</p>\n",
       "</div>"
      ],
      "text/plain": [
       "   index                                            address  \\\n",
       "0      0  ['Hà Nội', 'Tây Hồ', 'Phường Phú Thượng', 'Dự ...   \n",
       "1      1  ['Hà Nội', 'Tây Hồ', 'Phường Phú Thượng', 'Đườ...   \n",
       "2      2  ['Hà Nội', 'Cầu Giấy', 'Phường Yên Hòa', 'Đườn...   \n",
       "3      3  ['Hà Nội', 'Long Biên', 'Phường Bồ Đề', 'Đường...   \n",
       "4      4  ['Hà Nội', 'Nam Từ Liêm', 'Thị trấn Cầu Diễn',...   \n",
       "\n",
       "                                         gen_descrip        Mức giá Hướng nhà  \\\n",
       "0  \\nTổng hợp danh sách chi tiết căn hộ bán chung...    40 triệu/m²       Nam   \n",
       "1  \\nGia đình đang cần bán căn hộ tòa R2 Sunshine...  43.3 triệu/m²       Nam   \n",
       "2  \\n- Bán căn hộ chung cư cao cấp Star Tower Dươ...         5.9 tỷ       NaN   \n",
       "3  \\nChủ nhà anh Việt Hùng bán nhà Bồ Đề, Long Bi...        6.75 tỷ       NaN   \n",
       "4  \\nCần bán gấp căn hộ tại tòa A2 - Vinhomes Gar...         5.8 tỷ       NaN   \n",
       "\n",
       "  Hướng ban công Số phòng ngủ Số toilet   Ngày đăng Ngày hết hạn  ...  \\\n",
       "0            Bắc      3 phòng   2 phòng  25/11/2022   05/12/2022  ...   \n",
       "1            Bắc      2 phòng   2 phòng  28/11/2022   08/12/2022  ...   \n",
       "2            NaN      3 phòng   3 phòng  29/11/2022   06/12/2022  ...   \n",
       "3            NaN      5 phòng       NaN  28/11/2022   08/12/2022  ...   \n",
       "4            NaN      3 phòng   2 phòng  26/11/2022   03/12/2022  ...   \n",
       "\n",
       "                                            Nội thất  Số tầng Mặt tiền  \\\n",
       "0                                                NaN      NaN      NaN   \n",
       "1                                                NaN      NaN      NaN   \n",
       "2                                             Đầy đủ      NaN      NaN   \n",
       "3                                            Cơ bản.   5 tầng      NaN   \n",
       "4  Nội thất đầy đủ: Thiết bị điện tử(tivi, tủ lạn...      NaN      NaN   \n",
       "\n",
       "  Đường vào    city     district               ward                 street  \\\n",
       "0       NaN  Hà Nội       Tây Hồ  Phường Phú Thượng                   None   \n",
       "1       NaN  Hà Nội       Tây Hồ  Phường Phú Thượng      Đường Võ Chí Công   \n",
       "2       NaN  Hà Nội     Cầu Giấy     Phường Yên Hòa  Đường Dương Đình Nghệ   \n",
       "3       NaN  Hà Nội    Long Biên       Phường Bồ Đề            Đường Bồ Đề   \n",
       "4       NaN  Hà Nội  Nam Từ Liêm  Thị trấn Cầu Diễn         Đường Hàm Nghi   \n",
       "\n",
       "     area     price  \n",
       "0  100.00  4000.000  \n",
       "1   80.74  3496.042  \n",
       "2  131.00  5900.000  \n",
       "3   52.00  6750.000  \n",
       "4  119.00  5800.000  \n",
       "\n",
       "[5 rows x 24 columns]"
      ]
     },
     "execution_count": 45,
     "metadata": {},
     "output_type": "execute_result"
    }
   ],
   "source": [
    "data.head()"
   ]
  },
  {
   "cell_type": "markdown",
   "id": "9e3a0de8-fe3a-4e94-b786-35d60f916a4c",
   "metadata": {},
   "source": [
    "Other features"
   ]
  },
  {
   "cell_type": "code",
   "execution_count": 46,
   "id": "22538df4-38f9-4725-bd2f-a5f8e3fff4fe",
   "metadata": {},
   "outputs": [],
   "source": [
    "features = {\"Số phòng ngủ\":\"Bedrooms\", \"Số toilet\":\"Toilets\", \"Hướng nhà\":\"House Direction\", \"Hướng ban công\":\"Balcony Direction\", \"Pháp lý\":\"Legits\", \n",
    "            \"Nội thất\":\"Furnitures\", \"Số tầng\":\"Floor\", \"Mặt tiền\":\"Facade\", \"Đường vào\":\"Entrance\",\n",
    "           \"Ngày đăng\":\"Date\",\n",
    "           \"Ngày hết hạn\":\"Expired date\"}\n"
   ]
  },
  {
   "cell_type": "code",
   "execution_count": 47,
   "id": "bd621075-f7ee-4e8b-821f-a9cda699ed3d",
   "metadata": {},
   "outputs": [],
   "source": [
    "data = data.rename(columns=features)"
   ]
  },
  {
   "cell_type": "code",
   "execution_count": 48,
   "id": "dedfe39b-9497-4ebf-9fb0-973c4b92844c",
   "metadata": {},
   "outputs": [
    {
     "data": {
      "text/plain": [
       "0    3\n",
       "1    2\n",
       "2    3\n",
       "3    5\n",
       "4    3\n",
       "Name: bedroom, dtype: object"
      ]
     },
     "execution_count": 48,
     "metadata": {},
     "output_type": "execute_result"
    }
   ],
   "source": [
    "data[\"Bedroom\"] = [i.split()[0] if not pd.isna(i) else \"None\" for i in data[\"Bedroom\"]]\n",
    "data[\"Bedroom\"].head()"
   ]
  },
  {
   "cell_type": "code",
   "execution_count": 49,
   "id": "b2699211-9c01-4296-9dd2-bfee2733f351",
   "metadata": {},
   "outputs": [
    {
     "data": {
      "text/plain": [
       "0       2\n",
       "1       2\n",
       "2       3\n",
       "3    None\n",
       "4       2\n",
       "Name: toilet, dtype: object"
      ]
     },
     "execution_count": 49,
     "metadata": {},
     "output_type": "execute_result"
    }
   ],
   "source": [
    "data[\"toilet\"] = [i.split()[0] if not pd.isna(i) else \"None\" for i in data[\"toilet\"]]\n",
    "data[\"toilet\"].head()"
   ]
  },
  {
   "cell_type": "code",
   "execution_count": 50,
   "id": "44d52566-d74c-47bc-921b-699d2d8091b3",
   "metadata": {},
   "outputs": [
    {
     "data": {
      "text/plain": [
       "0     Nam\n",
       "1     Nam\n",
       "2    None\n",
       "3    None\n",
       "4    None\n",
       "Name: house_direction, dtype: object"
      ]
     },
     "execution_count": 50,
     "metadata": {},
     "output_type": "execute_result"
    }
   ],
   "source": [
    "data[\"house_direction\"] = [i if not pd.isna(i) else \"None\" for i in data[\"house_direction\"]]\n",
    "data[\"house_direction\"].head()"
   ]
  },
  {
   "cell_type": "code",
   "execution_count": 51,
   "id": "d2eb7a69-9e4c-4974-98b8-a5aa36911a94",
   "metadata": {},
   "outputs": [
    {
     "data": {
      "text/plain": [
       "0     Bắc\n",
       "1     Bắc\n",
       "2    None\n",
       "3    None\n",
       "4    None\n",
       "Name: balcony_direction, dtype: object"
      ]
     },
     "execution_count": 51,
     "metadata": {},
     "output_type": "execute_result"
    }
   ],
   "source": [
    "data[\"balcony_direction\"] = [i if not pd.isna(i) else \"None\" for i in data[\"balcony_direction\"]]\n",
    "data[\"balcony_direction\"].head()"
   ]
  },
  {
   "cell_type": "code",
   "execution_count": 52,
   "id": "8983749c-c5ce-4267-a07b-9802ad4c21e3",
   "metadata": {},
   "outputs": [
    {
     "data": {
      "text/plain": [
       "0    None\n",
       "1    None\n",
       "2    None\n",
       "3    None\n",
       "4    None\n",
       "Name: facade, dtype: object"
      ]
     },
     "execution_count": 52,
     "metadata": {},
     "output_type": "execute_result"
    }
   ],
   "source": [
    "data[\"facade\"] = [i if not pd.isna(i) else \"None\" for i in data[\"facade\"]]\n",
    "data[\"facade\"].head()"
   ]
  },
  {
   "cell_type": "code",
   "execution_count": 53,
   "id": "fcc7283e-b2de-42b0-8238-7ff8d3609d82",
   "metadata": {},
   "outputs": [
    {
     "data": {
      "text/plain": [
       "0                                                     \n",
       "1                                                     \n",
       "2                                               Đầy đủ\n",
       "3                                              Cơ bản.\n",
       "4    Nội thất đầy đủ: Thiết bị điện tử(tivi, tủ lạn...\n",
       "Name: furniture, dtype: object"
      ]
     },
     "execution_count": 53,
     "metadata": {},
     "output_type": "execute_result"
    }
   ],
   "source": [
    "data[\"furniture\"] = [i if not pd.isna(i) else \"\" for i in data[\"furniture\"]]\n",
    "data[\"furniture\"].head()"
   ]
  },
  {
   "cell_type": "code",
   "execution_count": 54,
   "id": "0db42beb-88cd-435b-9ab9-12476389845c",
   "metadata": {},
   "outputs": [
    {
     "data": {
      "text/plain": [
       "0               None\n",
       "1     Sổ đỏ/ Sổ hồng\n",
       "2     Sổ đỏ/ Sổ hồng\n",
       "3    Sổ đỏ/ Sổ hồng.\n",
       "4     Sổ đỏ/ Sổ hồng\n",
       "Name: legit, dtype: object"
      ]
     },
     "execution_count": 54,
     "metadata": {},
     "output_type": "execute_result"
    }
   ],
   "source": [
    "data[\"legit\"] = [i if not pd.isna(i) else \"None\" for i in data[\"legit\"]]\n",
    "data[\"legit\"].head()"
   ]
  },
  {
   "cell_type": "code",
   "execution_count": 55,
   "id": "fad61bcd-ff87-40d9-8d4b-9b1cd010910f",
   "metadata": {},
   "outputs": [
    {
     "data": {
      "text/plain": [
       "0        None\n",
       "1        None\n",
       "2        None\n",
       "3           5\n",
       "4        None\n",
       "         ... \n",
       "17049       6\n",
       "17050    None\n",
       "17051    None\n",
       "17052    None\n",
       "17053    None\n",
       "Name: floor, Length: 17054, dtype: object"
      ]
     },
     "execution_count": 55,
     "metadata": {},
     "output_type": "execute_result"
    }
   ],
   "source": [
    "data[\"floor\"] = [i.split()[0] if not pd.isna(i) else \"None\" for i in data[\"floor\"]]\n",
    "data[\"floor\"]"
   ]
  },
  {
   "cell_type": "code",
   "execution_count": 56,
   "id": "b4c3e4e9-ee3c-400a-881b-581dc493e03b",
   "metadata": {},
   "outputs": [
    {
     "data": {
      "text/plain": [
       "0        None\n",
       "1        None\n",
       "2        None\n",
       "3        None\n",
       "4        None\n",
       "         ... \n",
       "17049    None\n",
       "17050    None\n",
       "17051      60\n",
       "17052    None\n",
       "17053    None\n",
       "Name: entrance, Length: 17054, dtype: object"
      ]
     },
     "execution_count": 56,
     "metadata": {},
     "output_type": "execute_result"
    }
   ],
   "source": [
    "data[\"entrance\"] = [i.split()[0] if not pd.isna(i) else \"None\" for i in data[\"entrance\"]]\n",
    "data[\"entrance\"]"
   ]
  },
  {
   "cell_type": "code",
   "execution_count": 57,
   "id": "dadf9d67-31d0-4ba1-9a8e-4ba5f49a8911",
   "metadata": {},
   "outputs": [
    {
     "data": {
      "text/plain": [
       "Index(['index', 'address', 'gen_descrip', 'Mức giá', 'house_direction',\n",
       "       'balcony_direction', 'bedroom', 'toilet', 'date', 'exp_date',\n",
       "       'Loại tin', 'Mã tin', 'id', 'legit', 'furniture', 'floor', 'facade',\n",
       "       'entrance', 'city', 'district', 'ward', 'street', 'area', 'price'],\n",
       "      dtype='object')"
      ]
     },
     "execution_count": 57,
     "metadata": {},
     "output_type": "execute_result"
    }
   ],
   "source": [
    "data.columns"
   ]
  },
  {
   "cell_type": "code",
   "execution_count": 58,
   "id": "1292494f-e29e-4429-a83e-5b8ebcefc929",
   "metadata": {},
   "outputs": [],
   "source": [
    "features = ['id', 'date', 'exp_date', 'house_direction', 'balcony_direction', 'bedroom', 'toilet', 'legit', 'furniture', 'floor', 'facade',\n",
    "       'entrance', 'city', 'district', 'ward', 'street', 'area', 'price']"
   ]
  },
  {
   "cell_type": "code",
   "execution_count": 59,
   "id": "fc2f3781-1d1b-495c-9295-f2818112d627",
   "metadata": {},
   "outputs": [
    {
     "data": {
      "text/html": [
       "<div>\n",
       "<style scoped>\n",
       "    .dataframe tbody tr th:only-of-type {\n",
       "        vertical-align: middle;\n",
       "    }\n",
       "\n",
       "    .dataframe tbody tr th {\n",
       "        vertical-align: top;\n",
       "    }\n",
       "\n",
       "    .dataframe thead th {\n",
       "        text-align: right;\n",
       "    }\n",
       "</style>\n",
       "<table border=\"1\" class=\"dataframe\">\n",
       "  <thead>\n",
       "    <tr style=\"text-align: right;\">\n",
       "      <th></th>\n",
       "      <th>id</th>\n",
       "      <th>date</th>\n",
       "      <th>exp_date</th>\n",
       "      <th>house_direction</th>\n",
       "      <th>balcony_direction</th>\n",
       "      <th>bedroom</th>\n",
       "      <th>toilet</th>\n",
       "      <th>legit</th>\n",
       "      <th>furniture</th>\n",
       "      <th>floor</th>\n",
       "      <th>facade</th>\n",
       "      <th>entrance</th>\n",
       "      <th>city</th>\n",
       "      <th>district</th>\n",
       "      <th>ward</th>\n",
       "      <th>street</th>\n",
       "      <th>area</th>\n",
       "      <th>price</th>\n",
       "    </tr>\n",
       "  </thead>\n",
       "  <tbody>\n",
       "    <tr>\n",
       "      <th>0</th>\n",
       "      <td>batdongsan_com_vn_35339744</td>\n",
       "      <td>25/11/2022</td>\n",
       "      <td>05/12/2022</td>\n",
       "      <td>Nam</td>\n",
       "      <td>Bắc</td>\n",
       "      <td>3</td>\n",
       "      <td>2</td>\n",
       "      <td>None</td>\n",
       "      <td></td>\n",
       "      <td>None</td>\n",
       "      <td>None</td>\n",
       "      <td>None</td>\n",
       "      <td>Hà Nội</td>\n",
       "      <td>Tây Hồ</td>\n",
       "      <td>Phường Phú Thượng</td>\n",
       "      <td>None</td>\n",
       "      <td>100.00</td>\n",
       "      <td>4000.000</td>\n",
       "    </tr>\n",
       "    <tr>\n",
       "      <th>1</th>\n",
       "      <td>batdongsan_com_vn_35747475</td>\n",
       "      <td>28/11/2022</td>\n",
       "      <td>08/12/2022</td>\n",
       "      <td>Nam</td>\n",
       "      <td>Bắc</td>\n",
       "      <td>2</td>\n",
       "      <td>2</td>\n",
       "      <td>Sổ đỏ/ Sổ hồng</td>\n",
       "      <td></td>\n",
       "      <td>None</td>\n",
       "      <td>None</td>\n",
       "      <td>None</td>\n",
       "      <td>Hà Nội</td>\n",
       "      <td>Tây Hồ</td>\n",
       "      <td>Phường Phú Thượng</td>\n",
       "      <td>Đường Võ Chí Công</td>\n",
       "      <td>80.74</td>\n",
       "      <td>3496.042</td>\n",
       "    </tr>\n",
       "    <tr>\n",
       "      <th>2</th>\n",
       "      <td>batdongsan_com_vn_35981012</td>\n",
       "      <td>29/11/2022</td>\n",
       "      <td>06/12/2022</td>\n",
       "      <td>None</td>\n",
       "      <td>None</td>\n",
       "      <td>3</td>\n",
       "      <td>3</td>\n",
       "      <td>Sổ đỏ/ Sổ hồng</td>\n",
       "      <td>Đầy đủ</td>\n",
       "      <td>None</td>\n",
       "      <td>None</td>\n",
       "      <td>None</td>\n",
       "      <td>Hà Nội</td>\n",
       "      <td>Cầu Giấy</td>\n",
       "      <td>Phường Yên Hòa</td>\n",
       "      <td>Đường Dương Đình Nghệ</td>\n",
       "      <td>131.00</td>\n",
       "      <td>5900.000</td>\n",
       "    </tr>\n",
       "    <tr>\n",
       "      <th>3</th>\n",
       "      <td>batdongsan_com_vn_35968324</td>\n",
       "      <td>28/11/2022</td>\n",
       "      <td>08/12/2022</td>\n",
       "      <td>None</td>\n",
       "      <td>None</td>\n",
       "      <td>5</td>\n",
       "      <td>None</td>\n",
       "      <td>Sổ đỏ/ Sổ hồng.</td>\n",
       "      <td>Cơ bản.</td>\n",
       "      <td>5</td>\n",
       "      <td>None</td>\n",
       "      <td>None</td>\n",
       "      <td>Hà Nội</td>\n",
       "      <td>Long Biên</td>\n",
       "      <td>Phường Bồ Đề</td>\n",
       "      <td>Đường Bồ Đề</td>\n",
       "      <td>52.00</td>\n",
       "      <td>6750.000</td>\n",
       "    </tr>\n",
       "    <tr>\n",
       "      <th>4</th>\n",
       "      <td>batdongsan_com_vn_35957404</td>\n",
       "      <td>26/11/2022</td>\n",
       "      <td>03/12/2022</td>\n",
       "      <td>None</td>\n",
       "      <td>None</td>\n",
       "      <td>3</td>\n",
       "      <td>2</td>\n",
       "      <td>Sổ đỏ/ Sổ hồng</td>\n",
       "      <td>Nội thất đầy đủ: Thiết bị điện tử(tivi, tủ lạn...</td>\n",
       "      <td>None</td>\n",
       "      <td>None</td>\n",
       "      <td>None</td>\n",
       "      <td>Hà Nội</td>\n",
       "      <td>Nam Từ Liêm</td>\n",
       "      <td>Thị trấn Cầu Diễn</td>\n",
       "      <td>Đường Hàm Nghi</td>\n",
       "      <td>119.00</td>\n",
       "      <td>5800.000</td>\n",
       "    </tr>\n",
       "    <tr>\n",
       "      <th>...</th>\n",
       "      <td>...</td>\n",
       "      <td>...</td>\n",
       "      <td>...</td>\n",
       "      <td>...</td>\n",
       "      <td>...</td>\n",
       "      <td>...</td>\n",
       "      <td>...</td>\n",
       "      <td>...</td>\n",
       "      <td>...</td>\n",
       "      <td>...</td>\n",
       "      <td>...</td>\n",
       "      <td>...</td>\n",
       "      <td>...</td>\n",
       "      <td>...</td>\n",
       "      <td>...</td>\n",
       "      <td>...</td>\n",
       "      <td>...</td>\n",
       "      <td>...</td>\n",
       "    </tr>\n",
       "    <tr>\n",
       "      <th>17049</th>\n",
       "      <td>batdongsan_com_vn_35962926</td>\n",
       "      <td>27/11/2022</td>\n",
       "      <td>07/12/2022</td>\n",
       "      <td>None</td>\n",
       "      <td>None</td>\n",
       "      <td>5</td>\n",
       "      <td>None</td>\n",
       "      <td>Đã có sổ</td>\n",
       "      <td>Đầy đủ</td>\n",
       "      <td>6</td>\n",
       "      <td>None</td>\n",
       "      <td>None</td>\n",
       "      <td>Hà Nội</td>\n",
       "      <td>Long Biên</td>\n",
       "      <td>Phường Bồ Đề</td>\n",
       "      <td>Đường Bồ Đề</td>\n",
       "      <td>70.00</td>\n",
       "      <td>12900.000</td>\n",
       "    </tr>\n",
       "    <tr>\n",
       "      <th>17050</th>\n",
       "      <td>batdongsan_com_vn_35007427</td>\n",
       "      <td>22/11/2022</td>\n",
       "      <td>02/12/2022</td>\n",
       "      <td>None</td>\n",
       "      <td>None</td>\n",
       "      <td>None</td>\n",
       "      <td>None</td>\n",
       "      <td>None</td>\n",
       "      <td></td>\n",
       "      <td>None</td>\n",
       "      <td>None</td>\n",
       "      <td>None</td>\n",
       "      <td>Hà Nội</td>\n",
       "      <td>Hoài Đức</td>\n",
       "      <td>Xã Di Trạch</td>\n",
       "      <td>Đường Quốc lộ 32</td>\n",
       "      <td>100.00</td>\n",
       "      <td>NaN</td>\n",
       "    </tr>\n",
       "    <tr>\n",
       "      <th>17051</th>\n",
       "      <td>batdongsan_com_vn_35397432</td>\n",
       "      <td>21/11/2022</td>\n",
       "      <td>28/11/2022</td>\n",
       "      <td>Tây - Bắc</td>\n",
       "      <td>None</td>\n",
       "      <td>None</td>\n",
       "      <td>None</td>\n",
       "      <td>Sổ đỏ/ Sổ hồng.</td>\n",
       "      <td></td>\n",
       "      <td>None</td>\n",
       "      <td>14 m</td>\n",
       "      <td>60</td>\n",
       "      <td>Hà Nội</td>\n",
       "      <td>Hoài Đức</td>\n",
       "      <td>Xã Vân Canh</td>\n",
       "      <td>None</td>\n",
       "      <td>52.70</td>\n",
       "      <td>NaN</td>\n",
       "    </tr>\n",
       "    <tr>\n",
       "      <th>17052</th>\n",
       "      <td>batdongsan_com_vn_35825328</td>\n",
       "      <td>27/11/2022</td>\n",
       "      <td>07/12/2022</td>\n",
       "      <td>None</td>\n",
       "      <td>None</td>\n",
       "      <td>None</td>\n",
       "      <td>None</td>\n",
       "      <td>Sổ đỏ/ Sổ hồng</td>\n",
       "      <td></td>\n",
       "      <td>None</td>\n",
       "      <td>None</td>\n",
       "      <td>None</td>\n",
       "      <td>Hà Nội</td>\n",
       "      <td>Thạch Thất</td>\n",
       "      <td>Xã Bình Yên</td>\n",
       "      <td>None</td>\n",
       "      <td>1462.00</td>\n",
       "      <td>NaN</td>\n",
       "    </tr>\n",
       "    <tr>\n",
       "      <th>17053</th>\n",
       "      <td>batdongsan_com_vn_35794857</td>\n",
       "      <td>27/11/2022</td>\n",
       "      <td>04/12/2022</td>\n",
       "      <td>Đông - Nam</td>\n",
       "      <td>Tây - Bắc</td>\n",
       "      <td>3</td>\n",
       "      <td>2</td>\n",
       "      <td>Sổ đỏ/ Sổ hồng</td>\n",
       "      <td></td>\n",
       "      <td>None</td>\n",
       "      <td>None</td>\n",
       "      <td>None</td>\n",
       "      <td>Hà Nội</td>\n",
       "      <td>Hai Bà Trưng</td>\n",
       "      <td>Phường Vĩnh Tuy</td>\n",
       "      <td>Đường Minh Khai</td>\n",
       "      <td>98.10</td>\n",
       "      <td>4500.000</td>\n",
       "    </tr>\n",
       "  </tbody>\n",
       "</table>\n",
       "<p>17054 rows × 18 columns</p>\n",
       "</div>"
      ],
      "text/plain": [
       "                               id        date    exp_date house_direction  \\\n",
       "0      batdongsan_com_vn_35339744  25/11/2022  05/12/2022             Nam   \n",
       "1      batdongsan_com_vn_35747475  28/11/2022  08/12/2022             Nam   \n",
       "2      batdongsan_com_vn_35981012  29/11/2022  06/12/2022            None   \n",
       "3      batdongsan_com_vn_35968324  28/11/2022  08/12/2022            None   \n",
       "4      batdongsan_com_vn_35957404  26/11/2022  03/12/2022            None   \n",
       "...                           ...         ...         ...             ...   \n",
       "17049  batdongsan_com_vn_35962926  27/11/2022  07/12/2022            None   \n",
       "17050  batdongsan_com_vn_35007427  22/11/2022  02/12/2022            None   \n",
       "17051  batdongsan_com_vn_35397432  21/11/2022  28/11/2022       Tây - Bắc   \n",
       "17052  batdongsan_com_vn_35825328  27/11/2022  07/12/2022            None   \n",
       "17053  batdongsan_com_vn_35794857  27/11/2022  04/12/2022      Đông - Nam   \n",
       "\n",
       "      balcony_direction bedroom toilet            legit  \\\n",
       "0                   Bắc       3      2             None   \n",
       "1                   Bắc       2      2   Sổ đỏ/ Sổ hồng   \n",
       "2                  None       3      3   Sổ đỏ/ Sổ hồng   \n",
       "3                  None       5   None  Sổ đỏ/ Sổ hồng.   \n",
       "4                  None       3      2   Sổ đỏ/ Sổ hồng   \n",
       "...                 ...     ...    ...              ...   \n",
       "17049              None       5   None         Đã có sổ   \n",
       "17050              None    None   None             None   \n",
       "17051              None    None   None  Sổ đỏ/ Sổ hồng.   \n",
       "17052              None    None   None   Sổ đỏ/ Sổ hồng   \n",
       "17053         Tây - Bắc       3      2   Sổ đỏ/ Sổ hồng   \n",
       "\n",
       "                                               furniture floor facade  \\\n",
       "0                                                         None   None   \n",
       "1                                                         None   None   \n",
       "2                                                 Đầy đủ  None   None   \n",
       "3                                                Cơ bản.     5   None   \n",
       "4      Nội thất đầy đủ: Thiết bị điện tử(tivi, tủ lạn...  None   None   \n",
       "...                                                  ...   ...    ...   \n",
       "17049                                             Đầy đủ     6   None   \n",
       "17050                                                     None   None   \n",
       "17051                                                     None   14 m   \n",
       "17052                                                     None   None   \n",
       "17053                                                     None   None   \n",
       "\n",
       "      entrance    city      district               ward  \\\n",
       "0         None  Hà Nội        Tây Hồ  Phường Phú Thượng   \n",
       "1         None  Hà Nội        Tây Hồ  Phường Phú Thượng   \n",
       "2         None  Hà Nội      Cầu Giấy     Phường Yên Hòa   \n",
       "3         None  Hà Nội     Long Biên       Phường Bồ Đề   \n",
       "4         None  Hà Nội   Nam Từ Liêm  Thị trấn Cầu Diễn   \n",
       "...        ...     ...           ...                ...   \n",
       "17049     None  Hà Nội     Long Biên       Phường Bồ Đề   \n",
       "17050     None  Hà Nội      Hoài Đức        Xã Di Trạch   \n",
       "17051       60  Hà Nội      Hoài Đức        Xã Vân Canh   \n",
       "17052     None  Hà Nội    Thạch Thất        Xã Bình Yên   \n",
       "17053     None  Hà Nội  Hai Bà Trưng   Phường Vĩnh Tuy   \n",
       "\n",
       "                      street     area      price  \n",
       "0                       None   100.00   4000.000  \n",
       "1          Đường Võ Chí Công    80.74   3496.042  \n",
       "2      Đường Dương Đình Nghệ   131.00   5900.000  \n",
       "3                Đường Bồ Đề    52.00   6750.000  \n",
       "4             Đường Hàm Nghi   119.00   5800.000  \n",
       "...                      ...      ...        ...  \n",
       "17049            Đường Bồ Đề    70.00  12900.000  \n",
       "17050       Đường Quốc lộ 32   100.00        NaN  \n",
       "17051                   None    52.70        NaN  \n",
       "17052                   None  1462.00        NaN  \n",
       "17053        Đường Minh Khai    98.10   4500.000  \n",
       "\n",
       "[17054 rows x 18 columns]"
      ]
     },
     "execution_count": 59,
     "metadata": {},
     "output_type": "execute_result"
    }
   ],
   "source": [
    "data[features]"
   ]
  },
  {
   "cell_type": "code",
   "execution_count": 60,
   "id": "0d3e0207-8c19-499f-b5ce-a4be65e260c3",
   "metadata": {},
   "outputs": [],
   "source": [
    "final_data = data[features]\n",
    "final_data = final_data.dropna()"
   ]
  },
  {
   "cell_type": "code",
   "execution_count": 61,
   "id": "e31e596d-53ca-4498-9126-dba1f4733143",
   "metadata": {},
   "outputs": [],
   "source": [
    "final_data.to_csv(\"final_data.csv\", index=False)"
   ]
  },
  {
   "cell_type": "code",
   "execution_count": 31,
   "id": "f8eca675-275c-40ab-ab52-2a524910cff1",
   "metadata": {},
   "outputs": [
    {
     "ename": "KeyError",
     "evalue": "'Price'",
     "output_type": "error",
     "traceback": [
      "\u001b[1;31m---------------------------------------------------------------------------\u001b[0m",
      "\u001b[1;31mKeyError\u001b[0m                                  Traceback (most recent call last)",
      "\u001b[1;32m~\\anaconda3\\envs\\ML_env\\lib\\site-packages\\pandas\\core\\indexes\\base.py\u001b[0m in \u001b[0;36mget_loc\u001b[1;34m(self, key, method, tolerance)\u001b[0m\n\u001b[0;32m   3620\u001b[0m             \u001b[1;32mtry\u001b[0m\u001b[1;33m:\u001b[0m\u001b[1;33m\u001b[0m\u001b[1;33m\u001b[0m\u001b[0m\n\u001b[1;32m-> 3621\u001b[1;33m                 \u001b[1;32mreturn\u001b[0m \u001b[0mself\u001b[0m\u001b[1;33m.\u001b[0m\u001b[0m_engine\u001b[0m\u001b[1;33m.\u001b[0m\u001b[0mget_loc\u001b[0m\u001b[1;33m(\u001b[0m\u001b[0mcasted_key\u001b[0m\u001b[1;33m)\u001b[0m\u001b[1;33m\u001b[0m\u001b[1;33m\u001b[0m\u001b[0m\n\u001b[0m\u001b[0;32m   3622\u001b[0m             \u001b[1;32mexcept\u001b[0m \u001b[0mKeyError\u001b[0m \u001b[1;32mas\u001b[0m \u001b[0merr\u001b[0m\u001b[1;33m:\u001b[0m\u001b[1;33m\u001b[0m\u001b[1;33m\u001b[0m\u001b[0m\n",
      "\u001b[1;32m~\\anaconda3\\envs\\ML_env\\lib\\site-packages\\pandas\\_libs\\index.pyx\u001b[0m in \u001b[0;36mpandas._libs.index.IndexEngine.get_loc\u001b[1;34m()\u001b[0m\n",
      "\u001b[1;32m~\\anaconda3\\envs\\ML_env\\lib\\site-packages\\pandas\\_libs\\index.pyx\u001b[0m in \u001b[0;36mpandas._libs.index.IndexEngine.get_loc\u001b[1;34m()\u001b[0m\n",
      "\u001b[1;32mpandas\\_libs\\hashtable_class_helper.pxi\u001b[0m in \u001b[0;36mpandas._libs.hashtable.PyObjectHashTable.get_item\u001b[1;34m()\u001b[0m\n",
      "\u001b[1;32mpandas\\_libs\\hashtable_class_helper.pxi\u001b[0m in \u001b[0;36mpandas._libs.hashtable.PyObjectHashTable.get_item\u001b[1;34m()\u001b[0m\n",
      "\u001b[1;31mKeyError\u001b[0m: 'Price'",
      "\nThe above exception was the direct cause of the following exception:\n",
      "\u001b[1;31mKeyError\u001b[0m                                  Traceback (most recent call last)",
      "\u001b[1;32m~\\AppData\\Local\\Temp\\ipykernel_1096\\62413230.py\u001b[0m in \u001b[0;36m<cell line: 1>\u001b[1;34m()\u001b[0m\n\u001b[1;32m----> 1\u001b[1;33m \u001b[0mprice\u001b[0m \u001b[1;33m=\u001b[0m \u001b[0mdata\u001b[0m\u001b[1;33m[\u001b[0m\u001b[1;34m\"Price\"\u001b[0m\u001b[1;33m]\u001b[0m\u001b[1;33m.\u001b[0m\u001b[0mdropna\u001b[0m\u001b[1;33m(\u001b[0m\u001b[1;33m)\u001b[0m\u001b[1;33m\u001b[0m\u001b[1;33m\u001b[0m\u001b[0m\n\u001b[0m",
      "\u001b[1;32m~\\anaconda3\\envs\\ML_env\\lib\\site-packages\\pandas\\core\\frame.py\u001b[0m in \u001b[0;36m__getitem__\u001b[1;34m(self, key)\u001b[0m\n\u001b[0;32m   3503\u001b[0m             \u001b[1;32mif\u001b[0m \u001b[0mself\u001b[0m\u001b[1;33m.\u001b[0m\u001b[0mcolumns\u001b[0m\u001b[1;33m.\u001b[0m\u001b[0mnlevels\u001b[0m \u001b[1;33m>\u001b[0m \u001b[1;36m1\u001b[0m\u001b[1;33m:\u001b[0m\u001b[1;33m\u001b[0m\u001b[1;33m\u001b[0m\u001b[0m\n\u001b[0;32m   3504\u001b[0m                 \u001b[1;32mreturn\u001b[0m \u001b[0mself\u001b[0m\u001b[1;33m.\u001b[0m\u001b[0m_getitem_multilevel\u001b[0m\u001b[1;33m(\u001b[0m\u001b[0mkey\u001b[0m\u001b[1;33m)\u001b[0m\u001b[1;33m\u001b[0m\u001b[1;33m\u001b[0m\u001b[0m\n\u001b[1;32m-> 3505\u001b[1;33m             \u001b[0mindexer\u001b[0m \u001b[1;33m=\u001b[0m \u001b[0mself\u001b[0m\u001b[1;33m.\u001b[0m\u001b[0mcolumns\u001b[0m\u001b[1;33m.\u001b[0m\u001b[0mget_loc\u001b[0m\u001b[1;33m(\u001b[0m\u001b[0mkey\u001b[0m\u001b[1;33m)\u001b[0m\u001b[1;33m\u001b[0m\u001b[1;33m\u001b[0m\u001b[0m\n\u001b[0m\u001b[0;32m   3506\u001b[0m             \u001b[1;32mif\u001b[0m \u001b[0mis_integer\u001b[0m\u001b[1;33m(\u001b[0m\u001b[0mindexer\u001b[0m\u001b[1;33m)\u001b[0m\u001b[1;33m:\u001b[0m\u001b[1;33m\u001b[0m\u001b[1;33m\u001b[0m\u001b[0m\n\u001b[0;32m   3507\u001b[0m                 \u001b[0mindexer\u001b[0m \u001b[1;33m=\u001b[0m \u001b[1;33m[\u001b[0m\u001b[0mindexer\u001b[0m\u001b[1;33m]\u001b[0m\u001b[1;33m\u001b[0m\u001b[1;33m\u001b[0m\u001b[0m\n",
      "\u001b[1;32m~\\anaconda3\\envs\\ML_env\\lib\\site-packages\\pandas\\core\\indexes\\base.py\u001b[0m in \u001b[0;36mget_loc\u001b[1;34m(self, key, method, tolerance)\u001b[0m\n\u001b[0;32m   3621\u001b[0m                 \u001b[1;32mreturn\u001b[0m \u001b[0mself\u001b[0m\u001b[1;33m.\u001b[0m\u001b[0m_engine\u001b[0m\u001b[1;33m.\u001b[0m\u001b[0mget_loc\u001b[0m\u001b[1;33m(\u001b[0m\u001b[0mcasted_key\u001b[0m\u001b[1;33m)\u001b[0m\u001b[1;33m\u001b[0m\u001b[1;33m\u001b[0m\u001b[0m\n\u001b[0;32m   3622\u001b[0m             \u001b[1;32mexcept\u001b[0m \u001b[0mKeyError\u001b[0m \u001b[1;32mas\u001b[0m \u001b[0merr\u001b[0m\u001b[1;33m:\u001b[0m\u001b[1;33m\u001b[0m\u001b[1;33m\u001b[0m\u001b[0m\n\u001b[1;32m-> 3623\u001b[1;33m                 \u001b[1;32mraise\u001b[0m \u001b[0mKeyError\u001b[0m\u001b[1;33m(\u001b[0m\u001b[0mkey\u001b[0m\u001b[1;33m)\u001b[0m \u001b[1;32mfrom\u001b[0m \u001b[0merr\u001b[0m\u001b[1;33m\u001b[0m\u001b[1;33m\u001b[0m\u001b[0m\n\u001b[0m\u001b[0;32m   3624\u001b[0m             \u001b[1;32mexcept\u001b[0m \u001b[0mTypeError\u001b[0m\u001b[1;33m:\u001b[0m\u001b[1;33m\u001b[0m\u001b[1;33m\u001b[0m\u001b[0m\n\u001b[0;32m   3625\u001b[0m                 \u001b[1;31m# If we have a listlike key, _check_indexing_error will raise\u001b[0m\u001b[1;33m\u001b[0m\u001b[1;33m\u001b[0m\u001b[0m\n",
      "\u001b[1;31mKeyError\u001b[0m: 'Price'"
     ]
    }
   ],
   "source": [
    "price = data[\"Price\"].dropna()"
   ]
  },
  {
   "cell_type": "code",
   "execution_count": null,
   "id": "0894467c-fe00-4e01-bdc1-93eb19cbfaae",
   "metadata": {},
   "outputs": [],
   "source": [
    "price = price[price != 2.3e8]"
   ]
  },
  {
   "cell_type": "code",
   "execution_count": null,
   "id": "a93b436c-0f1f-4f6b-9806-2c1fb8c3c82c",
   "metadata": {},
   "outputs": [],
   "source": [
    "price.dropna().describe()"
   ]
  },
  {
   "cell_type": "code",
   "execution_count": null,
   "id": "a9b29d55-b57b-4786-a111-b852da2af124",
   "metadata": {},
   "outputs": [],
   "source": [
    "price.value_counts()"
   ]
  },
  {
   "cell_type": "code",
   "execution_count": null,
   "id": "354c11b8-b1e7-43de-b7a5-ee8c44f8ba8e",
   "metadata": {},
   "outputs": [],
   "source": [
    "price.plot.box()"
   ]
  },
  {
   "cell_type": "code",
   "execution_count": null,
   "id": "69ddb44f-7224-4f8b-ab07-c560a349c81f",
   "metadata": {},
   "outputs": [],
   "source": [
    "(price[price < 1.2e4]/1e4).plot.box()"
   ]
  },
  {
   "cell_type": "code",
   "execution_count": null,
   "id": "effcaba5-c0f1-4a9c-afbb-627050be412a",
   "metadata": {},
   "outputs": [],
   "source": [
    "(price[price < 1.2e4]/1e4).plot.hist(bins=200, figsize=(15,5), title=\"Historgram for quantile 75%\")"
   ]
  },
  {
   "cell_type": "code",
   "execution_count": null,
   "id": "0c68bef5-a844-4d7c-8f0d-4d58ecd86faa",
   "metadata": {},
   "outputs": [],
   "source": [
    "data.dropna()"
   ]
  },
  {
   "cell_type": "code",
   "execution_count": null,
   "id": "bb8be9e6-70c5-4a83-8f2b-7faa1e8e29f5",
   "metadata": {},
   "outputs": [],
   "source": [
    "np.isnan(data[\"Số toilet\"][3])\n"
   ]
  },
  {
   "cell_type": "code",
   "execution_count": null,
   "id": "2c406178-f04b-42e5-87e6-022b1529a713",
   "metadata": {},
   "outputs": [],
   "source": []
  }
 ],
 "metadata": {
  "kernelspec": {
   "display_name": "Python 3 (ipykernel)",
   "language": "python",
   "name": "python3"
  },
  "language_info": {
   "codemirror_mode": {
    "name": "ipython",
    "version": 3
   },
   "file_extension": ".py",
   "mimetype": "text/x-python",
   "name": "python",
   "nbconvert_exporter": "python",
   "pygments_lexer": "ipython3",
   "version": "3.10.4"
  }
 },
 "nbformat": 4,
 "nbformat_minor": 5
}
